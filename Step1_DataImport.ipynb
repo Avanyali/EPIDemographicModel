{
 "cells": [
  {
   "cell_type": "code",
   "execution_count": 1,
   "metadata": {
    "ExecuteTime": {
     "end_time": "2021-05-12T01:14:11.514089Z",
     "start_time": "2021-05-12T01:14:09.742557Z"
    }
   },
   "outputs": [],
   "source": [
    "import pandas as pd\n",
    "import numpy as np\n",
    "import seaborn as sns"
   ]
  },
  {
   "cell_type": "code",
   "execution_count": 2,
   "metadata": {
    "ExecuteTime": {
     "end_time": "2021-05-12T01:14:11.624254Z",
     "start_time": "2021-05-12T01:14:11.518093Z"
    }
   },
   "outputs": [],
   "source": [
    "epi = pd.read_csv('data/EPI_data/ObservationData_rqridaf.csv')"
   ]
  },
  {
   "cell_type": "code",
   "execution_count": 3,
   "metadata": {
    "ExecuteTime": {
     "end_time": "2021-05-12T01:14:11.687610Z",
     "start_time": "2021-05-12T01:14:11.627257Z"
    }
   },
   "outputs": [],
   "source": [
    "demo = pd.read_csv('data/Demographic_data/demograpic_data.csv')"
   ]
  },
  {
   "cell_type": "code",
   "execution_count": 4,
   "metadata": {
    "ExecuteTime": {
     "end_time": "2021-05-12T01:14:11.718789Z",
     "start_time": "2021-05-12T01:14:11.688611Z"
    }
   },
   "outputs": [],
   "source": [
    "gdp_pre_16 = pd.read_csv('data/GDP_data/world_gdp.csv')"
   ]
  },
  {
   "cell_type": "code",
   "execution_count": 5,
   "metadata": {
    "ExecuteTime": {
     "end_time": "2021-05-12T01:14:11.749260Z",
     "start_time": "2021-05-12T01:14:11.720794Z"
    }
   },
   "outputs": [],
   "source": [
    "gdp_post_16 = pd.read_csv('data/GDP_data/World_Bank_GDP.csv')"
   ]
  },
  {
   "cell_type": "markdown",
   "metadata": {},
   "source": [
    "***Data Import***"
   ]
  },
  {
   "cell_type": "markdown",
   "metadata": {},
   "source": [
    "- Convert EPI indicators into columns for new data frame"
   ]
  },
  {
   "cell_type": "code",
   "execution_count": 6,
   "metadata": {
    "ExecuteTime": {
     "end_time": "2021-05-12T01:14:11.764272Z",
     "start_time": "2021-05-12T01:14:11.752263Z"
    },
    "tags": []
   },
   "outputs": [],
   "source": [
    "def epi_to_country_data(country_name):\n",
    "    country = epi[epi['location'] == country_name]\n",
    "\n",
    "    indicators = list(country['indicator'].value_counts().to_dict().keys())\n",
    "\n",
    "    min_date = country['Date'].min()\n",
    "    max_date = country['Date'].max()\n",
    "\n",
    "    dates = pd.Series(list(range(min_date, max_date + 1)))\n",
    "    transpose_country = pd.DataFrame()\n",
    "    transpose_country['year'] = dates\n",
    "    transpose_country['country_name'] = country_name\n",
    "\n",
    "    for indicator in indicators:\n",
    "        indicator_df = country[country['indicator'] == indicator]\n",
    "\n",
    "        date_values = {key: None for key in list(range(min_date, max_date + 1))}\n",
    "        for row in indicator_df.iterrows():\n",
    "            date_values[row[1]['Date']] = row[1]['Value']\n",
    "\n",
    "        transpose_country[indicator] = date_values.values()\n",
    "        \n",
    "    return transpose_country"
   ]
  },
  {
   "cell_type": "code",
   "execution_count": 7,
   "metadata": {
    "ExecuteTime": {
     "end_time": "2021-05-12T01:14:11.780288Z",
     "start_time": "2021-05-12T01:14:11.766274Z"
    }
   },
   "outputs": [],
   "source": [
    "best_indicators = [key for key, value in epi['indicator'].value_counts().to_dict().items() if value > 500]"
   ]
  },
  {
   "cell_type": "code",
   "execution_count": 8,
   "metadata": {
    "ExecuteTime": {
     "end_time": "2021-05-12T01:14:11.811541Z",
     "start_time": "2021-05-12T01:14:11.781289Z"
    }
   },
   "outputs": [],
   "source": [
    "epi = epi[epi['indicator'].isin(best_indicators)]"
   ]
  },
  {
   "cell_type": "code",
   "execution_count": 9,
   "metadata": {
    "ExecuteTime": {
     "end_time": "2021-05-12T01:14:26.346829Z",
     "start_time": "2021-05-12T01:14:11.812542Z"
    }
   },
   "outputs": [],
   "source": [
    "epi_new = pd.DataFrame()\n",
    "\n",
    "for country_name in  set(epi['location'].values):\n",
    "    country_df = epi_to_country_data(country_name)\n",
    "    epi_new = pd.concat([epi_new, country_df], ignore_index = True)"
   ]
  },
  {
   "cell_type": "markdown",
   "metadata": {},
   "source": [
    "- Add GDP data."
   ]
  },
  {
   "cell_type": "code",
   "execution_count": 10,
   "metadata": {
    "ExecuteTime": {
     "end_time": "2021-05-12T01:14:28.892438Z",
     "start_time": "2021-05-12T01:14:26.349834Z"
    }
   },
   "outputs": [],
   "source": [
    "epi_new['GDP'] = 0\n",
    "\n",
    "for row in epi_new.iterrows():\n",
    "    index = row[0]\n",
    "    year = row[1]['year']\n",
    "    country_name = row[1]['country_name']\n",
    "    \n",
    "    if year < 2016:\n",
    "        value = gdp_pre_16[gdp_pre_16['Country Name'] == country_name][f'{year}']\n",
    "    elif year < 2020:\n",
    "        value = gdp_post_16[gdp_post_16['Country Name'] == country_name][f'{year} [YR{year}]']\n",
    "    \n",
    "    if(len(list(value.to_dict().values())) > 0):\n",
    "        epi_new.iloc[index, epi_new.columns.get_loc('GDP')] = list(value.to_dict().values())[0]"
   ]
  },
  {
   "cell_type": "code",
   "execution_count": 11,
   "metadata": {
    "ExecuteTime": {
     "end_time": "2021-05-12T01:14:28.908453Z",
     "start_time": "2021-05-12T01:14:28.894440Z"
    }
   },
   "outputs": [
    {
     "data": {
      "text/plain": [
       "0                 285\n",
       "..                 15\n",
       "115000000000.0      9\n",
       "189000000000.0      5\n",
       "199000000000.0      5\n",
       "Name: GDP, dtype: int64"
      ]
     },
     "execution_count": 11,
     "metadata": {},
     "output_type": "execute_result"
    }
   ],
   "source": [
    "epi_new['GDP'].value_counts()[:5]"
   ]
  },
  {
   "cell_type": "code",
   "execution_count": 12,
   "metadata": {
    "ExecuteTime": {
     "end_time": "2021-05-12T01:14:28.923466Z",
     "start_time": "2021-05-12T01:14:28.910455Z"
    }
   },
   "outputs": [],
   "source": [
    "epi_new['GDP'] = epi_new['GDP'].map(lambda x: 0 if x == '..' else x)"
   ]
  },
  {
   "cell_type": "markdown",
   "metadata": {},
   "source": [
    "- Save data."
   ]
  },
  {
   "cell_type": "code",
   "execution_count": 14,
   "metadata": {
    "ExecuteTime": {
     "end_time": "2021-05-12T01:14:34.221717Z",
     "start_time": "2021-05-12T01:14:34.163666Z"
    }
   },
   "outputs": [],
   "source": [
    "epi_new.to_csv('data/dataframes/epi_wrangled.csv', index=False)"
   ]
  },
  {
   "cell_type": "markdown",
   "metadata": {},
   "source": [
    "- To Step 2 ->"
   ]
  }
 ],
 "metadata": {
  "kernelspec": {
   "display_name": "Python 3",
   "language": "python",
   "name": "python3"
  },
  "language_info": {
   "codemirror_mode": {
    "name": "ipython",
    "version": 3
   },
   "file_extension": ".py",
   "mimetype": "text/x-python",
   "name": "python",
   "nbconvert_exporter": "python",
   "pygments_lexer": "ipython3",
   "version": "3.8.5"
  }
 },
 "nbformat": 4,
 "nbformat_minor": 5
}
