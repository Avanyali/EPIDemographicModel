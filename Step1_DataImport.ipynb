{
 "cells": [
  {
   "cell_type": "code",
   "execution_count": 1,
   "id": "35bc3563",
   "metadata": {},
   "outputs": [],
   "source": [
    "import pandas as pd\n",
    "import numpy as np\n",
    "import seaborn as sns"
   ]
  },
  {
   "cell_type": "code",
   "execution_count": 2,
   "id": "3b906c95",
   "metadata": {},
   "outputs": [],
   "source": [
    "epi = pd.read_csv('data/EPI_data/ObservationData_rqridaf.csv')"
   ]
  },
  {
   "cell_type": "code",
   "execution_count": 3,
   "id": "c24d7b7f",
   "metadata": {},
   "outputs": [],
   "source": [
    "demo = pd.read_csv('data/Demographic_data/demograpic_data.csv')"
   ]
  },
  {
   "cell_type": "code",
   "execution_count": 4,
   "id": "4276bf2d",
   "metadata": {},
   "outputs": [],
   "source": [
    "gdp_pre_16 = pd.read_csv('data/GDP_data/world_gdp.csv')"
   ]
  },
  {
   "cell_type": "code",
   "execution_count": 5,
   "id": "384953be",
   "metadata": {},
   "outputs": [],
   "source": [
    "gdp_post_16 = pd.read_csv('data/GDP_data/World_Bank_GDP.csv')"
   ]
  },
  {
   "cell_type": "markdown",
   "id": "7a85dd5e",
   "metadata": {},
   "source": [
    "***Data Import***"
   ]
  },
  {
   "cell_type": "markdown",
   "id": "797853f1",
   "metadata": {},
   "source": [
    "- Convert EPI indicators into columns for new data frame"
   ]
  },
  {
   "cell_type": "code",
   "execution_count": 6,
   "id": "d7c40204",
   "metadata": {
    "tags": []
   },
   "outputs": [],
   "source": [
    "def epi_to_country_data(country_name):\n",
    "    country = epi[epi['location'] == country_name]\n",
    "\n",
    "    indicators = list(country['indicator'].value_counts().to_dict().keys())\n",
    "\n",
    "    min_date = country['Date'].min()\n",
    "    max_date = country['Date'].max()\n",
    "\n",
    "    dates = pd.Series(list(range(min_date, max_date + 1)))\n",
    "    transpose_country = pd.DataFrame()\n",
    "    transpose_country['year'] = dates\n",
    "    transpose_country['country_name'] = country_name\n",
    "\n",
    "    for indicator in indicators:\n",
    "        indicator_df = country[country['indicator'] == indicator]\n",
    "\n",
    "        date_values = {key: None for key in list(range(min_date, max_date + 1))}\n",
    "        for row in indicator_df.iterrows():\n",
    "            date_values[row[1]['Date']] = row[1]['Value']\n",
    "\n",
    "        transpose_country[indicator] = date_values.values()\n",
    "        \n",
    "    return transpose_country"
   ]
  },
  {
   "cell_type": "code",
   "execution_count": 7,
   "id": "bfa5b2c3",
   "metadata": {},
   "outputs": [],
   "source": [
    "best_indicators = [key for key, value in epi['indicator'].value_counts().to_dict().items() if value > 500]"
   ]
  },
  {
   "cell_type": "code",
   "execution_count": 8,
   "id": "6581156c",
   "metadata": {},
   "outputs": [],
   "source": [
    "epi = epi[epi['indicator'].isin(best_indicators)]"
   ]
  },
  {
   "cell_type": "code",
   "execution_count": 9,
   "id": "b0b5eeae",
   "metadata": {},
   "outputs": [],
   "source": [
    "epi_new = pd.DataFrame()\n",
    "\n",
    "for country_name in  set(epi['location'].values):\n",
    "    country_df = epi_to_country_data(country_name)\n",
    "    epi_new = pd.concat([epi_new, country_df], ignore_index = True)"
   ]
  },
  {
   "cell_type": "markdown",
   "id": "b3acf0dc",
   "metadata": {},
   "source": [
    "- Add GDP data."
   ]
  },
  {
   "cell_type": "code",
   "execution_count": 23,
   "id": "c2896d30",
   "metadata": {},
   "outputs": [],
   "source": [
    "epi_new['GDP'] = 0\n",
    "\n",
    "for row in epi_new.iterrows():\n",
    "    index = row[0]\n",
    "    year = row[1]['year']\n",
    "    country_name = row[1]['country_name']\n",
    "    \n",
    "    if year < 2016:\n",
    "        value = gdp_pre_16[gdp_pre_16['Country Name'] == country_name][f'{year}']\n",
    "    elif year < 2020:\n",
    "        value = gdp_post_16[gdp_post_16['Country Name'] == country_name][f'{year} [YR{year}]']\n",
    "    \n",
    "    if(len(list(value.to_dict().values())) > 0):\n",
    "        epi_new.iloc[index, epi_new.columns.get_loc('GDP')] = list(value.to_dict().values())[0]"
   ]
  },
  {
   "cell_type": "code",
   "execution_count": 35,
   "id": "f0067aef",
   "metadata": {},
   "outputs": [
    {
     "data": {
      "text/plain": [
       "0                 285\n",
       "..                 15\n",
       "115000000000.0      9\n",
       "168000000000.0      5\n",
       "101000000000.0      5\n",
       "Name: GDP, dtype: int64"
      ]
     },
     "execution_count": 35,
     "metadata": {},
     "output_type": "execute_result"
    }
   ],
   "source": [
    "epi_new['GDP'].value_counts()[:5]"
   ]
  },
  {
   "cell_type": "code",
   "execution_count": 36,
   "id": "8c0a9790",
   "metadata": {},
   "outputs": [],
   "source": [
    "epi_new['GDP'] = epi_new['GDP'].map(lambda x: 0 if x == '..' else x)"
   ]
  },
  {
   "cell_type": "markdown",
   "id": "60bb2fff",
   "metadata": {},
   "source": [
    "- Save data."
   ]
  },
  {
   "cell_type": "code",
   "execution_count": 38,
   "id": "8c79d9de",
   "metadata": {},
   "outputs": [],
   "source": [
    "epi_new.to_csv('data/dataframes/epi_wrangled.csv')"
   ]
  },
  {
   "cell_type": "markdown",
   "id": "b0f32df0",
   "metadata": {},
   "source": [
    "- To Step 2 ->"
   ]
  }
 ],
 "metadata": {
  "kernelspec": {
   "display_name": "Python 3",
   "language": "python",
   "name": "python3"
  },
  "language_info": {
   "codemirror_mode": {
    "name": "ipython",
    "version": 3
   },
   "file_extension": ".py",
   "mimetype": "text/x-python",
   "name": "python",
   "nbconvert_exporter": "python",
   "pygments_lexer": "ipython3",
   "version": "3.7.6"
  }
 },
 "nbformat": 4,
 "nbformat_minor": 5
}
