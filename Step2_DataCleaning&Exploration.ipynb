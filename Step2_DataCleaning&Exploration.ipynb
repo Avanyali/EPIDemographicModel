{
 "cells": [
  {
   "cell_type": "code",
   "execution_count": 1,
   "id": "ce842225",
   "metadata": {
    "ExecuteTime": {
     "end_time": "2021-05-12T22:58:04.581121Z",
     "start_time": "2021-05-12T22:58:04.137176Z"
    }
   },
   "outputs": [],
   "source": [
    "import pandas as pd\n",
    "import numpy as np\n",
    "import seaborn as sns\n",
    "import matplotlib.pyplot as plt"
   ]
  },
  {
   "cell_type": "markdown",
   "id": "21751828",
   "metadata": {},
   "source": [
    "***Data Cleaning and Exploration***"
   ]
  },
  {
   "cell_type": "code",
   "execution_count": 2,
   "id": "aba5005f",
   "metadata": {
    "ExecuteTime": {
     "end_time": "2021-05-12T22:58:04.612590Z",
     "start_time": "2021-05-12T22:58:04.584113Z"
    }
   },
   "outputs": [],
   "source": [
    "epi = pd.read_csv('data/dataframes/epi_wrangled.csv')"
   ]
  },
  {
   "cell_type": "markdown",
   "id": "fc3dbcd2",
   "metadata": {},
   "source": [
    "- Remove countries with fewer than 5 records."
   ]
  },
  {
   "cell_type": "code",
   "execution_count": 3,
   "id": "ff36f509",
   "metadata": {
    "ExecuteTime": {
     "end_time": "2021-05-12T22:58:04.627841Z",
     "start_time": "2021-05-12T22:58:04.614592Z"
    }
   },
   "outputs": [],
   "source": [
    "high_data = [key for key, value in epi['country_name'].value_counts().to_dict().items() if value >5]"
   ]
  },
  {
   "cell_type": "code",
   "execution_count": 4,
   "id": "a9fa6cf1",
   "metadata": {
    "ExecuteTime": {
     "end_time": "2021-05-12T22:58:04.643880Z",
     "start_time": "2021-05-12T22:58:04.629843Z"
    }
   },
   "outputs": [],
   "source": [
    "epi = epi[epi['country_name'].isin(high_data)]"
   ]
  },
  {
   "cell_type": "code",
   "execution_count": 5,
   "id": "4a135887",
   "metadata": {
    "ExecuteTime": {
     "end_time": "2021-05-12T22:58:04.674907Z",
     "start_time": "2021-05-12T22:58:04.645883Z"
    }
   },
   "outputs": [
    {
     "data": {
      "text/plain": [
       "Turkey                    19\n",
       "Bosnia and Herzegovina    19\n",
       "Canada                    19\n",
       "Moldova                   19\n",
       "Costa Rica                19\n",
       "                          ..\n",
       "Saint Lucia                9\n",
       "Sao Tome and Principe      9\n",
       "Marshall Islands           9\n",
       "Micronesia                 9\n",
       "Maldives                   9\n",
       "Name: country_name, Length: 185, dtype: int64"
      ]
     },
     "execution_count": 5,
     "metadata": {},
     "output_type": "execute_result"
    }
   ],
   "source": [
    "epi['country_name'].value_counts()"
   ]
  },
  {
   "cell_type": "markdown",
   "id": "e8db35a5",
   "metadata": {},
   "source": [
    "- Linearly impute values in place of nulls."
   ]
  },
  {
   "cell_type": "code",
   "execution_count": 6,
   "id": "e3920954",
   "metadata": {
    "ExecuteTime": {
     "end_time": "2021-05-12T22:58:04.689921Z",
     "start_time": "2021-05-12T22:58:04.676910Z"
    }
   },
   "outputs": [],
   "source": [
    "def impute_values(country_name):\n",
    "    country = epi[epi['country_name'] == country_name].copy()\n",
    "    for col in country.columns:\n",
    "        country[col] = country[col].map(lambda x: np.nan if x == 'None' else x)\n",
    "        country[col].interpolate(method='linear',order=1,inplace=True, axis=0)\n",
    "    return country\n",
    "        "
   ]
  },
  {
   "cell_type": "code",
   "execution_count": 7,
   "id": "0778a682",
   "metadata": {
    "ExecuteTime": {
     "end_time": "2021-05-12T22:58:09.074406Z",
     "start_time": "2021-05-12T22:58:04.691923Z"
    }
   },
   "outputs": [],
   "source": [
    "epi_new = pd.DataFrame()\n",
    "\n",
    "for country_name in  set(epi['country_name'].values):\n",
    "    country_df = impute_values(country_name)\n",
    "    epi_new = pd.concat([epi_new, country_df], ignore_index = True)"
   ]
  },
  {
   "cell_type": "code",
   "execution_count": 8,
   "id": "ca0dbcb5",
   "metadata": {
    "ExecuteTime": {
     "end_time": "2021-05-12T22:58:09.089419Z",
     "start_time": "2021-05-12T22:58:09.076407Z"
    }
   },
   "outputs": [],
   "source": [
    "epi = epi_new"
   ]
  },
  {
   "cell_type": "markdown",
   "id": "f6d7eae6",
   "metadata": {},
   "source": [
    "- Drop columns with low value data, identified by visual analysis with respect to time. These columns' values tend to be almost entirely the same for each country on the list."
   ]
  },
  {
   "cell_type": "code",
   "execution_count": 9,
   "id": "9ff88e07",
   "metadata": {
    "ExecuteTime": {
     "end_time": "2021-05-12T22:58:09.105433Z",
     "start_time": "2021-05-12T22:58:09.090420Z"
    }
   },
   "outputs": [],
   "source": [
    "drop_list = ['Climate','Forests', 'Critical Habitat Protection', 'Change in Forest Cover','Change of Trend in Carbon Intensity', 'Coastal Shelf Fishing Pressure',\n",
    "'Trend in CO2 Emissions per KWH','Trend in Carbon Intensity','Climate & Energy']"
   ]
  },
  {
   "cell_type": "code",
   "execution_count": 10,
   "id": "c8da8a0f",
   "metadata": {
    "ExecuteTime": {
     "end_time": "2021-05-12T22:58:09.121448Z",
     "start_time": "2021-05-12T22:58:09.107435Z"
    }
   },
   "outputs": [],
   "source": [
    "epi.drop(columns=drop_list,inplace=True)"
   ]
  },
  {
   "cell_type": "code",
   "execution_count": 11,
   "id": "abbbdabe",
   "metadata": {
    "ExecuteTime": {
     "end_time": "2021-05-12T22:58:26.925877Z",
     "start_time": "2021-05-12T22:58:26.902845Z"
    }
   },
   "outputs": [
    {
     "data": {
      "text/plain": [
       "Marine Protected Areas                             868\n",
       "Fish Stock Status                                  842\n",
       "Fisheries                                          842\n",
       "Agricultural Subsidies                             466\n",
       "Ecosystem Vitality                                  38\n",
       "Environmental Performance Index                     38\n",
       "Water Resources                                     26\n",
       "Wastewater Treatment                                26\n",
       "GDP                                                 13\n",
       "Environmental Health                                12\n",
       "Child Mortality                                      9\n",
       "Access to Electricity                                9\n",
       "Health Impacts                                       9\n",
       "Biodiversity & Habitat                               8\n",
       "Terrestrial biome protection (global weights)        8\n",
       "Agriculture                                          8\n",
       "Terrestrial biome protection (national weights)      8\n",
       "Air Quality                                          4\n",
       "PM2.5 Exceedance                                     4\n",
       "PM2.5 Exposure                                       4\n",
       "dtype: int64"
      ]
     },
     "execution_count": 11,
     "metadata": {},
     "output_type": "execute_result"
    }
   ],
   "source": [
    "nulls = epi.isnull().sum().sort_values(ascending =False)\n",
    "nulls[nulls > 0]"
   ]
  },
  {
   "cell_type": "markdown",
   "id": "c06038f8",
   "metadata": {},
   "source": [
    "- Inspect columns with high null count indicators: Marine Protected Areas, Fisheries, Fish Stock Status and Agricultural Subsidies"
   ]
  },
  {
   "cell_type": "code",
   "execution_count": 12,
   "id": "239988b8",
   "metadata": {},
   "outputs": [],
   "source": [
    "def full_null_column(countries, column_name):\n",
    "    all_null = []\n",
    "    for country in countries:\n",
    "        country_frame = epi[epi['country_name'] == country]\n",
    "        nans = country_frame[column_name].isna().sum()\n",
    "\n",
    "        if nans/country_frame.shape[0] == 1:\n",
    "            all_null.append(country)\n",
    "            \n",
    "    return all_null"
   ]
  },
  {
   "cell_type": "code",
   "execution_count": 13,
   "id": "2582201e",
   "metadata": {
    "ExecuteTime": {
     "end_time": "2021-05-13T00:34:51.830935Z",
     "start_time": "2021-05-13T00:34:51.787377Z"
    }
   },
   "outputs": [],
   "source": [
    "marine_countries = set(epi[epi['Marine Protected Areas'].isnull() == True]['country_name'].values)\n",
    "fish_countries = set(epi[epi['Fisheries'].isnull() == True]['country_name'].values)\n",
    "stock_countries = set(epi[epi['Fish Stock Status'].isnull() == True]['country_name'].values)"
   ]
  },
  {
   "cell_type": "code",
   "execution_count": 14,
   "id": "e6cffbf3",
   "metadata": {},
   "outputs": [],
   "source": [
    "full_marine_nulls = full_null_column(marine_countries, 'Marine Protected Areas')\n",
    "full_fishery_nulls = full_null_column(fish_countries, 'Fisheries')\n",
    "full_stock_nulls = full_null_column(stock_countries, 'Fish Stock Status')"
   ]
  },
  {
   "cell_type": "code",
   "execution_count": 15,
   "id": "0c473328",
   "metadata": {},
   "outputs": [
    {
     "data": {
      "text/plain": [
       "['Brunei Darussalam', 'Guinea-Bissau', 'Maldives']"
      ]
     },
     "execution_count": 15,
     "metadata": {},
     "output_type": "execute_result"
    }
   ],
   "source": [
    "marine_anomalies = [country for country in marine_countries if country not in full_marine_nulls]\n",
    "marine_anomalies"
   ]
  },
  {
   "cell_type": "code",
   "execution_count": 16,
   "id": "141f6fd6",
   "metadata": {},
   "outputs": [
    {
     "data": {
      "text/plain": [
       "['Saint Vincent and the Grenadines']"
      ]
     },
     "execution_count": 16,
     "metadata": {},
     "output_type": "execute_result"
    }
   ],
   "source": [
    "fish_anomalies = [country for country in fish_countries if country not in full_fishery_nulls]\n",
    "fish_anomalies"
   ]
  },
  {
   "cell_type": "code",
   "execution_count": 17,
   "id": "7692a924",
   "metadata": {},
   "outputs": [
    {
     "data": {
      "text/plain": [
       "['Saint Vincent and the Grenadines']"
      ]
     },
     "execution_count": 17,
     "metadata": {},
     "output_type": "execute_result"
    }
   ],
   "source": [
    "stock_anomalies = [country for country in stock_countries if country not in full_stock_nulls]\n",
    "stock_anomalies"
   ]
  },
  {
   "cell_type": "markdown",
   "id": "806b8f47",
   "metadata": {},
   "source": [
    "- Compare lists of countries."
   ]
  },
  {
   "cell_type": "code",
   "execution_count": 18,
   "id": "9d4a2ac8",
   "metadata": {},
   "outputs": [
    {
     "data": {
      "text/plain": [
       "['Rwanda', 'Malawi', 'Dem. Rep. Congo', 'Armenia', 'Uganda']"
      ]
     },
     "execution_count": 18,
     "metadata": {},
     "output_type": "execute_result"
    }
   ],
   "source": [
    "full_marine_nulls[:5]"
   ]
  },
  {
   "cell_type": "code",
   "execution_count": 19,
   "id": "dd5e324c",
   "metadata": {
    "ExecuteTime": {
     "end_time": "2021-05-13T00:34:52.743035Z",
     "start_time": "2021-05-13T00:34:52.738031Z"
    },
    "scrolled": true
   },
   "outputs": [
    {
     "data": {
      "text/plain": [
       "['Rwanda', 'Malawi', 'Dem. Rep. Congo', 'Armenia', 'Uganda']"
      ]
     },
     "execution_count": 19,
     "metadata": {},
     "output_type": "execute_result"
    }
   ],
   "source": [
    "full_fishery_nulls[:5]"
   ]
  },
  {
   "cell_type": "code",
   "execution_count": 20,
   "id": "62e9fd34",
   "metadata": {},
   "outputs": [
    {
     "data": {
      "text/plain": [
       "['Rwanda', 'Malawi', 'Dem. Rep. Congo', 'Armenia', 'Uganda']"
      ]
     },
     "execution_count": 20,
     "metadata": {},
     "output_type": "execute_result"
    }
   ],
   "source": [
    "full_stock_nulls[:5]"
   ]
  },
  {
   "cell_type": "markdown",
   "id": "23484ee4",
   "metadata": {},
   "source": [
    "- All countries with null values for all three identifiers have been determined to be landlocked., and thus cannot have fisheries, marine protected areas, or fish stock status. Filling null values with 0.\n",
    "- Note: there are six countries that do not appear to technically be landlocked, but still show nulls for these values. This is because they either:\n",
    "   - Have a small sliver of land that touches the ocean: Dem. Rep. Conga, Slovenia, and Bosnia and Herzegovina.\n",
    "   - Border the Caspian sea, which is debatably not a true marine sea: Turkmenistan, Kazakhstan, Azerbaijan."
   ]
  },
  {
   "cell_type": "code",
   "execution_count": 28,
   "id": "af8e704b",
   "metadata": {},
   "outputs": [],
   "source": [
    "landlocked = [x for x in marine_countries if x in fish_countries]"
   ]
  },
  {
   "cell_type": "code",
   "execution_count": 29,
   "id": "ee709c58",
   "metadata": {},
   "outputs": [],
   "source": [
    "to_fill = ['Fisheries', 'Marine Protected Areas', 'Fish Stock Status']"
   ]
  },
  {
   "cell_type": "code",
   "execution_count": 30,
   "id": "41077b37",
   "metadata": {},
   "outputs": [],
   "source": [
    "for column in to_fill:\n",
    "    epi.loc[epi['country_name'].isin(landlocked), column] = epi.loc[epi['country_name'].isin(landlocked), column].fillna(0)"
   ]
  },
  {
   "cell_type": "markdown",
   "id": "11595fc8",
   "metadata": {},
   "source": [
    "- Inspect countries with poor marine data that are not landlocked."
   ]
  },
  {
   "cell_type": "code",
   "execution_count": 31,
   "id": "4e7a1781",
   "metadata": {},
   "outputs": [],
   "source": [
    "marine_anomalies.extend(fish_anomalies)\n",
    "anomalies = marine_anomalies"
   ]
  },
  {
   "cell_type": "code",
   "execution_count": 32,
   "id": "559bac39",
   "metadata": {},
   "outputs": [
    {
     "data": {
      "image/png": "[encoded data removed]",
      "text/plain": [
       "<Figure size 432x288 with 1 Axes>"
      ]
     },
     "metadata": {
      "needs_background": "light"
     },
     "output_type": "display_data"
    }
   ],
   "source": [
    "for country in anomalies:\n",
    "    sns.scatterplot(data = epi[epi['country_name'] == country], x = 'year', y = 'Marine Protected Areas')\n",
    "\n",
    "plt.legend(anomalies)\n",
    "plt.title(\"Percent Marine Protected Areas by country reported by Year\")\n",
    "plt.show()"
   ]
  },
  {
   "cell_type": "code",
   "execution_count": 33,
   "id": "d3c6d1ee",
   "metadata": {},
   "outputs": [
    {
     "data": {
      "image/png": "[encoded data removed]",
      "text/plain": [
       "<Figure size 432x288 with 1 Axes>"
      ]
     },
     "metadata": {
      "needs_background": "light"
     },
     "output_type": "display_data"
    }
   ],
   "source": [
    "for country in anomalies:\n",
    "    sns.scatterplot(data = epi[epi['country_name'] == country], x = 'year', y = 'Fish Stock Status')\n",
    "\n",
    "plt.legend(anomalies)\n",
    "plt.title(\"Fish stock status by country reported by Year\")\n",
    "plt.show()"
   ]
  },
  {
   "cell_type": "code",
   "execution_count": 34,
   "id": "ee95e7bd",
   "metadata": {},
   "outputs": [
    {
     "data": {
      "image/png": "[encoded data removed]",
      "text/plain": [
       "<Figure size 432x288 with 1 Axes>"
      ]
     },
     "metadata": {
      "needs_background": "light"
     },
     "output_type": "display_data"
    }
   ],
   "source": [
    "for country in anomalies:\n",
    "    sns.scatterplot(data = epi[epi['country_name'] == country], x = 'year', y = 'Fisheries')\n",
    "\n",
    "plt.legend(anomalies)\n",
    "plt.title(\"Fisheries by country reported by Year\")\n",
    "plt.show()"
   ]
  },
  {
   "cell_type": "markdown",
   "id": "00464eb0",
   "metadata": {},
   "source": [
    "- Decision: drop Saint Vincent and the Grenadines from our data, as we do not feel we can confidently impute null values from only three reported values in two categories (one of which shows significant volatility)."
   ]
  },
  {
   "cell_type": "code",
   "execution_count": 35,
   "id": "02991b90",
   "metadata": {},
   "outputs": [],
   "source": [
    "epi = epi[epi['country_name'] != 'Saint Vincent and the Grenadines']"
   ]
  },
  {
   "cell_type": "markdown",
   "id": "a2edd2bb",
   "metadata": {},
   "source": [
    "- Inspect final column with high null count: Agricultural Subsidies."
   ]
  },
  {
   "cell_type": "code",
   "execution_count": 36,
   "id": "280daddd",
   "metadata": {
    "ExecuteTime": {
     "end_time": "2021-05-13T00:34:54.779060Z",
     "start_time": "2021-05-13T00:34:54.761047Z"
    }
   },
   "outputs": [],
   "source": [
    "ag_countries = set(epi[epi['Agricultural Subsidies'].isnull() == True]['country_name'].values)"
   ]
  },
  {
   "cell_type": "code",
   "execution_count": 37,
   "id": "fc313cd5",
   "metadata": {},
   "outputs": [],
   "source": [
    "full_ag_nulls = full_null_column(ag_countries, 'Agricultural Subsidies')"
   ]
  },
  {
   "cell_type": "code",
   "execution_count": 38,
   "id": "9afd8495",
   "metadata": {},
   "outputs": [
    {
     "data": {
      "text/plain": [
       "True"
      ]
     },
     "execution_count": 38,
     "metadata": {},
     "output_type": "execute_result"
    }
   ],
   "source": [
    "len(ag_countries) == len(full_ag_nulls)"
   ]
  },
  {
   "cell_type": "markdown",
   "id": "14502b0b",
   "metadata": {},
   "source": [
    "- Impute regional values into each country. (TODO)"
   ]
  },
  {
   "cell_type": "code",
   "execution_count": 39,
   "id": "addc9e24",
   "metadata": {},
   "outputs": [
    {
     "name": "stderr",
     "output_type": "stream",
     "text": [
      "C:\\Users\\Avanyali\\anaconda3\\lib\\site-packages\\pandas\\core\\indexing.py:1676: SettingWithCopyWarning: \n",
      "A value is trying to be set on a copy of a slice from a DataFrame.\n",
      "Try using .loc[row_indexer,col_indexer] = value instead\n",
      "\n",
      "See the caveats in the documentation: https://pandas.pydata.org/pandas-docs/stable/user_guide/indexing.html#returning-a-view-versus-a-copy\n",
      "  self._setitem_single_column(ilocs[0], value, pi)\n"
     ]
    }
   ],
   "source": [
    "epi.loc[epi['country_name'].isin(ag_countries), 'Agricultural Subsidies'] = epi.loc[epi['country_name'].isin(ag_countries), 'Agricultural Subsidies'].fillna(-1)"
   ]
  },
  {
   "cell_type": "markdown",
   "id": "22e194c2",
   "metadata": {},
   "source": [
    "- Inspect other less frequently null columns."
   ]
  },
  {
   "cell_type": "code",
   "execution_count": 40,
   "id": "b43f3561",
   "metadata": {},
   "outputs": [],
   "source": [
    "some_nulls = epi.isnull().sum().sort_values(ascending = False)\n",
    "some_nulls = [column for column, value in some_nulls.items() if value > 0]"
   ]
  },
  {
   "cell_type": "code",
   "execution_count": 41,
   "id": "1873b700",
   "metadata": {},
   "outputs": [],
   "source": [
    "countries_present = {}\n",
    "for column in some_nulls:\n",
    "    null_countries = set(epi[epi[column].isnull() == True]['country_name'].values)\n",
    "    for country in null_countries:\n",
    "        if country in countries_present:\n",
    "            countries_present[country] = countries_present[country] + 1\n",
    "        else:\n",
    "            countries_present[country] = 1"
   ]
  },
  {
   "cell_type": "code",
   "execution_count": 42,
   "id": "090b6116",
   "metadata": {},
   "outputs": [
    {
     "data": {
      "text/plain": [
       "{'Brunei Darussalam': 1,\n",
       " 'Guinea-Bissau': 1,\n",
       " 'Maldives': 10,\n",
       " 'Sao Tome and Principe': 7,\n",
       " 'Marshall Islands': 6,\n",
       " 'Micronesia': 5,\n",
       " 'Samoa': 4,\n",
       " 'Saint Lucia': 4,\n",
       " 'Somalia': 1,\n",
       " 'Iraq': 1}"
      ]
     },
     "execution_count": 42,
     "metadata": {},
     "output_type": "execute_result"
    }
   ],
   "source": [
    "countries_present"
   ]
  },
  {
   "cell_type": "code",
   "execution_count": 43,
   "id": "be9fa555",
   "metadata": {},
   "outputs": [],
   "source": [
    "frequent_null_countries = [country for country, value in countries_present.items() if value > 1]"
   ]
  },
  {
   "cell_type": "code",
   "execution_count": 44,
   "id": "b4558454",
   "metadata": {},
   "outputs": [
    {
     "data": {
      "text/plain": [
       "['Maldives',\n",
       " 'Sao Tome and Principe',\n",
       " 'Marshall Islands',\n",
       " 'Micronesia',\n",
       " 'Samoa',\n",
       " 'Saint Lucia']"
      ]
     },
     "execution_count": 44,
     "metadata": {},
     "output_type": "execute_result"
    }
   ],
   "source": [
    "frequent_null_countries"
   ]
  },
  {
   "cell_type": "code",
   "execution_count": 45,
   "id": "b90e176e",
   "metadata": {},
   "outputs": [
    {
     "data": {
      "image/png": "[encoded data removed]",
      "text/plain": [
       "<Figure size 1768.62x180 with 9 Axes>"
      ]
     },
     "metadata": {
      "needs_background": "light"
     },
     "output_type": "display_data"
    }
   ],
   "source": [
    "sns.pairplot(data = epi[epi['country_name'].isin(frequent_null_countries)], y_vars = 'year', x_vars = some_nulls[:9], hue = 'country_name')\n",
    "plt.show()"
   ]
  },
  {
   "cell_type": "code",
   "execution_count": 46,
   "id": "7ebdd195",
   "metadata": {},
   "outputs": [
    {
     "data": {
      "image/png": "[encoded data removed]",
      "text/plain": [
       "<Figure size 1588.62x180 with 8 Axes>"
      ]
     },
     "metadata": {
      "needs_background": "light"
     },
     "output_type": "display_data"
    }
   ],
   "source": [
    "sns.pairplot(data = epi[epi['country_name'].isin(frequent_null_countries)], y_vars = 'year', x_vars = some_nulls[9:], hue = 'country_name')\n",
    "plt.show()"
   ]
  },
  {
   "cell_type": "markdown",
   "id": "34b2f9f3",
   "metadata": {},
   "source": [
    "- For similar reasons to the removal of Saint Vincent and the Grenadines, we are removing the Maldives, Samoa, Micronesia, Saint Lucia, the Marshall Islands, and Sao Tome and Principe from the data set. Reiteration of reasons: some categories contain too few non-null entries to confidently impute from, especially when some show high volatility."
   ]
  },
  {
   "cell_type": "code",
   "execution_count": 47,
   "id": "dcfceb7d",
   "metadata": {
    "ExecuteTime": {
     "end_time": "2021-05-13T00:52:06.388589Z",
     "start_time": "2021-05-13T00:52:06.377578Z"
    }
   },
   "outputs": [],
   "source": [
    "epi = epi[~epi['country_name'].isin(frequent_null_countries)]"
   ]
  },
  {
   "cell_type": "code",
   "execution_count": 48,
   "id": "6f415246",
   "metadata": {
    "ExecuteTime": {
     "end_time": "2021-05-13T00:52:07.472076Z",
     "start_time": "2021-05-13T00:52:07.457063Z"
    }
   },
   "outputs": [
    {
     "data": {
      "text/plain": [
       "Marine Protected Areas    28\n",
       "GDP                       13\n",
       "dtype: int64"
      ]
     },
     "execution_count": 48,
     "metadata": {},
     "output_type": "execute_result"
    }
   ],
   "source": [
    "nulls = epi.isnull().sum().sort_values(ascending =False)\n",
    "nulls[nulls > 0]"
   ]
  },
  {
   "cell_type": "markdown",
   "id": "7bb21ca7",
   "metadata": {},
   "source": [
    "- Impute remaining nulls by padding using existing entries."
   ]
  },
  {
   "cell_type": "code",
   "execution_count": null,
   "id": "29f69df9",
   "metadata": {},
   "outputs": [],
   "source": [
    "#TODO"
   ]
  },
  {
   "cell_type": "markdown",
   "id": "e192e87b",
   "metadata": {},
   "source": [
    "- TODO: Somalia?"
   ]
  },
  {
   "cell_type": "code",
   "execution_count": 49,
   "id": "a9856a5b",
   "metadata": {},
   "outputs": [
    {
     "data": {
      "text/html": [
       "<div>\n",
       "<style scoped>\n",
       "    .dataframe tbody tr th:only-of-type {\n",
       "        vertical-align: middle;\n",
       "    }\n",
       "\n",
       "    .dataframe tbody tr th {\n",
       "        vertical-align: top;\n",
       "    }\n",
       "\n",
       "    .dataframe thead th {\n",
       "        text-align: right;\n",
       "    }\n",
       "</style>\n",
       "<table border=\"1\" class=\"dataframe\">\n",
       "  <thead>\n",
       "    <tr style=\"text-align: right;\">\n",
       "      <th></th>\n",
       "      <th>year</th>\n",
       "      <th>country_name</th>\n",
       "      <th>Unsafe sanitation</th>\n",
       "      <th>Sanitation &amp; Drinking Water</th>\n",
       "      <th>Terrestrial biome protection (national weights)</th>\n",
       "      <th>PM2.5 Exposure</th>\n",
       "      <th>Unsafe drinking water</th>\n",
       "      <th>Water Resources</th>\n",
       "      <th>Ecosystem Vitality</th>\n",
       "      <th>Agriculture</th>\n",
       "      <th>...</th>\n",
       "      <th>Health Impacts</th>\n",
       "      <th>Household Air Quality</th>\n",
       "      <th>Access to Electricity</th>\n",
       "      <th>Pesticide Regulation</th>\n",
       "      <th>Agricultural Subsidies</th>\n",
       "      <th>Child Mortality</th>\n",
       "      <th>Fisheries</th>\n",
       "      <th>Marine Protected Areas</th>\n",
       "      <th>Fish Stock Status</th>\n",
       "      <th>GDP</th>\n",
       "    </tr>\n",
       "  </thead>\n",
       "  <tbody>\n",
       "    <tr>\n",
       "      <th>489</th>\n",
       "      <td>2002</td>\n",
       "      <td>Iraq</td>\n",
       "      <td>28.53</td>\n",
       "      <td>28.26</td>\n",
       "      <td>0.00</td>\n",
       "      <td>80.67</td>\n",
       "      <td>27.98</td>\n",
       "      <td>8.29</td>\n",
       "      <td>16.98</td>\n",
       "      <td>50.0</td>\n",
       "      <td>...</td>\n",
       "      <td>60.95</td>\n",
       "      <td>96.8</td>\n",
       "      <td>94.8</td>\n",
       "      <td>0.0</td>\n",
       "      <td>100.0</td>\n",
       "      <td>60.95</td>\n",
       "      <td>0.0</td>\n",
       "      <td>0.0</td>\n",
       "      <td>0.0</td>\n",
       "      <td>NaN</td>\n",
       "    </tr>\n",
       "    <tr>\n",
       "      <th>490</th>\n",
       "      <td>2003</td>\n",
       "      <td>Iraq</td>\n",
       "      <td>29.25</td>\n",
       "      <td>28.86</td>\n",
       "      <td>0.00</td>\n",
       "      <td>88.01</td>\n",
       "      <td>28.46</td>\n",
       "      <td>8.29</td>\n",
       "      <td>16.98</td>\n",
       "      <td>50.0</td>\n",
       "      <td>...</td>\n",
       "      <td>62.22</td>\n",
       "      <td>97.2</td>\n",
       "      <td>95.2</td>\n",
       "      <td>0.0</td>\n",
       "      <td>100.0</td>\n",
       "      <td>62.22</td>\n",
       "      <td>0.0</td>\n",
       "      <td>0.0</td>\n",
       "      <td>0.0</td>\n",
       "      <td>NaN</td>\n",
       "    </tr>\n",
       "    <tr>\n",
       "      <th>3334</th>\n",
       "      <td>2002</td>\n",
       "      <td>Somalia</td>\n",
       "      <td>2.14</td>\n",
       "      <td>1.07</td>\n",
       "      <td>3.43</td>\n",
       "      <td>100.00</td>\n",
       "      <td>0.00</td>\n",
       "      <td>3.96</td>\n",
       "      <td>6.04</td>\n",
       "      <td>50.0</td>\n",
       "      <td>...</td>\n",
       "      <td>14.01</td>\n",
       "      <td>2.6</td>\n",
       "      <td>26.6</td>\n",
       "      <td>0.0</td>\n",
       "      <td>100.0</td>\n",
       "      <td>14.01</td>\n",
       "      <td>0.0</td>\n",
       "      <td>0.0</td>\n",
       "      <td>0.0</td>\n",
       "      <td>NaN</td>\n",
       "    </tr>\n",
       "    <tr>\n",
       "      <th>3335</th>\n",
       "      <td>2003</td>\n",
       "      <td>Somalia</td>\n",
       "      <td>2.18</td>\n",
       "      <td>1.09</td>\n",
       "      <td>3.43</td>\n",
       "      <td>100.00</td>\n",
       "      <td>0.00</td>\n",
       "      <td>3.96</td>\n",
       "      <td>6.04</td>\n",
       "      <td>50.0</td>\n",
       "      <td>...</td>\n",
       "      <td>14.41</td>\n",
       "      <td>2.9</td>\n",
       "      <td>26.9</td>\n",
       "      <td>0.0</td>\n",
       "      <td>100.0</td>\n",
       "      <td>14.41</td>\n",
       "      <td>0.0</td>\n",
       "      <td>0.0</td>\n",
       "      <td>0.0</td>\n",
       "      <td>NaN</td>\n",
       "    </tr>\n",
       "    <tr>\n",
       "      <th>3336</th>\n",
       "      <td>2004</td>\n",
       "      <td>Somalia</td>\n",
       "      <td>2.21</td>\n",
       "      <td>1.11</td>\n",
       "      <td>3.43</td>\n",
       "      <td>100.00</td>\n",
       "      <td>0.00</td>\n",
       "      <td>3.96</td>\n",
       "      <td>6.04</td>\n",
       "      <td>50.0</td>\n",
       "      <td>...</td>\n",
       "      <td>14.82</td>\n",
       "      <td>3.2</td>\n",
       "      <td>27.2</td>\n",
       "      <td>0.0</td>\n",
       "      <td>100.0</td>\n",
       "      <td>14.82</td>\n",
       "      <td>0.0</td>\n",
       "      <td>0.0</td>\n",
       "      <td>0.0</td>\n",
       "      <td>NaN</td>\n",
       "    </tr>\n",
       "    <tr>\n",
       "      <th>3337</th>\n",
       "      <td>2005</td>\n",
       "      <td>Somalia</td>\n",
       "      <td>2.25</td>\n",
       "      <td>1.13</td>\n",
       "      <td>3.43</td>\n",
       "      <td>100.00</td>\n",
       "      <td>0.00</td>\n",
       "      <td>3.96</td>\n",
       "      <td>6.04</td>\n",
       "      <td>50.0</td>\n",
       "      <td>...</td>\n",
       "      <td>15.25</td>\n",
       "      <td>3.5</td>\n",
       "      <td>27.5</td>\n",
       "      <td>0.0</td>\n",
       "      <td>100.0</td>\n",
       "      <td>15.25</td>\n",
       "      <td>0.0</td>\n",
       "      <td>0.0</td>\n",
       "      <td>0.0</td>\n",
       "      <td>NaN</td>\n",
       "    </tr>\n",
       "    <tr>\n",
       "      <th>3338</th>\n",
       "      <td>2006</td>\n",
       "      <td>Somalia</td>\n",
       "      <td>2.30</td>\n",
       "      <td>1.15</td>\n",
       "      <td>3.43</td>\n",
       "      <td>100.00</td>\n",
       "      <td>0.00</td>\n",
       "      <td>3.96</td>\n",
       "      <td>6.04</td>\n",
       "      <td>50.0</td>\n",
       "      <td>...</td>\n",
       "      <td>15.71</td>\n",
       "      <td>3.8</td>\n",
       "      <td>27.8</td>\n",
       "      <td>0.0</td>\n",
       "      <td>100.0</td>\n",
       "      <td>15.71</td>\n",
       "      <td>0.0</td>\n",
       "      <td>0.0</td>\n",
       "      <td>0.0</td>\n",
       "      <td>NaN</td>\n",
       "    </tr>\n",
       "    <tr>\n",
       "      <th>3339</th>\n",
       "      <td>2007</td>\n",
       "      <td>Somalia</td>\n",
       "      <td>2.35</td>\n",
       "      <td>1.18</td>\n",
       "      <td>3.43</td>\n",
       "      <td>100.00</td>\n",
       "      <td>0.00</td>\n",
       "      <td>3.96</td>\n",
       "      <td>6.04</td>\n",
       "      <td>50.0</td>\n",
       "      <td>...</td>\n",
       "      <td>16.18</td>\n",
       "      <td>4.1</td>\n",
       "      <td>28.1</td>\n",
       "      <td>0.0</td>\n",
       "      <td>100.0</td>\n",
       "      <td>16.18</td>\n",
       "      <td>0.0</td>\n",
       "      <td>0.0</td>\n",
       "      <td>0.0</td>\n",
       "      <td>NaN</td>\n",
       "    </tr>\n",
       "    <tr>\n",
       "      <th>3340</th>\n",
       "      <td>2008</td>\n",
       "      <td>Somalia</td>\n",
       "      <td>2.41</td>\n",
       "      <td>1.20</td>\n",
       "      <td>3.43</td>\n",
       "      <td>100.00</td>\n",
       "      <td>0.00</td>\n",
       "      <td>3.96</td>\n",
       "      <td>6.04</td>\n",
       "      <td>50.0</td>\n",
       "      <td>...</td>\n",
       "      <td>16.65</td>\n",
       "      <td>4.4</td>\n",
       "      <td>28.4</td>\n",
       "      <td>0.0</td>\n",
       "      <td>100.0</td>\n",
       "      <td>16.65</td>\n",
       "      <td>0.0</td>\n",
       "      <td>0.0</td>\n",
       "      <td>0.0</td>\n",
       "      <td>NaN</td>\n",
       "    </tr>\n",
       "    <tr>\n",
       "      <th>3341</th>\n",
       "      <td>2009</td>\n",
       "      <td>Somalia</td>\n",
       "      <td>2.47</td>\n",
       "      <td>1.23</td>\n",
       "      <td>3.43</td>\n",
       "      <td>100.00</td>\n",
       "      <td>0.00</td>\n",
       "      <td>3.96</td>\n",
       "      <td>6.04</td>\n",
       "      <td>50.0</td>\n",
       "      <td>...</td>\n",
       "      <td>17.11</td>\n",
       "      <td>4.7</td>\n",
       "      <td>28.7</td>\n",
       "      <td>0.0</td>\n",
       "      <td>100.0</td>\n",
       "      <td>17.11</td>\n",
       "      <td>0.0</td>\n",
       "      <td>0.0</td>\n",
       "      <td>0.0</td>\n",
       "      <td>NaN</td>\n",
       "    </tr>\n",
       "    <tr>\n",
       "      <th>3342</th>\n",
       "      <td>2010</td>\n",
       "      <td>Somalia</td>\n",
       "      <td>2.52</td>\n",
       "      <td>1.26</td>\n",
       "      <td>3.43</td>\n",
       "      <td>100.00</td>\n",
       "      <td>0.00</td>\n",
       "      <td>3.96</td>\n",
       "      <td>6.50</td>\n",
       "      <td>56.0</td>\n",
       "      <td>...</td>\n",
       "      <td>17.58</td>\n",
       "      <td>5.0</td>\n",
       "      <td>29.0</td>\n",
       "      <td>12.0</td>\n",
       "      <td>100.0</td>\n",
       "      <td>17.58</td>\n",
       "      <td>0.0</td>\n",
       "      <td>0.0</td>\n",
       "      <td>0.0</td>\n",
       "      <td>NaN</td>\n",
       "    </tr>\n",
       "    <tr>\n",
       "      <th>3343</th>\n",
       "      <td>2011</td>\n",
       "      <td>Somalia</td>\n",
       "      <td>2.58</td>\n",
       "      <td>1.29</td>\n",
       "      <td>3.43</td>\n",
       "      <td>100.00</td>\n",
       "      <td>0.00</td>\n",
       "      <td>3.96</td>\n",
       "      <td>6.50</td>\n",
       "      <td>56.0</td>\n",
       "      <td>...</td>\n",
       "      <td>18.06</td>\n",
       "      <td>5.0</td>\n",
       "      <td>29.0</td>\n",
       "      <td>12.0</td>\n",
       "      <td>100.0</td>\n",
       "      <td>18.06</td>\n",
       "      <td>0.0</td>\n",
       "      <td>0.0</td>\n",
       "      <td>0.0</td>\n",
       "      <td>NaN</td>\n",
       "    </tr>\n",
       "    <tr>\n",
       "      <th>3344</th>\n",
       "      <td>2012</td>\n",
       "      <td>Somalia</td>\n",
       "      <td>2.58</td>\n",
       "      <td>1.29</td>\n",
       "      <td>3.43</td>\n",
       "      <td>100.00</td>\n",
       "      <td>0.00</td>\n",
       "      <td>3.96</td>\n",
       "      <td>6.50</td>\n",
       "      <td>56.0</td>\n",
       "      <td>...</td>\n",
       "      <td>18.55</td>\n",
       "      <td>5.0</td>\n",
       "      <td>29.0</td>\n",
       "      <td>12.0</td>\n",
       "      <td>100.0</td>\n",
       "      <td>18.55</td>\n",
       "      <td>0.0</td>\n",
       "      <td>0.0</td>\n",
       "      <td>0.0</td>\n",
       "      <td>NaN</td>\n",
       "    </tr>\n",
       "  </tbody>\n",
       "</table>\n",
       "<p>13 rows × 27 columns</p>\n",
       "</div>"
      ],
      "text/plain": [
       "      year country_name  Unsafe sanitation  Sanitation & Drinking Water  \\\n",
       "489   2002         Iraq              28.53                        28.26   \n",
       "490   2003         Iraq              29.25                        28.86   \n",
       "3334  2002      Somalia               2.14                         1.07   \n",
       "3335  2003      Somalia               2.18                         1.09   \n",
       "3336  2004      Somalia               2.21                         1.11   \n",
       "3337  2005      Somalia               2.25                         1.13   \n",
       "3338  2006      Somalia               2.30                         1.15   \n",
       "3339  2007      Somalia               2.35                         1.18   \n",
       "3340  2008      Somalia               2.41                         1.20   \n",
       "3341  2009      Somalia               2.47                         1.23   \n",
       "3342  2010      Somalia               2.52                         1.26   \n",
       "3343  2011      Somalia               2.58                         1.29   \n",
       "3344  2012      Somalia               2.58                         1.29   \n",
       "\n",
       "      Terrestrial biome protection (national weights)  PM2.5 Exposure  \\\n",
       "489                                              0.00           80.67   \n",
       "490                                              0.00           88.01   \n",
       "3334                                             3.43          100.00   \n",
       "3335                                             3.43          100.00   \n",
       "3336                                             3.43          100.00   \n",
       "3337                                             3.43          100.00   \n",
       "3338                                             3.43          100.00   \n",
       "3339                                             3.43          100.00   \n",
       "3340                                             3.43          100.00   \n",
       "3341                                             3.43          100.00   \n",
       "3342                                             3.43          100.00   \n",
       "3343                                             3.43          100.00   \n",
       "3344                                             3.43          100.00   \n",
       "\n",
       "      Unsafe drinking water  Water Resources  Ecosystem Vitality  Agriculture  \\\n",
       "489                   27.98             8.29               16.98         50.0   \n",
       "490                   28.46             8.29               16.98         50.0   \n",
       "3334                   0.00             3.96                6.04         50.0   \n",
       "3335                   0.00             3.96                6.04         50.0   \n",
       "3336                   0.00             3.96                6.04         50.0   \n",
       "3337                   0.00             3.96                6.04         50.0   \n",
       "3338                   0.00             3.96                6.04         50.0   \n",
       "3339                   0.00             3.96                6.04         50.0   \n",
       "3340                   0.00             3.96                6.04         50.0   \n",
       "3341                   0.00             3.96                6.04         50.0   \n",
       "3342                   0.00             3.96                6.50         56.0   \n",
       "3343                   0.00             3.96                6.50         56.0   \n",
       "3344                   0.00             3.96                6.50         56.0   \n",
       "\n",
       "      ...  Health Impacts  Household Air Quality  Access to Electricity  \\\n",
       "489   ...           60.95                   96.8                   94.8   \n",
       "490   ...           62.22                   97.2                   95.2   \n",
       "3334  ...           14.01                    2.6                   26.6   \n",
       "3335  ...           14.41                    2.9                   26.9   \n",
       "3336  ...           14.82                    3.2                   27.2   \n",
       "3337  ...           15.25                    3.5                   27.5   \n",
       "3338  ...           15.71                    3.8                   27.8   \n",
       "3339  ...           16.18                    4.1                   28.1   \n",
       "3340  ...           16.65                    4.4                   28.4   \n",
       "3341  ...           17.11                    4.7                   28.7   \n",
       "3342  ...           17.58                    5.0                   29.0   \n",
       "3343  ...           18.06                    5.0                   29.0   \n",
       "3344  ...           18.55                    5.0                   29.0   \n",
       "\n",
       "      Pesticide Regulation  Agricultural Subsidies  Child Mortality  \\\n",
       "489                    0.0                   100.0            60.95   \n",
       "490                    0.0                   100.0            62.22   \n",
       "3334                   0.0                   100.0            14.01   \n",
       "3335                   0.0                   100.0            14.41   \n",
       "3336                   0.0                   100.0            14.82   \n",
       "3337                   0.0                   100.0            15.25   \n",
       "3338                   0.0                   100.0            15.71   \n",
       "3339                   0.0                   100.0            16.18   \n",
       "3340                   0.0                   100.0            16.65   \n",
       "3341                   0.0                   100.0            17.11   \n",
       "3342                  12.0                   100.0            17.58   \n",
       "3343                  12.0                   100.0            18.06   \n",
       "3344                  12.0                   100.0            18.55   \n",
       "\n",
       "      Fisheries  Marine Protected Areas  Fish Stock Status  GDP  \n",
       "489         0.0                     0.0                0.0  NaN  \n",
       "490         0.0                     0.0                0.0  NaN  \n",
       "3334        0.0                     0.0                0.0  NaN  \n",
       "3335        0.0                     0.0                0.0  NaN  \n",
       "3336        0.0                     0.0                0.0  NaN  \n",
       "3337        0.0                     0.0                0.0  NaN  \n",
       "3338        0.0                     0.0                0.0  NaN  \n",
       "3339        0.0                     0.0                0.0  NaN  \n",
       "3340        0.0                     0.0                0.0  NaN  \n",
       "3341        0.0                     0.0                0.0  NaN  \n",
       "3342        0.0                     0.0                0.0  NaN  \n",
       "3343        0.0                     0.0                0.0  NaN  \n",
       "3344        0.0                     0.0                0.0  NaN  \n",
       "\n",
       "[13 rows x 27 columns]"
      ]
     },
     "execution_count": 49,
     "metadata": {},
     "output_type": "execute_result"
    }
   ],
   "source": [
    "epi[epi['GDP'].isnull() == True]"
   ]
  },
  {
   "cell_type": "code",
   "execution_count": null,
   "id": "164721fb",
   "metadata": {},
   "outputs": [],
   "source": []
  }
 ],
 "metadata": {
  "kernelspec": {
   "display_name": "Python 3",
   "language": "python",
   "name": "python3"
  },
  "language_info": {
   "codemirror_mode": {
    "name": "ipython",
    "version": 3
   },
   "file_extension": ".py",
   "mimetype": "text/x-python",
   "name": "python",
   "nbconvert_exporter": "python",
   "pygments_lexer": "ipython3",
   "version": "3.7.6"
  }
 },
 "nbformat": 4,
 "nbformat_minor": 5
}
