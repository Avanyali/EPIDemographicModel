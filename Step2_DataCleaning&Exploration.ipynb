{
 "cells": [
  {
   "cell_type": "code",
   "execution_count": 1,
   "id": "611fcb22",
   "metadata": {
    "ExecuteTime": {
     "end_time": "2021-05-13T16:58:00.805371Z",
     "start_time": "2021-05-13T16:57:58.282867Z"
    }
   },
   "outputs": [],
   "source": [
    "import pandas as pd\n",
    "import numpy as np\n",
    "import seaborn as sns\n",
    "import matplotlib.pyplot as plt"
   ]
  },
  {
   "cell_type": "markdown",
   "id": "c351893f",
   "metadata": {},
   "source": [
    "***Data Cleaning and Exploration***"
   ]
  },
  {
   "cell_type": "code",
   "execution_count": 2,
   "id": "ce92f824",
   "metadata": {
    "ExecuteTime": {
     "end_time": "2021-05-13T16:58:00.835398Z",
     "start_time": "2021-05-13T16:58:00.807373Z"
    }
   },
   "outputs": [],
   "source": [
    "epi = pd.read_csv('data/dataframes/epi_wrangled.csv')"
   ]
  },
  {
   "cell_type": "markdown",
   "id": "d16e3d65",
   "metadata": {},
   "source": [
    "- Remove countries with fewer than 5 records."
   ]
  },
  {
   "cell_type": "code",
   "execution_count": 3,
   "id": "d8efd4e8",
   "metadata": {
    "ExecuteTime": {
     "end_time": "2021-05-13T16:58:00.850412Z",
     "start_time": "2021-05-13T16:58:00.836398Z"
    }
   },
   "outputs": [],
   "source": [
    "high_data = [key for key, value in epi['country_name'].value_counts().to_dict().items() if value >5]"
   ]
  },
  {
   "cell_type": "code",
   "execution_count": 4,
   "id": "4a3dfae8",
   "metadata": {
    "ExecuteTime": {
     "end_time": "2021-05-13T16:58:00.866425Z",
     "start_time": "2021-05-13T16:58:00.852414Z"
    }
   },
   "outputs": [],
   "source": [
    "epi = epi[epi['country_name'].isin(high_data)]"
   ]
  },
  {
   "cell_type": "code",
   "execution_count": 5,
   "id": "a998a7cb",
   "metadata": {
    "ExecuteTime": {
     "end_time": "2021-05-13T16:58:00.882440Z",
     "start_time": "2021-05-13T16:58:00.868428Z"
    }
   },
   "outputs": [
    {
     "data": {
      "text/plain": [
       "Ghana                               19\n",
       "Haiti                               19\n",
       "Afghanistan                         19\n",
       "Portugal                            19\n",
       "Madagascar                          19\n",
       "                                    ..\n",
       "Saint Vincent and the Grenadines     9\n",
       "Marshall Islands                     9\n",
       "Samoa                                9\n",
       "Sao Tome and Principe                9\n",
       "Maldives                             9\n",
       "Name: country_name, Length: 185, dtype: int64"
      ]
     },
     "execution_count": 5,
     "metadata": {},
     "output_type": "execute_result"
    }
   ],
   "source": [
    "epi['country_name'].value_counts()"
   ]
  },
  {
   "cell_type": "markdown",
   "id": "93faa1fb",
   "metadata": {},
   "source": [
    "- Linearly impute values in place of nulls."
   ]
  },
  {
   "cell_type": "code",
   "execution_count": 6,
   "id": "a33c5100",
   "metadata": {
    "ExecuteTime": {
     "end_time": "2021-05-13T16:58:00.898454Z",
     "start_time": "2021-05-13T16:58:00.884441Z"
    }
   },
   "outputs": [],
   "source": [
    "def impute_values(country_name):\n",
    "    country = epi[epi['country_name'] == country_name].copy()\n",
    "    for col in country.columns:\n",
    "        country[col] = country[col].map(lambda x: np.nan if x == 'None' else x)\n",
    "        country[col].interpolate(method='linear',order=1,inplace=True, axis=0)\n",
    "    return country\n",
    "        "
   ]
  },
  {
   "cell_type": "code",
   "execution_count": 7,
   "id": "d0ad1bf1",
   "metadata": {
    "ExecuteTime": {
     "end_time": "2021-05-13T16:58:05.337524Z",
     "start_time": "2021-05-13T16:58:00.901456Z"
    }
   },
   "outputs": [],
   "source": [
    "epi_new = pd.DataFrame()\n",
    "\n",
    "for country_name in  set(epi['country_name'].values):\n",
    "    country_df = impute_values(country_name)\n",
    "    epi_new = pd.concat([epi_new, country_df], ignore_index = True)"
   ]
  },
  {
   "cell_type": "code",
   "execution_count": 8,
   "id": "8b12eb3a",
   "metadata": {
    "ExecuteTime": {
     "end_time": "2021-05-13T16:58:05.352537Z",
     "start_time": "2021-05-13T16:58:05.340526Z"
    }
   },
   "outputs": [],
   "source": [
    "epi = epi_new"
   ]
  },
  {
   "cell_type": "markdown",
   "id": "4897674e",
   "metadata": {},
   "source": [
    "- Drop columns with low value data, identified by visual analysis with respect to time. These columns' values tend to be almost entirely the same for each country on the list."
   ]
  },
  {
   "cell_type": "code",
   "execution_count": 9,
   "id": "80b415ee",
   "metadata": {
    "ExecuteTime": {
     "end_time": "2021-05-13T16:58:05.368551Z",
     "start_time": "2021-05-13T16:58:05.354539Z"
    }
   },
   "outputs": [],
   "source": [
    "drop_list = ['Climate','Forests', 'Critical Habitat Protection', 'Change in Forest Cover','Change of Trend in Carbon Intensity', 'Coastal Shelf Fishing Pressure',\n",
    "'Trend in CO2 Emissions per KWH','Trend in Carbon Intensity','Climate & Energy']"
   ]
  },
  {
   "cell_type": "code",
   "execution_count": 10,
   "id": "3f42f4ef",
   "metadata": {
    "ExecuteTime": {
     "end_time": "2021-05-13T16:58:05.383564Z",
     "start_time": "2021-05-13T16:58:05.371560Z"
    }
   },
   "outputs": [],
   "source": [
    "epi.drop(columns=drop_list,inplace=True)"
   ]
  },
  {
   "cell_type": "code",
   "execution_count": 11,
   "id": "7bf0a4a6",
   "metadata": {
    "ExecuteTime": {
     "end_time": "2021-05-13T16:58:05.414592Z",
     "start_time": "2021-05-13T16:58:05.385566Z"
    }
   },
   "outputs": [
    {
     "data": {
      "text/plain": [
       "Marine Protected Areas                             868\n",
       "Fish Stock Status                                  842\n",
       "Fisheries                                          842\n",
       "Agricultural Subsidies                             466\n",
       "Ecosystem Vitality                                  38\n",
       "Environmental Performance Index                     38\n",
       "Water Resources                                     26\n",
       "Wastewater Treatment                                26\n",
       "GDP                                                 13\n",
       "Environmental Health                                12\n",
       "Child Mortality                                      9\n",
       "Access to Electricity                                9\n",
       "Health Impacts                                       9\n",
       "Biodiversity & Habitat                               8\n",
       "Terrestrial biome protection (global weights)        8\n",
       "Agriculture                                          8\n",
       "Terrestrial biome protection (national weights)      8\n",
       "Air Quality                                          4\n",
       "PM2.5 Exceedance                                     4\n",
       "PM2.5 Exposure                                       4\n",
       "dtype: int64"
      ]
     },
     "execution_count": 11,
     "metadata": {},
     "output_type": "execute_result"
    }
   ],
   "source": [
    "nulls = epi.isnull().sum().sort_values(ascending =False)\n",
    "nulls[nulls > 0]"
   ]
  },
  {
   "cell_type": "markdown",
   "id": "1e6004b6",
   "metadata": {},
   "source": [
    "- Inspect columns with high null count indicators: Marine Protected Areas, Fisheries, Fish Stock Status and Agricultural Subsidies"
   ]
  },
  {
   "cell_type": "code",
   "execution_count": 12,
   "id": "7622a760",
   "metadata": {
    "ExecuteTime": {
     "end_time": "2021-05-13T16:58:05.430607Z",
     "start_time": "2021-05-13T16:58:05.415592Z"
    }
   },
   "outputs": [],
   "source": [
    "def full_null_column(countries, column_name):\n",
    "    all_null = []\n",
    "    for country in countries:\n",
    "        country_frame = epi[epi['country_name'] == country]\n",
    "        nans = country_frame[column_name].isna().sum()\n",
    "\n",
    "        if nans/country_frame.shape[0] == 1:\n",
    "            all_null.append(country)\n",
    "            \n",
    "    return all_null"
   ]
  },
  {
   "cell_type": "code",
   "execution_count": 13,
   "id": "51ef1bc4",
   "metadata": {
    "ExecuteTime": {
     "end_time": "2021-05-13T16:58:05.445619Z",
     "start_time": "2021-05-13T16:58:05.431607Z"
    }
   },
   "outputs": [],
   "source": [
    "marine_countries = set(epi[epi['Marine Protected Areas'].isnull() == True]['country_name'].values)\n",
    "fish_countries = set(epi[epi['Fisheries'].isnull() == True]['country_name'].values)\n",
    "stock_countries = set(epi[epi['Fish Stock Status'].isnull() == True]['country_name'].values)"
   ]
  },
  {
   "cell_type": "code",
   "execution_count": 14,
   "id": "7352595d",
   "metadata": {
    "ExecuteTime": {
     "end_time": "2021-05-13T16:58:05.583748Z",
     "start_time": "2021-05-13T16:58:05.447621Z"
    }
   },
   "outputs": [],
   "source": [
    "full_marine_nulls = full_null_column(marine_countries, 'Marine Protected Areas')\n",
    "full_fishery_nulls = full_null_column(fish_countries, 'Fisheries')\n",
    "full_stock_nulls = full_null_column(stock_countries, 'Fish Stock Status')"
   ]
  },
  {
   "cell_type": "code",
   "execution_count": 15,
   "id": "bd6b7b3c",
   "metadata": {
    "ExecuteTime": {
     "end_time": "2021-05-13T16:58:05.598759Z",
     "start_time": "2021-05-13T16:58:05.585748Z"
    }
   },
   "outputs": [
    {
     "data": {
      "text/plain": [
       "['Brunei Darussalam', 'Maldives', 'Guinea-Bissau']"
      ]
     },
     "execution_count": 15,
     "metadata": {},
     "output_type": "execute_result"
    }
   ],
   "source": [
    "marine_anomalies = [country for country in marine_countries if country not in full_marine_nulls]\n",
    "marine_anomalies"
   ]
  },
  {
   "cell_type": "code",
   "execution_count": 16,
   "id": "c4e56671",
   "metadata": {
    "ExecuteTime": {
     "end_time": "2021-05-13T16:58:05.614775Z",
     "start_time": "2021-05-13T16:58:05.600763Z"
    }
   },
   "outputs": [
    {
     "data": {
      "text/plain": [
       "['Saint Vincent and the Grenadines']"
      ]
     },
     "execution_count": 16,
     "metadata": {},
     "output_type": "execute_result"
    }
   ],
   "source": [
    "fish_anomalies = [country for country in fish_countries if country not in full_fishery_nulls]\n",
    "fish_anomalies"
   ]
  },
  {
   "cell_type": "code",
   "execution_count": 17,
   "id": "270ee2a0",
   "metadata": {
    "ExecuteTime": {
     "end_time": "2021-05-13T16:58:05.630788Z",
     "start_time": "2021-05-13T16:58:05.615776Z"
    }
   },
   "outputs": [
    {
     "data": {
      "text/plain": [
       "['Saint Vincent and the Grenadines']"
      ]
     },
     "execution_count": 17,
     "metadata": {},
     "output_type": "execute_result"
    }
   ],
   "source": [
    "stock_anomalies = [country for country in stock_countries if country not in full_stock_nulls]\n",
    "stock_anomalies"
   ]
  },
  {
   "cell_type": "markdown",
   "id": "52fa911a",
   "metadata": {},
   "source": [
    "- Compare lists of countries."
   ]
  },
  {
   "cell_type": "code",
   "execution_count": 18,
   "id": "ebf22b8f",
   "metadata": {
    "ExecuteTime": {
     "end_time": "2021-05-13T16:58:05.646803Z",
     "start_time": "2021-05-13T16:58:05.632792Z"
    }
   },
   "outputs": [
    {
     "data": {
      "text/plain": [
       "['Zambia', 'Malawi', 'Belarus', 'Bosnia and Herzegovina', 'Mali']"
      ]
     },
     "execution_count": 18,
     "metadata": {},
     "output_type": "execute_result"
    }
   ],
   "source": [
    "full_marine_nulls[:5]"
   ]
  },
  {
   "cell_type": "code",
   "execution_count": 19,
   "id": "46fb3e1f",
   "metadata": {
    "ExecuteTime": {
     "end_time": "2021-05-13T16:58:05.662149Z",
     "start_time": "2021-05-13T16:58:05.647803Z"
    },
    "scrolled": true
   },
   "outputs": [
    {
     "data": {
      "text/plain": [
       "['Zambia', 'Malawi', 'Belarus', 'Bosnia and Herzegovina', 'Mali']"
      ]
     },
     "execution_count": 19,
     "metadata": {},
     "output_type": "execute_result"
    }
   ],
   "source": [
    "full_fishery_nulls[:5]"
   ]
  },
  {
   "cell_type": "code",
   "execution_count": 20,
   "id": "fb465b89",
   "metadata": {
    "ExecuteTime": {
     "end_time": "2021-05-13T16:58:05.678164Z",
     "start_time": "2021-05-13T16:58:05.664151Z"
    }
   },
   "outputs": [
    {
     "data": {
      "text/plain": [
       "['Zambia', 'Malawi', 'Belarus', 'Bosnia and Herzegovina', 'Mali']"
      ]
     },
     "execution_count": 20,
     "metadata": {},
     "output_type": "execute_result"
    }
   ],
   "source": [
    "full_stock_nulls[:5]"
   ]
  },
  {
   "cell_type": "markdown",
   "id": "2925a30a",
   "metadata": {},
   "source": [
    "- All countries with null values for all three identifiers have been determined to be landlocked., and thus cannot have fisheries, marine protected areas, or fish stock status. Filling null values with 0.\n",
    "- Note: there are six countries that do not appear to technically be landlocked, but still show nulls for these values. This is because they either:\n",
    "   - Have a small sliver of land that touches the ocean: Dem. Rep. Conga, Slovenia, and Bosnia and Herzegovina.\n",
    "   - Border the Caspian sea, which is debatably not a true marine sea: Turkmenistan, Kazakhstan, Azerbaijan."
   ]
  },
  {
   "cell_type": "code",
   "execution_count": 21,
   "id": "4f44c71e",
   "metadata": {
    "ExecuteTime": {
     "end_time": "2021-05-13T16:58:05.694177Z",
     "start_time": "2021-05-13T16:58:05.680165Z"
    }
   },
   "outputs": [],
   "source": [
    "landlocked = [x for x in marine_countries if x in fish_countries]"
   ]
  },
  {
   "cell_type": "code",
   "execution_count": 22,
   "id": "4f9fddba",
   "metadata": {
    "ExecuteTime": {
     "end_time": "2021-05-13T16:58:05.710192Z",
     "start_time": "2021-05-13T16:58:05.698181Z"
    }
   },
   "outputs": [],
   "source": [
    "to_fill = ['Fisheries', 'Marine Protected Areas', 'Fish Stock Status']"
   ]
  },
  {
   "cell_type": "code",
   "execution_count": 23,
   "id": "c84dd3ad",
   "metadata": {
    "ExecuteTime": {
     "end_time": "2021-05-13T16:58:05.725319Z",
     "start_time": "2021-05-13T16:58:05.713194Z"
    }
   },
   "outputs": [],
   "source": [
    "for column in to_fill:\n",
    "    epi.loc[epi['country_name'].isin(landlocked), column] = epi.loc[epi['country_name'].isin(landlocked), column].fillna(0)"
   ]
  },
  {
   "cell_type": "markdown",
   "id": "7566f7df",
   "metadata": {},
   "source": [
    "- Inspect countries with poor marine data that are not landlocked."
   ]
  },
  {
   "cell_type": "code",
   "execution_count": 24,
   "id": "44d8537d",
   "metadata": {
    "ExecuteTime": {
     "end_time": "2021-05-13T16:58:05.740333Z",
     "start_time": "2021-05-13T16:58:05.726320Z"
    }
   },
   "outputs": [],
   "source": [
    "marine_anomalies.extend(fish_anomalies)\n",
    "anomalies = marine_anomalies"
   ]
  },
  {
   "cell_type": "code",
   "execution_count": 25,
   "id": "0dfa89de",
   "metadata": {
    "ExecuteTime": {
     "end_time": "2021-05-13T16:58:06.190066Z",
     "start_time": "2021-05-13T16:58:05.742335Z"
    }
   },
   "outputs": [
    {
     "data": {
      "image/png": "[encoded data removed]",
      "text/plain": [
       "<Figure size 432x288 with 1 Axes>"
      ]
     },
     "metadata": {
      "needs_background": "light"
     },
     "output_type": "display_data"
    }
   ],
   "source": [
    "for country in anomalies:\n",
    "    sns.scatterplot(data = epi[epi['country_name'] == country], x = 'year', y = 'Marine Protected Areas')\n",
    "\n",
    "plt.legend(anomalies)\n",
    "plt.title(\"Percent Marine Protected Areas by country reported by Year\")\n",
    "plt.show()"
   ]
  },
  {
   "cell_type": "code",
   "execution_count": 26,
   "id": "d6352c39",
   "metadata": {
    "ExecuteTime": {
     "end_time": "2021-05-13T16:58:06.552416Z",
     "start_time": "2021-05-13T16:58:06.191067Z"
    }
   },
   "outputs": [
    {
     "data": {
      "image/png": "[encoded data removed]",
      "text/plain": [
       "<Figure size 432x288 with 1 Axes>"
      ]
     },
     "metadata": {
      "needs_background": "light"
     },
     "output_type": "display_data"
    }
   ],
   "source": [
    "for country in anomalies:\n",
    "    sns.scatterplot(data = epi[epi['country_name'] == country], x = 'year', y = 'Fish Stock Status')\n",
    "\n",
    "plt.legend(anomalies)\n",
    "plt.title(\"Fish stock status by country reported by Year\")\n",
    "plt.show()"
   ]
  },
  {
   "cell_type": "code",
   "execution_count": 27,
   "id": "b749979e",
   "metadata": {
    "ExecuteTime": {
     "end_time": "2021-05-13T16:58:06.912743Z",
     "start_time": "2021-05-13T16:58:06.554418Z"
    }
   },
   "outputs": [
    {
     "data": {
      "image/png": "[encoded data removed]",
      "text/plain": [
       "<Figure size 432x288 with 1 Axes>"
      ]
     },
     "metadata": {
      "needs_background": "light"
     },
     "output_type": "display_data"
    }
   ],
   "source": [
    "for country in anomalies:\n",
    "    sns.scatterplot(data = epi[epi['country_name'] == country], x = 'year', y = 'Fisheries')\n",
    "\n",
    "plt.legend(anomalies)\n",
    "plt.title(\"Fisheries by country reported by Year\")\n",
    "plt.show()"
   ]
  },
  {
   "cell_type": "markdown",
   "id": "e49850f7",
   "metadata": {},
   "source": [
    "- Decision: drop Saint Vincent and the Grenadines from our data, as we do not feel we can confidently impute null values from only three reported values in two categories (one of which shows significant volatility)."
   ]
  },
  {
   "cell_type": "code",
   "execution_count": 28,
   "id": "1c34a6b8",
   "metadata": {
    "ExecuteTime": {
     "end_time": "2021-05-13T16:58:06.928792Z",
     "start_time": "2021-05-13T16:58:06.913785Z"
    }
   },
   "outputs": [],
   "source": [
    "epi = epi[epi['country_name'] != 'Saint Vincent and the Grenadines']"
   ]
  },
  {
   "cell_type": "markdown",
   "id": "917d52c9",
   "metadata": {},
   "source": [
    "- Inspect final column with high null count: Agricultural Subsidies."
   ]
  },
  {
   "cell_type": "code",
   "execution_count": 29,
   "id": "4a42b8f6",
   "metadata": {
    "ExecuteTime": {
     "end_time": "2021-05-13T16:58:06.943805Z",
     "start_time": "2021-05-13T16:58:06.930794Z"
    }
   },
   "outputs": [],
   "source": [
    "ag_countries = set(epi[epi['Agricultural Subsidies'].isnull() == True]['country_name'].values)"
   ]
  },
  {
   "cell_type": "code",
   "execution_count": 30,
   "id": "296370e5",
   "metadata": {
    "ExecuteTime": {
     "end_time": "2021-05-13T16:58:06.974833Z",
     "start_time": "2021-05-13T16:58:06.945807Z"
    }
   },
   "outputs": [],
   "source": [
    "full_ag_nulls = full_null_column(ag_countries, 'Agricultural Subsidies')"
   ]
  },
  {
   "cell_type": "code",
   "execution_count": 31,
   "id": "94ce0abe",
   "metadata": {
    "ExecuteTime": {
     "end_time": "2021-05-13T16:58:06.990847Z",
     "start_time": "2021-05-13T16:58:06.975834Z"
    }
   },
   "outputs": [
    {
     "data": {
      "text/plain": [
       "True"
      ]
     },
     "execution_count": 31,
     "metadata": {},
     "output_type": "execute_result"
    }
   ],
   "source": [
    "len(ag_countries) == len(full_ag_nulls)"
   ]
  },
  {
   "cell_type": "markdown",
   "id": "bbbeb96a",
   "metadata": {},
   "source": [
    "- Impute regional values into each country. (TODO)"
   ]
  },
  {
   "cell_type": "code",
   "execution_count": 32,
   "id": "0b8785d1",
   "metadata": {
    "ExecuteTime": {
     "end_time": "2021-05-13T16:58:07.022660Z",
     "start_time": "2021-05-13T16:58:06.992848Z"
    }
   },
   "outputs": [],
   "source": [
    "regional = pd.read_csv(\"./data/EPI_data/epi2020resultsregions20200604.csv\")"
   ]
  },
  {
   "cell_type": "code",
   "execution_count": 33,
   "id": "fead6700",
   "metadata": {
    "ExecuteTime": {
     "end_time": "2021-05-13T16:58:07.037673Z",
     "start_time": "2021-05-13T16:58:07.024662Z"
    }
   },
   "outputs": [],
   "source": [
    "regional_means = regional[[ 'country','AGR.rgn.mean']]"
   ]
  },
  {
   "cell_type": "code",
   "execution_count": 34,
   "id": "467fdf11",
   "metadata": {
    "ExecuteTime": {
     "end_time": "2021-05-13T16:58:07.053685Z",
     "start_time": "2021-05-13T16:58:07.039675Z"
    }
   },
   "outputs": [],
   "source": [
    "regional_means = regional_means[regional_means['country'].isin(ag_countries)]"
   ]
  },
  {
   "cell_type": "code",
   "execution_count": 35,
   "id": "b43a23a6",
   "metadata": {
    "ExecuteTime": {
     "end_time": "2021-05-13T16:58:07.069699Z",
     "start_time": "2021-05-13T16:58:07.055688Z"
    },
    "tags": []
   },
   "outputs": [
    {
     "data": {
      "text/html": [
       "<div>\n",
       "<style scoped>\n",
       "    .dataframe tbody tr th:only-of-type {\n",
       "        vertical-align: middle;\n",
       "    }\n",
       "\n",
       "    .dataframe tbody tr th {\n",
       "        vertical-align: top;\n",
       "    }\n",
       "\n",
       "    .dataframe thead th {\n",
       "        text-align: right;\n",
       "    }\n",
       "</style>\n",
       "<table border=\"1\" class=\"dataframe\">\n",
       "  <thead>\n",
       "    <tr style=\"text-align: right;\">\n",
       "      <th></th>\n",
       "      <th>country</th>\n",
       "      <th>AGR.rgn.mean</th>\n",
       "    </tr>\n",
       "  </thead>\n",
       "  <tbody>\n",
       "    <tr>\n",
       "      <th>3</th>\n",
       "      <td>United Arab Emirates</td>\n",
       "      <td>36.512500</td>\n",
       "    </tr>\n",
       "    <tr>\n",
       "      <th>6</th>\n",
       "      <td>Antigua and Barbuda</td>\n",
       "      <td>32.653125</td>\n",
       "    </tr>\n",
       "    <tr>\n",
       "      <th>16</th>\n",
       "      <td>Bahrain</td>\n",
       "      <td>36.512500</td>\n",
       "    </tr>\n",
       "    <tr>\n",
       "      <th>17</th>\n",
       "      <td>Bahamas</td>\n",
       "      <td>32.653125</td>\n",
       "    </tr>\n",
       "    <tr>\n",
       "      <th>23</th>\n",
       "      <td>Barbados</td>\n",
       "      <td>32.653125</td>\n",
       "    </tr>\n",
       "  </tbody>\n",
       "</table>\n",
       "</div>"
      ],
      "text/plain": [
       "                 country  AGR.rgn.mean\n",
       "3   United Arab Emirates     36.512500\n",
       "6    Antigua and Barbuda     32.653125\n",
       "16               Bahrain     36.512500\n",
       "17               Bahamas     32.653125\n",
       "23              Barbados     32.653125"
      ]
     },
     "execution_count": 35,
     "metadata": {},
     "output_type": "execute_result"
    }
   ],
   "source": [
    "regional_means[:5]"
   ]
  },
  {
   "cell_type": "code",
   "execution_count": 37,
   "id": "0254c40d",
   "metadata": {},
   "outputs": [],
   "source": [
    "regional_means.set_index(keys = 'country', inplace = True)"
   ]
  },
  {
   "cell_type": "code",
   "execution_count": 39,
   "id": "3b032d08",
   "metadata": {
    "ExecuteTime": {
     "end_time": "2021-05-13T16:58:07.085713Z",
     "start_time": "2021-05-13T16:58:07.071702Z"
    }
   },
   "outputs": [
    {
     "ename": "KeyError",
     "evalue": "'Libya'",
     "output_type": "error",
     "traceback": [
      "\u001b[1;31m---------------------------------------------------------------------------\u001b[0m",
      "\u001b[1;31mKeyError\u001b[0m                                  Traceback (most recent call last)",
      "\u001b[1;32m~\\anaconda3\\lib\\site-packages\\pandas\\core\\indexes\\base.py\u001b[0m in \u001b[0;36mget_loc\u001b[1;34m(self, key, method, tolerance)\u001b[0m\n\u001b[0;32m   3079\u001b[0m             \u001b[1;32mtry\u001b[0m\u001b[1;33m:\u001b[0m\u001b[1;33m\u001b[0m\u001b[1;33m\u001b[0m\u001b[0m\n\u001b[1;32m-> 3080\u001b[1;33m                 \u001b[1;32mreturn\u001b[0m \u001b[0mself\u001b[0m\u001b[1;33m.\u001b[0m\u001b[0m_engine\u001b[0m\u001b[1;33m.\u001b[0m\u001b[0mget_loc\u001b[0m\u001b[1;33m(\u001b[0m\u001b[0mcasted_key\u001b[0m\u001b[1;33m)\u001b[0m\u001b[1;33m\u001b[0m\u001b[1;33m\u001b[0m\u001b[0m\n\u001b[0m\u001b[0;32m   3081\u001b[0m             \u001b[1;32mexcept\u001b[0m \u001b[0mKeyError\u001b[0m \u001b[1;32mas\u001b[0m \u001b[0merr\u001b[0m\u001b[1;33m:\u001b[0m\u001b[1;33m\u001b[0m\u001b[1;33m\u001b[0m\u001b[0m\n",
      "\u001b[1;32mpandas\\_libs\\index.pyx\u001b[0m in \u001b[0;36mpandas._libs.index.IndexEngine.get_loc\u001b[1;34m()\u001b[0m\n",
      "\u001b[1;32mpandas\\_libs\\index.pyx\u001b[0m in \u001b[0;36mpandas._libs.index.IndexEngine.get_loc\u001b[1;34m()\u001b[0m\n",
      "\u001b[1;32mpandas\\_libs\\hashtable_class_helper.pxi\u001b[0m in \u001b[0;36mpandas._libs.hashtable.PyObjectHashTable.get_item\u001b[1;34m()\u001b[0m\n",
      "\u001b[1;32mpandas\\_libs\\hashtable_class_helper.pxi\u001b[0m in \u001b[0;36mpandas._libs.hashtable.PyObjectHashTable.get_item\u001b[1;34m()\u001b[0m\n",
      "\u001b[1;31mKeyError\u001b[0m: 'Libya'",
      "\nThe above exception was the direct cause of the following exception:\n",
      "\u001b[1;31mKeyError\u001b[0m                                  Traceback (most recent call last)",
      "\u001b[1;32m<ipython-input-39-4ec3ce375f78>\u001b[0m in \u001b[0;36m<module>\u001b[1;34m\u001b[0m\n\u001b[0;32m      1\u001b[0m \u001b[1;32mfor\u001b[0m \u001b[0mcountry\u001b[0m \u001b[1;32min\u001b[0m \u001b[0mag_countries\u001b[0m\u001b[1;33m:\u001b[0m\u001b[1;33m\u001b[0m\u001b[1;33m\u001b[0m\u001b[0m\n\u001b[1;32m----> 2\u001b[1;33m     \u001b[0mepi\u001b[0m\u001b[1;33m.\u001b[0m\u001b[0mloc\u001b[0m\u001b[1;33m[\u001b[0m\u001b[0mcountry\u001b[0m\u001b[1;33m,\u001b[0m \u001b[1;34m'Agricultural Subsidies'\u001b[0m\u001b[1;33m]\u001b[0m \u001b[1;33m=\u001b[0m \u001b[0mregional_means\u001b[0m\u001b[1;33m[\u001b[0m\u001b[0mcountry\u001b[0m\u001b[1;33m]\u001b[0m\u001b[1;33m\u001b[0m\u001b[1;33m\u001b[0m\u001b[0m\n\u001b[0m",
      "\u001b[1;32m~\\anaconda3\\lib\\site-packages\\pandas\\core\\frame.py\u001b[0m in \u001b[0;36m__getitem__\u001b[1;34m(self, key)\u001b[0m\n\u001b[0;32m   3022\u001b[0m             \u001b[1;32mif\u001b[0m \u001b[0mself\u001b[0m\u001b[1;33m.\u001b[0m\u001b[0mcolumns\u001b[0m\u001b[1;33m.\u001b[0m\u001b[0mnlevels\u001b[0m \u001b[1;33m>\u001b[0m \u001b[1;36m1\u001b[0m\u001b[1;33m:\u001b[0m\u001b[1;33m\u001b[0m\u001b[1;33m\u001b[0m\u001b[0m\n\u001b[0;32m   3023\u001b[0m                 \u001b[1;32mreturn\u001b[0m \u001b[0mself\u001b[0m\u001b[1;33m.\u001b[0m\u001b[0m_getitem_multilevel\u001b[0m\u001b[1;33m(\u001b[0m\u001b[0mkey\u001b[0m\u001b[1;33m)\u001b[0m\u001b[1;33m\u001b[0m\u001b[1;33m\u001b[0m\u001b[0m\n\u001b[1;32m-> 3024\u001b[1;33m             \u001b[0mindexer\u001b[0m \u001b[1;33m=\u001b[0m \u001b[0mself\u001b[0m\u001b[1;33m.\u001b[0m\u001b[0mcolumns\u001b[0m\u001b[1;33m.\u001b[0m\u001b[0mget_loc\u001b[0m\u001b[1;33m(\u001b[0m\u001b[0mkey\u001b[0m\u001b[1;33m)\u001b[0m\u001b[1;33m\u001b[0m\u001b[1;33m\u001b[0m\u001b[0m\n\u001b[0m\u001b[0;32m   3025\u001b[0m             \u001b[1;32mif\u001b[0m \u001b[0mis_integer\u001b[0m\u001b[1;33m(\u001b[0m\u001b[0mindexer\u001b[0m\u001b[1;33m)\u001b[0m\u001b[1;33m:\u001b[0m\u001b[1;33m\u001b[0m\u001b[1;33m\u001b[0m\u001b[0m\n\u001b[0;32m   3026\u001b[0m                 \u001b[0mindexer\u001b[0m \u001b[1;33m=\u001b[0m \u001b[1;33m[\u001b[0m\u001b[0mindexer\u001b[0m\u001b[1;33m]\u001b[0m\u001b[1;33m\u001b[0m\u001b[1;33m\u001b[0m\u001b[0m\n",
      "\u001b[1;32m~\\anaconda3\\lib\\site-packages\\pandas\\core\\indexes\\base.py\u001b[0m in \u001b[0;36mget_loc\u001b[1;34m(self, key, method, tolerance)\u001b[0m\n\u001b[0;32m   3080\u001b[0m                 \u001b[1;32mreturn\u001b[0m \u001b[0mself\u001b[0m\u001b[1;33m.\u001b[0m\u001b[0m_engine\u001b[0m\u001b[1;33m.\u001b[0m\u001b[0mget_loc\u001b[0m\u001b[1;33m(\u001b[0m\u001b[0mcasted_key\u001b[0m\u001b[1;33m)\u001b[0m\u001b[1;33m\u001b[0m\u001b[1;33m\u001b[0m\u001b[0m\n\u001b[0;32m   3081\u001b[0m             \u001b[1;32mexcept\u001b[0m \u001b[0mKeyError\u001b[0m \u001b[1;32mas\u001b[0m \u001b[0merr\u001b[0m\u001b[1;33m:\u001b[0m\u001b[1;33m\u001b[0m\u001b[1;33m\u001b[0m\u001b[0m\n\u001b[1;32m-> 3082\u001b[1;33m                 \u001b[1;32mraise\u001b[0m \u001b[0mKeyError\u001b[0m\u001b[1;33m(\u001b[0m\u001b[0mkey\u001b[0m\u001b[1;33m)\u001b[0m \u001b[1;32mfrom\u001b[0m \u001b[0merr\u001b[0m\u001b[1;33m\u001b[0m\u001b[1;33m\u001b[0m\u001b[0m\n\u001b[0m\u001b[0;32m   3083\u001b[0m \u001b[1;33m\u001b[0m\u001b[0m\n\u001b[0;32m   3084\u001b[0m         \u001b[1;32mif\u001b[0m \u001b[0mtolerance\u001b[0m \u001b[1;32mis\u001b[0m \u001b[1;32mnot\u001b[0m \u001b[1;32mNone\u001b[0m\u001b[1;33m:\u001b[0m\u001b[1;33m\u001b[0m\u001b[1;33m\u001b[0m\u001b[0m\n",
      "\u001b[1;31mKeyError\u001b[0m: 'Libya'"
     ]
    }
   ],
   "source": [
    "for country in ag_countries:\n",
    "    epi.loc[country, 'Agricultural Subsidies'] = regional_means[country]"
   ]
  },
  {
   "cell_type": "markdown",
   "id": "757c26ae",
   "metadata": {},
   "source": [
    "- Inspect other less frequently null columns."
   ]
  },
  {
   "cell_type": "code",
   "execution_count": 37,
   "id": "ac658060",
   "metadata": {
    "ExecuteTime": {
     "end_time": "2021-05-13T16:58:07.101728Z",
     "start_time": "2021-05-13T16:58:07.086715Z"
    }
   },
   "outputs": [],
   "source": [
    "some_nulls = epi.isnull().sum().sort_values(ascending = False)\n",
    "some_nulls = [column for column, value in some_nulls.items() if value > 0]"
   ]
  },
  {
   "cell_type": "code",
   "execution_count": 38,
   "id": "da70eb4e",
   "metadata": {
    "ExecuteTime": {
     "end_time": "2021-05-13T16:58:07.133756Z",
     "start_time": "2021-05-13T16:58:07.103730Z"
    }
   },
   "outputs": [],
   "source": [
    "countries_present = {}\n",
    "for column in some_nulls:\n",
    "    null_countries = set(epi[epi[column].isnull() == True]['country_name'].values)\n",
    "    for country in null_countries:\n",
    "        if country in countries_present:\n",
    "            countries_present[country] = countries_present[country] + 1\n",
    "        else:\n",
    "            countries_present[country] = 1"
   ]
  },
  {
   "cell_type": "code",
   "execution_count": 39,
   "id": "72537901",
   "metadata": {
    "ExecuteTime": {
     "end_time": "2021-05-13T16:58:07.149760Z",
     "start_time": "2021-05-13T16:58:07.135758Z"
    }
   },
   "outputs": [
    {
     "data": {
      "text/plain": [
       "{'Guinea-Bissau': 1,\n",
       " 'Brunei Darussalam': 1,\n",
       " 'Maldives': 10,\n",
       " 'Marshall Islands': 6,\n",
       " 'Samoa': 4,\n",
       " 'Sao Tome and Principe': 7,\n",
       " 'Micronesia': 5,\n",
       " 'Saint Lucia': 4,\n",
       " 'Iraq': 1,\n",
       " 'Somalia': 1}"
      ]
     },
     "execution_count": 39,
     "metadata": {},
     "output_type": "execute_result"
    }
   ],
   "source": [
    "countries_present"
   ]
  },
  {
   "cell_type": "code",
   "execution_count": 40,
   "id": "f8f828c6",
   "metadata": {
    "ExecuteTime": {
     "end_time": "2021-05-13T16:58:07.165774Z",
     "start_time": "2021-05-13T16:58:07.151761Z"
    }
   },
   "outputs": [],
   "source": [
    "frequent_null_countries = [country for country, value in countries_present.items() if value > 1]"
   ]
  },
  {
   "cell_type": "code",
   "execution_count": 41,
   "id": "694fdd07",
   "metadata": {
    "ExecuteTime": {
     "end_time": "2021-05-13T16:58:07.181788Z",
     "start_time": "2021-05-13T16:58:07.166775Z"
    }
   },
   "outputs": [
    {
     "data": {
      "text/plain": [
       "['Maldives',\n",
       " 'Marshall Islands',\n",
       " 'Samoa',\n",
       " 'Sao Tome and Principe',\n",
       " 'Micronesia',\n",
       " 'Saint Lucia']"
      ]
     },
     "execution_count": 41,
     "metadata": {},
     "output_type": "execute_result"
    }
   ],
   "source": [
    "frequent_null_countries"
   ]
  },
  {
   "cell_type": "code",
   "execution_count": 42,
   "id": "32143082",
   "metadata": {
    "ExecuteTime": {
     "end_time": "2021-05-13T16:58:09.947909Z",
     "start_time": "2021-05-13T16:58:07.183791Z"
    }
   },
   "outputs": [
    {
     "data": {
      "image/png": "[encoded data removed]",
      "text/plain": [
       "<Figure size 1768.62x180 with 9 Axes>"
      ]
     },
     "metadata": {
      "needs_background": "light"
     },
     "output_type": "display_data"
    }
   ],
   "source": [
    "sns.pairplot(data = epi[epi['country_name'].isin(frequent_null_countries)], y_vars = 'year', x_vars = some_nulls[:9], hue = 'country_name')\n",
    "plt.show()"
   ]
  },
  {
   "cell_type": "code",
   "execution_count": 43,
   "id": "5805c157",
   "metadata": {
    "ExecuteTime": {
     "end_time": "2021-05-13T16:58:12.474982Z",
     "start_time": "2021-05-13T16:58:09.948909Z"
    }
   },
   "outputs": [
    {
     "data": {
      "image/png": "[encoded data removed]",
      "text/plain": [
       "<Figure size 1588.62x180 with 8 Axes>"
      ]
     },
     "metadata": {
      "needs_background": "light"
     },
     "output_type": "display_data"
    }
   ],
   "source": [
    "sns.pairplot(data = epi[epi['country_name'].isin(frequent_null_countries)], y_vars = 'year', x_vars = some_nulls[9:], hue = 'country_name')\n",
    "plt.show()"
   ]
  },
  {
   "cell_type": "markdown",
   "id": "56f305c1",
   "metadata": {},
   "source": [
    "- For similar reasons to the removal of Saint Vincent and the Grenadines, we are removing the Maldives, Samoa, Micronesia, Saint Lucia, the Marshall Islands, and Sao Tome and Principe from the data set. Reiteration of reasons: some categories contain too few non-null entries to confidently impute from, especially when some show high volatility."
   ]
  },
  {
   "cell_type": "code",
   "execution_count": 44,
   "id": "d6e99eb4",
   "metadata": {
    "ExecuteTime": {
     "end_time": "2021-05-13T16:58:12.490995Z",
     "start_time": "2021-05-13T16:58:12.476983Z"
    }
   },
   "outputs": [],
   "source": [
    "epi = epi[~epi['country_name'].isin(frequent_null_countries)]"
   ]
  },
  {
   "cell_type": "code",
   "execution_count": 45,
   "id": "0a1a8b8a",
   "metadata": {
    "ExecuteTime": {
     "end_time": "2021-05-13T16:58:12.507010Z",
     "start_time": "2021-05-13T16:58:12.491997Z"
    }
   },
   "outputs": [
    {
     "data": {
      "text/plain": [
       "Marine Protected Areas    28\n",
       "GDP                       13\n",
       "dtype: int64"
      ]
     },
     "execution_count": 45,
     "metadata": {},
     "output_type": "execute_result"
    }
   ],
   "source": [
    "nulls = epi.isnull().sum().sort_values(ascending =False)\n",
    "nulls[nulls > 0]"
   ]
  },
  {
   "cell_type": "markdown",
   "id": "3f98c94b",
   "metadata": {},
   "source": [
    "- Impute remaining nulls by padding using existing entries."
   ]
  },
  {
   "cell_type": "code",
   "execution_count": 46,
   "id": "716b85f0",
   "metadata": {
    "ExecuteTime": {
     "end_time": "2021-05-13T16:58:12.523024Z",
     "start_time": "2021-05-13T16:58:12.509013Z"
    }
   },
   "outputs": [],
   "source": [
    "#TODO"
   ]
  },
  {
   "cell_type": "markdown",
   "id": "a596f151",
   "metadata": {},
   "source": [
    "- TODO: Somalia?"
   ]
  },
  {
   "cell_type": "code",
   "execution_count": 47,
   "id": "cf4551e0",
   "metadata": {
    "ExecuteTime": {
     "end_time": "2021-05-13T16:58:12.569065Z",
     "start_time": "2021-05-13T16:58:12.525026Z"
    }
   },
   "outputs": [
    {
     "data": {
      "text/html": [
       "<div>\n",
       "<style scoped>\n",
       "    .dataframe tbody tr th:only-of-type {\n",
       "        vertical-align: middle;\n",
       "    }\n",
       "\n",
       "    .dataframe tbody tr th {\n",
       "        vertical-align: top;\n",
       "    }\n",
       "\n",
       "    .dataframe thead th {\n",
       "        text-align: right;\n",
       "    }\n",
       "</style>\n",
       "<table border=\"1\" class=\"dataframe\">\n",
       "  <thead>\n",
       "    <tr style=\"text-align: right;\">\n",
       "      <th></th>\n",
       "      <th>year</th>\n",
       "      <th>country_name</th>\n",
       "      <th>Unsafe sanitation</th>\n",
       "      <th>Sanitation &amp; Drinking Water</th>\n",
       "      <th>Terrestrial biome protection (national weights)</th>\n",
       "      <th>PM2.5 Exposure</th>\n",
       "      <th>Unsafe drinking water</th>\n",
       "      <th>Water Resources</th>\n",
       "      <th>Ecosystem Vitality</th>\n",
       "      <th>Agriculture</th>\n",
       "      <th>...</th>\n",
       "      <th>Health Impacts</th>\n",
       "      <th>Household Air Quality</th>\n",
       "      <th>Access to Electricity</th>\n",
       "      <th>Pesticide Regulation</th>\n",
       "      <th>Agricultural Subsidies</th>\n",
       "      <th>Child Mortality</th>\n",
       "      <th>Fisheries</th>\n",
       "      <th>Marine Protected Areas</th>\n",
       "      <th>Fish Stock Status</th>\n",
       "      <th>GDP</th>\n",
       "    </tr>\n",
       "  </thead>\n",
       "  <tbody>\n",
       "    <tr>\n",
       "      <th>1758</th>\n",
       "      <td>2002</td>\n",
       "      <td>Somalia</td>\n",
       "      <td>2.14</td>\n",
       "      <td>1.07</td>\n",
       "      <td>3.43</td>\n",
       "      <td>100.00</td>\n",
       "      <td>0.00</td>\n",
       "      <td>3.96</td>\n",
       "      <td>6.04</td>\n",
       "      <td>50.0</td>\n",
       "      <td>...</td>\n",
       "      <td>14.01</td>\n",
       "      <td>2.6</td>\n",
       "      <td>26.6</td>\n",
       "      <td>0.0</td>\n",
       "      <td>100.0</td>\n",
       "      <td>14.01</td>\n",
       "      <td>0.0</td>\n",
       "      <td>0.0</td>\n",
       "      <td>0.0</td>\n",
       "      <td>NaN</td>\n",
       "    </tr>\n",
       "    <tr>\n",
       "      <th>1759</th>\n",
       "      <td>2003</td>\n",
       "      <td>Somalia</td>\n",
       "      <td>2.18</td>\n",
       "      <td>1.09</td>\n",
       "      <td>3.43</td>\n",
       "      <td>100.00</td>\n",
       "      <td>0.00</td>\n",
       "      <td>3.96</td>\n",
       "      <td>6.04</td>\n",
       "      <td>50.0</td>\n",
       "      <td>...</td>\n",
       "      <td>14.41</td>\n",
       "      <td>2.9</td>\n",
       "      <td>26.9</td>\n",
       "      <td>0.0</td>\n",
       "      <td>100.0</td>\n",
       "      <td>14.41</td>\n",
       "      <td>0.0</td>\n",
       "      <td>0.0</td>\n",
       "      <td>0.0</td>\n",
       "      <td>NaN</td>\n",
       "    </tr>\n",
       "    <tr>\n",
       "      <th>1760</th>\n",
       "      <td>2004</td>\n",
       "      <td>Somalia</td>\n",
       "      <td>2.21</td>\n",
       "      <td>1.11</td>\n",
       "      <td>3.43</td>\n",
       "      <td>100.00</td>\n",
       "      <td>0.00</td>\n",
       "      <td>3.96</td>\n",
       "      <td>6.04</td>\n",
       "      <td>50.0</td>\n",
       "      <td>...</td>\n",
       "      <td>14.82</td>\n",
       "      <td>3.2</td>\n",
       "      <td>27.2</td>\n",
       "      <td>0.0</td>\n",
       "      <td>100.0</td>\n",
       "      <td>14.82</td>\n",
       "      <td>0.0</td>\n",
       "      <td>0.0</td>\n",
       "      <td>0.0</td>\n",
       "      <td>NaN</td>\n",
       "    </tr>\n",
       "    <tr>\n",
       "      <th>1761</th>\n",
       "      <td>2005</td>\n",
       "      <td>Somalia</td>\n",
       "      <td>2.25</td>\n",
       "      <td>1.13</td>\n",
       "      <td>3.43</td>\n",
       "      <td>100.00</td>\n",
       "      <td>0.00</td>\n",
       "      <td>3.96</td>\n",
       "      <td>6.04</td>\n",
       "      <td>50.0</td>\n",
       "      <td>...</td>\n",
       "      <td>15.25</td>\n",
       "      <td>3.5</td>\n",
       "      <td>27.5</td>\n",
       "      <td>0.0</td>\n",
       "      <td>100.0</td>\n",
       "      <td>15.25</td>\n",
       "      <td>0.0</td>\n",
       "      <td>0.0</td>\n",
       "      <td>0.0</td>\n",
       "      <td>NaN</td>\n",
       "    </tr>\n",
       "    <tr>\n",
       "      <th>1762</th>\n",
       "      <td>2006</td>\n",
       "      <td>Somalia</td>\n",
       "      <td>2.30</td>\n",
       "      <td>1.15</td>\n",
       "      <td>3.43</td>\n",
       "      <td>100.00</td>\n",
       "      <td>0.00</td>\n",
       "      <td>3.96</td>\n",
       "      <td>6.04</td>\n",
       "      <td>50.0</td>\n",
       "      <td>...</td>\n",
       "      <td>15.71</td>\n",
       "      <td>3.8</td>\n",
       "      <td>27.8</td>\n",
       "      <td>0.0</td>\n",
       "      <td>100.0</td>\n",
       "      <td>15.71</td>\n",
       "      <td>0.0</td>\n",
       "      <td>0.0</td>\n",
       "      <td>0.0</td>\n",
       "      <td>NaN</td>\n",
       "    </tr>\n",
       "    <tr>\n",
       "      <th>1763</th>\n",
       "      <td>2007</td>\n",
       "      <td>Somalia</td>\n",
       "      <td>2.35</td>\n",
       "      <td>1.18</td>\n",
       "      <td>3.43</td>\n",
       "      <td>100.00</td>\n",
       "      <td>0.00</td>\n",
       "      <td>3.96</td>\n",
       "      <td>6.04</td>\n",
       "      <td>50.0</td>\n",
       "      <td>...</td>\n",
       "      <td>16.18</td>\n",
       "      <td>4.1</td>\n",
       "      <td>28.1</td>\n",
       "      <td>0.0</td>\n",
       "      <td>100.0</td>\n",
       "      <td>16.18</td>\n",
       "      <td>0.0</td>\n",
       "      <td>0.0</td>\n",
       "      <td>0.0</td>\n",
       "      <td>NaN</td>\n",
       "    </tr>\n",
       "    <tr>\n",
       "      <th>1764</th>\n",
       "      <td>2008</td>\n",
       "      <td>Somalia</td>\n",
       "      <td>2.41</td>\n",
       "      <td>1.20</td>\n",
       "      <td>3.43</td>\n",
       "      <td>100.00</td>\n",
       "      <td>0.00</td>\n",
       "      <td>3.96</td>\n",
       "      <td>6.04</td>\n",
       "      <td>50.0</td>\n",
       "      <td>...</td>\n",
       "      <td>16.65</td>\n",
       "      <td>4.4</td>\n",
       "      <td>28.4</td>\n",
       "      <td>0.0</td>\n",
       "      <td>100.0</td>\n",
       "      <td>16.65</td>\n",
       "      <td>0.0</td>\n",
       "      <td>0.0</td>\n",
       "      <td>0.0</td>\n",
       "      <td>NaN</td>\n",
       "    </tr>\n",
       "    <tr>\n",
       "      <th>1765</th>\n",
       "      <td>2009</td>\n",
       "      <td>Somalia</td>\n",
       "      <td>2.47</td>\n",
       "      <td>1.23</td>\n",
       "      <td>3.43</td>\n",
       "      <td>100.00</td>\n",
       "      <td>0.00</td>\n",
       "      <td>3.96</td>\n",
       "      <td>6.04</td>\n",
       "      <td>50.0</td>\n",
       "      <td>...</td>\n",
       "      <td>17.11</td>\n",
       "      <td>4.7</td>\n",
       "      <td>28.7</td>\n",
       "      <td>0.0</td>\n",
       "      <td>100.0</td>\n",
       "      <td>17.11</td>\n",
       "      <td>0.0</td>\n",
       "      <td>0.0</td>\n",
       "      <td>0.0</td>\n",
       "      <td>NaN</td>\n",
       "    </tr>\n",
       "    <tr>\n",
       "      <th>1766</th>\n",
       "      <td>2010</td>\n",
       "      <td>Somalia</td>\n",
       "      <td>2.52</td>\n",
       "      <td>1.26</td>\n",
       "      <td>3.43</td>\n",
       "      <td>100.00</td>\n",
       "      <td>0.00</td>\n",
       "      <td>3.96</td>\n",
       "      <td>6.50</td>\n",
       "      <td>56.0</td>\n",
       "      <td>...</td>\n",
       "      <td>17.58</td>\n",
       "      <td>5.0</td>\n",
       "      <td>29.0</td>\n",
       "      <td>12.0</td>\n",
       "      <td>100.0</td>\n",
       "      <td>17.58</td>\n",
       "      <td>0.0</td>\n",
       "      <td>0.0</td>\n",
       "      <td>0.0</td>\n",
       "      <td>NaN</td>\n",
       "    </tr>\n",
       "    <tr>\n",
       "      <th>1767</th>\n",
       "      <td>2011</td>\n",
       "      <td>Somalia</td>\n",
       "      <td>2.58</td>\n",
       "      <td>1.29</td>\n",
       "      <td>3.43</td>\n",
       "      <td>100.00</td>\n",
       "      <td>0.00</td>\n",
       "      <td>3.96</td>\n",
       "      <td>6.50</td>\n",
       "      <td>56.0</td>\n",
       "      <td>...</td>\n",
       "      <td>18.06</td>\n",
       "      <td>5.0</td>\n",
       "      <td>29.0</td>\n",
       "      <td>12.0</td>\n",
       "      <td>100.0</td>\n",
       "      <td>18.06</td>\n",
       "      <td>0.0</td>\n",
       "      <td>0.0</td>\n",
       "      <td>0.0</td>\n",
       "      <td>NaN</td>\n",
       "    </tr>\n",
       "    <tr>\n",
       "      <th>1768</th>\n",
       "      <td>2012</td>\n",
       "      <td>Somalia</td>\n",
       "      <td>2.58</td>\n",
       "      <td>1.29</td>\n",
       "      <td>3.43</td>\n",
       "      <td>100.00</td>\n",
       "      <td>0.00</td>\n",
       "      <td>3.96</td>\n",
       "      <td>6.50</td>\n",
       "      <td>56.0</td>\n",
       "      <td>...</td>\n",
       "      <td>18.55</td>\n",
       "      <td>5.0</td>\n",
       "      <td>29.0</td>\n",
       "      <td>12.0</td>\n",
       "      <td>100.0</td>\n",
       "      <td>18.55</td>\n",
       "      <td>0.0</td>\n",
       "      <td>0.0</td>\n",
       "      <td>0.0</td>\n",
       "      <td>NaN</td>\n",
       "    </tr>\n",
       "    <tr>\n",
       "      <th>3059</th>\n",
       "      <td>2002</td>\n",
       "      <td>Iraq</td>\n",
       "      <td>28.53</td>\n",
       "      <td>28.26</td>\n",
       "      <td>0.00</td>\n",
       "      <td>80.67</td>\n",
       "      <td>27.98</td>\n",
       "      <td>8.29</td>\n",
       "      <td>16.98</td>\n",
       "      <td>50.0</td>\n",
       "      <td>...</td>\n",
       "      <td>60.95</td>\n",
       "      <td>96.8</td>\n",
       "      <td>94.8</td>\n",
       "      <td>0.0</td>\n",
       "      <td>100.0</td>\n",
       "      <td>60.95</td>\n",
       "      <td>0.0</td>\n",
       "      <td>0.0</td>\n",
       "      <td>0.0</td>\n",
       "      <td>NaN</td>\n",
       "    </tr>\n",
       "    <tr>\n",
       "      <th>3060</th>\n",
       "      <td>2003</td>\n",
       "      <td>Iraq</td>\n",
       "      <td>29.25</td>\n",
       "      <td>28.86</td>\n",
       "      <td>0.00</td>\n",
       "      <td>88.01</td>\n",
       "      <td>28.46</td>\n",
       "      <td>8.29</td>\n",
       "      <td>16.98</td>\n",
       "      <td>50.0</td>\n",
       "      <td>...</td>\n",
       "      <td>62.22</td>\n",
       "      <td>97.2</td>\n",
       "      <td>95.2</td>\n",
       "      <td>0.0</td>\n",
       "      <td>100.0</td>\n",
       "      <td>62.22</td>\n",
       "      <td>0.0</td>\n",
       "      <td>0.0</td>\n",
       "      <td>0.0</td>\n",
       "      <td>NaN</td>\n",
       "    </tr>\n",
       "  </tbody>\n",
       "</table>\n",
       "<p>13 rows × 27 columns</p>\n",
       "</div>"
      ],
      "text/plain": [
       "      year country_name  Unsafe sanitation  Sanitation & Drinking Water  \\\n",
       "1758  2002      Somalia               2.14                         1.07   \n",
       "1759  2003      Somalia               2.18                         1.09   \n",
       "1760  2004      Somalia               2.21                         1.11   \n",
       "1761  2005      Somalia               2.25                         1.13   \n",
       "1762  2006      Somalia               2.30                         1.15   \n",
       "1763  2007      Somalia               2.35                         1.18   \n",
       "1764  2008      Somalia               2.41                         1.20   \n",
       "1765  2009      Somalia               2.47                         1.23   \n",
       "1766  2010      Somalia               2.52                         1.26   \n",
       "1767  2011      Somalia               2.58                         1.29   \n",
       "1768  2012      Somalia               2.58                         1.29   \n",
       "3059  2002         Iraq              28.53                        28.26   \n",
       "3060  2003         Iraq              29.25                        28.86   \n",
       "\n",
       "      Terrestrial biome protection (national weights)  PM2.5 Exposure  \\\n",
       "1758                                             3.43          100.00   \n",
       "1759                                             3.43          100.00   \n",
       "1760                                             3.43          100.00   \n",
       "1761                                             3.43          100.00   \n",
       "1762                                             3.43          100.00   \n",
       "1763                                             3.43          100.00   \n",
       "1764                                             3.43          100.00   \n",
       "1765                                             3.43          100.00   \n",
       "1766                                             3.43          100.00   \n",
       "1767                                             3.43          100.00   \n",
       "1768                                             3.43          100.00   \n",
       "3059                                             0.00           80.67   \n",
       "3060                                             0.00           88.01   \n",
       "\n",
       "      Unsafe drinking water  Water Resources  Ecosystem Vitality  Agriculture  \\\n",
       "1758                   0.00             3.96                6.04         50.0   \n",
       "1759                   0.00             3.96                6.04         50.0   \n",
       "1760                   0.00             3.96                6.04         50.0   \n",
       "1761                   0.00             3.96                6.04         50.0   \n",
       "1762                   0.00             3.96                6.04         50.0   \n",
       "1763                   0.00             3.96                6.04         50.0   \n",
       "1764                   0.00             3.96                6.04         50.0   \n",
       "1765                   0.00             3.96                6.04         50.0   \n",
       "1766                   0.00             3.96                6.50         56.0   \n",
       "1767                   0.00             3.96                6.50         56.0   \n",
       "1768                   0.00             3.96                6.50         56.0   \n",
       "3059                  27.98             8.29               16.98         50.0   \n",
       "3060                  28.46             8.29               16.98         50.0   \n",
       "\n",
       "      ...  Health Impacts  Household Air Quality  Access to Electricity  \\\n",
       "1758  ...           14.01                    2.6                   26.6   \n",
       "1759  ...           14.41                    2.9                   26.9   \n",
       "1760  ...           14.82                    3.2                   27.2   \n",
       "1761  ...           15.25                    3.5                   27.5   \n",
       "1762  ...           15.71                    3.8                   27.8   \n",
       "1763  ...           16.18                    4.1                   28.1   \n",
       "1764  ...           16.65                    4.4                   28.4   \n",
       "1765  ...           17.11                    4.7                   28.7   \n",
       "1766  ...           17.58                    5.0                   29.0   \n",
       "1767  ...           18.06                    5.0                   29.0   \n",
       "1768  ...           18.55                    5.0                   29.0   \n",
       "3059  ...           60.95                   96.8                   94.8   \n",
       "3060  ...           62.22                   97.2                   95.2   \n",
       "\n",
       "      Pesticide Regulation  Agricultural Subsidies  Child Mortality  \\\n",
       "1758                   0.0                   100.0            14.01   \n",
       "1759                   0.0                   100.0            14.41   \n",
       "1760                   0.0                   100.0            14.82   \n",
       "1761                   0.0                   100.0            15.25   \n",
       "1762                   0.0                   100.0            15.71   \n",
       "1763                   0.0                   100.0            16.18   \n",
       "1764                   0.0                   100.0            16.65   \n",
       "1765                   0.0                   100.0            17.11   \n",
       "1766                  12.0                   100.0            17.58   \n",
       "1767                  12.0                   100.0            18.06   \n",
       "1768                  12.0                   100.0            18.55   \n",
       "3059                   0.0                   100.0            60.95   \n",
       "3060                   0.0                   100.0            62.22   \n",
       "\n",
       "      Fisheries  Marine Protected Areas  Fish Stock Status  GDP  \n",
       "1758        0.0                     0.0                0.0  NaN  \n",
       "1759        0.0                     0.0                0.0  NaN  \n",
       "1760        0.0                     0.0                0.0  NaN  \n",
       "1761        0.0                     0.0                0.0  NaN  \n",
       "1762        0.0                     0.0                0.0  NaN  \n",
       "1763        0.0                     0.0                0.0  NaN  \n",
       "1764        0.0                     0.0                0.0  NaN  \n",
       "1765        0.0                     0.0                0.0  NaN  \n",
       "1766        0.0                     0.0                0.0  NaN  \n",
       "1767        0.0                     0.0                0.0  NaN  \n",
       "1768        0.0                     0.0                0.0  NaN  \n",
       "3059        0.0                     0.0                0.0  NaN  \n",
       "3060        0.0                     0.0                0.0  NaN  \n",
       "\n",
       "[13 rows x 27 columns]"
      ]
     },
     "execution_count": 47,
     "metadata": {},
     "output_type": "execute_result"
    }
   ],
   "source": [
    "epi[epi['GDP'].isnull() == True]"
   ]
  },
  {
   "cell_type": "code",
   "execution_count": null,
   "id": "4eab99c6",
   "metadata": {},
   "outputs": [],
   "source": []
  }
 ],
 "metadata": {
  "kernelspec": {
   "display_name": "Python 3",
   "language": "python",
   "name": "python3"
  },
  "language_info": {
   "codemirror_mode": {
    "name": "ipython",
    "version": 3
   },
   "file_extension": ".py",
   "mimetype": "text/x-python",
   "name": "python",
   "nbconvert_exporter": "python",
   "pygments_lexer": "ipython3",
   "version": "3.7.6"
  }
 },
 "nbformat": 4,
 "nbformat_minor": 5
}
