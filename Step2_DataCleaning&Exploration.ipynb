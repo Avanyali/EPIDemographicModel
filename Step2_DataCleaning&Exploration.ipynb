{
 "cells": [
  {
   "cell_type": "code",
   "execution_count": 1,
   "id": "8621cc8f",
   "metadata": {
    "ExecuteTime": {
     "end_time": "2021-05-13T16:58:00.805371Z",
     "start_time": "2021-05-13T16:57:58.282867Z"
    }
   },
   "outputs": [],
   "source": [
    "import pandas as pd\n",
    "import numpy as np\n",
    "import seaborn as sns\n",
    "import matplotlib.pyplot as plt"
   ]
  },
  {
   "cell_type": "markdown",
   "id": "4e020d54",
   "metadata": {},
   "source": [
    "***Data Cleaning and Exploration***"
   ]
  },
  {
   "cell_type": "code",
   "execution_count": 2,
   "id": "4d01fdee",
   "metadata": {
    "ExecuteTime": {
     "end_time": "2021-05-13T16:58:00.835398Z",
     "start_time": "2021-05-13T16:58:00.807373Z"
    }
   },
   "outputs": [],
   "source": [
    "epi = pd.read_csv('data/dataframes/epi_wrangled.csv')"
   ]
  },
  {
   "cell_type": "markdown",
   "id": "2b596694",
   "metadata": {},
   "source": [
    "- Remove countries with fewer than 5 records."
   ]
  },
  {
   "cell_type": "code",
   "execution_count": 3,
   "id": "60e1b7a2",
   "metadata": {
    "ExecuteTime": {
     "end_time": "2021-05-13T16:58:00.850412Z",
     "start_time": "2021-05-13T16:58:00.836398Z"
    }
   },
   "outputs": [],
   "source": [
    "high_data = [key for key, value in epi['country_name'].value_counts().to_dict().items() if value >5]"
   ]
  },
  {
   "cell_type": "code",
   "execution_count": 4,
   "id": "c2cb8beb",
   "metadata": {
    "ExecuteTime": {
     "end_time": "2021-05-13T16:58:00.866425Z",
     "start_time": "2021-05-13T16:58:00.852414Z"
    }
   },
   "outputs": [],
   "source": [
    "epi = epi[epi['country_name'].isin(high_data)]"
   ]
  },
  {
   "cell_type": "code",
   "execution_count": 5,
   "id": "809c3011",
   "metadata": {
    "ExecuteTime": {
     "end_time": "2021-05-13T16:58:00.882440Z",
     "start_time": "2021-05-13T16:58:00.868428Z"
    }
   },
   "outputs": [
    {
     "data": {
      "text/plain": [
       "Bosnia and Herzegovina    19\n",
       "Latvia                    19\n",
       "Jordan                    19\n",
       "Armenia                   19\n",
       "Kuwait                    19\n",
       "                          ..\n",
       "Sao Tome and Principe      9\n",
       "Saint Lucia                9\n",
       "Samoa                      9\n",
       "Maldives                   9\n",
       "Micronesia                 9\n",
       "Name: country_name, Length: 185, dtype: int64"
      ]
     },
     "execution_count": 5,
     "metadata": {},
     "output_type": "execute_result"
    }
   ],
   "source": [
    "epi['country_name'].value_counts()"
   ]
  },
  {
   "cell_type": "markdown",
   "id": "1e95dfaf",
   "metadata": {},
   "source": [
    "- Linearly impute values in place of nulls."
   ]
  },
  {
   "cell_type": "code",
   "execution_count": 6,
   "id": "663f0f35",
   "metadata": {
    "ExecuteTime": {
     "end_time": "2021-05-13T16:58:00.898454Z",
     "start_time": "2021-05-13T16:58:00.884441Z"
    }
   },
   "outputs": [],
   "source": [
    "def impute_values(country_name):\n",
    "    country = epi[epi['country_name'] == country_name].copy()\n",
    "    for col in country.columns:\n",
    "        country[col] = country[col].map(lambda x: np.nan if x == 'None' else x)\n",
    "        country[col].interpolate(method='linear',order=1,inplace=True, axis=0)\n",
    "    return country\n",
    "        "
   ]
  },
  {
   "cell_type": "code",
   "execution_count": 7,
   "id": "4b1ae848",
   "metadata": {
    "ExecuteTime": {
     "end_time": "2021-05-13T16:58:05.337524Z",
     "start_time": "2021-05-13T16:58:00.901456Z"
    }
   },
   "outputs": [],
   "source": [
    "epi_new = pd.DataFrame()\n",
    "\n",
    "for country_name in  set(epi['country_name'].values):\n",
    "    country_df = impute_values(country_name)\n",
    "    epi_new = pd.concat([epi_new, country_df], ignore_index = True)"
   ]
  },
  {
   "cell_type": "code",
   "execution_count": 8,
   "id": "5fa598a2",
   "metadata": {
    "ExecuteTime": {
     "end_time": "2021-05-13T16:58:05.352537Z",
     "start_time": "2021-05-13T16:58:05.340526Z"
    }
   },
   "outputs": [],
   "source": [
    "epi = epi_new"
   ]
  },
  {
   "cell_type": "markdown",
   "id": "e5c3d89d",
   "metadata": {},
   "source": [
    "- Drop columns with low value data, identified by visual analysis with respect to time. These columns' values tend to be almost entirely the same for each country on the list."
   ]
  },
  {
   "cell_type": "code",
   "execution_count": 9,
   "id": "279c0ede",
   "metadata": {
    "ExecuteTime": {
     "end_time": "2021-05-13T16:58:05.368551Z",
     "start_time": "2021-05-13T16:58:05.354539Z"
    }
   },
   "outputs": [],
   "source": [
    "drop_list = ['Climate','Forests', 'Critical Habitat Protection', 'Change in Forest Cover','Change of Trend in Carbon Intensity', 'Coastal Shelf Fishing Pressure',\n",
    "'Trend in CO2 Emissions per KWH','Trend in Carbon Intensity','Climate & Energy']"
   ]
  },
  {
   "cell_type": "code",
   "execution_count": 10,
   "id": "efdacd97",
   "metadata": {
    "ExecuteTime": {
     "end_time": "2021-05-13T16:58:05.383564Z",
     "start_time": "2021-05-13T16:58:05.371560Z"
    }
   },
   "outputs": [],
   "source": [
    "epi.drop(columns=drop_list,inplace=True)"
   ]
  },
  {
   "cell_type": "code",
   "execution_count": 11,
   "id": "d11113ed",
   "metadata": {
    "ExecuteTime": {
     "end_time": "2021-05-13T16:58:05.414592Z",
     "start_time": "2021-05-13T16:58:05.385566Z"
    }
   },
   "outputs": [
    {
     "data": {
      "text/plain": [
       "Marine Protected Areas                             868\n",
       "Fish Stock Status                                  842\n",
       "Fisheries                                          842\n",
       "Agricultural Subsidies                             466\n",
       "Ecosystem Vitality                                  38\n",
       "Environmental Performance Index                     38\n",
       "Water Resources                                     26\n",
       "Wastewater Treatment                                26\n",
       "GDP                                                 13\n",
       "Environmental Health                                12\n",
       "Child Mortality                                      9\n",
       "Access to Electricity                                9\n",
       "Health Impacts                                       9\n",
       "Biodiversity & Habitat                               8\n",
       "Terrestrial biome protection (global weights)        8\n",
       "Agriculture                                          8\n",
       "Terrestrial biome protection (national weights)      8\n",
       "Air Quality                                          4\n",
       "PM2.5 Exceedance                                     4\n",
       "PM2.5 Exposure                                       4\n",
       "dtype: int64"
      ]
     },
     "execution_count": 11,
     "metadata": {},
     "output_type": "execute_result"
    }
   ],
   "source": [
    "nulls = epi.isnull().sum().sort_values(ascending =False)\n",
    "nulls[nulls > 0]"
   ]
  },
  {
   "cell_type": "markdown",
   "id": "66848293",
   "metadata": {},
   "source": [
    "- Inspect columns with high null count indicators: Marine Protected Areas, Fisheries, Fish Stock Status and Agricultural Subsidies"
   ]
  },
  {
   "cell_type": "code",
   "execution_count": 12,
   "id": "c336f1ed",
   "metadata": {
    "ExecuteTime": {
     "end_time": "2021-05-13T16:58:05.430607Z",
     "start_time": "2021-05-13T16:58:05.415592Z"
    }
   },
   "outputs": [],
   "source": [
    "def full_null_column(countries, column_name):\n",
    "    all_null = []\n",
    "    for country in countries:\n",
    "        country_frame = epi[epi['country_name'] == country]\n",
    "        nans = country_frame[column_name].isna().sum()\n",
    "\n",
    "        if nans/country_frame.shape[0] == 1:\n",
    "            all_null.append(country)\n",
    "            \n",
    "    return all_null"
   ]
  },
  {
   "cell_type": "code",
   "execution_count": 13,
   "id": "582c5884",
   "metadata": {
    "ExecuteTime": {
     "end_time": "2021-05-13T16:58:05.445619Z",
     "start_time": "2021-05-13T16:58:05.431607Z"
    }
   },
   "outputs": [],
   "source": [
    "marine_countries = set(epi[epi['Marine Protected Areas'].isnull() == True]['country_name'].values)\n",
    "fish_countries = set(epi[epi['Fisheries'].isnull() == True]['country_name'].values)\n",
    "stock_countries = set(epi[epi['Fish Stock Status'].isnull() == True]['country_name'].values)"
   ]
  },
  {
   "cell_type": "code",
   "execution_count": 14,
   "id": "82d64dab",
   "metadata": {
    "ExecuteTime": {
     "end_time": "2021-05-13T16:58:05.583748Z",
     "start_time": "2021-05-13T16:58:05.447621Z"
    }
   },
   "outputs": [],
   "source": [
    "full_marine_nulls = full_null_column(marine_countries, 'Marine Protected Areas')\n",
    "full_fishery_nulls = full_null_column(fish_countries, 'Fisheries')\n",
    "full_stock_nulls = full_null_column(stock_countries, 'Fish Stock Status')"
   ]
  },
  {
   "cell_type": "code",
   "execution_count": 15,
   "id": "84cb227f",
   "metadata": {
    "ExecuteTime": {
     "end_time": "2021-05-13T16:58:05.598759Z",
     "start_time": "2021-05-13T16:58:05.585748Z"
    }
   },
   "outputs": [
    {
     "data": {
      "text/plain": [
       "['Guinea-Bissau', 'Maldives', 'Brunei Darussalam']"
      ]
     },
     "execution_count": 15,
     "metadata": {},
     "output_type": "execute_result"
    }
   ],
   "source": [
    "marine_anomalies = [country for country in marine_countries if country not in full_marine_nulls]\n",
    "marine_anomalies"
   ]
  },
  {
   "cell_type": "code",
   "execution_count": 16,
   "id": "c6100125",
   "metadata": {
    "ExecuteTime": {
     "end_time": "2021-05-13T16:58:05.614775Z",
     "start_time": "2021-05-13T16:58:05.600763Z"
    }
   },
   "outputs": [
    {
     "data": {
      "text/plain": [
       "['Saint Vincent and the Grenadines']"
      ]
     },
     "execution_count": 16,
     "metadata": {},
     "output_type": "execute_result"
    }
   ],
   "source": [
    "fish_anomalies = [country for country in fish_countries if country not in full_fishery_nulls]\n",
    "fish_anomalies"
   ]
  },
  {
   "cell_type": "code",
   "execution_count": 17,
   "id": "cb1cf055",
   "metadata": {
    "ExecuteTime": {
     "end_time": "2021-05-13T16:58:05.630788Z",
     "start_time": "2021-05-13T16:58:05.615776Z"
    }
   },
   "outputs": [
    {
     "data": {
      "text/plain": [
       "['Saint Vincent and the Grenadines']"
      ]
     },
     "execution_count": 17,
     "metadata": {},
     "output_type": "execute_result"
    }
   ],
   "source": [
    "stock_anomalies = [country for country in stock_countries if country not in full_stock_nulls]\n",
    "stock_anomalies"
   ]
  },
  {
   "cell_type": "markdown",
   "id": "aaed37a2",
   "metadata": {},
   "source": [
    "- Compare lists of countries."
   ]
  },
  {
   "cell_type": "code",
   "execution_count": 18,
   "id": "0b3d5d87",
   "metadata": {
    "ExecuteTime": {
     "end_time": "2021-05-13T16:58:05.646803Z",
     "start_time": "2021-05-13T16:58:05.632792Z"
    }
   },
   "outputs": [
    {
     "data": {
      "text/plain": [
       "['Bosnia and Herzegovina', 'Slovakia', 'Azerbaijan', 'Rwanda', 'Botswana']"
      ]
     },
     "execution_count": 18,
     "metadata": {},
     "output_type": "execute_result"
    }
   ],
   "source": [
    "full_marine_nulls[:5]"
   ]
  },
  {
   "cell_type": "code",
   "execution_count": 19,
   "id": "3a50204d",
   "metadata": {
    "ExecuteTime": {
     "end_time": "2021-05-13T16:58:05.662149Z",
     "start_time": "2021-05-13T16:58:05.647803Z"
    },
    "scrolled": true
   },
   "outputs": [
    {
     "data": {
      "text/plain": [
       "['Bosnia and Herzegovina', 'Slovakia', 'Azerbaijan', 'Rwanda', 'Botswana']"
      ]
     },
     "execution_count": 19,
     "metadata": {},
     "output_type": "execute_result"
    }
   ],
   "source": [
    "full_fishery_nulls[:5]"
   ]
  },
  {
   "cell_type": "code",
   "execution_count": 20,
   "id": "506fb873",
   "metadata": {
    "ExecuteTime": {
     "end_time": "2021-05-13T16:58:05.678164Z",
     "start_time": "2021-05-13T16:58:05.664151Z"
    }
   },
   "outputs": [
    {
     "data": {
      "text/plain": [
       "['Bosnia and Herzegovina', 'Slovakia', 'Azerbaijan', 'Rwanda', 'Botswana']"
      ]
     },
     "execution_count": 20,
     "metadata": {},
     "output_type": "execute_result"
    }
   ],
   "source": [
    "full_stock_nulls[:5]"
   ]
  },
  {
   "cell_type": "markdown",
   "id": "b2f50d56",
   "metadata": {},
   "source": [
    "- All countries with null values for all three identifiers have been determined to be landlocked., and thus cannot have fisheries, marine protected areas, or fish stock status. Filling null values with 0.\n",
    "- Note: there are six countries that do not appear to technically be landlocked, but still show nulls for these values. This is because they either:\n",
    "   - Have a small sliver of land that touches the ocean: Dem. Rep. Conga, Slovenia, and Bosnia and Herzegovina.\n",
    "   - Border the Caspian sea, which is debatably not a true marine sea: Turkmenistan, Kazakhstan, Azerbaijan."
   ]
  },
  {
   "cell_type": "code",
   "execution_count": 21,
   "id": "20d8bd46",
   "metadata": {
    "ExecuteTime": {
     "end_time": "2021-05-13T16:58:05.694177Z",
     "start_time": "2021-05-13T16:58:05.680165Z"
    }
   },
   "outputs": [],
   "source": [
    "landlocked = [x for x in marine_countries if x in fish_countries]"
   ]
  },
  {
   "cell_type": "code",
   "execution_count": 22,
   "id": "a395e385",
   "metadata": {
    "ExecuteTime": {
     "end_time": "2021-05-13T16:58:05.710192Z",
     "start_time": "2021-05-13T16:58:05.698181Z"
    }
   },
   "outputs": [],
   "source": [
    "to_fill = ['Fisheries', 'Marine Protected Areas', 'Fish Stock Status']"
   ]
  },
  {
   "cell_type": "code",
   "execution_count": 23,
   "id": "0bfb90cc",
   "metadata": {
    "ExecuteTime": {
     "end_time": "2021-05-13T16:58:05.725319Z",
     "start_time": "2021-05-13T16:58:05.713194Z"
    }
   },
   "outputs": [],
   "source": [
    "for column in to_fill:\n",
    "    epi.loc[epi['country_name'].isin(landlocked), column] = epi.loc[epi['country_name'].isin(landlocked), column].fillna(0)"
   ]
  },
  {
   "cell_type": "markdown",
   "id": "c265cb81",
   "metadata": {},
   "source": [
    "- Inspect countries with poor marine data that are not landlocked."
   ]
  },
  {
   "cell_type": "code",
   "execution_count": 24,
   "id": "9f714c88",
   "metadata": {
    "ExecuteTime": {
     "end_time": "2021-05-13T16:58:05.740333Z",
     "start_time": "2021-05-13T16:58:05.726320Z"
    }
   },
   "outputs": [],
   "source": [
    "marine_anomalies.extend(fish_anomalies)\n",
    "anomalies = marine_anomalies"
   ]
  },
  {
   "cell_type": "code",
   "execution_count": 25,
   "id": "dc3488cd",
   "metadata": {
    "ExecuteTime": {
     "end_time": "2021-05-13T16:58:06.190066Z",
     "start_time": "2021-05-13T16:58:05.742335Z"
    }
   },
   "outputs": [
    {
     "data": {
      "image/png": "[encoded data removed]",
      "text/plain": [
       "<Figure size 432x288 with 1 Axes>"
      ]
     },
     "metadata": {
      "needs_background": "light"
     },
     "output_type": "display_data"
    }
   ],
   "source": [
    "for country in anomalies:\n",
    "    sns.scatterplot(data = epi[epi['country_name'] == country], x = 'year', y = 'Marine Protected Areas')\n",
    "\n",
    "plt.legend(anomalies)\n",
    "plt.title(\"Percent Marine Protected Areas by country reported by Year\")\n",
    "plt.show()"
   ]
  },
  {
   "cell_type": "code",
   "execution_count": 26,
   "id": "1898b511",
   "metadata": {
    "ExecuteTime": {
     "end_time": "2021-05-13T16:58:06.552416Z",
     "start_time": "2021-05-13T16:58:06.191067Z"
    }
   },
   "outputs": [
    {
     "data": {
      "image/png": "[encoded data removed]",
      "text/plain": [
       "<Figure size 432x288 with 1 Axes>"
      ]
     },
     "metadata": {
      "needs_background": "light"
     },
     "output_type": "display_data"
    }
   ],
   "source": [
    "for country in anomalies:\n",
    "    sns.scatterplot(data = epi[epi['country_name'] == country], x = 'year', y = 'Fish Stock Status')\n",
    "\n",
    "plt.legend(anomalies)\n",
    "plt.title(\"Fish stock status by country reported by Year\")\n",
    "plt.show()"
   ]
  },
  {
   "cell_type": "code",
   "execution_count": 27,
   "id": "a828418f",
   "metadata": {
    "ExecuteTime": {
     "end_time": "2021-05-13T16:58:06.912743Z",
     "start_time": "2021-05-13T16:58:06.554418Z"
    }
   },
   "outputs": [
    {
     "data": {
      "image/png": "[encoded data removed]",
      "text/plain": [
       "<Figure size 432x288 with 1 Axes>"
      ]
     },
     "metadata": {
      "needs_background": "light"
     },
     "output_type": "display_data"
    }
   ],
   "source": [
    "for country in anomalies:\n",
    "    sns.scatterplot(data = epi[epi['country_name'] == country], x = 'year', y = 'Fisheries')\n",
    "\n",
    "plt.legend(anomalies)\n",
    "plt.title(\"Fisheries by country reported by Year\")\n",
    "plt.show()"
   ]
  },
  {
   "cell_type": "markdown",
   "id": "01b06bf8",
   "metadata": {},
   "source": [
    "- Decision: drop Saint Vincent and the Grenadines from our data, as we do not feel we can confidently impute null values from only three reported values in two categories (one of which shows significant volatility)."
   ]
  },
  {
   "cell_type": "code",
   "execution_count": 28,
   "id": "6f46be62",
   "metadata": {
    "ExecuteTime": {
     "end_time": "2021-05-13T16:58:06.928792Z",
     "start_time": "2021-05-13T16:58:06.913785Z"
    }
   },
   "outputs": [],
   "source": [
    "epi = epi[epi['country_name'] != 'Saint Vincent and the Grenadines']"
   ]
  },
  {
   "cell_type": "markdown",
   "id": "4500f182",
   "metadata": {},
   "source": [
    "- Inspect final column with high null count: Agricultural Subsidies."
   ]
  },
  {
   "cell_type": "code",
   "execution_count": 29,
   "id": "3871e15b",
   "metadata": {
    "ExecuteTime": {
     "end_time": "2021-05-13T16:58:06.943805Z",
     "start_time": "2021-05-13T16:58:06.930794Z"
    }
   },
   "outputs": [],
   "source": [
    "ag_countries = set(epi[epi['Agricultural Subsidies'].isnull() == True]['country_name'].values)"
   ]
  },
  {
   "cell_type": "code",
   "execution_count": 30,
   "id": "e7260ffa",
   "metadata": {
    "ExecuteTime": {
     "end_time": "2021-05-13T16:58:06.974833Z",
     "start_time": "2021-05-13T16:58:06.945807Z"
    }
   },
   "outputs": [],
   "source": [
    "full_ag_nulls = full_null_column(ag_countries, 'Agricultural Subsidies')"
   ]
  },
  {
   "cell_type": "code",
   "execution_count": 31,
   "id": "8db40529",
   "metadata": {
    "ExecuteTime": {
     "end_time": "2021-05-13T16:58:06.990847Z",
     "start_time": "2021-05-13T16:58:06.975834Z"
    }
   },
   "outputs": [
    {
     "data": {
      "text/plain": [
       "True"
      ]
     },
     "execution_count": 31,
     "metadata": {},
     "output_type": "execute_result"
    }
   ],
   "source": [
    "len(ag_countries) == len(full_ag_nulls)"
   ]
  },
  {
   "cell_type": "markdown",
   "id": "62b49abd",
   "metadata": {},
   "source": [
    "- Impute regional values into each country. (TODO)"
   ]
  },
  {
   "cell_type": "code",
   "execution_count": 32,
   "id": "8f024969",
   "metadata": {
    "ExecuteTime": {
     "end_time": "2021-05-13T16:58:07.022660Z",
     "start_time": "2021-05-13T16:58:06.992848Z"
    }
   },
   "outputs": [],
   "source": [
    "regional = pd.read_csv(\"./data/EPI_data/epi2020resultsregions20200604.csv\")"
   ]
  },
  {
   "cell_type": "code",
   "execution_count": 33,
   "id": "4e141e76",
   "metadata": {
    "ExecuteTime": {
     "end_time": "2021-05-13T16:58:07.037673Z",
     "start_time": "2021-05-13T16:58:07.024662Z"
    }
   },
   "outputs": [],
   "source": [
    "regional_means = regional[[ 'country','AGR.rgn.mean']]"
   ]
  },
  {
   "cell_type": "code",
   "execution_count": 34,
   "id": "0eb7e5b1",
   "metadata": {
    "ExecuteTime": {
     "end_time": "2021-05-13T16:58:07.053685Z",
     "start_time": "2021-05-13T16:58:07.039675Z"
    }
   },
   "outputs": [],
   "source": [
    "regional_means = regional_means[regional_means['country'].isin(ag_countries)]"
   ]
  },
  {
   "cell_type": "code",
   "execution_count": 35,
   "id": "61d68567",
   "metadata": {
    "ExecuteTime": {
     "end_time": "2021-05-13T16:58:07.069699Z",
     "start_time": "2021-05-13T16:58:07.055688Z"
    },
    "tags": []
   },
   "outputs": [
    {
     "data": {
      "text/html": [
       "<div>\n",
       "<style scoped>\n",
       "    .dataframe tbody tr th:only-of-type {\n",
       "        vertical-align: middle;\n",
       "    }\n",
       "\n",
       "    .dataframe tbody tr th {\n",
       "        vertical-align: top;\n",
       "    }\n",
       "\n",
       "    .dataframe thead th {\n",
       "        text-align: right;\n",
       "    }\n",
       "</style>\n",
       "<table border=\"1\" class=\"dataframe\">\n",
       "  <thead>\n",
       "    <tr style=\"text-align: right;\">\n",
       "      <th></th>\n",
       "      <th>country</th>\n",
       "      <th>AGR.rgn.mean</th>\n",
       "    </tr>\n",
       "  </thead>\n",
       "  <tbody>\n",
       "    <tr>\n",
       "      <th>3</th>\n",
       "      <td>United Arab Emirates</td>\n",
       "      <td>36.512500</td>\n",
       "    </tr>\n",
       "    <tr>\n",
       "      <th>6</th>\n",
       "      <td>Antigua and Barbuda</td>\n",
       "      <td>32.653125</td>\n",
       "    </tr>\n",
       "    <tr>\n",
       "      <th>16</th>\n",
       "      <td>Bahrain</td>\n",
       "      <td>36.512500</td>\n",
       "    </tr>\n",
       "    <tr>\n",
       "      <th>17</th>\n",
       "      <td>Bahamas</td>\n",
       "      <td>32.653125</td>\n",
       "    </tr>\n",
       "    <tr>\n",
       "      <th>23</th>\n",
       "      <td>Barbados</td>\n",
       "      <td>32.653125</td>\n",
       "    </tr>\n",
       "  </tbody>\n",
       "</table>\n",
       "</div>"
      ],
      "text/plain": [
       "                 country  AGR.rgn.mean\n",
       "3   United Arab Emirates     36.512500\n",
       "6    Antigua and Barbuda     32.653125\n",
       "16               Bahrain     36.512500\n",
       "17               Bahamas     32.653125\n",
       "23              Barbados     32.653125"
      ]
     },
     "execution_count": 35,
     "metadata": {},
     "output_type": "execute_result"
    }
   ],
   "source": [
    "regional_means[:5]"
   ]
  },
  {
   "cell_type": "code",
   "execution_count": 36,
   "id": "485aa39c",
   "metadata": {},
   "outputs": [],
   "source": [
    "regional_means.set_index(keys = 'country', inplace = True)"
   ]
  },
  {
   "cell_type": "code",
   "execution_count": 37,
   "id": "d4854712",
   "metadata": {
    "ExecuteTime": {
     "end_time": "2021-05-13T16:58:07.085713Z",
     "start_time": "2021-05-13T16:58:07.071702Z"
    }
   },
   "outputs": [
    {
     "ename": "KeyError",
     "evalue": "'Seychelles'",
     "output_type": "error",
     "traceback": [
      "\u001b[1;31m---------------------------------------------------------------------------\u001b[0m",
      "\u001b[1;31mKeyError\u001b[0m                                  Traceback (most recent call last)",
      "\u001b[1;32m~\\anaconda3\\lib\\site-packages\\pandas\\core\\indexes\\base.py\u001b[0m in \u001b[0;36mget_loc\u001b[1;34m(self, key, method, tolerance)\u001b[0m\n\u001b[0;32m   3079\u001b[0m             \u001b[1;32mtry\u001b[0m\u001b[1;33m:\u001b[0m\u001b[1;33m\u001b[0m\u001b[1;33m\u001b[0m\u001b[0m\n\u001b[1;32m-> 3080\u001b[1;33m                 \u001b[1;32mreturn\u001b[0m \u001b[0mself\u001b[0m\u001b[1;33m.\u001b[0m\u001b[0m_engine\u001b[0m\u001b[1;33m.\u001b[0m\u001b[0mget_loc\u001b[0m\u001b[1;33m(\u001b[0m\u001b[0mcasted_key\u001b[0m\u001b[1;33m)\u001b[0m\u001b[1;33m\u001b[0m\u001b[1;33m\u001b[0m\u001b[0m\n\u001b[0m\u001b[0;32m   3081\u001b[0m             \u001b[1;32mexcept\u001b[0m \u001b[0mKeyError\u001b[0m \u001b[1;32mas\u001b[0m \u001b[0merr\u001b[0m\u001b[1;33m:\u001b[0m\u001b[1;33m\u001b[0m\u001b[1;33m\u001b[0m\u001b[0m\n",
      "\u001b[1;32mpandas\\_libs\\index.pyx\u001b[0m in \u001b[0;36mpandas._libs.index.IndexEngine.get_loc\u001b[1;34m()\u001b[0m\n",
      "\u001b[1;32mpandas\\_libs\\index.pyx\u001b[0m in \u001b[0;36mpandas._libs.index.IndexEngine.get_loc\u001b[1;34m()\u001b[0m\n",
      "\u001b[1;32mpandas\\_libs\\hashtable_class_helper.pxi\u001b[0m in \u001b[0;36mpandas._libs.hashtable.PyObjectHashTable.get_item\u001b[1;34m()\u001b[0m\n",
      "\u001b[1;32mpandas\\_libs\\hashtable_class_helper.pxi\u001b[0m in \u001b[0;36mpandas._libs.hashtable.PyObjectHashTable.get_item\u001b[1;34m()\u001b[0m\n",
      "\u001b[1;31mKeyError\u001b[0m: 'Seychelles'",
      "\nThe above exception was the direct cause of the following exception:\n",
      "\u001b[1;31mKeyError\u001b[0m                                  Traceback (most recent call last)",
      "\u001b[1;32m<ipython-input-37-4ec3ce375f78>\u001b[0m in \u001b[0;36m<module>\u001b[1;34m\u001b[0m\n\u001b[0;32m      1\u001b[0m \u001b[1;32mfor\u001b[0m \u001b[0mcountry\u001b[0m \u001b[1;32min\u001b[0m \u001b[0mag_countries\u001b[0m\u001b[1;33m:\u001b[0m\u001b[1;33m\u001b[0m\u001b[1;33m\u001b[0m\u001b[0m\n\u001b[1;32m----> 2\u001b[1;33m     \u001b[0mepi\u001b[0m\u001b[1;33m.\u001b[0m\u001b[0mloc\u001b[0m\u001b[1;33m[\u001b[0m\u001b[0mcountry\u001b[0m\u001b[1;33m,\u001b[0m \u001b[1;34m'Agricultural Subsidies'\u001b[0m\u001b[1;33m]\u001b[0m \u001b[1;33m=\u001b[0m \u001b[0mregional_means\u001b[0m\u001b[1;33m[\u001b[0m\u001b[0mcountry\u001b[0m\u001b[1;33m]\u001b[0m\u001b[1;33m\u001b[0m\u001b[1;33m\u001b[0m\u001b[0m\n\u001b[0m",
      "\u001b[1;32m~\\anaconda3\\lib\\site-packages\\pandas\\core\\frame.py\u001b[0m in \u001b[0;36m__getitem__\u001b[1;34m(self, key)\u001b[0m\n\u001b[0;32m   3022\u001b[0m             \u001b[1;32mif\u001b[0m \u001b[0mself\u001b[0m\u001b[1;33m.\u001b[0m\u001b[0mcolumns\u001b[0m\u001b[1;33m.\u001b[0m\u001b[0mnlevels\u001b[0m \u001b[1;33m>\u001b[0m \u001b[1;36m1\u001b[0m\u001b[1;33m:\u001b[0m\u001b[1;33m\u001b[0m\u001b[1;33m\u001b[0m\u001b[0m\n\u001b[0;32m   3023\u001b[0m                 \u001b[1;32mreturn\u001b[0m \u001b[0mself\u001b[0m\u001b[1;33m.\u001b[0m\u001b[0m_getitem_multilevel\u001b[0m\u001b[1;33m(\u001b[0m\u001b[0mkey\u001b[0m\u001b[1;33m)\u001b[0m\u001b[1;33m\u001b[0m\u001b[1;33m\u001b[0m\u001b[0m\n\u001b[1;32m-> 3024\u001b[1;33m             \u001b[0mindexer\u001b[0m \u001b[1;33m=\u001b[0m \u001b[0mself\u001b[0m\u001b[1;33m.\u001b[0m\u001b[0mcolumns\u001b[0m\u001b[1;33m.\u001b[0m\u001b[0mget_loc\u001b[0m\u001b[1;33m(\u001b[0m\u001b[0mkey\u001b[0m\u001b[1;33m)\u001b[0m\u001b[1;33m\u001b[0m\u001b[1;33m\u001b[0m\u001b[0m\n\u001b[0m\u001b[0;32m   3025\u001b[0m             \u001b[1;32mif\u001b[0m \u001b[0mis_integer\u001b[0m\u001b[1;33m(\u001b[0m\u001b[0mindexer\u001b[0m\u001b[1;33m)\u001b[0m\u001b[1;33m:\u001b[0m\u001b[1;33m\u001b[0m\u001b[1;33m\u001b[0m\u001b[0m\n\u001b[0;32m   3026\u001b[0m                 \u001b[0mindexer\u001b[0m \u001b[1;33m=\u001b[0m \u001b[1;33m[\u001b[0m\u001b[0mindexer\u001b[0m\u001b[1;33m]\u001b[0m\u001b[1;33m\u001b[0m\u001b[1;33m\u001b[0m\u001b[0m\n",
      "\u001b[1;32m~\\anaconda3\\lib\\site-packages\\pandas\\core\\indexes\\base.py\u001b[0m in \u001b[0;36mget_loc\u001b[1;34m(self, key, method, tolerance)\u001b[0m\n\u001b[0;32m   3080\u001b[0m                 \u001b[1;32mreturn\u001b[0m \u001b[0mself\u001b[0m\u001b[1;33m.\u001b[0m\u001b[0m_engine\u001b[0m\u001b[1;33m.\u001b[0m\u001b[0mget_loc\u001b[0m\u001b[1;33m(\u001b[0m\u001b[0mcasted_key\u001b[0m\u001b[1;33m)\u001b[0m\u001b[1;33m\u001b[0m\u001b[1;33m\u001b[0m\u001b[0m\n\u001b[0;32m   3081\u001b[0m             \u001b[1;32mexcept\u001b[0m \u001b[0mKeyError\u001b[0m \u001b[1;32mas\u001b[0m \u001b[0merr\u001b[0m\u001b[1;33m:\u001b[0m\u001b[1;33m\u001b[0m\u001b[1;33m\u001b[0m\u001b[0m\n\u001b[1;32m-> 3082\u001b[1;33m                 \u001b[1;32mraise\u001b[0m \u001b[0mKeyError\u001b[0m\u001b[1;33m(\u001b[0m\u001b[0mkey\u001b[0m\u001b[1;33m)\u001b[0m \u001b[1;32mfrom\u001b[0m \u001b[0merr\u001b[0m\u001b[1;33m\u001b[0m\u001b[1;33m\u001b[0m\u001b[0m\n\u001b[0m\u001b[0;32m   3083\u001b[0m \u001b[1;33m\u001b[0m\u001b[0m\n\u001b[0;32m   3084\u001b[0m         \u001b[1;32mif\u001b[0m \u001b[0mtolerance\u001b[0m \u001b[1;32mis\u001b[0m \u001b[1;32mnot\u001b[0m \u001b[1;32mNone\u001b[0m\u001b[1;33m:\u001b[0m\u001b[1;33m\u001b[0m\u001b[1;33m\u001b[0m\u001b[0m\n",
      "\u001b[1;31mKeyError\u001b[0m: 'Seychelles'"
     ]
    }
   ],
   "source": [
    "for country in ag_countries:\n",
    "    epi.loc[country, 'Agricultural Subsidies'] = regional_means[country]"
   ]
  },
  {
   "cell_type": "markdown",
   "id": "6fd6276f",
   "metadata": {},
   "source": [
    "- Inspect other less frequently null columns."
   ]
  },
  {
   "cell_type": "code",
   "execution_count": 38,
   "id": "f24d87aa",
   "metadata": {
    "ExecuteTime": {
     "end_time": "2021-05-13T16:58:07.101728Z",
     "start_time": "2021-05-13T16:58:07.086715Z"
    }
   },
   "outputs": [],
   "source": [
    "some_nulls = epi.isnull().sum().sort_values(ascending = False)\n",
    "some_nulls = [column for column, value in some_nulls.items() if value > 0]"
   ]
  },
  {
   "cell_type": "code",
   "execution_count": 39,
   "id": "414324b3",
   "metadata": {
    "ExecuteTime": {
     "end_time": "2021-05-13T16:58:07.133756Z",
     "start_time": "2021-05-13T16:58:07.103730Z"
    }
   },
   "outputs": [],
   "source": [
    "countries_present = {}\n",
    "for column in some_nulls:\n",
    "    null_countries = set(epi[epi[column].isnull() == True]['country_name'].values)\n",
    "    for country in null_countries:\n",
    "        if country in countries_present:\n",
    "            countries_present[country] = countries_present[country] + 1\n",
    "        else:\n",
    "            countries_present[country] = 1"
   ]
  },
  {
   "cell_type": "code",
   "execution_count": 40,
   "id": "31504785",
   "metadata": {
    "ExecuteTime": {
     "end_time": "2021-05-13T16:58:07.149760Z",
     "start_time": "2021-05-13T16:58:07.135758Z"
    }
   },
   "outputs": [
    {
     "data": {
      "text/plain": [
       "{'Seychelles': 1,\n",
       " 'Singapore': 1,\n",
       " 'Saint Lucia': 5,\n",
       " 'Botswana': 1,\n",
       " 'Panama': 1,\n",
       " 'Djibouti': 1,\n",
       " 'Marshall Islands': 7,\n",
       " 'Bahrain': 1,\n",
       " 'Antigua and Barbuda': 1,\n",
       " 'Equatorial Guinea': 1,\n",
       " 'United Arab Emirates': 1,\n",
       " 'Libya': 1,\n",
       " 'Barbados': 1,\n",
       " 'Jordan': 1,\n",
       " 'Kuwait': 1,\n",
       " 'Saudi Arabia': 1,\n",
       " 'Palau': 1,\n",
       " 'Republic of Congo': 1,\n",
       " 'Qatar': 1,\n",
       " 'Gabon': 1,\n",
       " 'Trinidad and Tobago': 1,\n",
       " 'Cuba': 1,\n",
       " 'Bahamas': 1,\n",
       " 'Oman': 1,\n",
       " 'Brunei Darussalam': 2,\n",
       " 'Mauritius': 1,\n",
       " 'Maldives': 10,\n",
       " 'Guinea-Bissau': 1,\n",
       " 'Samoa': 4,\n",
       " 'Sao Tome and Principe': 7,\n",
       " 'Micronesia': 5,\n",
       " 'Somalia': 1,\n",
       " 'Iraq': 1}"
      ]
     },
     "execution_count": 40,
     "metadata": {},
     "output_type": "execute_result"
    }
   ],
   "source": [
    "countries_present"
   ]
  },
  {
   "cell_type": "code",
   "execution_count": 41,
   "id": "aa3dcc96",
   "metadata": {
    "ExecuteTime": {
     "end_time": "2021-05-13T16:58:07.165774Z",
     "start_time": "2021-05-13T16:58:07.151761Z"
    }
   },
   "outputs": [],
   "source": [
    "frequent_null_countries = [country for country, value in countries_present.items() if value > 1]"
   ]
  },
  {
   "cell_type": "code",
   "execution_count": 42,
   "id": "7f4d4109",
   "metadata": {
    "ExecuteTime": {
     "end_time": "2021-05-13T16:58:07.181788Z",
     "start_time": "2021-05-13T16:58:07.166775Z"
    }
   },
   "outputs": [
    {
     "data": {
      "text/plain": [
       "['Saint Lucia',\n",
       " 'Marshall Islands',\n",
       " 'Brunei Darussalam',\n",
       " 'Maldives',\n",
       " 'Samoa',\n",
       " 'Sao Tome and Principe',\n",
       " 'Micronesia']"
      ]
     },
     "execution_count": 42,
     "metadata": {},
     "output_type": "execute_result"
    }
   ],
   "source": [
    "frequent_null_countries"
   ]
  },
  {
   "cell_type": "code",
   "execution_count": 43,
   "id": "2c96218a",
   "metadata": {
    "ExecuteTime": {
     "end_time": "2021-05-13T16:58:09.947909Z",
     "start_time": "2021-05-13T16:58:07.183791Z"
    }
   },
   "outputs": [
    {
     "data": {
      "image/png": "[encoded data removed]",
      "text/plain": [
       "<Figure size 1768.62x180 with 9 Axes>"
      ]
     },
     "metadata": {
      "needs_background": "light"
     },
     "output_type": "display_data"
    }
   ],
   "source": [
    "sns.pairplot(data = epi[epi['country_name'].isin(frequent_null_countries)], y_vars = 'year', x_vars = some_nulls[:9], hue = 'country_name')\n",
    "plt.show()"
   ]
  },
  {
   "cell_type": "code",
   "execution_count": 44,
   "id": "519ae1f8",
   "metadata": {
    "ExecuteTime": {
     "end_time": "2021-05-13T16:58:12.474982Z",
     "start_time": "2021-05-13T16:58:09.948909Z"
    }
   },
   "outputs": [
    {
     "data": {
      "image/png": "[encoded data removed]",
      "text/plain": [
       "<Figure size 1768.62x180 with 9 Axes>"
      ]
     },
     "metadata": {
      "needs_background": "light"
     },
     "output_type": "display_data"
    }
   ],
   "source": [
    "sns.pairplot(data = epi[epi['country_name'].isin(frequent_null_countries)], y_vars = 'year', x_vars = some_nulls[9:], hue = 'country_name')\n",
    "plt.show()"
   ]
  },
  {
   "cell_type": "markdown",
   "id": "826901d3",
   "metadata": {},
   "source": [
    "- For similar reasons to the removal of Saint Vincent and the Grenadines, we are removing the Maldives, Samoa, Micronesia, Saint Lucia, the Marshall Islands, and Sao Tome and Principe from the data set. Reiteration of reasons: some categories contain too few non-null entries to confidently impute from, especially when some show high volatility."
   ]
  },
  {
   "cell_type": "code",
   "execution_count": 45,
   "id": "0fe5fb05",
   "metadata": {
    "ExecuteTime": {
     "end_time": "2021-05-13T16:58:12.490995Z",
     "start_time": "2021-05-13T16:58:12.476983Z"
    }
   },
   "outputs": [],
   "source": [
    "epi = epi[~epi['country_name'].isin(frequent_null_countries)]"
   ]
  },
  {
   "cell_type": "code",
   "execution_count": 46,
   "id": "e7611f95",
   "metadata": {
    "ExecuteTime": {
     "end_time": "2021-05-13T16:58:12.507010Z",
     "start_time": "2021-05-13T16:58:12.491997Z"
    }
   },
   "outputs": [
    {
     "data": {
      "text/plain": [
       "Agricultural Subsidies    429\n",
       "Marine Protected Areas     14\n",
       "GDP                        13\n",
       "dtype: int64"
      ]
     },
     "execution_count": 46,
     "metadata": {},
     "output_type": "execute_result"
    }
   ],
   "source": [
    "nulls = epi.isnull().sum().sort_values(ascending =False)\n",
    "nulls[nulls > 0]"
   ]
  },
  {
   "cell_type": "markdown",
   "id": "faf2c6de",
   "metadata": {},
   "source": [
    "- Add Somalia GDP values from secondary source."
   ]
  },
  {
   "cell_type": "code",
   "execution_count": 47,
   "id": "decb4f29",
   "metadata": {
    "ExecuteTime": {
     "end_time": "2021-05-13T16:58:12.569065Z",
     "start_time": "2021-05-13T16:58:12.525026Z"
    }
   },
   "outputs": [
    {
     "data": {
      "text/plain": [
       "2366       Iraq\n",
       "2367       Iraq\n",
       "3315    Somalia\n",
       "3316    Somalia\n",
       "3317    Somalia\n",
       "3318    Somalia\n",
       "3319    Somalia\n",
       "3320    Somalia\n",
       "3321    Somalia\n",
       "3322    Somalia\n",
       "3323    Somalia\n",
       "3324    Somalia\n",
       "3325    Somalia\n",
       "Name: country_name, dtype: object"
      ]
     },
     "execution_count": 47,
     "metadata": {},
     "output_type": "execute_result"
    }
   ],
   "source": [
    "epi[epi['GDP'].isnull() == True]['country_name']"
   ]
  },
  {
   "cell_type": "code",
   "execution_count": 48,
   "id": "45e68c4b",
   "metadata": {},
   "outputs": [],
   "source": [
    "somalia_gdp = pd.read_csv('data/GDP_data/Somalia_GDP.csv')"
   ]
  },
  {
   "cell_type": "code",
   "execution_count": 49,
   "id": "d14ea814",
   "metadata": {},
   "outputs": [],
   "source": [
    "somalia_gdp['Annual GDP'] = somalia_gdp['Annual GDP'].map(lambda x: x * 1000000)"
   ]
  },
  {
   "cell_type": "code",
   "execution_count": 50,
   "id": "7594d84c",
   "metadata": {},
   "outputs": [
    {
     "data": {
      "text/html": [
       "<div>\n",
       "<style scoped>\n",
       "    .dataframe tbody tr th:only-of-type {\n",
       "        vertical-align: middle;\n",
       "    }\n",
       "\n",
       "    .dataframe tbody tr th {\n",
       "        vertical-align: top;\n",
       "    }\n",
       "\n",
       "    .dataframe thead th {\n",
       "        text-align: right;\n",
       "    }\n",
       "</style>\n",
       "<table border=\"1\" class=\"dataframe\">\n",
       "  <thead>\n",
       "    <tr style=\"text-align: right;\">\n",
       "      <th></th>\n",
       "      <th>Year</th>\n",
       "      <th>Annual GDP</th>\n",
       "      <th>GDP Growth (%)</th>\n",
       "    </tr>\n",
       "  </thead>\n",
       "  <tbody>\n",
       "    <tr>\n",
       "      <th>0</th>\n",
       "      <td>2019</td>\n",
       "      <td>4.944000e+09</td>\n",
       "      <td>2.90%</td>\n",
       "    </tr>\n",
       "    <tr>\n",
       "      <th>1</th>\n",
       "      <td>2018</td>\n",
       "      <td>4.721000e+09</td>\n",
       "      <td>2.80%</td>\n",
       "    </tr>\n",
       "    <tr>\n",
       "      <th>2</th>\n",
       "      <td>2017</td>\n",
       "      <td>4.509000e+09</td>\n",
       "      <td>1.40%</td>\n",
       "    </tr>\n",
       "    <tr>\n",
       "      <th>3</th>\n",
       "      <td>2016</td>\n",
       "      <td>4.198000e+09</td>\n",
       "      <td>2.90%</td>\n",
       "    </tr>\n",
       "    <tr>\n",
       "      <th>4</th>\n",
       "      <td>2015</td>\n",
       "      <td>4.049000e+09</td>\n",
       "      <td>3.50%</td>\n",
       "    </tr>\n",
       "  </tbody>\n",
       "</table>\n",
       "</div>"
      ],
      "text/plain": [
       "   Year    Annual GDP GDP Growth (%)\n",
       "0  2019  4.944000e+09          2.90%\n",
       "1  2018  4.721000e+09          2.80%\n",
       "2  2017  4.509000e+09          1.40%\n",
       "3  2016  4.198000e+09          2.90%\n",
       "4  2015  4.049000e+09          3.50%"
      ]
     },
     "execution_count": 50,
     "metadata": {},
     "output_type": "execute_result"
    }
   ],
   "source": [
    "somalia_gdp.head()"
   ]
  },
  {
   "cell_type": "code",
   "execution_count": 51,
   "id": "6590f682",
   "metadata": {},
   "outputs": [],
   "source": [
    "somalia_gdp = somalia_gdp.sort_values(by = 'Year')"
   ]
  },
  {
   "cell_type": "code",
   "execution_count": 54,
   "id": "fb73eb47",
   "metadata": {},
   "outputs": [],
   "source": [
    "min_somalia_year = list(epi.loc[epi['country_name'].isin(['Somalia'])]['year'].to_dict().values())[0]\n",
    "max_somalia_year = list(epi.loc[epi['country_name'].isin(['Somalia'])]['year'].to_dict().values())[-1]"
   ]
  },
  {
   "cell_type": "code",
   "execution_count": 55,
   "id": "99e3fded",
   "metadata": {},
   "outputs": [
    {
     "data": {
      "text/plain": [
       "(2002, 2016)"
      ]
     },
     "execution_count": 55,
     "metadata": {},
     "output_type": "execute_result"
    }
   ],
   "source": [
    "min_somalia_year, max_somalia_year"
   ]
  },
  {
   "cell_type": "code",
   "execution_count": 56,
   "id": "42914a00",
   "metadata": {},
   "outputs": [],
   "source": [
    "somalia_gdp = somalia_gdp[(somalia_gdp['Year'] >= min_somalia_year) & (somalia_gdp['Year'] <= max_somalia_year)]"
   ]
  },
  {
   "cell_type": "code",
   "execution_count": 57,
   "id": "217a0fb1",
   "metadata": {},
   "outputs": [],
   "source": [
    "somalia_gdp.set_index(keys = 'Year', inplace = True)"
   ]
  },
  {
   "cell_type": "code",
   "execution_count": 64,
   "id": "16287c27",
   "metadata": {},
   "outputs": [
    {
     "data": {
      "text/html": [
       "<div>\n",
       "<style scoped>\n",
       "    .dataframe tbody tr th:only-of-type {\n",
       "        vertical-align: middle;\n",
       "    }\n",
       "\n",
       "    .dataframe tbody tr th {\n",
       "        vertical-align: top;\n",
       "    }\n",
       "\n",
       "    .dataframe thead th {\n",
       "        text-align: right;\n",
       "    }\n",
       "</style>\n",
       "<table border=\"1\" class=\"dataframe\">\n",
       "  <thead>\n",
       "    <tr style=\"text-align: right;\">\n",
       "      <th></th>\n",
       "      <th>year</th>\n",
       "      <th>country_name</th>\n",
       "      <th>Unsafe sanitation</th>\n",
       "      <th>Sanitation &amp; Drinking Water</th>\n",
       "      <th>Terrestrial biome protection (national weights)</th>\n",
       "      <th>PM2.5 Exposure</th>\n",
       "      <th>Unsafe drinking water</th>\n",
       "      <th>Water Resources</th>\n",
       "      <th>Ecosystem Vitality</th>\n",
       "      <th>Agriculture</th>\n",
       "      <th>...</th>\n",
       "      <th>Health Impacts</th>\n",
       "      <th>Household Air Quality</th>\n",
       "      <th>Access to Electricity</th>\n",
       "      <th>Pesticide Regulation</th>\n",
       "      <th>Agricultural Subsidies</th>\n",
       "      <th>Child Mortality</th>\n",
       "      <th>Fisheries</th>\n",
       "      <th>Marine Protected Areas</th>\n",
       "      <th>Fish Stock Status</th>\n",
       "      <th>GDP</th>\n",
       "    </tr>\n",
       "  </thead>\n",
       "  <tbody>\n",
       "    <tr>\n",
       "      <th>3315</th>\n",
       "      <td>2002</td>\n",
       "      <td>Somalia</td>\n",
       "      <td>2.140</td>\n",
       "      <td>1.07</td>\n",
       "      <td>3.43</td>\n",
       "      <td>100.0</td>\n",
       "      <td>0.0</td>\n",
       "      <td>3.96</td>\n",
       "      <td>6.040</td>\n",
       "      <td>50.0</td>\n",
       "      <td>...</td>\n",
       "      <td>14.01</td>\n",
       "      <td>2.6</td>\n",
       "      <td>26.600</td>\n",
       "      <td>0.0</td>\n",
       "      <td>100.0</td>\n",
       "      <td>14.01</td>\n",
       "      <td>0.00</td>\n",
       "      <td>0.0</td>\n",
       "      <td>0.00</td>\n",
       "      <td>NaN</td>\n",
       "    </tr>\n",
       "    <tr>\n",
       "      <th>3316</th>\n",
       "      <td>2003</td>\n",
       "      <td>Somalia</td>\n",
       "      <td>2.180</td>\n",
       "      <td>1.09</td>\n",
       "      <td>3.43</td>\n",
       "      <td>100.0</td>\n",
       "      <td>0.0</td>\n",
       "      <td>3.96</td>\n",
       "      <td>6.040</td>\n",
       "      <td>50.0</td>\n",
       "      <td>...</td>\n",
       "      <td>14.41</td>\n",
       "      <td>2.9</td>\n",
       "      <td>26.900</td>\n",
       "      <td>0.0</td>\n",
       "      <td>100.0</td>\n",
       "      <td>14.41</td>\n",
       "      <td>0.00</td>\n",
       "      <td>0.0</td>\n",
       "      <td>0.00</td>\n",
       "      <td>NaN</td>\n",
       "    </tr>\n",
       "    <tr>\n",
       "      <th>3317</th>\n",
       "      <td>2004</td>\n",
       "      <td>Somalia</td>\n",
       "      <td>2.210</td>\n",
       "      <td>1.11</td>\n",
       "      <td>3.43</td>\n",
       "      <td>100.0</td>\n",
       "      <td>0.0</td>\n",
       "      <td>3.96</td>\n",
       "      <td>6.040</td>\n",
       "      <td>50.0</td>\n",
       "      <td>...</td>\n",
       "      <td>14.82</td>\n",
       "      <td>3.2</td>\n",
       "      <td>27.200</td>\n",
       "      <td>0.0</td>\n",
       "      <td>100.0</td>\n",
       "      <td>14.82</td>\n",
       "      <td>0.00</td>\n",
       "      <td>0.0</td>\n",
       "      <td>0.00</td>\n",
       "      <td>NaN</td>\n",
       "    </tr>\n",
       "    <tr>\n",
       "      <th>3318</th>\n",
       "      <td>2005</td>\n",
       "      <td>Somalia</td>\n",
       "      <td>2.250</td>\n",
       "      <td>1.13</td>\n",
       "      <td>3.43</td>\n",
       "      <td>100.0</td>\n",
       "      <td>0.0</td>\n",
       "      <td>3.96</td>\n",
       "      <td>6.040</td>\n",
       "      <td>50.0</td>\n",
       "      <td>...</td>\n",
       "      <td>15.25</td>\n",
       "      <td>3.5</td>\n",
       "      <td>27.500</td>\n",
       "      <td>0.0</td>\n",
       "      <td>100.0</td>\n",
       "      <td>15.25</td>\n",
       "      <td>0.00</td>\n",
       "      <td>0.0</td>\n",
       "      <td>0.00</td>\n",
       "      <td>NaN</td>\n",
       "    </tr>\n",
       "    <tr>\n",
       "      <th>3319</th>\n",
       "      <td>2006</td>\n",
       "      <td>Somalia</td>\n",
       "      <td>2.300</td>\n",
       "      <td>1.15</td>\n",
       "      <td>3.43</td>\n",
       "      <td>100.0</td>\n",
       "      <td>0.0</td>\n",
       "      <td>3.96</td>\n",
       "      <td>6.040</td>\n",
       "      <td>50.0</td>\n",
       "      <td>...</td>\n",
       "      <td>15.71</td>\n",
       "      <td>3.8</td>\n",
       "      <td>27.800</td>\n",
       "      <td>0.0</td>\n",
       "      <td>100.0</td>\n",
       "      <td>15.71</td>\n",
       "      <td>0.00</td>\n",
       "      <td>0.0</td>\n",
       "      <td>0.00</td>\n",
       "      <td>NaN</td>\n",
       "    </tr>\n",
       "    <tr>\n",
       "      <th>3320</th>\n",
       "      <td>2007</td>\n",
       "      <td>Somalia</td>\n",
       "      <td>2.350</td>\n",
       "      <td>1.18</td>\n",
       "      <td>3.43</td>\n",
       "      <td>100.0</td>\n",
       "      <td>0.0</td>\n",
       "      <td>3.96</td>\n",
       "      <td>6.040</td>\n",
       "      <td>50.0</td>\n",
       "      <td>...</td>\n",
       "      <td>16.18</td>\n",
       "      <td>4.1</td>\n",
       "      <td>28.100</td>\n",
       "      <td>0.0</td>\n",
       "      <td>100.0</td>\n",
       "      <td>16.18</td>\n",
       "      <td>0.00</td>\n",
       "      <td>0.0</td>\n",
       "      <td>0.00</td>\n",
       "      <td>NaN</td>\n",
       "    </tr>\n",
       "    <tr>\n",
       "      <th>3321</th>\n",
       "      <td>2008</td>\n",
       "      <td>Somalia</td>\n",
       "      <td>2.410</td>\n",
       "      <td>1.20</td>\n",
       "      <td>3.43</td>\n",
       "      <td>100.0</td>\n",
       "      <td>0.0</td>\n",
       "      <td>3.96</td>\n",
       "      <td>6.040</td>\n",
       "      <td>50.0</td>\n",
       "      <td>...</td>\n",
       "      <td>16.65</td>\n",
       "      <td>4.4</td>\n",
       "      <td>28.400</td>\n",
       "      <td>0.0</td>\n",
       "      <td>100.0</td>\n",
       "      <td>16.65</td>\n",
       "      <td>0.00</td>\n",
       "      <td>0.0</td>\n",
       "      <td>0.00</td>\n",
       "      <td>NaN</td>\n",
       "    </tr>\n",
       "    <tr>\n",
       "      <th>3322</th>\n",
       "      <td>2009</td>\n",
       "      <td>Somalia</td>\n",
       "      <td>2.470</td>\n",
       "      <td>1.23</td>\n",
       "      <td>3.43</td>\n",
       "      <td>100.0</td>\n",
       "      <td>0.0</td>\n",
       "      <td>3.96</td>\n",
       "      <td>6.040</td>\n",
       "      <td>50.0</td>\n",
       "      <td>...</td>\n",
       "      <td>17.11</td>\n",
       "      <td>4.7</td>\n",
       "      <td>28.700</td>\n",
       "      <td>0.0</td>\n",
       "      <td>100.0</td>\n",
       "      <td>17.11</td>\n",
       "      <td>0.00</td>\n",
       "      <td>0.0</td>\n",
       "      <td>0.00</td>\n",
       "      <td>NaN</td>\n",
       "    </tr>\n",
       "    <tr>\n",
       "      <th>3323</th>\n",
       "      <td>2010</td>\n",
       "      <td>Somalia</td>\n",
       "      <td>2.520</td>\n",
       "      <td>1.26</td>\n",
       "      <td>3.43</td>\n",
       "      <td>100.0</td>\n",
       "      <td>0.0</td>\n",
       "      <td>3.96</td>\n",
       "      <td>6.500</td>\n",
       "      <td>56.0</td>\n",
       "      <td>...</td>\n",
       "      <td>17.58</td>\n",
       "      <td>5.0</td>\n",
       "      <td>29.000</td>\n",
       "      <td>12.0</td>\n",
       "      <td>100.0</td>\n",
       "      <td>17.58</td>\n",
       "      <td>0.00</td>\n",
       "      <td>0.0</td>\n",
       "      <td>0.00</td>\n",
       "      <td>NaN</td>\n",
       "    </tr>\n",
       "    <tr>\n",
       "      <th>3324</th>\n",
       "      <td>2011</td>\n",
       "      <td>Somalia</td>\n",
       "      <td>2.580</td>\n",
       "      <td>1.29</td>\n",
       "      <td>3.43</td>\n",
       "      <td>100.0</td>\n",
       "      <td>0.0</td>\n",
       "      <td>3.96</td>\n",
       "      <td>6.500</td>\n",
       "      <td>56.0</td>\n",
       "      <td>...</td>\n",
       "      <td>18.06</td>\n",
       "      <td>5.0</td>\n",
       "      <td>29.000</td>\n",
       "      <td>12.0</td>\n",
       "      <td>100.0</td>\n",
       "      <td>18.06</td>\n",
       "      <td>0.00</td>\n",
       "      <td>0.0</td>\n",
       "      <td>0.00</td>\n",
       "      <td>NaN</td>\n",
       "    </tr>\n",
       "    <tr>\n",
       "      <th>3325</th>\n",
       "      <td>2012</td>\n",
       "      <td>Somalia</td>\n",
       "      <td>2.580</td>\n",
       "      <td>1.29</td>\n",
       "      <td>3.43</td>\n",
       "      <td>100.0</td>\n",
       "      <td>0.0</td>\n",
       "      <td>3.96</td>\n",
       "      <td>6.500</td>\n",
       "      <td>56.0</td>\n",
       "      <td>...</td>\n",
       "      <td>18.55</td>\n",
       "      <td>5.0</td>\n",
       "      <td>29.000</td>\n",
       "      <td>12.0</td>\n",
       "      <td>100.0</td>\n",
       "      <td>18.55</td>\n",
       "      <td>0.00</td>\n",
       "      <td>0.0</td>\n",
       "      <td>0.00</td>\n",
       "      <td>NaN</td>\n",
       "    </tr>\n",
       "    <tr>\n",
       "      <th>3326</th>\n",
       "      <td>2013</td>\n",
       "      <td>Somalia</td>\n",
       "      <td>2.580</td>\n",
       "      <td>1.29</td>\n",
       "      <td>3.43</td>\n",
       "      <td>100.0</td>\n",
       "      <td>0.0</td>\n",
       "      <td>3.96</td>\n",
       "      <td>6.500</td>\n",
       "      <td>56.0</td>\n",
       "      <td>...</td>\n",
       "      <td>18.55</td>\n",
       "      <td>5.0</td>\n",
       "      <td>29.000</td>\n",
       "      <td>12.0</td>\n",
       "      <td>100.0</td>\n",
       "      <td>18.55</td>\n",
       "      <td>0.00</td>\n",
       "      <td>0.0</td>\n",
       "      <td>0.00</td>\n",
       "      <td>5.352000e+09</td>\n",
       "    </tr>\n",
       "    <tr>\n",
       "      <th>3327</th>\n",
       "      <td>2014</td>\n",
       "      <td>Somalia</td>\n",
       "      <td>2.580</td>\n",
       "      <td>1.29</td>\n",
       "      <td>3.43</td>\n",
       "      <td>100.0</td>\n",
       "      <td>0.0</td>\n",
       "      <td>3.96</td>\n",
       "      <td>6.500</td>\n",
       "      <td>56.0</td>\n",
       "      <td>...</td>\n",
       "      <td>18.55</td>\n",
       "      <td>5.0</td>\n",
       "      <td>29.000</td>\n",
       "      <td>12.0</td>\n",
       "      <td>100.0</td>\n",
       "      <td>18.55</td>\n",
       "      <td>0.00</td>\n",
       "      <td>0.0</td>\n",
       "      <td>0.00</td>\n",
       "      <td>5.647000e+09</td>\n",
       "    </tr>\n",
       "    <tr>\n",
       "      <th>3328</th>\n",
       "      <td>2015</td>\n",
       "      <td>Somalia</td>\n",
       "      <td>23.135</td>\n",
       "      <td>13.68</td>\n",
       "      <td>16.69</td>\n",
       "      <td>100.0</td>\n",
       "      <td>0.0</td>\n",
       "      <td>3.96</td>\n",
       "      <td>10.745</td>\n",
       "      <td>56.0</td>\n",
       "      <td>...</td>\n",
       "      <td>22.37</td>\n",
       "      <td>5.0</td>\n",
       "      <td>45.565</td>\n",
       "      <td>12.0</td>\n",
       "      <td>100.0</td>\n",
       "      <td>18.55</td>\n",
       "      <td>17.74</td>\n",
       "      <td>0.0</td>\n",
       "      <td>17.74</td>\n",
       "      <td>5.925000e+09</td>\n",
       "    </tr>\n",
       "    <tr>\n",
       "      <th>3329</th>\n",
       "      <td>2016</td>\n",
       "      <td>Somalia</td>\n",
       "      <td>43.690</td>\n",
       "      <td>26.07</td>\n",
       "      <td>29.95</td>\n",
       "      <td>100.0</td>\n",
       "      <td>0.0</td>\n",
       "      <td>3.96</td>\n",
       "      <td>14.990</td>\n",
       "      <td>56.0</td>\n",
       "      <td>...</td>\n",
       "      <td>26.19</td>\n",
       "      <td>5.0</td>\n",
       "      <td>62.130</td>\n",
       "      <td>12.0</td>\n",
       "      <td>100.0</td>\n",
       "      <td>18.55</td>\n",
       "      <td>35.48</td>\n",
       "      <td>0.0</td>\n",
       "      <td>35.48</td>\n",
       "      <td>0.000000e+00</td>\n",
       "    </tr>\n",
       "  </tbody>\n",
       "</table>\n",
       "<p>15 rows × 27 columns</p>\n",
       "</div>"
      ],
      "text/plain": [
       "      year country_name  Unsafe sanitation  Sanitation & Drinking Water  \\\n",
       "3315  2002      Somalia              2.140                         1.07   \n",
       "3316  2003      Somalia              2.180                         1.09   \n",
       "3317  2004      Somalia              2.210                         1.11   \n",
       "3318  2005      Somalia              2.250                         1.13   \n",
       "3319  2006      Somalia              2.300                         1.15   \n",
       "3320  2007      Somalia              2.350                         1.18   \n",
       "3321  2008      Somalia              2.410                         1.20   \n",
       "3322  2009      Somalia              2.470                         1.23   \n",
       "3323  2010      Somalia              2.520                         1.26   \n",
       "3324  2011      Somalia              2.580                         1.29   \n",
       "3325  2012      Somalia              2.580                         1.29   \n",
       "3326  2013      Somalia              2.580                         1.29   \n",
       "3327  2014      Somalia              2.580                         1.29   \n",
       "3328  2015      Somalia             23.135                        13.68   \n",
       "3329  2016      Somalia             43.690                        26.07   \n",
       "\n",
       "      Terrestrial biome protection (national weights)  PM2.5 Exposure  \\\n",
       "3315                                             3.43           100.0   \n",
       "3316                                             3.43           100.0   \n",
       "3317                                             3.43           100.0   \n",
       "3318                                             3.43           100.0   \n",
       "3319                                             3.43           100.0   \n",
       "3320                                             3.43           100.0   \n",
       "3321                                             3.43           100.0   \n",
       "3322                                             3.43           100.0   \n",
       "3323                                             3.43           100.0   \n",
       "3324                                             3.43           100.0   \n",
       "3325                                             3.43           100.0   \n",
       "3326                                             3.43           100.0   \n",
       "3327                                             3.43           100.0   \n",
       "3328                                            16.69           100.0   \n",
       "3329                                            29.95           100.0   \n",
       "\n",
       "      Unsafe drinking water  Water Resources  Ecosystem Vitality  Agriculture  \\\n",
       "3315                    0.0             3.96               6.040         50.0   \n",
       "3316                    0.0             3.96               6.040         50.0   \n",
       "3317                    0.0             3.96               6.040         50.0   \n",
       "3318                    0.0             3.96               6.040         50.0   \n",
       "3319                    0.0             3.96               6.040         50.0   \n",
       "3320                    0.0             3.96               6.040         50.0   \n",
       "3321                    0.0             3.96               6.040         50.0   \n",
       "3322                    0.0             3.96               6.040         50.0   \n",
       "3323                    0.0             3.96               6.500         56.0   \n",
       "3324                    0.0             3.96               6.500         56.0   \n",
       "3325                    0.0             3.96               6.500         56.0   \n",
       "3326                    0.0             3.96               6.500         56.0   \n",
       "3327                    0.0             3.96               6.500         56.0   \n",
       "3328                    0.0             3.96              10.745         56.0   \n",
       "3329                    0.0             3.96              14.990         56.0   \n",
       "\n",
       "      ...  Health Impacts  Household Air Quality  Access to Electricity  \\\n",
       "3315  ...           14.01                    2.6                 26.600   \n",
       "3316  ...           14.41                    2.9                 26.900   \n",
       "3317  ...           14.82                    3.2                 27.200   \n",
       "3318  ...           15.25                    3.5                 27.500   \n",
       "3319  ...           15.71                    3.8                 27.800   \n",
       "3320  ...           16.18                    4.1                 28.100   \n",
       "3321  ...           16.65                    4.4                 28.400   \n",
       "3322  ...           17.11                    4.7                 28.700   \n",
       "3323  ...           17.58                    5.0                 29.000   \n",
       "3324  ...           18.06                    5.0                 29.000   \n",
       "3325  ...           18.55                    5.0                 29.000   \n",
       "3326  ...           18.55                    5.0                 29.000   \n",
       "3327  ...           18.55                    5.0                 29.000   \n",
       "3328  ...           22.37                    5.0                 45.565   \n",
       "3329  ...           26.19                    5.0                 62.130   \n",
       "\n",
       "      Pesticide Regulation  Agricultural Subsidies  Child Mortality  \\\n",
       "3315                   0.0                   100.0            14.01   \n",
       "3316                   0.0                   100.0            14.41   \n",
       "3317                   0.0                   100.0            14.82   \n",
       "3318                   0.0                   100.0            15.25   \n",
       "3319                   0.0                   100.0            15.71   \n",
       "3320                   0.0                   100.0            16.18   \n",
       "3321                   0.0                   100.0            16.65   \n",
       "3322                   0.0                   100.0            17.11   \n",
       "3323                  12.0                   100.0            17.58   \n",
       "3324                  12.0                   100.0            18.06   \n",
       "3325                  12.0                   100.0            18.55   \n",
       "3326                  12.0                   100.0            18.55   \n",
       "3327                  12.0                   100.0            18.55   \n",
       "3328                  12.0                   100.0            18.55   \n",
       "3329                  12.0                   100.0            18.55   \n",
       "\n",
       "      Fisheries  Marine Protected Areas  Fish Stock Status           GDP  \n",
       "3315       0.00                     0.0               0.00           NaN  \n",
       "3316       0.00                     0.0               0.00           NaN  \n",
       "3317       0.00                     0.0               0.00           NaN  \n",
       "3318       0.00                     0.0               0.00           NaN  \n",
       "3319       0.00                     0.0               0.00           NaN  \n",
       "3320       0.00                     0.0               0.00           NaN  \n",
       "3321       0.00                     0.0               0.00           NaN  \n",
       "3322       0.00                     0.0               0.00           NaN  \n",
       "3323       0.00                     0.0               0.00           NaN  \n",
       "3324       0.00                     0.0               0.00           NaN  \n",
       "3325       0.00                     0.0               0.00           NaN  \n",
       "3326       0.00                     0.0               0.00  5.352000e+09  \n",
       "3327       0.00                     0.0               0.00  5.647000e+09  \n",
       "3328      17.74                     0.0              17.74  5.925000e+09  \n",
       "3329      35.48                     0.0              35.48  0.000000e+00  \n",
       "\n",
       "[15 rows x 27 columns]"
      ]
     },
     "execution_count": 64,
     "metadata": {},
     "output_type": "execute_result"
    }
   ],
   "source": [
    "epi.loc[epi['country_name'].isin(['Somalia'])]"
   ]
  },
  {
   "cell_type": "code",
   "execution_count": 114,
   "id": "7d6b4db8",
   "metadata": {},
   "outputs": [],
   "source": [
    "for year in somalia_gdp.index.tolist():\n",
    "    mask = (epi['country_name'].isin(['Somalia'])) & (epi['year'] == year)\n",
    "    epi.loc[mask, 'GDP'] = somalia_gdp['Annual GDP'][year]"
   ]
  },
  {
   "cell_type": "markdown",
   "id": "01393fed",
   "metadata": {},
   "source": [
    "- Impute remaining nulls by padding using existing entries."
   ]
  },
  {
   "cell_type": "code",
   "execution_count": 46,
   "id": "fc2a6e55",
   "metadata": {
    "ExecuteTime": {
     "end_time": "2021-05-13T16:58:12.523024Z",
     "start_time": "2021-05-13T16:58:12.509013Z"
    }
   },
   "outputs": [],
   "source": [
    "#TODO"
   ]
  },
  {
   "cell_type": "code",
   "execution_count": null,
   "id": "0081c5a3",
   "metadata": {},
   "outputs": [],
   "source": []
  }
 ],
 "metadata": {
  "kernelspec": {
   "display_name": "Python 3",
   "language": "python",
   "name": "python3"
  },
  "language_info": {
   "codemirror_mode": {
    "name": "ipython",
    "version": 3
   },
   "file_extension": ".py",
   "mimetype": "text/x-python",
   "name": "python",
   "nbconvert_exporter": "python",
   "pygments_lexer": "ipython3",
   "version": "3.7.6"
  }
 },
 "nbformat": 4,
 "nbformat_minor": 5
}
