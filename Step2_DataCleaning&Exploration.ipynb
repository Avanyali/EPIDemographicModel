{
 "cells": [
  {
   "cell_type": "code",
   "execution_count": 1,
   "metadata": {
    "ExecuteTime": {
     "end_time": "2021-05-13T16:58:00.805371Z",
     "start_time": "2021-05-13T16:57:58.282867Z"
    }
   },
   "outputs": [],
   "source": [
    "import pandas as pd\n",
    "import numpy as np\n",
    "import seaborn as sns\n",
    "import matplotlib.pyplot as plt"
   ]
  },
  {
   "cell_type": "markdown",
   "metadata": {},
   "source": [
    "***Data Cleaning and Exploration***"
   ]
  },
  {
   "cell_type": "code",
   "execution_count": 2,
   "metadata": {
    "ExecuteTime": {
     "end_time": "2021-05-13T16:58:00.835398Z",
     "start_time": "2021-05-13T16:58:00.807373Z"
    }
   },
   "outputs": [],
   "source": [
    "epi = pd.read_csv('data/dataframes/epi_wrangled.csv')"
   ]
  },
  {
   "cell_type": "markdown",
   "metadata": {},
   "source": [
    "- Remove countries with fewer than 5 records."
   ]
  },
  {
   "cell_type": "code",
   "execution_count": 3,
   "metadata": {
    "ExecuteTime": {
     "end_time": "2021-05-13T16:58:00.850412Z",
     "start_time": "2021-05-13T16:58:00.836398Z"
    }
   },
   "outputs": [],
   "source": [
    "high_data = [key for key, value in epi['country_name'].value_counts().to_dict().items() if value >5]"
   ]
  },
  {
   "cell_type": "code",
   "execution_count": 4,
   "metadata": {
    "ExecuteTime": {
     "end_time": "2021-05-13T16:58:00.866425Z",
     "start_time": "2021-05-13T16:58:00.852414Z"
    }
   },
   "outputs": [],
   "source": [
    "epi = epi[epi['country_name'].isin(high_data)]"
   ]
  },
  {
   "cell_type": "code",
   "execution_count": 5,
   "metadata": {
    "ExecuteTime": {
     "end_time": "2021-05-13T16:58:00.882440Z",
     "start_time": "2021-05-13T16:58:00.868428Z"
    }
   },
   "outputs": [
    {
     "data": {
      "text/plain": [
       "Malta                     19\n",
       "Bangladesh                19\n",
       "Uruguay                   19\n",
       "Colombia                  19\n",
       "Bosnia and Herzegovina    19\n",
       "                          ..\n",
       "Sao Tome and Principe      9\n",
       "Micronesia                 9\n",
       "Saint Lucia                9\n",
       "Maldives                   9\n",
       "Samoa                      9\n",
       "Name: country_name, Length: 185, dtype: int64"
      ]
     },
     "execution_count": 5,
     "metadata": {},
     "output_type": "execute_result"
    }
   ],
   "source": [
    "epi['country_name'].value_counts()"
   ]
  },
  {
   "cell_type": "markdown",
   "metadata": {},
   "source": [
    "- Linearly impute values in place of nulls."
   ]
  },
  {
   "cell_type": "code",
   "execution_count": 6,
   "metadata": {
    "ExecuteTime": {
     "end_time": "2021-05-13T16:58:00.898454Z",
     "start_time": "2021-05-13T16:58:00.884441Z"
    }
   },
   "outputs": [],
   "source": [
    "def impute_values(country_name):\n",
    "    country = epi[epi['country_name'] == country_name].copy()\n",
    "    for col in country.columns:\n",
    "        country[col] = country[col].map(lambda x: np.nan if x == 'None' else x)\n",
    "        country[col].interpolate(method='linear',order=1,inplace=True, axis=0)\n",
    "    return country\n",
    "        "
   ]
  },
  {
   "cell_type": "code",
   "execution_count": 7,
   "metadata": {
    "ExecuteTime": {
     "end_time": "2021-05-13T16:58:05.337524Z",
     "start_time": "2021-05-13T16:58:00.901456Z"
    }
   },
   "outputs": [],
   "source": [
    "epi_new = pd.DataFrame()\n",
    "\n",
    "for country_name in  set(epi['country_name'].values):\n",
    "    country_df = impute_values(country_name)\n",
    "    epi_new = pd.concat([epi_new, country_df], ignore_index = True)"
   ]
  },
  {
   "cell_type": "code",
   "execution_count": 8,
   "metadata": {
    "ExecuteTime": {
     "end_time": "2021-05-13T16:58:05.352537Z",
     "start_time": "2021-05-13T16:58:05.340526Z"
    }
   },
   "outputs": [],
   "source": [
    "epi = epi_new"
   ]
  },
  {
   "cell_type": "markdown",
   "metadata": {},
   "source": [
    "- Drop columns with low value data, identified by visual analysis with respect to time. These columns' values tend to be almost entirely the same for each country on the list."
   ]
  },
  {
   "cell_type": "code",
   "execution_count": 9,
   "metadata": {
    "ExecuteTime": {
     "end_time": "2021-05-13T16:58:05.368551Z",
     "start_time": "2021-05-13T16:58:05.354539Z"
    }
   },
   "outputs": [],
   "source": [
    "drop_list = ['Climate','Forests', 'Critical Habitat Protection', 'Change in Forest Cover','Change of Trend in Carbon Intensity', 'Coastal Shelf Fishing Pressure',\n",
    "'Trend in CO2 Emissions per KWH','Trend in Carbon Intensity','Climate & Energy']"
   ]
  },
  {
   "cell_type": "code",
   "execution_count": 10,
   "metadata": {
    "ExecuteTime": {
     "end_time": "2021-05-13T16:58:05.383564Z",
     "start_time": "2021-05-13T16:58:05.371560Z"
    }
   },
   "outputs": [],
   "source": [
    "epi.drop(columns=drop_list,inplace=True)"
   ]
  },
  {
   "cell_type": "code",
   "execution_count": 11,
   "metadata": {
    "ExecuteTime": {
     "end_time": "2021-05-13T16:58:05.414592Z",
     "start_time": "2021-05-13T16:58:05.385566Z"
    }
   },
   "outputs": [
    {
     "data": {
      "text/plain": [
       "Marine Protected Areas                             868\n",
       "Fisheries                                          842\n",
       "Fish Stock Status                                  842\n",
       "Agricultural Subsidies                             466\n",
       "Environmental Performance Index                     38\n",
       "Ecosystem Vitality                                  38\n",
       "Water Resources                                     26\n",
       "Wastewater Treatment                                26\n",
       "GDP                                                 13\n",
       "Environmental Health                                12\n",
       "Child Mortality                                      9\n",
       "Access to Electricity                                9\n",
       "Health Impacts                                       9\n",
       "Terrestrial biome protection (national weights)      8\n",
       "Agriculture                                          8\n",
       "Biodiversity & Habitat                               8\n",
       "Terrestrial biome protection (global weights)        8\n",
       "Air Quality                                          4\n",
       "PM2.5 Exceedance                                     4\n",
       "PM2.5 Exposure                                       4\n",
       "dtype: int64"
      ]
     },
     "execution_count": 11,
     "metadata": {},
     "output_type": "execute_result"
    }
   ],
   "source": [
    "nulls = epi.isnull().sum().sort_values(ascending =False)\n",
    "nulls[nulls > 0]"
   ]
  },
  {
   "cell_type": "markdown",
   "metadata": {},
   "source": [
    "- Inspect columns with high null count indicators: Marine Protected Areas, Fisheries, Fish Stock Status and Agricultural Subsidies"
   ]
  },
  {
   "cell_type": "code",
   "execution_count": 12,
   "metadata": {
    "ExecuteTime": {
     "end_time": "2021-05-13T16:58:05.430607Z",
     "start_time": "2021-05-13T16:58:05.415592Z"
    }
   },
   "outputs": [],
   "source": [
    "def full_null_column(countries, column_name):\n",
    "    all_null = []\n",
    "    for country in countries:\n",
    "        country_frame = epi[epi['country_name'] == country]\n",
    "        nans = country_frame[column_name].isna().sum()\n",
    "\n",
    "        if nans/country_frame.shape[0] == 1:\n",
    "            all_null.append(country)\n",
    "            \n",
    "    return all_null"
   ]
  },
  {
   "cell_type": "code",
   "execution_count": 13,
   "metadata": {
    "ExecuteTime": {
     "end_time": "2021-05-13T16:58:05.445619Z",
     "start_time": "2021-05-13T16:58:05.431607Z"
    }
   },
   "outputs": [],
   "source": [
    "marine_countries = set(epi[epi['Marine Protected Areas'].isnull() == True]['country_name'].values)\n",
    "fish_countries = set(epi[epi['Fisheries'].isnull() == True]['country_name'].values)\n",
    "stock_countries = set(epi[epi['Fish Stock Status'].isnull() == True]['country_name'].values)"
   ]
  },
  {
   "cell_type": "code",
   "execution_count": 14,
   "metadata": {
    "ExecuteTime": {
     "end_time": "2021-05-13T16:58:05.583748Z",
     "start_time": "2021-05-13T16:58:05.447621Z"
    }
   },
   "outputs": [],
   "source": [
    "full_marine_nulls = full_null_column(marine_countries, 'Marine Protected Areas')\n",
    "full_fishery_nulls = full_null_column(fish_countries, 'Fisheries')\n",
    "full_stock_nulls = full_null_column(stock_countries, 'Fish Stock Status')"
   ]
  },
  {
   "cell_type": "code",
   "execution_count": 15,
   "metadata": {
    "ExecuteTime": {
     "end_time": "2021-05-13T16:58:05.598759Z",
     "start_time": "2021-05-13T16:58:05.585748Z"
    }
   },
   "outputs": [
    {
     "data": {
      "text/plain": [
       "['Guinea-Bissau', 'Brunei Darussalam', 'Maldives']"
      ]
     },
     "execution_count": 15,
     "metadata": {},
     "output_type": "execute_result"
    }
   ],
   "source": [
    "marine_anomalies = [country for country in marine_countries if country not in full_marine_nulls]\n",
    "marine_anomalies"
   ]
  },
  {
   "cell_type": "code",
   "execution_count": 16,
   "metadata": {
    "ExecuteTime": {
     "end_time": "2021-05-13T16:58:05.614775Z",
     "start_time": "2021-05-13T16:58:05.600763Z"
    }
   },
   "outputs": [
    {
     "data": {
      "text/plain": [
       "['Saint Vincent and the Grenadines']"
      ]
     },
     "execution_count": 16,
     "metadata": {},
     "output_type": "execute_result"
    }
   ],
   "source": [
    "fish_anomalies = [country for country in fish_countries if country not in full_fishery_nulls]\n",
    "fish_anomalies"
   ]
  },
  {
   "cell_type": "code",
   "execution_count": 17,
   "metadata": {
    "ExecuteTime": {
     "end_time": "2021-05-13T16:58:05.630788Z",
     "start_time": "2021-05-13T16:58:05.615776Z"
    }
   },
   "outputs": [
    {
     "data": {
      "text/plain": [
       "['Saint Vincent and the Grenadines']"
      ]
     },
     "execution_count": 17,
     "metadata": {},
     "output_type": "execute_result"
    }
   ],
   "source": [
    "stock_anomalies = [country for country in stock_countries if country not in full_stock_nulls]\n",
    "stock_anomalies"
   ]
  },
  {
   "cell_type": "markdown",
   "metadata": {},
   "source": [
    "- Compare lists of countries."
   ]
  },
  {
   "cell_type": "code",
   "execution_count": 18,
   "metadata": {
    "ExecuteTime": {
     "end_time": "2021-05-13T16:58:05.646803Z",
     "start_time": "2021-05-13T16:58:05.632792Z"
    }
   },
   "outputs": [
    {
     "data": {
      "text/plain": [
       "['Ethiopia', 'Niger', 'Austria', 'Slovakia', 'Jordan']"
      ]
     },
     "execution_count": 18,
     "metadata": {},
     "output_type": "execute_result"
    }
   ],
   "source": [
    "full_marine_nulls[:5]"
   ]
  },
  {
   "cell_type": "code",
   "execution_count": 19,
   "metadata": {
    "ExecuteTime": {
     "end_time": "2021-05-13T16:58:05.662149Z",
     "start_time": "2021-05-13T16:58:05.647803Z"
    },
    "scrolled": true
   },
   "outputs": [
    {
     "data": {
      "text/plain": [
       "['Ethiopia', 'Niger', 'Austria', 'Slovakia', 'Jordan']"
      ]
     },
     "execution_count": 19,
     "metadata": {},
     "output_type": "execute_result"
    }
   ],
   "source": [
    "full_fishery_nulls[:5]"
   ]
  },
  {
   "cell_type": "code",
   "execution_count": 20,
   "metadata": {
    "ExecuteTime": {
     "end_time": "2021-05-13T16:58:05.678164Z",
     "start_time": "2021-05-13T16:58:05.664151Z"
    }
   },
   "outputs": [
    {
     "data": {
      "text/plain": [
       "['Ethiopia', 'Niger', 'Austria', 'Slovakia', 'Jordan']"
      ]
     },
     "execution_count": 20,
     "metadata": {},
     "output_type": "execute_result"
    }
   ],
   "source": [
    "full_stock_nulls[:5]"
   ]
  },
  {
   "cell_type": "markdown",
   "metadata": {},
   "source": [
    "- All countries with null values for all three identifiers have been determined to be landlocked., and thus cannot have fisheries, marine protected areas, or fish stock status. Filling null values with 0.\n",
    "- Note: there are six countries that do not appear to technically be landlocked, but still show nulls for these values. This is because they either:\n",
    "   - Have a small sliver of land that touches the ocean: Dem. Rep. Conga, Slovenia, and Bosnia and Herzegovina.\n",
    "   - Border the Caspian sea, which is debatably not a true marine sea: Turkmenistan, Kazakhstan, Azerbaijan."
   ]
  },
  {
   "cell_type": "code",
   "execution_count": 21,
   "metadata": {
    "ExecuteTime": {
     "end_time": "2021-05-13T16:58:05.694177Z",
     "start_time": "2021-05-13T16:58:05.680165Z"
    }
   },
   "outputs": [],
   "source": [
    "landlocked = [x for x in marine_countries if x in fish_countries]"
   ]
  },
  {
   "cell_type": "code",
   "execution_count": 22,
   "metadata": {
    "ExecuteTime": {
     "end_time": "2021-05-13T16:58:05.710192Z",
     "start_time": "2021-05-13T16:58:05.698181Z"
    }
   },
   "outputs": [],
   "source": [
    "to_fill = ['Fisheries', 'Marine Protected Areas', 'Fish Stock Status']"
   ]
  },
  {
   "cell_type": "code",
   "execution_count": 23,
   "metadata": {
    "ExecuteTime": {
     "end_time": "2021-05-13T16:58:05.725319Z",
     "start_time": "2021-05-13T16:58:05.713194Z"
    }
   },
   "outputs": [],
   "source": [
    "for column in to_fill:\n",
    "    epi.loc[epi['country_name'].isin(landlocked), column] = epi.loc[epi['country_name'].isin(landlocked), column].fillna(0)"
   ]
  },
  {
   "cell_type": "markdown",
   "metadata": {},
   "source": [
    "- Inspect countries with poor marine data that are not landlocked."
   ]
  },
  {
   "cell_type": "code",
   "execution_count": 24,
   "metadata": {
    "ExecuteTime": {
     "end_time": "2021-05-13T16:58:05.740333Z",
     "start_time": "2021-05-13T16:58:05.726320Z"
    }
   },
   "outputs": [],
   "source": [
    "marine_anomalies.extend(fish_anomalies)\n",
    "anomalies = marine_anomalies"
   ]
  },
  {
   "cell_type": "code",
   "execution_count": 25,
   "metadata": {
    "ExecuteTime": {
     "end_time": "2021-05-13T16:58:06.190066Z",
     "start_time": "2021-05-13T16:58:05.742335Z"
    }
   },
   "outputs": [
    {
     "data": {
      "image/png": "[encoded data removed]",
      "text/plain": [
       "<Figure size 432x288 with 1 Axes>"
      ]
     },
     "metadata": {
      "needs_background": "light"
     },
     "output_type": "display_data"
    }
   ],
   "source": [
    "for country in anomalies:\n",
    "    sns.scatterplot(data = epi[epi['country_name'] == country], x = 'year', y = 'Marine Protected Areas')\n",
    "\n",
    "plt.legend(anomalies)\n",
    "plt.title(\"Percent Marine Protected Areas by country reported by Year\")\n",
    "plt.show()"
   ]
  },
  {
   "cell_type": "code",
   "execution_count": 26,
   "metadata": {
    "ExecuteTime": {
     "end_time": "2021-05-13T16:58:06.552416Z",
     "start_time": "2021-05-13T16:58:06.191067Z"
    }
   },
   "outputs": [
    {
     "data": {
      "image/png": "[encoded data removed]",
      "text/plain": [
       "<Figure size 432x288 with 1 Axes>"
      ]
     },
     "metadata": {
      "needs_background": "light"
     },
     "output_type": "display_data"
    }
   ],
   "source": [
    "for country in anomalies:\n",
    "    sns.scatterplot(data = epi[epi['country_name'] == country], x = 'year', y = 'Fish Stock Status')\n",
    "\n",
    "plt.legend(anomalies)\n",
    "plt.title(\"Fish stock status by country reported by Year\")\n",
    "plt.show()"
   ]
  },
  {
   "cell_type": "code",
   "execution_count": 27,
   "metadata": {
    "ExecuteTime": {
     "end_time": "2021-05-13T16:58:06.912743Z",
     "start_time": "2021-05-13T16:58:06.554418Z"
    }
   },
   "outputs": [
    {
     "data": {
      "image/png": "[encoded data removed]",
      "text/plain": [
       "<Figure size 432x288 with 1 Axes>"
      ]
     },
     "metadata": {
      "needs_background": "light"
     },
     "output_type": "display_data"
    }
   ],
   "source": [
    "for country in anomalies:\n",
    "    sns.scatterplot(data = epi[epi['country_name'] == country], x = 'year', y = 'Fisheries')\n",
    "\n",
    "plt.legend(anomalies)\n",
    "plt.title(\"Fisheries by country reported by Year\")\n",
    "plt.show()"
   ]
  },
  {
   "cell_type": "markdown",
   "metadata": {},
   "source": [
    "- Decision: drop Saint Vincent and the Grenadines from our data, as we do not feel we can confidently impute null values from only three reported values in two categories (one of which shows significant volatility)."
   ]
  },
  {
   "cell_type": "code",
   "execution_count": 28,
   "metadata": {
    "ExecuteTime": {
     "end_time": "2021-05-13T16:58:06.928792Z",
     "start_time": "2021-05-13T16:58:06.913785Z"
    }
   },
   "outputs": [],
   "source": [
    "epi = epi[epi['country_name'] != 'Saint Vincent and the Grenadines']"
   ]
  },
  {
   "cell_type": "markdown",
   "metadata": {},
   "source": [
    "- Inspect final column with high null count: Agricultural Subsidies."
   ]
  },
  {
   "cell_type": "code",
   "execution_count": 29,
   "metadata": {
    "ExecuteTime": {
     "end_time": "2021-05-13T16:58:06.943805Z",
     "start_time": "2021-05-13T16:58:06.930794Z"
    }
   },
   "outputs": [],
   "source": [
    "ag_countries = set(epi[epi['Agricultural Subsidies'].isnull() == True]['country_name'].values)"
   ]
  },
  {
   "cell_type": "code",
   "execution_count": 30,
   "metadata": {
    "ExecuteTime": {
     "end_time": "2021-05-13T16:58:06.974833Z",
     "start_time": "2021-05-13T16:58:06.945807Z"
    }
   },
   "outputs": [],
   "source": [
    "full_ag_nulls = full_null_column(ag_countries, 'Agricultural Subsidies')"
   ]
  },
  {
   "cell_type": "code",
   "execution_count": 31,
   "metadata": {
    "ExecuteTime": {
     "end_time": "2021-05-13T16:58:06.990847Z",
     "start_time": "2021-05-13T16:58:06.975834Z"
    }
   },
   "outputs": [
    {
     "data": {
      "text/plain": [
       "True"
      ]
     },
     "execution_count": 31,
     "metadata": {},
     "output_type": "execute_result"
    }
   ],
   "source": [
    "len(ag_countries) == len(full_ag_nulls)"
   ]
  },
  {
   "cell_type": "markdown",
   "metadata": {},
   "source": [
    "- Impute regional values into each country. (TODO)"
   ]
  },
  {
   "cell_type": "code",
   "execution_count": 32,
   "metadata": {
    "ExecuteTime": {
     "end_time": "2021-05-13T16:58:07.022660Z",
     "start_time": "2021-05-13T16:58:06.992848Z"
    }
   },
   "outputs": [],
   "source": [
    "regional = pd.read_csv(\"./data/EPI_data/epi2020resultsregions20200604.csv\")"
   ]
  },
  {
   "cell_type": "code",
   "execution_count": 33,
   "metadata": {
    "ExecuteTime": {
     "end_time": "2021-05-13T16:58:07.037673Z",
     "start_time": "2021-05-13T16:58:07.024662Z"
    }
   },
   "outputs": [],
   "source": [
    "regional_means = regional[[ 'country','AGR.rgn.mean']]"
   ]
  },
  {
   "cell_type": "code",
   "execution_count": 34,
   "metadata": {
    "ExecuteTime": {
     "end_time": "2021-05-13T16:58:07.053685Z",
     "start_time": "2021-05-13T16:58:07.039675Z"
    }
   },
   "outputs": [],
   "source": [
    "regional_means = regional_means[regional_means['country'].isin(ag_countries)]"
   ]
  },
  {
   "cell_type": "code",
   "execution_count": 35,
   "metadata": {
    "ExecuteTime": {
     "end_time": "2021-05-13T16:58:07.069699Z",
     "start_time": "2021-05-13T16:58:07.055688Z"
    }
   },
   "outputs": [
    {
     "data": {
      "text/html": [
       "<div>\n",
       "<style scoped>\n",
       "    .dataframe tbody tr th:only-of-type {\n",
       "        vertical-align: middle;\n",
       "    }\n",
       "\n",
       "    .dataframe tbody tr th {\n",
       "        vertical-align: top;\n",
       "    }\n",
       "\n",
       "    .dataframe thead th {\n",
       "        text-align: right;\n",
       "    }\n",
       "</style>\n",
       "<table border=\"1\" class=\"dataframe\">\n",
       "  <thead>\n",
       "    <tr style=\"text-align: right;\">\n",
       "      <th></th>\n",
       "      <th>country</th>\n",
       "      <th>AGR.rgn.mean</th>\n",
       "    </tr>\n",
       "  </thead>\n",
       "  <tbody>\n",
       "    <tr>\n",
       "      <th>3</th>\n",
       "      <td>United Arab Emirates</td>\n",
       "      <td>36.512500</td>\n",
       "    </tr>\n",
       "    <tr>\n",
       "      <th>6</th>\n",
       "      <td>Antigua and Barbuda</td>\n",
       "      <td>32.653125</td>\n",
       "    </tr>\n",
       "    <tr>\n",
       "      <th>16</th>\n",
       "      <td>Bahrain</td>\n",
       "      <td>36.512500</td>\n",
       "    </tr>\n",
       "    <tr>\n",
       "      <th>17</th>\n",
       "      <td>Bahamas</td>\n",
       "      <td>32.653125</td>\n",
       "    </tr>\n",
       "    <tr>\n",
       "      <th>23</th>\n",
       "      <td>Barbados</td>\n",
       "      <td>32.653125</td>\n",
       "    </tr>\n",
       "    <tr>\n",
       "      <th>24</th>\n",
       "      <td>Brunei Darussalam</td>\n",
       "      <td>35.940000</td>\n",
       "    </tr>\n",
       "    <tr>\n",
       "      <th>26</th>\n",
       "      <td>Botswana</td>\n",
       "      <td>32.882609</td>\n",
       "    </tr>\n",
       "    <tr>\n",
       "      <th>35</th>\n",
       "      <td>Republic of Congo</td>\n",
       "      <td>32.882609</td>\n",
       "    </tr>\n",
       "    <tr>\n",
       "      <th>40</th>\n",
       "      <td>Cuba</td>\n",
       "      <td>32.653125</td>\n",
       "    </tr>\n",
       "    <tr>\n",
       "      <th>44</th>\n",
       "      <td>Djibouti</td>\n",
       "      <td>32.882609</td>\n",
       "    </tr>\n",
       "    <tr>\n",
       "      <th>59</th>\n",
       "      <td>Gabon</td>\n",
       "      <td>32.882609</td>\n",
       "    </tr>\n",
       "    <tr>\n",
       "      <th>66</th>\n",
       "      <td>Equatorial Guinea</td>\n",
       "      <td>32.882609</td>\n",
       "    </tr>\n",
       "    <tr>\n",
       "      <th>84</th>\n",
       "      <td>Jordan</td>\n",
       "      <td>36.512500</td>\n",
       "    </tr>\n",
       "    <tr>\n",
       "      <th>92</th>\n",
       "      <td>Kuwait</td>\n",
       "      <td>36.512500</td>\n",
       "    </tr>\n",
       "    <tr>\n",
       "      <th>96</th>\n",
       "      <td>Saint Lucia</td>\n",
       "      <td>32.653125</td>\n",
       "    </tr>\n",
       "    <tr>\n",
       "      <th>107</th>\n",
       "      <td>Marshall Islands</td>\n",
       "      <td>35.940000</td>\n",
       "    </tr>\n",
       "    <tr>\n",
       "      <th>116</th>\n",
       "      <td>Mauritius</td>\n",
       "      <td>32.882609</td>\n",
       "    </tr>\n",
       "    <tr>\n",
       "      <th>127</th>\n",
       "      <td>Oman</td>\n",
       "      <td>36.512500</td>\n",
       "    </tr>\n",
       "    <tr>\n",
       "      <th>129</th>\n",
       "      <td>Panama</td>\n",
       "      <td>32.653125</td>\n",
       "    </tr>\n",
       "    <tr>\n",
       "      <th>136</th>\n",
       "      <td>Qatar</td>\n",
       "      <td>36.512500</td>\n",
       "    </tr>\n",
       "    <tr>\n",
       "      <th>140</th>\n",
       "      <td>Saudi Arabia</td>\n",
       "      <td>36.512500</td>\n",
       "    </tr>\n",
       "    <tr>\n",
       "      <th>143</th>\n",
       "      <td>Singapore</td>\n",
       "      <td>35.940000</td>\n",
       "    </tr>\n",
       "    <tr>\n",
       "      <th>154</th>\n",
       "      <td>Seychelles</td>\n",
       "      <td>32.882609</td>\n",
       "    </tr>\n",
       "    <tr>\n",
       "      <th>162</th>\n",
       "      <td>Trinidad and Tobago</td>\n",
       "      <td>32.653125</td>\n",
       "    </tr>\n",
       "  </tbody>\n",
       "</table>\n",
       "</div>"
      ],
      "text/plain": [
       "                  country  AGR.rgn.mean\n",
       "3    United Arab Emirates     36.512500\n",
       "6     Antigua and Barbuda     32.653125\n",
       "16                Bahrain     36.512500\n",
       "17                Bahamas     32.653125\n",
       "23               Barbados     32.653125\n",
       "24      Brunei Darussalam     35.940000\n",
       "26               Botswana     32.882609\n",
       "35      Republic of Congo     32.882609\n",
       "40                   Cuba     32.653125\n",
       "44               Djibouti     32.882609\n",
       "59                  Gabon     32.882609\n",
       "66      Equatorial Guinea     32.882609\n",
       "84                 Jordan     36.512500\n",
       "92                 Kuwait     36.512500\n",
       "96            Saint Lucia     32.653125\n",
       "107      Marshall Islands     35.940000\n",
       "116             Mauritius     32.882609\n",
       "127                  Oman     36.512500\n",
       "129                Panama     32.653125\n",
       "136                 Qatar     36.512500\n",
       "140          Saudi Arabia     36.512500\n",
       "143             Singapore     35.940000\n",
       "154            Seychelles     32.882609\n",
       "162   Trinidad and Tobago     32.653125"
      ]
     },
     "execution_count": 35,
     "metadata": {},
     "output_type": "execute_result"
    }
   ],
   "source": [
    "regional_means"
   ]
  },
  {
   "cell_type": "code",
   "execution_count": null,
   "metadata": {},
   "outputs": [],
   "source": []
  },
  {
   "cell_type": "code",
   "execution_count": 36,
   "metadata": {
    "ExecuteTime": {
     "end_time": "2021-05-13T16:58:07.085713Z",
     "start_time": "2021-05-13T16:58:07.071702Z"
    }
   },
   "outputs": [
    {
     "name": "stderr",
     "output_type": "stream",
     "text": [
      "C:\\Users\\DanAn\\anaconda3secondinstall\\lib\\site-packages\\pandas\\core\\indexing.py:1745: SettingWithCopyWarning: \n",
      "A value is trying to be set on a copy of a slice from a DataFrame.\n",
      "Try using .loc[row_indexer,col_indexer] = value instead\n",
      "\n",
      "See the caveats in the documentation: https://pandas.pydata.org/pandas-docs/stable/user_guide/indexing.html#returning-a-view-versus-a-copy\n",
      "  isetter(ilocs[0], value)\n"
     ]
    }
   ],
   "source": [
    "epi.loc[epi['country_name'].isin(ag_countries), 'Agricultural Subsidies'] = epi.loc[epi['country_name'].isin(ag_countries), 'Agricultural Subsidies'].fillna(-1)"
   ]
  },
  {
   "cell_type": "markdown",
   "metadata": {},
   "source": [
    "- Inspect other less frequently null columns."
   ]
  },
  {
   "cell_type": "code",
   "execution_count": 37,
   "metadata": {
    "ExecuteTime": {
     "end_time": "2021-05-13T16:58:07.101728Z",
     "start_time": "2021-05-13T16:58:07.086715Z"
    }
   },
   "outputs": [],
   "source": [
    "some_nulls = epi.isnull().sum().sort_values(ascending = False)\n",
    "some_nulls = [column for column, value in some_nulls.items() if value > 0]"
   ]
  },
  {
   "cell_type": "code",
   "execution_count": 38,
   "metadata": {
    "ExecuteTime": {
     "end_time": "2021-05-13T16:58:07.133756Z",
     "start_time": "2021-05-13T16:58:07.103730Z"
    }
   },
   "outputs": [],
   "source": [
    "countries_present = {}\n",
    "for column in some_nulls:\n",
    "    null_countries = set(epi[epi[column].isnull() == True]['country_name'].values)\n",
    "    for country in null_countries:\n",
    "        if country in countries_present:\n",
    "            countries_present[country] = countries_present[country] + 1\n",
    "        else:\n",
    "            countries_present[country] = 1"
   ]
  },
  {
   "cell_type": "code",
   "execution_count": 39,
   "metadata": {
    "ExecuteTime": {
     "end_time": "2021-05-13T16:58:07.149760Z",
     "start_time": "2021-05-13T16:58:07.135758Z"
    }
   },
   "outputs": [
    {
     "data": {
      "text/plain": [
       "{'Guinea-Bissau': 1,\n",
       " 'Brunei Darussalam': 1,\n",
       " 'Maldives': 10,\n",
       " 'Marshall Islands': 6,\n",
       " 'Samoa': 4,\n",
       " 'Sao Tome and Principe': 7,\n",
       " 'Micronesia': 5,\n",
       " 'Saint Lucia': 4,\n",
       " 'Iraq': 1,\n",
       " 'Somalia': 1}"
      ]
     },
     "execution_count": 39,
     "metadata": {},
     "output_type": "execute_result"
    }
   ],
   "source": [
    "countries_present"
   ]
  },
  {
   "cell_type": "code",
   "execution_count": 40,
   "metadata": {
    "ExecuteTime": {
     "end_time": "2021-05-13T16:58:07.165774Z",
     "start_time": "2021-05-13T16:58:07.151761Z"
    }
   },
   "outputs": [],
   "source": [
    "frequent_null_countries = [country for country, value in countries_present.items() if value > 1]"
   ]
  },
  {
   "cell_type": "code",
   "execution_count": 41,
   "metadata": {
    "ExecuteTime": {
     "end_time": "2021-05-13T16:58:07.181788Z",
     "start_time": "2021-05-13T16:58:07.166775Z"
    }
   },
   "outputs": [
    {
     "data": {
      "text/plain": [
       "['Maldives',\n",
       " 'Marshall Islands',\n",
       " 'Samoa',\n",
       " 'Sao Tome and Principe',\n",
       " 'Micronesia',\n",
       " 'Saint Lucia']"
      ]
     },
     "execution_count": 41,
     "metadata": {},
     "output_type": "execute_result"
    }
   ],
   "source": [
    "frequent_null_countries"
   ]
  },
  {
   "cell_type": "code",
   "execution_count": 42,
   "metadata": {
    "ExecuteTime": {
     "end_time": "2021-05-13T16:58:09.947909Z",
     "start_time": "2021-05-13T16:58:07.183791Z"
    }
   },
   "outputs": [
    {
     "data": {
      "image/png": "[encoded data removed]",
      "text/plain": [
       "<Figure size 1768.62x180 with 9 Axes>"
      ]
     },
     "metadata": {
      "needs_background": "light"
     },
     "output_type": "display_data"
    }
   ],
   "source": [
    "sns.pairplot(data = epi[epi['country_name'].isin(frequent_null_countries)], y_vars = 'year', x_vars = some_nulls[:9], hue = 'country_name')\n",
    "plt.show()"
   ]
  },
  {
   "cell_type": "code",
   "execution_count": 43,
   "metadata": {
    "ExecuteTime": {
     "end_time": "2021-05-13T16:58:12.474982Z",
     "start_time": "2021-05-13T16:58:09.948909Z"
    }
   },
   "outputs": [
    {
     "data": {
      "image/png": "[encoded data removed]",
      "text/plain": [
       "<Figure size 1588.62x180 with 8 Axes>"
      ]
     },
     "metadata": {
      "needs_background": "light"
     },
     "output_type": "display_data"
    }
   ],
   "source": [
    "sns.pairplot(data = epi[epi['country_name'].isin(frequent_null_countries)], y_vars = 'year', x_vars = some_nulls[9:], hue = 'country_name')\n",
    "plt.show()"
   ]
  },
  {
   "cell_type": "markdown",
   "metadata": {},
   "source": [
    "- For similar reasons to the removal of Saint Vincent and the Grenadines, we are removing the Maldives, Samoa, Micronesia, Saint Lucia, the Marshall Islands, and Sao Tome and Principe from the data set. Reiteration of reasons: some categories contain too few non-null entries to confidently impute from, especially when some show high volatility."
   ]
  },
  {
   "cell_type": "code",
   "execution_count": 44,
   "metadata": {
    "ExecuteTime": {
     "end_time": "2021-05-13T16:58:12.490995Z",
     "start_time": "2021-05-13T16:58:12.476983Z"
    }
   },
   "outputs": [],
   "source": [
    "epi = epi[~epi['country_name'].isin(frequent_null_countries)]"
   ]
  },
  {
   "cell_type": "code",
   "execution_count": 45,
   "metadata": {
    "ExecuteTime": {
     "end_time": "2021-05-13T16:58:12.507010Z",
     "start_time": "2021-05-13T16:58:12.491997Z"
    }
   },
   "outputs": [
    {
     "data": {
      "text/plain": [
       "Marine Protected Areas    28\n",
       "GDP                       13\n",
       "dtype: int64"
      ]
     },
     "execution_count": 45,
     "metadata": {},
     "output_type": "execute_result"
    }
   ],
   "source": [
    "nulls = epi.isnull().sum().sort_values(ascending =False)\n",
    "nulls[nulls > 0]"
   ]
  },
  {
   "cell_type": "markdown",
   "metadata": {},
   "source": [
    "- Impute remaining nulls by padding using existing entries."
   ]
  },
  {
   "cell_type": "code",
   "execution_count": 46,
   "metadata": {
    "ExecuteTime": {
     "end_time": "2021-05-13T16:58:12.523024Z",
     "start_time": "2021-05-13T16:58:12.509013Z"
    }
   },
   "outputs": [],
   "source": [
    "#TODO"
   ]
  },
  {
   "cell_type": "markdown",
   "metadata": {},
   "source": [
    "- TODO: Somalia?"
   ]
  },
  {
   "cell_type": "code",
   "execution_count": 47,
   "metadata": {
    "ExecuteTime": {
     "end_time": "2021-05-13T16:58:12.569065Z",
     "start_time": "2021-05-13T16:58:12.525026Z"
    }
   },
   "outputs": [
    {
     "data": {
      "text/html": [
       "<div>\n",
       "<style scoped>\n",
       "    .dataframe tbody tr th:only-of-type {\n",
       "        vertical-align: middle;\n",
       "    }\n",
       "\n",
       "    .dataframe tbody tr th {\n",
       "        vertical-align: top;\n",
       "    }\n",
       "\n",
       "    .dataframe thead th {\n",
       "        text-align: right;\n",
       "    }\n",
       "</style>\n",
       "<table border=\"1\" class=\"dataframe\">\n",
       "  <thead>\n",
       "    <tr style=\"text-align: right;\">\n",
       "      <th></th>\n",
       "      <th>year</th>\n",
       "      <th>country_name</th>\n",
       "      <th>Unsafe sanitation</th>\n",
       "      <th>Sanitation &amp; Drinking Water</th>\n",
       "      <th>Terrestrial biome protection (national weights)</th>\n",
       "      <th>PM2.5 Exposure</th>\n",
       "      <th>Unsafe drinking water</th>\n",
       "      <th>Water Resources</th>\n",
       "      <th>Ecosystem Vitality</th>\n",
       "      <th>Agriculture</th>\n",
       "      <th>...</th>\n",
       "      <th>Health Impacts</th>\n",
       "      <th>Household Air Quality</th>\n",
       "      <th>Access to Electricity</th>\n",
       "      <th>Pesticide Regulation</th>\n",
       "      <th>Agricultural Subsidies</th>\n",
       "      <th>Child Mortality</th>\n",
       "      <th>Fisheries</th>\n",
       "      <th>Marine Protected Areas</th>\n",
       "      <th>Fish Stock Status</th>\n",
       "      <th>GDP</th>\n",
       "    </tr>\n",
       "  </thead>\n",
       "  <tbody>\n",
       "    <tr>\n",
       "      <th>1758</th>\n",
       "      <td>2002</td>\n",
       "      <td>Somalia</td>\n",
       "      <td>2.14</td>\n",
       "      <td>1.07</td>\n",
       "      <td>3.43</td>\n",
       "      <td>100.00</td>\n",
       "      <td>0.00</td>\n",
       "      <td>3.96</td>\n",
       "      <td>6.04</td>\n",
       "      <td>50.0</td>\n",
       "      <td>...</td>\n",
       "      <td>14.01</td>\n",
       "      <td>2.6</td>\n",
       "      <td>26.6</td>\n",
       "      <td>0.0</td>\n",
       "      <td>100.0</td>\n",
       "      <td>14.01</td>\n",
       "      <td>0.0</td>\n",
       "      <td>0.0</td>\n",
       "      <td>0.0</td>\n",
       "      <td>NaN</td>\n",
       "    </tr>\n",
       "    <tr>\n",
       "      <th>1759</th>\n",
       "      <td>2003</td>\n",
       "      <td>Somalia</td>\n",
       "      <td>2.18</td>\n",
       "      <td>1.09</td>\n",
       "      <td>3.43</td>\n",
       "      <td>100.00</td>\n",
       "      <td>0.00</td>\n",
       "      <td>3.96</td>\n",
       "      <td>6.04</td>\n",
       "      <td>50.0</td>\n",
       "      <td>...</td>\n",
       "      <td>14.41</td>\n",
       "      <td>2.9</td>\n",
       "      <td>26.9</td>\n",
       "      <td>0.0</td>\n",
       "      <td>100.0</td>\n",
       "      <td>14.41</td>\n",
       "      <td>0.0</td>\n",
       "      <td>0.0</td>\n",
       "      <td>0.0</td>\n",
       "      <td>NaN</td>\n",
       "    </tr>\n",
       "    <tr>\n",
       "      <th>1760</th>\n",
       "      <td>2004</td>\n",
       "      <td>Somalia</td>\n",
       "      <td>2.21</td>\n",
       "      <td>1.11</td>\n",
       "      <td>3.43</td>\n",
       "      <td>100.00</td>\n",
       "      <td>0.00</td>\n",
       "      <td>3.96</td>\n",
       "      <td>6.04</td>\n",
       "      <td>50.0</td>\n",
       "      <td>...</td>\n",
       "      <td>14.82</td>\n",
       "      <td>3.2</td>\n",
       "      <td>27.2</td>\n",
       "      <td>0.0</td>\n",
       "      <td>100.0</td>\n",
       "      <td>14.82</td>\n",
       "      <td>0.0</td>\n",
       "      <td>0.0</td>\n",
       "      <td>0.0</td>\n",
       "      <td>NaN</td>\n",
       "    </tr>\n",
       "    <tr>\n",
       "      <th>1761</th>\n",
       "      <td>2005</td>\n",
       "      <td>Somalia</td>\n",
       "      <td>2.25</td>\n",
       "      <td>1.13</td>\n",
       "      <td>3.43</td>\n",
       "      <td>100.00</td>\n",
       "      <td>0.00</td>\n",
       "      <td>3.96</td>\n",
       "      <td>6.04</td>\n",
       "      <td>50.0</td>\n",
       "      <td>...</td>\n",
       "      <td>15.25</td>\n",
       "      <td>3.5</td>\n",
       "      <td>27.5</td>\n",
       "      <td>0.0</td>\n",
       "      <td>100.0</td>\n",
       "      <td>15.25</td>\n",
       "      <td>0.0</td>\n",
       "      <td>0.0</td>\n",
       "      <td>0.0</td>\n",
       "      <td>NaN</td>\n",
       "    </tr>\n",
       "    <tr>\n",
       "      <th>1762</th>\n",
       "      <td>2006</td>\n",
       "      <td>Somalia</td>\n",
       "      <td>2.30</td>\n",
       "      <td>1.15</td>\n",
       "      <td>3.43</td>\n",
       "      <td>100.00</td>\n",
       "      <td>0.00</td>\n",
       "      <td>3.96</td>\n",
       "      <td>6.04</td>\n",
       "      <td>50.0</td>\n",
       "      <td>...</td>\n",
       "      <td>15.71</td>\n",
       "      <td>3.8</td>\n",
       "      <td>27.8</td>\n",
       "      <td>0.0</td>\n",
       "      <td>100.0</td>\n",
       "      <td>15.71</td>\n",
       "      <td>0.0</td>\n",
       "      <td>0.0</td>\n",
       "      <td>0.0</td>\n",
       "      <td>NaN</td>\n",
       "    </tr>\n",
       "    <tr>\n",
       "      <th>1763</th>\n",
       "      <td>2007</td>\n",
       "      <td>Somalia</td>\n",
       "      <td>2.35</td>\n",
       "      <td>1.18</td>\n",
       "      <td>3.43</td>\n",
       "      <td>100.00</td>\n",
       "      <td>0.00</td>\n",
       "      <td>3.96</td>\n",
       "      <td>6.04</td>\n",
       "      <td>50.0</td>\n",
       "      <td>...</td>\n",
       "      <td>16.18</td>\n",
       "      <td>4.1</td>\n",
       "      <td>28.1</td>\n",
       "      <td>0.0</td>\n",
       "      <td>100.0</td>\n",
       "      <td>16.18</td>\n",
       "      <td>0.0</td>\n",
       "      <td>0.0</td>\n",
       "      <td>0.0</td>\n",
       "      <td>NaN</td>\n",
       "    </tr>\n",
       "    <tr>\n",
       "      <th>1764</th>\n",
       "      <td>2008</td>\n",
       "      <td>Somalia</td>\n",
       "      <td>2.41</td>\n",
       "      <td>1.20</td>\n",
       "      <td>3.43</td>\n",
       "      <td>100.00</td>\n",
       "      <td>0.00</td>\n",
       "      <td>3.96</td>\n",
       "      <td>6.04</td>\n",
       "      <td>50.0</td>\n",
       "      <td>...</td>\n",
       "      <td>16.65</td>\n",
       "      <td>4.4</td>\n",
       "      <td>28.4</td>\n",
       "      <td>0.0</td>\n",
       "      <td>100.0</td>\n",
       "      <td>16.65</td>\n",
       "      <td>0.0</td>\n",
       "      <td>0.0</td>\n",
       "      <td>0.0</td>\n",
       "      <td>NaN</td>\n",
       "    </tr>\n",
       "    <tr>\n",
       "      <th>1765</th>\n",
       "      <td>2009</td>\n",
       "      <td>Somalia</td>\n",
       "      <td>2.47</td>\n",
       "      <td>1.23</td>\n",
       "      <td>3.43</td>\n",
       "      <td>100.00</td>\n",
       "      <td>0.00</td>\n",
       "      <td>3.96</td>\n",
       "      <td>6.04</td>\n",
       "      <td>50.0</td>\n",
       "      <td>...</td>\n",
       "      <td>17.11</td>\n",
       "      <td>4.7</td>\n",
       "      <td>28.7</td>\n",
       "      <td>0.0</td>\n",
       "      <td>100.0</td>\n",
       "      <td>17.11</td>\n",
       "      <td>0.0</td>\n",
       "      <td>0.0</td>\n",
       "      <td>0.0</td>\n",
       "      <td>NaN</td>\n",
       "    </tr>\n",
       "    <tr>\n",
       "      <th>1766</th>\n",
       "      <td>2010</td>\n",
       "      <td>Somalia</td>\n",
       "      <td>2.52</td>\n",
       "      <td>1.26</td>\n",
       "      <td>3.43</td>\n",
       "      <td>100.00</td>\n",
       "      <td>0.00</td>\n",
       "      <td>3.96</td>\n",
       "      <td>6.50</td>\n",
       "      <td>56.0</td>\n",
       "      <td>...</td>\n",
       "      <td>17.58</td>\n",
       "      <td>5.0</td>\n",
       "      <td>29.0</td>\n",
       "      <td>12.0</td>\n",
       "      <td>100.0</td>\n",
       "      <td>17.58</td>\n",
       "      <td>0.0</td>\n",
       "      <td>0.0</td>\n",
       "      <td>0.0</td>\n",
       "      <td>NaN</td>\n",
       "    </tr>\n",
       "    <tr>\n",
       "      <th>1767</th>\n",
       "      <td>2011</td>\n",
       "      <td>Somalia</td>\n",
       "      <td>2.58</td>\n",
       "      <td>1.29</td>\n",
       "      <td>3.43</td>\n",
       "      <td>100.00</td>\n",
       "      <td>0.00</td>\n",
       "      <td>3.96</td>\n",
       "      <td>6.50</td>\n",
       "      <td>56.0</td>\n",
       "      <td>...</td>\n",
       "      <td>18.06</td>\n",
       "      <td>5.0</td>\n",
       "      <td>29.0</td>\n",
       "      <td>12.0</td>\n",
       "      <td>100.0</td>\n",
       "      <td>18.06</td>\n",
       "      <td>0.0</td>\n",
       "      <td>0.0</td>\n",
       "      <td>0.0</td>\n",
       "      <td>NaN</td>\n",
       "    </tr>\n",
       "    <tr>\n",
       "      <th>1768</th>\n",
       "      <td>2012</td>\n",
       "      <td>Somalia</td>\n",
       "      <td>2.58</td>\n",
       "      <td>1.29</td>\n",
       "      <td>3.43</td>\n",
       "      <td>100.00</td>\n",
       "      <td>0.00</td>\n",
       "      <td>3.96</td>\n",
       "      <td>6.50</td>\n",
       "      <td>56.0</td>\n",
       "      <td>...</td>\n",
       "      <td>18.55</td>\n",
       "      <td>5.0</td>\n",
       "      <td>29.0</td>\n",
       "      <td>12.0</td>\n",
       "      <td>100.0</td>\n",
       "      <td>18.55</td>\n",
       "      <td>0.0</td>\n",
       "      <td>0.0</td>\n",
       "      <td>0.0</td>\n",
       "      <td>NaN</td>\n",
       "    </tr>\n",
       "    <tr>\n",
       "      <th>3059</th>\n",
       "      <td>2002</td>\n",
       "      <td>Iraq</td>\n",
       "      <td>28.53</td>\n",
       "      <td>28.26</td>\n",
       "      <td>0.00</td>\n",
       "      <td>80.67</td>\n",
       "      <td>27.98</td>\n",
       "      <td>8.29</td>\n",
       "      <td>16.98</td>\n",
       "      <td>50.0</td>\n",
       "      <td>...</td>\n",
       "      <td>60.95</td>\n",
       "      <td>96.8</td>\n",
       "      <td>94.8</td>\n",
       "      <td>0.0</td>\n",
       "      <td>100.0</td>\n",
       "      <td>60.95</td>\n",
       "      <td>0.0</td>\n",
       "      <td>0.0</td>\n",
       "      <td>0.0</td>\n",
       "      <td>NaN</td>\n",
       "    </tr>\n",
       "    <tr>\n",
       "      <th>3060</th>\n",
       "      <td>2003</td>\n",
       "      <td>Iraq</td>\n",
       "      <td>29.25</td>\n",
       "      <td>28.86</td>\n",
       "      <td>0.00</td>\n",
       "      <td>88.01</td>\n",
       "      <td>28.46</td>\n",
       "      <td>8.29</td>\n",
       "      <td>16.98</td>\n",
       "      <td>50.0</td>\n",
       "      <td>...</td>\n",
       "      <td>62.22</td>\n",
       "      <td>97.2</td>\n",
       "      <td>95.2</td>\n",
       "      <td>0.0</td>\n",
       "      <td>100.0</td>\n",
       "      <td>62.22</td>\n",
       "      <td>0.0</td>\n",
       "      <td>0.0</td>\n",
       "      <td>0.0</td>\n",
       "      <td>NaN</td>\n",
       "    </tr>\n",
       "  </tbody>\n",
       "</table>\n",
       "<p>13 rows × 27 columns</p>\n",
       "</div>"
      ],
      "text/plain": [
       "      year country_name  Unsafe sanitation  Sanitation & Drinking Water  \\\n",
       "1758  2002      Somalia               2.14                         1.07   \n",
       "1759  2003      Somalia               2.18                         1.09   \n",
       "1760  2004      Somalia               2.21                         1.11   \n",
       "1761  2005      Somalia               2.25                         1.13   \n",
       "1762  2006      Somalia               2.30                         1.15   \n",
       "1763  2007      Somalia               2.35                         1.18   \n",
       "1764  2008      Somalia               2.41                         1.20   \n",
       "1765  2009      Somalia               2.47                         1.23   \n",
       "1766  2010      Somalia               2.52                         1.26   \n",
       "1767  2011      Somalia               2.58                         1.29   \n",
       "1768  2012      Somalia               2.58                         1.29   \n",
       "3059  2002         Iraq              28.53                        28.26   \n",
       "3060  2003         Iraq              29.25                        28.86   \n",
       "\n",
       "      Terrestrial biome protection (national weights)  PM2.5 Exposure  \\\n",
       "1758                                             3.43          100.00   \n",
       "1759                                             3.43          100.00   \n",
       "1760                                             3.43          100.00   \n",
       "1761                                             3.43          100.00   \n",
       "1762                                             3.43          100.00   \n",
       "1763                                             3.43          100.00   \n",
       "1764                                             3.43          100.00   \n",
       "1765                                             3.43          100.00   \n",
       "1766                                             3.43          100.00   \n",
       "1767                                             3.43          100.00   \n",
       "1768                                             3.43          100.00   \n",
       "3059                                             0.00           80.67   \n",
       "3060                                             0.00           88.01   \n",
       "\n",
       "      Unsafe drinking water  Water Resources  Ecosystem Vitality  Agriculture  \\\n",
       "1758                   0.00             3.96                6.04         50.0   \n",
       "1759                   0.00             3.96                6.04         50.0   \n",
       "1760                   0.00             3.96                6.04         50.0   \n",
       "1761                   0.00             3.96                6.04         50.0   \n",
       "1762                   0.00             3.96                6.04         50.0   \n",
       "1763                   0.00             3.96                6.04         50.0   \n",
       "1764                   0.00             3.96                6.04         50.0   \n",
       "1765                   0.00             3.96                6.04         50.0   \n",
       "1766                   0.00             3.96                6.50         56.0   \n",
       "1767                   0.00             3.96                6.50         56.0   \n",
       "1768                   0.00             3.96                6.50         56.0   \n",
       "3059                  27.98             8.29               16.98         50.0   \n",
       "3060                  28.46             8.29               16.98         50.0   \n",
       "\n",
       "      ...  Health Impacts  Household Air Quality  Access to Electricity  \\\n",
       "1758  ...           14.01                    2.6                   26.6   \n",
       "1759  ...           14.41                    2.9                   26.9   \n",
       "1760  ...           14.82                    3.2                   27.2   \n",
       "1761  ...           15.25                    3.5                   27.5   \n",
       "1762  ...           15.71                    3.8                   27.8   \n",
       "1763  ...           16.18                    4.1                   28.1   \n",
       "1764  ...           16.65                    4.4                   28.4   \n",
       "1765  ...           17.11                    4.7                   28.7   \n",
       "1766  ...           17.58                    5.0                   29.0   \n",
       "1767  ...           18.06                    5.0                   29.0   \n",
       "1768  ...           18.55                    5.0                   29.0   \n",
       "3059  ...           60.95                   96.8                   94.8   \n",
       "3060  ...           62.22                   97.2                   95.2   \n",
       "\n",
       "      Pesticide Regulation  Agricultural Subsidies  Child Mortality  \\\n",
       "1758                   0.0                   100.0            14.01   \n",
       "1759                   0.0                   100.0            14.41   \n",
       "1760                   0.0                   100.0            14.82   \n",
       "1761                   0.0                   100.0            15.25   \n",
       "1762                   0.0                   100.0            15.71   \n",
       "1763                   0.0                   100.0            16.18   \n",
       "1764                   0.0                   100.0            16.65   \n",
       "1765                   0.0                   100.0            17.11   \n",
       "1766                  12.0                   100.0            17.58   \n",
       "1767                  12.0                   100.0            18.06   \n",
       "1768                  12.0                   100.0            18.55   \n",
       "3059                   0.0                   100.0            60.95   \n",
       "3060                   0.0                   100.0            62.22   \n",
       "\n",
       "      Fisheries  Marine Protected Areas  Fish Stock Status  GDP  \n",
       "1758        0.0                     0.0                0.0  NaN  \n",
       "1759        0.0                     0.0                0.0  NaN  \n",
       "1760        0.0                     0.0                0.0  NaN  \n",
       "1761        0.0                     0.0                0.0  NaN  \n",
       "1762        0.0                     0.0                0.0  NaN  \n",
       "1763        0.0                     0.0                0.0  NaN  \n",
       "1764        0.0                     0.0                0.0  NaN  \n",
       "1765        0.0                     0.0                0.0  NaN  \n",
       "1766        0.0                     0.0                0.0  NaN  \n",
       "1767        0.0                     0.0                0.0  NaN  \n",
       "1768        0.0                     0.0                0.0  NaN  \n",
       "3059        0.0                     0.0                0.0  NaN  \n",
       "3060        0.0                     0.0                0.0  NaN  \n",
       "\n",
       "[13 rows x 27 columns]"
      ]
     },
     "execution_count": 47,
     "metadata": {},
     "output_type": "execute_result"
    }
   ],
   "source": [
    "epi[epi['GDP'].isnull() == True]"
   ]
  },
  {
   "cell_type": "code",
   "execution_count": null,
   "metadata": {},
   "outputs": [],
   "source": []
  }
 ],
 "metadata": {
  "kernelspec": {
   "display_name": "Python 3",
   "language": "python",
   "name": "python3"
  },
  "language_info": {
   "codemirror_mode": {
    "name": "ipython",
    "version": 3
   },
   "file_extension": ".py",
   "mimetype": "text/x-python",
   "name": "python",
   "nbconvert_exporter": "python",
   "pygments_lexer": "ipython3",
   "version": "3.8.5"
  }
 },
 "nbformat": 4,
 "nbformat_minor": 5
}
