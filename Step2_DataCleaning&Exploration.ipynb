{
 "cells": [
  {
   "cell_type": "code",
   "execution_count": 1,
   "id": "2b4a8d67",
   "metadata": {},
   "outputs": [],
   "source": [
    "import pandas as pd\n",
    "import numpy as np"
   ]
  },
  {
   "cell_type": "markdown",
   "id": "113952a4",
   "metadata": {},
   "source": [
    "***Data Cleaning and Exploration***"
   ]
  },
  {
   "cell_type": "code",
   "execution_count": 2,
   "id": "8cbea103",
   "metadata": {},
   "outputs": [],
   "source": [
    "epi = pd.read_csv('data/dataframes/epi_wrangled.csv')"
   ]
  },
  {
   "cell_type": "markdown",
   "id": "0318a2da",
   "metadata": {},
   "source": [
    "- Remove countries with fewer than 5 records."
   ]
  },
  {
   "cell_type": "code",
   "execution_count": 3,
   "id": "ec31d18e",
   "metadata": {
    "ExecuteTime": {
     "end_time": "2021-05-12T00:57:33.207718Z",
     "start_time": "2021-05-12T00:57:33.192705Z"
    }
   },
   "outputs": [],
   "source": [
    "high_data = [key for key, value in epi['country_name'].value_counts().to_dict().items() if value >5]"
   ]
  },
  {
   "cell_type": "code",
   "execution_count": 4,
   "id": "b82aa15a",
   "metadata": {
    "ExecuteTime": {
     "end_time": "2021-05-12T00:57:33.239747Z",
     "start_time": "2021-05-12T00:57:33.224733Z"
    }
   },
   "outputs": [],
   "source": [
    "epi = epi[epi['country_name'].isin(high_data)]"
   ]
  },
  {
   "cell_type": "code",
   "execution_count": 5,
   "id": "d68d007b",
   "metadata": {
    "ExecuteTime": {
     "end_time": "2021-05-12T00:57:33.301802Z",
     "start_time": "2021-05-12T00:57:33.286788Z"
    }
   },
   "outputs": [
    {
     "data": {
      "text/plain": [
       "Nepal                               19\n",
       "Mongolia                            19\n",
       "Sweden                              19\n",
       "Viet Nam                            19\n",
       "Netherlands                         19\n",
       "                                    ..\n",
       "Marshall Islands                     9\n",
       "Saint Lucia                          9\n",
       "Micronesia                           9\n",
       "Saint Vincent and the Grenadines     9\n",
       "Sao Tome and Principe                9\n",
       "Name: country_name, Length: 185, dtype: int64"
      ]
     },
     "execution_count": 5,
     "metadata": {},
     "output_type": "execute_result"
    }
   ],
   "source": [
    "epi['country_name'].value_counts()"
   ]
  },
  {
   "cell_type": "markdown",
   "id": "7b08f60d",
   "metadata": {},
   "source": [
    "- Linearly impute values in place of nulls."
   ]
  },
  {
   "cell_type": "code",
   "execution_count": 6,
   "id": "a6ca9922",
   "metadata": {
    "ExecuteTime": {
     "end_time": "2021-05-12T00:57:33.316815Z",
     "start_time": "2021-05-12T00:57:33.304805Z"
    }
   },
   "outputs": [],
   "source": [
    "def impute_values(country_name):\n",
    "    country = epi[epi['country_name'] == country_name].copy()\n",
    "    for col in country.columns:\n",
    "        country[col] = country[col].map(lambda x: np.nan if x == 'None' else x)\n",
    "        country[col].interpolate(method='linear',order=1,inplace=True, axis=0)\n",
    "    return country\n",
    "        "
   ]
  },
  {
   "cell_type": "code",
   "execution_count": 7,
   "id": "9a83ef6b",
   "metadata": {
    "ExecuteTime": {
     "end_time": "2021-05-12T00:57:38.222976Z",
     "start_time": "2021-05-12T00:57:33.318817Z"
    }
   },
   "outputs": [],
   "source": [
    "epi_new = pd.DataFrame()\n",
    "\n",
    "for country_name in  set(epi['country_name'].values):\n",
    "    country_df = impute_values(country_name)\n",
    "    epi_new = pd.concat([epi_new, country_df], ignore_index = True)"
   ]
  },
  {
   "cell_type": "code",
   "execution_count": null,
   "id": "ccb26a94",
   "metadata": {},
   "outputs": [],
   "source": []
  }
 ],
 "metadata": {
  "kernelspec": {
   "display_name": "Python 3",
   "language": "python",
   "name": "python3"
  },
  "language_info": {
   "codemirror_mode": {
    "name": "ipython",
    "version": 3
   },
   "file_extension": ".py",
   "mimetype": "text/x-python",
   "name": "python",
   "nbconvert_exporter": "python",
   "pygments_lexer": "ipython3",
   "version": "3.7.6"
  }
 },
 "nbformat": 4,
 "nbformat_minor": 5
}
