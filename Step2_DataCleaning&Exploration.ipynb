{
 "cells": [
  {
   "cell_type": "code",
   "execution_count": 1,
   "metadata": {
    "ExecuteTime": {
     "end_time": "2021-05-13T23:12:03.538905Z",
     "start_time": "2021-05-13T23:12:02.249073Z"
    }
   },
   "outputs": [],
   "source": [
    "import pandas as pd\n",
    "import numpy as np\n",
    "import seaborn as sns\n",
    "import matplotlib.pyplot as plt"
   ]
  },
  {
   "cell_type": "code",
   "execution_count": 2,
   "metadata": {
    "ExecuteTime": {
     "end_time": "2021-05-13T23:12:03.554919Z",
     "start_time": "2021-05-13T23:12:03.540907Z"
    }
   },
   "outputs": [],
   "source": [
    "sns.set_style('darkgrid')"
   ]
  },
  {
   "cell_type": "markdown",
   "metadata": {},
   "source": [
    "***Data Cleaning and Exploration***"
   ]
  },
  {
   "cell_type": "code",
   "execution_count": 3,
   "metadata": {
    "ExecuteTime": {
     "end_time": "2021-05-13T23:12:03.586942Z",
     "start_time": "2021-05-13T23:12:03.557922Z"
    }
   },
   "outputs": [],
   "source": [
    "epi = pd.read_csv('data/dataframes/epi_wrangled.csv')"
   ]
  },
  {
   "cell_type": "markdown",
   "metadata": {},
   "source": [
    "- Remove countries with fewer than 5 records."
   ]
  },
  {
   "cell_type": "code",
   "execution_count": 4,
   "metadata": {
    "ExecuteTime": {
     "end_time": "2021-05-13T23:12:03.602957Z",
     "start_time": "2021-05-13T23:12:03.588945Z"
    }
   },
   "outputs": [],
   "source": [
    "high_data = [key for key, value in epi['country_name'].value_counts().to_dict().items() if value >5]"
   ]
  },
  {
   "cell_type": "code",
   "execution_count": 5,
   "metadata": {
    "ExecuteTime": {
     "end_time": "2021-05-13T23:12:03.618971Z",
     "start_time": "2021-05-13T23:12:03.604958Z"
    }
   },
   "outputs": [],
   "source": [
    "epi = epi[epi['country_name'].isin(high_data)]"
   ]
  },
  {
   "cell_type": "code",
   "execution_count": 6,
   "metadata": {
    "ExecuteTime": {
     "end_time": "2021-05-13T23:12:03.634986Z",
     "start_time": "2021-05-13T23:12:03.619972Z"
    }
   },
   "outputs": [
    {
     "data": {
      "text/plain": [
       "Kenya                               19\n",
       "Argentina                           19\n",
       "Serbia                              19\n",
       "Suriname                            19\n",
       "Zimbabwe                            19\n",
       "                                    ..\n",
       "Marshall Islands                     9\n",
       "Sao Tome and Principe                9\n",
       "Micronesia                           9\n",
       "Saint Vincent and the Grenadines     9\n",
       "Saint Lucia                          9\n",
       "Name: country_name, Length: 185, dtype: int64"
      ]
     },
     "execution_count": 6,
     "metadata": {},
     "output_type": "execute_result"
    }
   ],
   "source": [
    "epi['country_name'].value_counts()"
   ]
  },
  {
   "cell_type": "markdown",
   "metadata": {},
   "source": [
    "- Linearly impute values in place of nulls."
   ]
  },
  {
   "cell_type": "code",
   "execution_count": 7,
   "metadata": {
    "ExecuteTime": {
     "end_time": "2021-05-13T23:12:03.650999Z",
     "start_time": "2021-05-13T23:12:03.638990Z"
    }
   },
   "outputs": [],
   "source": [
    "def impute_values(country_name):\n",
    "    country = epi[epi['country_name'] == country_name].copy()\n",
    "    for col in country.columns:\n",
    "        country[col] = country[col].map(lambda x: np.nan if x == 'None' else x)\n",
    "        country[col].interpolate(method='linear',order=1,inplace=True, axis=0)\n",
    "    return country\n",
    "        "
   ]
  },
  {
   "cell_type": "code",
   "execution_count": 8,
   "metadata": {
    "ExecuteTime": {
     "end_time": "2021-05-13T23:12:08.082024Z",
     "start_time": "2021-05-13T23:12:03.653001Z"
    }
   },
   "outputs": [],
   "source": [
    "epi_new = pd.DataFrame()\n",
    "\n",
    "for country_name in  set(epi['country_name'].values):\n",
    "    country_df = impute_values(country_name)\n",
    "    epi_new = pd.concat([epi_new, country_df], ignore_index = True)"
   ]
  },
  {
   "cell_type": "code",
   "execution_count": 9,
   "metadata": {
    "ExecuteTime": {
     "end_time": "2021-05-13T23:12:08.097037Z",
     "start_time": "2021-05-13T23:12:08.083025Z"
    }
   },
   "outputs": [],
   "source": [
    "epi = epi_new"
   ]
  },
  {
   "cell_type": "markdown",
   "metadata": {},
   "source": [
    "- Drop columns with low value data, identified by visual analysis with respect to time. These columns' values tend to be almost entirely the same for each country on the list."
   ]
  },
  {
   "cell_type": "code",
   "execution_count": 10,
   "metadata": {
    "ExecuteTime": {
     "end_time": "2021-05-13T23:12:08.112051Z",
     "start_time": "2021-05-13T23:12:08.099040Z"
    }
   },
   "outputs": [],
   "source": [
    "drop_list = ['Climate','Forests', 'Critical Habitat Protection', 'Change in Forest Cover','Change of Trend in Carbon Intensity', 'Coastal Shelf Fishing Pressure',\n",
    "'Trend in CO2 Emissions per KWH','Trend in Carbon Intensity','Climate & Energy']"
   ]
  },
  {
   "cell_type": "code",
   "execution_count": 11,
   "metadata": {
    "ExecuteTime": {
     "end_time": "2021-05-13T23:12:08.128065Z",
     "start_time": "2021-05-13T23:12:08.115054Z"
    }
   },
   "outputs": [],
   "source": [
    "epi.drop(columns=drop_list,inplace=True)"
   ]
  },
  {
   "cell_type": "code",
   "execution_count": 12,
   "metadata": {
    "ExecuteTime": {
     "end_time": "2021-05-13T23:12:08.160093Z",
     "start_time": "2021-05-13T23:12:08.129066Z"
    }
   },
   "outputs": [
    {
     "data": {
      "text/plain": [
       "Marine Protected Areas                             868\n",
       "Fisheries                                          842\n",
       "Fish Stock Status                                  842\n",
       "Agricultural Subsidies                             466\n",
       "Environmental Performance Index                     38\n",
       "Ecosystem Vitality                                  38\n",
       "Water Resources                                     26\n",
       "Wastewater Treatment                                26\n",
       "GDP                                                 13\n",
       "Environmental Health                                12\n",
       "Child Mortality                                      9\n",
       "Access to Electricity                                9\n",
       "Health Impacts                                       9\n",
       "Terrestrial biome protection (national weights)      8\n",
       "Agriculture                                          8\n",
       "Biodiversity & Habitat                               8\n",
       "Terrestrial biome protection (global weights)        8\n",
       "Air Quality                                          4\n",
       "PM2.5 Exceedance                                     4\n",
       "PM2.5 Exposure                                       4\n",
       "dtype: int64"
      ]
     },
     "execution_count": 12,
     "metadata": {},
     "output_type": "execute_result"
    }
   ],
   "source": [
    "nulls = epi.isnull().sum().sort_values(ascending =False)\n",
    "nulls[nulls > 0]"
   ]
  },
  {
   "cell_type": "markdown",
   "metadata": {},
   "source": [
    "- Inspect columns with high null count indicators: Marine Protected Areas, Fisheries, Fish Stock Status and Agricultural Subsidies"
   ]
  },
  {
   "cell_type": "code",
   "execution_count": 13,
   "metadata": {
    "ExecuteTime": {
     "end_time": "2021-05-13T23:12:08.176108Z",
     "start_time": "2021-05-13T23:12:08.161095Z"
    }
   },
   "outputs": [],
   "source": [
    "def full_null_column(countries, column_name):\n",
    "    all_null = []\n",
    "    for country in countries:\n",
    "        country_frame = epi[epi['country_name'] == country]\n",
    "        nans = country_frame[column_name].isna().sum()\n",
    "\n",
    "        if nans/country_frame.shape[0] == 1:\n",
    "            all_null.append(country)\n",
    "            \n",
    "    return all_null"
   ]
  },
  {
   "cell_type": "code",
   "execution_count": 14,
   "metadata": {
    "ExecuteTime": {
     "end_time": "2021-05-13T23:12:08.192122Z",
     "start_time": "2021-05-13T23:12:08.178110Z"
    }
   },
   "outputs": [],
   "source": [
    "marine_countries = set(epi[epi['Marine Protected Areas'].isnull() == True]['country_name'].values)\n",
    "fish_countries = set(epi[epi['Fisheries'].isnull() == True]['country_name'].values)\n",
    "stock_countries = set(epi[epi['Fish Stock Status'].isnull() == True]['country_name'].values)"
   ]
  },
  {
   "cell_type": "code",
   "execution_count": 15,
   "metadata": {
    "ExecuteTime": {
     "end_time": "2021-05-13T23:12:08.317233Z",
     "start_time": "2021-05-13T23:12:08.194123Z"
    }
   },
   "outputs": [],
   "source": [
    "full_marine_nulls = full_null_column(marine_countries, 'Marine Protected Areas')\n",
    "full_fishery_nulls = full_null_column(fish_countries, 'Fisheries')\n",
    "full_stock_nulls = full_null_column(stock_countries, 'Fish Stock Status')"
   ]
  },
  {
   "cell_type": "code",
   "execution_count": 16,
   "metadata": {
    "ExecuteTime": {
     "end_time": "2021-05-13T23:12:08.332148Z",
     "start_time": "2021-05-13T23:12:08.318234Z"
    }
   },
   "outputs": [
    {
     "data": {
      "text/plain": [
       "['Maldives', 'Guinea-Bissau', 'Brunei Darussalam']"
      ]
     },
     "execution_count": 16,
     "metadata": {},
     "output_type": "execute_result"
    }
   ],
   "source": [
    "marine_anomalies = [country for country in marine_countries if country not in full_marine_nulls]\n",
    "marine_anomalies"
   ]
  },
  {
   "cell_type": "code",
   "execution_count": 17,
   "metadata": {
    "ExecuteTime": {
     "end_time": "2021-05-13T23:12:08.347161Z",
     "start_time": "2021-05-13T23:12:08.333148Z"
    }
   },
   "outputs": [
    {
     "data": {
      "text/plain": [
       "['Saint Vincent and the Grenadines']"
      ]
     },
     "execution_count": 17,
     "metadata": {},
     "output_type": "execute_result"
    }
   ],
   "source": [
    "fish_anomalies = [country for country in fish_countries if country not in full_fishery_nulls]\n",
    "fish_anomalies"
   ]
  },
  {
   "cell_type": "code",
   "execution_count": 18,
   "metadata": {
    "ExecuteTime": {
     "end_time": "2021-05-13T23:12:08.363175Z",
     "start_time": "2021-05-13T23:12:08.349164Z"
    }
   },
   "outputs": [
    {
     "data": {
      "text/plain": [
       "['Saint Vincent and the Grenadines']"
      ]
     },
     "execution_count": 18,
     "metadata": {},
     "output_type": "execute_result"
    }
   ],
   "source": [
    "stock_anomalies = [country for country in stock_countries if country not in full_stock_nulls]\n",
    "stock_anomalies"
   ]
  },
  {
   "cell_type": "markdown",
   "metadata": {},
   "source": [
    "- Compare lists of countries."
   ]
  },
  {
   "cell_type": "code",
   "execution_count": 19,
   "metadata": {
    "ExecuteTime": {
     "end_time": "2021-05-13T23:12:08.378188Z",
     "start_time": "2021-05-13T23:12:08.365177Z"
    }
   },
   "outputs": [
    {
     "data": {
      "text/plain": [
       "['Azerbaijan', 'Mali', 'Uzbekistan', 'Serbia', 'Jordan']"
      ]
     },
     "execution_count": 19,
     "metadata": {},
     "output_type": "execute_result"
    }
   ],
   "source": [
    "full_marine_nulls[:5]"
   ]
  },
  {
   "cell_type": "code",
   "execution_count": 20,
   "metadata": {
    "ExecuteTime": {
     "end_time": "2021-05-13T23:12:08.393202Z",
     "start_time": "2021-05-13T23:12:08.379189Z"
    },
    "scrolled": true
   },
   "outputs": [
    {
     "data": {
      "text/plain": [
       "['Azerbaijan', 'Mali', 'Uzbekistan', 'Serbia', 'Jordan']"
      ]
     },
     "execution_count": 20,
     "metadata": {},
     "output_type": "execute_result"
    }
   ],
   "source": [
    "full_fishery_nulls[:5]"
   ]
  },
  {
   "cell_type": "code",
   "execution_count": 21,
   "metadata": {
    "ExecuteTime": {
     "end_time": "2021-05-13T23:12:08.409216Z",
     "start_time": "2021-05-13T23:12:08.397206Z"
    }
   },
   "outputs": [
    {
     "data": {
      "text/plain": [
       "['Azerbaijan', 'Mali', 'Uzbekistan', 'Serbia', 'Jordan']"
      ]
     },
     "execution_count": 21,
     "metadata": {},
     "output_type": "execute_result"
    }
   ],
   "source": [
    "full_stock_nulls[:5]"
   ]
  },
  {
   "cell_type": "markdown",
   "metadata": {},
   "source": [
    "- All countries with null values for all three identifiers have been determined to be landlocked., and thus cannot have fisheries, marine protected areas, or fish stock status. Filling null values with 0.\n",
    "- Note: there are six countries that do not appear to technically be landlocked, but still show nulls for these values. This is because they either:\n",
    "   - Have a small sliver of land that touches the ocean: Dem. Rep. Conga, Slovenia, and Bosnia and Herzegovina.\n",
    "   - Border the Caspian sea, which is debatably not a true marine sea: Turkmenistan, Kazakhstan, Azerbaijan."
   ]
  },
  {
   "cell_type": "code",
   "execution_count": 22,
   "metadata": {
    "ExecuteTime": {
     "end_time": "2021-05-13T23:12:08.424229Z",
     "start_time": "2021-05-13T23:12:08.413219Z"
    }
   },
   "outputs": [],
   "source": [
    "landlocked = [x for x in marine_countries if x in fish_countries]"
   ]
  },
  {
   "cell_type": "code",
   "execution_count": 23,
   "metadata": {
    "ExecuteTime": {
     "end_time": "2021-05-13T23:12:08.440243Z",
     "start_time": "2021-05-13T23:12:08.429235Z"
    }
   },
   "outputs": [],
   "source": [
    "to_fill = ['Fisheries', 'Marine Protected Areas', 'Fish Stock Status']"
   ]
  },
  {
   "cell_type": "code",
   "execution_count": 24,
   "metadata": {
    "ExecuteTime": {
     "end_time": "2021-05-13T23:12:08.456257Z",
     "start_time": "2021-05-13T23:12:08.442245Z"
    }
   },
   "outputs": [],
   "source": [
    "for column in to_fill:\n",
    "    epi.loc[epi['country_name'].isin(landlocked), column] = epi.loc[epi['country_name'].isin(landlocked), column].fillna(0)"
   ]
  },
  {
   "cell_type": "markdown",
   "metadata": {},
   "source": [
    "- Inspect countries with poor marine data that are not landlocked."
   ]
  },
  {
   "cell_type": "code",
   "execution_count": 25,
   "metadata": {
    "ExecuteTime": {
     "end_time": "2021-05-13T23:12:08.471271Z",
     "start_time": "2021-05-13T23:12:08.458259Z"
    }
   },
   "outputs": [],
   "source": [
    "marine_anomalies.extend(fish_anomalies)\n",
    "anomalies = marine_anomalies"
   ]
  },
  {
   "cell_type": "code",
   "execution_count": 26,
   "metadata": {
    "ExecuteTime": {
     "end_time": "2021-05-13T23:12:08.923258Z",
     "start_time": "2021-05-13T23:12:08.474274Z"
    }
   },
   "outputs": [
    {
     "data": {
      "image/png": "[encoded data removed]",
      "text/plain": [
       "<Figure size 432x288 with 1 Axes>"
      ]
     },
     "metadata": {},
     "output_type": "display_data"
    }
   ],
   "source": [
    "for country in anomalies:\n",
    "    sns.scatterplot(data = epi[epi['country_name'] == country], x = 'year', y = 'Marine Protected Areas')\n",
    "\n",
    "plt.legend(anomalies)\n",
    "plt.title(\"Percent Marine Protected Areas by country reported by Year\")\n",
    "plt.show()"
   ]
  },
  {
   "cell_type": "code",
   "execution_count": 27,
   "metadata": {
    "ExecuteTime": {
     "end_time": "2021-05-13T23:12:09.329607Z",
     "start_time": "2021-05-13T23:12:08.924249Z"
    }
   },
   "outputs": [
    {
     "data": {
      "image/png": "[encoded data removed]",
      "text/plain": [
       "<Figure size 432x288 with 1 Axes>"
      ]
     },
     "metadata": {},
     "output_type": "display_data"
    }
   ],
   "source": [
    "for country in anomalies:\n",
    "    sns.scatterplot(data = epi[epi['country_name'] == country], x = 'year', y = 'Fish Stock Status')\n",
    "\n",
    "plt.legend(anomalies)\n",
    "plt.title(\"Fish stock status by country reported by Year\")\n",
    "plt.show()"
   ]
  },
  {
   "cell_type": "code",
   "execution_count": 28,
   "metadata": {
    "ExecuteTime": {
     "end_time": "2021-05-13T23:12:09.749980Z",
     "start_time": "2021-05-13T23:12:09.330608Z"
    }
   },
   "outputs": [
    {
     "data": {
      "image/png": "[encoded data removed]",
      "text/plain": [
       "<Figure size 432x288 with 1 Axes>"
      ]
     },
     "metadata": {},
     "output_type": "display_data"
    }
   ],
   "source": [
    "for country in anomalies:\n",
    "    sns.scatterplot(data = epi[epi['country_name'] == country], x = 'year', y = 'Fisheries')\n",
    "\n",
    "plt.legend(anomalies)\n",
    "plt.title(\"Fisheries by country reported by Year\")\n",
    "plt.show()"
   ]
  },
  {
   "cell_type": "markdown",
   "metadata": {},
   "source": [
    "- Decision: drop Saint Vincent and the Grenadines from our data, as we do not feel we can confidently impute null values from only three reported values in two categories (one of which shows significant volatility)."
   ]
  },
  {
   "cell_type": "code",
   "execution_count": 29,
   "metadata": {
    "ExecuteTime": {
     "end_time": "2021-05-13T23:12:09.765994Z",
     "start_time": "2021-05-13T23:12:09.751982Z"
    }
   },
   "outputs": [],
   "source": [
    "epi = epi[epi['country_name'] != 'Saint Vincent and the Grenadines']"
   ]
  },
  {
   "cell_type": "markdown",
   "metadata": {},
   "source": [
    "- Inspect final column with high null count: Agricultural Subsidies."
   ]
  },
  {
   "cell_type": "code",
   "execution_count": 30,
   "metadata": {
    "ExecuteTime": {
     "end_time": "2021-05-13T23:12:09.781167Z",
     "start_time": "2021-05-13T23:12:09.766995Z"
    }
   },
   "outputs": [],
   "source": [
    "ag_countries = set(epi[epi['Agricultural Subsidies'].isnull() == True]['country_name'].values)"
   ]
  },
  {
   "cell_type": "code",
   "execution_count": 31,
   "metadata": {
    "ExecuteTime": {
     "end_time": "2021-05-13T23:12:09.812194Z",
     "start_time": "2021-05-13T23:12:09.783169Z"
    }
   },
   "outputs": [],
   "source": [
    "full_ag_nulls = full_null_column(ag_countries, 'Agricultural Subsidies')"
   ]
  },
  {
   "cell_type": "code",
   "execution_count": 32,
   "metadata": {
    "ExecuteTime": {
     "end_time": "2021-05-13T23:12:09.828209Z",
     "start_time": "2021-05-13T23:12:09.813196Z"
    },
    "scrolled": true
   },
   "outputs": [
    {
     "data": {
      "text/plain": [
       "True"
      ]
     },
     "execution_count": 32,
     "metadata": {},
     "output_type": "execute_result"
    }
   ],
   "source": [
    "sorted(ag_countries) == sorted(full_ag_nulls)"
   ]
  },
  {
   "cell_type": "code",
   "execution_count": null,
   "metadata": {
    "ExecuteTime": {
     "end_time": "2021-05-13T23:09:05.390808Z",
     "start_time": "2021-05-13T23:09:05.376796Z"
    }
   },
   "outputs": [],
   "source": []
  },
  {
   "cell_type": "markdown",
   "metadata": {},
   "source": [
    "- Impute regional values into each country. (TODO)"
   ]
  },
  {
   "cell_type": "code",
   "execution_count": 33,
   "metadata": {
    "ExecuteTime": {
     "end_time": "2021-05-13T23:12:09.859236Z",
     "start_time": "2021-05-13T23:12:09.830212Z"
    }
   },
   "outputs": [],
   "source": [
    "regional = pd.read_csv(\"./data/EPI_data/epi2020resultsregions20200604.csv\")"
   ]
  },
  {
   "cell_type": "code",
   "execution_count": 34,
   "metadata": {
    "ExecuteTime": {
     "end_time": "2021-05-13T23:12:09.875223Z",
     "start_time": "2021-05-13T23:12:09.860830Z"
    }
   },
   "outputs": [],
   "source": [
    "regional_means = regional[[ 'country','AGR.rgn.mean']]"
   ]
  },
  {
   "cell_type": "code",
   "execution_count": 35,
   "metadata": {
    "ExecuteTime": {
     "end_time": "2021-05-13T23:12:09.890235Z",
     "start_time": "2021-05-13T23:12:09.877225Z"
    }
   },
   "outputs": [],
   "source": [
    "regional_means = regional_means[regional_means['country'].isin(ag_countries)]"
   ]
  },
  {
   "cell_type": "code",
   "execution_count": 36,
   "metadata": {
    "ExecuteTime": {
     "end_time": "2021-05-13T23:12:09.905249Z",
     "start_time": "2021-05-13T23:12:09.892237Z"
    },
    "scrolled": true,
    "tags": []
   },
   "outputs": [
    {
     "data": {
      "text/html": [
       "<div>\n",
       "<style scoped>\n",
       "    .dataframe tbody tr th:only-of-type {\n",
       "        vertical-align: middle;\n",
       "    }\n",
       "\n",
       "    .dataframe tbody tr th {\n",
       "        vertical-align: top;\n",
       "    }\n",
       "\n",
       "    .dataframe thead th {\n",
       "        text-align: right;\n",
       "    }\n",
       "</style>\n",
       "<table border=\"1\" class=\"dataframe\">\n",
       "  <thead>\n",
       "    <tr style=\"text-align: right;\">\n",
       "      <th></th>\n",
       "      <th>country</th>\n",
       "      <th>AGR.rgn.mean</th>\n",
       "    </tr>\n",
       "  </thead>\n",
       "  <tbody>\n",
       "    <tr>\n",
       "      <th>3</th>\n",
       "      <td>United Arab Emirates</td>\n",
       "      <td>36.512500</td>\n",
       "    </tr>\n",
       "    <tr>\n",
       "      <th>6</th>\n",
       "      <td>Antigua and Barbuda</td>\n",
       "      <td>32.653125</td>\n",
       "    </tr>\n",
       "    <tr>\n",
       "      <th>16</th>\n",
       "      <td>Bahrain</td>\n",
       "      <td>36.512500</td>\n",
       "    </tr>\n",
       "    <tr>\n",
       "      <th>17</th>\n",
       "      <td>Bahamas</td>\n",
       "      <td>32.653125</td>\n",
       "    </tr>\n",
       "    <tr>\n",
       "      <th>23</th>\n",
       "      <td>Barbados</td>\n",
       "      <td>32.653125</td>\n",
       "    </tr>\n",
       "  </tbody>\n",
       "</table>\n",
       "</div>"
      ],
      "text/plain": [
       "                 country  AGR.rgn.mean\n",
       "3   United Arab Emirates     36.512500\n",
       "6    Antigua and Barbuda     32.653125\n",
       "16               Bahrain     36.512500\n",
       "17               Bahamas     32.653125\n",
       "23              Barbados     32.653125"
      ]
     },
     "execution_count": 36,
     "metadata": {},
     "output_type": "execute_result"
    }
   ],
   "source": [
    "regional_means[:5]"
   ]
  },
  {
   "cell_type": "markdown",
   "metadata": {},
   "source": [
    "missing Libya and Palau from the regional data set. Use the value from another country from the same region to get the regional average. "
   ]
  },
  {
   "cell_type": "code",
   "execution_count": 37,
   "metadata": {
    "ExecuteTime": {
     "end_time": "2021-05-13T23:12:09.920262Z",
     "start_time": "2021-05-13T23:12:09.907252Z"
    },
    "scrolled": true
   },
   "outputs": [
    {
     "data": {
      "text/plain": [
       "50    36.5125\n",
       "Name: AGR.rgn.mean, dtype: float64"
      ]
     },
     "execution_count": 37,
     "metadata": {},
     "output_type": "execute_result"
    }
   ],
   "source": [
    "#for Libya use Egypt, since its in the same region:\n",
    "regional[regional['country']=='Egypt']['AGR.rgn.mean']"
   ]
  },
  {
   "cell_type": "code",
   "execution_count": 38,
   "metadata": {
    "ExecuteTime": {
     "end_time": "2021-05-13T23:12:09.936277Z",
     "start_time": "2021-05-13T23:12:09.921263Z"
    }
   },
   "outputs": [],
   "source": [
    "regional_adds = {\n",
    "    'country': \"Libya\",\n",
    "    'AGR.rgn.mean':36.5125\n",
    "    }"
   ]
  },
  {
   "cell_type": "code",
   "execution_count": 39,
   "metadata": {
    "ExecuteTime": {
     "end_time": "2021-05-13T23:12:09.952290Z",
     "start_time": "2021-05-13T23:12:09.938279Z"
    }
   },
   "outputs": [],
   "source": [
    "regional_means = regional_means.append(regional_adds, ignore_index=True)"
   ]
  },
  {
   "cell_type": "code",
   "execution_count": 40,
   "metadata": {
    "ExecuteTime": {
     "end_time": "2021-05-13T23:12:09.967924Z",
     "start_time": "2021-05-13T23:12:09.955294Z"
    },
    "scrolled": true
   },
   "outputs": [
    {
     "data": {
      "text/plain": [
       "131    35.94\n",
       "Name: AGR.rgn.mean, dtype: float64"
      ]
     },
     "execution_count": 40,
     "metadata": {},
     "output_type": "execute_result"
    }
   ],
   "source": [
    "# for palau use the Philippines which is is closest neighbor:\n",
    "regional[regional['country']=='Philippines']['AGR.rgn.mean']"
   ]
  },
  {
   "cell_type": "code",
   "execution_count": 41,
   "metadata": {
    "ExecuteTime": {
     "end_time": "2021-05-13T23:12:09.982938Z",
     "start_time": "2021-05-13T23:12:09.968925Z"
    }
   },
   "outputs": [],
   "source": [
    "regional_adds = {\n",
    "    'country' : 'Palau',\n",
    "    'AGR.rgn.mean':35.94\n",
    "}"
   ]
  },
  {
   "cell_type": "code",
   "execution_count": 42,
   "metadata": {
    "ExecuteTime": {
     "end_time": "2021-05-13T23:12:09.998952Z",
     "start_time": "2021-05-13T23:12:09.984940Z"
    }
   },
   "outputs": [],
   "source": [
    "regional_means = regional_means.append(regional_adds, ignore_index=True)"
   ]
  },
  {
   "cell_type": "code",
   "execution_count": 43,
   "metadata": {
    "ExecuteTime": {
     "end_time": "2021-05-13T23:12:10.013965Z",
     "start_time": "2021-05-13T23:12:10.000954Z"
    }
   },
   "outputs": [],
   "source": [
    "regional_means.set_index(keys = 'country', inplace = True)"
   ]
  },
  {
   "cell_type": "code",
   "execution_count": 44,
   "metadata": {
    "ExecuteTime": {
     "end_time": "2021-05-13T23:12:10.044993Z",
     "start_time": "2021-05-13T23:12:10.014966Z"
    }
   },
   "outputs": [
    {
     "name": "stderr",
     "output_type": "stream",
     "text": [
      "C:\\Users\\DanAn\\anaconda3secondinstall\\lib\\site-packages\\pandas\\core\\indexing.py:1765: SettingWithCopyWarning: \n",
      "A value is trying to be set on a copy of a slice from a DataFrame.\n",
      "Try using .loc[row_indexer,col_indexer] = value instead\n",
      "\n",
      "See the caveats in the documentation: https://pandas.pydata.org/pandas-docs/stable/user_guide/indexing.html#returning-a-view-versus-a-copy\n",
      "  isetter(loc, value)\n"
     ]
    }
   ],
   "source": [
    "%%capture\n",
    "for country in ag_countries:\n",
    "    epi.loc[epi['country_name'].isin([country]), 'Agricultural Subsidies'] = regional_means.loc[country][0]    "
   ]
  },
  {
   "cell_type": "markdown",
   "metadata": {},
   "source": [
    "- Inspect other less frequently null columns."
   ]
  },
  {
   "cell_type": "code",
   "execution_count": 45,
   "metadata": {
    "ExecuteTime": {
     "end_time": "2021-05-13T23:12:10.060006Z",
     "start_time": "2021-05-13T23:12:10.045993Z"
    }
   },
   "outputs": [],
   "source": [
    "some_nulls = epi.isnull().sum().sort_values(ascending = False)\n",
    "some_nulls = [column for column, value in some_nulls.items() if value > 0]"
   ]
  },
  {
   "cell_type": "code",
   "execution_count": 46,
   "metadata": {
    "ExecuteTime": {
     "end_time": "2021-05-13T23:12:10.092034Z",
     "start_time": "2021-05-13T23:12:10.062008Z"
    }
   },
   "outputs": [],
   "source": [
    "countries_present = {}\n",
    "for column in some_nulls:\n",
    "    null_countries = set(epi[epi[column].isnull() == True]['country_name'].values)\n",
    "    for country in null_countries:\n",
    "        if country in countries_present:\n",
    "            countries_present[country] = countries_present[country] + 1\n",
    "        else:\n",
    "            countries_present[country] = 1"
   ]
  },
  {
   "cell_type": "code",
   "execution_count": 47,
   "metadata": {
    "ExecuteTime": {
     "end_time": "2021-05-13T23:12:10.108048Z",
     "start_time": "2021-05-13T23:12:10.093036Z"
    }
   },
   "outputs": [
    {
     "data": {
      "text/plain": [
       "{'Brunei Darussalam': 1,\n",
       " 'Guinea-Bissau': 1,\n",
       " 'Maldives': 10,\n",
       " 'Saint Lucia': 4,\n",
       " 'Marshall Islands': 6,\n",
       " 'Samoa': 4,\n",
       " 'Sao Tome and Principe': 7,\n",
       " 'Micronesia': 5,\n",
       " 'Iraq': 1,\n",
       " 'Somalia': 1}"
      ]
     },
     "execution_count": 47,
     "metadata": {},
     "output_type": "execute_result"
    }
   ],
   "source": [
    "countries_present"
   ]
  },
  {
   "cell_type": "code",
   "execution_count": 48,
   "metadata": {
    "ExecuteTime": {
     "end_time": "2021-05-13T23:12:10.124063Z",
     "start_time": "2021-05-13T23:12:10.111051Z"
    }
   },
   "outputs": [],
   "source": [
    "frequent_null_countries = [country for country, value in countries_present.items() if value > 1]"
   ]
  },
  {
   "cell_type": "code",
   "execution_count": 49,
   "metadata": {
    "ExecuteTime": {
     "end_time": "2021-05-13T23:12:10.140077Z",
     "start_time": "2021-05-13T23:12:10.126065Z"
    }
   },
   "outputs": [
    {
     "data": {
      "text/plain": [
       "['Maldives',\n",
       " 'Saint Lucia',\n",
       " 'Marshall Islands',\n",
       " 'Samoa',\n",
       " 'Sao Tome and Principe',\n",
       " 'Micronesia']"
      ]
     },
     "execution_count": 49,
     "metadata": {},
     "output_type": "execute_result"
    }
   ],
   "source": [
    "frequent_null_countries"
   ]
  },
  {
   "cell_type": "code",
   "execution_count": 50,
   "metadata": {
    "ExecuteTime": {
     "end_time": "2021-05-13T23:12:13.705027Z",
     "start_time": "2021-05-13T23:12:10.142078Z"
    }
   },
   "outputs": [
    {
     "data": {
      "image/png": "[encoded data removed]",
      "text/plain": [
       "<Figure size 1759.5x180 with 9 Axes>"
      ]
     },
     "metadata": {},
     "output_type": "display_data"
    }
   ],
   "source": [
    "sns.pairplot(data = epi[epi['country_name'].isin(frequent_null_countries)], y_vars = 'year', x_vars = some_nulls[:9], hue = 'country_name')\n",
    "plt.show()"
   ]
  },
  {
   "cell_type": "code",
   "execution_count": 51,
   "metadata": {
    "ExecuteTime": {
     "end_time": "2021-05-13T23:12:17.007088Z",
     "start_time": "2021-05-13T23:12:13.717037Z"
    }
   },
   "outputs": [
    {
     "data": {
      "image/png": "[encoded data removed]",
      "text/plain": [
       "<Figure size 1579.5x180 with 8 Axes>"
      ]
     },
     "metadata": {},
     "output_type": "display_data"
    }
   ],
   "source": [
    "sns.pairplot(data = epi[epi['country_name'].isin(frequent_null_countries)], y_vars = 'year', x_vars = some_nulls[9:], hue = 'country_name')\n",
    "plt.show()"
   ]
  },
  {
   "cell_type": "markdown",
   "metadata": {},
   "source": [
    "- For similar reasons to the removal of Saint Vincent and the Grenadines, we are removing the Maldives, Samoa, Micronesia, Saint Lucia, the Marshall Islands, and Sao Tome and Principe from the data set. Reiteration of reasons: some categories contain too few non-null entries to confidently impute from, especially when some show high volatility."
   ]
  },
  {
   "cell_type": "code",
   "execution_count": 52,
   "metadata": {
    "ExecuteTime": {
     "end_time": "2021-05-13T23:12:17.023102Z",
     "start_time": "2021-05-13T23:12:17.009090Z"
    }
   },
   "outputs": [],
   "source": [
    "epi = epi[~epi['country_name'].isin(frequent_null_countries)]"
   ]
  },
  {
   "cell_type": "code",
   "execution_count": 53,
   "metadata": {
    "ExecuteTime": {
     "end_time": "2021-05-13T23:12:17.039117Z",
     "start_time": "2021-05-13T23:12:17.026105Z"
    },
    "scrolled": true
   },
   "outputs": [
    {
     "data": {
      "text/plain": [
       "Marine Protected Areas    28\n",
       "GDP                       13\n",
       "dtype: int64"
      ]
     },
     "execution_count": 53,
     "metadata": {},
     "output_type": "execute_result"
    }
   ],
   "source": [
    "nulls = epi.isnull().sum().sort_values(ascending =False)\n",
    "nulls[nulls > 0]"
   ]
  },
  {
   "cell_type": "markdown",
   "metadata": {},
   "source": [
    "- Impute remaining nulls by padding using existing entries."
   ]
  },
  {
   "cell_type": "code",
   "execution_count": 54,
   "metadata": {
    "ExecuteTime": {
     "end_time": "2021-05-13T23:12:17.087159Z",
     "start_time": "2021-05-13T23:12:17.041118Z"
    }
   },
   "outputs": [
    {
     "data": {
      "text/html": [
       "<div>\n",
       "<style scoped>\n",
       "    .dataframe tbody tr th:only-of-type {\n",
       "        vertical-align: middle;\n",
       "    }\n",
       "\n",
       "    .dataframe tbody tr th {\n",
       "        vertical-align: top;\n",
       "    }\n",
       "\n",
       "    .dataframe thead th {\n",
       "        text-align: right;\n",
       "    }\n",
       "</style>\n",
       "<table border=\"1\" class=\"dataframe\">\n",
       "  <thead>\n",
       "    <tr style=\"text-align: right;\">\n",
       "      <th></th>\n",
       "      <th>year</th>\n",
       "      <th>country_name</th>\n",
       "      <th>Unsafe sanitation</th>\n",
       "      <th>Sanitation &amp; Drinking Water</th>\n",
       "      <th>Terrestrial biome protection (national weights)</th>\n",
       "      <th>PM2.5 Exposure</th>\n",
       "      <th>Unsafe drinking water</th>\n",
       "      <th>Water Resources</th>\n",
       "      <th>Ecosystem Vitality</th>\n",
       "      <th>Agriculture</th>\n",
       "      <th>...</th>\n",
       "      <th>Health Impacts</th>\n",
       "      <th>Household Air Quality</th>\n",
       "      <th>Access to Electricity</th>\n",
       "      <th>Pesticide Regulation</th>\n",
       "      <th>Agricultural Subsidies</th>\n",
       "      <th>Child Mortality</th>\n",
       "      <th>Fisheries</th>\n",
       "      <th>Marine Protected Areas</th>\n",
       "      <th>Fish Stock Status</th>\n",
       "      <th>GDP</th>\n",
       "    </tr>\n",
       "  </thead>\n",
       "  <tbody>\n",
       "    <tr>\n",
       "      <th>247</th>\n",
       "      <td>2002</td>\n",
       "      <td>Guinea-Bissau</td>\n",
       "      <td>0.000</td>\n",
       "      <td>4.190</td>\n",
       "      <td>89.870</td>\n",
       "      <td>100.000</td>\n",
       "      <td>8.380</td>\n",
       "      <td>0.00</td>\n",
       "      <td>38.450</td>\n",
       "      <td>52.0000</td>\n",
       "      <td>...</td>\n",
       "      <td>11.080</td>\n",
       "      <td>2.8</td>\n",
       "      <td>54.600</td>\n",
       "      <td>4.0</td>\n",
       "      <td>100.00</td>\n",
       "      <td>11.08</td>\n",
       "      <td>23.920</td>\n",
       "      <td>NaN</td>\n",
       "      <td>5.330</td>\n",
       "      <td>4.158435e+08</td>\n",
       "    </tr>\n",
       "    <tr>\n",
       "      <th>248</th>\n",
       "      <td>2003</td>\n",
       "      <td>Guinea-Bissau</td>\n",
       "      <td>0.000</td>\n",
       "      <td>4.660</td>\n",
       "      <td>89.870</td>\n",
       "      <td>100.000</td>\n",
       "      <td>9.320</td>\n",
       "      <td>0.00</td>\n",
       "      <td>38.560</td>\n",
       "      <td>52.0000</td>\n",
       "      <td>...</td>\n",
       "      <td>11.460</td>\n",
       "      <td>2.7</td>\n",
       "      <td>54.900</td>\n",
       "      <td>4.0</td>\n",
       "      <td>100.00</td>\n",
       "      <td>11.46</td>\n",
       "      <td>24.700</td>\n",
       "      <td>NaN</td>\n",
       "      <td>6.170</td>\n",
       "      <td>4.763883e+08</td>\n",
       "    </tr>\n",
       "    <tr>\n",
       "      <th>249</th>\n",
       "      <td>2004</td>\n",
       "      <td>Guinea-Bissau</td>\n",
       "      <td>0.150</td>\n",
       "      <td>5.230</td>\n",
       "      <td>89.870</td>\n",
       "      <td>100.000</td>\n",
       "      <td>10.310</td>\n",
       "      <td>0.00</td>\n",
       "      <td>38.490</td>\n",
       "      <td>52.0000</td>\n",
       "      <td>...</td>\n",
       "      <td>11.830</td>\n",
       "      <td>2.6</td>\n",
       "      <td>55.200</td>\n",
       "      <td>4.0</td>\n",
       "      <td>100.00</td>\n",
       "      <td>11.83</td>\n",
       "      <td>24.150</td>\n",
       "      <td>NaN</td>\n",
       "      <td>6.890</td>\n",
       "      <td>5.311094e+08</td>\n",
       "    </tr>\n",
       "    <tr>\n",
       "      <th>250</th>\n",
       "      <td>2005</td>\n",
       "      <td>Guinea-Bissau</td>\n",
       "      <td>0.310</td>\n",
       "      <td>5.830</td>\n",
       "      <td>89.870</td>\n",
       "      <td>100.000</td>\n",
       "      <td>11.350</td>\n",
       "      <td>0.00</td>\n",
       "      <td>38.410</td>\n",
       "      <td>52.0000</td>\n",
       "      <td>...</td>\n",
       "      <td>12.200</td>\n",
       "      <td>2.5</td>\n",
       "      <td>55.500</td>\n",
       "      <td>4.0</td>\n",
       "      <td>100.00</td>\n",
       "      <td>12.20</td>\n",
       "      <td>23.590</td>\n",
       "      <td>NaN</td>\n",
       "      <td>4.040</td>\n",
       "      <td>5.867919e+08</td>\n",
       "    </tr>\n",
       "    <tr>\n",
       "      <th>251</th>\n",
       "      <td>2006</td>\n",
       "      <td>Guinea-Bissau</td>\n",
       "      <td>0.480</td>\n",
       "      <td>6.460</td>\n",
       "      <td>89.870</td>\n",
       "      <td>100.000</td>\n",
       "      <td>12.450</td>\n",
       "      <td>0.00</td>\n",
       "      <td>38.570</td>\n",
       "      <td>52.0000</td>\n",
       "      <td>...</td>\n",
       "      <td>12.560</td>\n",
       "      <td>2.4</td>\n",
       "      <td>55.800</td>\n",
       "      <td>4.0</td>\n",
       "      <td>100.00</td>\n",
       "      <td>12.56</td>\n",
       "      <td>24.800</td>\n",
       "      <td>NaN</td>\n",
       "      <td>7.410</td>\n",
       "      <td>5.918299e+08</td>\n",
       "    </tr>\n",
       "    <tr>\n",
       "      <th>252</th>\n",
       "      <td>2007</td>\n",
       "      <td>Guinea-Bissau</td>\n",
       "      <td>0.640</td>\n",
       "      <td>7.130</td>\n",
       "      <td>89.870</td>\n",
       "      <td>100.000</td>\n",
       "      <td>13.610</td>\n",
       "      <td>0.00</td>\n",
       "      <td>38.280</td>\n",
       "      <td>52.0000</td>\n",
       "      <td>...</td>\n",
       "      <td>12.900</td>\n",
       "      <td>2.3</td>\n",
       "      <td>56.100</td>\n",
       "      <td>4.0</td>\n",
       "      <td>100.00</td>\n",
       "      <td>12.90</td>\n",
       "      <td>22.580</td>\n",
       "      <td>NaN</td>\n",
       "      <td>2.960</td>\n",
       "      <td>6.956063e+08</td>\n",
       "    </tr>\n",
       "    <tr>\n",
       "      <th>253</th>\n",
       "      <td>2008</td>\n",
       "      <td>Guinea-Bissau</td>\n",
       "      <td>0.810</td>\n",
       "      <td>7.830</td>\n",
       "      <td>89.870</td>\n",
       "      <td>100.000</td>\n",
       "      <td>14.850</td>\n",
       "      <td>0.00</td>\n",
       "      <td>38.890</td>\n",
       "      <td>56.0000</td>\n",
       "      <td>...</td>\n",
       "      <td>13.240</td>\n",
       "      <td>2.2</td>\n",
       "      <td>56.400</td>\n",
       "      <td>12.0</td>\n",
       "      <td>100.00</td>\n",
       "      <td>13.24</td>\n",
       "      <td>25.210</td>\n",
       "      <td>NaN</td>\n",
       "      <td>8.220</td>\n",
       "      <td>8.641367e+08</td>\n",
       "    </tr>\n",
       "    <tr>\n",
       "      <th>254</th>\n",
       "      <td>2009</td>\n",
       "      <td>Guinea-Bissau</td>\n",
       "      <td>0.980</td>\n",
       "      <td>8.570</td>\n",
       "      <td>89.870</td>\n",
       "      <td>100.000</td>\n",
       "      <td>16.160</td>\n",
       "      <td>0.00</td>\n",
       "      <td>39.110</td>\n",
       "      <td>56.0000</td>\n",
       "      <td>...</td>\n",
       "      <td>13.560</td>\n",
       "      <td>2.1</td>\n",
       "      <td>56.700</td>\n",
       "      <td>12.0</td>\n",
       "      <td>100.00</td>\n",
       "      <td>13.56</td>\n",
       "      <td>26.860</td>\n",
       "      <td>NaN</td>\n",
       "      <td>11.520</td>\n",
       "      <td>8.258287e+08</td>\n",
       "    </tr>\n",
       "    <tr>\n",
       "      <th>255</th>\n",
       "      <td>2010</td>\n",
       "      <td>Guinea-Bissau</td>\n",
       "      <td>1.150</td>\n",
       "      <td>9.350</td>\n",
       "      <td>89.870</td>\n",
       "      <td>100.000</td>\n",
       "      <td>17.560</td>\n",
       "      <td>0.00</td>\n",
       "      <td>39.090</td>\n",
       "      <td>56.0000</td>\n",
       "      <td>...</td>\n",
       "      <td>13.880</td>\n",
       "      <td>2.0</td>\n",
       "      <td>57.000</td>\n",
       "      <td>12.0</td>\n",
       "      <td>100.00</td>\n",
       "      <td>13.88</td>\n",
       "      <td>26.700</td>\n",
       "      <td>NaN</td>\n",
       "      <td>11.200</td>\n",
       "      <td>8.506333e+08</td>\n",
       "    </tr>\n",
       "    <tr>\n",
       "      <th>256</th>\n",
       "      <td>2011</td>\n",
       "      <td>Guinea-Bissau</td>\n",
       "      <td>1.320</td>\n",
       "      <td>10.190</td>\n",
       "      <td>89.870</td>\n",
       "      <td>100.000</td>\n",
       "      <td>19.060</td>\n",
       "      <td>0.00</td>\n",
       "      <td>39.520</td>\n",
       "      <td>56.0000</td>\n",
       "      <td>...</td>\n",
       "      <td>14.200</td>\n",
       "      <td>2.0</td>\n",
       "      <td>57.000</td>\n",
       "      <td>12.0</td>\n",
       "      <td>100.00</td>\n",
       "      <td>14.20</td>\n",
       "      <td>29.900</td>\n",
       "      <td>NaN</td>\n",
       "      <td>17.610</td>\n",
       "      <td>1.099386e+09</td>\n",
       "    </tr>\n",
       "    <tr>\n",
       "      <th>257</th>\n",
       "      <td>2012</td>\n",
       "      <td>Guinea-Bissau</td>\n",
       "      <td>1.320</td>\n",
       "      <td>10.190</td>\n",
       "      <td>89.870</td>\n",
       "      <td>100.000</td>\n",
       "      <td>19.060</td>\n",
       "      <td>0.00</td>\n",
       "      <td>39.520</td>\n",
       "      <td>56.0000</td>\n",
       "      <td>...</td>\n",
       "      <td>14.520</td>\n",
       "      <td>2.0</td>\n",
       "      <td>57.000</td>\n",
       "      <td>12.0</td>\n",
       "      <td>100.00</td>\n",
       "      <td>14.52</td>\n",
       "      <td>29.900</td>\n",
       "      <td>NaN</td>\n",
       "      <td>17.610</td>\n",
       "      <td>9.898756e+08</td>\n",
       "    </tr>\n",
       "    <tr>\n",
       "      <th>258</th>\n",
       "      <td>2013</td>\n",
       "      <td>Guinea-Bissau</td>\n",
       "      <td>1.320</td>\n",
       "      <td>10.190</td>\n",
       "      <td>89.870</td>\n",
       "      <td>100.000</td>\n",
       "      <td>19.060</td>\n",
       "      <td>0.00</td>\n",
       "      <td>39.520</td>\n",
       "      <td>56.0000</td>\n",
       "      <td>...</td>\n",
       "      <td>14.520</td>\n",
       "      <td>2.0</td>\n",
       "      <td>57.000</td>\n",
       "      <td>12.0</td>\n",
       "      <td>100.00</td>\n",
       "      <td>14.52</td>\n",
       "      <td>29.900</td>\n",
       "      <td>NaN</td>\n",
       "      <td>17.610</td>\n",
       "      <td>1.046117e+09</td>\n",
       "    </tr>\n",
       "    <tr>\n",
       "      <th>259</th>\n",
       "      <td>2014</td>\n",
       "      <td>Guinea-Bissau</td>\n",
       "      <td>1.320</td>\n",
       "      <td>10.190</td>\n",
       "      <td>89.870</td>\n",
       "      <td>100.000</td>\n",
       "      <td>19.060</td>\n",
       "      <td>0.00</td>\n",
       "      <td>39.520</td>\n",
       "      <td>56.0000</td>\n",
       "      <td>...</td>\n",
       "      <td>14.520</td>\n",
       "      <td>2.0</td>\n",
       "      <td>57.000</td>\n",
       "      <td>12.0</td>\n",
       "      <td>100.00</td>\n",
       "      <td>14.52</td>\n",
       "      <td>29.900</td>\n",
       "      <td>NaN</td>\n",
       "      <td>17.610</td>\n",
       "      <td>1.055186e+09</td>\n",
       "    </tr>\n",
       "    <tr>\n",
       "      <th>260</th>\n",
       "      <td>2015</td>\n",
       "      <td>Guinea-Bissau</td>\n",
       "      <td>21.095</td>\n",
       "      <td>22.820</td>\n",
       "      <td>90.585</td>\n",
       "      <td>100.000</td>\n",
       "      <td>38.915</td>\n",
       "      <td>0.00</td>\n",
       "      <td>46.620</td>\n",
       "      <td>73.5100</td>\n",
       "      <td>...</td>\n",
       "      <td>20.950</td>\n",
       "      <td>3.5</td>\n",
       "      <td>68.125</td>\n",
       "      <td>12.0</td>\n",
       "      <td>100.00</td>\n",
       "      <td>14.52</td>\n",
       "      <td>57.395</td>\n",
       "      <td>NaN</td>\n",
       "      <td>51.250</td>\n",
       "      <td>1.036131e+09</td>\n",
       "    </tr>\n",
       "    <tr>\n",
       "      <th>625</th>\n",
       "      <td>2002</td>\n",
       "      <td>Brunei Darussalam</td>\n",
       "      <td>41.080</td>\n",
       "      <td>70.540</td>\n",
       "      <td>100.000</td>\n",
       "      <td>100.000</td>\n",
       "      <td>100.000</td>\n",
       "      <td>37.84</td>\n",
       "      <td>53.840</td>\n",
       "      <td>68.0000</td>\n",
       "      <td>...</td>\n",
       "      <td>92.210</td>\n",
       "      <td>95.0</td>\n",
       "      <td>69.800</td>\n",
       "      <td>68.0</td>\n",
       "      <td>35.94</td>\n",
       "      <td>92.21</td>\n",
       "      <td>69.060</td>\n",
       "      <td>NaN</td>\n",
       "      <td>63.690</td>\n",
       "      <td>0.000000e+00</td>\n",
       "    </tr>\n",
       "    <tr>\n",
       "      <th>626</th>\n",
       "      <td>2003</td>\n",
       "      <td>Brunei Darussalam</td>\n",
       "      <td>41.750</td>\n",
       "      <td>70.870</td>\n",
       "      <td>100.000</td>\n",
       "      <td>100.000</td>\n",
       "      <td>100.000</td>\n",
       "      <td>37.84</td>\n",
       "      <td>53.550</td>\n",
       "      <td>68.0000</td>\n",
       "      <td>...</td>\n",
       "      <td>93.210</td>\n",
       "      <td>95.0</td>\n",
       "      <td>70.200</td>\n",
       "      <td>68.0</td>\n",
       "      <td>35.94</td>\n",
       "      <td>93.21</td>\n",
       "      <td>66.100</td>\n",
       "      <td>NaN</td>\n",
       "      <td>61.330</td>\n",
       "      <td>0.000000e+00</td>\n",
       "    </tr>\n",
       "    <tr>\n",
       "      <th>627</th>\n",
       "      <td>2004</td>\n",
       "      <td>Brunei Darussalam</td>\n",
       "      <td>42.550</td>\n",
       "      <td>71.270</td>\n",
       "      <td>100.000</td>\n",
       "      <td>100.000</td>\n",
       "      <td>100.000</td>\n",
       "      <td>37.84</td>\n",
       "      <td>53.410</td>\n",
       "      <td>68.0000</td>\n",
       "      <td>...</td>\n",
       "      <td>94.180</td>\n",
       "      <td>95.0</td>\n",
       "      <td>70.600</td>\n",
       "      <td>68.0</td>\n",
       "      <td>35.94</td>\n",
       "      <td>94.18</td>\n",
       "      <td>64.670</td>\n",
       "      <td>NaN</td>\n",
       "      <td>56.520</td>\n",
       "      <td>0.000000e+00</td>\n",
       "    </tr>\n",
       "    <tr>\n",
       "      <th>628</th>\n",
       "      <td>2005</td>\n",
       "      <td>Brunei Darussalam</td>\n",
       "      <td>43.460</td>\n",
       "      <td>71.730</td>\n",
       "      <td>100.000</td>\n",
       "      <td>100.000</td>\n",
       "      <td>100.000</td>\n",
       "      <td>37.84</td>\n",
       "      <td>53.410</td>\n",
       "      <td>68.0000</td>\n",
       "      <td>...</td>\n",
       "      <td>95.140</td>\n",
       "      <td>95.0</td>\n",
       "      <td>71.000</td>\n",
       "      <td>68.0</td>\n",
       "      <td>35.94</td>\n",
       "      <td>95.14</td>\n",
       "      <td>64.690</td>\n",
       "      <td>NaN</td>\n",
       "      <td>56.760</td>\n",
       "      <td>0.000000e+00</td>\n",
       "    </tr>\n",
       "    <tr>\n",
       "      <th>629</th>\n",
       "      <td>2006</td>\n",
       "      <td>Brunei Darussalam</td>\n",
       "      <td>44.390</td>\n",
       "      <td>72.190</td>\n",
       "      <td>100.000</td>\n",
       "      <td>100.000</td>\n",
       "      <td>100.000</td>\n",
       "      <td>37.84</td>\n",
       "      <td>54.120</td>\n",
       "      <td>68.0000</td>\n",
       "      <td>...</td>\n",
       "      <td>96.070</td>\n",
       "      <td>95.0</td>\n",
       "      <td>71.400</td>\n",
       "      <td>68.0</td>\n",
       "      <td>35.94</td>\n",
       "      <td>96.07</td>\n",
       "      <td>71.860</td>\n",
       "      <td>NaN</td>\n",
       "      <td>71.100</td>\n",
       "      <td>0.000000e+00</td>\n",
       "    </tr>\n",
       "    <tr>\n",
       "      <th>630</th>\n",
       "      <td>2007</td>\n",
       "      <td>Brunei Darussalam</td>\n",
       "      <td>45.380</td>\n",
       "      <td>72.690</td>\n",
       "      <td>100.000</td>\n",
       "      <td>100.000</td>\n",
       "      <td>100.000</td>\n",
       "      <td>37.84</td>\n",
       "      <td>51.310</td>\n",
       "      <td>68.0000</td>\n",
       "      <td>...</td>\n",
       "      <td>96.960</td>\n",
       "      <td>95.0</td>\n",
       "      <td>71.800</td>\n",
       "      <td>68.0</td>\n",
       "      <td>35.94</td>\n",
       "      <td>96.96</td>\n",
       "      <td>43.680</td>\n",
       "      <td>NaN</td>\n",
       "      <td>14.750</td>\n",
       "      <td>0.000000e+00</td>\n",
       "    </tr>\n",
       "    <tr>\n",
       "      <th>631</th>\n",
       "      <td>2008</td>\n",
       "      <td>Brunei Darussalam</td>\n",
       "      <td>46.070</td>\n",
       "      <td>73.030</td>\n",
       "      <td>100.000</td>\n",
       "      <td>100.000</td>\n",
       "      <td>100.000</td>\n",
       "      <td>37.84</td>\n",
       "      <td>51.460</td>\n",
       "      <td>68.0000</td>\n",
       "      <td>...</td>\n",
       "      <td>97.820</td>\n",
       "      <td>95.0</td>\n",
       "      <td>72.200</td>\n",
       "      <td>68.0</td>\n",
       "      <td>35.94</td>\n",
       "      <td>97.82</td>\n",
       "      <td>45.230</td>\n",
       "      <td>NaN</td>\n",
       "      <td>17.840</td>\n",
       "      <td>0.000000e+00</td>\n",
       "    </tr>\n",
       "    <tr>\n",
       "      <th>632</th>\n",
       "      <td>2009</td>\n",
       "      <td>Brunei Darussalam</td>\n",
       "      <td>46.760</td>\n",
       "      <td>73.380</td>\n",
       "      <td>100.000</td>\n",
       "      <td>100.000</td>\n",
       "      <td>100.000</td>\n",
       "      <td>37.84</td>\n",
       "      <td>51.100</td>\n",
       "      <td>68.0000</td>\n",
       "      <td>...</td>\n",
       "      <td>98.640</td>\n",
       "      <td>95.0</td>\n",
       "      <td>72.600</td>\n",
       "      <td>68.0</td>\n",
       "      <td>35.94</td>\n",
       "      <td>98.64</td>\n",
       "      <td>41.660</td>\n",
       "      <td>NaN</td>\n",
       "      <td>10.710</td>\n",
       "      <td>0.000000e+00</td>\n",
       "    </tr>\n",
       "    <tr>\n",
       "      <th>633</th>\n",
       "      <td>2010</td>\n",
       "      <td>Brunei Darussalam</td>\n",
       "      <td>47.600</td>\n",
       "      <td>73.800</td>\n",
       "      <td>100.000</td>\n",
       "      <td>100.000</td>\n",
       "      <td>100.000</td>\n",
       "      <td>37.84</td>\n",
       "      <td>51.620</td>\n",
       "      <td>68.0000</td>\n",
       "      <td>...</td>\n",
       "      <td>99.420</td>\n",
       "      <td>95.0</td>\n",
       "      <td>73.000</td>\n",
       "      <td>68.0</td>\n",
       "      <td>35.94</td>\n",
       "      <td>99.42</td>\n",
       "      <td>46.830</td>\n",
       "      <td>NaN</td>\n",
       "      <td>21.050</td>\n",
       "      <td>0.000000e+00</td>\n",
       "    </tr>\n",
       "    <tr>\n",
       "      <th>634</th>\n",
       "      <td>2011</td>\n",
       "      <td>Brunei Darussalam</td>\n",
       "      <td>47.850</td>\n",
       "      <td>73.930</td>\n",
       "      <td>100.000</td>\n",
       "      <td>100.000</td>\n",
       "      <td>100.000</td>\n",
       "      <td>37.84</td>\n",
       "      <td>51.140</td>\n",
       "      <td>68.0000</td>\n",
       "      <td>...</td>\n",
       "      <td>100.000</td>\n",
       "      <td>95.0</td>\n",
       "      <td>73.000</td>\n",
       "      <td>68.0</td>\n",
       "      <td>35.94</td>\n",
       "      <td>100.00</td>\n",
       "      <td>42.060</td>\n",
       "      <td>NaN</td>\n",
       "      <td>11.500</td>\n",
       "      <td>0.000000e+00</td>\n",
       "    </tr>\n",
       "    <tr>\n",
       "      <th>635</th>\n",
       "      <td>2012</td>\n",
       "      <td>Brunei Darussalam</td>\n",
       "      <td>47.850</td>\n",
       "      <td>73.930</td>\n",
       "      <td>100.000</td>\n",
       "      <td>100.000</td>\n",
       "      <td>100.000</td>\n",
       "      <td>37.84</td>\n",
       "      <td>51.140</td>\n",
       "      <td>68.0000</td>\n",
       "      <td>...</td>\n",
       "      <td>100.000</td>\n",
       "      <td>95.0</td>\n",
       "      <td>73.000</td>\n",
       "      <td>68.0</td>\n",
       "      <td>35.94</td>\n",
       "      <td>100.00</td>\n",
       "      <td>42.060</td>\n",
       "      <td>NaN</td>\n",
       "      <td>11.500</td>\n",
       "      <td>0.000000e+00</td>\n",
       "    </tr>\n",
       "    <tr>\n",
       "      <th>636</th>\n",
       "      <td>2013</td>\n",
       "      <td>Brunei Darussalam</td>\n",
       "      <td>47.850</td>\n",
       "      <td>73.930</td>\n",
       "      <td>100.000</td>\n",
       "      <td>100.000</td>\n",
       "      <td>100.000</td>\n",
       "      <td>37.84</td>\n",
       "      <td>51.140</td>\n",
       "      <td>68.0000</td>\n",
       "      <td>...</td>\n",
       "      <td>100.000</td>\n",
       "      <td>95.0</td>\n",
       "      <td>73.000</td>\n",
       "      <td>68.0</td>\n",
       "      <td>35.94</td>\n",
       "      <td>100.00</td>\n",
       "      <td>42.060</td>\n",
       "      <td>NaN</td>\n",
       "      <td>11.500</td>\n",
       "      <td>0.000000e+00</td>\n",
       "    </tr>\n",
       "    <tr>\n",
       "      <th>637</th>\n",
       "      <td>2014</td>\n",
       "      <td>Brunei Darussalam</td>\n",
       "      <td>47.850</td>\n",
       "      <td>73.930</td>\n",
       "      <td>100.000</td>\n",
       "      <td>100.000</td>\n",
       "      <td>100.000</td>\n",
       "      <td>37.84</td>\n",
       "      <td>51.140</td>\n",
       "      <td>68.0000</td>\n",
       "      <td>...</td>\n",
       "      <td>100.000</td>\n",
       "      <td>95.0</td>\n",
       "      <td>73.000</td>\n",
       "      <td>68.0</td>\n",
       "      <td>35.94</td>\n",
       "      <td>100.00</td>\n",
       "      <td>42.060</td>\n",
       "      <td>NaN</td>\n",
       "      <td>11.500</td>\n",
       "      <td>0.000000e+00</td>\n",
       "    </tr>\n",
       "    <tr>\n",
       "      <th>638</th>\n",
       "      <td>2015</td>\n",
       "      <td>Brunei Darussalam</td>\n",
       "      <td>47.850</td>\n",
       "      <td>80.445</td>\n",
       "      <td>100.000</td>\n",
       "      <td>94.635</td>\n",
       "      <td>100.000</td>\n",
       "      <td>37.84</td>\n",
       "      <td>48.765</td>\n",
       "      <td>34.4886</td>\n",
       "      <td>...</td>\n",
       "      <td>98.565</td>\n",
       "      <td>95.0</td>\n",
       "      <td>78.400</td>\n",
       "      <td>68.0</td>\n",
       "      <td>35.94</td>\n",
       "      <td>100.00</td>\n",
       "      <td>52.065</td>\n",
       "      <td>NaN</td>\n",
       "      <td>36.785</td>\n",
       "      <td>0.000000e+00</td>\n",
       "    </tr>\n",
       "  </tbody>\n",
       "</table>\n",
       "<p>28 rows × 27 columns</p>\n",
       "</div>"
      ],
      "text/plain": [
       "     year       country_name  Unsafe sanitation  Sanitation & Drinking Water  \\\n",
       "247  2002      Guinea-Bissau              0.000                        4.190   \n",
       "248  2003      Guinea-Bissau              0.000                        4.660   \n",
       "249  2004      Guinea-Bissau              0.150                        5.230   \n",
       "250  2005      Guinea-Bissau              0.310                        5.830   \n",
       "251  2006      Guinea-Bissau              0.480                        6.460   \n",
       "252  2007      Guinea-Bissau              0.640                        7.130   \n",
       "253  2008      Guinea-Bissau              0.810                        7.830   \n",
       "254  2009      Guinea-Bissau              0.980                        8.570   \n",
       "255  2010      Guinea-Bissau              1.150                        9.350   \n",
       "256  2011      Guinea-Bissau              1.320                       10.190   \n",
       "257  2012      Guinea-Bissau              1.320                       10.190   \n",
       "258  2013      Guinea-Bissau              1.320                       10.190   \n",
       "259  2014      Guinea-Bissau              1.320                       10.190   \n",
       "260  2015      Guinea-Bissau             21.095                       22.820   \n",
       "625  2002  Brunei Darussalam             41.080                       70.540   \n",
       "626  2003  Brunei Darussalam             41.750                       70.870   \n",
       "627  2004  Brunei Darussalam             42.550                       71.270   \n",
       "628  2005  Brunei Darussalam             43.460                       71.730   \n",
       "629  2006  Brunei Darussalam             44.390                       72.190   \n",
       "630  2007  Brunei Darussalam             45.380                       72.690   \n",
       "631  2008  Brunei Darussalam             46.070                       73.030   \n",
       "632  2009  Brunei Darussalam             46.760                       73.380   \n",
       "633  2010  Brunei Darussalam             47.600                       73.800   \n",
       "634  2011  Brunei Darussalam             47.850                       73.930   \n",
       "635  2012  Brunei Darussalam             47.850                       73.930   \n",
       "636  2013  Brunei Darussalam             47.850                       73.930   \n",
       "637  2014  Brunei Darussalam             47.850                       73.930   \n",
       "638  2015  Brunei Darussalam             47.850                       80.445   \n",
       "\n",
       "     Terrestrial biome protection (national weights)  PM2.5 Exposure  \\\n",
       "247                                           89.870         100.000   \n",
       "248                                           89.870         100.000   \n",
       "249                                           89.870         100.000   \n",
       "250                                           89.870         100.000   \n",
       "251                                           89.870         100.000   \n",
       "252                                           89.870         100.000   \n",
       "253                                           89.870         100.000   \n",
       "254                                           89.870         100.000   \n",
       "255                                           89.870         100.000   \n",
       "256                                           89.870         100.000   \n",
       "257                                           89.870         100.000   \n",
       "258                                           89.870         100.000   \n",
       "259                                           89.870         100.000   \n",
       "260                                           90.585         100.000   \n",
       "625                                          100.000         100.000   \n",
       "626                                          100.000         100.000   \n",
       "627                                          100.000         100.000   \n",
       "628                                          100.000         100.000   \n",
       "629                                          100.000         100.000   \n",
       "630                                          100.000         100.000   \n",
       "631                                          100.000         100.000   \n",
       "632                                          100.000         100.000   \n",
       "633                                          100.000         100.000   \n",
       "634                                          100.000         100.000   \n",
       "635                                          100.000         100.000   \n",
       "636                                          100.000         100.000   \n",
       "637                                          100.000         100.000   \n",
       "638                                          100.000          94.635   \n",
       "\n",
       "     Unsafe drinking water  Water Resources  Ecosystem Vitality  Agriculture  \\\n",
       "247                  8.380             0.00              38.450      52.0000   \n",
       "248                  9.320             0.00              38.560      52.0000   \n",
       "249                 10.310             0.00              38.490      52.0000   \n",
       "250                 11.350             0.00              38.410      52.0000   \n",
       "251                 12.450             0.00              38.570      52.0000   \n",
       "252                 13.610             0.00              38.280      52.0000   \n",
       "253                 14.850             0.00              38.890      56.0000   \n",
       "254                 16.160             0.00              39.110      56.0000   \n",
       "255                 17.560             0.00              39.090      56.0000   \n",
       "256                 19.060             0.00              39.520      56.0000   \n",
       "257                 19.060             0.00              39.520      56.0000   \n",
       "258                 19.060             0.00              39.520      56.0000   \n",
       "259                 19.060             0.00              39.520      56.0000   \n",
       "260                 38.915             0.00              46.620      73.5100   \n",
       "625                100.000            37.84              53.840      68.0000   \n",
       "626                100.000            37.84              53.550      68.0000   \n",
       "627                100.000            37.84              53.410      68.0000   \n",
       "628                100.000            37.84              53.410      68.0000   \n",
       "629                100.000            37.84              54.120      68.0000   \n",
       "630                100.000            37.84              51.310      68.0000   \n",
       "631                100.000            37.84              51.460      68.0000   \n",
       "632                100.000            37.84              51.100      68.0000   \n",
       "633                100.000            37.84              51.620      68.0000   \n",
       "634                100.000            37.84              51.140      68.0000   \n",
       "635                100.000            37.84              51.140      68.0000   \n",
       "636                100.000            37.84              51.140      68.0000   \n",
       "637                100.000            37.84              51.140      68.0000   \n",
       "638                100.000            37.84              48.765      34.4886   \n",
       "\n",
       "     ...  Health Impacts  Household Air Quality  Access to Electricity  \\\n",
       "247  ...          11.080                    2.8                 54.600   \n",
       "248  ...          11.460                    2.7                 54.900   \n",
       "249  ...          11.830                    2.6                 55.200   \n",
       "250  ...          12.200                    2.5                 55.500   \n",
       "251  ...          12.560                    2.4                 55.800   \n",
       "252  ...          12.900                    2.3                 56.100   \n",
       "253  ...          13.240                    2.2                 56.400   \n",
       "254  ...          13.560                    2.1                 56.700   \n",
       "255  ...          13.880                    2.0                 57.000   \n",
       "256  ...          14.200                    2.0                 57.000   \n",
       "257  ...          14.520                    2.0                 57.000   \n",
       "258  ...          14.520                    2.0                 57.000   \n",
       "259  ...          14.520                    2.0                 57.000   \n",
       "260  ...          20.950                    3.5                 68.125   \n",
       "625  ...          92.210                   95.0                 69.800   \n",
       "626  ...          93.210                   95.0                 70.200   \n",
       "627  ...          94.180                   95.0                 70.600   \n",
       "628  ...          95.140                   95.0                 71.000   \n",
       "629  ...          96.070                   95.0                 71.400   \n",
       "630  ...          96.960                   95.0                 71.800   \n",
       "631  ...          97.820                   95.0                 72.200   \n",
       "632  ...          98.640                   95.0                 72.600   \n",
       "633  ...          99.420                   95.0                 73.000   \n",
       "634  ...         100.000                   95.0                 73.000   \n",
       "635  ...         100.000                   95.0                 73.000   \n",
       "636  ...         100.000                   95.0                 73.000   \n",
       "637  ...         100.000                   95.0                 73.000   \n",
       "638  ...          98.565                   95.0                 78.400   \n",
       "\n",
       "     Pesticide Regulation  Agricultural Subsidies  Child Mortality  Fisheries  \\\n",
       "247                   4.0                  100.00            11.08     23.920   \n",
       "248                   4.0                  100.00            11.46     24.700   \n",
       "249                   4.0                  100.00            11.83     24.150   \n",
       "250                   4.0                  100.00            12.20     23.590   \n",
       "251                   4.0                  100.00            12.56     24.800   \n",
       "252                   4.0                  100.00            12.90     22.580   \n",
       "253                  12.0                  100.00            13.24     25.210   \n",
       "254                  12.0                  100.00            13.56     26.860   \n",
       "255                  12.0                  100.00            13.88     26.700   \n",
       "256                  12.0                  100.00            14.20     29.900   \n",
       "257                  12.0                  100.00            14.52     29.900   \n",
       "258                  12.0                  100.00            14.52     29.900   \n",
       "259                  12.0                  100.00            14.52     29.900   \n",
       "260                  12.0                  100.00            14.52     57.395   \n",
       "625                  68.0                   35.94            92.21     69.060   \n",
       "626                  68.0                   35.94            93.21     66.100   \n",
       "627                  68.0                   35.94            94.18     64.670   \n",
       "628                  68.0                   35.94            95.14     64.690   \n",
       "629                  68.0                   35.94            96.07     71.860   \n",
       "630                  68.0                   35.94            96.96     43.680   \n",
       "631                  68.0                   35.94            97.82     45.230   \n",
       "632                  68.0                   35.94            98.64     41.660   \n",
       "633                  68.0                   35.94            99.42     46.830   \n",
       "634                  68.0                   35.94           100.00     42.060   \n",
       "635                  68.0                   35.94           100.00     42.060   \n",
       "636                  68.0                   35.94           100.00     42.060   \n",
       "637                  68.0                   35.94           100.00     42.060   \n",
       "638                  68.0                   35.94           100.00     52.065   \n",
       "\n",
       "     Marine Protected Areas  Fish Stock Status           GDP  \n",
       "247                     NaN              5.330  4.158435e+08  \n",
       "248                     NaN              6.170  4.763883e+08  \n",
       "249                     NaN              6.890  5.311094e+08  \n",
       "250                     NaN              4.040  5.867919e+08  \n",
       "251                     NaN              7.410  5.918299e+08  \n",
       "252                     NaN              2.960  6.956063e+08  \n",
       "253                     NaN              8.220  8.641367e+08  \n",
       "254                     NaN             11.520  8.258287e+08  \n",
       "255                     NaN             11.200  8.506333e+08  \n",
       "256                     NaN             17.610  1.099386e+09  \n",
       "257                     NaN             17.610  9.898756e+08  \n",
       "258                     NaN             17.610  1.046117e+09  \n",
       "259                     NaN             17.610  1.055186e+09  \n",
       "260                     NaN             51.250  1.036131e+09  \n",
       "625                     NaN             63.690  0.000000e+00  \n",
       "626                     NaN             61.330  0.000000e+00  \n",
       "627                     NaN             56.520  0.000000e+00  \n",
       "628                     NaN             56.760  0.000000e+00  \n",
       "629                     NaN             71.100  0.000000e+00  \n",
       "630                     NaN             14.750  0.000000e+00  \n",
       "631                     NaN             17.840  0.000000e+00  \n",
       "632                     NaN             10.710  0.000000e+00  \n",
       "633                     NaN             21.050  0.000000e+00  \n",
       "634                     NaN             11.500  0.000000e+00  \n",
       "635                     NaN             11.500  0.000000e+00  \n",
       "636                     NaN             11.500  0.000000e+00  \n",
       "637                     NaN             11.500  0.000000e+00  \n",
       "638                     NaN             36.785  0.000000e+00  \n",
       "\n",
       "[28 rows x 27 columns]"
      ]
     },
     "execution_count": 54,
     "metadata": {},
     "output_type": "execute_result"
    }
   ],
   "source": [
    "epi[epi['Marine Protected Areas'].isnull() == True]"
   ]
  },
  {
   "cell_type": "code",
   "execution_count": 55,
   "metadata": {
    "ExecuteTime": {
     "end_time": "2021-05-13T23:12:17.103172Z",
     "start_time": "2021-05-13T23:12:17.089160Z"
    }
   },
   "outputs": [],
   "source": [
    "#TODO"
   ]
  },
  {
   "cell_type": "markdown",
   "metadata": {},
   "source": [
    "- TODO: Somalia?"
   ]
  },
  {
   "cell_type": "code",
   "execution_count": 56,
   "metadata": {
    "ExecuteTime": {
     "end_time": "2021-05-13T23:12:17.149213Z",
     "start_time": "2021-05-13T23:12:17.106176Z"
    }
   },
   "outputs": [
    {
     "data": {
      "text/html": [
       "<div>\n",
       "<style scoped>\n",
       "    .dataframe tbody tr th:only-of-type {\n",
       "        vertical-align: middle;\n",
       "    }\n",
       "\n",
       "    .dataframe tbody tr th {\n",
       "        vertical-align: top;\n",
       "    }\n",
       "\n",
       "    .dataframe thead th {\n",
       "        text-align: right;\n",
       "    }\n",
       "</style>\n",
       "<table border=\"1\" class=\"dataframe\">\n",
       "  <thead>\n",
       "    <tr style=\"text-align: right;\">\n",
       "      <th></th>\n",
       "      <th>year</th>\n",
       "      <th>country_name</th>\n",
       "      <th>Unsafe sanitation</th>\n",
       "      <th>Sanitation &amp; Drinking Water</th>\n",
       "      <th>Terrestrial biome protection (national weights)</th>\n",
       "      <th>PM2.5 Exposure</th>\n",
       "      <th>Unsafe drinking water</th>\n",
       "      <th>Water Resources</th>\n",
       "      <th>Ecosystem Vitality</th>\n",
       "      <th>Agriculture</th>\n",
       "      <th>...</th>\n",
       "      <th>Health Impacts</th>\n",
       "      <th>Household Air Quality</th>\n",
       "      <th>Access to Electricity</th>\n",
       "      <th>Pesticide Regulation</th>\n",
       "      <th>Agricultural Subsidies</th>\n",
       "      <th>Child Mortality</th>\n",
       "      <th>Fisheries</th>\n",
       "      <th>Marine Protected Areas</th>\n",
       "      <th>Fish Stock Status</th>\n",
       "      <th>GDP</th>\n",
       "    </tr>\n",
       "  </thead>\n",
       "  <tbody>\n",
       "    <tr>\n",
       "      <th>1337</th>\n",
       "      <td>2002</td>\n",
       "      <td>Somalia</td>\n",
       "      <td>2.14</td>\n",
       "      <td>1.07</td>\n",
       "      <td>3.43</td>\n",
       "      <td>100.00</td>\n",
       "      <td>0.00</td>\n",
       "      <td>3.96</td>\n",
       "      <td>6.04</td>\n",
       "      <td>50.0</td>\n",
       "      <td>...</td>\n",
       "      <td>14.01</td>\n",
       "      <td>2.6</td>\n",
       "      <td>26.6</td>\n",
       "      <td>0.0</td>\n",
       "      <td>100.0</td>\n",
       "      <td>14.01</td>\n",
       "      <td>0.0</td>\n",
       "      <td>0.0</td>\n",
       "      <td>0.0</td>\n",
       "      <td>NaN</td>\n",
       "    </tr>\n",
       "    <tr>\n",
       "      <th>1338</th>\n",
       "      <td>2003</td>\n",
       "      <td>Somalia</td>\n",
       "      <td>2.18</td>\n",
       "      <td>1.09</td>\n",
       "      <td>3.43</td>\n",
       "      <td>100.00</td>\n",
       "      <td>0.00</td>\n",
       "      <td>3.96</td>\n",
       "      <td>6.04</td>\n",
       "      <td>50.0</td>\n",
       "      <td>...</td>\n",
       "      <td>14.41</td>\n",
       "      <td>2.9</td>\n",
       "      <td>26.9</td>\n",
       "      <td>0.0</td>\n",
       "      <td>100.0</td>\n",
       "      <td>14.41</td>\n",
       "      <td>0.0</td>\n",
       "      <td>0.0</td>\n",
       "      <td>0.0</td>\n",
       "      <td>NaN</td>\n",
       "    </tr>\n",
       "    <tr>\n",
       "      <th>1339</th>\n",
       "      <td>2004</td>\n",
       "      <td>Somalia</td>\n",
       "      <td>2.21</td>\n",
       "      <td>1.11</td>\n",
       "      <td>3.43</td>\n",
       "      <td>100.00</td>\n",
       "      <td>0.00</td>\n",
       "      <td>3.96</td>\n",
       "      <td>6.04</td>\n",
       "      <td>50.0</td>\n",
       "      <td>...</td>\n",
       "      <td>14.82</td>\n",
       "      <td>3.2</td>\n",
       "      <td>27.2</td>\n",
       "      <td>0.0</td>\n",
       "      <td>100.0</td>\n",
       "      <td>14.82</td>\n",
       "      <td>0.0</td>\n",
       "      <td>0.0</td>\n",
       "      <td>0.0</td>\n",
       "      <td>NaN</td>\n",
       "    </tr>\n",
       "    <tr>\n",
       "      <th>1340</th>\n",
       "      <td>2005</td>\n",
       "      <td>Somalia</td>\n",
       "      <td>2.25</td>\n",
       "      <td>1.13</td>\n",
       "      <td>3.43</td>\n",
       "      <td>100.00</td>\n",
       "      <td>0.00</td>\n",
       "      <td>3.96</td>\n",
       "      <td>6.04</td>\n",
       "      <td>50.0</td>\n",
       "      <td>...</td>\n",
       "      <td>15.25</td>\n",
       "      <td>3.5</td>\n",
       "      <td>27.5</td>\n",
       "      <td>0.0</td>\n",
       "      <td>100.0</td>\n",
       "      <td>15.25</td>\n",
       "      <td>0.0</td>\n",
       "      <td>0.0</td>\n",
       "      <td>0.0</td>\n",
       "      <td>NaN</td>\n",
       "    </tr>\n",
       "    <tr>\n",
       "      <th>1341</th>\n",
       "      <td>2006</td>\n",
       "      <td>Somalia</td>\n",
       "      <td>2.30</td>\n",
       "      <td>1.15</td>\n",
       "      <td>3.43</td>\n",
       "      <td>100.00</td>\n",
       "      <td>0.00</td>\n",
       "      <td>3.96</td>\n",
       "      <td>6.04</td>\n",
       "      <td>50.0</td>\n",
       "      <td>...</td>\n",
       "      <td>15.71</td>\n",
       "      <td>3.8</td>\n",
       "      <td>27.8</td>\n",
       "      <td>0.0</td>\n",
       "      <td>100.0</td>\n",
       "      <td>15.71</td>\n",
       "      <td>0.0</td>\n",
       "      <td>0.0</td>\n",
       "      <td>0.0</td>\n",
       "      <td>NaN</td>\n",
       "    </tr>\n",
       "    <tr>\n",
       "      <th>1342</th>\n",
       "      <td>2007</td>\n",
       "      <td>Somalia</td>\n",
       "      <td>2.35</td>\n",
       "      <td>1.18</td>\n",
       "      <td>3.43</td>\n",
       "      <td>100.00</td>\n",
       "      <td>0.00</td>\n",
       "      <td>3.96</td>\n",
       "      <td>6.04</td>\n",
       "      <td>50.0</td>\n",
       "      <td>...</td>\n",
       "      <td>16.18</td>\n",
       "      <td>4.1</td>\n",
       "      <td>28.1</td>\n",
       "      <td>0.0</td>\n",
       "      <td>100.0</td>\n",
       "      <td>16.18</td>\n",
       "      <td>0.0</td>\n",
       "      <td>0.0</td>\n",
       "      <td>0.0</td>\n",
       "      <td>NaN</td>\n",
       "    </tr>\n",
       "    <tr>\n",
       "      <th>1343</th>\n",
       "      <td>2008</td>\n",
       "      <td>Somalia</td>\n",
       "      <td>2.41</td>\n",
       "      <td>1.20</td>\n",
       "      <td>3.43</td>\n",
       "      <td>100.00</td>\n",
       "      <td>0.00</td>\n",
       "      <td>3.96</td>\n",
       "      <td>6.04</td>\n",
       "      <td>50.0</td>\n",
       "      <td>...</td>\n",
       "      <td>16.65</td>\n",
       "      <td>4.4</td>\n",
       "      <td>28.4</td>\n",
       "      <td>0.0</td>\n",
       "      <td>100.0</td>\n",
       "      <td>16.65</td>\n",
       "      <td>0.0</td>\n",
       "      <td>0.0</td>\n",
       "      <td>0.0</td>\n",
       "      <td>NaN</td>\n",
       "    </tr>\n",
       "    <tr>\n",
       "      <th>1344</th>\n",
       "      <td>2009</td>\n",
       "      <td>Somalia</td>\n",
       "      <td>2.47</td>\n",
       "      <td>1.23</td>\n",
       "      <td>3.43</td>\n",
       "      <td>100.00</td>\n",
       "      <td>0.00</td>\n",
       "      <td>3.96</td>\n",
       "      <td>6.04</td>\n",
       "      <td>50.0</td>\n",
       "      <td>...</td>\n",
       "      <td>17.11</td>\n",
       "      <td>4.7</td>\n",
       "      <td>28.7</td>\n",
       "      <td>0.0</td>\n",
       "      <td>100.0</td>\n",
       "      <td>17.11</td>\n",
       "      <td>0.0</td>\n",
       "      <td>0.0</td>\n",
       "      <td>0.0</td>\n",
       "      <td>NaN</td>\n",
       "    </tr>\n",
       "    <tr>\n",
       "      <th>1345</th>\n",
       "      <td>2010</td>\n",
       "      <td>Somalia</td>\n",
       "      <td>2.52</td>\n",
       "      <td>1.26</td>\n",
       "      <td>3.43</td>\n",
       "      <td>100.00</td>\n",
       "      <td>0.00</td>\n",
       "      <td>3.96</td>\n",
       "      <td>6.50</td>\n",
       "      <td>56.0</td>\n",
       "      <td>...</td>\n",
       "      <td>17.58</td>\n",
       "      <td>5.0</td>\n",
       "      <td>29.0</td>\n",
       "      <td>12.0</td>\n",
       "      <td>100.0</td>\n",
       "      <td>17.58</td>\n",
       "      <td>0.0</td>\n",
       "      <td>0.0</td>\n",
       "      <td>0.0</td>\n",
       "      <td>NaN</td>\n",
       "    </tr>\n",
       "    <tr>\n",
       "      <th>1346</th>\n",
       "      <td>2011</td>\n",
       "      <td>Somalia</td>\n",
       "      <td>2.58</td>\n",
       "      <td>1.29</td>\n",
       "      <td>3.43</td>\n",
       "      <td>100.00</td>\n",
       "      <td>0.00</td>\n",
       "      <td>3.96</td>\n",
       "      <td>6.50</td>\n",
       "      <td>56.0</td>\n",
       "      <td>...</td>\n",
       "      <td>18.06</td>\n",
       "      <td>5.0</td>\n",
       "      <td>29.0</td>\n",
       "      <td>12.0</td>\n",
       "      <td>100.0</td>\n",
       "      <td>18.06</td>\n",
       "      <td>0.0</td>\n",
       "      <td>0.0</td>\n",
       "      <td>0.0</td>\n",
       "      <td>NaN</td>\n",
       "    </tr>\n",
       "    <tr>\n",
       "      <th>1347</th>\n",
       "      <td>2012</td>\n",
       "      <td>Somalia</td>\n",
       "      <td>2.58</td>\n",
       "      <td>1.29</td>\n",
       "      <td>3.43</td>\n",
       "      <td>100.00</td>\n",
       "      <td>0.00</td>\n",
       "      <td>3.96</td>\n",
       "      <td>6.50</td>\n",
       "      <td>56.0</td>\n",
       "      <td>...</td>\n",
       "      <td>18.55</td>\n",
       "      <td>5.0</td>\n",
       "      <td>29.0</td>\n",
       "      <td>12.0</td>\n",
       "      <td>100.0</td>\n",
       "      <td>18.55</td>\n",
       "      <td>0.0</td>\n",
       "      <td>0.0</td>\n",
       "      <td>0.0</td>\n",
       "      <td>NaN</td>\n",
       "    </tr>\n",
       "    <tr>\n",
       "      <th>2462</th>\n",
       "      <td>2002</td>\n",
       "      <td>Iraq</td>\n",
       "      <td>28.53</td>\n",
       "      <td>28.26</td>\n",
       "      <td>0.00</td>\n",
       "      <td>80.67</td>\n",
       "      <td>27.98</td>\n",
       "      <td>8.29</td>\n",
       "      <td>16.98</td>\n",
       "      <td>50.0</td>\n",
       "      <td>...</td>\n",
       "      <td>60.95</td>\n",
       "      <td>96.8</td>\n",
       "      <td>94.8</td>\n",
       "      <td>0.0</td>\n",
       "      <td>100.0</td>\n",
       "      <td>60.95</td>\n",
       "      <td>0.0</td>\n",
       "      <td>0.0</td>\n",
       "      <td>0.0</td>\n",
       "      <td>NaN</td>\n",
       "    </tr>\n",
       "    <tr>\n",
       "      <th>2463</th>\n",
       "      <td>2003</td>\n",
       "      <td>Iraq</td>\n",
       "      <td>29.25</td>\n",
       "      <td>28.86</td>\n",
       "      <td>0.00</td>\n",
       "      <td>88.01</td>\n",
       "      <td>28.46</td>\n",
       "      <td>8.29</td>\n",
       "      <td>16.98</td>\n",
       "      <td>50.0</td>\n",
       "      <td>...</td>\n",
       "      <td>62.22</td>\n",
       "      <td>97.2</td>\n",
       "      <td>95.2</td>\n",
       "      <td>0.0</td>\n",
       "      <td>100.0</td>\n",
       "      <td>62.22</td>\n",
       "      <td>0.0</td>\n",
       "      <td>0.0</td>\n",
       "      <td>0.0</td>\n",
       "      <td>NaN</td>\n",
       "    </tr>\n",
       "  </tbody>\n",
       "</table>\n",
       "<p>13 rows × 27 columns</p>\n",
       "</div>"
      ],
      "text/plain": [
       "      year country_name  Unsafe sanitation  Sanitation & Drinking Water  \\\n",
       "1337  2002      Somalia               2.14                         1.07   \n",
       "1338  2003      Somalia               2.18                         1.09   \n",
       "1339  2004      Somalia               2.21                         1.11   \n",
       "1340  2005      Somalia               2.25                         1.13   \n",
       "1341  2006      Somalia               2.30                         1.15   \n",
       "1342  2007      Somalia               2.35                         1.18   \n",
       "1343  2008      Somalia               2.41                         1.20   \n",
       "1344  2009      Somalia               2.47                         1.23   \n",
       "1345  2010      Somalia               2.52                         1.26   \n",
       "1346  2011      Somalia               2.58                         1.29   \n",
       "1347  2012      Somalia               2.58                         1.29   \n",
       "2462  2002         Iraq              28.53                        28.26   \n",
       "2463  2003         Iraq              29.25                        28.86   \n",
       "\n",
       "      Terrestrial biome protection (national weights)  PM2.5 Exposure  \\\n",
       "1337                                             3.43          100.00   \n",
       "1338                                             3.43          100.00   \n",
       "1339                                             3.43          100.00   \n",
       "1340                                             3.43          100.00   \n",
       "1341                                             3.43          100.00   \n",
       "1342                                             3.43          100.00   \n",
       "1343                                             3.43          100.00   \n",
       "1344                                             3.43          100.00   \n",
       "1345                                             3.43          100.00   \n",
       "1346                                             3.43          100.00   \n",
       "1347                                             3.43          100.00   \n",
       "2462                                             0.00           80.67   \n",
       "2463                                             0.00           88.01   \n",
       "\n",
       "      Unsafe drinking water  Water Resources  Ecosystem Vitality  Agriculture  \\\n",
       "1337                   0.00             3.96                6.04         50.0   \n",
       "1338                   0.00             3.96                6.04         50.0   \n",
       "1339                   0.00             3.96                6.04         50.0   \n",
       "1340                   0.00             3.96                6.04         50.0   \n",
       "1341                   0.00             3.96                6.04         50.0   \n",
       "1342                   0.00             3.96                6.04         50.0   \n",
       "1343                   0.00             3.96                6.04         50.0   \n",
       "1344                   0.00             3.96                6.04         50.0   \n",
       "1345                   0.00             3.96                6.50         56.0   \n",
       "1346                   0.00             3.96                6.50         56.0   \n",
       "1347                   0.00             3.96                6.50         56.0   \n",
       "2462                  27.98             8.29               16.98         50.0   \n",
       "2463                  28.46             8.29               16.98         50.0   \n",
       "\n",
       "      ...  Health Impacts  Household Air Quality  Access to Electricity  \\\n",
       "1337  ...           14.01                    2.6                   26.6   \n",
       "1338  ...           14.41                    2.9                   26.9   \n",
       "1339  ...           14.82                    3.2                   27.2   \n",
       "1340  ...           15.25                    3.5                   27.5   \n",
       "1341  ...           15.71                    3.8                   27.8   \n",
       "1342  ...           16.18                    4.1                   28.1   \n",
       "1343  ...           16.65                    4.4                   28.4   \n",
       "1344  ...           17.11                    4.7                   28.7   \n",
       "1345  ...           17.58                    5.0                   29.0   \n",
       "1346  ...           18.06                    5.0                   29.0   \n",
       "1347  ...           18.55                    5.0                   29.0   \n",
       "2462  ...           60.95                   96.8                   94.8   \n",
       "2463  ...           62.22                   97.2                   95.2   \n",
       "\n",
       "      Pesticide Regulation  Agricultural Subsidies  Child Mortality  \\\n",
       "1337                   0.0                   100.0            14.01   \n",
       "1338                   0.0                   100.0            14.41   \n",
       "1339                   0.0                   100.0            14.82   \n",
       "1340                   0.0                   100.0            15.25   \n",
       "1341                   0.0                   100.0            15.71   \n",
       "1342                   0.0                   100.0            16.18   \n",
       "1343                   0.0                   100.0            16.65   \n",
       "1344                   0.0                   100.0            17.11   \n",
       "1345                  12.0                   100.0            17.58   \n",
       "1346                  12.0                   100.0            18.06   \n",
       "1347                  12.0                   100.0            18.55   \n",
       "2462                   0.0                   100.0            60.95   \n",
       "2463                   0.0                   100.0            62.22   \n",
       "\n",
       "      Fisheries  Marine Protected Areas  Fish Stock Status  GDP  \n",
       "1337        0.0                     0.0                0.0  NaN  \n",
       "1338        0.0                     0.0                0.0  NaN  \n",
       "1339        0.0                     0.0                0.0  NaN  \n",
       "1340        0.0                     0.0                0.0  NaN  \n",
       "1341        0.0                     0.0                0.0  NaN  \n",
       "1342        0.0                     0.0                0.0  NaN  \n",
       "1343        0.0                     0.0                0.0  NaN  \n",
       "1344        0.0                     0.0                0.0  NaN  \n",
       "1345        0.0                     0.0                0.0  NaN  \n",
       "1346        0.0                     0.0                0.0  NaN  \n",
       "1347        0.0                     0.0                0.0  NaN  \n",
       "2462        0.0                     0.0                0.0  NaN  \n",
       "2463        0.0                     0.0                0.0  NaN  \n",
       "\n",
       "[13 rows x 27 columns]"
      ]
     },
     "execution_count": 56,
     "metadata": {},
     "output_type": "execute_result"
    }
   ],
   "source": [
    "epi[epi['GDP'].isnull() == True]"
   ]
  },
  {
   "cell_type": "code",
   "execution_count": null,
   "metadata": {},
   "outputs": [],
   "source": []
  }
 ],
 "metadata": {
  "kernelspec": {
   "display_name": "Python 3",
   "language": "python",
   "name": "python3"
  },
  "language_info": {
   "codemirror_mode": {
    "name": "ipython",
    "version": 3
   },
   "file_extension": ".py",
   "mimetype": "text/x-python",
   "name": "python",
   "nbconvert_exporter": "python",
   "pygments_lexer": "ipython3",
   "version": "3.8.5"
  }
 },
 "nbformat": 4,
 "nbformat_minor": 5
}
