{
 "cells": [
  {
   "cell_type": "code",
   "execution_count": 1,
   "id": "51afd2a9",
   "metadata": {
    "ExecuteTime": {
     "end_time": "2021-05-13T16:58:00.805371Z",
     "start_time": "2021-05-13T16:57:58.282867Z"
    }
   },
   "outputs": [],
   "source": [
    "import pandas as pd\n",
    "import numpy as np\n",
    "import seaborn as sns\n",
    "import matplotlib.pyplot as plt"
   ]
  },
  {
   "cell_type": "markdown",
   "id": "42855c96",
   "metadata": {},
   "source": [
    "***Data Cleaning and Exploration***"
   ]
  },
  {
   "cell_type": "code",
   "execution_count": 2,
   "id": "865f61f2",
   "metadata": {
    "ExecuteTime": {
     "end_time": "2021-05-13T16:58:00.835398Z",
     "start_time": "2021-05-13T16:58:00.807373Z"
    }
   },
   "outputs": [],
   "source": [
    "epi = pd.read_csv('data/dataframes/epi_wrangled.csv')"
   ]
  },
  {
   "cell_type": "markdown",
   "id": "0a125961",
   "metadata": {},
   "source": [
    "- Remove countries with fewer than 5 records."
   ]
  },
  {
   "cell_type": "code",
   "execution_count": 3,
   "id": "5818b76f",
   "metadata": {
    "ExecuteTime": {
     "end_time": "2021-05-13T16:58:00.850412Z",
     "start_time": "2021-05-13T16:58:00.836398Z"
    }
   },
   "outputs": [],
   "source": [
    "high_data = [key for key, value in epi['country_name'].value_counts().to_dict().items() if value >5]"
   ]
  },
  {
   "cell_type": "code",
   "execution_count": 4,
   "id": "8cb96fde",
   "metadata": {
    "ExecuteTime": {
     "end_time": "2021-05-13T16:58:00.866425Z",
     "start_time": "2021-05-13T16:58:00.852414Z"
    }
   },
   "outputs": [],
   "source": [
    "epi = epi[epi['country_name'].isin(high_data)]"
   ]
  },
  {
   "cell_type": "code",
   "execution_count": 5,
   "id": "132b4145",
   "metadata": {
    "ExecuteTime": {
     "end_time": "2021-05-13T16:58:00.882440Z",
     "start_time": "2021-05-13T16:58:00.868428Z"
    }
   },
   "outputs": [
    {
     "data": {
      "text/plain": [
       "Uganda                              19\n",
       "Republic of Congo                   19\n",
       "Mozambique                          19\n",
       "Luxembourg                          19\n",
       "New Zealand                         19\n",
       "                                    ..\n",
       "Sao Tome and Principe                9\n",
       "Maldives                             9\n",
       "Samoa                                9\n",
       "Saint Lucia                          9\n",
       "Saint Vincent and the Grenadines     9\n",
       "Name: country_name, Length: 185, dtype: int64"
      ]
     },
     "execution_count": 5,
     "metadata": {},
     "output_type": "execute_result"
    }
   ],
   "source": [
    "epi['country_name'].value_counts()"
   ]
  },
  {
   "cell_type": "markdown",
   "id": "ba88a44d",
   "metadata": {},
   "source": [
    "- Linearly impute values in place of nulls."
   ]
  },
  {
   "cell_type": "code",
   "execution_count": 6,
   "id": "a6e8cf65",
   "metadata": {
    "ExecuteTime": {
     "end_time": "2021-05-13T16:58:00.898454Z",
     "start_time": "2021-05-13T16:58:00.884441Z"
    }
   },
   "outputs": [],
   "source": [
    "def impute_values(country_name):\n",
    "    country = epi[epi['country_name'] == country_name].copy()\n",
    "    for col in country.columns:\n",
    "        country[col] = country[col].map(lambda x: np.nan if x == 'None' else x)\n",
    "        country[col].interpolate(method='linear',order=1,inplace=True, axis=0)\n",
    "    return country\n",
    "        "
   ]
  },
  {
   "cell_type": "code",
   "execution_count": 7,
   "id": "dcdd2e17",
   "metadata": {
    "ExecuteTime": {
     "end_time": "2021-05-13T16:58:05.337524Z",
     "start_time": "2021-05-13T16:58:00.901456Z"
    }
   },
   "outputs": [],
   "source": [
    "epi_new = pd.DataFrame()\n",
    "\n",
    "for country_name in  set(epi['country_name'].values):\n",
    "    country_df = impute_values(country_name)\n",
    "    epi_new = pd.concat([epi_new, country_df], ignore_index = True)"
   ]
  },
  {
   "cell_type": "code",
   "execution_count": 8,
   "id": "2c3a3bb7",
   "metadata": {
    "ExecuteTime": {
     "end_time": "2021-05-13T16:58:05.352537Z",
     "start_time": "2021-05-13T16:58:05.340526Z"
    }
   },
   "outputs": [],
   "source": [
    "epi = epi_new"
   ]
  },
  {
   "cell_type": "markdown",
   "id": "f2361614",
   "metadata": {},
   "source": [
    "- Drop columns with low value data, identified by visual analysis with respect to time. These columns' values tend to be almost entirely the same for each country on the list."
   ]
  },
  {
   "cell_type": "code",
   "execution_count": 9,
   "id": "8a1fcdca",
   "metadata": {
    "ExecuteTime": {
     "end_time": "2021-05-13T16:58:05.368551Z",
     "start_time": "2021-05-13T16:58:05.354539Z"
    }
   },
   "outputs": [],
   "source": [
    "drop_list = ['Climate','Forests', 'Critical Habitat Protection', 'Change in Forest Cover','Change of Trend in Carbon Intensity', 'Coastal Shelf Fishing Pressure',\n",
    "'Trend in CO2 Emissions per KWH','Trend in Carbon Intensity','Climate & Energy']"
   ]
  },
  {
   "cell_type": "code",
   "execution_count": 10,
   "id": "7379fb85",
   "metadata": {
    "ExecuteTime": {
     "end_time": "2021-05-13T16:58:05.383564Z",
     "start_time": "2021-05-13T16:58:05.371560Z"
    }
   },
   "outputs": [],
   "source": [
    "epi.drop(columns=drop_list,inplace=True)"
   ]
  },
  {
   "cell_type": "code",
   "execution_count": 11,
   "id": "08ec9f16",
   "metadata": {
    "ExecuteTime": {
     "end_time": "2021-05-13T16:58:05.414592Z",
     "start_time": "2021-05-13T16:58:05.385566Z"
    }
   },
   "outputs": [
    {
     "data": {
      "text/plain": [
       "Marine Protected Areas                             868\n",
       "Fish Stock Status                                  842\n",
       "Fisheries                                          842\n",
       "Agricultural Subsidies                             466\n",
       "Ecosystem Vitality                                  38\n",
       "Environmental Performance Index                     38\n",
       "Water Resources                                     26\n",
       "Wastewater Treatment                                26\n",
       "GDP                                                 13\n",
       "Environmental Health                                12\n",
       "Child Mortality                                      9\n",
       "Access to Electricity                                9\n",
       "Health Impacts                                       9\n",
       "Biodiversity & Habitat                               8\n",
       "Terrestrial biome protection (global weights)        8\n",
       "Agriculture                                          8\n",
       "Terrestrial biome protection (national weights)      8\n",
       "Air Quality                                          4\n",
       "PM2.5 Exceedance                                     4\n",
       "PM2.5 Exposure                                       4\n",
       "dtype: int64"
      ]
     },
     "execution_count": 11,
     "metadata": {},
     "output_type": "execute_result"
    }
   ],
   "source": [
    "nulls = epi.isnull().sum().sort_values(ascending =False)\n",
    "nulls[nulls > 0]"
   ]
  },
  {
   "cell_type": "markdown",
   "id": "c178613e",
   "metadata": {},
   "source": [
    "- Inspect columns with high null count indicators: Marine Protected Areas, Fisheries, Fish Stock Status and Agricultural Subsidies"
   ]
  },
  {
   "cell_type": "code",
   "execution_count": 12,
   "id": "d617f2e2",
   "metadata": {
    "ExecuteTime": {
     "end_time": "2021-05-13T16:58:05.430607Z",
     "start_time": "2021-05-13T16:58:05.415592Z"
    }
   },
   "outputs": [],
   "source": [
    "def full_null_column(countries, column_name):\n",
    "    all_null = []\n",
    "    for country in countries:\n",
    "        country_frame = epi[epi['country_name'] == country]\n",
    "        nans = country_frame[column_name].isna().sum()\n",
    "\n",
    "        if nans/country_frame.shape[0] == 1:\n",
    "            all_null.append(country)\n",
    "            \n",
    "    return all_null"
   ]
  },
  {
   "cell_type": "code",
   "execution_count": 13,
   "id": "5771c193",
   "metadata": {
    "ExecuteTime": {
     "end_time": "2021-05-13T16:58:05.445619Z",
     "start_time": "2021-05-13T16:58:05.431607Z"
    }
   },
   "outputs": [],
   "source": [
    "marine_countries = set(epi[epi['Marine Protected Areas'].isnull() == True]['country_name'].values)\n",
    "fish_countries = set(epi[epi['Fisheries'].isnull() == True]['country_name'].values)\n",
    "stock_countries = set(epi[epi['Fish Stock Status'].isnull() == True]['country_name'].values)"
   ]
  },
  {
   "cell_type": "code",
   "execution_count": 14,
   "id": "4cf6bab1",
   "metadata": {
    "ExecuteTime": {
     "end_time": "2021-05-13T16:58:05.583748Z",
     "start_time": "2021-05-13T16:58:05.447621Z"
    }
   },
   "outputs": [],
   "source": [
    "full_marine_nulls = full_null_column(marine_countries, 'Marine Protected Areas')\n",
    "full_fishery_nulls = full_null_column(fish_countries, 'Fisheries')\n",
    "full_stock_nulls = full_null_column(stock_countries, 'Fish Stock Status')"
   ]
  },
  {
   "cell_type": "code",
   "execution_count": 15,
   "id": "0c49b76a",
   "metadata": {
    "ExecuteTime": {
     "end_time": "2021-05-13T16:58:05.598759Z",
     "start_time": "2021-05-13T16:58:05.585748Z"
    }
   },
   "outputs": [
    {
     "data": {
      "text/plain": [
       "['Guinea-Bissau', 'Maldives', 'Brunei Darussalam']"
      ]
     },
     "execution_count": 15,
     "metadata": {},
     "output_type": "execute_result"
    }
   ],
   "source": [
    "marine_anomalies = [country for country in marine_countries if country not in full_marine_nulls]\n",
    "marine_anomalies"
   ]
  },
  {
   "cell_type": "code",
   "execution_count": 16,
   "id": "79659b8d",
   "metadata": {
    "ExecuteTime": {
     "end_time": "2021-05-13T16:58:05.614775Z",
     "start_time": "2021-05-13T16:58:05.600763Z"
    }
   },
   "outputs": [
    {
     "data": {
      "text/plain": [
       "['Saint Vincent and the Grenadines']"
      ]
     },
     "execution_count": 16,
     "metadata": {},
     "output_type": "execute_result"
    }
   ],
   "source": [
    "fish_anomalies = [country for country in fish_countries if country not in full_fishery_nulls]\n",
    "fish_anomalies"
   ]
  },
  {
   "cell_type": "code",
   "execution_count": 17,
   "id": "4ad741ce",
   "metadata": {
    "ExecuteTime": {
     "end_time": "2021-05-13T16:58:05.630788Z",
     "start_time": "2021-05-13T16:58:05.615776Z"
    }
   },
   "outputs": [
    {
     "data": {
      "text/plain": [
       "['Saint Vincent and the Grenadines']"
      ]
     },
     "execution_count": 17,
     "metadata": {},
     "output_type": "execute_result"
    }
   ],
   "source": [
    "stock_anomalies = [country for country in stock_countries if country not in full_stock_nulls]\n",
    "stock_anomalies"
   ]
  },
  {
   "cell_type": "markdown",
   "id": "adce6949",
   "metadata": {},
   "source": [
    "- Compare lists of countries."
   ]
  },
  {
   "cell_type": "code",
   "execution_count": 18,
   "id": "b7c22b65",
   "metadata": {
    "ExecuteTime": {
     "end_time": "2021-05-13T16:58:05.646803Z",
     "start_time": "2021-05-13T16:58:05.632792Z"
    }
   },
   "outputs": [
    {
     "data": {
      "text/plain": [
       "['Uganda', 'Eswatini', 'North Macedonia', 'Malawi', 'Laos']"
      ]
     },
     "execution_count": 18,
     "metadata": {},
     "output_type": "execute_result"
    }
   ],
   "source": [
    "full_marine_nulls[:5]"
   ]
  },
  {
   "cell_type": "code",
   "execution_count": 19,
   "id": "09ea6da8",
   "metadata": {
    "ExecuteTime": {
     "end_time": "2021-05-13T16:58:05.662149Z",
     "start_time": "2021-05-13T16:58:05.647803Z"
    },
    "scrolled": true
   },
   "outputs": [
    {
     "data": {
      "text/plain": [
       "['Uganda', 'Eswatini', 'North Macedonia', 'Malawi', 'Laos']"
      ]
     },
     "execution_count": 19,
     "metadata": {},
     "output_type": "execute_result"
    }
   ],
   "source": [
    "full_fishery_nulls[:5]"
   ]
  },
  {
   "cell_type": "code",
   "execution_count": 20,
   "id": "de0281fe",
   "metadata": {
    "ExecuteTime": {
     "end_time": "2021-05-13T16:58:05.678164Z",
     "start_time": "2021-05-13T16:58:05.664151Z"
    }
   },
   "outputs": [
    {
     "data": {
      "text/plain": [
       "['Uganda', 'Eswatini', 'North Macedonia', 'Malawi', 'Laos']"
      ]
     },
     "execution_count": 20,
     "metadata": {},
     "output_type": "execute_result"
    }
   ],
   "source": [
    "full_stock_nulls[:5]"
   ]
  },
  {
   "cell_type": "markdown",
   "id": "56c71587",
   "metadata": {},
   "source": [
    "- All countries with null values for all three identifiers have been determined to be landlocked., and thus cannot have fisheries, marine protected areas, or fish stock status. Filling null values with 0.\n",
    "- Note: there are six countries that do not appear to technically be landlocked, but still show nulls for these values. This is because they either:\n",
    "   - Have a small sliver of land that touches the ocean: Dem. Rep. Conga, Slovenia, and Bosnia and Herzegovina.\n",
    "   - Border the Caspian sea, which is debatably not a true marine sea: Turkmenistan, Kazakhstan, Azerbaijan."
   ]
  },
  {
   "cell_type": "code",
   "execution_count": 21,
   "id": "7689b4b0",
   "metadata": {
    "ExecuteTime": {
     "end_time": "2021-05-13T16:58:05.694177Z",
     "start_time": "2021-05-13T16:58:05.680165Z"
    }
   },
   "outputs": [],
   "source": [
    "landlocked = [x for x in marine_countries if x in fish_countries]"
   ]
  },
  {
   "cell_type": "code",
   "execution_count": 22,
   "id": "7e5194bf",
   "metadata": {
    "ExecuteTime": {
     "end_time": "2021-05-13T16:58:05.710192Z",
     "start_time": "2021-05-13T16:58:05.698181Z"
    }
   },
   "outputs": [],
   "source": [
    "to_fill = ['Fisheries', 'Marine Protected Areas', 'Fish Stock Status']"
   ]
  },
  {
   "cell_type": "code",
   "execution_count": 23,
   "id": "6358c410",
   "metadata": {
    "ExecuteTime": {
     "end_time": "2021-05-13T16:58:05.725319Z",
     "start_time": "2021-05-13T16:58:05.713194Z"
    }
   },
   "outputs": [],
   "source": [
    "for column in to_fill:\n",
    "    epi.loc[epi['country_name'].isin(landlocked), column] = epi.loc[epi['country_name'].isin(landlocked), column].fillna(0)"
   ]
  },
  {
   "cell_type": "markdown",
   "id": "ccb41014",
   "metadata": {},
   "source": [
    "- Inspect countries with poor marine data that are not landlocked."
   ]
  },
  {
   "cell_type": "code",
   "execution_count": 24,
   "id": "6e098c4f",
   "metadata": {
    "ExecuteTime": {
     "end_time": "2021-05-13T16:58:05.740333Z",
     "start_time": "2021-05-13T16:58:05.726320Z"
    }
   },
   "outputs": [],
   "source": [
    "marine_anomalies.extend(fish_anomalies)\n",
    "anomalies = marine_anomalies"
   ]
  },
  {
   "cell_type": "code",
   "execution_count": 25,
   "id": "eea81dda",
   "metadata": {
    "ExecuteTime": {
     "end_time": "2021-05-13T16:58:06.190066Z",
     "start_time": "2021-05-13T16:58:05.742335Z"
    }
   },
   "outputs": [
    {
     "data": {
      "image/png": "[encoded data removed]",
      "text/plain": [
       "<Figure size 432x288 with 1 Axes>"
      ]
     },
     "metadata": {
      "needs_background": "light"
     },
     "output_type": "display_data"
    }
   ],
   "source": [
    "for country in anomalies:\n",
    "    sns.scatterplot(data = epi[epi['country_name'] == country], x = 'year', y = 'Marine Protected Areas')\n",
    "\n",
    "plt.legend(anomalies)\n",
    "plt.title(\"Percent Marine Protected Areas by country reported by Year\")\n",
    "plt.show()"
   ]
  },
  {
   "cell_type": "code",
   "execution_count": 26,
   "id": "a18e1cb4",
   "metadata": {
    "ExecuteTime": {
     "end_time": "2021-05-13T16:58:06.552416Z",
     "start_time": "2021-05-13T16:58:06.191067Z"
    }
   },
   "outputs": [
    {
     "data": {
      "image/png": "[encoded data removed]",
      "text/plain": [
       "<Figure size 432x288 with 1 Axes>"
      ]
     },
     "metadata": {
      "needs_background": "light"
     },
     "output_type": "display_data"
    }
   ],
   "source": [
    "for country in anomalies:\n",
    "    sns.scatterplot(data = epi[epi['country_name'] == country], x = 'year', y = 'Fish Stock Status')\n",
    "\n",
    "plt.legend(anomalies)\n",
    "plt.title(\"Fish stock status by country reported by Year\")\n",
    "plt.show()"
   ]
  },
  {
   "cell_type": "code",
   "execution_count": 27,
   "id": "f90c51b9",
   "metadata": {
    "ExecuteTime": {
     "end_time": "2021-05-13T16:58:06.912743Z",
     "start_time": "2021-05-13T16:58:06.554418Z"
    }
   },
   "outputs": [
    {
     "data": {
      "image/png": "[encoded data removed]",
      "text/plain": [
       "<Figure size 432x288 with 1 Axes>"
      ]
     },
     "metadata": {
      "needs_background": "light"
     },
     "output_type": "display_data"
    }
   ],
   "source": [
    "for country in anomalies:\n",
    "    sns.scatterplot(data = epi[epi['country_name'] == country], x = 'year', y = 'Fisheries')\n",
    "\n",
    "plt.legend(anomalies)\n",
    "plt.title(\"Fisheries by country reported by Year\")\n",
    "plt.show()"
   ]
  },
  {
   "cell_type": "markdown",
   "id": "f7f6539b",
   "metadata": {},
   "source": [
    "- Decision: drop Saint Vincent and the Grenadines from our data, as we do not feel we can confidently impute null values from only three reported values in two categories (one of which shows significant volatility)."
   ]
  },
  {
   "cell_type": "code",
   "execution_count": 28,
   "id": "3b4c1db8",
   "metadata": {
    "ExecuteTime": {
     "end_time": "2021-05-13T16:58:06.928792Z",
     "start_time": "2021-05-13T16:58:06.913785Z"
    }
   },
   "outputs": [],
   "source": [
    "epi = epi[epi['country_name'] != 'Saint Vincent and the Grenadines']"
   ]
  },
  {
   "cell_type": "markdown",
   "id": "4c34207e",
   "metadata": {},
   "source": [
    "- Inspect final column with high null count: Agricultural Subsidies."
   ]
  },
  {
   "cell_type": "code",
   "execution_count": 29,
   "id": "a4c210e9",
   "metadata": {
    "ExecuteTime": {
     "end_time": "2021-05-13T16:58:06.943805Z",
     "start_time": "2021-05-13T16:58:06.930794Z"
    }
   },
   "outputs": [],
   "source": [
    "ag_countries = set(epi[epi['Agricultural Subsidies'].isnull() == True]['country_name'].values)"
   ]
  },
  {
   "cell_type": "code",
   "execution_count": 30,
   "id": "0968f4e5",
   "metadata": {
    "ExecuteTime": {
     "end_time": "2021-05-13T16:58:06.974833Z",
     "start_time": "2021-05-13T16:58:06.945807Z"
    }
   },
   "outputs": [],
   "source": [
    "full_ag_nulls = full_null_column(ag_countries, 'Agricultural Subsidies')"
   ]
  },
  {
   "cell_type": "code",
   "execution_count": 31,
   "id": "7bed5fba",
   "metadata": {
    "ExecuteTime": {
     "end_time": "2021-05-13T16:58:06.990847Z",
     "start_time": "2021-05-13T16:58:06.975834Z"
    }
   },
   "outputs": [
    {
     "data": {
      "text/plain": [
       "True"
      ]
     },
     "execution_count": 31,
     "metadata": {},
     "output_type": "execute_result"
    }
   ],
   "source": [
    "len(ag_countries) == len(full_ag_nulls)"
   ]
  },
  {
   "cell_type": "markdown",
   "id": "8fa0bcd7",
   "metadata": {},
   "source": [
    "- Impute regional values into each country. (TODO)"
   ]
  },
  {
   "cell_type": "code",
   "execution_count": 32,
   "id": "6336af45",
   "metadata": {
    "ExecuteTime": {
     "end_time": "2021-05-13T16:58:07.022660Z",
     "start_time": "2021-05-13T16:58:06.992848Z"
    }
   },
   "outputs": [],
   "source": [
    "regional = pd.read_csv(\"./data/EPI_data/epi2020resultsregions20200604.csv\")"
   ]
  },
  {
   "cell_type": "code",
   "execution_count": 33,
   "id": "41f69282",
   "metadata": {
    "ExecuteTime": {
     "end_time": "2021-05-13T16:58:07.037673Z",
     "start_time": "2021-05-13T16:58:07.024662Z"
    }
   },
   "outputs": [],
   "source": [
    "regional_means = regional[[ 'country','AGR.rgn.mean']]"
   ]
  },
  {
   "cell_type": "code",
   "execution_count": 34,
   "id": "0b12ab69",
   "metadata": {
    "ExecuteTime": {
     "end_time": "2021-05-13T16:58:07.053685Z",
     "start_time": "2021-05-13T16:58:07.039675Z"
    }
   },
   "outputs": [],
   "source": [
    "regional_means = regional_means[regional_means['country'].isin(ag_countries)]"
   ]
  },
  {
   "cell_type": "code",
   "execution_count": 35,
   "id": "61e8b0a1",
   "metadata": {
    "ExecuteTime": {
     "end_time": "2021-05-13T16:58:07.069699Z",
     "start_time": "2021-05-13T16:58:07.055688Z"
    },
    "tags": []
   },
   "outputs": [
    {
     "data": {
      "text/html": [
       "<div>\n",
       "<style scoped>\n",
       "    .dataframe tbody tr th:only-of-type {\n",
       "        vertical-align: middle;\n",
       "    }\n",
       "\n",
       "    .dataframe tbody tr th {\n",
       "        vertical-align: top;\n",
       "    }\n",
       "\n",
       "    .dataframe thead th {\n",
       "        text-align: right;\n",
       "    }\n",
       "</style>\n",
       "<table border=\"1\" class=\"dataframe\">\n",
       "  <thead>\n",
       "    <tr style=\"text-align: right;\">\n",
       "      <th></th>\n",
       "      <th>country</th>\n",
       "      <th>AGR.rgn.mean</th>\n",
       "    </tr>\n",
       "  </thead>\n",
       "  <tbody>\n",
       "    <tr>\n",
       "      <th>3</th>\n",
       "      <td>United Arab Emirates</td>\n",
       "      <td>36.512500</td>\n",
       "    </tr>\n",
       "    <tr>\n",
       "      <th>6</th>\n",
       "      <td>Antigua and Barbuda</td>\n",
       "      <td>32.653125</td>\n",
       "    </tr>\n",
       "    <tr>\n",
       "      <th>16</th>\n",
       "      <td>Bahrain</td>\n",
       "      <td>36.512500</td>\n",
       "    </tr>\n",
       "    <tr>\n",
       "      <th>17</th>\n",
       "      <td>Bahamas</td>\n",
       "      <td>32.653125</td>\n",
       "    </tr>\n",
       "    <tr>\n",
       "      <th>23</th>\n",
       "      <td>Barbados</td>\n",
       "      <td>32.653125</td>\n",
       "    </tr>\n",
       "  </tbody>\n",
       "</table>\n",
       "</div>"
      ],
      "text/plain": [
       "                 country  AGR.rgn.mean\n",
       "3   United Arab Emirates     36.512500\n",
       "6    Antigua and Barbuda     32.653125\n",
       "16               Bahrain     36.512500\n",
       "17               Bahamas     32.653125\n",
       "23              Barbados     32.653125"
      ]
     },
     "execution_count": 35,
     "metadata": {},
     "output_type": "execute_result"
    }
   ],
   "source": [
    "regional_means[:5]"
   ]
  },
  {
   "cell_type": "code",
   "execution_count": 36,
   "id": "18f21732",
   "metadata": {},
   "outputs": [],
   "source": [
    "regional_means.set_index(keys = 'country', inplace = True)"
   ]
  },
  {
   "cell_type": "code",
   "execution_count": 37,
   "id": "e54ba3d5",
   "metadata": {
    "ExecuteTime": {
     "end_time": "2021-05-13T16:58:07.085713Z",
     "start_time": "2021-05-13T16:58:07.071702Z"
    }
   },
   "outputs": [
    {
     "ename": "KeyError",
     "evalue": "'Kuwait'",
     "output_type": "error",
     "traceback": [
      "\u001b[1;31m---------------------------------------------------------------------------\u001b[0m",
      "\u001b[1;31mKeyError\u001b[0m                                  Traceback (most recent call last)",
      "\u001b[1;32m~\\anaconda3\\lib\\site-packages\\pandas\\core\\indexes\\base.py\u001b[0m in \u001b[0;36mget_loc\u001b[1;34m(self, key, method, tolerance)\u001b[0m\n\u001b[0;32m   3079\u001b[0m             \u001b[1;32mtry\u001b[0m\u001b[1;33m:\u001b[0m\u001b[1;33m\u001b[0m\u001b[1;33m\u001b[0m\u001b[0m\n\u001b[1;32m-> 3080\u001b[1;33m                 \u001b[1;32mreturn\u001b[0m \u001b[0mself\u001b[0m\u001b[1;33m.\u001b[0m\u001b[0m_engine\u001b[0m\u001b[1;33m.\u001b[0m\u001b[0mget_loc\u001b[0m\u001b[1;33m(\u001b[0m\u001b[0mcasted_key\u001b[0m\u001b[1;33m)\u001b[0m\u001b[1;33m\u001b[0m\u001b[1;33m\u001b[0m\u001b[0m\n\u001b[0m\u001b[0;32m   3081\u001b[0m             \u001b[1;32mexcept\u001b[0m \u001b[0mKeyError\u001b[0m \u001b[1;32mas\u001b[0m \u001b[0merr\u001b[0m\u001b[1;33m:\u001b[0m\u001b[1;33m\u001b[0m\u001b[1;33m\u001b[0m\u001b[0m\n",
      "\u001b[1;32mpandas\\_libs\\index.pyx\u001b[0m in \u001b[0;36mpandas._libs.index.IndexEngine.get_loc\u001b[1;34m()\u001b[0m\n",
      "\u001b[1;32mpandas\\_libs\\index.pyx\u001b[0m in \u001b[0;36mpandas._libs.index.IndexEngine.get_loc\u001b[1;34m()\u001b[0m\n",
      "\u001b[1;32mpandas\\_libs\\hashtable_class_helper.pxi\u001b[0m in \u001b[0;36mpandas._libs.hashtable.PyObjectHashTable.get_item\u001b[1;34m()\u001b[0m\n",
      "\u001b[1;32mpandas\\_libs\\hashtable_class_helper.pxi\u001b[0m in \u001b[0;36mpandas._libs.hashtable.PyObjectHashTable.get_item\u001b[1;34m()\u001b[0m\n",
      "\u001b[1;31mKeyError\u001b[0m: 'Kuwait'",
      "\nThe above exception was the direct cause of the following exception:\n",
      "\u001b[1;31mKeyError\u001b[0m                                  Traceback (most recent call last)",
      "\u001b[1;32m<ipython-input-37-4ec3ce375f78>\u001b[0m in \u001b[0;36m<module>\u001b[1;34m\u001b[0m\n\u001b[0;32m      1\u001b[0m \u001b[1;32mfor\u001b[0m \u001b[0mcountry\u001b[0m \u001b[1;32min\u001b[0m \u001b[0mag_countries\u001b[0m\u001b[1;33m:\u001b[0m\u001b[1;33m\u001b[0m\u001b[1;33m\u001b[0m\u001b[0m\n\u001b[1;32m----> 2\u001b[1;33m     \u001b[0mepi\u001b[0m\u001b[1;33m.\u001b[0m\u001b[0mloc\u001b[0m\u001b[1;33m[\u001b[0m\u001b[0mcountry\u001b[0m\u001b[1;33m,\u001b[0m \u001b[1;34m'Agricultural Subsidies'\u001b[0m\u001b[1;33m]\u001b[0m \u001b[1;33m=\u001b[0m \u001b[0mregional_means\u001b[0m\u001b[1;33m[\u001b[0m\u001b[0mcountry\u001b[0m\u001b[1;33m]\u001b[0m\u001b[1;33m\u001b[0m\u001b[1;33m\u001b[0m\u001b[0m\n\u001b[0m",
      "\u001b[1;32m~\\anaconda3\\lib\\site-packages\\pandas\\core\\frame.py\u001b[0m in \u001b[0;36m__getitem__\u001b[1;34m(self, key)\u001b[0m\n\u001b[0;32m   3022\u001b[0m             \u001b[1;32mif\u001b[0m \u001b[0mself\u001b[0m\u001b[1;33m.\u001b[0m\u001b[0mcolumns\u001b[0m\u001b[1;33m.\u001b[0m\u001b[0mnlevels\u001b[0m \u001b[1;33m>\u001b[0m \u001b[1;36m1\u001b[0m\u001b[1;33m:\u001b[0m\u001b[1;33m\u001b[0m\u001b[1;33m\u001b[0m\u001b[0m\n\u001b[0;32m   3023\u001b[0m                 \u001b[1;32mreturn\u001b[0m \u001b[0mself\u001b[0m\u001b[1;33m.\u001b[0m\u001b[0m_getitem_multilevel\u001b[0m\u001b[1;33m(\u001b[0m\u001b[0mkey\u001b[0m\u001b[1;33m)\u001b[0m\u001b[1;33m\u001b[0m\u001b[1;33m\u001b[0m\u001b[0m\n\u001b[1;32m-> 3024\u001b[1;33m             \u001b[0mindexer\u001b[0m \u001b[1;33m=\u001b[0m \u001b[0mself\u001b[0m\u001b[1;33m.\u001b[0m\u001b[0mcolumns\u001b[0m\u001b[1;33m.\u001b[0m\u001b[0mget_loc\u001b[0m\u001b[1;33m(\u001b[0m\u001b[0mkey\u001b[0m\u001b[1;33m)\u001b[0m\u001b[1;33m\u001b[0m\u001b[1;33m\u001b[0m\u001b[0m\n\u001b[0m\u001b[0;32m   3025\u001b[0m             \u001b[1;32mif\u001b[0m \u001b[0mis_integer\u001b[0m\u001b[1;33m(\u001b[0m\u001b[0mindexer\u001b[0m\u001b[1;33m)\u001b[0m\u001b[1;33m:\u001b[0m\u001b[1;33m\u001b[0m\u001b[1;33m\u001b[0m\u001b[0m\n\u001b[0;32m   3026\u001b[0m                 \u001b[0mindexer\u001b[0m \u001b[1;33m=\u001b[0m \u001b[1;33m[\u001b[0m\u001b[0mindexer\u001b[0m\u001b[1;33m]\u001b[0m\u001b[1;33m\u001b[0m\u001b[1;33m\u001b[0m\u001b[0m\n",
      "\u001b[1;32m~\\anaconda3\\lib\\site-packages\\pandas\\core\\indexes\\base.py\u001b[0m in \u001b[0;36mget_loc\u001b[1;34m(self, key, method, tolerance)\u001b[0m\n\u001b[0;32m   3080\u001b[0m                 \u001b[1;32mreturn\u001b[0m \u001b[0mself\u001b[0m\u001b[1;33m.\u001b[0m\u001b[0m_engine\u001b[0m\u001b[1;33m.\u001b[0m\u001b[0mget_loc\u001b[0m\u001b[1;33m(\u001b[0m\u001b[0mcasted_key\u001b[0m\u001b[1;33m)\u001b[0m\u001b[1;33m\u001b[0m\u001b[1;33m\u001b[0m\u001b[0m\n\u001b[0;32m   3081\u001b[0m             \u001b[1;32mexcept\u001b[0m \u001b[0mKeyError\u001b[0m \u001b[1;32mas\u001b[0m \u001b[0merr\u001b[0m\u001b[1;33m:\u001b[0m\u001b[1;33m\u001b[0m\u001b[1;33m\u001b[0m\u001b[0m\n\u001b[1;32m-> 3082\u001b[1;33m                 \u001b[1;32mraise\u001b[0m \u001b[0mKeyError\u001b[0m\u001b[1;33m(\u001b[0m\u001b[0mkey\u001b[0m\u001b[1;33m)\u001b[0m \u001b[1;32mfrom\u001b[0m \u001b[0merr\u001b[0m\u001b[1;33m\u001b[0m\u001b[1;33m\u001b[0m\u001b[0m\n\u001b[0m\u001b[0;32m   3083\u001b[0m \u001b[1;33m\u001b[0m\u001b[0m\n\u001b[0;32m   3084\u001b[0m         \u001b[1;32mif\u001b[0m \u001b[0mtolerance\u001b[0m \u001b[1;32mis\u001b[0m \u001b[1;32mnot\u001b[0m \u001b[1;32mNone\u001b[0m\u001b[1;33m:\u001b[0m\u001b[1;33m\u001b[0m\u001b[1;33m\u001b[0m\u001b[0m\n",
      "\u001b[1;31mKeyError\u001b[0m: 'Kuwait'"
     ]
    }
   ],
   "source": [
    "for country in ag_countries:\n",
    "    epi.loc[country, 'Agricultural Subsidies'] = regional_means[country]"
   ]
  },
  {
   "cell_type": "markdown",
   "id": "8aadabfa",
   "metadata": {},
   "source": [
    "- Inspect other less frequently null columns."
   ]
  },
  {
   "cell_type": "code",
   "execution_count": null,
   "id": "54730e01",
   "metadata": {
    "ExecuteTime": {
     "end_time": "2021-05-13T16:58:07.101728Z",
     "start_time": "2021-05-13T16:58:07.086715Z"
    }
   },
   "outputs": [],
   "source": [
    "some_nulls = epi.isnull().sum().sort_values(ascending = False)\n",
    "some_nulls = [column for column, value in some_nulls.items() if value > 0]"
   ]
  },
  {
   "cell_type": "code",
   "execution_count": null,
   "id": "0ea5293a",
   "metadata": {
    "ExecuteTime": {
     "end_time": "2021-05-13T16:58:07.133756Z",
     "start_time": "2021-05-13T16:58:07.103730Z"
    }
   },
   "outputs": [],
   "source": [
    "countries_present = {}\n",
    "for column in some_nulls:\n",
    "    null_countries = set(epi[epi[column].isnull() == True]['country_name'].values)\n",
    "    for country in null_countries:\n",
    "        if country in countries_present:\n",
    "            countries_present[country] = countries_present[country] + 1\n",
    "        else:\n",
    "            countries_present[country] = 1"
   ]
  },
  {
   "cell_type": "code",
   "execution_count": null,
   "id": "a3a5b5d6",
   "metadata": {
    "ExecuteTime": {
     "end_time": "2021-05-13T16:58:07.149760Z",
     "start_time": "2021-05-13T16:58:07.135758Z"
    }
   },
   "outputs": [],
   "source": [
    "countries_present"
   ]
  },
  {
   "cell_type": "code",
   "execution_count": null,
   "id": "e63bc431",
   "metadata": {
    "ExecuteTime": {
     "end_time": "2021-05-13T16:58:07.165774Z",
     "start_time": "2021-05-13T16:58:07.151761Z"
    }
   },
   "outputs": [],
   "source": [
    "frequent_null_countries = [country for country, value in countries_present.items() if value > 1]"
   ]
  },
  {
   "cell_type": "code",
   "execution_count": null,
   "id": "e32961c9",
   "metadata": {
    "ExecuteTime": {
     "end_time": "2021-05-13T16:58:07.181788Z",
     "start_time": "2021-05-13T16:58:07.166775Z"
    }
   },
   "outputs": [],
   "source": [
    "frequent_null_countries"
   ]
  },
  {
   "cell_type": "code",
   "execution_count": null,
   "id": "44a1ba46",
   "metadata": {
    "ExecuteTime": {
     "end_time": "2021-05-13T16:58:09.947909Z",
     "start_time": "2021-05-13T16:58:07.183791Z"
    }
   },
   "outputs": [],
   "source": [
    "sns.pairplot(data = epi[epi['country_name'].isin(frequent_null_countries)], y_vars = 'year', x_vars = some_nulls[:9], hue = 'country_name')\n",
    "plt.show()"
   ]
  },
  {
   "cell_type": "code",
   "execution_count": null,
   "id": "9fbb3d70",
   "metadata": {
    "ExecuteTime": {
     "end_time": "2021-05-13T16:58:12.474982Z",
     "start_time": "2021-05-13T16:58:09.948909Z"
    }
   },
   "outputs": [],
   "source": [
    "sns.pairplot(data = epi[epi['country_name'].isin(frequent_null_countries)], y_vars = 'year', x_vars = some_nulls[9:], hue = 'country_name')\n",
    "plt.show()"
   ]
  },
  {
   "cell_type": "markdown",
   "id": "b961bb87",
   "metadata": {},
   "source": [
    "- For similar reasons to the removal of Saint Vincent and the Grenadines, we are removing the Maldives, Samoa, Micronesia, Saint Lucia, the Marshall Islands, and Sao Tome and Principe from the data set. Reiteration of reasons: some categories contain too few non-null entries to confidently impute from, especially when some show high volatility."
   ]
  },
  {
   "cell_type": "code",
   "execution_count": null,
   "id": "4665adf3",
   "metadata": {
    "ExecuteTime": {
     "end_time": "2021-05-13T16:58:12.490995Z",
     "start_time": "2021-05-13T16:58:12.476983Z"
    }
   },
   "outputs": [],
   "source": [
    "epi = epi[~epi['country_name'].isin(frequent_null_countries)]"
   ]
  },
  {
   "cell_type": "code",
   "execution_count": null,
   "id": "e3dd691f",
   "metadata": {
    "ExecuteTime": {
     "end_time": "2021-05-13T16:58:12.507010Z",
     "start_time": "2021-05-13T16:58:12.491997Z"
    }
   },
   "outputs": [],
   "source": [
    "nulls = epi.isnull().sum().sort_values(ascending =False)\n",
    "nulls[nulls > 0]"
   ]
  },
  {
   "cell_type": "markdown",
   "id": "3c634bcb",
   "metadata": {},
   "source": [
    "- Add Somalia GDP values from secondary source."
   ]
  },
  {
   "cell_type": "code",
   "execution_count": 38,
   "id": "8df1e117",
   "metadata": {
    "ExecuteTime": {
     "end_time": "2021-05-13T16:58:12.569065Z",
     "start_time": "2021-05-13T16:58:12.525026Z"
    }
   },
   "outputs": [
    {
     "data": {
      "text/plain": [
       "2302    Somalia\n",
       "2303    Somalia\n",
       "2304    Somalia\n",
       "2305    Somalia\n",
       "2306    Somalia\n",
       "2307    Somalia\n",
       "2308    Somalia\n",
       "2309    Somalia\n",
       "2310    Somalia\n",
       "2311    Somalia\n",
       "2312    Somalia\n",
       "3131       Iraq\n",
       "3132       Iraq\n",
       "Name: country_name, dtype: object"
      ]
     },
     "execution_count": 38,
     "metadata": {},
     "output_type": "execute_result"
    }
   ],
   "source": [
    "epi[epi['GDP'].isnull() == True]['country_name']"
   ]
  },
  {
   "cell_type": "code",
   "execution_count": 39,
   "id": "a6505555",
   "metadata": {},
   "outputs": [],
   "source": [
    "somalia_gdp = pd.read_csv('data/GDP_data/Somalia_GDP.csv')"
   ]
  },
  {
   "cell_type": "code",
   "execution_count": 40,
   "id": "75ab3e99",
   "metadata": {},
   "outputs": [],
   "source": [
    "somalia_gdp['Annual GDP'] = somalia_gdp['Annual GDP'].map(lambda x: x * 1000000)"
   ]
  },
  {
   "cell_type": "code",
   "execution_count": 41,
   "id": "f369df3b",
   "metadata": {},
   "outputs": [
    {
     "data": {
      "text/html": [
       "<div>\n",
       "<style scoped>\n",
       "    .dataframe tbody tr th:only-of-type {\n",
       "        vertical-align: middle;\n",
       "    }\n",
       "\n",
       "    .dataframe tbody tr th {\n",
       "        vertical-align: top;\n",
       "    }\n",
       "\n",
       "    .dataframe thead th {\n",
       "        text-align: right;\n",
       "    }\n",
       "</style>\n",
       "<table border=\"1\" class=\"dataframe\">\n",
       "  <thead>\n",
       "    <tr style=\"text-align: right;\">\n",
       "      <th></th>\n",
       "      <th>Year</th>\n",
       "      <th>Annual GDP</th>\n",
       "      <th>GDP Growth (%)</th>\n",
       "    </tr>\n",
       "  </thead>\n",
       "  <tbody>\n",
       "    <tr>\n",
       "      <th>0</th>\n",
       "      <td>2019</td>\n",
       "      <td>4.944000e+09</td>\n",
       "      <td>2.90%</td>\n",
       "    </tr>\n",
       "    <tr>\n",
       "      <th>1</th>\n",
       "      <td>2018</td>\n",
       "      <td>4.721000e+09</td>\n",
       "      <td>2.80%</td>\n",
       "    </tr>\n",
       "    <tr>\n",
       "      <th>2</th>\n",
       "      <td>2017</td>\n",
       "      <td>4.509000e+09</td>\n",
       "      <td>1.40%</td>\n",
       "    </tr>\n",
       "    <tr>\n",
       "      <th>3</th>\n",
       "      <td>2016</td>\n",
       "      <td>4.198000e+09</td>\n",
       "      <td>2.90%</td>\n",
       "    </tr>\n",
       "    <tr>\n",
       "      <th>4</th>\n",
       "      <td>2015</td>\n",
       "      <td>4.049000e+09</td>\n",
       "      <td>3.50%</td>\n",
       "    </tr>\n",
       "  </tbody>\n",
       "</table>\n",
       "</div>"
      ],
      "text/plain": [
       "   Year    Annual GDP GDP Growth (%)\n",
       "0  2019  4.944000e+09          2.90%\n",
       "1  2018  4.721000e+09          2.80%\n",
       "2  2017  4.509000e+09          1.40%\n",
       "3  2016  4.198000e+09          2.90%\n",
       "4  2015  4.049000e+09          3.50%"
      ]
     },
     "execution_count": 41,
     "metadata": {},
     "output_type": "execute_result"
    }
   ],
   "source": [
    "somalia_gdp.head()"
   ]
  },
  {
   "cell_type": "code",
   "execution_count": 42,
   "id": "c580154b",
   "metadata": {},
   "outputs": [],
   "source": [
    "somalia_gdp = somalia_gdp.sort_values(by = 'Year')"
   ]
  },
  {
   "cell_type": "code",
   "execution_count": 43,
   "id": "9b962b46",
   "metadata": {},
   "outputs": [],
   "source": [
    "min_somalia_year = list(epi.loc[epi['country_name'].isin(['Somalia'])]['year'].to_dict().values())[0]\n",
    "max_somalia_year = list(epi.loc[epi['country_name'].isin(['Somalia'])]['year'].to_dict().values())[-1]"
   ]
  },
  {
   "cell_type": "code",
   "execution_count": 44,
   "id": "17f9153d",
   "metadata": {},
   "outputs": [
    {
     "data": {
      "text/plain": [
       "(2002, 2016)"
      ]
     },
     "execution_count": 44,
     "metadata": {},
     "output_type": "execute_result"
    }
   ],
   "source": [
    "min_somalia_year, max_somalia_year"
   ]
  },
  {
   "cell_type": "code",
   "execution_count": 45,
   "id": "5b6ecb95",
   "metadata": {},
   "outputs": [],
   "source": [
    "somalia_gdp = somalia_gdp[(somalia_gdp['Year'] >= min_somalia_year) & (somalia_gdp['Year'] <= max_somalia_year)]"
   ]
  },
  {
   "cell_type": "code",
   "execution_count": 46,
   "id": "53a3c0ff",
   "metadata": {},
   "outputs": [],
   "source": [
    "somalia_gdp.set_index(keys = 'Year', inplace = True)"
   ]
  },
  {
   "cell_type": "code",
   "execution_count": 61,
   "id": "f40c1a15",
   "metadata": {},
   "outputs": [],
   "source": [
    "%%capture\n",
    "#^too many slicing warnings\n",
    "for year in somalia_gdp.index.tolist():\n",
    "    mask = (epi['country_name'].isin(['Somalia'])) & (epi['year'] == year)\n",
    "    gdp_val = somalia_gdp['Annual GDP'][year]\n",
    "    epi.loc[mask, 'GDP'] = gdp_val"
   ]
  },
  {
   "cell_type": "markdown",
   "id": "c8c4256e",
   "metadata": {},
   "source": [
    "- Impute remaining nulls by padding using existing entries."
   ]
  },
  {
   "cell_type": "code",
   "execution_count": null,
   "id": "2d03b8ef",
   "metadata": {
    "ExecuteTime": {
     "end_time": "2021-05-13T16:58:12.523024Z",
     "start_time": "2021-05-13T16:58:12.509013Z"
    }
   },
   "outputs": [],
   "source": [
    "#TODO"
   ]
  },
  {
   "cell_type": "code",
   "execution_count": null,
   "id": "9597672e",
   "metadata": {},
   "outputs": [],
   "source": []
  }
 ],
 "metadata": {
  "kernelspec": {
   "display_name": "Python 3",
   "language": "python",
   "name": "python3"
  },
  "language_info": {
   "codemirror_mode": {
    "name": "ipython",
    "version": 3
   },
   "file_extension": ".py",
   "mimetype": "text/x-python",
   "name": "python",
   "nbconvert_exporter": "python",
   "pygments_lexer": "ipython3",
   "version": "3.7.6"
  }
 },
 "nbformat": 4,
 "nbformat_minor": 5
}
