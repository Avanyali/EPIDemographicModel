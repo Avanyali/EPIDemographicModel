{
 "cells": [
  {
   "cell_type": "code",
   "execution_count": 1,
   "id": "193fac91",
   "metadata": {
    "ExecuteTime": {
     "end_time": "2021-05-12T22:58:04.581121Z",
     "start_time": "2021-05-12T22:58:04.137176Z"
    }
   },
   "outputs": [],
   "source": [
    "import pandas as pd\n",
    "import numpy as np\n",
    "import seaborn as sns\n",
    "import matplotlib.pyplot as plt"
   ]
  },
  {
   "cell_type": "markdown",
   "id": "a166dd85",
   "metadata": {},
   "source": [
    "***Data Cleaning and Exploration***"
   ]
  },
  {
   "cell_type": "code",
   "execution_count": 2,
   "id": "ab0240aa",
   "metadata": {
    "ExecuteTime": {
     "end_time": "2021-05-12T22:58:04.612590Z",
     "start_time": "2021-05-12T22:58:04.584113Z"
    }
   },
   "outputs": [],
   "source": [
    "epi = pd.read_csv('data/dataframes/epi_wrangled.csv')"
   ]
  },
  {
   "cell_type": "markdown",
   "id": "bffb2eb8",
   "metadata": {},
   "source": [
    "- Remove countries with fewer than 5 records."
   ]
  },
  {
   "cell_type": "code",
   "execution_count": 3,
   "id": "12fbdc7d",
   "metadata": {
    "ExecuteTime": {
     "end_time": "2021-05-12T22:58:04.627841Z",
     "start_time": "2021-05-12T22:58:04.614592Z"
    }
   },
   "outputs": [],
   "source": [
    "high_data = [key for key, value in epi['country_name'].value_counts().to_dict().items() if value >5]"
   ]
  },
  {
   "cell_type": "code",
   "execution_count": 4,
   "id": "a5da740b",
   "metadata": {
    "ExecuteTime": {
     "end_time": "2021-05-12T22:58:04.643880Z",
     "start_time": "2021-05-12T22:58:04.629843Z"
    }
   },
   "outputs": [],
   "source": [
    "epi = epi[epi['country_name'].isin(high_data)]"
   ]
  },
  {
   "cell_type": "code",
   "execution_count": 5,
   "id": "cd626c62",
   "metadata": {
    "ExecuteTime": {
     "end_time": "2021-05-12T22:58:04.674907Z",
     "start_time": "2021-05-12T22:58:04.645883Z"
    }
   },
   "outputs": [
    {
     "data": {
      "text/plain": [
       "North Macedonia     19\n",
       "Timor-Leste         19\n",
       "Namibia             19\n",
       "Kazakhstan          19\n",
       "Burkina Faso        19\n",
       "                    ..\n",
       "Maldives             9\n",
       "Saint Lucia          9\n",
       "Marshall Islands     9\n",
       "Samoa                9\n",
       "Micronesia           9\n",
       "Name: country_name, Length: 185, dtype: int64"
      ]
     },
     "execution_count": 5,
     "metadata": {},
     "output_type": "execute_result"
    }
   ],
   "source": [
    "epi['country_name'].value_counts()"
   ]
  },
  {
   "cell_type": "markdown",
   "id": "60a88806",
   "metadata": {},
   "source": [
    "- Linearly impute values in place of nulls."
   ]
  },
  {
   "cell_type": "code",
   "execution_count": 6,
   "id": "2b984ec4",
   "metadata": {
    "ExecuteTime": {
     "end_time": "2021-05-12T22:58:04.689921Z",
     "start_time": "2021-05-12T22:58:04.676910Z"
    }
   },
   "outputs": [],
   "source": [
    "def impute_values(country_name):\n",
    "    country = epi[epi['country_name'] == country_name].copy()\n",
    "    for col in country.columns:\n",
    "        country[col] = country[col].map(lambda x: np.nan if x == 'None' else x)\n",
    "        country[col].interpolate(method='linear',order=1,inplace=True, axis=0)\n",
    "    return country\n",
    "        "
   ]
  },
  {
   "cell_type": "code",
   "execution_count": 7,
   "id": "1acf9ea0",
   "metadata": {
    "ExecuteTime": {
     "end_time": "2021-05-12T22:58:09.074406Z",
     "start_time": "2021-05-12T22:58:04.691923Z"
    }
   },
   "outputs": [],
   "source": [
    "epi_new = pd.DataFrame()\n",
    "\n",
    "for country_name in  set(epi['country_name'].values):\n",
    "    country_df = impute_values(country_name)\n",
    "    epi_new = pd.concat([epi_new, country_df], ignore_index = True)"
   ]
  },
  {
   "cell_type": "code",
   "execution_count": 8,
   "id": "41837cde",
   "metadata": {
    "ExecuteTime": {
     "end_time": "2021-05-12T22:58:09.089419Z",
     "start_time": "2021-05-12T22:58:09.076407Z"
    }
   },
   "outputs": [],
   "source": [
    "epi = epi_new"
   ]
  },
  {
   "cell_type": "markdown",
   "id": "9ab69567",
   "metadata": {},
   "source": [
    "- Drop columns with low value data, identified by visual analysis with respect to time. These columns' values tend to be almost entirely the same for each country on the list."
   ]
  },
  {
   "cell_type": "code",
   "execution_count": 9,
   "id": "c440104a",
   "metadata": {
    "ExecuteTime": {
     "end_time": "2021-05-12T22:58:09.105433Z",
     "start_time": "2021-05-12T22:58:09.090420Z"
    }
   },
   "outputs": [],
   "source": [
    "drop_list = ['Climate','Forests', 'Critical Habitat Protection', 'Change in Forest Cover','Change of Trend in Carbon Intensity', 'Coastal Shelf Fishing Pressure',\n",
    "'Trend in CO2 Emissions per KWH','Trend in Carbon Intensity','Climate & Energy']"
   ]
  },
  {
   "cell_type": "code",
   "execution_count": 10,
   "id": "44af0caf",
   "metadata": {
    "ExecuteTime": {
     "end_time": "2021-05-12T22:58:09.121448Z",
     "start_time": "2021-05-12T22:58:09.107435Z"
    }
   },
   "outputs": [],
   "source": [
    "epi.drop(columns=drop_list,inplace=True)"
   ]
  },
  {
   "cell_type": "code",
   "execution_count": 11,
   "id": "4c3dacd0",
   "metadata": {
    "ExecuteTime": {
     "end_time": "2021-05-12T22:58:26.925877Z",
     "start_time": "2021-05-12T22:58:26.902845Z"
    }
   },
   "outputs": [
    {
     "data": {
      "text/plain": [
       "Marine Protected Areas                             868\n",
       "Fish Stock Status                                  842\n",
       "Fisheries                                          842\n",
       "Agricultural Subsidies                             466\n",
       "Ecosystem Vitality                                  38\n",
       "Environmental Performance Index                     38\n",
       "Water Resources                                     26\n",
       "Wastewater Treatment                                26\n",
       "GDP                                                 13\n",
       "Environmental Health                                12\n",
       "Child Mortality                                      9\n",
       "Access to Electricity                                9\n",
       "Health Impacts                                       9\n",
       "Biodiversity & Habitat                               8\n",
       "Terrestrial biome protection (global weights)        8\n",
       "Agriculture                                          8\n",
       "Terrestrial biome protection (national weights)      8\n",
       "Air Quality                                          4\n",
       "PM2.5 Exceedance                                     4\n",
       "PM2.5 Exposure                                       4\n",
       "dtype: int64"
      ]
     },
     "execution_count": 11,
     "metadata": {},
     "output_type": "execute_result"
    }
   ],
   "source": [
    "nulls = epi.isnull().sum().sort_values(ascending =False)\n",
    "nulls[nulls > 0]"
   ]
  },
  {
   "cell_type": "markdown",
   "id": "ae9eecee",
   "metadata": {},
   "source": [
    "- Inspect columns with high null count indicators: Marine Protected Areas, Fisheries, Fish Stock Status and Agricultural Subsidies"
   ]
  },
  {
   "cell_type": "code",
   "execution_count": 12,
   "id": "c7579a88",
   "metadata": {},
   "outputs": [],
   "source": [
    "def full_null_column(countries, column_name):\n",
    "    all_null = []\n",
    "    for country in countries:\n",
    "        country_frame = epi[epi['country_name'] == country]\n",
    "        nans = country_frame[column_name].isna().sum()\n",
    "\n",
    "        if nans/country_frame.shape[0] == 1:\n",
    "            all_null.append(country)\n",
    "            \n",
    "    return all_null"
   ]
  },
  {
   "cell_type": "code",
   "execution_count": 16,
   "id": "e647c96d",
   "metadata": {
    "ExecuteTime": {
     "end_time": "2021-05-13T00:34:51.830935Z",
     "start_time": "2021-05-13T00:34:51.787377Z"
    }
   },
   "outputs": [],
   "source": [
    "marine_countries = set(epi[epi['Marine Protected Areas'].isnull() == True]['country_name'].values)\n",
    "fish_countries = set(epi[epi['Fisheries'].isnull() == True]['country_name'].values)\n",
    "stock_countries = set(epi[epi['Fish Stock Status'].isnull() == True]['country_name'].values)"
   ]
  },
  {
   "cell_type": "code",
   "execution_count": 17,
   "id": "6f50a16e",
   "metadata": {},
   "outputs": [],
   "source": [
    "full_marine_nulls = full_null_column(marine_countries, 'Marine Protected Areas')\n",
    "full_fishery_nulls = full_null_column(fish_countries, 'Fisheries')\n",
    "full_stock_nulls = full_null_column(stock_countries, 'Fish Stock Status')"
   ]
  },
  {
   "cell_type": "code",
   "execution_count": 25,
   "id": "e9f055a5",
   "metadata": {},
   "outputs": [
    {
     "data": {
      "text/plain": [
       "['Brunei Darussalam', 'Guinea-Bissau', 'Maldives']"
      ]
     },
     "execution_count": 25,
     "metadata": {},
     "output_type": "execute_result"
    }
   ],
   "source": [
    "marine_anomalies = [country for country in marine_countries if country not in full_marine_nulls]\n",
    "marine_anomalies"
   ]
  },
  {
   "cell_type": "code",
   "execution_count": 26,
   "id": "88db0109",
   "metadata": {},
   "outputs": [
    {
     "data": {
      "text/plain": [
       "['Saint Vincent and the Grenadines']"
      ]
     },
     "execution_count": 26,
     "metadata": {},
     "output_type": "execute_result"
    }
   ],
   "source": [
    "fish_anomalies = [country for country in fish_countries if country not in full_fishery_nulls]\n",
    "fish_anomalies"
   ]
  },
  {
   "cell_type": "code",
   "execution_count": 27,
   "id": "7c82fec1",
   "metadata": {},
   "outputs": [
    {
     "data": {
      "text/plain": [
       "['Saint Vincent and the Grenadines']"
      ]
     },
     "execution_count": 27,
     "metadata": {},
     "output_type": "execute_result"
    }
   ],
   "source": [
    "stock_anomalies = [country for country in stock_countries if country not in full_stock_nulls]\n",
    "stock_anomalies"
   ]
  },
  {
   "cell_type": "markdown",
   "id": "50b8dad9",
   "metadata": {},
   "source": [
    "- Compare lists of countries."
   ]
  },
  {
   "cell_type": "code",
   "execution_count": 22,
   "id": "e5064193",
   "metadata": {},
   "outputs": [
    {
     "data": {
      "text/plain": [
       "['Mali', 'Zimbabwe', 'Serbia', 'Niger', 'Dem. Rep. Congo']"
      ]
     },
     "execution_count": 22,
     "metadata": {},
     "output_type": "execute_result"
    }
   ],
   "source": [
    "full_marine_nulls[:5]"
   ]
  },
  {
   "cell_type": "code",
   "execution_count": 23,
   "id": "1388b704",
   "metadata": {
    "ExecuteTime": {
     "end_time": "2021-05-13T00:34:52.743035Z",
     "start_time": "2021-05-13T00:34:52.738031Z"
    },
    "scrolled": true
   },
   "outputs": [
    {
     "data": {
      "text/plain": [
       "['Mali', 'Zimbabwe', 'Serbia', 'Niger', 'Dem. Rep. Congo']"
      ]
     },
     "execution_count": 23,
     "metadata": {},
     "output_type": "execute_result"
    }
   ],
   "source": [
    "full_fishery_nulls[:5]"
   ]
  },
  {
   "cell_type": "code",
   "execution_count": 24,
   "id": "b25270b0",
   "metadata": {},
   "outputs": [
    {
     "data": {
      "text/plain": [
       "['Mali', 'Zimbabwe', 'Serbia', 'Niger', 'Dem. Rep. Congo']"
      ]
     },
     "execution_count": 24,
     "metadata": {},
     "output_type": "execute_result"
    }
   ],
   "source": [
    "full_stock_nulls[:5]"
   ]
  },
  {
   "cell_type": "markdown",
   "id": "e388fa84",
   "metadata": {},
   "source": [
    "- All countries with null values for all three identifiers have been determined to be landlocked., and thus cannot have fisheries, marine protected areas, or fish stock status. Filling null values with 0."
   ]
  },
  {
   "cell_type": "code",
   "execution_count": 28,
   "id": "5190bb90",
   "metadata": {},
   "outputs": [],
   "source": [
    "landlocked = [x for x in marine_countries if x in fish_countries]"
   ]
  },
  {
   "cell_type": "code",
   "execution_count": 29,
   "id": "bd38ef62",
   "metadata": {},
   "outputs": [],
   "source": [
    "to_fill = ['Fisheries', 'Marine Protected Areas', 'Fish Stock Status']"
   ]
  },
  {
   "cell_type": "code",
   "execution_count": 30,
   "id": "7ebca945",
   "metadata": {},
   "outputs": [],
   "source": [
    "for column in to_fill:\n",
    "    epi.loc[epi['country_name'].isin(landlocked), column] = epi.loc[epi['country_name'].isin(landlocked), column].fillna(0)"
   ]
  },
  {
   "cell_type": "markdown",
   "id": "d2decb9d",
   "metadata": {},
   "source": [
    "- Inspect countries with poor marine data that are not landlocked."
   ]
  },
  {
   "cell_type": "code",
   "execution_count": 31,
   "id": "4520c12b",
   "metadata": {},
   "outputs": [],
   "source": [
    "marine_anomalies.extend(fish_anomalies)\n",
    "anomalies = marine_anomalies"
   ]
  },
  {
   "cell_type": "code",
   "execution_count": 32,
   "id": "facd56f6",
   "metadata": {},
   "outputs": [
    {
     "data": {
      "image/png": "[encoded data removed]",
      "text/plain": [
       "<Figure size 432x288 with 1 Axes>"
      ]
     },
     "metadata": {
      "needs_background": "light"
     },
     "output_type": "display_data"
    }
   ],
   "source": [
    "for country in anomalies:\n",
    "    sns.scatterplot(data = epi[epi['country_name'] == country], x = 'year', y = 'Marine Protected Areas')\n",
    "\n",
    "plt.legend(anomalies)\n",
    "plt.title(\"Percent Marine Protected Areas by country reported by Year\")\n",
    "plt.show()"
   ]
  },
  {
   "cell_type": "code",
   "execution_count": 33,
   "id": "d36ede73",
   "metadata": {},
   "outputs": [
    {
     "data": {
      "image/png": "[encoded data removed]",
      "text/plain": [
       "<Figure size 432x288 with 1 Axes>"
      ]
     },
     "metadata": {
      "needs_background": "light"
     },
     "output_type": "display_data"
    }
   ],
   "source": [
    "for country in anomalies:\n",
    "    sns.scatterplot(data = epi[epi['country_name'] == country], x = 'year', y = 'Fish Stock Status')\n",
    "\n",
    "plt.legend(anomalies)\n",
    "plt.title(\"Fish stock status by country reported by Year\")\n",
    "plt.show()"
   ]
  },
  {
   "cell_type": "code",
   "execution_count": 34,
   "id": "5de79c54",
   "metadata": {},
   "outputs": [
    {
     "data": {
      "image/png": "[encoded data removed]",
      "text/plain": [
       "<Figure size 432x288 with 1 Axes>"
      ]
     },
     "metadata": {
      "needs_background": "light"
     },
     "output_type": "display_data"
    }
   ],
   "source": [
    "for country in anomalies:\n",
    "    sns.scatterplot(data = epi[epi['country_name'] == country], x = 'year', y = 'Fisheries')\n",
    "\n",
    "plt.legend(anomalies)\n",
    "plt.title(\"Fisheries by country reported by Year\")\n",
    "plt.show()"
   ]
  },
  {
   "cell_type": "markdown",
   "id": "4a5c440e",
   "metadata": {},
   "source": [
    "- Decision: drop Saint Vincent and the Grenadines from our data, as we do not feel we can confidently impute null values from only three reported values in two categories (one of which shows significant volatility)."
   ]
  },
  {
   "cell_type": "code",
   "execution_count": 35,
   "id": "9e6a15f2",
   "metadata": {},
   "outputs": [],
   "source": [
    "epi = epi[epi['country_name'] != 'Saint Vincent and the Grenadines']"
   ]
  },
  {
   "cell_type": "markdown",
   "id": "56c4ae3a",
   "metadata": {},
   "source": [
    "- Inspect final column with high null count: Agricultural Subsidies."
   ]
  },
  {
   "cell_type": "code",
   "execution_count": 36,
   "id": "32da8980",
   "metadata": {
    "ExecuteTime": {
     "end_time": "2021-05-13T00:34:54.779060Z",
     "start_time": "2021-05-13T00:34:54.761047Z"
    }
   },
   "outputs": [],
   "source": [
    "ag_countries = set(epi[epi['Agricultural Subsidies'].isnull() == True]['country_name'].values)"
   ]
  },
  {
   "cell_type": "code",
   "execution_count": 37,
   "id": "a0ba7fcc",
   "metadata": {},
   "outputs": [],
   "source": [
    "full_ag_nulls = full_null_column(ag_countries, 'Agricultural Subsidies')"
   ]
  },
  {
   "cell_type": "code",
   "execution_count": 38,
   "id": "c7b0b275",
   "metadata": {},
   "outputs": [
    {
     "data": {
      "text/plain": [
       "True"
      ]
     },
     "execution_count": 38,
     "metadata": {},
     "output_type": "execute_result"
    }
   ],
   "source": [
    "len(ag_countries) == len(full_ag_nulls)"
   ]
  },
  {
   "cell_type": "markdown",
   "id": "c05714dd",
   "metadata": {},
   "source": [
    "- Impute regional values into each country. (TODO)"
   ]
  },
  {
   "cell_type": "code",
   "execution_count": 41,
   "id": "c2ab447b",
   "metadata": {},
   "outputs": [
    {
     "name": "stderr",
     "output_type": "stream",
     "text": [
      "C:\\Users\\Avanyali\\anaconda3\\lib\\site-packages\\pandas\\core\\indexing.py:1676: SettingWithCopyWarning: \n",
      "A value is trying to be set on a copy of a slice from a DataFrame.\n",
      "Try using .loc[row_indexer,col_indexer] = value instead\n",
      "\n",
      "See the caveats in the documentation: https://pandas.pydata.org/pandas-docs/stable/user_guide/indexing.html#returning-a-view-versus-a-copy\n",
      "  self._setitem_single_column(ilocs[0], value, pi)\n"
     ]
    }
   ],
   "source": [
    "epi.loc[epi['country_name'].isin(ag_countries), 'Agricultural Subsidies'] = epi.loc[epi['country_name'].isin(ag_countries), 'Agricultural Subsidies'].fillna(-1)"
   ]
  },
  {
   "cell_type": "markdown",
   "id": "920b6dd6",
   "metadata": {},
   "source": [
    "- Inspect other less frequently null columns."
   ]
  },
  {
   "cell_type": "code",
   "execution_count": 50,
   "id": "183b3631",
   "metadata": {},
   "outputs": [],
   "source": [
    "some_nulls = epi.isnull().sum().sort_values(ascending = False)\n",
    "some_nulls = [column for column, value in some_nulls.items() if value > 0]"
   ]
  },
  {
   "cell_type": "code",
   "execution_count": 51,
   "id": "ff9bff53",
   "metadata": {},
   "outputs": [],
   "source": [
    "countries_present = {}\n",
    "for column in some_nulls:\n",
    "    null_countries = set(epi[epi[column].isnull() == True]['country_name'].values)\n",
    "    for country in null_countries:\n",
    "        if country in countries_present:\n",
    "            countries_present[country] = countries_present[country] + 1\n",
    "        else:\n",
    "            countries_present[country] = 1"
   ]
  },
  {
   "cell_type": "code",
   "execution_count": 52,
   "id": "be45b759",
   "metadata": {},
   "outputs": [
    {
     "data": {
      "text/plain": [
       "{'Brunei Darussalam': 1,\n",
       " 'Maldives': 10,\n",
       " 'Guinea-Bissau': 1,\n",
       " 'Samoa': 4,\n",
       " 'Micronesia': 5,\n",
       " 'Saint Lucia': 4,\n",
       " 'Sao Tome and Principe': 7,\n",
       " 'Marshall Islands': 6,\n",
       " 'Iraq': 1,\n",
       " 'Somalia': 1}"
      ]
     },
     "execution_count": 52,
     "metadata": {},
     "output_type": "execute_result"
    }
   ],
   "source": [
    "countries_present"
   ]
  },
  {
   "cell_type": "code",
   "execution_count": 53,
   "id": "9af24849",
   "metadata": {},
   "outputs": [],
   "source": [
    "frequent_null_countries = [country for country, value in countries_present.items() if value > 1]"
   ]
  },
  {
   "cell_type": "code",
   "execution_count": 56,
   "id": "4a647d54",
   "metadata": {},
   "outputs": [
    {
     "data": {
      "text/plain": [
       "['Maldives',\n",
       " 'Samoa',\n",
       " 'Micronesia',\n",
       " 'Saint Lucia',\n",
       " 'Sao Tome and Principe',\n",
       " 'Marshall Islands']"
      ]
     },
     "execution_count": 56,
     "metadata": {},
     "output_type": "execute_result"
    }
   ],
   "source": [
    "frequent_null_countries"
   ]
  },
  {
   "cell_type": "code",
   "execution_count": 68,
   "id": "7d4116b5",
   "metadata": {},
   "outputs": [
    {
     "data": {
      "image/png": "[encoded data removed]",
      "text/plain": [
       "<Figure size 1768.62x180 with 9 Axes>"
      ]
     },
     "metadata": {
      "needs_background": "light"
     },
     "output_type": "display_data"
    }
   ],
   "source": [
    "sns.pairplot(data = epi[epi['country_name'].isin(frequent_null_countries)], y_vars = 'year', x_vars = some_nulls[:9], hue = 'country_name')\n",
    "plt.show()"
   ]
  },
  {
   "cell_type": "code",
   "execution_count": 69,
   "id": "5c644983",
   "metadata": {},
   "outputs": [
    {
     "data": {
      "image/png": "[encoded data removed]",
      "text/plain": [
       "<Figure size 1588.62x180 with 8 Axes>"
      ]
     },
     "metadata": {
      "needs_background": "light"
     },
     "output_type": "display_data"
    }
   ],
   "source": [
    "sns.pairplot(data = epi[epi['country_name'].isin(frequent_null_countries)], y_vars = 'year', x_vars = some_nulls[9:], hue = 'country_name')\n",
    "plt.show()"
   ]
  },
  {
   "cell_type": "markdown",
   "id": "3a2c7dce",
   "metadata": {},
   "source": [
    "- For similar reasons to the removal of Saint Vincent and the Grenadines, we are removing the Maldives, Samoa, Micronesia, Saint Lucia, the Marshall Islands, and Sao Tome and Principe from the data set. Reiteration of reasons: some categories contain too few non-null entries to confidently impute from, especially when some show high volatility."
   ]
  },
  {
   "cell_type": "code",
   "execution_count": 77,
   "id": "aaf01430",
   "metadata": {
    "ExecuteTime": {
     "end_time": "2021-05-13T00:52:06.388589Z",
     "start_time": "2021-05-13T00:52:06.377578Z"
    }
   },
   "outputs": [],
   "source": [
    "epi = epi[~epi['country_name'].isin(frequent_null_countries)]"
   ]
  },
  {
   "cell_type": "code",
   "execution_count": 78,
   "id": "94b3771f",
   "metadata": {
    "ExecuteTime": {
     "end_time": "2021-05-13T00:52:07.472076Z",
     "start_time": "2021-05-13T00:52:07.457063Z"
    }
   },
   "outputs": [
    {
     "data": {
      "text/plain": [
       "Marine Protected Areas    28\n",
       "GDP                       13\n",
       "dtype: int64"
      ]
     },
     "execution_count": 78,
     "metadata": {},
     "output_type": "execute_result"
    }
   ],
   "source": [
    "nulls = epi.isnull().sum().sort_values(ascending =False)\n",
    "nulls[nulls > 0]"
   ]
  },
  {
   "cell_type": "markdown",
   "id": "96931e92",
   "metadata": {},
   "source": [
    "- Impute remaining nulls by padding using existing entries."
   ]
  },
  {
   "cell_type": "markdown",
   "id": "25e0ee11",
   "metadata": {},
   "source": [
    "- TODO: Somalia?"
   ]
  },
  {
   "cell_type": "code",
   "execution_count": 81,
   "id": "7b68d76c",
   "metadata": {},
   "outputs": [
    {
     "data": {
      "text/html": [
       "<div>\n",
       "<style scoped>\n",
       "    .dataframe tbody tr th:only-of-type {\n",
       "        vertical-align: middle;\n",
       "    }\n",
       "\n",
       "    .dataframe tbody tr th {\n",
       "        vertical-align: top;\n",
       "    }\n",
       "\n",
       "    .dataframe thead th {\n",
       "        text-align: right;\n",
       "    }\n",
       "</style>\n",
       "<table border=\"1\" class=\"dataframe\">\n",
       "  <thead>\n",
       "    <tr style=\"text-align: right;\">\n",
       "      <th></th>\n",
       "      <th>year</th>\n",
       "      <th>country_name</th>\n",
       "      <th>Unsafe sanitation</th>\n",
       "      <th>Sanitation &amp; Drinking Water</th>\n",
       "      <th>Terrestrial biome protection (national weights)</th>\n",
       "      <th>PM2.5 Exposure</th>\n",
       "      <th>Unsafe drinking water</th>\n",
       "      <th>Water Resources</th>\n",
       "      <th>Ecosystem Vitality</th>\n",
       "      <th>Agriculture</th>\n",
       "      <th>...</th>\n",
       "      <th>Health Impacts</th>\n",
       "      <th>Household Air Quality</th>\n",
       "      <th>Access to Electricity</th>\n",
       "      <th>Pesticide Regulation</th>\n",
       "      <th>Agricultural Subsidies</th>\n",
       "      <th>Child Mortality</th>\n",
       "      <th>Fisheries</th>\n",
       "      <th>Marine Protected Areas</th>\n",
       "      <th>Fish Stock Status</th>\n",
       "      <th>GDP</th>\n",
       "    </tr>\n",
       "  </thead>\n",
       "  <tbody>\n",
       "    <tr>\n",
       "      <th>503</th>\n",
       "      <td>2002</td>\n",
       "      <td>Somalia</td>\n",
       "      <td>2.14</td>\n",
       "      <td>1.07</td>\n",
       "      <td>3.43</td>\n",
       "      <td>100.00</td>\n",
       "      <td>0.00</td>\n",
       "      <td>3.96</td>\n",
       "      <td>6.04</td>\n",
       "      <td>50.0</td>\n",
       "      <td>...</td>\n",
       "      <td>14.01</td>\n",
       "      <td>2.6</td>\n",
       "      <td>26.6</td>\n",
       "      <td>0.0</td>\n",
       "      <td>100.0</td>\n",
       "      <td>14.01</td>\n",
       "      <td>0.0</td>\n",
       "      <td>0.0</td>\n",
       "      <td>0.0</td>\n",
       "      <td>NaN</td>\n",
       "    </tr>\n",
       "    <tr>\n",
       "      <th>504</th>\n",
       "      <td>2003</td>\n",
       "      <td>Somalia</td>\n",
       "      <td>2.18</td>\n",
       "      <td>1.09</td>\n",
       "      <td>3.43</td>\n",
       "      <td>100.00</td>\n",
       "      <td>0.00</td>\n",
       "      <td>3.96</td>\n",
       "      <td>6.04</td>\n",
       "      <td>50.0</td>\n",
       "      <td>...</td>\n",
       "      <td>14.41</td>\n",
       "      <td>2.9</td>\n",
       "      <td>26.9</td>\n",
       "      <td>0.0</td>\n",
       "      <td>100.0</td>\n",
       "      <td>14.41</td>\n",
       "      <td>0.0</td>\n",
       "      <td>0.0</td>\n",
       "      <td>0.0</td>\n",
       "      <td>NaN</td>\n",
       "    </tr>\n",
       "    <tr>\n",
       "      <th>505</th>\n",
       "      <td>2004</td>\n",
       "      <td>Somalia</td>\n",
       "      <td>2.21</td>\n",
       "      <td>1.11</td>\n",
       "      <td>3.43</td>\n",
       "      <td>100.00</td>\n",
       "      <td>0.00</td>\n",
       "      <td>3.96</td>\n",
       "      <td>6.04</td>\n",
       "      <td>50.0</td>\n",
       "      <td>...</td>\n",
       "      <td>14.82</td>\n",
       "      <td>3.2</td>\n",
       "      <td>27.2</td>\n",
       "      <td>0.0</td>\n",
       "      <td>100.0</td>\n",
       "      <td>14.82</td>\n",
       "      <td>0.0</td>\n",
       "      <td>0.0</td>\n",
       "      <td>0.0</td>\n",
       "      <td>NaN</td>\n",
       "    </tr>\n",
       "    <tr>\n",
       "      <th>506</th>\n",
       "      <td>2005</td>\n",
       "      <td>Somalia</td>\n",
       "      <td>2.25</td>\n",
       "      <td>1.13</td>\n",
       "      <td>3.43</td>\n",
       "      <td>100.00</td>\n",
       "      <td>0.00</td>\n",
       "      <td>3.96</td>\n",
       "      <td>6.04</td>\n",
       "      <td>50.0</td>\n",
       "      <td>...</td>\n",
       "      <td>15.25</td>\n",
       "      <td>3.5</td>\n",
       "      <td>27.5</td>\n",
       "      <td>0.0</td>\n",
       "      <td>100.0</td>\n",
       "      <td>15.25</td>\n",
       "      <td>0.0</td>\n",
       "      <td>0.0</td>\n",
       "      <td>0.0</td>\n",
       "      <td>NaN</td>\n",
       "    </tr>\n",
       "    <tr>\n",
       "      <th>507</th>\n",
       "      <td>2006</td>\n",
       "      <td>Somalia</td>\n",
       "      <td>2.30</td>\n",
       "      <td>1.15</td>\n",
       "      <td>3.43</td>\n",
       "      <td>100.00</td>\n",
       "      <td>0.00</td>\n",
       "      <td>3.96</td>\n",
       "      <td>6.04</td>\n",
       "      <td>50.0</td>\n",
       "      <td>...</td>\n",
       "      <td>15.71</td>\n",
       "      <td>3.8</td>\n",
       "      <td>27.8</td>\n",
       "      <td>0.0</td>\n",
       "      <td>100.0</td>\n",
       "      <td>15.71</td>\n",
       "      <td>0.0</td>\n",
       "      <td>0.0</td>\n",
       "      <td>0.0</td>\n",
       "      <td>NaN</td>\n",
       "    </tr>\n",
       "    <tr>\n",
       "      <th>508</th>\n",
       "      <td>2007</td>\n",
       "      <td>Somalia</td>\n",
       "      <td>2.35</td>\n",
       "      <td>1.18</td>\n",
       "      <td>3.43</td>\n",
       "      <td>100.00</td>\n",
       "      <td>0.00</td>\n",
       "      <td>3.96</td>\n",
       "      <td>6.04</td>\n",
       "      <td>50.0</td>\n",
       "      <td>...</td>\n",
       "      <td>16.18</td>\n",
       "      <td>4.1</td>\n",
       "      <td>28.1</td>\n",
       "      <td>0.0</td>\n",
       "      <td>100.0</td>\n",
       "      <td>16.18</td>\n",
       "      <td>0.0</td>\n",
       "      <td>0.0</td>\n",
       "      <td>0.0</td>\n",
       "      <td>NaN</td>\n",
       "    </tr>\n",
       "    <tr>\n",
       "      <th>509</th>\n",
       "      <td>2008</td>\n",
       "      <td>Somalia</td>\n",
       "      <td>2.41</td>\n",
       "      <td>1.20</td>\n",
       "      <td>3.43</td>\n",
       "      <td>100.00</td>\n",
       "      <td>0.00</td>\n",
       "      <td>3.96</td>\n",
       "      <td>6.04</td>\n",
       "      <td>50.0</td>\n",
       "      <td>...</td>\n",
       "      <td>16.65</td>\n",
       "      <td>4.4</td>\n",
       "      <td>28.4</td>\n",
       "      <td>0.0</td>\n",
       "      <td>100.0</td>\n",
       "      <td>16.65</td>\n",
       "      <td>0.0</td>\n",
       "      <td>0.0</td>\n",
       "      <td>0.0</td>\n",
       "      <td>NaN</td>\n",
       "    </tr>\n",
       "    <tr>\n",
       "      <th>510</th>\n",
       "      <td>2009</td>\n",
       "      <td>Somalia</td>\n",
       "      <td>2.47</td>\n",
       "      <td>1.23</td>\n",
       "      <td>3.43</td>\n",
       "      <td>100.00</td>\n",
       "      <td>0.00</td>\n",
       "      <td>3.96</td>\n",
       "      <td>6.04</td>\n",
       "      <td>50.0</td>\n",
       "      <td>...</td>\n",
       "      <td>17.11</td>\n",
       "      <td>4.7</td>\n",
       "      <td>28.7</td>\n",
       "      <td>0.0</td>\n",
       "      <td>100.0</td>\n",
       "      <td>17.11</td>\n",
       "      <td>0.0</td>\n",
       "      <td>0.0</td>\n",
       "      <td>0.0</td>\n",
       "      <td>NaN</td>\n",
       "    </tr>\n",
       "    <tr>\n",
       "      <th>511</th>\n",
       "      <td>2010</td>\n",
       "      <td>Somalia</td>\n",
       "      <td>2.52</td>\n",
       "      <td>1.26</td>\n",
       "      <td>3.43</td>\n",
       "      <td>100.00</td>\n",
       "      <td>0.00</td>\n",
       "      <td>3.96</td>\n",
       "      <td>6.50</td>\n",
       "      <td>56.0</td>\n",
       "      <td>...</td>\n",
       "      <td>17.58</td>\n",
       "      <td>5.0</td>\n",
       "      <td>29.0</td>\n",
       "      <td>12.0</td>\n",
       "      <td>100.0</td>\n",
       "      <td>17.58</td>\n",
       "      <td>0.0</td>\n",
       "      <td>0.0</td>\n",
       "      <td>0.0</td>\n",
       "      <td>NaN</td>\n",
       "    </tr>\n",
       "    <tr>\n",
       "      <th>512</th>\n",
       "      <td>2011</td>\n",
       "      <td>Somalia</td>\n",
       "      <td>2.58</td>\n",
       "      <td>1.29</td>\n",
       "      <td>3.43</td>\n",
       "      <td>100.00</td>\n",
       "      <td>0.00</td>\n",
       "      <td>3.96</td>\n",
       "      <td>6.50</td>\n",
       "      <td>56.0</td>\n",
       "      <td>...</td>\n",
       "      <td>18.06</td>\n",
       "      <td>5.0</td>\n",
       "      <td>29.0</td>\n",
       "      <td>12.0</td>\n",
       "      <td>100.0</td>\n",
       "      <td>18.06</td>\n",
       "      <td>0.0</td>\n",
       "      <td>0.0</td>\n",
       "      <td>0.0</td>\n",
       "      <td>NaN</td>\n",
       "    </tr>\n",
       "    <tr>\n",
       "      <th>513</th>\n",
       "      <td>2012</td>\n",
       "      <td>Somalia</td>\n",
       "      <td>2.58</td>\n",
       "      <td>1.29</td>\n",
       "      <td>3.43</td>\n",
       "      <td>100.00</td>\n",
       "      <td>0.00</td>\n",
       "      <td>3.96</td>\n",
       "      <td>6.50</td>\n",
       "      <td>56.0</td>\n",
       "      <td>...</td>\n",
       "      <td>18.55</td>\n",
       "      <td>5.0</td>\n",
       "      <td>29.0</td>\n",
       "      <td>12.0</td>\n",
       "      <td>100.0</td>\n",
       "      <td>18.55</td>\n",
       "      <td>0.0</td>\n",
       "      <td>0.0</td>\n",
       "      <td>0.0</td>\n",
       "      <td>NaN</td>\n",
       "    </tr>\n",
       "    <tr>\n",
       "      <th>2798</th>\n",
       "      <td>2002</td>\n",
       "      <td>Iraq</td>\n",
       "      <td>28.53</td>\n",
       "      <td>28.26</td>\n",
       "      <td>0.00</td>\n",
       "      <td>80.67</td>\n",
       "      <td>27.98</td>\n",
       "      <td>8.29</td>\n",
       "      <td>16.98</td>\n",
       "      <td>50.0</td>\n",
       "      <td>...</td>\n",
       "      <td>60.95</td>\n",
       "      <td>96.8</td>\n",
       "      <td>94.8</td>\n",
       "      <td>0.0</td>\n",
       "      <td>100.0</td>\n",
       "      <td>60.95</td>\n",
       "      <td>0.0</td>\n",
       "      <td>0.0</td>\n",
       "      <td>0.0</td>\n",
       "      <td>NaN</td>\n",
       "    </tr>\n",
       "    <tr>\n",
       "      <th>2799</th>\n",
       "      <td>2003</td>\n",
       "      <td>Iraq</td>\n",
       "      <td>29.25</td>\n",
       "      <td>28.86</td>\n",
       "      <td>0.00</td>\n",
       "      <td>88.01</td>\n",
       "      <td>28.46</td>\n",
       "      <td>8.29</td>\n",
       "      <td>16.98</td>\n",
       "      <td>50.0</td>\n",
       "      <td>...</td>\n",
       "      <td>62.22</td>\n",
       "      <td>97.2</td>\n",
       "      <td>95.2</td>\n",
       "      <td>0.0</td>\n",
       "      <td>100.0</td>\n",
       "      <td>62.22</td>\n",
       "      <td>0.0</td>\n",
       "      <td>0.0</td>\n",
       "      <td>0.0</td>\n",
       "      <td>NaN</td>\n",
       "    </tr>\n",
       "  </tbody>\n",
       "</table>\n",
       "<p>13 rows × 27 columns</p>\n",
       "</div>"
      ],
      "text/plain": [
       "      year country_name  Unsafe sanitation  Sanitation & Drinking Water  \\\n",
       "503   2002      Somalia               2.14                         1.07   \n",
       "504   2003      Somalia               2.18                         1.09   \n",
       "505   2004      Somalia               2.21                         1.11   \n",
       "506   2005      Somalia               2.25                         1.13   \n",
       "507   2006      Somalia               2.30                         1.15   \n",
       "508   2007      Somalia               2.35                         1.18   \n",
       "509   2008      Somalia               2.41                         1.20   \n",
       "510   2009      Somalia               2.47                         1.23   \n",
       "511   2010      Somalia               2.52                         1.26   \n",
       "512   2011      Somalia               2.58                         1.29   \n",
       "513   2012      Somalia               2.58                         1.29   \n",
       "2798  2002         Iraq              28.53                        28.26   \n",
       "2799  2003         Iraq              29.25                        28.86   \n",
       "\n",
       "      Terrestrial biome protection (national weights)  PM2.5 Exposure  \\\n",
       "503                                              3.43          100.00   \n",
       "504                                              3.43          100.00   \n",
       "505                                              3.43          100.00   \n",
       "506                                              3.43          100.00   \n",
       "507                                              3.43          100.00   \n",
       "508                                              3.43          100.00   \n",
       "509                                              3.43          100.00   \n",
       "510                                              3.43          100.00   \n",
       "511                                              3.43          100.00   \n",
       "512                                              3.43          100.00   \n",
       "513                                              3.43          100.00   \n",
       "2798                                             0.00           80.67   \n",
       "2799                                             0.00           88.01   \n",
       "\n",
       "      Unsafe drinking water  Water Resources  Ecosystem Vitality  Agriculture  \\\n",
       "503                    0.00             3.96                6.04         50.0   \n",
       "504                    0.00             3.96                6.04         50.0   \n",
       "505                    0.00             3.96                6.04         50.0   \n",
       "506                    0.00             3.96                6.04         50.0   \n",
       "507                    0.00             3.96                6.04         50.0   \n",
       "508                    0.00             3.96                6.04         50.0   \n",
       "509                    0.00             3.96                6.04         50.0   \n",
       "510                    0.00             3.96                6.04         50.0   \n",
       "511                    0.00             3.96                6.50         56.0   \n",
       "512                    0.00             3.96                6.50         56.0   \n",
       "513                    0.00             3.96                6.50         56.0   \n",
       "2798                  27.98             8.29               16.98         50.0   \n",
       "2799                  28.46             8.29               16.98         50.0   \n",
       "\n",
       "      ...  Health Impacts  Household Air Quality  Access to Electricity  \\\n",
       "503   ...           14.01                    2.6                   26.6   \n",
       "504   ...           14.41                    2.9                   26.9   \n",
       "505   ...           14.82                    3.2                   27.2   \n",
       "506   ...           15.25                    3.5                   27.5   \n",
       "507   ...           15.71                    3.8                   27.8   \n",
       "508   ...           16.18                    4.1                   28.1   \n",
       "509   ...           16.65                    4.4                   28.4   \n",
       "510   ...           17.11                    4.7                   28.7   \n",
       "511   ...           17.58                    5.0                   29.0   \n",
       "512   ...           18.06                    5.0                   29.0   \n",
       "513   ...           18.55                    5.0                   29.0   \n",
       "2798  ...           60.95                   96.8                   94.8   \n",
       "2799  ...           62.22                   97.2                   95.2   \n",
       "\n",
       "      Pesticide Regulation  Agricultural Subsidies  Child Mortality  \\\n",
       "503                    0.0                   100.0            14.01   \n",
       "504                    0.0                   100.0            14.41   \n",
       "505                    0.0                   100.0            14.82   \n",
       "506                    0.0                   100.0            15.25   \n",
       "507                    0.0                   100.0            15.71   \n",
       "508                    0.0                   100.0            16.18   \n",
       "509                    0.0                   100.0            16.65   \n",
       "510                    0.0                   100.0            17.11   \n",
       "511                   12.0                   100.0            17.58   \n",
       "512                   12.0                   100.0            18.06   \n",
       "513                   12.0                   100.0            18.55   \n",
       "2798                   0.0                   100.0            60.95   \n",
       "2799                   0.0                   100.0            62.22   \n",
       "\n",
       "      Fisheries  Marine Protected Areas  Fish Stock Status  GDP  \n",
       "503         0.0                     0.0                0.0  NaN  \n",
       "504         0.0                     0.0                0.0  NaN  \n",
       "505         0.0                     0.0                0.0  NaN  \n",
       "506         0.0                     0.0                0.0  NaN  \n",
       "507         0.0                     0.0                0.0  NaN  \n",
       "508         0.0                     0.0                0.0  NaN  \n",
       "509         0.0                     0.0                0.0  NaN  \n",
       "510         0.0                     0.0                0.0  NaN  \n",
       "511         0.0                     0.0                0.0  NaN  \n",
       "512         0.0                     0.0                0.0  NaN  \n",
       "513         0.0                     0.0                0.0  NaN  \n",
       "2798        0.0                     0.0                0.0  NaN  \n",
       "2799        0.0                     0.0                0.0  NaN  \n",
       "\n",
       "[13 rows x 27 columns]"
      ]
     },
     "execution_count": 81,
     "metadata": {},
     "output_type": "execute_result"
    }
   ],
   "source": [
    "epi[epi['GDP'].isnull() == True]"
   ]
  },
  {
   "cell_type": "code",
   "execution_count": null,
   "id": "c2bf18ce",
   "metadata": {},
   "outputs": [],
   "source": []
  }
 ],
 "metadata": {
  "kernelspec": {
   "display_name": "Python 3",
   "language": "python",
   "name": "python3"
  },
  "language_info": {
   "codemirror_mode": {
    "name": "ipython",
    "version": 3
   },
   "file_extension": ".py",
   "mimetype": "text/x-python",
   "name": "python",
   "nbconvert_exporter": "python",
   "pygments_lexer": "ipython3",
   "version": "3.7.6"
  }
 },
 "nbformat": 4,
 "nbformat_minor": 5
}
