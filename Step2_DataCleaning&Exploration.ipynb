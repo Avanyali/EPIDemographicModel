{
 "cells": [
  {
   "cell_type": "code",
   "execution_count": 1,
   "metadata": {
    "ExecuteTime": {
     "end_time": "2021-05-12T22:58:04.581121Z",
     "start_time": "2021-05-12T22:58:04.137176Z"
    }
   },
   "outputs": [],
   "source": [
    "import pandas as pd\n",
    "import numpy as np"
   ]
  },
  {
   "cell_type": "markdown",
   "metadata": {},
   "source": [
    "***Data Cleaning and Exploration***"
   ]
  },
  {
   "cell_type": "code",
   "execution_count": 2,
   "metadata": {
    "ExecuteTime": {
     "end_time": "2021-05-12T22:58:04.612590Z",
     "start_time": "2021-05-12T22:58:04.584113Z"
    }
   },
   "outputs": [],
   "source": [
    "epi = pd.read_csv('data/dataframes/epi_wrangled.csv')"
   ]
  },
  {
   "cell_type": "markdown",
   "metadata": {},
   "source": [
    "- Remove countries with fewer than 5 records."
   ]
  },
  {
   "cell_type": "code",
   "execution_count": 3,
   "metadata": {
    "ExecuteTime": {
     "end_time": "2021-05-12T22:58:04.627841Z",
     "start_time": "2021-05-12T22:58:04.614592Z"
    }
   },
   "outputs": [],
   "source": [
    "high_data = [key for key, value in epi['country_name'].value_counts().to_dict().items() if value >5]"
   ]
  },
  {
   "cell_type": "code",
   "execution_count": 4,
   "metadata": {
    "ExecuteTime": {
     "end_time": "2021-05-12T22:58:04.643880Z",
     "start_time": "2021-05-12T22:58:04.629843Z"
    }
   },
   "outputs": [],
   "source": [
    "epi = epi[epi['country_name'].isin(high_data)]"
   ]
  },
  {
   "cell_type": "code",
   "execution_count": 5,
   "metadata": {
    "ExecuteTime": {
     "end_time": "2021-05-12T22:58:04.674907Z",
     "start_time": "2021-05-12T22:58:04.645883Z"
    }
   },
   "outputs": [
    {
     "data": {
      "text/plain": [
       "Sudan                               19\n",
       "Croatia                             19\n",
       "Cyprus                              19\n",
       "Kyrgyzstan                          19\n",
       "Grenada                             19\n",
       "                                    ..\n",
       "Marshall Islands                     9\n",
       "Maldives                             9\n",
       "Saint Vincent and the Grenadines     9\n",
       "Samoa                                9\n",
       "Saint Lucia                          9\n",
       "Name: country_name, Length: 185, dtype: int64"
      ]
     },
     "execution_count": 5,
     "metadata": {},
     "output_type": "execute_result"
    }
   ],
   "source": [
    "epi['country_name'].value_counts()"
   ]
  },
  {
   "cell_type": "markdown",
   "metadata": {},
   "source": [
    "- Linearly impute values in place of nulls."
   ]
  },
  {
   "cell_type": "code",
   "execution_count": 6,
   "metadata": {
    "ExecuteTime": {
     "end_time": "2021-05-12T22:58:04.689921Z",
     "start_time": "2021-05-12T22:58:04.676910Z"
    }
   },
   "outputs": [],
   "source": [
    "def impute_values(country_name):\n",
    "    country = epi[epi['country_name'] == country_name].copy()\n",
    "    for col in country.columns:\n",
    "        country[col] = country[col].map(lambda x: np.nan if x == 'None' else x)\n",
    "        country[col].interpolate(method='linear',order=1,inplace=True, axis=0)\n",
    "    return country\n",
    "        "
   ]
  },
  {
   "cell_type": "code",
   "execution_count": 7,
   "metadata": {
    "ExecuteTime": {
     "end_time": "2021-05-12T22:58:09.074406Z",
     "start_time": "2021-05-12T22:58:04.691923Z"
    }
   },
   "outputs": [],
   "source": [
    "epi_new = pd.DataFrame()\n",
    "\n",
    "for country_name in  set(epi['country_name'].values):\n",
    "    country_df = impute_values(country_name)\n",
    "    epi_new = pd.concat([epi_new, country_df], ignore_index = True)"
   ]
  },
  {
   "cell_type": "code",
   "execution_count": 8,
   "metadata": {
    "ExecuteTime": {
     "end_time": "2021-05-12T22:58:09.089419Z",
     "start_time": "2021-05-12T22:58:09.076407Z"
    }
   },
   "outputs": [],
   "source": [
    "epi = epi_new"
   ]
  },
  {
   "cell_type": "markdown",
   "metadata": {},
   "source": [
    "* drop colums that have too many nulls or no valuable trends."
   ]
  },
  {
   "cell_type": "code",
   "execution_count": 9,
   "metadata": {
    "ExecuteTime": {
     "end_time": "2021-05-12T22:58:09.105433Z",
     "start_time": "2021-05-12T22:58:09.090420Z"
    }
   },
   "outputs": [],
   "source": [
    "drop_list = ['Climate','Forests', 'Critical Habitat Protection', 'Change in Forest Cover','Change of Trend in Carbon Intensity', 'Coastal Shelf Fishing Pressure',\n",
    "'Trend in CO2 Emissions per KWH','Trend in Carbon Intensity','Climate & Energy']"
   ]
  },
  {
   "cell_type": "code",
   "execution_count": 10,
   "metadata": {
    "ExecuteTime": {
     "end_time": "2021-05-12T22:58:09.121448Z",
     "start_time": "2021-05-12T22:58:09.107435Z"
    }
   },
   "outputs": [],
   "source": [
    "epi.drop(columns=drop_list,inplace=True)"
   ]
  },
  {
   "cell_type": "code",
   "execution_count": 12,
   "metadata": {
    "ExecuteTime": {
     "end_time": "2021-05-12T22:58:26.925877Z",
     "start_time": "2021-05-12T22:58:26.902845Z"
    }
   },
   "outputs": [
    {
     "data": {
      "text/plain": [
       "Marine Protected Areas                             868\n",
       "Fisheries                                          842\n",
       "Fish Stock Status                                  842\n",
       "Agricultural Subsidies                             466\n",
       "Environmental Performance Index                     38\n",
       "Ecosystem Vitality                                  38\n",
       "Water Resources                                     26\n",
       "Wastewater Treatment                                26\n",
       "GDP                                                 13\n",
       "Environmental Health                                12\n",
       "Child Mortality                                      9\n",
       "Access to Electricity                                9\n",
       "Health Impacts                                       9\n",
       "Terrestrial biome protection (national weights)      8\n",
       "Agriculture                                          8\n",
       "Biodiversity & Habitat                               8\n",
       "Terrestrial biome protection (global weights)        8\n",
       "Air Quality                                          4\n",
       "PM2.5 Exceedance                                     4\n",
       "PM2.5 Exposure                                       4\n",
       "dtype: int64"
      ]
     },
     "execution_count": 12,
     "metadata": {},
     "output_type": "execute_result"
    }
   ],
   "source": [
    "nulls = epi.isnull().sum().sort_values(ascending =False)\n",
    "nulls[nulls > 0]"
   ]
  },
  {
   "cell_type": "code",
   "execution_count": null,
   "metadata": {},
   "outputs": [],
   "source": []
  },
  {
   "cell_type": "markdown",
   "metadata": {},
   "source": [
    "checking the nulls for high null count indicators: Marine Protected Areas, Fisheries, Fish Stock Status and Agricultural Subsidies"
   ]
  },
  {
   "cell_type": "code",
   "execution_count": 13,
   "metadata": {
    "ExecuteTime": {
     "end_time": "2021-05-13T00:34:51.830935Z",
     "start_time": "2021-05-13T00:34:51.787377Z"
    }
   },
   "outputs": [],
   "source": [
    "#make new DF with just marine nulls\n",
    "marine_nulls = epi[epi['Marine Protected Areas'].isnull() == True]"
   ]
  },
  {
   "cell_type": "code",
   "execution_count": 14,
   "metadata": {
    "ExecuteTime": {
     "end_time": "2021-05-13T00:34:51.938923Z",
     "start_time": "2021-05-13T00:34:51.921897Z"
    }
   },
   "outputs": [],
   "source": [
    "marine_dic = marine_nulls['country_name'].value_counts().to_dict()"
   ]
  },
  {
   "cell_type": "code",
   "execution_count": 15,
   "metadata": {
    "ExecuteTime": {
     "end_time": "2021-05-13T00:34:52.046956Z",
     "start_time": "2021-05-13T00:34:52.042952Z"
    }
   },
   "outputs": [],
   "source": [
    "#get list of countries will nulls\n",
    "marine_countries = list(marine_dic.keys())"
   ]
  },
  {
   "cell_type": "code",
   "execution_count": 16,
   "metadata": {
    "ExecuteTime": {
     "end_time": "2021-05-13T00:34:52.204624Z",
     "start_time": "2021-05-13T00:34:52.187609Z"
    }
   },
   "outputs": [],
   "source": [
    "#make new DF with just fishery Nulls\n",
    "fish_nulls = epi[epi['Fisheries'].isnull() == True]"
   ]
  },
  {
   "cell_type": "code",
   "execution_count": 17,
   "metadata": {
    "ExecuteTime": {
     "end_time": "2021-05-13T00:34:52.343221Z",
     "start_time": "2021-05-13T00:34:52.329208Z"
    }
   },
   "outputs": [],
   "source": [
    "fish_dic = fish_nulls['country_name'].value_counts().to_dict()"
   ]
  },
  {
   "cell_type": "code",
   "execution_count": 18,
   "metadata": {
    "ExecuteTime": {
     "end_time": "2021-05-13T00:34:52.482796Z",
     "start_time": "2021-05-13T00:34:52.479803Z"
    }
   },
   "outputs": [],
   "source": [
    "#get list of countries with fisheries nulls\n",
    "fish_countries = list(fish_dic.keys())"
   ]
  },
  {
   "cell_type": "markdown",
   "metadata": {},
   "source": [
    "Compare list, decide what to do with non-landlocked countries."
   ]
  },
  {
   "cell_type": "code",
   "execution_count": 19,
   "metadata": {
    "ExecuteTime": {
     "end_time": "2021-05-13T00:34:52.743035Z",
     "start_time": "2021-05-13T00:34:52.738031Z"
    },
    "scrolled": true
   },
   "outputs": [
    {
     "data": {
      "text/plain": [
       "['Guinea-Bissau', 'Brunei Darussalam', 'Maldives']"
      ]
     },
     "execution_count": 19,
     "metadata": {},
     "output_type": "execute_result"
    }
   ],
   "source": [
    "[x for x in marine_countries if x not in fish_countries]"
   ]
  },
  {
   "cell_type": "code",
   "execution_count": 20,
   "metadata": {
    "ExecuteTime": {
     "end_time": "2021-05-13T00:34:52.882677Z",
     "start_time": "2021-05-13T00:34:52.869666Z"
    }
   },
   "outputs": [
    {
     "data": {
      "text/plain": [
       "['Saint Vincent and the Grenadines']"
      ]
     },
     "execution_count": 20,
     "metadata": {},
     "output_type": "execute_result"
    }
   ],
   "source": [
    "[x for x in fish_countries if x not in marine_countries]"
   ]
  },
  {
   "cell_type": "markdown",
   "metadata": {},
   "source": [
    "drop: maldives, saint vincent and the grenadines, saint lucia, Marshall Islands.\n",
    "pad: guinea bissau, Brunei Darussalam"
   ]
  },
  {
   "cell_type": "code",
   "execution_count": 21,
   "metadata": {
    "ExecuteTime": {
     "end_time": "2021-05-13T00:34:53.144863Z",
     "start_time": "2021-05-13T00:34:53.136860Z"
    }
   },
   "outputs": [],
   "source": [
    "#update list\n",
    "fish_countries.remove('Saint Vincent and the Grenadines')\n",
    "marine_countries.remove('Maldives')\n",
    "marine_countries.remove('Guinea-Bissau')\n",
    "marine_countries.remove('Brunei Darussalam')"
   ]
  },
  {
   "cell_type": "code",
   "execution_count": 22,
   "metadata": {
    "ExecuteTime": {
     "end_time": "2021-05-13T00:34:53.287663Z",
     "start_time": "2021-05-13T00:34:53.273650Z"
    }
   },
   "outputs": [],
   "source": [
    "#new DF for fishing stock nulls\n",
    "fish_stock_nulls = epi[epi['Fish Stock Status'].isnull() == True]"
   ]
  },
  {
   "cell_type": "code",
   "execution_count": 23,
   "metadata": {
    "ExecuteTime": {
     "end_time": "2021-05-13T00:34:53.411134Z",
     "start_time": "2021-05-13T00:34:53.407131Z"
    }
   },
   "outputs": [],
   "source": [
    "fish_stock_dic = fish_stock_nulls['country_name'].value_counts().to_dict()"
   ]
  },
  {
   "cell_type": "code",
   "execution_count": 24,
   "metadata": {
    "ExecuteTime": {
     "end_time": "2021-05-13T00:34:53.552890Z",
     "start_time": "2021-05-13T00:34:53.543882Z"
    }
   },
   "outputs": [],
   "source": [
    "#get list of fishing stock null countries \n",
    "fish_stock_countries = list(fish_stock_dic.keys())"
   ]
  },
  {
   "cell_type": "code",
   "execution_count": 25,
   "metadata": {
    "ExecuteTime": {
     "end_time": "2021-05-13T00:34:53.690919Z",
     "start_time": "2021-05-13T00:34:53.679909Z"
    }
   },
   "outputs": [],
   "source": [
    "#we are not using Saint Vincent and the Grenadines\n",
    "fish_stock_countries.remove('Saint Vincent and the Grenadines')"
   ]
  },
  {
   "cell_type": "code",
   "execution_count": 26,
   "metadata": {
    "ExecuteTime": {
     "end_time": "2021-05-13T00:34:53.830802Z",
     "start_time": "2021-05-13T00:34:53.817789Z"
    }
   },
   "outputs": [
    {
     "data": {
      "text/plain": [
       "True"
      ]
     },
     "execution_count": 26,
     "metadata": {},
     "output_type": "execute_result"
    }
   ],
   "source": [
    "#look for differences in the list\n",
    "fish_stock_countries == fish_countries"
   ]
  },
  {
   "cell_type": "code",
   "execution_count": 27,
   "metadata": {
    "ExecuteTime": {
     "end_time": "2021-05-13T00:34:53.970863Z",
     "start_time": "2021-05-13T00:34:53.962854Z"
    }
   },
   "outputs": [
    {
     "data": {
      "text/plain": [
       "True"
      ]
     },
     "execution_count": 27,
     "metadata": {},
     "output_type": "execute_result"
    }
   ],
   "source": [
    "#make sure not to leave out any countries from the list\n",
    "sorted(marine_countries) == sorted(fish_countries)"
   ]
  },
  {
   "cell_type": "code",
   "execution_count": 28,
   "metadata": {
    "ExecuteTime": {
     "end_time": "2021-05-13T00:34:54.112912Z",
     "start_time": "2021-05-13T00:34:54.096898Z"
    }
   },
   "outputs": [],
   "source": [
    "land_locked = fish_countries"
   ]
  },
  {
   "cell_type": "code",
   "execution_count": 29,
   "metadata": {
    "ExecuteTime": {
     "end_time": "2021-05-13T00:34:54.251041Z",
     "start_time": "2021-05-13T00:34:54.234027Z"
    },
    "scrolled": false
   },
   "outputs": [
    {
     "data": {
      "text/plain": [
       "['Zambia', 'Slovakia', 'Paraguay']"
      ]
     },
     "execution_count": 29,
     "metadata": {},
     "output_type": "execute_result"
    }
   ],
   "source": [
    "land_locked[:3] #fill in with zeros for \"marine protected status, fisheries, and fish stock\""
   ]
  },
  {
   "cell_type": "markdown",
   "metadata": {},
   "source": [
    "not ocean related high nulls"
   ]
  },
  {
   "cell_type": "code",
   "execution_count": 30,
   "metadata": {
    "ExecuteTime": {
     "end_time": "2021-05-13T00:34:54.779060Z",
     "start_time": "2021-05-13T00:34:54.761047Z"
    }
   },
   "outputs": [],
   "source": [
    "ag_nulls = epi[epi['Agricultural Subsidies'].isnull() == True]"
   ]
  },
  {
   "cell_type": "code",
   "execution_count": 31,
   "metadata": {
    "ExecuteTime": {
     "end_time": "2021-05-13T00:34:54.889899Z",
     "start_time": "2021-05-13T00:34:54.877888Z"
    }
   },
   "outputs": [],
   "source": [
    "ag_dic = ag_nulls['country_name'].value_counts().to_dict()"
   ]
  },
  {
   "cell_type": "code",
   "execution_count": 32,
   "metadata": {
    "ExecuteTime": {
     "end_time": "2021-05-13T00:34:55.325393Z",
     "start_time": "2021-05-13T00:34:55.318386Z"
    }
   },
   "outputs": [],
   "source": [
    "ag_countries = list(ag_dic.keys())"
   ]
  },
  {
   "cell_type": "code",
   "execution_count": 33,
   "metadata": {
    "ExecuteTime": {
     "end_time": "2021-05-13T00:36:28.281152Z",
     "start_time": "2021-05-13T00:36:28.276150Z"
    }
   },
   "outputs": [],
   "source": [
    "ag_countries.remove('Marshall Islands')\n",
    "ag_countries.remove('Saint Lucia')"
   ]
  },
  {
   "cell_type": "code",
   "execution_count": 38,
   "metadata": {
    "ExecuteTime": {
     "end_time": "2021-05-13T00:52:48.130609Z",
     "start_time": "2021-05-13T00:52:48.126606Z"
    }
   },
   "outputs": [
    {
     "data": {
      "text/plain": [
       "24"
      ]
     },
     "execution_count": 38,
     "metadata": {},
     "output_type": "execute_result"
    }
   ],
   "source": [
    "len(ag_countries)"
   ]
  },
  {
   "cell_type": "code",
   "execution_count": null,
   "metadata": {},
   "outputs": [],
   "source": [
    "ag_countries[:3] # list of countries to use the regional values for agriculture subsidies "
   ]
  },
  {
   "cell_type": "markdown",
   "metadata": {},
   "source": [
    "checking other nulls."
   ]
  },
  {
   "cell_type": "code",
   "execution_count": 34,
   "metadata": {
    "ExecuteTime": {
     "end_time": "2021-05-13T00:52:02.902366Z",
     "start_time": "2021-05-13T00:52:02.892357Z"
    }
   },
   "outputs": [
    {
     "data": {
      "text/plain": [
       "Marshall Islands                    8\n",
       "Saint Vincent and the Grenadines    6\n",
       "Micronesia                          6\n",
       "Saint Lucia                         6\n",
       "Samoa                               4\n",
       "Sao Tome and Principe               4\n",
       "Maldives                            4\n",
       "Name: country_name, dtype: int64"
      ]
     },
     "execution_count": 34,
     "metadata": {},
     "output_type": "execute_result"
    }
   ],
   "source": [
    "#check eco_vitality\n",
    "eco_vitality = epi[epi['Ecosystem Vitality'].isnull() == True]\n",
    "eco_vitality['country_name'].value_counts()"
   ]
  },
  {
   "cell_type": "code",
   "execution_count": 35,
   "metadata": {
    "ExecuteTime": {
     "end_time": "2021-05-13T00:52:05.166204Z",
     "start_time": "2021-05-13T00:52:05.152193Z"
    }
   },
   "outputs": [],
   "source": [
    "#drop those countries, and the ones we found above\n",
    "drop_countries = ['Maldives', 'Saint Vincent and the Grenadines','Saint Lucia', 'Marshall Islands','Micronesia', 'Sao Tome and Principe', 'Samoa']     "
   ]
  },
  {
   "cell_type": "code",
   "execution_count": 36,
   "metadata": {
    "ExecuteTime": {
     "end_time": "2021-05-13T00:52:06.388589Z",
     "start_time": "2021-05-13T00:52:06.377578Z"
    }
   },
   "outputs": [],
   "source": [
    "epi_2 = epi[~epi['country_name'].isin(drop_countries)]"
   ]
  },
  {
   "cell_type": "code",
   "execution_count": 37,
   "metadata": {
    "ExecuteTime": {
     "end_time": "2021-05-13T00:52:07.472076Z",
     "start_time": "2021-05-13T00:52:07.457063Z"
    }
   },
   "outputs": [
    {
     "data": {
      "text/plain": [
       "Marine Protected Areas    864\n",
       "Fisheries                 836\n",
       "Fish Stock Status         836\n",
       "Agricultural Subsidies    448\n",
       "GDP                        13\n",
       "dtype: int64"
      ]
     },
     "execution_count": 37,
     "metadata": {},
     "output_type": "execute_result"
    }
   ],
   "source": [
    "nulls = epi_2.isnull().sum().sort_values(ascending =False)\n",
    "nulls[nulls > 0]"
   ]
  },
  {
   "cell_type": "markdown",
   "metadata": {},
   "source": [
    "nulls solved!"
   ]
  }
 ],
 "metadata": {
  "kernelspec": {
   "display_name": "Python 3",
   "language": "python",
   "name": "python3"
  },
  "language_info": {
   "codemirror_mode": {
    "name": "ipython",
    "version": 3
   },
   "file_extension": ".py",
   "mimetype": "text/x-python",
   "name": "python",
   "nbconvert_exporter": "python",
   "pygments_lexer": "ipython3",
   "version": "3.8.5"
  }
 },
 "nbformat": 4,
 "nbformat_minor": 5
}
