{
 "cells": [
  {
   "cell_type": "code",
   "execution_count": 1,
   "metadata": {
    "ExecuteTime": {
     "end_time": "2021-05-13T23:33:08.976749Z",
     "start_time": "2021-05-13T23:33:07.725599Z"
    }
   },
   "outputs": [],
   "source": [
    "import pandas as pd\n",
    "import numpy as np\n",
    "import seaborn as sns\n",
    "import matplotlib.pyplot as plt"
   ]
  },
  {
   "cell_type": "code",
   "execution_count": 2,
   "metadata": {
    "ExecuteTime": {
     "end_time": "2021-05-13T23:33:08.992762Z",
     "start_time": "2021-05-13T23:33:08.980752Z"
    }
   },
   "outputs": [],
   "source": [
    "sns.set_style('darkgrid')"
   ]
  },
  {
   "cell_type": "markdown",
   "metadata": {},
   "source": [
    "***Data Cleaning and Exploration***"
   ]
  },
  {
   "cell_type": "code",
   "execution_count": 3,
   "metadata": {
    "ExecuteTime": {
     "end_time": "2021-05-13T23:33:09.023789Z",
     "start_time": "2021-05-13T23:33:08.997767Z"
    }
   },
   "outputs": [],
   "source": [
    "epi = pd.read_csv('data/dataframes/epi_wrangled.csv')"
   ]
  },
  {
   "cell_type": "markdown",
   "metadata": {},
   "source": [
    "- Remove countries with fewer than 5 records."
   ]
  },
  {
   "cell_type": "code",
   "execution_count": 4,
   "metadata": {
    "ExecuteTime": {
     "end_time": "2021-05-13T23:33:09.038746Z",
     "start_time": "2021-05-13T23:33:09.024790Z"
    }
   },
   "outputs": [],
   "source": [
    "high_data = [key for key, value in epi['country_name'].value_counts().to_dict().items() if value >5]"
   ]
  },
  {
   "cell_type": "code",
   "execution_count": 5,
   "metadata": {
    "ExecuteTime": {
     "end_time": "2021-05-13T23:33:09.054435Z",
     "start_time": "2021-05-13T23:33:09.039747Z"
    }
   },
   "outputs": [],
   "source": [
    "epi = epi[epi['country_name'].isin(high_data)]"
   ]
  },
  {
   "cell_type": "code",
   "execution_count": 6,
   "metadata": {
    "ExecuteTime": {
     "end_time": "2021-05-13T23:33:09.070450Z",
     "start_time": "2021-05-13T23:33:09.057438Z"
    }
   },
   "outputs": [
    {
     "data": {
      "text/plain": [
       "Guatemala                19\n",
       "Romania                  19\n",
       "Slovenia                 19\n",
       "Cote d'Ivoire            19\n",
       "Qatar                    19\n",
       "                         ..\n",
       "Sao Tome and Principe     9\n",
       "Saint Lucia               9\n",
       "Micronesia                9\n",
       "Samoa                     9\n",
       "Maldives                  9\n",
       "Name: country_name, Length: 185, dtype: int64"
      ]
     },
     "execution_count": 6,
     "metadata": {},
     "output_type": "execute_result"
    }
   ],
   "source": [
    "epi['country_name'].value_counts()"
   ]
  },
  {
   "cell_type": "markdown",
   "metadata": {},
   "source": [
    "- Linearly impute values in place of nulls."
   ]
  },
  {
   "cell_type": "code",
   "execution_count": 7,
   "metadata": {
    "ExecuteTime": {
     "end_time": "2021-05-13T23:33:09.086463Z",
     "start_time": "2021-05-13T23:33:09.072451Z"
    }
   },
   "outputs": [],
   "source": [
    "def impute_values(country_name):\n",
    "    country = epi[epi['country_name'] == country_name].copy()\n",
    "    for col in country.columns:\n",
    "        country[col] = country[col].map(lambda x: np.nan if x == 'None' else x)\n",
    "        country[col].interpolate(method='linear',order=1,inplace=True, axis=0)\n",
    "    return country\n",
    "        "
   ]
  },
  {
   "cell_type": "code",
   "execution_count": 8,
   "metadata": {
    "ExecuteTime": {
     "end_time": "2021-05-13T23:33:13.456945Z",
     "start_time": "2021-05-13T23:33:09.088466Z"
    }
   },
   "outputs": [],
   "source": [
    "epi_new = pd.DataFrame()\n",
    "\n",
    "for country_name in  set(epi['country_name'].values):\n",
    "    country_df = impute_values(country_name)\n",
    "    epi_new = pd.concat([epi_new, country_df], ignore_index = True)"
   ]
  },
  {
   "cell_type": "code",
   "execution_count": 9,
   "metadata": {
    "ExecuteTime": {
     "end_time": "2021-05-13T23:33:13.471958Z",
     "start_time": "2021-05-13T23:33:13.458949Z"
    }
   },
   "outputs": [],
   "source": [
    "epi = epi_new"
   ]
  },
  {
   "cell_type": "markdown",
   "metadata": {},
   "source": [
    "- Drop columns with low value data, identified by visual analysis with respect to time. These columns' values tend to be almost entirely the same for each country on the list."
   ]
  },
  {
   "cell_type": "code",
   "execution_count": 10,
   "metadata": {
    "ExecuteTime": {
     "end_time": "2021-05-13T23:33:13.487418Z",
     "start_time": "2021-05-13T23:33:13.473960Z"
    }
   },
   "outputs": [],
   "source": [
    "drop_list = ['Climate','Forests', 'Critical Habitat Protection', 'Change in Forest Cover','Change of Trend in Carbon Intensity', 'Coastal Shelf Fishing Pressure',\n",
    "'Trend in CO2 Emissions per KWH','Trend in Carbon Intensity','Climate & Energy']"
   ]
  },
  {
   "cell_type": "code",
   "execution_count": 11,
   "metadata": {
    "ExecuteTime": {
     "end_time": "2021-05-13T23:33:13.503432Z",
     "start_time": "2021-05-13T23:33:13.489430Z"
    }
   },
   "outputs": [],
   "source": [
    "epi.drop(columns=drop_list,inplace=True)"
   ]
  },
  {
   "cell_type": "code",
   "execution_count": 12,
   "metadata": {
    "ExecuteTime": {
     "end_time": "2021-05-13T23:33:13.535460Z",
     "start_time": "2021-05-13T23:33:13.505445Z"
    }
   },
   "outputs": [
    {
     "data": {
      "text/plain": [
       "Marine Protected Areas                             868\n",
       "Fisheries                                          842\n",
       "Fish Stock Status                                  842\n",
       "Agricultural Subsidies                             466\n",
       "Environmental Performance Index                     38\n",
       "Ecosystem Vitality                                  38\n",
       "Water Resources                                     26\n",
       "Wastewater Treatment                                26\n",
       "GDP                                                 13\n",
       "Environmental Health                                12\n",
       "Child Mortality                                      9\n",
       "Access to Electricity                                9\n",
       "Health Impacts                                       9\n",
       "Terrestrial biome protection (national weights)      8\n",
       "Agriculture                                          8\n",
       "Biodiversity & Habitat                               8\n",
       "Terrestrial biome protection (global weights)        8\n",
       "Air Quality                                          4\n",
       "PM2.5 Exceedance                                     4\n",
       "PM2.5 Exposure                                       4\n",
       "dtype: int64"
      ]
     },
     "execution_count": 12,
     "metadata": {},
     "output_type": "execute_result"
    }
   ],
   "source": [
    "nulls = epi.isnull().sum().sort_values(ascending =False)\n",
    "nulls[nulls > 0]"
   ]
  },
  {
   "cell_type": "markdown",
   "metadata": {},
   "source": [
    "- Inspect columns with high null count indicators: Marine Protected Areas, Fisheries, Fish Stock Status and Agricultural Subsidies"
   ]
  },
  {
   "cell_type": "code",
   "execution_count": 13,
   "metadata": {
    "ExecuteTime": {
     "end_time": "2021-05-13T23:33:13.551486Z",
     "start_time": "2021-05-13T23:33:13.537462Z"
    }
   },
   "outputs": [],
   "source": [
    "def full_null_column(countries, column_name):\n",
    "    all_null = []\n",
    "    for country in countries:\n",
    "        country_frame = epi[epi['country_name'] == country]\n",
    "        nans = country_frame[column_name].isna().sum()\n",
    "\n",
    "        if nans/country_frame.shape[0] == 1:\n",
    "            all_null.append(country)\n",
    "            \n",
    "    return all_null"
   ]
  },
  {
   "cell_type": "code",
   "execution_count": 14,
   "metadata": {
    "ExecuteTime": {
     "end_time": "2021-05-13T23:33:13.567489Z",
     "start_time": "2021-05-13T23:33:13.553477Z"
    }
   },
   "outputs": [],
   "source": [
    "marine_countries = set(epi[epi['Marine Protected Areas'].isnull() == True]['country_name'].values)\n",
    "fish_countries = set(epi[epi['Fisheries'].isnull() == True]['country_name'].values)\n",
    "stock_countries = set(epi[epi['Fish Stock Status'].isnull() == True]['country_name'].values)"
   ]
  },
  {
   "cell_type": "code",
   "execution_count": 15,
   "metadata": {
    "ExecuteTime": {
     "end_time": "2021-05-13T23:33:13.692598Z",
     "start_time": "2021-05-13T23:33:13.568490Z"
    }
   },
   "outputs": [],
   "source": [
    "full_marine_nulls = full_null_column(marine_countries, 'Marine Protected Areas')\n",
    "full_fishery_nulls = full_null_column(fish_countries, 'Fisheries')\n",
    "full_stock_nulls = full_null_column(stock_countries, 'Fish Stock Status')"
   ]
  },
  {
   "cell_type": "code",
   "execution_count": 16,
   "metadata": {
    "ExecuteTime": {
     "end_time": "2021-05-13T23:33:13.708081Z",
     "start_time": "2021-05-13T23:33:13.693598Z"
    }
   },
   "outputs": [
    {
     "data": {
      "text/plain": [
       "['Maldives', 'Brunei Darussalam', 'Guinea-Bissau']"
      ]
     },
     "execution_count": 16,
     "metadata": {},
     "output_type": "execute_result"
    }
   ],
   "source": [
    "marine_anomalies = [country for country in marine_countries if country not in full_marine_nulls]\n",
    "marine_anomalies"
   ]
  },
  {
   "cell_type": "code",
   "execution_count": 17,
   "metadata": {
    "ExecuteTime": {
     "end_time": "2021-05-13T23:33:13.724097Z",
     "start_time": "2021-05-13T23:33:13.710085Z"
    }
   },
   "outputs": [
    {
     "data": {
      "text/plain": [
       "['Saint Vincent and the Grenadines']"
      ]
     },
     "execution_count": 17,
     "metadata": {},
     "output_type": "execute_result"
    }
   ],
   "source": [
    "fish_anomalies = [country for country in fish_countries if country not in full_fishery_nulls]\n",
    "fish_anomalies"
   ]
  },
  {
   "cell_type": "code",
   "execution_count": 18,
   "metadata": {
    "ExecuteTime": {
     "end_time": "2021-05-13T23:33:13.740110Z",
     "start_time": "2021-05-13T23:33:13.726099Z"
    }
   },
   "outputs": [
    {
     "data": {
      "text/plain": [
       "['Saint Vincent and the Grenadines']"
      ]
     },
     "execution_count": 18,
     "metadata": {},
     "output_type": "execute_result"
    }
   ],
   "source": [
    "stock_anomalies = [country for country in stock_countries if country not in full_stock_nulls]\n",
    "stock_anomalies"
   ]
  },
  {
   "cell_type": "markdown",
   "metadata": {},
   "source": [
    "- Compare lists of countries."
   ]
  },
  {
   "cell_type": "code",
   "execution_count": 19,
   "metadata": {
    "ExecuteTime": {
     "end_time": "2021-05-13T23:33:13.755514Z",
     "start_time": "2021-05-13T23:33:13.742112Z"
    }
   },
   "outputs": [
    {
     "data": {
      "text/plain": [
       "['Niger', 'Switzerland', 'North Macedonia', 'Mongolia', 'Austria']"
      ]
     },
     "execution_count": 19,
     "metadata": {},
     "output_type": "execute_result"
    }
   ],
   "source": [
    "full_marine_nulls[:5]"
   ]
  },
  {
   "cell_type": "code",
   "execution_count": 20,
   "metadata": {
    "ExecuteTime": {
     "end_time": "2021-05-13T23:33:13.770536Z",
     "start_time": "2021-05-13T23:33:13.757514Z"
    },
    "scrolled": true
   },
   "outputs": [
    {
     "data": {
      "text/plain": [
       "['Niger', 'Switzerland', 'North Macedonia', 'Mongolia', 'Austria']"
      ]
     },
     "execution_count": 20,
     "metadata": {},
     "output_type": "execute_result"
    }
   ],
   "source": [
    "full_fishery_nulls[:5]"
   ]
  },
  {
   "cell_type": "code",
   "execution_count": 21,
   "metadata": {
    "ExecuteTime": {
     "end_time": "2021-05-13T23:33:13.786550Z",
     "start_time": "2021-05-13T23:33:13.775530Z"
    }
   },
   "outputs": [
    {
     "data": {
      "text/plain": [
       "['Niger', 'Switzerland', 'North Macedonia', 'Mongolia', 'Austria']"
      ]
     },
     "execution_count": 21,
     "metadata": {},
     "output_type": "execute_result"
    }
   ],
   "source": [
    "full_stock_nulls[:5]"
   ]
  },
  {
   "cell_type": "markdown",
   "metadata": {},
   "source": [
    "- All countries with null values for all three identifiers have been determined to be landlocked., and thus cannot have fisheries, marine protected areas, or fish stock status. Filling null values with 0.\n",
    "- Note: there are six countries that do not appear to technically be landlocked, but still show nulls for these values. This is because they either:\n",
    "   - Have a small sliver of land that touches the ocean: Dem. Rep. Conga, Slovenia, and Bosnia and Herzegovina.\n",
    "   - Border the Caspian sea, which is debatably not a true marine sea: Turkmenistan, Kazakhstan, Azerbaijan."
   ]
  },
  {
   "cell_type": "code",
   "execution_count": 22,
   "metadata": {
    "ExecuteTime": {
     "end_time": "2021-05-13T23:33:13.801553Z",
     "start_time": "2021-05-13T23:33:13.789542Z"
    }
   },
   "outputs": [],
   "source": [
    "landlocked = [x for x in marine_countries if x in fish_countries]"
   ]
  },
  {
   "cell_type": "code",
   "execution_count": 23,
   "metadata": {
    "ExecuteTime": {
     "end_time": "2021-05-13T23:33:13.817577Z",
     "start_time": "2021-05-13T23:33:13.803555Z"
    }
   },
   "outputs": [],
   "source": [
    "to_fill = ['Fisheries', 'Marine Protected Areas', 'Fish Stock Status']"
   ]
  },
  {
   "cell_type": "code",
   "execution_count": 24,
   "metadata": {
    "ExecuteTime": {
     "end_time": "2021-05-13T23:33:13.833581Z",
     "start_time": "2021-05-13T23:33:13.819568Z"
    }
   },
   "outputs": [],
   "source": [
    "for column in to_fill:\n",
    "    epi.loc[epi['country_name'].isin(landlocked), column] = epi.loc[epi['country_name'].isin(landlocked), column].fillna(0)"
   ]
  },
  {
   "cell_type": "markdown",
   "metadata": {},
   "source": [
    "- Inspect countries with poor marine data that are not landlocked."
   ]
  },
  {
   "cell_type": "code",
   "execution_count": 25,
   "metadata": {
    "ExecuteTime": {
     "end_time": "2021-05-13T23:33:13.849606Z",
     "start_time": "2021-05-13T23:33:13.835583Z"
    }
   },
   "outputs": [],
   "source": [
    "marine_anomalies.extend(fish_anomalies)\n",
    "anomalies = marine_anomalies"
   ]
  },
  {
   "cell_type": "code",
   "execution_count": 26,
   "metadata": {
    "ExecuteTime": {
     "end_time": "2021-05-13T23:33:14.261972Z",
     "start_time": "2021-05-13T23:33:13.850607Z"
    }
   },
   "outputs": [
    {
     "data": {
      "image/png": "[encoded data removed]",
      "text/plain": [
       "<Figure size 432x288 with 1 Axes>"
      ]
     },
     "metadata": {},
     "output_type": "display_data"
    }
   ],
   "source": [
    "for country in anomalies:\n",
    "    sns.scatterplot(data = epi[epi['country_name'] == country], x = 'year', y = 'Marine Protected Areas')\n",
    "\n",
    "plt.legend(anomalies)\n",
    "plt.title(\"Percent Marine Protected Areas by country reported by Year\")\n",
    "plt.show()"
   ]
  },
  {
   "cell_type": "code",
   "execution_count": 27,
   "metadata": {
    "ExecuteTime": {
     "end_time": "2021-05-13T23:33:14.658109Z",
     "start_time": "2021-05-13T23:33:14.262962Z"
    }
   },
   "outputs": [
    {
     "data": {
      "image/png": "[encoded data removed]",
      "text/plain": [
       "<Figure size 432x288 with 1 Axes>"
      ]
     },
     "metadata": {},
     "output_type": "display_data"
    }
   ],
   "source": [
    "for country in anomalies:\n",
    "    sns.scatterplot(data = epi[epi['country_name'] == country], x = 'year', y = 'Fish Stock Status')\n",
    "\n",
    "plt.legend(anomalies)\n",
    "plt.title(\"Fish stock status by country reported by Year\")\n",
    "plt.show()"
   ]
  },
  {
   "cell_type": "code",
   "execution_count": 28,
   "metadata": {
    "ExecuteTime": {
     "end_time": "2021-05-13T23:33:15.067978Z",
     "start_time": "2021-05-13T23:33:14.660112Z"
    }
   },
   "outputs": [
    {
     "data": {
      "image/png": "[encoded data removed]",
      "text/plain": [
       "<Figure size 432x288 with 1 Axes>"
      ]
     },
     "metadata": {},
     "output_type": "display_data"
    }
   ],
   "source": [
    "for country in anomalies:\n",
    "    sns.scatterplot(data = epi[epi['country_name'] == country], x = 'year', y = 'Fisheries')\n",
    "\n",
    "plt.legend(anomalies)\n",
    "plt.title(\"Fisheries by country reported by Year\")\n",
    "plt.show()"
   ]
  },
  {
   "cell_type": "markdown",
   "metadata": {},
   "source": [
    "- Decision: drop Saint Vincent and the Grenadines from our data, as we do not feel we can confidently impute null values from only three reported values in two categories (one of which shows significant volatility)."
   ]
  },
  {
   "cell_type": "code",
   "execution_count": 29,
   "metadata": {
    "ExecuteTime": {
     "end_time": "2021-05-13T23:33:15.083992Z",
     "start_time": "2021-05-13T23:33:15.068979Z"
    }
   },
   "outputs": [],
   "source": [
    "epi = epi[epi['country_name'] != 'Saint Vincent and the Grenadines']"
   ]
  },
  {
   "cell_type": "markdown",
   "metadata": {},
   "source": [
    "- Inspect final column with high null count: Agricultural Subsidies."
   ]
  },
  {
   "cell_type": "code",
   "execution_count": 30,
   "metadata": {
    "ExecuteTime": {
     "end_time": "2021-05-13T23:33:15.100000Z",
     "start_time": "2021-05-13T23:33:15.085994Z"
    }
   },
   "outputs": [],
   "source": [
    "ag_countries = set(epi[epi['Agricultural Subsidies'].isnull() == True]['country_name'].values)"
   ]
  },
  {
   "cell_type": "code",
   "execution_count": 31,
   "metadata": {
    "ExecuteTime": {
     "end_time": "2021-05-13T23:33:15.132028Z",
     "start_time": "2021-05-13T23:33:15.102001Z"
    }
   },
   "outputs": [],
   "source": [
    "full_ag_nulls = full_null_column(ag_countries, 'Agricultural Subsidies')"
   ]
  },
  {
   "cell_type": "code",
   "execution_count": 32,
   "metadata": {
    "ExecuteTime": {
     "end_time": "2021-05-13T23:33:15.148042Z",
     "start_time": "2021-05-13T23:33:15.133029Z"
    },
    "scrolled": true
   },
   "outputs": [
    {
     "data": {
      "text/plain": [
       "True"
      ]
     },
     "execution_count": 32,
     "metadata": {},
     "output_type": "execute_result"
    }
   ],
   "source": [
    "sorted(ag_countries) == sorted(full_ag_nulls)"
   ]
  },
  {
   "cell_type": "code",
   "execution_count": null,
   "metadata": {
    "ExecuteTime": {
     "end_time": "2021-05-13T23:09:05.390808Z",
     "start_time": "2021-05-13T23:09:05.376796Z"
    }
   },
   "outputs": [],
   "source": []
  },
  {
   "cell_type": "markdown",
   "metadata": {},
   "source": [
    "- Impute regional values into each country. (TODO)"
   ]
  },
  {
   "cell_type": "code",
   "execution_count": 33,
   "metadata": {
    "ExecuteTime": {
     "end_time": "2021-05-13T23:33:15.180055Z",
     "start_time": "2021-05-13T23:33:15.149043Z"
    }
   },
   "outputs": [],
   "source": [
    "regional = pd.read_csv(\"./data/EPI_data/epi2020resultsregions20200604.csv\")"
   ]
  },
  {
   "cell_type": "code",
   "execution_count": 34,
   "metadata": {
    "ExecuteTime": {
     "end_time": "2021-05-13T23:33:15.195068Z",
     "start_time": "2021-05-13T23:33:15.182056Z"
    }
   },
   "outputs": [],
   "source": [
    "regional_means = regional[[ 'country','AGR.rgn.mean']]"
   ]
  },
  {
   "cell_type": "code",
   "execution_count": 35,
   "metadata": {
    "ExecuteTime": {
     "end_time": "2021-05-13T23:33:15.211078Z",
     "start_time": "2021-05-13T23:33:15.197070Z"
    }
   },
   "outputs": [],
   "source": [
    "regional_means = regional_means[regional_means['country'].isin(ag_countries)]"
   ]
  },
  {
   "cell_type": "code",
   "execution_count": 36,
   "metadata": {
    "ExecuteTime": {
     "end_time": "2021-05-13T23:33:15.226091Z",
     "start_time": "2021-05-13T23:33:15.212079Z"
    },
    "scrolled": true,
    "tags": []
   },
   "outputs": [
    {
     "data": {
      "text/html": [
       "<div>\n",
       "<style scoped>\n",
       "    .dataframe tbody tr th:only-of-type {\n",
       "        vertical-align: middle;\n",
       "    }\n",
       "\n",
       "    .dataframe tbody tr th {\n",
       "        vertical-align: top;\n",
       "    }\n",
       "\n",
       "    .dataframe thead th {\n",
       "        text-align: right;\n",
       "    }\n",
       "</style>\n",
       "<table border=\"1\" class=\"dataframe\">\n",
       "  <thead>\n",
       "    <tr style=\"text-align: right;\">\n",
       "      <th></th>\n",
       "      <th>country</th>\n",
       "      <th>AGR.rgn.mean</th>\n",
       "    </tr>\n",
       "  </thead>\n",
       "  <tbody>\n",
       "    <tr>\n",
       "      <th>3</th>\n",
       "      <td>United Arab Emirates</td>\n",
       "      <td>36.512500</td>\n",
       "    </tr>\n",
       "    <tr>\n",
       "      <th>6</th>\n",
       "      <td>Antigua and Barbuda</td>\n",
       "      <td>32.653125</td>\n",
       "    </tr>\n",
       "    <tr>\n",
       "      <th>16</th>\n",
       "      <td>Bahrain</td>\n",
       "      <td>36.512500</td>\n",
       "    </tr>\n",
       "    <tr>\n",
       "      <th>17</th>\n",
       "      <td>Bahamas</td>\n",
       "      <td>32.653125</td>\n",
       "    </tr>\n",
       "    <tr>\n",
       "      <th>23</th>\n",
       "      <td>Barbados</td>\n",
       "      <td>32.653125</td>\n",
       "    </tr>\n",
       "  </tbody>\n",
       "</table>\n",
       "</div>"
      ],
      "text/plain": [
       "                 country  AGR.rgn.mean\n",
       "3   United Arab Emirates     36.512500\n",
       "6    Antigua and Barbuda     32.653125\n",
       "16               Bahrain     36.512500\n",
       "17               Bahamas     32.653125\n",
       "23              Barbados     32.653125"
      ]
     },
     "execution_count": 36,
     "metadata": {},
     "output_type": "execute_result"
    }
   ],
   "source": [
    "regional_means[:5]"
   ]
  },
  {
   "cell_type": "markdown",
   "metadata": {},
   "source": [
    "missing Libya and Palau from the regional data set. Use the value from another country from the same region to get the regional average. "
   ]
  },
  {
   "cell_type": "code",
   "execution_count": 37,
   "metadata": {
    "ExecuteTime": {
     "end_time": "2021-05-13T23:33:15.242106Z",
     "start_time": "2021-05-13T23:33:15.227093Z"
    },
    "scrolled": true
   },
   "outputs": [
    {
     "data": {
      "text/plain": [
       "50    36.5125\n",
       "Name: AGR.rgn.mean, dtype: float64"
      ]
     },
     "execution_count": 37,
     "metadata": {},
     "output_type": "execute_result"
    }
   ],
   "source": [
    "#for Libya use Egypt, since its in the same region:\n",
    "regional[regional['country']=='Egypt']['AGR.rgn.mean']"
   ]
  },
  {
   "cell_type": "code",
   "execution_count": 38,
   "metadata": {
    "ExecuteTime": {
     "end_time": "2021-05-13T23:33:15.258120Z",
     "start_time": "2021-05-13T23:33:15.244108Z"
    }
   },
   "outputs": [],
   "source": [
    "regional_adds = {\n",
    "    'country': \"Libya\",\n",
    "    'AGR.rgn.mean':36.5125\n",
    "    }"
   ]
  },
  {
   "cell_type": "code",
   "execution_count": 39,
   "metadata": {
    "ExecuteTime": {
     "end_time": "2021-05-13T23:33:15.274134Z",
     "start_time": "2021-05-13T23:33:15.260122Z"
    }
   },
   "outputs": [],
   "source": [
    "regional_means = regional_means.append(regional_adds, ignore_index=True)"
   ]
  },
  {
   "cell_type": "code",
   "execution_count": 40,
   "metadata": {
    "ExecuteTime": {
     "end_time": "2021-05-13T23:33:15.290148Z",
     "start_time": "2021-05-13T23:33:15.275135Z"
    },
    "scrolled": true
   },
   "outputs": [
    {
     "data": {
      "text/plain": [
       "131    35.94\n",
       "Name: AGR.rgn.mean, dtype: float64"
      ]
     },
     "execution_count": 40,
     "metadata": {},
     "output_type": "execute_result"
    }
   ],
   "source": [
    "# for palau use the Philippines which is is closest neighbor:\n",
    "regional[regional['country']=='Philippines']['AGR.rgn.mean']"
   ]
  },
  {
   "cell_type": "code",
   "execution_count": 41,
   "metadata": {
    "ExecuteTime": {
     "end_time": "2021-05-13T23:33:15.306162Z",
     "start_time": "2021-05-13T23:33:15.292150Z"
    }
   },
   "outputs": [],
   "source": [
    "regional_adds = {\n",
    "    'country' : 'Palau',\n",
    "    'AGR.rgn.mean':35.94\n",
    "}"
   ]
  },
  {
   "cell_type": "code",
   "execution_count": 42,
   "metadata": {
    "ExecuteTime": {
     "end_time": "2021-05-13T23:33:15.322176Z",
     "start_time": "2021-05-13T23:33:15.307164Z"
    }
   },
   "outputs": [],
   "source": [
    "regional_means = regional_means.append(regional_adds, ignore_index=True)"
   ]
  },
  {
   "cell_type": "code",
   "execution_count": 43,
   "metadata": {
    "ExecuteTime": {
     "end_time": "2021-05-13T23:33:15.337173Z",
     "start_time": "2021-05-13T23:33:15.323178Z"
    }
   },
   "outputs": [],
   "source": [
    "regional_means.set_index(keys = 'country', inplace = True)"
   ]
  },
  {
   "cell_type": "code",
   "execution_count": 44,
   "metadata": {
    "ExecuteTime": {
     "end_time": "2021-05-13T23:33:15.368160Z",
     "start_time": "2021-05-13T23:33:15.338174Z"
    }
   },
   "outputs": [],
   "source": [
    "%%capture #too many slicing warnings\n",
    "for country in ag_countries:\n",
    "    epi.loc[epi['country_name'].isin([country]), 'Agricultural Subsidies'] = regional_means.loc[country][0]    "
   ]
  },
  {
   "cell_type": "markdown",
   "metadata": {},
   "source": [
    "- Inspect other less frequently null columns."
   ]
  },
  {
   "cell_type": "code",
   "execution_count": 45,
   "metadata": {
    "ExecuteTime": {
     "end_time": "2021-05-13T23:33:15.383174Z",
     "start_time": "2021-05-13T23:33:15.369171Z"
    }
   },
   "outputs": [],
   "source": [
    "some_nulls = epi.isnull().sum().sort_values(ascending = False)\n",
    "some_nulls = [column for column, value in some_nulls.items() if value > 0]"
   ]
  },
  {
   "cell_type": "code",
   "execution_count": 46,
   "metadata": {
    "ExecuteTime": {
     "end_time": "2021-05-13T23:33:15.414810Z",
     "start_time": "2021-05-13T23:33:15.385186Z"
    }
   },
   "outputs": [],
   "source": [
    "countries_present = {}\n",
    "for column in some_nulls:\n",
    "    null_countries = set(epi[epi[column].isnull() == True]['country_name'].values)\n",
    "    for country in null_countries:\n",
    "        if country in countries_present:\n",
    "            countries_present[country] = countries_present[country] + 1\n",
    "        else:\n",
    "            countries_present[country] = 1"
   ]
  },
  {
   "cell_type": "code",
   "execution_count": 47,
   "metadata": {
    "ExecuteTime": {
     "end_time": "2021-05-13T23:33:15.429823Z",
     "start_time": "2021-05-13T23:33:15.416811Z"
    }
   },
   "outputs": [
    {
     "data": {
      "text/plain": [
       "{'Brunei Darussalam': 1,\n",
       " 'Guinea-Bissau': 1,\n",
       " 'Maldives': 10,\n",
       " 'Sao Tome and Principe': 7,\n",
       " 'Marshall Islands': 6,\n",
       " 'Saint Lucia': 4,\n",
       " 'Samoa': 4,\n",
       " 'Micronesia': 5,\n",
       " 'Somalia': 1,\n",
       " 'Iraq': 1}"
      ]
     },
     "execution_count": 47,
     "metadata": {},
     "output_type": "execute_result"
    }
   ],
   "source": [
    "countries_present"
   ]
  },
  {
   "cell_type": "code",
   "execution_count": 48,
   "metadata": {
    "ExecuteTime": {
     "end_time": "2021-05-13T23:33:15.445839Z",
     "start_time": "2021-05-13T23:33:15.431825Z"
    }
   },
   "outputs": [],
   "source": [
    "frequent_null_countries = [country for country, value in countries_present.items() if value > 1]"
   ]
  },
  {
   "cell_type": "code",
   "execution_count": 49,
   "metadata": {
    "ExecuteTime": {
     "end_time": "2021-05-13T23:33:15.461132Z",
     "start_time": "2021-05-13T23:33:15.447840Z"
    }
   },
   "outputs": [
    {
     "data": {
      "text/plain": [
       "['Maldives',\n",
       " 'Sao Tome and Principe',\n",
       " 'Marshall Islands',\n",
       " 'Saint Lucia',\n",
       " 'Samoa',\n",
       " 'Micronesia']"
      ]
     },
     "execution_count": 49,
     "metadata": {},
     "output_type": "execute_result"
    }
   ],
   "source": [
    "frequent_null_countries"
   ]
  },
  {
   "cell_type": "code",
   "execution_count": 50,
   "metadata": {
    "ExecuteTime": {
     "end_time": "2021-05-13T23:33:18.954568Z",
     "start_time": "2021-05-13T23:33:15.462133Z"
    }
   },
   "outputs": [
    {
     "data": {
      "image/png": "[encoded data removed]",
      "text/plain": [
       "<Figure size 1759.5x180 with 9 Axes>"
      ]
     },
     "metadata": {},
     "output_type": "display_data"
    }
   ],
   "source": [
    "sns.pairplot(data = epi[epi['country_name'].isin(frequent_null_countries)], y_vars = 'year', x_vars = some_nulls[:9], hue = 'country_name')\n",
    "plt.show()"
   ]
  },
  {
   "cell_type": "code",
   "execution_count": 51,
   "metadata": {
    "ExecuteTime": {
     "end_time": "2021-05-13T23:33:22.134718Z",
     "start_time": "2021-05-13T23:33:18.955569Z"
    }
   },
   "outputs": [
    {
     "data": {
      "image/png": "[encoded data removed]",
      "text/plain": [
       "<Figure size 1579.5x180 with 8 Axes>"
      ]
     },
     "metadata": {},
     "output_type": "display_data"
    }
   ],
   "source": [
    "sns.pairplot(data = epi[epi['country_name'].isin(frequent_null_countries)], y_vars = 'year', x_vars = some_nulls[9:], hue = 'country_name')\n",
    "plt.show()"
   ]
  },
  {
   "cell_type": "markdown",
   "metadata": {},
   "source": [
    "- For similar reasons to the removal of Saint Vincent and the Grenadines, we are removing the Maldives, Samoa, Micronesia, Saint Lucia, the Marshall Islands, and Sao Tome and Principe from the data set. Reiteration of reasons: some categories contain too few non-null entries to confidently impute from, especially when some show high volatility."
   ]
  },
  {
   "cell_type": "code",
   "execution_count": 52,
   "metadata": {
    "ExecuteTime": {
     "end_time": "2021-05-13T23:33:22.150194Z",
     "start_time": "2021-05-13T23:33:22.136708Z"
    }
   },
   "outputs": [],
   "source": [
    "epi = epi[~epi['country_name'].isin(frequent_null_countries)]"
   ]
  },
  {
   "cell_type": "code",
   "execution_count": 53,
   "metadata": {
    "ExecuteTime": {
     "end_time": "2021-05-13T23:33:22.165209Z",
     "start_time": "2021-05-13T23:33:22.152196Z"
    },
    "scrolled": true
   },
   "outputs": [
    {
     "data": {
      "text/plain": [
       "Marine Protected Areas    28\n",
       "GDP                       13\n",
       "dtype: int64"
      ]
     },
     "execution_count": 53,
     "metadata": {},
     "output_type": "execute_result"
    }
   ],
   "source": [
    "nulls = epi.isnull().sum().sort_values(ascending =False)\n",
    "nulls[nulls > 0]"
   ]
  },
  {
   "cell_type": "markdown",
   "metadata": {},
   "source": [
    "- Add Somalia GDP values from secondary source."
   ]
  },
  {
   "cell_type": "code",
   "execution_count": 55,
   "metadata": {
    "ExecuteTime": {
     "end_time": "2021-05-13T23:33:22.228263Z",
     "start_time": "2021-05-13T23:33:22.213250Z"
    }
   },
   "outputs": [
    {
     "data": {
      "text/plain": [
       "1186    Somalia\n",
       "1187    Somalia\n",
       "1188    Somalia\n",
       "1189    Somalia\n",
       "1190    Somalia\n",
       "1191    Somalia\n",
       "1192    Somalia\n",
       "1193    Somalia\n",
       "1194    Somalia\n",
       "1195    Somalia\n",
       "1196    Somalia\n",
       "2760       Iraq\n",
       "2761       Iraq\n",
       "Name: country_name, dtype: object"
      ]
     },
     "execution_count": 55,
     "metadata": {},
     "output_type": "execute_result"
    }
   ],
   "source": [
    "epi[epi['GDP'].isnull() == True]['country_name']"
   ]
  },
  {
   "cell_type": "code",
   "execution_count": 56,
   "metadata": {
    "ExecuteTime": {
     "end_time": "2021-05-13T23:33:22.259140Z",
     "start_time": "2021-05-13T23:33:22.229264Z"
    }
   },
   "outputs": [],
   "source": [
    "somalia_gdp = pd.read_csv('data/GDP_data/Somalia_GDP.csv')"
   ]
  },
  {
   "cell_type": "code",
   "execution_count": 57,
   "metadata": {
    "ExecuteTime": {
     "end_time": "2021-05-13T23:33:22.274153Z",
     "start_time": "2021-05-13T23:33:22.261131Z"
    }
   },
   "outputs": [],
   "source": [
    "somalia_gdp['Annual GDP'] = somalia_gdp['Annual GDP'].map(lambda x: x * 1000000)"
   ]
  },
  {
   "cell_type": "code",
   "execution_count": 58,
   "metadata": {
    "ExecuteTime": {
     "end_time": "2021-05-13T23:33:22.289157Z",
     "start_time": "2021-05-13T23:33:22.276145Z"
    }
   },
   "outputs": [
    {
     "data": {
      "text/html": [
       "<div>\n",
       "<style scoped>\n",
       "    .dataframe tbody tr th:only-of-type {\n",
       "        vertical-align: middle;\n",
       "    }\n",
       "\n",
       "    .dataframe tbody tr th {\n",
       "        vertical-align: top;\n",
       "    }\n",
       "\n",
       "    .dataframe thead th {\n",
       "        text-align: right;\n",
       "    }\n",
       "</style>\n",
       "<table border=\"1\" class=\"dataframe\">\n",
       "  <thead>\n",
       "    <tr style=\"text-align: right;\">\n",
       "      <th></th>\n",
       "      <th>Year</th>\n",
       "      <th>Annual GDP</th>\n",
       "      <th>GDP Growth (%)</th>\n",
       "    </tr>\n",
       "  </thead>\n",
       "  <tbody>\n",
       "    <tr>\n",
       "      <th>0</th>\n",
       "      <td>2019</td>\n",
       "      <td>4.944000e+09</td>\n",
       "      <td>2.90%</td>\n",
       "    </tr>\n",
       "    <tr>\n",
       "      <th>1</th>\n",
       "      <td>2018</td>\n",
       "      <td>4.721000e+09</td>\n",
       "      <td>2.80%</td>\n",
       "    </tr>\n",
       "    <tr>\n",
       "      <th>2</th>\n",
       "      <td>2017</td>\n",
       "      <td>4.509000e+09</td>\n",
       "      <td>1.40%</td>\n",
       "    </tr>\n",
       "    <tr>\n",
       "      <th>3</th>\n",
       "      <td>2016</td>\n",
       "      <td>4.198000e+09</td>\n",
       "      <td>2.90%</td>\n",
       "    </tr>\n",
       "    <tr>\n",
       "      <th>4</th>\n",
       "      <td>2015</td>\n",
       "      <td>4.049000e+09</td>\n",
       "      <td>3.50%</td>\n",
       "    </tr>\n",
       "  </tbody>\n",
       "</table>\n",
       "</div>"
      ],
      "text/plain": [
       "   Year    Annual GDP GDP Growth (%)\n",
       "0  2019  4.944000e+09          2.90%\n",
       "1  2018  4.721000e+09          2.80%\n",
       "2  2017  4.509000e+09          1.40%\n",
       "3  2016  4.198000e+09          2.90%\n",
       "4  2015  4.049000e+09          3.50%"
      ]
     },
     "execution_count": 58,
     "metadata": {},
     "output_type": "execute_result"
    }
   ],
   "source": [
    "somalia_gdp.head()"
   ]
  },
  {
   "cell_type": "code",
   "execution_count": 59,
   "metadata": {
    "ExecuteTime": {
     "end_time": "2021-05-13T23:33:22.304169Z",
     "start_time": "2021-05-13T23:33:22.291158Z"
    }
   },
   "outputs": [],
   "source": [
    "somalia_gdp = somalia_gdp.sort_values(by = 'Year')"
   ]
  },
  {
   "cell_type": "code",
   "execution_count": 60,
   "metadata": {
    "ExecuteTime": {
     "end_time": "2021-05-13T23:33:22.320184Z",
     "start_time": "2021-05-13T23:33:22.305170Z"
    }
   },
   "outputs": [],
   "source": [
    "min_somalia_year = list(epi.loc[epi['country_name'].isin(['Somalia'])]['year'].to_dict().values())[0]\n",
    "max_somalia_year = list(epi.loc[epi['country_name'].isin(['Somalia'])]['year'].to_dict().values())[-1]"
   ]
  },
  {
   "cell_type": "code",
   "execution_count": 61,
   "metadata": {
    "ExecuteTime": {
     "end_time": "2021-05-13T23:33:22.335197Z",
     "start_time": "2021-05-13T23:33:22.322186Z"
    }
   },
   "outputs": [
    {
     "data": {
      "text/plain": [
       "(2002, 2016)"
      ]
     },
     "execution_count": 61,
     "metadata": {},
     "output_type": "execute_result"
    }
   ],
   "source": [
    "min_somalia_year, max_somalia_year"
   ]
  },
  {
   "cell_type": "code",
   "execution_count": 62,
   "metadata": {
    "ExecuteTime": {
     "end_time": "2021-05-13T23:33:22.350410Z",
     "start_time": "2021-05-13T23:33:22.337199Z"
    }
   },
   "outputs": [],
   "source": [
    "somalia_gdp = somalia_gdp[(somalia_gdp['Year'] >= min_somalia_year) & (somalia_gdp['Year'] <= max_somalia_year)]"
   ]
  },
  {
   "cell_type": "code",
   "execution_count": 63,
   "metadata": {
    "ExecuteTime": {
     "end_time": "2021-05-13T23:33:22.365139Z",
     "start_time": "2021-05-13T23:33:22.352412Z"
    }
   },
   "outputs": [],
   "source": [
    "somalia_gdp.set_index(keys = 'Year', inplace = True)"
   ]
  },
  {
   "cell_type": "code",
   "execution_count": 64,
   "metadata": {
    "ExecuteTime": {
     "end_time": "2021-05-13T23:33:22.395888Z",
     "start_time": "2021-05-13T23:33:22.367141Z"
    }
   },
   "outputs": [],
   "source": [
    "%%capture\n",
    "#^too many slicing warnings\n",
    "for year in somalia_gdp.index.tolist():\n",
    "    mask = (epi['country_name'].isin(['Somalia'])) & (epi['year'] == year)\n",
    "    gdp_val = somalia_gdp['Annual GDP'][year]\n",
    "    epi.loc[mask, 'GDP'] = gdp_val"
   ]
  },
  {
   "cell_type": "markdown",
   "metadata": {},
   "source": [
    "Iraq Nulls"
   ]
  },
  {
   "cell_type": "code",
   "execution_count": 83,
   "metadata": {
    "ExecuteTime": {
     "end_time": "2021-05-13T23:57:30.014905Z",
     "start_time": "2021-05-13T23:57:29.998890Z"
    },
    "scrolled": true
   },
   "outputs": [
    {
     "data": {
      "text/plain": [
       "2760    3.662790e+10\n",
       "2761    3.662790e+10\n",
       "2762    3.662790e+10\n",
       "2763    4.995489e+10\n",
       "2764    6.514029e+10\n",
       "2765    8.884005e+10\n",
       "2766    1.320000e+11\n",
       "2767    1.120000e+11\n",
       "2768    1.390000e+11\n",
       "2769    1.860000e+11\n",
       "2770    2.180000e+11\n",
       "2771    2.350000e+11\n",
       "2772    2.350000e+11\n",
       "2773    1.800000e+11\n",
       "2774    3.623712e+11\n",
       "2775    4.120280e+11\n",
       "2776    4.196862e+11\n",
       "2777    4.466649e+11\n",
       "2778    4.466649e+11\n",
       "Name: GDP, dtype: float64"
      ]
     },
     "execution_count": 83,
     "metadata": {},
     "output_type": "execute_result"
    }
   ],
   "source": [
    "epi.loc[epi['country_name']=='Iraq', 'GDP']"
   ]
  },
  {
   "cell_type": "code",
   "execution_count": 82,
   "metadata": {
    "ExecuteTime": {
     "end_time": "2021-05-13T23:57:27.528702Z",
     "start_time": "2021-05-13T23:57:27.509685Z"
    }
   },
   "outputs": [],
   "source": [
    "epi.loc[epi['country_name']=='Iraq', 'GDP'] = epi.loc[epi['country_name']=='Iraq','GDP'].fillna(3.662790e+10)"
   ]
  },
  {
   "cell_type": "markdown",
   "metadata": {},
   "source": [
    "- Impute remaining nulls by padding using existing entries.\n",
    "- Guinea-Bissau and Brunei Darussalam"
   ]
  },
  {
   "cell_type": "code",
   "execution_count": 74,
   "metadata": {
    "ExecuteTime": {
     "end_time": "2021-05-13T23:53:09.141455Z",
     "start_time": "2021-05-13T23:53:09.134449Z"
    }
   },
   "outputs": [
    {
     "data": {
      "text/plain": [
       "493    98.330\n",
       "494    98.330\n",
       "495    98.330\n",
       "496    98.330\n",
       "497    98.330\n",
       "498    98.330\n",
       "499    98.330\n",
       "500    98.330\n",
       "501    98.330\n",
       "502    98.330\n",
       "503    98.330\n",
       "504    98.330\n",
       "505    98.330\n",
       "506    98.330\n",
       "507    98.330\n",
       "508    98.680\n",
       "509    99.030\n",
       "510    79.165\n",
       "511    59.300\n",
       "Name: Marine Protected Areas, dtype: float64"
      ]
     },
     "execution_count": 74,
     "metadata": {},
     "output_type": "execute_result"
    }
   ],
   "source": [
    "epi.loc[epi['country_name']=='Guinea-Bissau', 'Marine Protected Areas']"
   ]
  },
  {
   "cell_type": "code",
   "execution_count": 72,
   "metadata": {
    "ExecuteTime": {
     "end_time": "2021-05-13T23:52:31.064735Z",
     "start_time": "2021-05-13T23:52:31.047720Z"
    }
   },
   "outputs": [],
   "source": [
    "epi.loc[epi['country_name']=='Guinea-Bissau', 'Marine Protected Areas'] = epi.loc[epi['country_name']=='Guinea-Bissau','Marine Protected Areas'].fillna(98.330)"
   ]
  },
  {
   "cell_type": "code",
   "execution_count": 75,
   "metadata": {
    "ExecuteTime": {
     "end_time": "2021-05-13T23:54:09.666344Z",
     "start_time": "2021-05-13T23:54:09.655334Z"
    }
   },
   "outputs": [
    {
     "data": {
      "text/plain": [
       "1741      NaN\n",
       "1742      NaN\n",
       "1743      NaN\n",
       "1744      NaN\n",
       "1745      NaN\n",
       "1746      NaN\n",
       "1747      NaN\n",
       "1748      NaN\n",
       "1749      NaN\n",
       "1750      NaN\n",
       "1751      NaN\n",
       "1752      NaN\n",
       "1753      NaN\n",
       "1754      NaN\n",
       "1755    38.48\n",
       "1756    48.84\n",
       "1757    59.20\n",
       "1758    30.20\n",
       "1759     1.20\n",
       "Name: Marine Protected Areas, dtype: float64"
      ]
     },
     "execution_count": 75,
     "metadata": {},
     "output_type": "execute_result"
    }
   ],
   "source": [
    "epi.loc[epi['country_name']=='Brunei Darussalam', 'Marine Protected Areas']"
   ]
  },
  {
   "cell_type": "code",
   "execution_count": 76,
   "metadata": {
    "ExecuteTime": {
     "end_time": "2021-05-13T23:54:54.583690Z",
     "start_time": "2021-05-13T23:54:54.568677Z"
    }
   },
   "outputs": [],
   "source": [
    "epi.loc[epi['country_name']=='Brunei Darussalam', 'Marine Protected Areas'] = epi.loc[epi['country_name']=='Brunei Darussalam','Marine Protected Areas'].fillna(38.48)"
   ]
  },
  {
   "cell_type": "code",
   "execution_count": 84,
   "metadata": {
    "ExecuteTime": {
     "end_time": "2021-05-13T23:57:33.907894Z",
     "start_time": "2021-05-13T23:57:33.891870Z"
    }
   },
   "outputs": [
    {
     "data": {
      "text/plain": [
       "Series([], dtype: int64)"
      ]
     },
     "execution_count": 84,
     "metadata": {},
     "output_type": "execute_result"
    }
   ],
   "source": [
    "nulls = epi.isnull().sum().sort_values(ascending =False)\n",
    "nulls[nulls > 0]"
   ]
  },
  {
   "cell_type": "markdown",
   "metadata": {},
   "source": [
    "NO NULLS!"
   ]
  },
  {
   "cell_type": "code",
   "execution_count": 86,
   "metadata": {
    "ExecuteTime": {
     "end_time": "2021-05-13T23:59:06.501985Z",
     "start_time": "2021-05-13T23:59:06.372102Z"
    }
   },
   "outputs": [],
   "source": [
    "epi.to_csv('./data/dataframes/epi_cleaned.csv', index=False)"
   ]
  },
  {
   "cell_type": "code",
   "execution_count": 87,
   "metadata": {
    "ExecuteTime": {
     "end_time": "2021-05-14T00:00:40.544019Z",
     "start_time": "2021-05-14T00:00:40.532008Z"
    }
   },
   "outputs": [
    {
     "data": {
      "text/plain": [
       "(3362, 27)"
      ]
     },
     "execution_count": 87,
     "metadata": {},
     "output_type": "execute_result"
    }
   ],
   "source": [
    "epi.shape"
   ]
  },
  {
   "cell_type": "code",
   "execution_count": null,
   "metadata": {},
   "outputs": [],
   "source": []
  }
 ],
 "metadata": {
  "kernelspec": {
   "display_name": "Python 3",
   "language": "python",
   "name": "python3"
  },
  "language_info": {
   "codemirror_mode": {
    "name": "ipython",
    "version": 3
   },
   "file_extension": ".py",
   "mimetype": "text/x-python",
   "name": "python",
   "nbconvert_exporter": "python",
   "pygments_lexer": "ipython3",
   "version": "3.8.5"
  }
 },
 "nbformat": 4,
 "nbformat_minor": 5
}
