{
 "cells": [
  {
   "cell_type": "code",
   "execution_count": 1,
   "metadata": {
    "ExecuteTime": {
     "end_time": "2021-05-13T00:20:08.402034Z",
     "start_time": "2021-05-13T00:20:07.889040Z"
    }
   },
   "outputs": [],
   "source": [
    "import pandas as pd\n",
    "import numpy as np"
   ]
  },
  {
   "cell_type": "code",
   "execution_count": 2,
   "metadata": {
    "ExecuteTime": {
     "end_time": "2021-05-13T00:20:08.514135Z",
     "start_time": "2021-05-13T00:20:08.404036Z"
    }
   },
   "outputs": [],
   "source": [
    "epi = pd.read_csv('../data/EPI_data/ObservationData_rqridaf.csv')"
   ]
  },
  {
   "cell_type": "markdown",
   "metadata": {},
   "source": [
    "***Data Import***"
   ]
  },
  {
   "cell_type": "code",
   "execution_count": 3,
   "metadata": {
    "ExecuteTime": {
     "end_time": "2021-05-13T00:20:08.529716Z",
     "start_time": "2021-05-13T00:20:08.516136Z"
    },
    "tags": []
   },
   "outputs": [],
   "source": [
    "def epi_to_country_data(country_name):\n",
    "    country = epi[epi['location'] == country_name]\n",
    "\n",
    "    indicators = list(country['indicator'].value_counts().to_dict().keys())\n",
    "\n",
    "    min_date = country['Date'].min()\n",
    "    max_date = country['Date'].max()\n",
    "\n",
    "    dates = pd.Series(list(range(min_date, max_date + 1)))\n",
    "    transpose_country = pd.DataFrame()\n",
    "    transpose_country['date'] = dates\n",
    "    transpose_country['country_name'] = country_name\n",
    "\n",
    "    for indicator in indicators:\n",
    "        indicator_df = country[country['indicator'] == indicator]\n",
    "\n",
    "        date_values = {key: None for key in list(range(min_date, max_date + 1))}\n",
    "        for row in indicator_df.iterrows():\n",
    "            date_values[row[1]['Date']] = row[1]['Value']\n",
    "\n",
    "        transpose_country[indicator] = date_values.values()\n",
    "        \n",
    "    return transpose_country"
   ]
  },
  {
   "cell_type": "code",
   "execution_count": 4,
   "metadata": {
    "ExecuteTime": {
     "end_time": "2021-05-13T00:20:08.545731Z",
     "start_time": "2021-05-13T00:20:08.530717Z"
    }
   },
   "outputs": [],
   "source": [
    "best_indicators = [key for key, value in epi['indicator'].value_counts().to_dict().items() if value > 500]"
   ]
  },
  {
   "cell_type": "code",
   "execution_count": 5,
   "metadata": {
    "ExecuteTime": {
     "end_time": "2021-05-13T00:20:08.576758Z",
     "start_time": "2021-05-13T00:20:08.547733Z"
    }
   },
   "outputs": [],
   "source": [
    "epi = epi[epi['indicator'].isin(best_indicators)]"
   ]
  },
  {
   "cell_type": "code",
   "execution_count": 6,
   "metadata": {
    "ExecuteTime": {
     "end_time": "2021-05-13T00:20:24.279147Z",
     "start_time": "2021-05-13T00:20:08.579761Z"
    }
   },
   "outputs": [],
   "source": [
    "epi_new = pd.DataFrame()\n",
    "\n",
    "for country_name in  set(epi['location'].values):\n",
    "    country_df = epi_to_country_data(country_name)\n",
    "    epi_new = pd.concat([epi_new, country_df], ignore_index = True)"
   ]
  },
  {
   "cell_type": "code",
   "execution_count": 7,
   "metadata": {
    "ExecuteTime": {
     "end_time": "2021-05-13T00:20:24.342203Z",
     "start_time": "2021-05-13T00:20:24.281149Z"
    },
    "scrolled": true
   },
   "outputs": [
    {
     "data": {
      "text/html": [
       "<div>\n",
       "<style scoped>\n",
       "    .dataframe tbody tr th:only-of-type {\n",
       "        vertical-align: middle;\n",
       "    }\n",
       "\n",
       "    .dataframe tbody tr th {\n",
       "        vertical-align: top;\n",
       "    }\n",
       "\n",
       "    .dataframe thead th {\n",
       "        text-align: right;\n",
       "    }\n",
       "</style>\n",
       "<table border=\"1\" class=\"dataframe\">\n",
       "  <thead>\n",
       "    <tr style=\"text-align: right;\">\n",
       "      <th></th>\n",
       "      <th>date</th>\n",
       "      <th>country_name</th>\n",
       "      <th>Agriculture</th>\n",
       "      <th>PM2.5 Exposure</th>\n",
       "      <th>Ecosystem Vitality</th>\n",
       "      <th>Environmental Health</th>\n",
       "      <th>Unsafe drinking water</th>\n",
       "      <th>Unsafe sanitation</th>\n",
       "      <th>Environmental Performance Index</th>\n",
       "      <th>Air Quality</th>\n",
       "      <th>...</th>\n",
       "      <th>Pesticide Regulation</th>\n",
       "      <th>Change of Trend in Carbon Intensity</th>\n",
       "      <th>Change in Forest Cover</th>\n",
       "      <th>Agricultural Subsidies</th>\n",
       "      <th>Climate</th>\n",
       "      <th>Fisheries</th>\n",
       "      <th>Coastal Shelf Fishing Pressure</th>\n",
       "      <th>Fish Stock Status</th>\n",
       "      <th>Marine Protected Areas</th>\n",
       "      <th>Critical Habitat Protection</th>\n",
       "    </tr>\n",
       "  </thead>\n",
       "  <tbody>\n",
       "    <tr>\n",
       "      <th>0</th>\n",
       "      <td>2002</td>\n",
       "      <td>Azerbaijan</td>\n",
       "      <td>56</td>\n",
       "      <td>90.94</td>\n",
       "      <td>51.63</td>\n",
       "      <td>50.98</td>\n",
       "      <td>22.43</td>\n",
       "      <td>21.1</td>\n",
       "      <td>51.37</td>\n",
       "      <td>80.05</td>\n",
       "      <td>...</td>\n",
       "      <td>12</td>\n",
       "      <td>78.28</td>\n",
       "      <td>63.12</td>\n",
       "      <td>100</td>\n",
       "      <td>80.88</td>\n",
       "      <td>NaN</td>\n",
       "      <td>NaN</td>\n",
       "      <td>NaN</td>\n",
       "      <td>NaN</td>\n",
       "      <td>NaN</td>\n",
       "    </tr>\n",
       "    <tr>\n",
       "      <th>1</th>\n",
       "      <td>2003</td>\n",
       "      <td>Azerbaijan</td>\n",
       "      <td>56</td>\n",
       "      <td>97.03</td>\n",
       "      <td>51.77</td>\n",
       "      <td>54.39</td>\n",
       "      <td>23.16</td>\n",
       "      <td>22.81</td>\n",
       "      <td>52.82</td>\n",
       "      <td>85.18</td>\n",
       "      <td>...</td>\n",
       "      <td>12</td>\n",
       "      <td>78.28</td>\n",
       "      <td>63.12</td>\n",
       "      <td>100</td>\n",
       "      <td>80.88</td>\n",
       "      <td>NaN</td>\n",
       "      <td>NaN</td>\n",
       "      <td>NaN</td>\n",
       "      <td>NaN</td>\n",
       "      <td>NaN</td>\n",
       "    </tr>\n",
       "    <tr>\n",
       "      <th>2</th>\n",
       "      <td>2004</td>\n",
       "      <td>Azerbaijan</td>\n",
       "      <td>62</td>\n",
       "      <td>99.08</td>\n",
       "      <td>52.87</td>\n",
       "      <td>56.74</td>\n",
       "      <td>23.91</td>\n",
       "      <td>24.66</td>\n",
       "      <td>54.42</td>\n",
       "      <td>87.4</td>\n",
       "      <td>...</td>\n",
       "      <td>24</td>\n",
       "      <td>78.28</td>\n",
       "      <td>63.12</td>\n",
       "      <td>100</td>\n",
       "      <td>80.88</td>\n",
       "      <td>NaN</td>\n",
       "      <td>NaN</td>\n",
       "      <td>NaN</td>\n",
       "      <td>NaN</td>\n",
       "      <td>NaN</td>\n",
       "    </tr>\n",
       "    <tr>\n",
       "      <th>3</th>\n",
       "      <td>2005</td>\n",
       "      <td>Azerbaijan</td>\n",
       "      <td>62</td>\n",
       "      <td>98.83</td>\n",
       "      <td>52.87</td>\n",
       "      <td>58.2</td>\n",
       "      <td>24.68</td>\n",
       "      <td>26.67</td>\n",
       "      <td>55</td>\n",
       "      <td>87.78</td>\n",
       "      <td>...</td>\n",
       "      <td>24</td>\n",
       "      <td>78.28</td>\n",
       "      <td>63.12</td>\n",
       "      <td>100</td>\n",
       "      <td>80.88</td>\n",
       "      <td>NaN</td>\n",
       "      <td>NaN</td>\n",
       "      <td>NaN</td>\n",
       "      <td>NaN</td>\n",
       "      <td>NaN</td>\n",
       "    </tr>\n",
       "    <tr>\n",
       "      <th>4</th>\n",
       "      <td>2006</td>\n",
       "      <td>Azerbaijan</td>\n",
       "      <td>62</td>\n",
       "      <td>94.99</td>\n",
       "      <td>52.87</td>\n",
       "      <td>58.73</td>\n",
       "      <td>25.47</td>\n",
       "      <td>28.87</td>\n",
       "      <td>55.21</td>\n",
       "      <td>86.48</td>\n",
       "      <td>...</td>\n",
       "      <td>24</td>\n",
       "      <td>78.28</td>\n",
       "      <td>63.12</td>\n",
       "      <td>100</td>\n",
       "      <td>80.88</td>\n",
       "      <td>NaN</td>\n",
       "      <td>NaN</td>\n",
       "      <td>NaN</td>\n",
       "      <td>NaN</td>\n",
       "      <td>NaN</td>\n",
       "    </tr>\n",
       "    <tr>\n",
       "      <th>5</th>\n",
       "      <td>2007</td>\n",
       "      <td>Azerbaijan</td>\n",
       "      <td>62</td>\n",
       "      <td>93.35</td>\n",
       "      <td>52.87</td>\n",
       "      <td>59.05</td>\n",
       "      <td>26.28</td>\n",
       "      <td>31.3</td>\n",
       "      <td>55.34</td>\n",
       "      <td>85.44</td>\n",
       "      <td>...</td>\n",
       "      <td>24</td>\n",
       "      <td>78.28</td>\n",
       "      <td>63.12</td>\n",
       "      <td>100</td>\n",
       "      <td>80.88</td>\n",
       "      <td>NaN</td>\n",
       "      <td>NaN</td>\n",
       "      <td>NaN</td>\n",
       "      <td>NaN</td>\n",
       "      <td>NaN</td>\n",
       "    </tr>\n",
       "    <tr>\n",
       "      <th>6</th>\n",
       "      <td>2008</td>\n",
       "      <td>Azerbaijan</td>\n",
       "      <td>62</td>\n",
       "      <td>93.85</td>\n",
       "      <td>52.87</td>\n",
       "      <td>59.95</td>\n",
       "      <td>27.11</td>\n",
       "      <td>34.02</td>\n",
       "      <td>55.7</td>\n",
       "      <td>86.54</td>\n",
       "      <td>...</td>\n",
       "      <td>24</td>\n",
       "      <td>78.28</td>\n",
       "      <td>63.12</td>\n",
       "      <td>100</td>\n",
       "      <td>80.88</td>\n",
       "      <td>NaN</td>\n",
       "      <td>NaN</td>\n",
       "      <td>NaN</td>\n",
       "      <td>NaN</td>\n",
       "      <td>NaN</td>\n",
       "    </tr>\n",
       "    <tr>\n",
       "      <th>7</th>\n",
       "      <td>2009</td>\n",
       "      <td>Azerbaijan</td>\n",
       "      <td>62</td>\n",
       "      <td>92.68</td>\n",
       "      <td>52.87</td>\n",
       "      <td>59.61</td>\n",
       "      <td>27.15</td>\n",
       "      <td>34.04</td>\n",
       "      <td>55.57</td>\n",
       "      <td>86.01</td>\n",
       "      <td>...</td>\n",
       "      <td>24</td>\n",
       "      <td>78.28</td>\n",
       "      <td>63.12</td>\n",
       "      <td>100</td>\n",
       "      <td>80.88</td>\n",
       "      <td>NaN</td>\n",
       "      <td>NaN</td>\n",
       "      <td>NaN</td>\n",
       "      <td>NaN</td>\n",
       "      <td>NaN</td>\n",
       "    </tr>\n",
       "    <tr>\n",
       "      <th>8</th>\n",
       "      <td>2010</td>\n",
       "      <td>Azerbaijan</td>\n",
       "      <td>62</td>\n",
       "      <td>93.35</td>\n",
       "      <td>52.87</td>\n",
       "      <td>59.87</td>\n",
       "      <td>27.19</td>\n",
       "      <td>34.06</td>\n",
       "      <td>55.67</td>\n",
       "      <td>87.42</td>\n",
       "      <td>...</td>\n",
       "      <td>24</td>\n",
       "      <td>78.28</td>\n",
       "      <td>63.12</td>\n",
       "      <td>100</td>\n",
       "      <td>80.88</td>\n",
       "      <td>NaN</td>\n",
       "      <td>NaN</td>\n",
       "      <td>NaN</td>\n",
       "      <td>NaN</td>\n",
       "      <td>NaN</td>\n",
       "    </tr>\n",
       "    <tr>\n",
       "      <th>9</th>\n",
       "      <td>2011</td>\n",
       "      <td>Azerbaijan</td>\n",
       "      <td>62</td>\n",
       "      <td>91.64</td>\n",
       "      <td>52.87</td>\n",
       "      <td>59.14</td>\n",
       "      <td>27.24</td>\n",
       "      <td>34.08</td>\n",
       "      <td>55.38</td>\n",
       "      <td>85.77</td>\n",
       "      <td>...</td>\n",
       "      <td>24</td>\n",
       "      <td>78.28</td>\n",
       "      <td>63.12</td>\n",
       "      <td>100</td>\n",
       "      <td>80.88</td>\n",
       "      <td>NaN</td>\n",
       "      <td>NaN</td>\n",
       "      <td>NaN</td>\n",
       "      <td>NaN</td>\n",
       "      <td>NaN</td>\n",
       "    </tr>\n",
       "    <tr>\n",
       "      <th>10</th>\n",
       "      <td>2012</td>\n",
       "      <td>Azerbaijan</td>\n",
       "      <td>62</td>\n",
       "      <td>93.52</td>\n",
       "      <td>52.87</td>\n",
       "      <td>59.37</td>\n",
       "      <td>27.24</td>\n",
       "      <td>34.08</td>\n",
       "      <td>55.47</td>\n",
       "      <td>86.87</td>\n",
       "      <td>...</td>\n",
       "      <td>24</td>\n",
       "      <td>78.28</td>\n",
       "      <td>63.12</td>\n",
       "      <td>100</td>\n",
       "      <td>80.88</td>\n",
       "      <td>NaN</td>\n",
       "      <td>NaN</td>\n",
       "      <td>NaN</td>\n",
       "      <td>NaN</td>\n",
       "      <td>NaN</td>\n",
       "    </tr>\n",
       "    <tr>\n",
       "      <th>11</th>\n",
       "      <td>2013</td>\n",
       "      <td>Azerbaijan</td>\n",
       "      <td>None</td>\n",
       "      <td>None</td>\n",
       "      <td>None</td>\n",
       "      <td>None</td>\n",
       "      <td>None</td>\n",
       "      <td>None</td>\n",
       "      <td>None</td>\n",
       "      <td>None</td>\n",
       "      <td>...</td>\n",
       "      <td>None</td>\n",
       "      <td>None</td>\n",
       "      <td>None</td>\n",
       "      <td>None</td>\n",
       "      <td>None</td>\n",
       "      <td>NaN</td>\n",
       "      <td>NaN</td>\n",
       "      <td>NaN</td>\n",
       "      <td>NaN</td>\n",
       "      <td>NaN</td>\n",
       "    </tr>\n",
       "    <tr>\n",
       "      <th>12</th>\n",
       "      <td>2014</td>\n",
       "      <td>Azerbaijan</td>\n",
       "      <td>62</td>\n",
       "      <td>93.52</td>\n",
       "      <td>52.87</td>\n",
       "      <td>59.37</td>\n",
       "      <td>27.24</td>\n",
       "      <td>34.08</td>\n",
       "      <td>55.47</td>\n",
       "      <td>86.87</td>\n",
       "      <td>...</td>\n",
       "      <td>24</td>\n",
       "      <td>78.28</td>\n",
       "      <td>63.12</td>\n",
       "      <td>100</td>\n",
       "      <td>None</td>\n",
       "      <td>NaN</td>\n",
       "      <td>NaN</td>\n",
       "      <td>NaN</td>\n",
       "      <td>NaN</td>\n",
       "      <td>NaN</td>\n",
       "    </tr>\n",
       "    <tr>\n",
       "      <th>13</th>\n",
       "      <td>2015</td>\n",
       "      <td>Azerbaijan</td>\n",
       "      <td>None</td>\n",
       "      <td>None</td>\n",
       "      <td>None</td>\n",
       "      <td>None</td>\n",
       "      <td>None</td>\n",
       "      <td>None</td>\n",
       "      <td>None</td>\n",
       "      <td>None</td>\n",
       "      <td>...</td>\n",
       "      <td>None</td>\n",
       "      <td>None</td>\n",
       "      <td>None</td>\n",
       "      <td>None</td>\n",
       "      <td>None</td>\n",
       "      <td>NaN</td>\n",
       "      <td>NaN</td>\n",
       "      <td>NaN</td>\n",
       "      <td>NaN</td>\n",
       "      <td>NaN</td>\n",
       "    </tr>\n",
       "    <tr>\n",
       "      <th>14</th>\n",
       "      <td>2016</td>\n",
       "      <td>Azerbaijan</td>\n",
       "      <td>98.18</td>\n",
       "      <td>92.09</td>\n",
       "      <td>84.6</td>\n",
       "      <td>82.96</td>\n",
       "      <td>66.72</td>\n",
       "      <td>82.38</td>\n",
       "      <td>83.78</td>\n",
       "      <td>80.99</td>\n",
       "      <td>...</td>\n",
       "      <td>None</td>\n",
       "      <td>None</td>\n",
       "      <td>None</td>\n",
       "      <td>None</td>\n",
       "      <td>None</td>\n",
       "      <td>NaN</td>\n",
       "      <td>NaN</td>\n",
       "      <td>NaN</td>\n",
       "      <td>NaN</td>\n",
       "      <td>NaN</td>\n",
       "    </tr>\n",
       "    <tr>\n",
       "      <th>15</th>\n",
       "      <td>2017</td>\n",
       "      <td>Azerbaijan</td>\n",
       "      <td>None</td>\n",
       "      <td>None</td>\n",
       "      <td>None</td>\n",
       "      <td>None</td>\n",
       "      <td>None</td>\n",
       "      <td>None</td>\n",
       "      <td>None</td>\n",
       "      <td>None</td>\n",
       "      <td>...</td>\n",
       "      <td>None</td>\n",
       "      <td>None</td>\n",
       "      <td>None</td>\n",
       "      <td>None</td>\n",
       "      <td>None</td>\n",
       "      <td>NaN</td>\n",
       "      <td>NaN</td>\n",
       "      <td>NaN</td>\n",
       "      <td>NaN</td>\n",
       "      <td>NaN</td>\n",
       "    </tr>\n",
       "    <tr>\n",
       "      <th>16</th>\n",
       "      <td>2018</td>\n",
       "      <td>Azerbaijan</td>\n",
       "      <td>39.76</td>\n",
       "      <td>53.14</td>\n",
       "      <td>71.52</td>\n",
       "      <td>48.55</td>\n",
       "      <td>51.28</td>\n",
       "      <td>45.77</td>\n",
       "      <td>62.33</td>\n",
       "      <td>47.44</td>\n",
       "      <td>...</td>\n",
       "      <td>None</td>\n",
       "      <td>None</td>\n",
       "      <td>None</td>\n",
       "      <td>None</td>\n",
       "      <td>None</td>\n",
       "      <td>NaN</td>\n",
       "      <td>NaN</td>\n",
       "      <td>NaN</td>\n",
       "      <td>NaN</td>\n",
       "      <td>NaN</td>\n",
       "    </tr>\n",
       "    <tr>\n",
       "      <th>17</th>\n",
       "      <td>2019</td>\n",
       "      <td>Azerbaijan</td>\n",
       "      <td>None</td>\n",
       "      <td>None</td>\n",
       "      <td>None</td>\n",
       "      <td>None</td>\n",
       "      <td>None</td>\n",
       "      <td>None</td>\n",
       "      <td>None</td>\n",
       "      <td>None</td>\n",
       "      <td>...</td>\n",
       "      <td>None</td>\n",
       "      <td>None</td>\n",
       "      <td>None</td>\n",
       "      <td>None</td>\n",
       "      <td>None</td>\n",
       "      <td>NaN</td>\n",
       "      <td>NaN</td>\n",
       "      <td>NaN</td>\n",
       "      <td>NaN</td>\n",
       "      <td>NaN</td>\n",
       "    </tr>\n",
       "    <tr>\n",
       "      <th>18</th>\n",
       "      <td>2020</td>\n",
       "      <td>Azerbaijan</td>\n",
       "      <td>64.3</td>\n",
       "      <td>12.7</td>\n",
       "      <td>55.7</td>\n",
       "      <td>32.7</td>\n",
       "      <td>46.4</td>\n",
       "      <td>44.3</td>\n",
       "      <td>46.5</td>\n",
       "      <td>24.9</td>\n",
       "      <td>...</td>\n",
       "      <td>None</td>\n",
       "      <td>None</td>\n",
       "      <td>None</td>\n",
       "      <td>None</td>\n",
       "      <td>None</td>\n",
       "      <td>NaN</td>\n",
       "      <td>NaN</td>\n",
       "      <td>NaN</td>\n",
       "      <td>NaN</td>\n",
       "      <td>NaN</td>\n",
       "    </tr>\n",
       "    <tr>\n",
       "      <th>19</th>\n",
       "      <td>2012</td>\n",
       "      <td>Guadeloupe</td>\n",
       "      <td>NaN</td>\n",
       "      <td>100</td>\n",
       "      <td>NaN</td>\n",
       "      <td>NaN</td>\n",
       "      <td>87.8</td>\n",
       "      <td>68.43</td>\n",
       "      <td>NaN</td>\n",
       "      <td>NaN</td>\n",
       "      <td>...</td>\n",
       "      <td>NaN</td>\n",
       "      <td>NaN</td>\n",
       "      <td>55.41</td>\n",
       "      <td>NaN</td>\n",
       "      <td>NaN</td>\n",
       "      <td>42.77</td>\n",
       "      <td>64.81</td>\n",
       "      <td>20.73</td>\n",
       "      <td>NaN</td>\n",
       "      <td>NaN</td>\n",
       "    </tr>\n",
       "    <tr>\n",
       "      <th>20</th>\n",
       "      <td>2002</td>\n",
       "      <td>Timor-Leste</td>\n",
       "      <td>50</td>\n",
       "      <td>100</td>\n",
       "      <td>20.12</td>\n",
       "      <td>37.59</td>\n",
       "      <td>9.24</td>\n",
       "      <td>7.02</td>\n",
       "      <td>27.11</td>\n",
       "      <td>69.33</td>\n",
       "      <td>...</td>\n",
       "      <td>0</td>\n",
       "      <td>NaN</td>\n",
       "      <td>31.35</td>\n",
       "      <td>100</td>\n",
       "      <td>NaN</td>\n",
       "      <td>60.17</td>\n",
       "      <td>98.92</td>\n",
       "      <td>21.43</td>\n",
       "      <td>0</td>\n",
       "      <td>NaN</td>\n",
       "    </tr>\n",
       "    <tr>\n",
       "      <th>21</th>\n",
       "      <td>2003</td>\n",
       "      <td>Timor-Leste</td>\n",
       "      <td>50</td>\n",
       "      <td>100</td>\n",
       "      <td>20.96</td>\n",
       "      <td>38.28</td>\n",
       "      <td>9.96</td>\n",
       "      <td>7.05</td>\n",
       "      <td>27.89</td>\n",
       "      <td>69.33</td>\n",
       "      <td>...</td>\n",
       "      <td>0</td>\n",
       "      <td>NaN</td>\n",
       "      <td>31.35</td>\n",
       "      <td>100</td>\n",
       "      <td>NaN</td>\n",
       "      <td>66.46</td>\n",
       "      <td>98.92</td>\n",
       "      <td>34.01</td>\n",
       "      <td>0</td>\n",
       "      <td>NaN</td>\n",
       "    </tr>\n",
       "    <tr>\n",
       "      <th>22</th>\n",
       "      <td>2004</td>\n",
       "      <td>Timor-Leste</td>\n",
       "      <td>50</td>\n",
       "      <td>100</td>\n",
       "      <td>20.18</td>\n",
       "      <td>38.96</td>\n",
       "      <td>10.71</td>\n",
       "      <td>7.09</td>\n",
       "      <td>27.69</td>\n",
       "      <td>69.33</td>\n",
       "      <td>...</td>\n",
       "      <td>0</td>\n",
       "      <td>NaN</td>\n",
       "      <td>31.35</td>\n",
       "      <td>100</td>\n",
       "      <td>NaN</td>\n",
       "      <td>60.65</td>\n",
       "      <td>98.92</td>\n",
       "      <td>22.37</td>\n",
       "      <td>0</td>\n",
       "      <td>NaN</td>\n",
       "    </tr>\n",
       "    <tr>\n",
       "      <th>23</th>\n",
       "      <td>2005</td>\n",
       "      <td>Timor-Leste</td>\n",
       "      <td>50</td>\n",
       "      <td>100</td>\n",
       "      <td>20.25</td>\n",
       "      <td>39.65</td>\n",
       "      <td>11.5</td>\n",
       "      <td>7.12</td>\n",
       "      <td>28.01</td>\n",
       "      <td>69.33</td>\n",
       "      <td>...</td>\n",
       "      <td>0</td>\n",
       "      <td>NaN</td>\n",
       "      <td>31.35</td>\n",
       "      <td>100</td>\n",
       "      <td>NaN</td>\n",
       "      <td>61.17</td>\n",
       "      <td>98.92</td>\n",
       "      <td>23.42</td>\n",
       "      <td>0</td>\n",
       "      <td>NaN</td>\n",
       "    </tr>\n",
       "    <tr>\n",
       "      <th>24</th>\n",
       "      <td>2006</td>\n",
       "      <td>Timor-Leste</td>\n",
       "      <td>50</td>\n",
       "      <td>100</td>\n",
       "      <td>20.25</td>\n",
       "      <td>40.36</td>\n",
       "      <td>12.31</td>\n",
       "      <td>7.17</td>\n",
       "      <td>28.29</td>\n",
       "      <td>69.33</td>\n",
       "      <td>...</td>\n",
       "      <td>0</td>\n",
       "      <td>NaN</td>\n",
       "      <td>31.35</td>\n",
       "      <td>100</td>\n",
       "      <td>NaN</td>\n",
       "      <td>61.17</td>\n",
       "      <td>98.92</td>\n",
       "      <td>23.42</td>\n",
       "      <td>0</td>\n",
       "      <td>NaN</td>\n",
       "    </tr>\n",
       "    <tr>\n",
       "      <th>25</th>\n",
       "      <td>2007</td>\n",
       "      <td>Timor-Leste</td>\n",
       "      <td>50</td>\n",
       "      <td>100</td>\n",
       "      <td>21.13</td>\n",
       "      <td>41.08</td>\n",
       "      <td>13.16</td>\n",
       "      <td>7.22</td>\n",
       "      <td>29.11</td>\n",
       "      <td>69.33</td>\n",
       "      <td>...</td>\n",
       "      <td>0</td>\n",
       "      <td>NaN</td>\n",
       "      <td>31.35</td>\n",
       "      <td>100</td>\n",
       "      <td>NaN</td>\n",
       "      <td>60.73</td>\n",
       "      <td>98.92</td>\n",
       "      <td>22.54</td>\n",
       "      <td>0</td>\n",
       "      <td>NaN</td>\n",
       "    </tr>\n",
       "    <tr>\n",
       "      <th>26</th>\n",
       "      <td>2008</td>\n",
       "      <td>Timor-Leste</td>\n",
       "      <td>50</td>\n",
       "      <td>100</td>\n",
       "      <td>35.67</td>\n",
       "      <td>41.83</td>\n",
       "      <td>14.05</td>\n",
       "      <td>7.27</td>\n",
       "      <td>38.13</td>\n",
       "      <td>69.33</td>\n",
       "      <td>...</td>\n",
       "      <td>0</td>\n",
       "      <td>NaN</td>\n",
       "      <td>31.35</td>\n",
       "      <td>100</td>\n",
       "      <td>NaN</td>\n",
       "      <td>59.32</td>\n",
       "      <td>98.92</td>\n",
       "      <td>19.72</td>\n",
       "      <td>79.51</td>\n",
       "      <td>NaN</td>\n",
       "    </tr>\n",
       "    <tr>\n",
       "      <th>27</th>\n",
       "      <td>2009</td>\n",
       "      <td>Timor-Leste</td>\n",
       "      <td>50</td>\n",
       "      <td>100</td>\n",
       "      <td>36.03</td>\n",
       "      <td>42.61</td>\n",
       "      <td>14.98</td>\n",
       "      <td>7.33</td>\n",
       "      <td>38.67</td>\n",
       "      <td>69.33</td>\n",
       "      <td>...</td>\n",
       "      <td>0</td>\n",
       "      <td>NaN</td>\n",
       "      <td>31.35</td>\n",
       "      <td>100</td>\n",
       "      <td>NaN</td>\n",
       "      <td>62.08</td>\n",
       "      <td>98.92</td>\n",
       "      <td>25.23</td>\n",
       "      <td>79.51</td>\n",
       "      <td>NaN</td>\n",
       "    </tr>\n",
       "    <tr>\n",
       "      <th>28</th>\n",
       "      <td>2010</td>\n",
       "      <td>Timor-Leste</td>\n",
       "      <td>50</td>\n",
       "      <td>100</td>\n",
       "      <td>35.56</td>\n",
       "      <td>43.43</td>\n",
       "      <td>15.95</td>\n",
       "      <td>7.39</td>\n",
       "      <td>38.71</td>\n",
       "      <td>69.33</td>\n",
       "      <td>...</td>\n",
       "      <td>0</td>\n",
       "      <td>NaN</td>\n",
       "      <td>31.35</td>\n",
       "      <td>100</td>\n",
       "      <td>NaN</td>\n",
       "      <td>58.55</td>\n",
       "      <td>98.92</td>\n",
       "      <td>18.18</td>\n",
       "      <td>79.51</td>\n",
       "      <td>NaN</td>\n",
       "    </tr>\n",
       "    <tr>\n",
       "      <th>29</th>\n",
       "      <td>2011</td>\n",
       "      <td>Timor-Leste</td>\n",
       "      <td>50</td>\n",
       "      <td>100</td>\n",
       "      <td>35.74</td>\n",
       "      <td>44.26</td>\n",
       "      <td>16.98</td>\n",
       "      <td>7.46</td>\n",
       "      <td>39.15</td>\n",
       "      <td>69.33</td>\n",
       "      <td>...</td>\n",
       "      <td>0</td>\n",
       "      <td>NaN</td>\n",
       "      <td>31.35</td>\n",
       "      <td>100</td>\n",
       "      <td>NaN</td>\n",
       "      <td>59.87</td>\n",
       "      <td>98.92</td>\n",
       "      <td>20.81</td>\n",
       "      <td>79.51</td>\n",
       "      <td>NaN</td>\n",
       "    </tr>\n",
       "    <tr>\n",
       "      <th>30</th>\n",
       "      <td>2012</td>\n",
       "      <td>Timor-Leste</td>\n",
       "      <td>50</td>\n",
       "      <td>100</td>\n",
       "      <td>35.74</td>\n",
       "      <td>44.92</td>\n",
       "      <td>16.98</td>\n",
       "      <td>7.46</td>\n",
       "      <td>39.41</td>\n",
       "      <td>69.33</td>\n",
       "      <td>...</td>\n",
       "      <td>0</td>\n",
       "      <td>NaN</td>\n",
       "      <td>31.35</td>\n",
       "      <td>100</td>\n",
       "      <td>NaN</td>\n",
       "      <td>59.87</td>\n",
       "      <td>98.92</td>\n",
       "      <td>20.81</td>\n",
       "      <td>79.51</td>\n",
       "      <td>NaN</td>\n",
       "    </tr>\n",
       "    <tr>\n",
       "      <th>31</th>\n",
       "      <td>2013</td>\n",
       "      <td>Timor-Leste</td>\n",
       "      <td>None</td>\n",
       "      <td>None</td>\n",
       "      <td>None</td>\n",
       "      <td>None</td>\n",
       "      <td>None</td>\n",
       "      <td>None</td>\n",
       "      <td>None</td>\n",
       "      <td>None</td>\n",
       "      <td>...</td>\n",
       "      <td>None</td>\n",
       "      <td>NaN</td>\n",
       "      <td>None</td>\n",
       "      <td>None</td>\n",
       "      <td>NaN</td>\n",
       "      <td>None</td>\n",
       "      <td>None</td>\n",
       "      <td>None</td>\n",
       "      <td>None</td>\n",
       "      <td>NaN</td>\n",
       "    </tr>\n",
       "    <tr>\n",
       "      <th>32</th>\n",
       "      <td>2014</td>\n",
       "      <td>Timor-Leste</td>\n",
       "      <td>50</td>\n",
       "      <td>100</td>\n",
       "      <td>35.74</td>\n",
       "      <td>44.92</td>\n",
       "      <td>16.98</td>\n",
       "      <td>7.46</td>\n",
       "      <td>39.41</td>\n",
       "      <td>69.33</td>\n",
       "      <td>...</td>\n",
       "      <td>0</td>\n",
       "      <td>NaN</td>\n",
       "      <td>31.35</td>\n",
       "      <td>100</td>\n",
       "      <td>NaN</td>\n",
       "      <td>59.87</td>\n",
       "      <td>98.92</td>\n",
       "      <td>20.81</td>\n",
       "      <td>79.51</td>\n",
       "      <td>NaN</td>\n",
       "    </tr>\n",
       "    <tr>\n",
       "      <th>33</th>\n",
       "      <td>2015</td>\n",
       "      <td>Timor-Leste</td>\n",
       "      <td>None</td>\n",
       "      <td>None</td>\n",
       "      <td>None</td>\n",
       "      <td>None</td>\n",
       "      <td>None</td>\n",
       "      <td>None</td>\n",
       "      <td>None</td>\n",
       "      <td>None</td>\n",
       "      <td>...</td>\n",
       "      <td>None</td>\n",
       "      <td>NaN</td>\n",
       "      <td>None</td>\n",
       "      <td>None</td>\n",
       "      <td>NaN</td>\n",
       "      <td>None</td>\n",
       "      <td>None</td>\n",
       "      <td>None</td>\n",
       "      <td>None</td>\n",
       "      <td>NaN</td>\n",
       "    </tr>\n",
       "    <tr>\n",
       "      <th>34</th>\n",
       "      <td>2016</td>\n",
       "      <td>Timor-Leste</td>\n",
       "      <td>100</td>\n",
       "      <td>100</td>\n",
       "      <td>47.54</td>\n",
       "      <td>64.04</td>\n",
       "      <td>46.48</td>\n",
       "      <td>56.23</td>\n",
       "      <td>55.79</td>\n",
       "      <td>78.79</td>\n",
       "      <td>...</td>\n",
       "      <td>None</td>\n",
       "      <td>NaN</td>\n",
       "      <td>None</td>\n",
       "      <td>None</td>\n",
       "      <td>NaN</td>\n",
       "      <td>45.22</td>\n",
       "      <td>None</td>\n",
       "      <td>45.22</td>\n",
       "      <td>85.23</td>\n",
       "      <td>NaN</td>\n",
       "    </tr>\n",
       "    <tr>\n",
       "      <th>35</th>\n",
       "      <td>2017</td>\n",
       "      <td>Timor-Leste</td>\n",
       "      <td>None</td>\n",
       "      <td>None</td>\n",
       "      <td>None</td>\n",
       "      <td>None</td>\n",
       "      <td>None</td>\n",
       "      <td>None</td>\n",
       "      <td>None</td>\n",
       "      <td>None</td>\n",
       "      <td>...</td>\n",
       "      <td>None</td>\n",
       "      <td>NaN</td>\n",
       "      <td>None</td>\n",
       "      <td>None</td>\n",
       "      <td>NaN</td>\n",
       "      <td>None</td>\n",
       "      <td>None</td>\n",
       "      <td>None</td>\n",
       "      <td>None</td>\n",
       "      <td>NaN</td>\n",
       "    </tr>\n",
       "    <tr>\n",
       "      <th>36</th>\n",
       "      <td>2018</td>\n",
       "      <td>Timor-Leste</td>\n",
       "      <td>29.38</td>\n",
       "      <td>100</td>\n",
       "      <td>48.56</td>\n",
       "      <td>51.02</td>\n",
       "      <td>24.73</td>\n",
       "      <td>21</td>\n",
       "      <td>49.54</td>\n",
       "      <td>64.77</td>\n",
       "      <td>...</td>\n",
       "      <td>None</td>\n",
       "      <td>NaN</td>\n",
       "      <td>None</td>\n",
       "      <td>None</td>\n",
       "      <td>NaN</td>\n",
       "      <td>63.43</td>\n",
       "      <td>None</td>\n",
       "      <td>89.87</td>\n",
       "      <td>81.38</td>\n",
       "      <td>NaN</td>\n",
       "    </tr>\n",
       "    <tr>\n",
       "      <th>37</th>\n",
       "      <td>2019</td>\n",
       "      <td>Timor-Leste</td>\n",
       "      <td>None</td>\n",
       "      <td>None</td>\n",
       "      <td>None</td>\n",
       "      <td>None</td>\n",
       "      <td>None</td>\n",
       "      <td>None</td>\n",
       "      <td>None</td>\n",
       "      <td>None</td>\n",
       "      <td>...</td>\n",
       "      <td>None</td>\n",
       "      <td>NaN</td>\n",
       "      <td>None</td>\n",
       "      <td>None</td>\n",
       "      <td>NaN</td>\n",
       "      <td>None</td>\n",
       "      <td>None</td>\n",
       "      <td>None</td>\n",
       "      <td>None</td>\n",
       "      <td>NaN</td>\n",
       "    </tr>\n",
       "    <tr>\n",
       "      <th>38</th>\n",
       "      <td>2020</td>\n",
       "      <td>Timor-Leste</td>\n",
       "      <td>34.9</td>\n",
       "      <td>49</td>\n",
       "      <td>39.5</td>\n",
       "      <td>28.9</td>\n",
       "      <td>26.1</td>\n",
       "      <td>25.6</td>\n",
       "      <td>35.3</td>\n",
       "      <td>33.6</td>\n",
       "      <td>...</td>\n",
       "      <td>None</td>\n",
       "      <td>NaN</td>\n",
       "      <td>None</td>\n",
       "      <td>None</td>\n",
       "      <td>NaN</td>\n",
       "      <td>46.8</td>\n",
       "      <td>None</td>\n",
       "      <td>18.6</td>\n",
       "      <td>0</td>\n",
       "      <td>NaN</td>\n",
       "    </tr>\n",
       "    <tr>\n",
       "      <th>39</th>\n",
       "      <td>2002</td>\n",
       "      <td>Nigeria</td>\n",
       "      <td>88</td>\n",
       "      <td>100</td>\n",
       "      <td>42.35</td>\n",
       "      <td>30.95</td>\n",
       "      <td>8.77</td>\n",
       "      <td>5.74</td>\n",
       "      <td>37.79</td>\n",
       "      <td>73.59</td>\n",
       "      <td>...</td>\n",
       "      <td>76</td>\n",
       "      <td>90</td>\n",
       "      <td>29.16</td>\n",
       "      <td>100</td>\n",
       "      <td>70.55</td>\n",
       "      <td>27.37</td>\n",
       "      <td>24.26</td>\n",
       "      <td>30.48</td>\n",
       "      <td>45.96</td>\n",
       "      <td>50</td>\n",
       "    </tr>\n",
       "    <tr>\n",
       "      <th>40</th>\n",
       "      <td>2003</td>\n",
       "      <td>Nigeria</td>\n",
       "      <td>88</td>\n",
       "      <td>100</td>\n",
       "      <td>42.42</td>\n",
       "      <td>30.89</td>\n",
       "      <td>9.11</td>\n",
       "      <td>5.63</td>\n",
       "      <td>37.81</td>\n",
       "      <td>72.2</td>\n",
       "      <td>...</td>\n",
       "      <td>76</td>\n",
       "      <td>90</td>\n",
       "      <td>29.16</td>\n",
       "      <td>100</td>\n",
       "      <td>70.55</td>\n",
       "      <td>28.06</td>\n",
       "      <td>23.69</td>\n",
       "      <td>32.43</td>\n",
       "      <td>45.96</td>\n",
       "      <td>50</td>\n",
       "    </tr>\n",
       "    <tr>\n",
       "      <th>41</th>\n",
       "      <td>2004</td>\n",
       "      <td>Nigeria</td>\n",
       "      <td>92</td>\n",
       "      <td>100</td>\n",
       "      <td>42.44</td>\n",
       "      <td>31.3</td>\n",
       "      <td>9.44</td>\n",
       "      <td>5.51</td>\n",
       "      <td>37.99</td>\n",
       "      <td>72.14</td>\n",
       "      <td>...</td>\n",
       "      <td>84</td>\n",
       "      <td>90</td>\n",
       "      <td>29.16</td>\n",
       "      <td>100</td>\n",
       "      <td>70.55</td>\n",
       "      <td>26.35</td>\n",
       "      <td>24.51</td>\n",
       "      <td>28.19</td>\n",
       "      <td>45.96</td>\n",
       "      <td>50</td>\n",
       "    </tr>\n",
       "    <tr>\n",
       "      <th>42</th>\n",
       "      <td>2005</td>\n",
       "      <td>Nigeria</td>\n",
       "      <td>65.54</td>\n",
       "      <td>100</td>\n",
       "      <td>40.88</td>\n",
       "      <td>31.1</td>\n",
       "      <td>9.77</td>\n",
       "      <td>5.4</td>\n",
       "      <td>36.97</td>\n",
       "      <td>70.27</td>\n",
       "      <td>...</td>\n",
       "      <td>84</td>\n",
       "      <td>90</td>\n",
       "      <td>29.16</td>\n",
       "      <td>47.07</td>\n",
       "      <td>70.55</td>\n",
       "      <td>23.9</td>\n",
       "      <td>23.56</td>\n",
       "      <td>24.24</td>\n",
       "      <td>45.96</td>\n",
       "      <td>50</td>\n",
       "    </tr>\n",
       "    <tr>\n",
       "      <th>43</th>\n",
       "      <td>2006</td>\n",
       "      <td>Nigeria</td>\n",
       "      <td>63.27</td>\n",
       "      <td>100</td>\n",
       "      <td>40.84</td>\n",
       "      <td>31.29</td>\n",
       "      <td>10.09</td>\n",
       "      <td>5.28</td>\n",
       "      <td>37.02</td>\n",
       "      <td>69.6</td>\n",
       "      <td>...</td>\n",
       "      <td>84</td>\n",
       "      <td>90</td>\n",
       "      <td>29.16</td>\n",
       "      <td>42.54</td>\n",
       "      <td>70.55</td>\n",
       "      <td>24.67</td>\n",
       "      <td>23.14</td>\n",
       "      <td>26.19</td>\n",
       "      <td>45.96</td>\n",
       "      <td>50</td>\n",
       "    </tr>\n",
       "    <tr>\n",
       "      <th>44</th>\n",
       "      <td>2007</td>\n",
       "      <td>Nigeria</td>\n",
       "      <td>92</td>\n",
       "      <td>100</td>\n",
       "      <td>42.29</td>\n",
       "      <td>31.78</td>\n",
       "      <td>10.41</td>\n",
       "      <td>5.17</td>\n",
       "      <td>38.09</td>\n",
       "      <td>69.9</td>\n",
       "      <td>...</td>\n",
       "      <td>84</td>\n",
       "      <td>90</td>\n",
       "      <td>29.16</td>\n",
       "      <td>100</td>\n",
       "      <td>70.55</td>\n",
       "      <td>24.81</td>\n",
       "      <td>23.14</td>\n",
       "      <td>26.47</td>\n",
       "      <td>45.96</td>\n",
       "      <td>50</td>\n",
       "    </tr>\n",
       "    <tr>\n",
       "      <th>45</th>\n",
       "      <td>2008</td>\n",
       "      <td>Nigeria</td>\n",
       "      <td>92</td>\n",
       "      <td>100</td>\n",
       "      <td>42.38</td>\n",
       "      <td>32.47</td>\n",
       "      <td>10.72</td>\n",
       "      <td>5.06</td>\n",
       "      <td>38.41</td>\n",
       "      <td>70.91</td>\n",
       "      <td>...</td>\n",
       "      <td>84</td>\n",
       "      <td>90</td>\n",
       "      <td>29.16</td>\n",
       "      <td>100</td>\n",
       "      <td>70.55</td>\n",
       "      <td>25.68</td>\n",
       "      <td>23.14</td>\n",
       "      <td>28.22</td>\n",
       "      <td>45.96</td>\n",
       "      <td>50</td>\n",
       "    </tr>\n",
       "    <tr>\n",
       "      <th>46</th>\n",
       "      <td>2009</td>\n",
       "      <td>Nigeria</td>\n",
       "      <td>51.21</td>\n",
       "      <td>100</td>\n",
       "      <td>40.43</td>\n",
       "      <td>32.68</td>\n",
       "      <td>11.02</td>\n",
       "      <td>4.94</td>\n",
       "      <td>37.33</td>\n",
       "      <td>70.6</td>\n",
       "      <td>...</td>\n",
       "      <td>84</td>\n",
       "      <td>90</td>\n",
       "      <td>29.16</td>\n",
       "      <td>18.42</td>\n",
       "      <td>70.55</td>\n",
       "      <td>26.57</td>\n",
       "      <td>23.14</td>\n",
       "      <td>30</td>\n",
       "      <td>45.96</td>\n",
       "      <td>50</td>\n",
       "    </tr>\n",
       "    <tr>\n",
       "      <th>47</th>\n",
       "      <td>2010</td>\n",
       "      <td>Nigeria</td>\n",
       "      <td>92</td>\n",
       "      <td>100</td>\n",
       "      <td>42.45</td>\n",
       "      <td>32.72</td>\n",
       "      <td>11.32</td>\n",
       "      <td>4.83</td>\n",
       "      <td>38.56</td>\n",
       "      <td>69.94</td>\n",
       "      <td>...</td>\n",
       "      <td>84</td>\n",
       "      <td>90</td>\n",
       "      <td>29.16</td>\n",
       "      <td>100</td>\n",
       "      <td>70.55</td>\n",
       "      <td>26.4</td>\n",
       "      <td>23.14</td>\n",
       "      <td>29.65</td>\n",
       "      <td>45.96</td>\n",
       "      <td>50</td>\n",
       "    </tr>\n",
       "    <tr>\n",
       "      <th>48</th>\n",
       "      <td>2011</td>\n",
       "      <td>Nigeria</td>\n",
       "      <td>92</td>\n",
       "      <td>100</td>\n",
       "      <td>42.63</td>\n",
       "      <td>33.31</td>\n",
       "      <td>11.61</td>\n",
       "      <td>4.72</td>\n",
       "      <td>38.91</td>\n",
       "      <td>71.02</td>\n",
       "      <td>...</td>\n",
       "      <td>84</td>\n",
       "      <td>90</td>\n",
       "      <td>29.16</td>\n",
       "      <td>100</td>\n",
       "      <td>70.55</td>\n",
       "      <td>28.24</td>\n",
       "      <td>23.14</td>\n",
       "      <td>33.33</td>\n",
       "      <td>45.96</td>\n",
       "      <td>50</td>\n",
       "    </tr>\n",
       "    <tr>\n",
       "      <th>49</th>\n",
       "      <td>2012</td>\n",
       "      <td>Nigeria</td>\n",
       "      <td>92</td>\n",
       "      <td>100</td>\n",
       "      <td>42.63</td>\n",
       "      <td>34.05</td>\n",
       "      <td>11.61</td>\n",
       "      <td>4.72</td>\n",
       "      <td>39.2</td>\n",
       "      <td>72.7</td>\n",
       "      <td>...</td>\n",
       "      <td>84</td>\n",
       "      <td>90</td>\n",
       "      <td>29.16</td>\n",
       "      <td>100</td>\n",
       "      <td>70.55</td>\n",
       "      <td>28.24</td>\n",
       "      <td>23.14</td>\n",
       "      <td>33.33</td>\n",
       "      <td>45.96</td>\n",
       "      <td>50</td>\n",
       "    </tr>\n",
       "  </tbody>\n",
       "</table>\n",
       "<p>50 rows × 35 columns</p>\n",
       "</div>"
      ],
      "text/plain": [
       "    date country_name Agriculture PM2.5 Exposure Ecosystem Vitality  \\\n",
       "0   2002   Azerbaijan          56          90.94              51.63   \n",
       "1   2003   Azerbaijan          56          97.03              51.77   \n",
       "2   2004   Azerbaijan          62          99.08              52.87   \n",
       "3   2005   Azerbaijan          62          98.83              52.87   \n",
       "4   2006   Azerbaijan          62          94.99              52.87   \n",
       "5   2007   Azerbaijan          62          93.35              52.87   \n",
       "6   2008   Azerbaijan          62          93.85              52.87   \n",
       "7   2009   Azerbaijan          62          92.68              52.87   \n",
       "8   2010   Azerbaijan          62          93.35              52.87   \n",
       "9   2011   Azerbaijan          62          91.64              52.87   \n",
       "10  2012   Azerbaijan          62          93.52              52.87   \n",
       "11  2013   Azerbaijan        None           None               None   \n",
       "12  2014   Azerbaijan          62          93.52              52.87   \n",
       "13  2015   Azerbaijan        None           None               None   \n",
       "14  2016   Azerbaijan       98.18          92.09               84.6   \n",
       "15  2017   Azerbaijan        None           None               None   \n",
       "16  2018   Azerbaijan       39.76          53.14              71.52   \n",
       "17  2019   Azerbaijan        None           None               None   \n",
       "18  2020   Azerbaijan        64.3           12.7               55.7   \n",
       "19  2012   Guadeloupe         NaN            100                NaN   \n",
       "20  2002  Timor-Leste          50            100              20.12   \n",
       "21  2003  Timor-Leste          50            100              20.96   \n",
       "22  2004  Timor-Leste          50            100              20.18   \n",
       "23  2005  Timor-Leste          50            100              20.25   \n",
       "24  2006  Timor-Leste          50            100              20.25   \n",
       "25  2007  Timor-Leste          50            100              21.13   \n",
       "26  2008  Timor-Leste          50            100              35.67   \n",
       "27  2009  Timor-Leste          50            100              36.03   \n",
       "28  2010  Timor-Leste          50            100              35.56   \n",
       "29  2011  Timor-Leste          50            100              35.74   \n",
       "30  2012  Timor-Leste          50            100              35.74   \n",
       "31  2013  Timor-Leste        None           None               None   \n",
       "32  2014  Timor-Leste          50            100              35.74   \n",
       "33  2015  Timor-Leste        None           None               None   \n",
       "34  2016  Timor-Leste         100            100              47.54   \n",
       "35  2017  Timor-Leste        None           None               None   \n",
       "36  2018  Timor-Leste       29.38            100              48.56   \n",
       "37  2019  Timor-Leste        None           None               None   \n",
       "38  2020  Timor-Leste        34.9             49               39.5   \n",
       "39  2002      Nigeria          88            100              42.35   \n",
       "40  2003      Nigeria          88            100              42.42   \n",
       "41  2004      Nigeria          92            100              42.44   \n",
       "42  2005      Nigeria       65.54            100              40.88   \n",
       "43  2006      Nigeria       63.27            100              40.84   \n",
       "44  2007      Nigeria          92            100              42.29   \n",
       "45  2008      Nigeria          92            100              42.38   \n",
       "46  2009      Nigeria       51.21            100              40.43   \n",
       "47  2010      Nigeria          92            100              42.45   \n",
       "48  2011      Nigeria          92            100              42.63   \n",
       "49  2012      Nigeria          92            100              42.63   \n",
       "\n",
       "   Environmental Health Unsafe drinking water Unsafe sanitation  \\\n",
       "0                 50.98                 22.43              21.1   \n",
       "1                 54.39                 23.16             22.81   \n",
       "2                 56.74                 23.91             24.66   \n",
       "3                  58.2                 24.68             26.67   \n",
       "4                 58.73                 25.47             28.87   \n",
       "5                 59.05                 26.28              31.3   \n",
       "6                 59.95                 27.11             34.02   \n",
       "7                 59.61                 27.15             34.04   \n",
       "8                 59.87                 27.19             34.06   \n",
       "9                 59.14                 27.24             34.08   \n",
       "10                59.37                 27.24             34.08   \n",
       "11                 None                  None              None   \n",
       "12                59.37                 27.24             34.08   \n",
       "13                 None                  None              None   \n",
       "14                82.96                 66.72             82.38   \n",
       "15                 None                  None              None   \n",
       "16                48.55                 51.28             45.77   \n",
       "17                 None                  None              None   \n",
       "18                 32.7                  46.4              44.3   \n",
       "19                  NaN                  87.8             68.43   \n",
       "20                37.59                  9.24              7.02   \n",
       "21                38.28                  9.96              7.05   \n",
       "22                38.96                 10.71              7.09   \n",
       "23                39.65                  11.5              7.12   \n",
       "24                40.36                 12.31              7.17   \n",
       "25                41.08                 13.16              7.22   \n",
       "26                41.83                 14.05              7.27   \n",
       "27                42.61                 14.98              7.33   \n",
       "28                43.43                 15.95              7.39   \n",
       "29                44.26                 16.98              7.46   \n",
       "30                44.92                 16.98              7.46   \n",
       "31                 None                  None              None   \n",
       "32                44.92                 16.98              7.46   \n",
       "33                 None                  None              None   \n",
       "34                64.04                 46.48             56.23   \n",
       "35                 None                  None              None   \n",
       "36                51.02                 24.73                21   \n",
       "37                 None                  None              None   \n",
       "38                 28.9                  26.1              25.6   \n",
       "39                30.95                  8.77              5.74   \n",
       "40                30.89                  9.11              5.63   \n",
       "41                 31.3                  9.44              5.51   \n",
       "42                 31.1                  9.77               5.4   \n",
       "43                31.29                 10.09              5.28   \n",
       "44                31.78                 10.41              5.17   \n",
       "45                32.47                 10.72              5.06   \n",
       "46                32.68                 11.02              4.94   \n",
       "47                32.72                 11.32              4.83   \n",
       "48                33.31                 11.61              4.72   \n",
       "49                34.05                 11.61              4.72   \n",
       "\n",
       "   Environmental Performance Index Air Quality  ... Pesticide Regulation  \\\n",
       "0                            51.37       80.05  ...                   12   \n",
       "1                            52.82       85.18  ...                   12   \n",
       "2                            54.42        87.4  ...                   24   \n",
       "3                               55       87.78  ...                   24   \n",
       "4                            55.21       86.48  ...                   24   \n",
       "5                            55.34       85.44  ...                   24   \n",
       "6                             55.7       86.54  ...                   24   \n",
       "7                            55.57       86.01  ...                   24   \n",
       "8                            55.67       87.42  ...                   24   \n",
       "9                            55.38       85.77  ...                   24   \n",
       "10                           55.47       86.87  ...                   24   \n",
       "11                            None        None  ...                 None   \n",
       "12                           55.47       86.87  ...                   24   \n",
       "13                            None        None  ...                 None   \n",
       "14                           83.78       80.99  ...                 None   \n",
       "15                            None        None  ...                 None   \n",
       "16                           62.33       47.44  ...                 None   \n",
       "17                            None        None  ...                 None   \n",
       "18                            46.5        24.9  ...                 None   \n",
       "19                             NaN         NaN  ...                  NaN   \n",
       "20                           27.11       69.33  ...                    0   \n",
       "21                           27.89       69.33  ...                    0   \n",
       "22                           27.69       69.33  ...                    0   \n",
       "23                           28.01       69.33  ...                    0   \n",
       "24                           28.29       69.33  ...                    0   \n",
       "25                           29.11       69.33  ...                    0   \n",
       "26                           38.13       69.33  ...                    0   \n",
       "27                           38.67       69.33  ...                    0   \n",
       "28                           38.71       69.33  ...                    0   \n",
       "29                           39.15       69.33  ...                    0   \n",
       "30                           39.41       69.33  ...                    0   \n",
       "31                            None        None  ...                 None   \n",
       "32                           39.41       69.33  ...                    0   \n",
       "33                            None        None  ...                 None   \n",
       "34                           55.79       78.79  ...                 None   \n",
       "35                            None        None  ...                 None   \n",
       "36                           49.54       64.77  ...                 None   \n",
       "37                            None        None  ...                 None   \n",
       "38                            35.3        33.6  ...                 None   \n",
       "39                           37.79       73.59  ...                   76   \n",
       "40                           37.81        72.2  ...                   76   \n",
       "41                           37.99       72.14  ...                   84   \n",
       "42                           36.97       70.27  ...                   84   \n",
       "43                           37.02        69.6  ...                   84   \n",
       "44                           38.09        69.9  ...                   84   \n",
       "45                           38.41       70.91  ...                   84   \n",
       "46                           37.33        70.6  ...                   84   \n",
       "47                           38.56       69.94  ...                   84   \n",
       "48                           38.91       71.02  ...                   84   \n",
       "49                            39.2        72.7  ...                   84   \n",
       "\n",
       "   Change of Trend in Carbon Intensity Change in Forest Cover  \\\n",
       "0                                78.28                  63.12   \n",
       "1                                78.28                  63.12   \n",
       "2                                78.28                  63.12   \n",
       "3                                78.28                  63.12   \n",
       "4                                78.28                  63.12   \n",
       "5                                78.28                  63.12   \n",
       "6                                78.28                  63.12   \n",
       "7                                78.28                  63.12   \n",
       "8                                78.28                  63.12   \n",
       "9                                78.28                  63.12   \n",
       "10                               78.28                  63.12   \n",
       "11                                None                   None   \n",
       "12                               78.28                  63.12   \n",
       "13                                None                   None   \n",
       "14                                None                   None   \n",
       "15                                None                   None   \n",
       "16                                None                   None   \n",
       "17                                None                   None   \n",
       "18                                None                   None   \n",
       "19                                 NaN                  55.41   \n",
       "20                                 NaN                  31.35   \n",
       "21                                 NaN                  31.35   \n",
       "22                                 NaN                  31.35   \n",
       "23                                 NaN                  31.35   \n",
       "24                                 NaN                  31.35   \n",
       "25                                 NaN                  31.35   \n",
       "26                                 NaN                  31.35   \n",
       "27                                 NaN                  31.35   \n",
       "28                                 NaN                  31.35   \n",
       "29                                 NaN                  31.35   \n",
       "30                                 NaN                  31.35   \n",
       "31                                 NaN                   None   \n",
       "32                                 NaN                  31.35   \n",
       "33                                 NaN                   None   \n",
       "34                                 NaN                   None   \n",
       "35                                 NaN                   None   \n",
       "36                                 NaN                   None   \n",
       "37                                 NaN                   None   \n",
       "38                                 NaN                   None   \n",
       "39                                  90                  29.16   \n",
       "40                                  90                  29.16   \n",
       "41                                  90                  29.16   \n",
       "42                                  90                  29.16   \n",
       "43                                  90                  29.16   \n",
       "44                                  90                  29.16   \n",
       "45                                  90                  29.16   \n",
       "46                                  90                  29.16   \n",
       "47                                  90                  29.16   \n",
       "48                                  90                  29.16   \n",
       "49                                  90                  29.16   \n",
       "\n",
       "   Agricultural Subsidies Climate Fisheries Coastal Shelf Fishing Pressure  \\\n",
       "0                     100   80.88       NaN                            NaN   \n",
       "1                     100   80.88       NaN                            NaN   \n",
       "2                     100   80.88       NaN                            NaN   \n",
       "3                     100   80.88       NaN                            NaN   \n",
       "4                     100   80.88       NaN                            NaN   \n",
       "5                     100   80.88       NaN                            NaN   \n",
       "6                     100   80.88       NaN                            NaN   \n",
       "7                     100   80.88       NaN                            NaN   \n",
       "8                     100   80.88       NaN                            NaN   \n",
       "9                     100   80.88       NaN                            NaN   \n",
       "10                    100   80.88       NaN                            NaN   \n",
       "11                   None    None       NaN                            NaN   \n",
       "12                    100    None       NaN                            NaN   \n",
       "13                   None    None       NaN                            NaN   \n",
       "14                   None    None       NaN                            NaN   \n",
       "15                   None    None       NaN                            NaN   \n",
       "16                   None    None       NaN                            NaN   \n",
       "17                   None    None       NaN                            NaN   \n",
       "18                   None    None       NaN                            NaN   \n",
       "19                    NaN     NaN     42.77                          64.81   \n",
       "20                    100     NaN     60.17                          98.92   \n",
       "21                    100     NaN     66.46                          98.92   \n",
       "22                    100     NaN     60.65                          98.92   \n",
       "23                    100     NaN     61.17                          98.92   \n",
       "24                    100     NaN     61.17                          98.92   \n",
       "25                    100     NaN     60.73                          98.92   \n",
       "26                    100     NaN     59.32                          98.92   \n",
       "27                    100     NaN     62.08                          98.92   \n",
       "28                    100     NaN     58.55                          98.92   \n",
       "29                    100     NaN     59.87                          98.92   \n",
       "30                    100     NaN     59.87                          98.92   \n",
       "31                   None     NaN      None                           None   \n",
       "32                    100     NaN     59.87                          98.92   \n",
       "33                   None     NaN      None                           None   \n",
       "34                   None     NaN     45.22                           None   \n",
       "35                   None     NaN      None                           None   \n",
       "36                   None     NaN     63.43                           None   \n",
       "37                   None     NaN      None                           None   \n",
       "38                   None     NaN      46.8                           None   \n",
       "39                    100   70.55     27.37                          24.26   \n",
       "40                    100   70.55     28.06                          23.69   \n",
       "41                    100   70.55     26.35                          24.51   \n",
       "42                  47.07   70.55      23.9                          23.56   \n",
       "43                  42.54   70.55     24.67                          23.14   \n",
       "44                    100   70.55     24.81                          23.14   \n",
       "45                    100   70.55     25.68                          23.14   \n",
       "46                  18.42   70.55     26.57                          23.14   \n",
       "47                    100   70.55      26.4                          23.14   \n",
       "48                    100   70.55     28.24                          23.14   \n",
       "49                    100   70.55     28.24                          23.14   \n",
       "\n",
       "   Fish Stock Status Marine Protected Areas Critical Habitat Protection  \n",
       "0                NaN                    NaN                         NaN  \n",
       "1                NaN                    NaN                         NaN  \n",
       "2                NaN                    NaN                         NaN  \n",
       "3                NaN                    NaN                         NaN  \n",
       "4                NaN                    NaN                         NaN  \n",
       "5                NaN                    NaN                         NaN  \n",
       "6                NaN                    NaN                         NaN  \n",
       "7                NaN                    NaN                         NaN  \n",
       "8                NaN                    NaN                         NaN  \n",
       "9                NaN                    NaN                         NaN  \n",
       "10               NaN                    NaN                         NaN  \n",
       "11               NaN                    NaN                         NaN  \n",
       "12               NaN                    NaN                         NaN  \n",
       "13               NaN                    NaN                         NaN  \n",
       "14               NaN                    NaN                         NaN  \n",
       "15               NaN                    NaN                         NaN  \n",
       "16               NaN                    NaN                         NaN  \n",
       "17               NaN                    NaN                         NaN  \n",
       "18               NaN                    NaN                         NaN  \n",
       "19             20.73                    NaN                         NaN  \n",
       "20             21.43                      0                         NaN  \n",
       "21             34.01                      0                         NaN  \n",
       "22             22.37                      0                         NaN  \n",
       "23             23.42                      0                         NaN  \n",
       "24             23.42                      0                         NaN  \n",
       "25             22.54                      0                         NaN  \n",
       "26             19.72                  79.51                         NaN  \n",
       "27             25.23                  79.51                         NaN  \n",
       "28             18.18                  79.51                         NaN  \n",
       "29             20.81                  79.51                         NaN  \n",
       "30             20.81                  79.51                         NaN  \n",
       "31              None                   None                         NaN  \n",
       "32             20.81                  79.51                         NaN  \n",
       "33              None                   None                         NaN  \n",
       "34             45.22                  85.23                         NaN  \n",
       "35              None                   None                         NaN  \n",
       "36             89.87                  81.38                         NaN  \n",
       "37              None                   None                         NaN  \n",
       "38              18.6                      0                         NaN  \n",
       "39             30.48                  45.96                          50  \n",
       "40             32.43                  45.96                          50  \n",
       "41             28.19                  45.96                          50  \n",
       "42             24.24                  45.96                          50  \n",
       "43             26.19                  45.96                          50  \n",
       "44             26.47                  45.96                          50  \n",
       "45             28.22                  45.96                          50  \n",
       "46                30                  45.96                          50  \n",
       "47             29.65                  45.96                          50  \n",
       "48             33.33                  45.96                          50  \n",
       "49             33.33                  45.96                          50  \n",
       "\n",
       "[50 rows x 35 columns]"
      ]
     },
     "execution_count": 7,
     "metadata": {},
     "output_type": "execute_result"
    }
   ],
   "source": [
    "epi_new.head(50)"
   ]
  },
  {
   "cell_type": "code",
   "execution_count": 8,
   "metadata": {
    "ExecuteTime": {
     "end_time": "2021-05-13T00:20:24.357216Z",
     "start_time": "2021-05-13T00:20:24.344205Z"
    }
   },
   "outputs": [],
   "source": [
    "high_data = [key for key, value in epi_new['country_name'].value_counts().to_dict().items() if value >5]"
   ]
  },
  {
   "cell_type": "code",
   "execution_count": 9,
   "metadata": {
    "ExecuteTime": {
     "end_time": "2021-05-13T00:20:24.373230Z",
     "start_time": "2021-05-13T00:20:24.360219Z"
    }
   },
   "outputs": [
    {
     "data": {
      "text/plain": [
       "['Australia',\n",
       " 'Ecuador',\n",
       " 'Cabo Verde',\n",
       " 'Philippines',\n",
       " 'Guinea-Bissau',\n",
       " 'Kiribati',\n",
       " 'Mexico',\n",
       " 'Moldova',\n",
       " 'Antigua and Barbuda',\n",
       " 'Zambia',\n",
       " 'Kenya',\n",
       " 'Denmark',\n",
       " 'Bhutan',\n",
       " 'Latvia',\n",
       " 'Trinidad and Tobago',\n",
       " 'Cyprus',\n",
       " 'Lebanon',\n",
       " 'Cameroon',\n",
       " 'Botswana',\n",
       " 'Papua New Guinea',\n",
       " 'Paraguay',\n",
       " 'Japan',\n",
       " 'Ireland',\n",
       " 'Niger',\n",
       " 'Jamaica',\n",
       " 'Belarus',\n",
       " 'Belize',\n",
       " 'Guinea',\n",
       " 'Kuwait',\n",
       " 'Brunei Darussalam',\n",
       " 'United Kingdom',\n",
       " 'Israel',\n",
       " 'Myanmar',\n",
       " 'Burundi',\n",
       " 'South Korea',\n",
       " 'Gabon',\n",
       " 'Guatemala',\n",
       " 'Mali',\n",
       " 'Bangladesh',\n",
       " 'Qatar',\n",
       " 'Chile',\n",
       " 'Bulgaria',\n",
       " 'India',\n",
       " 'Nicaragua',\n",
       " 'Cuba',\n",
       " 'Sri Lanka',\n",
       " 'Belgium',\n",
       " 'Iran',\n",
       " 'Luxembourg',\n",
       " 'Norway',\n",
       " 'Central African Republic',\n",
       " 'Eritrea',\n",
       " 'Spain',\n",
       " 'Rwanda',\n",
       " 'Morocco',\n",
       " 'Montenegro',\n",
       " 'Costa Rica',\n",
       " 'Oman',\n",
       " 'Switzerland',\n",
       " 'Equatorial Guinea',\n",
       " 'Vanuatu',\n",
       " 'Tunisia',\n",
       " 'Solomon Islands',\n",
       " 'New Zealand',\n",
       " 'Croatia',\n",
       " 'Mongolia',\n",
       " 'Algeria',\n",
       " 'Ukraine',\n",
       " 'Finland',\n",
       " 'Thailand',\n",
       " 'Bahrain',\n",
       " 'Austria',\n",
       " 'Armenia',\n",
       " 'Iceland',\n",
       " 'Turkey',\n",
       " 'Canada',\n",
       " 'Venezuela',\n",
       " 'Mauritania',\n",
       " 'Cambodia',\n",
       " 'Uzbekistan',\n",
       " 'Estonia',\n",
       " 'Singapore',\n",
       " 'Romania',\n",
       " 'Slovakia',\n",
       " 'Tajikistan',\n",
       " 'Sweden',\n",
       " 'Italy',\n",
       " \"Cote d'Ivoire\",\n",
       " 'Viet Nam',\n",
       " 'Guyana',\n",
       " 'Angola',\n",
       " 'Zimbabwe',\n",
       " 'Mozambique',\n",
       " 'Senegal',\n",
       " 'Poland',\n",
       " 'Malawi',\n",
       " 'Kazakhstan',\n",
       " 'Tanzania',\n",
       " 'Benin',\n",
       " 'Iraq',\n",
       " 'North Macedonia',\n",
       " 'France',\n",
       " 'Portugal',\n",
       " 'Albania',\n",
       " 'Timor-Leste',\n",
       " 'El Salvador',\n",
       " 'Suriname',\n",
       " 'Taiwan',\n",
       " 'Georgia',\n",
       " 'Afghanistan',\n",
       " 'Honduras',\n",
       " 'Gambia',\n",
       " 'Argentina',\n",
       " 'Dominican Republic',\n",
       " 'Panama',\n",
       " 'Eswatini',\n",
       " 'Greece',\n",
       " 'Nepal',\n",
       " 'Laos',\n",
       " 'Colombia',\n",
       " 'Ethiopia',\n",
       " 'Russia',\n",
       " 'Azerbaijan',\n",
       " 'Egypt',\n",
       " 'Peru',\n",
       " 'Pakistan',\n",
       " 'Togo',\n",
       " 'Seychelles',\n",
       " 'Indonesia',\n",
       " 'Malta',\n",
       " 'Bolivia',\n",
       " 'Saudi Arabia',\n",
       " 'Fiji',\n",
       " 'Nigeria',\n",
       " 'Netherlands',\n",
       " 'Haiti',\n",
       " 'United Arab Emirates',\n",
       " 'Dem. Rep. Congo',\n",
       " 'Slovenia',\n",
       " 'Uganda',\n",
       " 'Bahamas',\n",
       " 'Malaysia',\n",
       " 'Czech Republic',\n",
       " 'Tonga',\n",
       " 'Uruguay',\n",
       " 'Dominica',\n",
       " 'Chad',\n",
       " 'Kyrgyzstan',\n",
       " 'Mauritius',\n",
       " 'Grenada',\n",
       " 'Namibia',\n",
       " 'Burkina Faso',\n",
       " 'Comoros',\n",
       " 'Liberia',\n",
       " 'Hungary',\n",
       " 'Republic of Congo',\n",
       " 'Sierra Leone',\n",
       " 'Barbados',\n",
       " 'South Africa',\n",
       " 'Turkmenistan',\n",
       " 'Serbia',\n",
       " 'Lithuania',\n",
       " 'Lesotho',\n",
       " 'China',\n",
       " 'Jordan',\n",
       " 'Madagascar',\n",
       " 'Djibouti',\n",
       " 'United States of America',\n",
       " 'Germany',\n",
       " 'Sudan',\n",
       " 'Brazil',\n",
       " 'Ghana',\n",
       " 'Bosnia and Herzegovina',\n",
       " 'Libya',\n",
       " 'Somalia',\n",
       " 'Yemen',\n",
       " 'Syria',\n",
       " 'Palau',\n",
       " 'Maldives',\n",
       " 'Sao Tome and Principe',\n",
       " 'Saint Vincent and the Grenadines',\n",
       " 'Micronesia',\n",
       " 'Samoa',\n",
       " 'Marshall Islands',\n",
       " 'Saint Lucia']"
      ]
     },
     "execution_count": 9,
     "metadata": {},
     "output_type": "execute_result"
    }
   ],
   "source": [
    "high_data"
   ]
  },
  {
   "cell_type": "code",
   "execution_count": 10,
   "metadata": {
    "ExecuteTime": {
     "end_time": "2021-05-13T00:20:24.405259Z",
     "start_time": "2021-05-13T00:20:24.375233Z"
    }
   },
   "outputs": [],
   "source": [
    "epi_new = epi_new[epi_new['country_name'].isin(high_data)]"
   ]
  },
  {
   "cell_type": "code",
   "execution_count": 11,
   "metadata": {
    "ExecuteTime": {
     "end_time": "2021-05-13T00:20:24.453301Z",
     "start_time": "2021-05-13T00:20:24.407260Z"
    }
   },
   "outputs": [
    {
     "data": {
      "text/html": [
       "<div>\n",
       "<style scoped>\n",
       "    .dataframe tbody tr th:only-of-type {\n",
       "        vertical-align: middle;\n",
       "    }\n",
       "\n",
       "    .dataframe tbody tr th {\n",
       "        vertical-align: top;\n",
       "    }\n",
       "\n",
       "    .dataframe thead th {\n",
       "        text-align: right;\n",
       "    }\n",
       "</style>\n",
       "<table border=\"1\" class=\"dataframe\">\n",
       "  <thead>\n",
       "    <tr style=\"text-align: right;\">\n",
       "      <th></th>\n",
       "      <th>date</th>\n",
       "      <th>country_name</th>\n",
       "      <th>Agriculture</th>\n",
       "      <th>PM2.5 Exposure</th>\n",
       "      <th>Ecosystem Vitality</th>\n",
       "      <th>Environmental Health</th>\n",
       "      <th>Unsafe drinking water</th>\n",
       "      <th>Unsafe sanitation</th>\n",
       "      <th>Environmental Performance Index</th>\n",
       "      <th>Air Quality</th>\n",
       "      <th>...</th>\n",
       "      <th>Pesticide Regulation</th>\n",
       "      <th>Change of Trend in Carbon Intensity</th>\n",
       "      <th>Change in Forest Cover</th>\n",
       "      <th>Agricultural Subsidies</th>\n",
       "      <th>Climate</th>\n",
       "      <th>Fisheries</th>\n",
       "      <th>Coastal Shelf Fishing Pressure</th>\n",
       "      <th>Fish Stock Status</th>\n",
       "      <th>Marine Protected Areas</th>\n",
       "      <th>Critical Habitat Protection</th>\n",
       "    </tr>\n",
       "  </thead>\n",
       "  <tbody>\n",
       "    <tr>\n",
       "      <th>0</th>\n",
       "      <td>2002</td>\n",
       "      <td>Azerbaijan</td>\n",
       "      <td>56</td>\n",
       "      <td>90.94</td>\n",
       "      <td>51.63</td>\n",
       "      <td>50.98</td>\n",
       "      <td>22.43</td>\n",
       "      <td>21.1</td>\n",
       "      <td>51.37</td>\n",
       "      <td>80.05</td>\n",
       "      <td>...</td>\n",
       "      <td>12</td>\n",
       "      <td>78.28</td>\n",
       "      <td>63.12</td>\n",
       "      <td>100</td>\n",
       "      <td>80.88</td>\n",
       "      <td>NaN</td>\n",
       "      <td>NaN</td>\n",
       "      <td>NaN</td>\n",
       "      <td>NaN</td>\n",
       "      <td>NaN</td>\n",
       "    </tr>\n",
       "    <tr>\n",
       "      <th>1</th>\n",
       "      <td>2003</td>\n",
       "      <td>Azerbaijan</td>\n",
       "      <td>56</td>\n",
       "      <td>97.03</td>\n",
       "      <td>51.77</td>\n",
       "      <td>54.39</td>\n",
       "      <td>23.16</td>\n",
       "      <td>22.81</td>\n",
       "      <td>52.82</td>\n",
       "      <td>85.18</td>\n",
       "      <td>...</td>\n",
       "      <td>12</td>\n",
       "      <td>78.28</td>\n",
       "      <td>63.12</td>\n",
       "      <td>100</td>\n",
       "      <td>80.88</td>\n",
       "      <td>NaN</td>\n",
       "      <td>NaN</td>\n",
       "      <td>NaN</td>\n",
       "      <td>NaN</td>\n",
       "      <td>NaN</td>\n",
       "    </tr>\n",
       "    <tr>\n",
       "      <th>2</th>\n",
       "      <td>2004</td>\n",
       "      <td>Azerbaijan</td>\n",
       "      <td>62</td>\n",
       "      <td>99.08</td>\n",
       "      <td>52.87</td>\n",
       "      <td>56.74</td>\n",
       "      <td>23.91</td>\n",
       "      <td>24.66</td>\n",
       "      <td>54.42</td>\n",
       "      <td>87.4</td>\n",
       "      <td>...</td>\n",
       "      <td>24</td>\n",
       "      <td>78.28</td>\n",
       "      <td>63.12</td>\n",
       "      <td>100</td>\n",
       "      <td>80.88</td>\n",
       "      <td>NaN</td>\n",
       "      <td>NaN</td>\n",
       "      <td>NaN</td>\n",
       "      <td>NaN</td>\n",
       "      <td>NaN</td>\n",
       "    </tr>\n",
       "    <tr>\n",
       "      <th>3</th>\n",
       "      <td>2005</td>\n",
       "      <td>Azerbaijan</td>\n",
       "      <td>62</td>\n",
       "      <td>98.83</td>\n",
       "      <td>52.87</td>\n",
       "      <td>58.2</td>\n",
       "      <td>24.68</td>\n",
       "      <td>26.67</td>\n",
       "      <td>55</td>\n",
       "      <td>87.78</td>\n",
       "      <td>...</td>\n",
       "      <td>24</td>\n",
       "      <td>78.28</td>\n",
       "      <td>63.12</td>\n",
       "      <td>100</td>\n",
       "      <td>80.88</td>\n",
       "      <td>NaN</td>\n",
       "      <td>NaN</td>\n",
       "      <td>NaN</td>\n",
       "      <td>NaN</td>\n",
       "      <td>NaN</td>\n",
       "    </tr>\n",
       "    <tr>\n",
       "      <th>4</th>\n",
       "      <td>2006</td>\n",
       "      <td>Azerbaijan</td>\n",
       "      <td>62</td>\n",
       "      <td>94.99</td>\n",
       "      <td>52.87</td>\n",
       "      <td>58.73</td>\n",
       "      <td>25.47</td>\n",
       "      <td>28.87</td>\n",
       "      <td>55.21</td>\n",
       "      <td>86.48</td>\n",
       "      <td>...</td>\n",
       "      <td>24</td>\n",
       "      <td>78.28</td>\n",
       "      <td>63.12</td>\n",
       "      <td>100</td>\n",
       "      <td>80.88</td>\n",
       "      <td>NaN</td>\n",
       "      <td>NaN</td>\n",
       "      <td>NaN</td>\n",
       "      <td>NaN</td>\n",
       "      <td>NaN</td>\n",
       "    </tr>\n",
       "    <tr>\n",
       "      <th>...</th>\n",
       "      <td>...</td>\n",
       "      <td>...</td>\n",
       "      <td>...</td>\n",
       "      <td>...</td>\n",
       "      <td>...</td>\n",
       "      <td>...</td>\n",
       "      <td>...</td>\n",
       "      <td>...</td>\n",
       "      <td>...</td>\n",
       "      <td>...</td>\n",
       "      <td>...</td>\n",
       "      <td>...</td>\n",
       "      <td>...</td>\n",
       "      <td>...</td>\n",
       "      <td>...</td>\n",
       "      <td>...</td>\n",
       "      <td>...</td>\n",
       "      <td>...</td>\n",
       "      <td>...</td>\n",
       "      <td>...</td>\n",
       "      <td>...</td>\n",
       "    </tr>\n",
       "    <tr>\n",
       "      <th>3461</th>\n",
       "      <td>2016</td>\n",
       "      <td>Grenada</td>\n",
       "      <td>59.79</td>\n",
       "      <td>100</td>\n",
       "      <td>36.78</td>\n",
       "      <td>89.79</td>\n",
       "      <td>88.45</td>\n",
       "      <td>95.15</td>\n",
       "      <td>63.28</td>\n",
       "      <td>91.88</td>\n",
       "      <td>...</td>\n",
       "      <td>None</td>\n",
       "      <td>None</td>\n",
       "      <td>NaN</td>\n",
       "      <td>None</td>\n",
       "      <td>None</td>\n",
       "      <td>48.06</td>\n",
       "      <td>None</td>\n",
       "      <td>48.06</td>\n",
       "      <td>40.79</td>\n",
       "      <td>None</td>\n",
       "    </tr>\n",
       "    <tr>\n",
       "      <th>3462</th>\n",
       "      <td>2017</td>\n",
       "      <td>Grenada</td>\n",
       "      <td>None</td>\n",
       "      <td>None</td>\n",
       "      <td>None</td>\n",
       "      <td>None</td>\n",
       "      <td>None</td>\n",
       "      <td>None</td>\n",
       "      <td>None</td>\n",
       "      <td>None</td>\n",
       "      <td>...</td>\n",
       "      <td>None</td>\n",
       "      <td>None</td>\n",
       "      <td>NaN</td>\n",
       "      <td>None</td>\n",
       "      <td>None</td>\n",
       "      <td>None</td>\n",
       "      <td>None</td>\n",
       "      <td>None</td>\n",
       "      <td>None</td>\n",
       "      <td>None</td>\n",
       "    </tr>\n",
       "    <tr>\n",
       "      <th>3463</th>\n",
       "      <td>2018</td>\n",
       "      <td>Grenada</td>\n",
       "      <td>0.76</td>\n",
       "      <td>100</td>\n",
       "      <td>38.34</td>\n",
       "      <td>69.82</td>\n",
       "      <td>47.74</td>\n",
       "      <td>48.77</td>\n",
       "      <td>50.93</td>\n",
       "      <td>82.88</td>\n",
       "      <td>...</td>\n",
       "      <td>None</td>\n",
       "      <td>None</td>\n",
       "      <td>NaN</td>\n",
       "      <td>None</td>\n",
       "      <td>None</td>\n",
       "      <td>44.76</td>\n",
       "      <td>None</td>\n",
       "      <td>58.27</td>\n",
       "      <td>61.02</td>\n",
       "      <td>None</td>\n",
       "    </tr>\n",
       "    <tr>\n",
       "      <th>3464</th>\n",
       "      <td>2019</td>\n",
       "      <td>Grenada</td>\n",
       "      <td>None</td>\n",
       "      <td>None</td>\n",
       "      <td>None</td>\n",
       "      <td>None</td>\n",
       "      <td>None</td>\n",
       "      <td>None</td>\n",
       "      <td>None</td>\n",
       "      <td>None</td>\n",
       "      <td>...</td>\n",
       "      <td>None</td>\n",
       "      <td>None</td>\n",
       "      <td>NaN</td>\n",
       "      <td>None</td>\n",
       "      <td>None</td>\n",
       "      <td>None</td>\n",
       "      <td>None</td>\n",
       "      <td>None</td>\n",
       "      <td>None</td>\n",
       "      <td>None</td>\n",
       "    </tr>\n",
       "    <tr>\n",
       "      <th>3465</th>\n",
       "      <td>2020</td>\n",
       "      <td>Grenada</td>\n",
       "      <td>28.9</td>\n",
       "      <td>31.3</td>\n",
       "      <td>40.9</td>\n",
       "      <td>46.3</td>\n",
       "      <td>44.2</td>\n",
       "      <td>51.2</td>\n",
       "      <td>43.1</td>\n",
       "      <td>42.9</td>\n",
       "      <td>...</td>\n",
       "      <td>None</td>\n",
       "      <td>None</td>\n",
       "      <td>NaN</td>\n",
       "      <td>None</td>\n",
       "      <td>None</td>\n",
       "      <td>15.8</td>\n",
       "      <td>None</td>\n",
       "      <td>None</td>\n",
       "      <td>1</td>\n",
       "      <td>None</td>\n",
       "    </tr>\n",
       "  </tbody>\n",
       "</table>\n",
       "<p>3425 rows × 35 columns</p>\n",
       "</div>"
      ],
      "text/plain": [
       "      date country_name Agriculture PM2.5 Exposure Ecosystem Vitality  \\\n",
       "0     2002   Azerbaijan          56          90.94              51.63   \n",
       "1     2003   Azerbaijan          56          97.03              51.77   \n",
       "2     2004   Azerbaijan          62          99.08              52.87   \n",
       "3     2005   Azerbaijan          62          98.83              52.87   \n",
       "4     2006   Azerbaijan          62          94.99              52.87   \n",
       "...    ...          ...         ...            ...                ...   \n",
       "3461  2016      Grenada       59.79            100              36.78   \n",
       "3462  2017      Grenada        None           None               None   \n",
       "3463  2018      Grenada        0.76            100              38.34   \n",
       "3464  2019      Grenada        None           None               None   \n",
       "3465  2020      Grenada        28.9           31.3               40.9   \n",
       "\n",
       "     Environmental Health Unsafe drinking water Unsafe sanitation  \\\n",
       "0                   50.98                 22.43              21.1   \n",
       "1                   54.39                 23.16             22.81   \n",
       "2                   56.74                 23.91             24.66   \n",
       "3                    58.2                 24.68             26.67   \n",
       "4                   58.73                 25.47             28.87   \n",
       "...                   ...                   ...               ...   \n",
       "3461                89.79                 88.45             95.15   \n",
       "3462                 None                  None              None   \n",
       "3463                69.82                 47.74             48.77   \n",
       "3464                 None                  None              None   \n",
       "3465                 46.3                  44.2              51.2   \n",
       "\n",
       "     Environmental Performance Index Air Quality  ... Pesticide Regulation  \\\n",
       "0                              51.37       80.05  ...                   12   \n",
       "1                              52.82       85.18  ...                   12   \n",
       "2                              54.42        87.4  ...                   24   \n",
       "3                                 55       87.78  ...                   24   \n",
       "4                              55.21       86.48  ...                   24   \n",
       "...                              ...         ...  ...                  ...   \n",
       "3461                           63.28       91.88  ...                 None   \n",
       "3462                            None        None  ...                 None   \n",
       "3463                           50.93       82.88  ...                 None   \n",
       "3464                            None        None  ...                 None   \n",
       "3465                            43.1        42.9  ...                 None   \n",
       "\n",
       "     Change of Trend in Carbon Intensity Change in Forest Cover  \\\n",
       "0                                  78.28                  63.12   \n",
       "1                                  78.28                  63.12   \n",
       "2                                  78.28                  63.12   \n",
       "3                                  78.28                  63.12   \n",
       "4                                  78.28                  63.12   \n",
       "...                                  ...                    ...   \n",
       "3461                                None                    NaN   \n",
       "3462                                None                    NaN   \n",
       "3463                                None                    NaN   \n",
       "3464                                None                    NaN   \n",
       "3465                                None                    NaN   \n",
       "\n",
       "     Agricultural Subsidies Climate Fisheries Coastal Shelf Fishing Pressure  \\\n",
       "0                       100   80.88       NaN                            NaN   \n",
       "1                       100   80.88       NaN                            NaN   \n",
       "2                       100   80.88       NaN                            NaN   \n",
       "3                       100   80.88       NaN                            NaN   \n",
       "4                       100   80.88       NaN                            NaN   \n",
       "...                     ...     ...       ...                            ...   \n",
       "3461                   None    None     48.06                           None   \n",
       "3462                   None    None      None                           None   \n",
       "3463                   None    None     44.76                           None   \n",
       "3464                   None    None      None                           None   \n",
       "3465                   None    None      15.8                           None   \n",
       "\n",
       "     Fish Stock Status Marine Protected Areas Critical Habitat Protection  \n",
       "0                  NaN                    NaN                         NaN  \n",
       "1                  NaN                    NaN                         NaN  \n",
       "2                  NaN                    NaN                         NaN  \n",
       "3                  NaN                    NaN                         NaN  \n",
       "4                  NaN                    NaN                         NaN  \n",
       "...                ...                    ...                         ...  \n",
       "3461             48.06                  40.79                        None  \n",
       "3462              None                   None                        None  \n",
       "3463             58.27                  61.02                        None  \n",
       "3464              None                   None                        None  \n",
       "3465              None                      1                        None  \n",
       "\n",
       "[3425 rows x 35 columns]"
      ]
     },
     "execution_count": 11,
     "metadata": {},
     "output_type": "execute_result"
    }
   ],
   "source": [
    "epi_new"
   ]
  },
  {
   "cell_type": "code",
   "execution_count": 12,
   "metadata": {
    "ExecuteTime": {
     "end_time": "2021-05-13T00:20:24.469316Z",
     "start_time": "2021-05-13T00:20:24.455303Z"
    },
    "scrolled": false
   },
   "outputs": [
    {
     "data": {
      "text/plain": [
       "Bulgaria                            19\n",
       "Austria                             19\n",
       "Iceland                             19\n",
       "Turkey                              19\n",
       "Ukraine                             19\n",
       "                                    ..\n",
       "Micronesia                           9\n",
       "Saint Lucia                          9\n",
       "Marshall Islands                     9\n",
       "Sao Tome and Principe                9\n",
       "Saint Vincent and the Grenadines     9\n",
       "Name: country_name, Length: 185, dtype: int64"
      ]
     },
     "execution_count": 12,
     "metadata": {},
     "output_type": "execute_result"
    }
   ],
   "source": [
    "epi_new['country_name'].value_counts()"
   ]
  },
  {
   "cell_type": "code",
   "execution_count": 13,
   "metadata": {
    "ExecuteTime": {
     "end_time": "2021-05-13T00:20:24.484329Z",
     "start_time": "2021-05-13T00:20:24.471319Z"
    }
   },
   "outputs": [],
   "source": [
    "def impute_values(country_name):\n",
    "    country = epi_new[epi_new['country_name'] == country_name].copy()\n",
    "    for col in country.columns:\n",
    "        country[col] = country[col].map(lambda x: np.nan if x == 'None' else x)\n",
    "        country[col].interpolate(method='linear',order=1,inplace=True, axis=0)\n",
    "    return country\n",
    "        "
   ]
  },
  {
   "cell_type": "code",
   "execution_count": 14,
   "metadata": {
    "ExecuteTime": {
     "end_time": "2021-05-13T00:20:29.636410Z",
     "start_time": "2021-05-13T00:20:24.485330Z"
    }
   },
   "outputs": [],
   "source": [
    "epi_new_new = pd.DataFrame()\n",
    "\n",
    "for country_name in  set(epi_new['country_name'].values):\n",
    "    country_df = impute_values(country_name)\n",
    "    epi_new_new = pd.concat([epi_new_new, country_df], ignore_index = True)"
   ]
  },
  {
   "cell_type": "code",
   "execution_count": 15,
   "metadata": {
    "ExecuteTime": {
     "end_time": "2021-05-13T00:20:29.667437Z",
     "start_time": "2021-05-13T00:20:29.637411Z"
    },
    "scrolled": false
   },
   "outputs": [
    {
     "data": {
      "text/html": [
       "<div>\n",
       "<style scoped>\n",
       "    .dataframe tbody tr th:only-of-type {\n",
       "        vertical-align: middle;\n",
       "    }\n",
       "\n",
       "    .dataframe tbody tr th {\n",
       "        vertical-align: top;\n",
       "    }\n",
       "\n",
       "    .dataframe thead th {\n",
       "        text-align: right;\n",
       "    }\n",
       "</style>\n",
       "<table border=\"1\" class=\"dataframe\">\n",
       "  <thead>\n",
       "    <tr style=\"text-align: right;\">\n",
       "      <th></th>\n",
       "      <th>date</th>\n",
       "      <th>country_name</th>\n",
       "      <th>Agriculture</th>\n",
       "      <th>PM2.5 Exposure</th>\n",
       "      <th>Ecosystem Vitality</th>\n",
       "      <th>Environmental Health</th>\n",
       "      <th>Unsafe drinking water</th>\n",
       "      <th>Unsafe sanitation</th>\n",
       "      <th>Environmental Performance Index</th>\n",
       "      <th>Air Quality</th>\n",
       "      <th>...</th>\n",
       "      <th>Pesticide Regulation</th>\n",
       "      <th>Change of Trend in Carbon Intensity</th>\n",
       "      <th>Change in Forest Cover</th>\n",
       "      <th>Agricultural Subsidies</th>\n",
       "      <th>Climate</th>\n",
       "      <th>Fisheries</th>\n",
       "      <th>Coastal Shelf Fishing Pressure</th>\n",
       "      <th>Fish Stock Status</th>\n",
       "      <th>Marine Protected Areas</th>\n",
       "      <th>Critical Habitat Protection</th>\n",
       "    </tr>\n",
       "  </thead>\n",
       "  <tbody>\n",
       "    <tr>\n",
       "      <th>0</th>\n",
       "      <td>2002</td>\n",
       "      <td>Azerbaijan</td>\n",
       "      <td>56.0</td>\n",
       "      <td>90.94</td>\n",
       "      <td>51.63</td>\n",
       "      <td>50.98</td>\n",
       "      <td>22.43</td>\n",
       "      <td>21.10</td>\n",
       "      <td>51.37</td>\n",
       "      <td>80.05</td>\n",
       "      <td>...</td>\n",
       "      <td>12.0</td>\n",
       "      <td>78.28</td>\n",
       "      <td>63.12</td>\n",
       "      <td>100.0</td>\n",
       "      <td>80.88</td>\n",
       "      <td>NaN</td>\n",
       "      <td>NaN</td>\n",
       "      <td>NaN</td>\n",
       "      <td>NaN</td>\n",
       "      <td>NaN</td>\n",
       "    </tr>\n",
       "    <tr>\n",
       "      <th>1</th>\n",
       "      <td>2003</td>\n",
       "      <td>Azerbaijan</td>\n",
       "      <td>56.0</td>\n",
       "      <td>97.03</td>\n",
       "      <td>51.77</td>\n",
       "      <td>54.39</td>\n",
       "      <td>23.16</td>\n",
       "      <td>22.81</td>\n",
       "      <td>52.82</td>\n",
       "      <td>85.18</td>\n",
       "      <td>...</td>\n",
       "      <td>12.0</td>\n",
       "      <td>78.28</td>\n",
       "      <td>63.12</td>\n",
       "      <td>100.0</td>\n",
       "      <td>80.88</td>\n",
       "      <td>NaN</td>\n",
       "      <td>NaN</td>\n",
       "      <td>NaN</td>\n",
       "      <td>NaN</td>\n",
       "      <td>NaN</td>\n",
       "    </tr>\n",
       "    <tr>\n",
       "      <th>2</th>\n",
       "      <td>2004</td>\n",
       "      <td>Azerbaijan</td>\n",
       "      <td>62.0</td>\n",
       "      <td>99.08</td>\n",
       "      <td>52.87</td>\n",
       "      <td>56.74</td>\n",
       "      <td>23.91</td>\n",
       "      <td>24.66</td>\n",
       "      <td>54.42</td>\n",
       "      <td>87.40</td>\n",
       "      <td>...</td>\n",
       "      <td>24.0</td>\n",
       "      <td>78.28</td>\n",
       "      <td>63.12</td>\n",
       "      <td>100.0</td>\n",
       "      <td>80.88</td>\n",
       "      <td>NaN</td>\n",
       "      <td>NaN</td>\n",
       "      <td>NaN</td>\n",
       "      <td>NaN</td>\n",
       "      <td>NaN</td>\n",
       "    </tr>\n",
       "    <tr>\n",
       "      <th>3</th>\n",
       "      <td>2005</td>\n",
       "      <td>Azerbaijan</td>\n",
       "      <td>62.0</td>\n",
       "      <td>98.83</td>\n",
       "      <td>52.87</td>\n",
       "      <td>58.20</td>\n",
       "      <td>24.68</td>\n",
       "      <td>26.67</td>\n",
       "      <td>55.00</td>\n",
       "      <td>87.78</td>\n",
       "      <td>...</td>\n",
       "      <td>24.0</td>\n",
       "      <td>78.28</td>\n",
       "      <td>63.12</td>\n",
       "      <td>100.0</td>\n",
       "      <td>80.88</td>\n",
       "      <td>NaN</td>\n",
       "      <td>NaN</td>\n",
       "      <td>NaN</td>\n",
       "      <td>NaN</td>\n",
       "      <td>NaN</td>\n",
       "    </tr>\n",
       "    <tr>\n",
       "      <th>4</th>\n",
       "      <td>2006</td>\n",
       "      <td>Azerbaijan</td>\n",
       "      <td>62.0</td>\n",
       "      <td>94.99</td>\n",
       "      <td>52.87</td>\n",
       "      <td>58.73</td>\n",
       "      <td>25.47</td>\n",
       "      <td>28.87</td>\n",
       "      <td>55.21</td>\n",
       "      <td>86.48</td>\n",
       "      <td>...</td>\n",
       "      <td>24.0</td>\n",
       "      <td>78.28</td>\n",
       "      <td>63.12</td>\n",
       "      <td>100.0</td>\n",
       "      <td>80.88</td>\n",
       "      <td>NaN</td>\n",
       "      <td>NaN</td>\n",
       "      <td>NaN</td>\n",
       "      <td>NaN</td>\n",
       "      <td>NaN</td>\n",
       "    </tr>\n",
       "  </tbody>\n",
       "</table>\n",
       "<p>5 rows × 35 columns</p>\n",
       "</div>"
      ],
      "text/plain": [
       "   date country_name  Agriculture  PM2.5 Exposure  Ecosystem Vitality  \\\n",
       "0  2002   Azerbaijan         56.0           90.94               51.63   \n",
       "1  2003   Azerbaijan         56.0           97.03               51.77   \n",
       "2  2004   Azerbaijan         62.0           99.08               52.87   \n",
       "3  2005   Azerbaijan         62.0           98.83               52.87   \n",
       "4  2006   Azerbaijan         62.0           94.99               52.87   \n",
       "\n",
       "   Environmental Health  Unsafe drinking water  Unsafe sanitation  \\\n",
       "0                 50.98                  22.43              21.10   \n",
       "1                 54.39                  23.16              22.81   \n",
       "2                 56.74                  23.91              24.66   \n",
       "3                 58.20                  24.68              26.67   \n",
       "4                 58.73                  25.47              28.87   \n",
       "\n",
       "   Environmental Performance Index  Air Quality  ...  Pesticide Regulation  \\\n",
       "0                            51.37        80.05  ...                  12.0   \n",
       "1                            52.82        85.18  ...                  12.0   \n",
       "2                            54.42        87.40  ...                  24.0   \n",
       "3                            55.00        87.78  ...                  24.0   \n",
       "4                            55.21        86.48  ...                  24.0   \n",
       "\n",
       "   Change of Trend in Carbon Intensity  Change in Forest Cover  \\\n",
       "0                                78.28                   63.12   \n",
       "1                                78.28                   63.12   \n",
       "2                                78.28                   63.12   \n",
       "3                                78.28                   63.12   \n",
       "4                                78.28                   63.12   \n",
       "\n",
       "   Agricultural Subsidies  Climate  Fisheries  Coastal Shelf Fishing Pressure  \\\n",
       "0                   100.0    80.88        NaN                             NaN   \n",
       "1                   100.0    80.88        NaN                             NaN   \n",
       "2                   100.0    80.88        NaN                             NaN   \n",
       "3                   100.0    80.88        NaN                             NaN   \n",
       "4                   100.0    80.88        NaN                             NaN   \n",
       "\n",
       "   Fish Stock Status  Marine Protected Areas  Critical Habitat Protection  \n",
       "0                NaN                     NaN                          NaN  \n",
       "1                NaN                     NaN                          NaN  \n",
       "2                NaN                     NaN                          NaN  \n",
       "3                NaN                     NaN                          NaN  \n",
       "4                NaN                     NaN                          NaN  \n",
       "\n",
       "[5 rows x 35 columns]"
      ]
     },
     "execution_count": 15,
     "metadata": {},
     "output_type": "execute_result"
    }
   ],
   "source": [
    "epi_new_new.head()"
   ]
  },
  {
   "cell_type": "code",
   "execution_count": 16,
   "metadata": {
    "ExecuteTime": {
     "end_time": "2021-05-13T00:20:29.682451Z",
     "start_time": "2021-05-13T00:20:29.671444Z"
    }
   },
   "outputs": [
    {
     "data": {
      "text/plain": [
       "(3425, 35)"
      ]
     },
     "execution_count": 16,
     "metadata": {},
     "output_type": "execute_result"
    }
   ],
   "source": [
    "epi_new_new.shape"
   ]
  },
  {
   "cell_type": "code",
   "execution_count": 17,
   "metadata": {
    "ExecuteTime": {
     "end_time": "2021-05-13T00:20:29.714479Z",
     "start_time": "2021-05-13T00:20:29.684452Z"
    }
   },
   "outputs": [
    {
     "data": {
      "text/plain": [
       "Critical Habitat Protection                        1930\n",
       "Climate                                             959\n",
       "Change of Trend in Carbon Intensity                 959\n",
       "Trend in CO2 Emissions per KWH                      957\n",
       "Marine Protected Areas                              868\n",
       "Trend in Carbon Intensity                           853\n",
       "Coastal Shelf Fishing Pressure                      845\n",
       "Fish Stock Status                                   842\n",
       "Fisheries                                           842\n",
       "Change in Forest Cover                              826\n",
       "Climate & Energy                                    801\n",
       "Forests                                             668\n",
       "Agricultural Subsidies                              466\n",
       "Ecosystem Vitality                                   38\n",
       "Environmental Performance Index                      38\n",
       "Water Resources                                      26\n",
       "Wastewater Treatment                                 26\n",
       "Environmental Health                                 12\n",
       "Health Impacts                                        9\n",
       "Child Mortality                                       9\n",
       "Access to Electricity                                 9\n",
       "Agriculture                                           8\n",
       "Terrestrial biome protection (global weights)         8\n",
       "Biodiversity & Habitat                                8\n",
       "Terrestrial biome protection (national weights)       8\n",
       "Air Quality                                           4\n",
       "PM2.5 Exceedance                                      4\n",
       "PM2.5 Exposure                                        4\n",
       "dtype: int64"
      ]
     },
     "execution_count": 17,
     "metadata": {},
     "output_type": "execute_result"
    }
   ],
   "source": [
    "nulls = epi_new_new.isnull().sum().sort_values(ascending =False)\n",
    "nulls[nulls > 0]"
   ]
  },
  {
   "cell_type": "code",
   "execution_count": 18,
   "metadata": {
    "ExecuteTime": {
     "end_time": "2021-05-13T00:20:29.729492Z",
     "start_time": "2021-05-13T00:20:29.716482Z"
    }
   },
   "outputs": [],
   "source": [
    "drop_list = ['Climate','Forests', 'Critical Habitat Protection', 'Change in Forest Cover','Change of Trend in Carbon Intensity', 'Coastal Shelf Fishing Pressure',\n",
    "'Trend in CO2 Emissions per KWH','Trend in Carbon Intensity','Climate & Energy']"
   ]
  },
  {
   "cell_type": "code",
   "execution_count": 19,
   "metadata": {
    "ExecuteTime": {
     "end_time": "2021-05-13T00:20:29.744506Z",
     "start_time": "2021-05-13T00:20:29.731494Z"
    }
   },
   "outputs": [
    {
     "data": {
      "text/plain": [
       "9"
      ]
     },
     "execution_count": 19,
     "metadata": {},
     "output_type": "execute_result"
    }
   ],
   "source": [
    "len(drop_list)"
   ]
  },
  {
   "cell_type": "markdown",
   "metadata": {
    "ExecuteTime": {
     "end_time": "2021-05-13T00:13:04.306321Z",
     "start_time": "2021-05-13T00:13:03.966019Z"
    }
   },
   "source": [
    "more to look at: marine, Fisheries, fish stock, agricultural subsidies."
   ]
  },
  {
   "cell_type": "code",
   "execution_count": 20,
   "metadata": {
    "ExecuteTime": {
     "end_time": "2021-05-13T00:20:29.759519Z",
     "start_time": "2021-05-13T00:20:29.746508Z"
    }
   },
   "outputs": [],
   "source": [
    "epi_new_new.drop(columns=drop_list,inplace=True)"
   ]
  },
  {
   "cell_type": "code",
   "execution_count": 21,
   "metadata": {
    "ExecuteTime": {
     "end_time": "2021-05-13T00:20:29.775534Z",
     "start_time": "2021-05-13T00:20:29.762523Z"
    }
   },
   "outputs": [
    {
     "data": {
      "text/plain": [
       "Marine Protected Areas                             868\n",
       "Fisheries                                          842\n",
       "Fish Stock Status                                  842\n",
       "Agricultural Subsidies                             466\n",
       "Ecosystem Vitality                                  38\n",
       "Environmental Performance Index                     38\n",
       "Water Resources                                     26\n",
       "Wastewater Treatment                                26\n",
       "Environmental Health                                12\n",
       "Child Mortality                                      9\n",
       "Health Impacts                                       9\n",
       "Access to Electricity                                9\n",
       "Terrestrial biome protection (global weights)        8\n",
       "Agriculture                                          8\n",
       "Terrestrial biome protection (national weights)      8\n",
       "Biodiversity & Habitat                               8\n",
       "Air Quality                                          4\n",
       "PM2.5 Exceedance                                     4\n",
       "PM2.5 Exposure                                       4\n",
       "dtype: int64"
      ]
     },
     "execution_count": 21,
     "metadata": {},
     "output_type": "execute_result"
    }
   ],
   "source": [
    "nulls = epi_new_new.isnull().sum().sort_values(ascending =False)\n",
    "nulls[nulls > 0]"
   ]
  },
  {
   "cell_type": "code",
   "execution_count": 22,
   "metadata": {
    "ExecuteTime": {
     "end_time": "2021-05-13T00:20:29.790547Z",
     "start_time": "2021-05-13T00:20:29.780540Z"
    }
   },
   "outputs": [],
   "source": [
    "epi = epi_new_new"
   ]
  },
  {
   "cell_type": "code",
   "execution_count": 23,
   "metadata": {
    "ExecuteTime": {
     "end_time": "2021-05-13T00:20:29.806560Z",
     "start_time": "2021-05-13T00:20:29.792548Z"
    }
   },
   "outputs": [
    {
     "data": {
      "text/plain": [
       "Marine Protected Areas                             868\n",
       "Fisheries                                          842\n",
       "Fish Stock Status                                  842\n",
       "Agricultural Subsidies                             466\n",
       "Ecosystem Vitality                                  38\n",
       "Environmental Performance Index                     38\n",
       "Water Resources                                     26\n",
       "Wastewater Treatment                                26\n",
       "Environmental Health                                12\n",
       "Child Mortality                                      9\n",
       "Health Impacts                                       9\n",
       "Access to Electricity                                9\n",
       "Terrestrial biome protection (global weights)        8\n",
       "Agriculture                                          8\n",
       "Terrestrial biome protection (national weights)      8\n",
       "Biodiversity & Habitat                               8\n",
       "Air Quality                                          4\n",
       "PM2.5 Exceedance                                     4\n",
       "PM2.5 Exposure                                       4\n",
       "dtype: int64"
      ]
     },
     "execution_count": 23,
     "metadata": {},
     "output_type": "execute_result"
    }
   ],
   "source": [
    "nulls = epi.isnull().sum().sort_values(ascending =False)\n",
    "nulls[nulls > 0]"
   ]
  },
  {
   "cell_type": "markdown",
   "metadata": {},
   "source": [
    "checking the nulls for high null count indicators: Marine Protected Areas, Fisheries, Fish Stock Status and Agricultural Subsidies"
   ]
  },
  {
   "cell_type": "code",
   "execution_count": 24,
   "metadata": {
    "ExecuteTime": {
     "end_time": "2021-05-13T00:20:29.821575Z",
     "start_time": "2021-05-13T00:20:29.808562Z"
    }
   },
   "outputs": [],
   "source": [
    "#make new DF with just marine nulls\n",
    "marine_nulls = epi[epi['Marine Protected Areas'].isnull() == True]"
   ]
  },
  {
   "cell_type": "code",
   "execution_count": 25,
   "metadata": {
    "ExecuteTime": {
     "end_time": "2021-05-13T00:20:29.836588Z",
     "start_time": "2021-05-13T00:20:29.823578Z"
    }
   },
   "outputs": [],
   "source": [
    "marine_dic = marine_nulls['country_name'].value_counts().to_dict()"
   ]
  },
  {
   "cell_type": "code",
   "execution_count": 26,
   "metadata": {
    "ExecuteTime": {
     "end_time": "2021-05-13T00:20:29.852601Z",
     "start_time": "2021-05-13T00:20:29.838589Z"
    }
   },
   "outputs": [],
   "source": [
    "#get list of countries will nulls\n",
    "marine_countries = list(marine_dic.keys())"
   ]
  },
  {
   "cell_type": "code",
   "execution_count": 27,
   "metadata": {
    "ExecuteTime": {
     "end_time": "2021-05-13T00:20:29.867615Z",
     "start_time": "2021-05-13T00:20:29.854603Z"
    }
   },
   "outputs": [],
   "source": [
    "#make new DF with just fishery Nulls\n",
    "fish_nulls = epi[epi['Fisheries'].isnull() == True]"
   ]
  },
  {
   "cell_type": "code",
   "execution_count": 28,
   "metadata": {
    "ExecuteTime": {
     "end_time": "2021-05-13T00:20:29.882628Z",
     "start_time": "2021-05-13T00:20:29.869616Z"
    }
   },
   "outputs": [],
   "source": [
    "fish_dic = fish_nulls['country_name'].value_counts().to_dict()"
   ]
  },
  {
   "cell_type": "code",
   "execution_count": 29,
   "metadata": {
    "ExecuteTime": {
     "end_time": "2021-05-13T00:20:29.897641Z",
     "start_time": "2021-05-13T00:20:29.884631Z"
    }
   },
   "outputs": [],
   "source": [
    "#get list of countries with fisheries nulls\n",
    "fish_countries = list(fish_dic.keys())"
   ]
  },
  {
   "cell_type": "markdown",
   "metadata": {},
   "source": [
    "Compare list, decide what to do with non-landlocked countries."
   ]
  },
  {
   "cell_type": "code",
   "execution_count": 30,
   "metadata": {
    "ExecuteTime": {
     "end_time": "2021-05-13T00:20:29.913655Z",
     "start_time": "2021-05-13T00:20:29.902647Z"
    },
    "scrolled": true
   },
   "outputs": [
    {
     "data": {
      "text/plain": [
       "['Brunei Darussalam', 'Guinea-Bissau', 'Maldives']"
      ]
     },
     "execution_count": 30,
     "metadata": {},
     "output_type": "execute_result"
    }
   ],
   "source": [
    "[x for x in marine_countries if x not in fish_countries]"
   ]
  },
  {
   "cell_type": "code",
   "execution_count": 31,
   "metadata": {
    "ExecuteTime": {
     "end_time": "2021-05-13T00:20:29.928669Z",
     "start_time": "2021-05-13T00:20:29.915657Z"
    }
   },
   "outputs": [
    {
     "data": {
      "text/plain": [
       "['Saint Vincent and the Grenadines']"
      ]
     },
     "execution_count": 31,
     "metadata": {},
     "output_type": "execute_result"
    }
   ],
   "source": [
    "[x for x in fish_countries if x not in marine_countries]"
   ]
  },
  {
   "cell_type": "markdown",
   "metadata": {},
   "source": [
    "drop: maldives, saint vincent and the grenadines, saint lucia, Marshall Islands,micronesia, Sao Tome and Principe, samoa\n",
    "\n",
    "pad: guinea bissau, Brunei Darussalam"
   ]
  },
  {
   "cell_type": "code",
   "execution_count": 32,
   "metadata": {
    "ExecuteTime": {
     "end_time": "2021-05-13T00:20:29.944683Z",
     "start_time": "2021-05-13T00:20:29.930671Z"
    }
   },
   "outputs": [],
   "source": [
    "#update list\n",
    "fish_countries.remove('Saint Vincent and the Grenadines')\n",
    "marine_countries.remove('Maldives')\n",
    "marine_countries.remove('Guinea-Bissau')\n",
    "marine_countries.remove('Brunei Darussalam')"
   ]
  },
  {
   "cell_type": "code",
   "execution_count": 34,
   "metadata": {
    "ExecuteTime": {
     "end_time": "2021-05-13T00:20:29.974710Z",
     "start_time": "2021-05-13T00:20:29.961698Z"
    }
   },
   "outputs": [],
   "source": [
    "#new DF for fishing stock nulls\n",
    "fish_stock_nulls = epi[epi['Fish Stock Status'].isnull() == True]"
   ]
  },
  {
   "cell_type": "code",
   "execution_count": 35,
   "metadata": {
    "ExecuteTime": {
     "end_time": "2021-05-13T00:20:29.990724Z",
     "start_time": "2021-05-13T00:20:29.977712Z"
    }
   },
   "outputs": [],
   "source": [
    "fish_stock_dic = fish_stock_nulls['country_name'].value_counts().to_dict()"
   ]
  },
  {
   "cell_type": "code",
   "execution_count": 36,
   "metadata": {
    "ExecuteTime": {
     "end_time": "2021-05-13T00:20:30.005737Z",
     "start_time": "2021-05-13T00:20:29.993727Z"
    }
   },
   "outputs": [],
   "source": [
    "#get list of fishing stock null countries \n",
    "fish_stock_countries = list(fish_stock_dic.keys())"
   ]
  },
  {
   "cell_type": "code",
   "execution_count": 37,
   "metadata": {
    "ExecuteTime": {
     "end_time": "2021-05-13T00:20:30.020751Z",
     "start_time": "2021-05-13T00:20:30.006738Z"
    }
   },
   "outputs": [],
   "source": [
    "#we are not using Saint Vincent and the Grenadines\n",
    "fish_stock_countries.remove('Saint Vincent and the Grenadines')"
   ]
  },
  {
   "cell_type": "code",
   "execution_count": 38,
   "metadata": {
    "ExecuteTime": {
     "end_time": "2021-05-13T00:20:30.036766Z",
     "start_time": "2021-05-13T00:20:30.022754Z"
    }
   },
   "outputs": [
    {
     "data": {
      "text/plain": [
       "True"
      ]
     },
     "execution_count": 38,
     "metadata": {},
     "output_type": "execute_result"
    }
   ],
   "source": [
    "#look for differences in the list\n",
    "fish_stock_countries == fish_countries"
   ]
  },
  {
   "cell_type": "code",
   "execution_count": 55,
   "metadata": {
    "ExecuteTime": {
     "end_time": "2021-05-13T00:22:52.212510Z",
     "start_time": "2021-05-13T00:22:52.198498Z"
    }
   },
   "outputs": [
    {
     "data": {
      "text/plain": [
       "True"
      ]
     },
     "execution_count": 55,
     "metadata": {},
     "output_type": "execute_result"
    }
   ],
   "source": [
    "#make sure not to leave out any countries from the list\n",
    "sorted(marine_countries) == sorted(fish_countries)"
   ]
  },
  {
   "cell_type": "code",
   "execution_count": 46,
   "metadata": {
    "ExecuteTime": {
     "end_time": "2021-05-13T00:20:30.162877Z",
     "start_time": "2021-05-13T00:20:30.148864Z"
    }
   },
   "outputs": [],
   "source": [
    "land_locked = fish_countries"
   ]
  },
  {
   "cell_type": "code",
   "execution_count": 57,
   "metadata": {
    "ExecuteTime": {
     "end_time": "2021-05-13T00:28:27.956709Z",
     "start_time": "2021-05-13T00:28:27.940695Z"
    },
    "scrolled": false
   },
   "outputs": [
    {
     "data": {
      "text/plain": [
       "['Switzerland', 'Bosnia and Herzegovina', 'Austria']"
      ]
     },
     "execution_count": 57,
     "metadata": {},
     "output_type": "execute_result"
    }
   ],
   "source": [
    "land_locked[:3] #fill in with zeros for \"marine protected status, fisheries, and fish stock\""
   ]
  },
  {
   "cell_type": "markdown",
   "metadata": {},
   "source": [
    "not ocean related high nulls"
   ]
  },
  {
   "cell_type": "code",
   "execution_count": 63,
   "metadata": {
    "ExecuteTime": {
     "end_time": "2021-05-13T00:33:57.533127Z",
     "start_time": "2021-05-13T00:33:57.520116Z"
    }
   },
   "outputs": [],
   "source": [
    "ag_nulls = epi[epi['Agricultural Subsidies'].isnull() == True]"
   ]
  },
  {
   "cell_type": "code",
   "execution_count": 65,
   "metadata": {
    "ExecuteTime": {
     "end_time": "2021-05-13T00:33:57.845210Z",
     "start_time": "2021-05-13T00:33:57.838194Z"
    }
   },
   "outputs": [],
   "source": [
    "ag_dic = ag_nulls['country_name'].value_counts().to_dict()"
   ]
  },
  {
   "cell_type": "code",
   "execution_count": 66,
   "metadata": {
    "ExecuteTime": {
     "end_time": "2021-05-13T00:33:58.653977Z",
     "start_time": "2021-05-13T00:33:58.645969Z"
    }
   },
   "outputs": [],
   "source": [
    "ag_countries = list(ag_dic.keys())"
   ]
  },
  {
   "cell_type": "code",
   "execution_count": 68,
   "metadata": {
    "ExecuteTime": {
     "end_time": "2021-05-13T00:36:19.580850Z",
     "start_time": "2021-05-13T00:36:19.567322Z"
    }
   },
   "outputs": [],
   "source": [
    "ag_countries.remove('Marshall Islands')\n",
    "ag_countries.remove('Saint Lucia')"
   ]
  },
  {
   "cell_type": "code",
   "execution_count": 67,
   "metadata": {
    "ExecuteTime": {
     "end_time": "2021-05-13T00:35:19.198526Z",
     "start_time": "2021-05-13T00:35:19.183513Z"
    }
   },
   "outputs": [
    {
     "data": {
      "text/plain": [
       "Marine Protected Areas                             868\n",
       "Fisheries                                          842\n",
       "Fish Stock Status                                  842\n",
       "Agricultural Subsidies                             466\n",
       "Ecosystem Vitality                                  38\n",
       "Environmental Performance Index                     38\n",
       "Water Resources                                     26\n",
       "Wastewater Treatment                                26\n",
       "Environmental Health                                12\n",
       "Child Mortality                                      9\n",
       "Health Impacts                                       9\n",
       "Access to Electricity                                9\n",
       "Terrestrial biome protection (global weights)        8\n",
       "Agriculture                                          8\n",
       "Terrestrial biome protection (national weights)      8\n",
       "Biodiversity & Habitat                               8\n",
       "Air Quality                                          4\n",
       "PM2.5 Exceedance                                     4\n",
       "PM2.5 Exposure                                       4\n",
       "dtype: int64"
      ]
     },
     "execution_count": 67,
     "metadata": {},
     "output_type": "execute_result"
    }
   ],
   "source": [
    "nulls = epi.isnull().sum().sort_values(ascending =False)\n",
    "nulls[nulls > 0]"
   ]
  },
  {
   "cell_type": "code",
   "execution_count": 69,
   "metadata": {
    "ExecuteTime": {
     "end_time": "2021-05-13T00:38:03.354262Z",
     "start_time": "2021-05-13T00:38:03.351259Z"
    }
   },
   "outputs": [],
   "source": [
    "eco_vitality = epi[epi['Ecosystem Vitality'].isnull() == True]"
   ]
  },
  {
   "cell_type": "code",
   "execution_count": 70,
   "metadata": {
    "ExecuteTime": {
     "end_time": "2021-05-13T00:38:15.484918Z",
     "start_time": "2021-05-13T00:38:15.465899Z"
    }
   },
   "outputs": [
    {
     "data": {
      "text/plain": [
       "Marshall Islands                    8\n",
       "Micronesia                          6\n",
       "Saint Vincent and the Grenadines    6\n",
       "Saint Lucia                         6\n",
       "Samoa                               4\n",
       "Sao Tome and Principe               4\n",
       "Maldives                            4\n",
       "Name: country_name, dtype: int64"
      ]
     },
     "execution_count": 70,
     "metadata": {},
     "output_type": "execute_result"
    }
   ],
   "source": [
    "eco_vitality = epi[epi['Ecosystem Vitality'].isnull() == True]\n",
    "eco_vitality['country_name'].value_counts()"
   ]
  },
  {
   "cell_type": "markdown",
   "metadata": {},
   "source": [
    "* pad: \n",
    "\n",
    "* drop: micronesia, Sao Tome and Principe, samoa, "
   ]
  },
  {
   "cell_type": "code",
   "execution_count": 94,
   "metadata": {
    "ExecuteTime": {
     "end_time": "2021-05-13T00:50:38.888287Z",
     "start_time": "2021-05-13T00:50:38.873274Z"
    }
   },
   "outputs": [],
   "source": [
    "drop_countries = ['Maldives', 'Saint Vincent and the Grenadines','Saint Lucia', 'Marshall Islands','Micronesia', 'Sao Tome and Principe', 'Samoa']     "
   ]
  },
  {
   "cell_type": "code",
   "execution_count": 95,
   "metadata": {
    "ExecuteTime": {
     "end_time": "2021-05-13T00:50:39.339303Z",
     "start_time": "2021-05-13T00:50:39.328293Z"
    }
   },
   "outputs": [],
   "source": [
    "epi_2 = epi[~epi['country_name'].isin(drop_countries)]"
   ]
  },
  {
   "cell_type": "code",
   "execution_count": 96,
   "metadata": {
    "ExecuteTime": {
     "end_time": "2021-05-13T00:50:43.490726Z",
     "start_time": "2021-05-13T00:50:43.478716Z"
    }
   },
   "outputs": [
    {
     "data": {
      "text/plain": [
       "Marine Protected Areas    864\n",
       "Fisheries                 836\n",
       "Fish Stock Status         836\n",
       "Agricultural Subsidies    448\n",
       "dtype: int64"
      ]
     },
     "execution_count": 96,
     "metadata": {},
     "output_type": "execute_result"
    }
   ],
   "source": [
    "nulls = epi_2.isnull().sum().sort_values(ascending =False)\n",
    "nulls[nulls > 0]"
   ]
  },
  {
   "cell_type": "code",
   "execution_count": 93,
   "metadata": {
    "ExecuteTime": {
     "end_time": "2021-05-13T00:50:20.726899Z",
     "start_time": "2021-05-13T00:50:20.720894Z"
    }
   },
   "outputs": [],
   "source": [
    "def error_country_list(indicator):\n",
    "    df = epi[epi[indicator].isnull() == True]\n",
    "    return df['country_name'].value_counts()\n",
    "    "
   ]
  },
  {
   "cell_type": "code",
   "execution_count": 76,
   "metadata": {
    "ExecuteTime": {
     "end_time": "2021-05-13T00:42:45.934991Z",
     "start_time": "2021-05-13T00:42:45.912972Z"
    }
   },
   "outputs": [
    {
     "data": {
      "text/plain": [
       "Marshall Islands                    8\n",
       "Micronesia                          6\n",
       "Saint Vincent and the Grenadines    6\n",
       "Saint Lucia                         6\n",
       "Samoa                               4\n",
       "Sao Tome and Principe               4\n",
       "Maldives                            4\n",
       "Name: country_name, dtype: int64"
      ]
     },
     "execution_count": 76,
     "metadata": {},
     "output_type": "execute_result"
    }
   ],
   "source": [
    "error_country_list('Environmental Performance Index')"
   ]
  },
  {
   "cell_type": "code",
   "execution_count": 77,
   "metadata": {
    "ExecuteTime": {
     "end_time": "2021-05-13T00:43:18.972641Z",
     "start_time": "2021-05-13T00:43:18.965636Z"
    }
   },
   "outputs": [
    {
     "data": {
      "text/plain": [
       "Micronesia                          6\n",
       "Saint Vincent and the Grenadines    6\n",
       "Saint Lucia                         6\n",
       "Sao Tome and Principe               4\n",
       "Samoa                               4\n",
       "Name: country_name, dtype: int64"
      ]
     },
     "execution_count": 77,
     "metadata": {},
     "output_type": "execute_result"
    }
   ],
   "source": [
    "error_country_list('Water Resources')"
   ]
  },
  {
   "cell_type": "code",
   "execution_count": 78,
   "metadata": {
    "ExecuteTime": {
     "end_time": "2021-05-13T00:43:35.978651Z",
     "start_time": "2021-05-13T00:43:35.972646Z"
    }
   },
   "outputs": [
    {
     "data": {
      "text/plain": [
       "Micronesia                          6\n",
       "Saint Vincent and the Grenadines    6\n",
       "Saint Lucia                         6\n",
       "Sao Tome and Principe               4\n",
       "Samoa                               4\n",
       "Name: country_name, dtype: int64"
      ]
     },
     "execution_count": 78,
     "metadata": {},
     "output_type": "execute_result"
    }
   ],
   "source": [
    "error_country_list('Wastewater Treatment')"
   ]
  },
  {
   "cell_type": "code",
   "execution_count": 79,
   "metadata": {
    "ExecuteTime": {
     "end_time": "2021-05-13T00:43:52.773553Z",
     "start_time": "2021-05-13T00:43:52.755537Z"
    }
   },
   "outputs": [
    {
     "data": {
      "text/plain": [
       "Marshall Islands    8\n",
       "Maldives            4\n",
       "Name: country_name, dtype: int64"
      ]
     },
     "execution_count": 79,
     "metadata": {},
     "output_type": "execute_result"
    }
   ],
   "source": [
    "error_country_list('Environmental Health')"
   ]
  },
  {
   "cell_type": "code",
   "execution_count": 82,
   "metadata": {
    "ExecuteTime": {
     "end_time": "2021-05-13T00:45:26.169531Z",
     "start_time": "2021-05-13T00:45:26.160523Z"
    }
   },
   "outputs": [
    {
     "data": {
      "text/plain": [
       "Marshall Islands    9\n",
       "Name: country_name, dtype: int64"
      ]
     },
     "execution_count": 82,
     "metadata": {},
     "output_type": "execute_result"
    }
   ],
   "source": [
    "error_country_list('Child Mortality')"
   ]
  },
  {
   "cell_type": "code",
   "execution_count": 83,
   "metadata": {
    "ExecuteTime": {
     "end_time": "2021-05-13T00:45:41.245436Z",
     "start_time": "2021-05-13T00:45:41.235441Z"
    }
   },
   "outputs": [
    {
     "data": {
      "text/plain": [
       "Marshall Islands    9\n",
       "Name: country_name, dtype: int64"
      ]
     },
     "execution_count": 83,
     "metadata": {},
     "output_type": "execute_result"
    }
   ],
   "source": [
    "error_country_list('Health Impacts')"
   ]
  },
  {
   "cell_type": "code",
   "execution_count": 84,
   "metadata": {
    "ExecuteTime": {
     "end_time": "2021-05-13T00:45:59.856127Z",
     "start_time": "2021-05-13T00:45:59.837110Z"
    }
   },
   "outputs": [
    {
     "data": {
      "text/plain": [
       "Micronesia    9\n",
       "Name: country_name, dtype: int64"
      ]
     },
     "execution_count": 84,
     "metadata": {},
     "output_type": "execute_result"
    }
   ],
   "source": [
    "error_country_list('Access to Electricity')"
   ]
  },
  {
   "cell_type": "code",
   "execution_count": 85,
   "metadata": {
    "ExecuteTime": {
     "end_time": "2021-05-13T00:46:17.511764Z",
     "start_time": "2021-05-13T00:46:17.491735Z"
    }
   },
   "outputs": [
    {
     "data": {
      "text/plain": [
       "Sao Tome and Principe    4\n",
       "Maldives                 4\n",
       "Name: country_name, dtype: int64"
      ]
     },
     "execution_count": 85,
     "metadata": {},
     "output_type": "execute_result"
    }
   ],
   "source": [
    "error_country_list('Terrestrial biome protection (global weights)')"
   ]
  },
  {
   "cell_type": "code",
   "execution_count": null,
   "metadata": {},
   "outputs": [],
   "source": []
  },
  {
   "cell_type": "code",
   "execution_count": null,
   "metadata": {},
   "outputs": [],
   "source": []
  },
  {
   "cell_type": "code",
   "execution_count": null,
   "metadata": {},
   "outputs": [],
   "source": []
  },
  {
   "cell_type": "code",
   "execution_count": null,
   "metadata": {},
   "outputs": [],
   "source": []
  },
  {
   "cell_type": "code",
   "execution_count": null,
   "metadata": {},
   "outputs": [],
   "source": []
  },
  {
   "cell_type": "code",
   "execution_count": null,
   "metadata": {},
   "outputs": [],
   "source": []
  },
  {
   "cell_type": "code",
   "execution_count": null,
   "metadata": {},
   "outputs": [],
   "source": []
  },
  {
   "cell_type": "code",
   "execution_count": 73,
   "metadata": {
    "ExecuteTime": {
     "end_time": "2021-05-13T00:39:36.424250Z",
     "start_time": "2021-05-13T00:39:36.386216Z"
    },
    "scrolled": true
   },
   "outputs": [
    {
     "data": {
      "text/html": [
       "<div>\n",
       "<style scoped>\n",
       "    .dataframe tbody tr th:only-of-type {\n",
       "        vertical-align: middle;\n",
       "    }\n",
       "\n",
       "    .dataframe tbody tr th {\n",
       "        vertical-align: top;\n",
       "    }\n",
       "\n",
       "    .dataframe thead th {\n",
       "        text-align: right;\n",
       "    }\n",
       "</style>\n",
       "<table border=\"1\" class=\"dataframe\">\n",
       "  <thead>\n",
       "    <tr style=\"text-align: right;\">\n",
       "      <th></th>\n",
       "      <th>date</th>\n",
       "      <th>country_name</th>\n",
       "      <th>Agriculture</th>\n",
       "      <th>PM2.5 Exposure</th>\n",
       "      <th>Ecosystem Vitality</th>\n",
       "      <th>Environmental Health</th>\n",
       "      <th>Unsafe drinking water</th>\n",
       "      <th>Unsafe sanitation</th>\n",
       "      <th>Environmental Performance Index</th>\n",
       "      <th>Air Quality</th>\n",
       "      <th>...</th>\n",
       "      <th>PM2.5 Exceedance</th>\n",
       "      <th>Household Air Quality</th>\n",
       "      <th>Access to Electricity</th>\n",
       "      <th>Health Impacts</th>\n",
       "      <th>Child Mortality</th>\n",
       "      <th>Pesticide Regulation</th>\n",
       "      <th>Agricultural Subsidies</th>\n",
       "      <th>Fisheries</th>\n",
       "      <th>Fish Stock Status</th>\n",
       "      <th>Marine Protected Areas</th>\n",
       "    </tr>\n",
       "  </thead>\n",
       "  <tbody>\n",
       "    <tr>\n",
       "      <th>1211</th>\n",
       "      <td>2012</td>\n",
       "      <td>Micronesia</td>\n",
       "      <td>56.000</td>\n",
       "      <td>100.0</td>\n",
       "      <td>NaN</td>\n",
       "      <td>57.940000</td>\n",
       "      <td>40.690000</td>\n",
       "      <td>14.340000</td>\n",
       "      <td>NaN</td>\n",
       "      <td>86.330000</td>\n",
       "      <td>...</td>\n",
       "      <td>100.0</td>\n",
       "      <td>59.0</td>\n",
       "      <td>NaN</td>\n",
       "      <td>59.97</td>\n",
       "      <td>59.97</td>\n",
       "      <td>12.0</td>\n",
       "      <td>100.0</td>\n",
       "      <td>57.92</td>\n",
       "      <td>15.84</td>\n",
       "      <td>0.000</td>\n",
       "    </tr>\n",
       "    <tr>\n",
       "      <th>1212</th>\n",
       "      <td>2013</td>\n",
       "      <td>Micronesia</td>\n",
       "      <td>50.505</td>\n",
       "      <td>100.0</td>\n",
       "      <td>NaN</td>\n",
       "      <td>58.263333</td>\n",
       "      <td>41.346667</td>\n",
       "      <td>19.973333</td>\n",
       "      <td>NaN</td>\n",
       "      <td>83.121667</td>\n",
       "      <td>...</td>\n",
       "      <td>100.0</td>\n",
       "      <td>59.0</td>\n",
       "      <td>NaN</td>\n",
       "      <td>59.97</td>\n",
       "      <td>59.97</td>\n",
       "      <td>12.0</td>\n",
       "      <td>100.0</td>\n",
       "      <td>56.60</td>\n",
       "      <td>13.20</td>\n",
       "      <td>8.625</td>\n",
       "    </tr>\n",
       "    <tr>\n",
       "      <th>1213</th>\n",
       "      <td>2014</td>\n",
       "      <td>Micronesia</td>\n",
       "      <td>45.010</td>\n",
       "      <td>100.0</td>\n",
       "      <td>NaN</td>\n",
       "      <td>58.586667</td>\n",
       "      <td>42.003333</td>\n",
       "      <td>25.606667</td>\n",
       "      <td>NaN</td>\n",
       "      <td>79.913333</td>\n",
       "      <td>...</td>\n",
       "      <td>100.0</td>\n",
       "      <td>59.0</td>\n",
       "      <td>NaN</td>\n",
       "      <td>59.97</td>\n",
       "      <td>59.97</td>\n",
       "      <td>12.0</td>\n",
       "      <td>100.0</td>\n",
       "      <td>55.28</td>\n",
       "      <td>10.56</td>\n",
       "      <td>17.250</td>\n",
       "    </tr>\n",
       "    <tr>\n",
       "      <th>1214</th>\n",
       "      <td>2015</td>\n",
       "      <td>Micronesia</td>\n",
       "      <td>39.515</td>\n",
       "      <td>100.0</td>\n",
       "      <td>NaN</td>\n",
       "      <td>58.910000</td>\n",
       "      <td>42.660000</td>\n",
       "      <td>31.240000</td>\n",
       "      <td>NaN</td>\n",
       "      <td>76.705000</td>\n",
       "      <td>...</td>\n",
       "      <td>100.0</td>\n",
       "      <td>59.0</td>\n",
       "      <td>NaN</td>\n",
       "      <td>59.97</td>\n",
       "      <td>59.97</td>\n",
       "      <td>12.0</td>\n",
       "      <td>100.0</td>\n",
       "      <td>53.96</td>\n",
       "      <td>7.92</td>\n",
       "      <td>25.875</td>\n",
       "    </tr>\n",
       "    <tr>\n",
       "      <th>1215</th>\n",
       "      <td>2016</td>\n",
       "      <td>Micronesia</td>\n",
       "      <td>34.020</td>\n",
       "      <td>100.0</td>\n",
       "      <td>NaN</td>\n",
       "      <td>59.233333</td>\n",
       "      <td>43.316667</td>\n",
       "      <td>36.873333</td>\n",
       "      <td>NaN</td>\n",
       "      <td>73.496667</td>\n",
       "      <td>...</td>\n",
       "      <td>100.0</td>\n",
       "      <td>59.0</td>\n",
       "      <td>NaN</td>\n",
       "      <td>59.97</td>\n",
       "      <td>59.97</td>\n",
       "      <td>12.0</td>\n",
       "      <td>100.0</td>\n",
       "      <td>52.64</td>\n",
       "      <td>5.28</td>\n",
       "      <td>34.500</td>\n",
       "    </tr>\n",
       "    <tr>\n",
       "      <th>1216</th>\n",
       "      <td>2017</td>\n",
       "      <td>Micronesia</td>\n",
       "      <td>28.525</td>\n",
       "      <td>100.0</td>\n",
       "      <td>NaN</td>\n",
       "      <td>59.556667</td>\n",
       "      <td>43.973333</td>\n",
       "      <td>42.506667</td>\n",
       "      <td>NaN</td>\n",
       "      <td>70.288333</td>\n",
       "      <td>...</td>\n",
       "      <td>100.0</td>\n",
       "      <td>59.0</td>\n",
       "      <td>NaN</td>\n",
       "      <td>59.97</td>\n",
       "      <td>59.97</td>\n",
       "      <td>12.0</td>\n",
       "      <td>100.0</td>\n",
       "      <td>51.32</td>\n",
       "      <td>2.64</td>\n",
       "      <td>43.125</td>\n",
       "    </tr>\n",
       "    <tr>\n",
       "      <th>1217</th>\n",
       "      <td>2018</td>\n",
       "      <td>Micronesia</td>\n",
       "      <td>23.030</td>\n",
       "      <td>100.0</td>\n",
       "      <td>43.070</td>\n",
       "      <td>59.880000</td>\n",
       "      <td>44.630000</td>\n",
       "      <td>48.140000</td>\n",
       "      <td>49.8</td>\n",
       "      <td>67.080000</td>\n",
       "      <td>...</td>\n",
       "      <td>100.0</td>\n",
       "      <td>59.0</td>\n",
       "      <td>NaN</td>\n",
       "      <td>59.97</td>\n",
       "      <td>59.97</td>\n",
       "      <td>12.0</td>\n",
       "      <td>100.0</td>\n",
       "      <td>50.00</td>\n",
       "      <td>0.00</td>\n",
       "      <td>51.750</td>\n",
       "    </tr>\n",
       "    <tr>\n",
       "      <th>1218</th>\n",
       "      <td>2019</td>\n",
       "      <td>Micronesia</td>\n",
       "      <td>21.215</td>\n",
       "      <td>65.5</td>\n",
       "      <td>38.785</td>\n",
       "      <td>45.340000</td>\n",
       "      <td>38.765000</td>\n",
       "      <td>43.770000</td>\n",
       "      <td>41.4</td>\n",
       "      <td>48.040000</td>\n",
       "      <td>...</td>\n",
       "      <td>100.0</td>\n",
       "      <td>59.0</td>\n",
       "      <td>NaN</td>\n",
       "      <td>59.97</td>\n",
       "      <td>59.97</td>\n",
       "      <td>12.0</td>\n",
       "      <td>100.0</td>\n",
       "      <td>41.35</td>\n",
       "      <td>0.00</td>\n",
       "      <td>25.925</td>\n",
       "    </tr>\n",
       "    <tr>\n",
       "      <th>1219</th>\n",
       "      <td>2020</td>\n",
       "      <td>Micronesia</td>\n",
       "      <td>19.400</td>\n",
       "      <td>31.0</td>\n",
       "      <td>34.500</td>\n",
       "      <td>30.800000</td>\n",
       "      <td>32.900000</td>\n",
       "      <td>39.400000</td>\n",
       "      <td>33.0</td>\n",
       "      <td>29.000000</td>\n",
       "      <td>...</td>\n",
       "      <td>100.0</td>\n",
       "      <td>59.0</td>\n",
       "      <td>NaN</td>\n",
       "      <td>59.97</td>\n",
       "      <td>59.97</td>\n",
       "      <td>12.0</td>\n",
       "      <td>100.0</td>\n",
       "      <td>32.70</td>\n",
       "      <td>0.00</td>\n",
       "      <td>0.100</td>\n",
       "    </tr>\n",
       "  </tbody>\n",
       "</table>\n",
       "<p>9 rows × 26 columns</p>\n",
       "</div>"
      ],
      "text/plain": [
       "      date country_name  Agriculture  PM2.5 Exposure  Ecosystem Vitality  \\\n",
       "1211  2012   Micronesia       56.000           100.0                 NaN   \n",
       "1212  2013   Micronesia       50.505           100.0                 NaN   \n",
       "1213  2014   Micronesia       45.010           100.0                 NaN   \n",
       "1214  2015   Micronesia       39.515           100.0                 NaN   \n",
       "1215  2016   Micronesia       34.020           100.0                 NaN   \n",
       "1216  2017   Micronesia       28.525           100.0                 NaN   \n",
       "1217  2018   Micronesia       23.030           100.0              43.070   \n",
       "1218  2019   Micronesia       21.215            65.5              38.785   \n",
       "1219  2020   Micronesia       19.400            31.0              34.500   \n",
       "\n",
       "      Environmental Health  Unsafe drinking water  Unsafe sanitation  \\\n",
       "1211             57.940000              40.690000          14.340000   \n",
       "1212             58.263333              41.346667          19.973333   \n",
       "1213             58.586667              42.003333          25.606667   \n",
       "1214             58.910000              42.660000          31.240000   \n",
       "1215             59.233333              43.316667          36.873333   \n",
       "1216             59.556667              43.973333          42.506667   \n",
       "1217             59.880000              44.630000          48.140000   \n",
       "1218             45.340000              38.765000          43.770000   \n",
       "1219             30.800000              32.900000          39.400000   \n",
       "\n",
       "      Environmental Performance Index  Air Quality  ...  PM2.5 Exceedance  \\\n",
       "1211                              NaN    86.330000  ...             100.0   \n",
       "1212                              NaN    83.121667  ...             100.0   \n",
       "1213                              NaN    79.913333  ...             100.0   \n",
       "1214                              NaN    76.705000  ...             100.0   \n",
       "1215                              NaN    73.496667  ...             100.0   \n",
       "1216                              NaN    70.288333  ...             100.0   \n",
       "1217                             49.8    67.080000  ...             100.0   \n",
       "1218                             41.4    48.040000  ...             100.0   \n",
       "1219                             33.0    29.000000  ...             100.0   \n",
       "\n",
       "      Household Air Quality  Access to Electricity  Health Impacts  \\\n",
       "1211                   59.0                    NaN           59.97   \n",
       "1212                   59.0                    NaN           59.97   \n",
       "1213                   59.0                    NaN           59.97   \n",
       "1214                   59.0                    NaN           59.97   \n",
       "1215                   59.0                    NaN           59.97   \n",
       "1216                   59.0                    NaN           59.97   \n",
       "1217                   59.0                    NaN           59.97   \n",
       "1218                   59.0                    NaN           59.97   \n",
       "1219                   59.0                    NaN           59.97   \n",
       "\n",
       "      Child Mortality  Pesticide Regulation  Agricultural Subsidies  \\\n",
       "1211            59.97                  12.0                   100.0   \n",
       "1212            59.97                  12.0                   100.0   \n",
       "1213            59.97                  12.0                   100.0   \n",
       "1214            59.97                  12.0                   100.0   \n",
       "1215            59.97                  12.0                   100.0   \n",
       "1216            59.97                  12.0                   100.0   \n",
       "1217            59.97                  12.0                   100.0   \n",
       "1218            59.97                  12.0                   100.0   \n",
       "1219            59.97                  12.0                   100.0   \n",
       "\n",
       "      Fisheries  Fish Stock Status  Marine Protected Areas  \n",
       "1211      57.92              15.84                   0.000  \n",
       "1212      56.60              13.20                   8.625  \n",
       "1213      55.28              10.56                  17.250  \n",
       "1214      53.96               7.92                  25.875  \n",
       "1215      52.64               5.28                  34.500  \n",
       "1216      51.32               2.64                  43.125  \n",
       "1217      50.00               0.00                  51.750  \n",
       "1218      41.35               0.00                  25.925  \n",
       "1219      32.70               0.00                   0.100  \n",
       "\n",
       "[9 rows x 26 columns]"
      ]
     },
     "execution_count": 73,
     "metadata": {},
     "output_type": "execute_result"
    }
   ],
   "source": [
    "epi[epi['country_name'] == 'Micronesia'].head(50)"
   ]
  },
  {
   "cell_type": "code",
   "execution_count": null,
   "metadata": {},
   "outputs": [],
   "source": []
  },
  {
   "cell_type": "code",
   "execution_count": 49,
   "metadata": {
    "ExecuteTime": {
     "end_time": "2021-05-13T00:20:30.224931Z",
     "start_time": "2021-05-13T00:20:30.210920Z"
    }
   },
   "outputs": [
    {
     "ename": "SyntaxError",
     "evalue": "invalid syntax (<ipython-input-49-b6379532b430>, line 1)",
     "output_type": "error",
     "traceback": [
      "\u001b[1;36m  File \u001b[1;32m\"<ipython-input-49-b6379532b430>\"\u001b[1;36m, line \u001b[1;32m1\u001b[0m\n\u001b[1;33m    stop error\u001b[0m\n\u001b[1;37m         ^\u001b[0m\n\u001b[1;31mSyntaxError\u001b[0m\u001b[1;31m:\u001b[0m invalid syntax\n"
     ]
    }
   ],
   "source": [
    "stop error"
   ]
  },
  {
   "cell_type": "code",
   "execution_count": null,
   "metadata": {},
   "outputs": [],
   "source": []
  },
  {
   "cell_type": "code",
   "execution_count": null,
   "metadata": {},
   "outputs": [],
   "source": []
  },
  {
   "cell_type": "code",
   "execution_count": null,
   "metadata": {},
   "outputs": [],
   "source": []
  },
  {
   "cell_type": "code",
   "execution_count": null,
   "metadata": {},
   "outputs": [],
   "source": []
  },
  {
   "cell_type": "code",
   "execution_count": null,
   "metadata": {},
   "outputs": [],
   "source": []
  },
  {
   "cell_type": "code",
   "execution_count": null,
   "metadata": {},
   "outputs": [],
   "source": []
  },
  {
   "cell_type": "code",
   "execution_count": null,
   "metadata": {},
   "outputs": [],
   "source": []
  },
  {
   "cell_type": "code",
   "execution_count": null,
   "metadata": {},
   "outputs": [],
   "source": []
  },
  {
   "cell_type": "code",
   "execution_count": null,
   "metadata": {},
   "outputs": [],
   "source": []
  },
  {
   "cell_type": "code",
   "execution_count": null,
   "metadata": {},
   "outputs": [],
   "source": []
  },
  {
   "cell_type": "code",
   "execution_count": null,
   "metadata": {},
   "outputs": [],
   "source": []
  },
  {
   "cell_type": "code",
   "execution_count": null,
   "metadata": {},
   "outputs": [],
   "source": []
  },
  {
   "cell_type": "code",
   "execution_count": null,
   "metadata": {},
   "outputs": [],
   "source": []
  },
  {
   "cell_type": "code",
   "execution_count": null,
   "metadata": {},
   "outputs": [],
   "source": []
  },
  {
   "cell_type": "code",
   "execution_count": null,
   "metadata": {},
   "outputs": [],
   "source": []
  },
  {
   "cell_type": "code",
   "execution_count": null,
   "metadata": {},
   "outputs": [],
   "source": []
  },
  {
   "cell_type": "code",
   "execution_count": null,
   "metadata": {},
   "outputs": [],
   "source": []
  },
  {
   "cell_type": "code",
   "execution_count": null,
   "metadata": {},
   "outputs": [],
   "source": []
  },
  {
   "cell_type": "code",
   "execution_count": null,
   "metadata": {},
   "outputs": [],
   "source": []
  },
  {
   "cell_type": "code",
   "execution_count": null,
   "metadata": {},
   "outputs": [],
   "source": []
  },
  {
   "cell_type": "code",
   "execution_count": null,
   "metadata": {
    "ExecuteTime": {
     "end_time": "2021-05-13T00:20:30.226934Z",
     "start_time": "2021-05-13T00:20:07.989Z"
    }
   },
   "outputs": [],
   "source": [
    "attributes = pd.read_csv('../../project_5/epi2020variableattributes20200604.csv')"
   ]
  },
  {
   "cell_type": "code",
   "execution_count": null,
   "metadata": {},
   "outputs": [],
   "source": []
  },
  {
   "cell_type": "code",
   "execution_count": null,
   "metadata": {},
   "outputs": [],
   "source": []
  },
  {
   "cell_type": "code",
   "execution_count": null,
   "metadata": {},
   "outputs": [],
   "source": []
  },
  {
   "cell_type": "code",
   "execution_count": null,
   "metadata": {},
   "outputs": [],
   "source": []
  },
  {
   "cell_type": "code",
   "execution_count": null,
   "metadata": {},
   "outputs": [],
   "source": []
  },
  {
   "cell_type": "code",
   "execution_count": null,
   "metadata": {},
   "outputs": [],
   "source": []
  },
  {
   "cell_type": "code",
   "execution_count": null,
   "metadata": {},
   "outputs": [],
   "source": []
  },
  {
   "cell_type": "markdown",
   "metadata": {},
   "source": [
    "checking the nulls for high null count indicators: Marine Protected Areas, Fisheries, Fish Stock Status and Agricultural Subsidies"
   ]
  },
  {
   "cell_type": "code",
   "execution_count": 24,
   "metadata": {
    "ExecuteTime": {
     "end_time": "2021-05-13T00:20:29.821575Z",
     "start_time": "2021-05-13T00:20:29.808562Z"
    }
   },
   "outputs": [],
   "source": [
    "#make new DF with just marine nulls\n",
    "marine_nulls = epi[epi['Marine Protected Areas'].isnull() == True]"
   ]
  },
  {
   "cell_type": "code",
   "execution_count": 25,
   "metadata": {
    "ExecuteTime": {
     "end_time": "2021-05-13T00:20:29.836588Z",
     "start_time": "2021-05-13T00:20:29.823578Z"
    }
   },
   "outputs": [],
   "source": [
    "marine_dic = marine_nulls['country_name'].value_counts().to_dict()"
   ]
  },
  {
   "cell_type": "code",
   "execution_count": 26,
   "metadata": {
    "ExecuteTime": {
     "end_time": "2021-05-13T00:20:29.852601Z",
     "start_time": "2021-05-13T00:20:29.838589Z"
    }
   },
   "outputs": [],
   "source": [
    "#get list of countries will nulls\n",
    "marine_countries = list(marine_dic.keys())"
   ]
  },
  {
   "cell_type": "code",
   "execution_count": 27,
   "metadata": {
    "ExecuteTime": {
     "end_time": "2021-05-13T00:20:29.867615Z",
     "start_time": "2021-05-13T00:20:29.854603Z"
    }
   },
   "outputs": [],
   "source": [
    "#make new DF with just fishery Nulls\n",
    "fish_nulls = epi[epi['Fisheries'].isnull() == True]"
   ]
  },
  {
   "cell_type": "code",
   "execution_count": 28,
   "metadata": {
    "ExecuteTime": {
     "end_time": "2021-05-13T00:20:29.882628Z",
     "start_time": "2021-05-13T00:20:29.869616Z"
    }
   },
   "outputs": [],
   "source": [
    "fish_dic = fish_nulls['country_name'].value_counts().to_dict()"
   ]
  },
  {
   "cell_type": "code",
   "execution_count": 29,
   "metadata": {
    "ExecuteTime": {
     "end_time": "2021-05-13T00:20:29.897641Z",
     "start_time": "2021-05-13T00:20:29.884631Z"
    }
   },
   "outputs": [],
   "source": [
    "#get list of countries with fisheries nulls\n",
    "fish_countries = list(fish_dic.keys())"
   ]
  },
  {
   "cell_type": "markdown",
   "metadata": {},
   "source": [
    "Compare list, decide what to do with non-landlocked countries."
   ]
  },
  {
   "cell_type": "code",
   "execution_count": 30,
   "metadata": {
    "ExecuteTime": {
     "end_time": "2021-05-13T00:20:29.913655Z",
     "start_time": "2021-05-13T00:20:29.902647Z"
    },
    "scrolled": true
   },
   "outputs": [
    {
     "data": {
      "text/plain": [
       "['Brunei Darussalam', 'Guinea-Bissau', 'Maldives']"
      ]
     },
     "execution_count": 30,
     "metadata": {},
     "output_type": "execute_result"
    }
   ],
   "source": [
    "[x for x in marine_countries if x not in fish_countries]"
   ]
  },
  {
   "cell_type": "code",
   "execution_count": 31,
   "metadata": {
    "ExecuteTime": {
     "end_time": "2021-05-13T00:20:29.928669Z",
     "start_time": "2021-05-13T00:20:29.915657Z"
    }
   },
   "outputs": [
    {
     "data": {
      "text/plain": [
       "['Saint Vincent and the Grenadines']"
      ]
     },
     "execution_count": 31,
     "metadata": {},
     "output_type": "execute_result"
    }
   ],
   "source": [
    "[x for x in fish_countries if x not in marine_countries]"
   ]
  },
  {
   "cell_type": "markdown",
   "metadata": {},
   "source": [
    "drop: maldives, saint vincent and the grenadines, saint lucia, Marshall Islands.\n",
    "pad: guinea bissau, Brunei Darussalam"
   ]
  },
  {
   "cell_type": "code",
   "execution_count": 32,
   "metadata": {
    "ExecuteTime": {
     "end_time": "2021-05-13T00:20:29.944683Z",
     "start_time": "2021-05-13T00:20:29.930671Z"
    }
   },
   "outputs": [],
   "source": [
    "#update list\n",
    "fish_countries.remove('Saint Vincent and the Grenadines')\n",
    "marine_countries.remove('Maldives')\n",
    "marine_countries.remove('Guinea-Bissau')\n",
    "marine_countries.remove('Brunei Darussalam')"
   ]
  },
  {
   "cell_type": "code",
   "execution_count": 34,
   "metadata": {
    "ExecuteTime": {
     "end_time": "2021-05-13T00:20:29.974710Z",
     "start_time": "2021-05-13T00:20:29.961698Z"
    }
   },
   "outputs": [],
   "source": [
    "#new DF for fishing stock nulls\n",
    "fish_stock_nulls = epi[epi['Fish Stock Status'].isnull() == True]"
   ]
  },
  {
   "cell_type": "code",
   "execution_count": 35,
   "metadata": {
    "ExecuteTime": {
     "end_time": "2021-05-13T00:20:29.990724Z",
     "start_time": "2021-05-13T00:20:29.977712Z"
    }
   },
   "outputs": [],
   "source": [
    "fish_stock_dic = fish_stock_nulls['country_name'].value_counts().to_dict()"
   ]
  },
  {
   "cell_type": "code",
   "execution_count": 36,
   "metadata": {
    "ExecuteTime": {
     "end_time": "2021-05-13T00:20:30.005737Z",
     "start_time": "2021-05-13T00:20:29.993727Z"
    }
   },
   "outputs": [],
   "source": [
    "#get list of fishing stock null countries \n",
    "fish_stock_countries = list(fish_stock_dic.keys())"
   ]
  },
  {
   "cell_type": "code",
   "execution_count": 37,
   "metadata": {
    "ExecuteTime": {
     "end_time": "2021-05-13T00:20:30.020751Z",
     "start_time": "2021-05-13T00:20:30.006738Z"
    }
   },
   "outputs": [],
   "source": [
    "#we are not using Saint Vincent and the Grenadines\n",
    "fish_stock_countries.remove('Saint Vincent and the Grenadines')"
   ]
  },
  {
   "cell_type": "code",
   "execution_count": 38,
   "metadata": {
    "ExecuteTime": {
     "end_time": "2021-05-13T00:20:30.036766Z",
     "start_time": "2021-05-13T00:20:30.022754Z"
    }
   },
   "outputs": [
    {
     "data": {
      "text/plain": [
       "True"
      ]
     },
     "execution_count": 38,
     "metadata": {},
     "output_type": "execute_result"
    }
   ],
   "source": [
    "#look for differences in the list\n",
    "fish_stock_countries == fish_countries"
   ]
  },
  {
   "cell_type": "code",
   "execution_count": 55,
   "metadata": {
    "ExecuteTime": {
     "end_time": "2021-05-13T00:22:52.212510Z",
     "start_time": "2021-05-13T00:22:52.198498Z"
    }
   },
   "outputs": [
    {
     "data": {
      "text/plain": [
       "True"
      ]
     },
     "execution_count": 55,
     "metadata": {},
     "output_type": "execute_result"
    }
   ],
   "source": [
    "#make sure not to leave out any countries from the list\n",
    "sorted(marine_countries) == sorted(fish_countries)"
   ]
  },
  {
   "cell_type": "code",
   "execution_count": 46,
   "metadata": {
    "ExecuteTime": {
     "end_time": "2021-05-13T00:20:30.162877Z",
     "start_time": "2021-05-13T00:20:30.148864Z"
    }
   },
   "outputs": [],
   "source": [
    "land_locked = fish_countries"
   ]
  },
  {
   "cell_type": "code",
   "execution_count": 57,
   "metadata": {
    "ExecuteTime": {
     "end_time": "2021-05-13T00:28:27.956709Z",
     "start_time": "2021-05-13T00:28:27.940695Z"
    },
    "scrolled": true
   },
   "outputs": [
    {
     "data": {
      "text/plain": [
       "['Switzerland', 'Bosnia and Herzegovina', 'Austria']"
      ]
     },
     "execution_count": 57,
     "metadata": {},
     "output_type": "execute_result"
    }
   ],
   "source": [
    "land_locked[:3] #fill in with zeros for \"marine protected status, fisheries, and fish stock\""
   ]
  },
  {
   "cell_type": "code",
   "execution_count": null,
   "metadata": {},
   "outputs": [],
   "source": [
    "checking the nulls for high null count indicators: Marine Protected Areas, Fisheries, Fish Stock Status and Agricultural Subsidies\n",
    "\n",
    "#make new DF with just marine nulls\n",
    "marine_nulls = epi[epi['Marine Protected Areas'].isnull() == True]\n",
    "\n",
    "marine_dic = marine_nulls['country_name'].value_counts().to_dict()\n",
    "\n",
    "#get list of countries will nulls\n",
    "marine_countries = list(marine_dic.keys())\n",
    "\n",
    "#make new DF with just fishery Nulls\n",
    "fish_nulls = epi[epi['Fisheries'].isnull() == True]\n",
    "\n",
    "fish_dic = fish_nulls['country_name'].value_counts().to_dict()\n",
    "\n",
    "#get list of countries with fisheries nulls\n",
    "fish_countries = list(fish_dic.keys())\n",
    "\n",
    "Compare list, decide what to do with non-landlocked countries.\n",
    "\n",
    "[x for x in marine_countries if x not in fish_countries]\n",
    "\n",
    "[x for x in fish_countries if x not in marine_countries]\n",
    "\n",
    "drop: maldives, saint vincent and the grenadines, saint lucia, Marshall Islands.\n",
    "pad: guinea bissau, Brunei Darussalam\n",
    "\n",
    "#update list\n",
    "fish_countries.remove('Saint Vincent and the Grenadines')\n",
    "marine_countries.remove('Maldives')\n",
    "marine_countries.remove('Guinea-Bissau')\n",
    "marine_countries.remove('Brunei Darussalam')\n",
    "\n",
    "#new DF for fishing stock nulls\n",
    "fish_stock_nulls = epi[epi['Fish Stock Status'].isnull() == True]\n",
    "\n",
    "fish_stock_dic = fish_stock_nulls['country_name'].value_counts().to_dict()\n",
    "\n",
    "#get list of fishing stock null countries \n",
    "fish_stock_countries = list(fish_stock_dic.keys())\n",
    "\n",
    "#we are not using Saint Vincent and the Grenadines\n",
    "fish_stock_countries.remove('Saint Vincent and the Grenadines')\n",
    "\n",
    "#look for differences in the list\n",
    "fish_stock_countries == fish_countries\n",
    "\n",
    "#make sure not to leave out any countries from the list\n",
    "sorted(marine_countries) == sorted(fish_countries)\n",
    "\n",
    "land_locked = fish_countries\n",
    "\n",
    "land_locked[:3] #fill in with zeros for \"marine protected status, fisheries, and fish stock\"\n",
    "\n"
   ]
  },
  {
   "cell_type": "code",
   "execution_count": null,
   "metadata": {},
   "outputs": [],
   "source": []
  },
  {
   "cell_type": "code",
   "execution_count": null,
   "metadata": {},
   "outputs": [],
   "source": []
  },
  {
   "cell_type": "code",
   "execution_count": null,
   "metadata": {
    "ExecuteTime": {
     "end_time": "2021-05-13T00:20:30.228935Z",
     "start_time": "2021-05-13T00:20:08.000Z"
    }
   },
   "outputs": [],
   "source": [
    "attributes.head(50)"
   ]
  },
  {
   "cell_type": "code",
   "execution_count": null,
   "metadata": {},
   "outputs": [],
   "source": []
  },
  {
   "cell_type": "code",
   "execution_count": null,
   "metadata": {
    "ExecuteTime": {
     "end_time": "2021-05-13T00:20:30.230943Z",
     "start_time": "2021-05-13T00:20:08.002Z"
    }
   },
   "outputs": [],
   "source": [
    "nulls = epi_new.isnull().sum().sort_values(ascending =False)\n",
    "nulls[nulls > 0]"
   ]
  },
  {
   "cell_type": "code",
   "execution_count": null,
   "metadata": {
    "ExecuteTime": {
     "end_time": "2021-05-13T00:20:30.232939Z",
     "start_time": "2021-05-13T00:20:08.003Z"
    }
   },
   "outputs": [],
   "source": [
    "s = pd.Series([1,2,3,np.nan,np.nan,np.nan])\n",
    "s"
   ]
  },
  {
   "cell_type": "code",
   "execution_count": null,
   "metadata": {
    "ExecuteTime": {
     "end_time": "2021-05-13T00:20:30.234940Z",
     "start_time": "2021-05-13T00:20:08.004Z"
    }
   },
   "outputs": [],
   "source": [
    "s.interpolate(method='spline', order=1)"
   ]
  },
  {
   "cell_type": "code",
   "execution_count": null,
   "metadata": {},
   "outputs": [],
   "source": []
  }
 ],
 "metadata": {
  "kernelspec": {
   "display_name": "Python 3",
   "language": "python",
   "name": "python3"
  },
  "language_info": {
   "codemirror_mode": {
    "name": "ipython",
    "version": 3
   },
   "file_extension": ".py",
   "mimetype": "text/x-python",
   "name": "python",
   "nbconvert_exporter": "python",
   "pygments_lexer": "ipython3",
   "version": "3.8.5"
  }
 },
 "nbformat": 4,
 "nbformat_minor": 4
}
