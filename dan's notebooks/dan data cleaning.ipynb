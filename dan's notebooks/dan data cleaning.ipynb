{
 "cells": [
  {
   "cell_type": "code",
   "execution_count": 1,
   "metadata": {
    "ExecuteTime": {
     "end_time": "2021-05-13T16:34:56.781001Z",
     "start_time": "2021-05-13T16:34:55.119046Z"
    }
   },
   "outputs": [],
   "source": [
    "import pandas as pd\n",
    "import numpy as np"
   ]
  },
  {
   "cell_type": "code",
   "execution_count": 2,
   "metadata": {
    "ExecuteTime": {
     "end_time": "2021-05-13T16:34:56.906109Z",
     "start_time": "2021-05-13T16:34:56.783003Z"
    }
   },
   "outputs": [],
   "source": [
    "epi = pd.read_csv('../data/EPI_data/ObservationData_rqridaf.csv')"
   ]
  },
  {
   "cell_type": "markdown",
   "metadata": {},
   "source": [
    "***Data Import***"
   ]
  },
  {
   "cell_type": "code",
   "execution_count": 3,
   "metadata": {
    "ExecuteTime": {
     "end_time": "2021-05-13T16:34:56.922124Z",
     "start_time": "2021-05-13T16:34:56.908111Z"
    },
    "tags": []
   },
   "outputs": [],
   "source": [
    "def epi_to_country_data(country_name):\n",
    "    country = epi[epi['location'] == country_name]\n",
    "\n",
    "    indicators = list(country['indicator'].value_counts().to_dict().keys())\n",
    "\n",
    "    min_date = country['Date'].min()\n",
    "    max_date = country['Date'].max()\n",
    "\n",
    "    dates = pd.Series(list(range(min_date, max_date + 1)))\n",
    "    transpose_country = pd.DataFrame()\n",
    "    transpose_country['date'] = dates\n",
    "    transpose_country['country_name'] = country_name\n",
    "\n",
    "    for indicator in indicators:\n",
    "        indicator_df = country[country['indicator'] == indicator]\n",
    "\n",
    "        date_values = {key: None for key in list(range(min_date, max_date + 1))}\n",
    "        for row in indicator_df.iterrows():\n",
    "            date_values[row[1]['Date']] = row[1]['Value']\n",
    "\n",
    "        transpose_country[indicator] = date_values.values()\n",
    "        \n",
    "    return transpose_country"
   ]
  },
  {
   "cell_type": "code",
   "execution_count": 4,
   "metadata": {
    "ExecuteTime": {
     "end_time": "2021-05-13T16:34:56.938138Z",
     "start_time": "2021-05-13T16:34:56.923125Z"
    }
   },
   "outputs": [],
   "source": [
    "best_indicators = [key for key, value in epi['indicator'].value_counts().to_dict().items() if value > 500]"
   ]
  },
  {
   "cell_type": "code",
   "execution_count": 5,
   "metadata": {
    "ExecuteTime": {
     "end_time": "2021-05-13T16:34:56.970166Z",
     "start_time": "2021-05-13T16:34:56.940139Z"
    }
   },
   "outputs": [],
   "source": [
    "epi = epi[epi['indicator'].isin(best_indicators)]"
   ]
  },
  {
   "cell_type": "code",
   "execution_count": 6,
   "metadata": {
    "ExecuteTime": {
     "end_time": "2021-05-13T16:35:11.161648Z",
     "start_time": "2021-05-13T16:34:56.972168Z"
    }
   },
   "outputs": [],
   "source": [
    "epi_new = pd.DataFrame()\n",
    "\n",
    "for country_name in  set(epi['location'].values):\n",
    "    country_df = epi_to_country_data(country_name)\n",
    "    epi_new = pd.concat([epi_new, country_df], ignore_index = True)"
   ]
  },
  {
   "cell_type": "code",
   "execution_count": 7,
   "metadata": {
    "ExecuteTime": {
     "end_time": "2021-05-13T16:35:11.222702Z",
     "start_time": "2021-05-13T16:35:11.163649Z"
    },
    "scrolled": true
   },
   "outputs": [
    {
     "data": {
      "text/html": [
       "<div>\n",
       "<style scoped>\n",
       "    .dataframe tbody tr th:only-of-type {\n",
       "        vertical-align: middle;\n",
       "    }\n",
       "\n",
       "    .dataframe tbody tr th {\n",
       "        vertical-align: top;\n",
       "    }\n",
       "\n",
       "    .dataframe thead th {\n",
       "        text-align: right;\n",
       "    }\n",
       "</style>\n",
       "<table border=\"1\" class=\"dataframe\">\n",
       "  <thead>\n",
       "    <tr style=\"text-align: right;\">\n",
       "      <th></th>\n",
       "      <th>date</th>\n",
       "      <th>country_name</th>\n",
       "      <th>Unsafe drinking water</th>\n",
       "      <th>Environmental Performance Index</th>\n",
       "      <th>Fish Stock Status</th>\n",
       "      <th>Agriculture</th>\n",
       "      <th>Air Quality</th>\n",
       "      <th>Wastewater Treatment</th>\n",
       "      <th>Sanitation &amp; Drinking Water</th>\n",
       "      <th>Unsafe sanitation</th>\n",
       "      <th>...</th>\n",
       "      <th>Trend in Carbon Intensity</th>\n",
       "      <th>Household Air Quality</th>\n",
       "      <th>Child Mortality</th>\n",
       "      <th>Pesticide Regulation</th>\n",
       "      <th>Agricultural Subsidies</th>\n",
       "      <th>Change in Forest Cover</th>\n",
       "      <th>Coastal Shelf Fishing Pressure</th>\n",
       "      <th>Change of Trend in Carbon Intensity</th>\n",
       "      <th>Climate</th>\n",
       "      <th>Critical Habitat Protection</th>\n",
       "    </tr>\n",
       "  </thead>\n",
       "  <tbody>\n",
       "    <tr>\n",
       "      <th>0</th>\n",
       "      <td>2002</td>\n",
       "      <td>Sweden</td>\n",
       "      <td>100</td>\n",
       "      <td>77.09</td>\n",
       "      <td>13.79</td>\n",
       "      <td>50.68</td>\n",
       "      <td>97.25</td>\n",
       "      <td>87.86</td>\n",
       "      <td>100</td>\n",
       "      <td>100</td>\n",
       "      <td>...</td>\n",
       "      <td>77.67</td>\n",
       "      <td>95</td>\n",
       "      <td>100</td>\n",
       "      <td>92</td>\n",
       "      <td>9.37</td>\n",
       "      <td>14.35</td>\n",
       "      <td>29.3</td>\n",
       "      <td>29.51</td>\n",
       "      <td>77.34</td>\n",
       "      <td>NaN</td>\n",
       "    </tr>\n",
       "    <tr>\n",
       "      <th>1</th>\n",
       "      <td>2003</td>\n",
       "      <td>Sweden</td>\n",
       "      <td>100</td>\n",
       "      <td>77.14</td>\n",
       "      <td>8.16</td>\n",
       "      <td>50.48</td>\n",
       "      <td>96.77</td>\n",
       "      <td>87.86</td>\n",
       "      <td>100</td>\n",
       "      <td>100</td>\n",
       "      <td>...</td>\n",
       "      <td>77.67</td>\n",
       "      <td>95</td>\n",
       "      <td>100</td>\n",
       "      <td>92</td>\n",
       "      <td>8.96</td>\n",
       "      <td>14.35</td>\n",
       "      <td>37.14</td>\n",
       "      <td>29.51</td>\n",
       "      <td>77.34</td>\n",
       "      <td>NaN</td>\n",
       "    </tr>\n",
       "    <tr>\n",
       "      <th>2</th>\n",
       "      <td>2004</td>\n",
       "      <td>Sweden</td>\n",
       "      <td>100</td>\n",
       "      <td>77.29</td>\n",
       "      <td>8.42</td>\n",
       "      <td>51.36</td>\n",
       "      <td>97.13</td>\n",
       "      <td>87.86</td>\n",
       "      <td>100</td>\n",
       "      <td>100</td>\n",
       "      <td>...</td>\n",
       "      <td>77.67</td>\n",
       "      <td>95</td>\n",
       "      <td>100</td>\n",
       "      <td>92</td>\n",
       "      <td>10.73</td>\n",
       "      <td>14.35</td>\n",
       "      <td>37.05</td>\n",
       "      <td>29.51</td>\n",
       "      <td>77.34</td>\n",
       "      <td>NaN</td>\n",
       "    </tr>\n",
       "    <tr>\n",
       "      <th>3</th>\n",
       "      <td>2005</td>\n",
       "      <td>Sweden</td>\n",
       "      <td>100</td>\n",
       "      <td>77.46</td>\n",
       "      <td>10.71</td>\n",
       "      <td>54.62</td>\n",
       "      <td>97.13</td>\n",
       "      <td>87.86</td>\n",
       "      <td>100</td>\n",
       "      <td>100</td>\n",
       "      <td>...</td>\n",
       "      <td>77.67</td>\n",
       "      <td>95</td>\n",
       "      <td>100</td>\n",
       "      <td>92</td>\n",
       "      <td>17.23</td>\n",
       "      <td>14.35</td>\n",
       "      <td>37.9</td>\n",
       "      <td>29.51</td>\n",
       "      <td>77.34</td>\n",
       "      <td>NaN</td>\n",
       "    </tr>\n",
       "    <tr>\n",
       "      <th>4</th>\n",
       "      <td>2006</td>\n",
       "      <td>Sweden</td>\n",
       "      <td>100</td>\n",
       "      <td>77.48</td>\n",
       "      <td>11.48</td>\n",
       "      <td>55.55</td>\n",
       "      <td>96.53</td>\n",
       "      <td>87.86</td>\n",
       "      <td>100</td>\n",
       "      <td>100</td>\n",
       "      <td>...</td>\n",
       "      <td>77.67</td>\n",
       "      <td>95</td>\n",
       "      <td>100</td>\n",
       "      <td>92</td>\n",
       "      <td>19.1</td>\n",
       "      <td>14.35</td>\n",
       "      <td>38.83</td>\n",
       "      <td>29.51</td>\n",
       "      <td>77.34</td>\n",
       "      <td>NaN</td>\n",
       "    </tr>\n",
       "    <tr>\n",
       "      <th>5</th>\n",
       "      <td>2007</td>\n",
       "      <td>Sweden</td>\n",
       "      <td>100</td>\n",
       "      <td>77.47</td>\n",
       "      <td>5.41</td>\n",
       "      <td>60.24</td>\n",
       "      <td>96.53</td>\n",
       "      <td>87.86</td>\n",
       "      <td>100</td>\n",
       "      <td>100</td>\n",
       "      <td>...</td>\n",
       "      <td>77.67</td>\n",
       "      <td>95</td>\n",
       "      <td>100</td>\n",
       "      <td>92</td>\n",
       "      <td>28.48</td>\n",
       "      <td>14.35</td>\n",
       "      <td>38.83</td>\n",
       "      <td>29.51</td>\n",
       "      <td>77.34</td>\n",
       "      <td>NaN</td>\n",
       "    </tr>\n",
       "    <tr>\n",
       "      <th>6</th>\n",
       "      <td>2008</td>\n",
       "      <td>Sweden</td>\n",
       "      <td>100</td>\n",
       "      <td>77.69</td>\n",
       "      <td>5.76</td>\n",
       "      <td>61.26</td>\n",
       "      <td>97.37</td>\n",
       "      <td>87.86</td>\n",
       "      <td>100</td>\n",
       "      <td>100</td>\n",
       "      <td>...</td>\n",
       "      <td>77.67</td>\n",
       "      <td>95</td>\n",
       "      <td>100</td>\n",
       "      <td>92</td>\n",
       "      <td>30.52</td>\n",
       "      <td>14.35</td>\n",
       "      <td>38.83</td>\n",
       "      <td>29.51</td>\n",
       "      <td>77.34</td>\n",
       "      <td>NaN</td>\n",
       "    </tr>\n",
       "    <tr>\n",
       "      <th>7</th>\n",
       "      <td>2009</td>\n",
       "      <td>Sweden</td>\n",
       "      <td>100</td>\n",
       "      <td>77.94</td>\n",
       "      <td>11.29</td>\n",
       "      <td>60.73</td>\n",
       "      <td>97.49</td>\n",
       "      <td>87.86</td>\n",
       "      <td>100</td>\n",
       "      <td>100</td>\n",
       "      <td>...</td>\n",
       "      <td>77.67</td>\n",
       "      <td>95</td>\n",
       "      <td>99.93</td>\n",
       "      <td>92</td>\n",
       "      <td>29.46</td>\n",
       "      <td>14.35</td>\n",
       "      <td>38.83</td>\n",
       "      <td>29.51</td>\n",
       "      <td>77.34</td>\n",
       "      <td>NaN</td>\n",
       "    </tr>\n",
       "    <tr>\n",
       "      <th>8</th>\n",
       "      <td>2010</td>\n",
       "      <td>Sweden</td>\n",
       "      <td>100</td>\n",
       "      <td>77.93</td>\n",
       "      <td>8.38</td>\n",
       "      <td>63.23</td>\n",
       "      <td>97.25</td>\n",
       "      <td>87.86</td>\n",
       "      <td>100</td>\n",
       "      <td>100</td>\n",
       "      <td>...</td>\n",
       "      <td>77.67</td>\n",
       "      <td>95</td>\n",
       "      <td>99.91</td>\n",
       "      <td>92</td>\n",
       "      <td>34.46</td>\n",
       "      <td>14.35</td>\n",
       "      <td>38.83</td>\n",
       "      <td>29.51</td>\n",
       "      <td>77.34</td>\n",
       "      <td>NaN</td>\n",
       "    </tr>\n",
       "    <tr>\n",
       "      <th>9</th>\n",
       "      <td>2011</td>\n",
       "      <td>Sweden</td>\n",
       "      <td>100</td>\n",
       "      <td>78.03</td>\n",
       "      <td>11.76</td>\n",
       "      <td>65.18</td>\n",
       "      <td>96.65</td>\n",
       "      <td>87.86</td>\n",
       "      <td>100</td>\n",
       "      <td>100</td>\n",
       "      <td>...</td>\n",
       "      <td>77.67</td>\n",
       "      <td>95</td>\n",
       "      <td>100</td>\n",
       "      <td>92</td>\n",
       "      <td>38.35</td>\n",
       "      <td>14.35</td>\n",
       "      <td>38.83</td>\n",
       "      <td>29.51</td>\n",
       "      <td>77.34</td>\n",
       "      <td>NaN</td>\n",
       "    </tr>\n",
       "    <tr>\n",
       "      <th>10</th>\n",
       "      <td>2012</td>\n",
       "      <td>Sweden</td>\n",
       "      <td>100</td>\n",
       "      <td>78.09</td>\n",
       "      <td>11.76</td>\n",
       "      <td>65.18</td>\n",
       "      <td>97.13</td>\n",
       "      <td>87.86</td>\n",
       "      <td>100</td>\n",
       "      <td>100</td>\n",
       "      <td>...</td>\n",
       "      <td>77.67</td>\n",
       "      <td>95</td>\n",
       "      <td>100</td>\n",
       "      <td>92</td>\n",
       "      <td>38.35</td>\n",
       "      <td>14.35</td>\n",
       "      <td>38.83</td>\n",
       "      <td>29.51</td>\n",
       "      <td>77.34</td>\n",
       "      <td>NaN</td>\n",
       "    </tr>\n",
       "    <tr>\n",
       "      <th>11</th>\n",
       "      <td>2013</td>\n",
       "      <td>Sweden</td>\n",
       "      <td>None</td>\n",
       "      <td>None</td>\n",
       "      <td>None</td>\n",
       "      <td>None</td>\n",
       "      <td>None</td>\n",
       "      <td>None</td>\n",
       "      <td>None</td>\n",
       "      <td>None</td>\n",
       "      <td>...</td>\n",
       "      <td>None</td>\n",
       "      <td>None</td>\n",
       "      <td>None</td>\n",
       "      <td>None</td>\n",
       "      <td>None</td>\n",
       "      <td>None</td>\n",
       "      <td>None</td>\n",
       "      <td>None</td>\n",
       "      <td>None</td>\n",
       "      <td>NaN</td>\n",
       "    </tr>\n",
       "    <tr>\n",
       "      <th>12</th>\n",
       "      <td>2014</td>\n",
       "      <td>Sweden</td>\n",
       "      <td>100</td>\n",
       "      <td>78.09</td>\n",
       "      <td>11.76</td>\n",
       "      <td>65.18</td>\n",
       "      <td>97.13</td>\n",
       "      <td>87.86</td>\n",
       "      <td>100</td>\n",
       "      <td>100</td>\n",
       "      <td>...</td>\n",
       "      <td>77.67</td>\n",
       "      <td>95</td>\n",
       "      <td>100</td>\n",
       "      <td>92</td>\n",
       "      <td>38.35</td>\n",
       "      <td>14.35</td>\n",
       "      <td>38.83</td>\n",
       "      <td>29.51</td>\n",
       "      <td>None</td>\n",
       "      <td>NaN</td>\n",
       "    </tr>\n",
       "    <tr>\n",
       "      <th>13</th>\n",
       "      <td>2015</td>\n",
       "      <td>Sweden</td>\n",
       "      <td>None</td>\n",
       "      <td>None</td>\n",
       "      <td>None</td>\n",
       "      <td>None</td>\n",
       "      <td>None</td>\n",
       "      <td>None</td>\n",
       "      <td>None</td>\n",
       "      <td>None</td>\n",
       "      <td>...</td>\n",
       "      <td>None</td>\n",
       "      <td>None</td>\n",
       "      <td>None</td>\n",
       "      <td>None</td>\n",
       "      <td>None</td>\n",
       "      <td>None</td>\n",
       "      <td>None</td>\n",
       "      <td>None</td>\n",
       "      <td>None</td>\n",
       "      <td>NaN</td>\n",
       "    </tr>\n",
       "    <tr>\n",
       "      <th>14</th>\n",
       "      <td>2016</td>\n",
       "      <td>Sweden</td>\n",
       "      <td>100</td>\n",
       "      <td>90.43</td>\n",
       "      <td>50.82</td>\n",
       "      <td>100</td>\n",
       "      <td>93.26</td>\n",
       "      <td>96.08</td>\n",
       "      <td>99.57</td>\n",
       "      <td>98.29</td>\n",
       "      <td>...</td>\n",
       "      <td>95.2464</td>\n",
       "      <td>95</td>\n",
       "      <td>None</td>\n",
       "      <td>None</td>\n",
       "      <td>None</td>\n",
       "      <td>None</td>\n",
       "      <td>None</td>\n",
       "      <td>None</td>\n",
       "      <td>None</td>\n",
       "      <td>NaN</td>\n",
       "    </tr>\n",
       "    <tr>\n",
       "      <th>15</th>\n",
       "      <td>2017</td>\n",
       "      <td>Sweden</td>\n",
       "      <td>None</td>\n",
       "      <td>None</td>\n",
       "      <td>None</td>\n",
       "      <td>None</td>\n",
       "      <td>None</td>\n",
       "      <td>None</td>\n",
       "      <td>None</td>\n",
       "      <td>None</td>\n",
       "      <td>...</td>\n",
       "      <td>None</td>\n",
       "      <td>None</td>\n",
       "      <td>None</td>\n",
       "      <td>None</td>\n",
       "      <td>None</td>\n",
       "      <td>None</td>\n",
       "      <td>None</td>\n",
       "      <td>None</td>\n",
       "      <td>None</td>\n",
       "      <td>NaN</td>\n",
       "    </tr>\n",
       "    <tr>\n",
       "      <th>16</th>\n",
       "      <td>2018</td>\n",
       "      <td>Sweden</td>\n",
       "      <td>98.14</td>\n",
       "      <td>80.51</td>\n",
       "      <td>49.6</td>\n",
       "      <td>55.12</td>\n",
       "      <td>92.84</td>\n",
       "      <td>98.49</td>\n",
       "      <td>96.88</td>\n",
       "      <td>95.62</td>\n",
       "      <td>...</td>\n",
       "      <td>None</td>\n",
       "      <td>None</td>\n",
       "      <td>None</td>\n",
       "      <td>None</td>\n",
       "      <td>None</td>\n",
       "      <td>None</td>\n",
       "      <td>None</td>\n",
       "      <td>None</td>\n",
       "      <td>None</td>\n",
       "      <td>NaN</td>\n",
       "    </tr>\n",
       "    <tr>\n",
       "      <th>17</th>\n",
       "      <td>2019</td>\n",
       "      <td>Sweden</td>\n",
       "      <td>None</td>\n",
       "      <td>None</td>\n",
       "      <td>None</td>\n",
       "      <td>None</td>\n",
       "      <td>None</td>\n",
       "      <td>None</td>\n",
       "      <td>None</td>\n",
       "      <td>None</td>\n",
       "      <td>...</td>\n",
       "      <td>None</td>\n",
       "      <td>None</td>\n",
       "      <td>None</td>\n",
       "      <td>None</td>\n",
       "      <td>None</td>\n",
       "      <td>None</td>\n",
       "      <td>None</td>\n",
       "      <td>None</td>\n",
       "      <td>None</td>\n",
       "      <td>NaN</td>\n",
       "    </tr>\n",
       "    <tr>\n",
       "      <th>18</th>\n",
       "      <td>2020</td>\n",
       "      <td>Sweden</td>\n",
       "      <td>97.7</td>\n",
       "      <td>78.7</td>\n",
       "      <td>5.9</td>\n",
       "      <td>63.6</td>\n",
       "      <td>98.2</td>\n",
       "      <td>100</td>\n",
       "      <td>98.5</td>\n",
       "      <td>99.7</td>\n",
       "      <td>...</td>\n",
       "      <td>None</td>\n",
       "      <td>None</td>\n",
       "      <td>None</td>\n",
       "      <td>None</td>\n",
       "      <td>None</td>\n",
       "      <td>None</td>\n",
       "      <td>None</td>\n",
       "      <td>None</td>\n",
       "      <td>None</td>\n",
       "      <td>NaN</td>\n",
       "    </tr>\n",
       "    <tr>\n",
       "      <th>19</th>\n",
       "      <td>2002</td>\n",
       "      <td>Israel</td>\n",
       "      <td>100</td>\n",
       "      <td>65.32</td>\n",
       "      <td>0</td>\n",
       "      <td>11.83</td>\n",
       "      <td>84.33</td>\n",
       "      <td>88.4</td>\n",
       "      <td>100</td>\n",
       "      <td>100</td>\n",
       "      <td>...</td>\n",
       "      <td>31.85</td>\n",
       "      <td>95</td>\n",
       "      <td>93.05</td>\n",
       "      <td>4</td>\n",
       "      <td>19.66</td>\n",
       "      <td>NaN</td>\n",
       "      <td>0</td>\n",
       "      <td>38.6</td>\n",
       "      <td>41.86</td>\n",
       "      <td>0</td>\n",
       "    </tr>\n",
       "    <tr>\n",
       "      <th>20</th>\n",
       "      <td>2003</td>\n",
       "      <td>Israel</td>\n",
       "      <td>100</td>\n",
       "      <td>65.6</td>\n",
       "      <td>0</td>\n",
       "      <td>15.22</td>\n",
       "      <td>84.92</td>\n",
       "      <td>88.4</td>\n",
       "      <td>100</td>\n",
       "      <td>100</td>\n",
       "      <td>...</td>\n",
       "      <td>31.85</td>\n",
       "      <td>95</td>\n",
       "      <td>93.6</td>\n",
       "      <td>4</td>\n",
       "      <td>26.43</td>\n",
       "      <td>NaN</td>\n",
       "      <td>0</td>\n",
       "      <td>38.6</td>\n",
       "      <td>41.86</td>\n",
       "      <td>0</td>\n",
       "    </tr>\n",
       "    <tr>\n",
       "      <th>21</th>\n",
       "      <td>2004</td>\n",
       "      <td>Israel</td>\n",
       "      <td>100</td>\n",
       "      <td>65.47</td>\n",
       "      <td>0</td>\n",
       "      <td>15.73</td>\n",
       "      <td>82.64</td>\n",
       "      <td>88.4</td>\n",
       "      <td>100</td>\n",
       "      <td>100</td>\n",
       "      <td>...</td>\n",
       "      <td>31.85</td>\n",
       "      <td>95</td>\n",
       "      <td>94.16</td>\n",
       "      <td>4</td>\n",
       "      <td>27.47</td>\n",
       "      <td>NaN</td>\n",
       "      <td>0</td>\n",
       "      <td>38.6</td>\n",
       "      <td>41.86</td>\n",
       "      <td>0</td>\n",
       "    </tr>\n",
       "    <tr>\n",
       "      <th>22</th>\n",
       "      <td>2005</td>\n",
       "      <td>Israel</td>\n",
       "      <td>100</td>\n",
       "      <td>65.49</td>\n",
       "      <td>0</td>\n",
       "      <td>14.52</td>\n",
       "      <td>82.4</td>\n",
       "      <td>88.4</td>\n",
       "      <td>100</td>\n",
       "      <td>100</td>\n",
       "      <td>...</td>\n",
       "      <td>31.85</td>\n",
       "      <td>95</td>\n",
       "      <td>94.7</td>\n",
       "      <td>4</td>\n",
       "      <td>25.04</td>\n",
       "      <td>NaN</td>\n",
       "      <td>0</td>\n",
       "      <td>38.6</td>\n",
       "      <td>41.86</td>\n",
       "      <td>0</td>\n",
       "    </tr>\n",
       "    <tr>\n",
       "      <th>23</th>\n",
       "      <td>2006</td>\n",
       "      <td>Israel</td>\n",
       "      <td>100</td>\n",
       "      <td>65.6</td>\n",
       "      <td>0</td>\n",
       "      <td>17.09</td>\n",
       "      <td>82.06</td>\n",
       "      <td>88.4</td>\n",
       "      <td>100</td>\n",
       "      <td>100</td>\n",
       "      <td>...</td>\n",
       "      <td>31.85</td>\n",
       "      <td>95</td>\n",
       "      <td>95.23</td>\n",
       "      <td>4</td>\n",
       "      <td>30.17</td>\n",
       "      <td>NaN</td>\n",
       "      <td>0</td>\n",
       "      <td>38.6</td>\n",
       "      <td>41.86</td>\n",
       "      <td>0</td>\n",
       "    </tr>\n",
       "    <tr>\n",
       "      <th>24</th>\n",
       "      <td>2007</td>\n",
       "      <td>Israel</td>\n",
       "      <td>100</td>\n",
       "      <td>66.97</td>\n",
       "      <td>0</td>\n",
       "      <td>52</td>\n",
       "      <td>82.72</td>\n",
       "      <td>88.4</td>\n",
       "      <td>100</td>\n",
       "      <td>100</td>\n",
       "      <td>...</td>\n",
       "      <td>31.85</td>\n",
       "      <td>95</td>\n",
       "      <td>95.75</td>\n",
       "      <td>4</td>\n",
       "      <td>100</td>\n",
       "      <td>NaN</td>\n",
       "      <td>0</td>\n",
       "      <td>38.6</td>\n",
       "      <td>41.86</td>\n",
       "      <td>0</td>\n",
       "    </tr>\n",
       "    <tr>\n",
       "      <th>25</th>\n",
       "      <td>2008</td>\n",
       "      <td>Israel</td>\n",
       "      <td>100</td>\n",
       "      <td>65.75</td>\n",
       "      <td>0</td>\n",
       "      <td>11.82</td>\n",
       "      <td>82.33</td>\n",
       "      <td>88.4</td>\n",
       "      <td>100</td>\n",
       "      <td>100</td>\n",
       "      <td>...</td>\n",
       "      <td>31.85</td>\n",
       "      <td>95</td>\n",
       "      <td>96.27</td>\n",
       "      <td>4</td>\n",
       "      <td>19.65</td>\n",
       "      <td>NaN</td>\n",
       "      <td>0</td>\n",
       "      <td>38.6</td>\n",
       "      <td>41.86</td>\n",
       "      <td>0</td>\n",
       "    </tr>\n",
       "    <tr>\n",
       "      <th>26</th>\n",
       "      <td>2009</td>\n",
       "      <td>Israel</td>\n",
       "      <td>100</td>\n",
       "      <td>65.97</td>\n",
       "      <td>0</td>\n",
       "      <td>13.32</td>\n",
       "      <td>82.93</td>\n",
       "      <td>88.4</td>\n",
       "      <td>100</td>\n",
       "      <td>100</td>\n",
       "      <td>...</td>\n",
       "      <td>31.85</td>\n",
       "      <td>95</td>\n",
       "      <td>96.77</td>\n",
       "      <td>4</td>\n",
       "      <td>22.64</td>\n",
       "      <td>NaN</td>\n",
       "      <td>0</td>\n",
       "      <td>38.6</td>\n",
       "      <td>41.86</td>\n",
       "      <td>0</td>\n",
       "    </tr>\n",
       "    <tr>\n",
       "      <th>27</th>\n",
       "      <td>2010</td>\n",
       "      <td>Israel</td>\n",
       "      <td>100</td>\n",
       "      <td>66.07</td>\n",
       "      <td>0</td>\n",
       "      <td>13.16</td>\n",
       "      <td>83.19</td>\n",
       "      <td>88.4</td>\n",
       "      <td>100</td>\n",
       "      <td>100</td>\n",
       "      <td>...</td>\n",
       "      <td>31.85</td>\n",
       "      <td>95</td>\n",
       "      <td>97.26</td>\n",
       "      <td>4</td>\n",
       "      <td>22.32</td>\n",
       "      <td>NaN</td>\n",
       "      <td>0</td>\n",
       "      <td>38.6</td>\n",
       "      <td>41.86</td>\n",
       "      <td>0</td>\n",
       "    </tr>\n",
       "    <tr>\n",
       "      <th>28</th>\n",
       "      <td>2011</td>\n",
       "      <td>Israel</td>\n",
       "      <td>100</td>\n",
       "      <td>66.19</td>\n",
       "      <td>0</td>\n",
       "      <td>14.66</td>\n",
       "      <td>83.02</td>\n",
       "      <td>88.4</td>\n",
       "      <td>100</td>\n",
       "      <td>100</td>\n",
       "      <td>...</td>\n",
       "      <td>31.85</td>\n",
       "      <td>95</td>\n",
       "      <td>97.71</td>\n",
       "      <td>4</td>\n",
       "      <td>25.32</td>\n",
       "      <td>NaN</td>\n",
       "      <td>0</td>\n",
       "      <td>38.6</td>\n",
       "      <td>41.86</td>\n",
       "      <td>0</td>\n",
       "    </tr>\n",
       "    <tr>\n",
       "      <th>29</th>\n",
       "      <td>2012</td>\n",
       "      <td>Israel</td>\n",
       "      <td>100</td>\n",
       "      <td>65.78</td>\n",
       "      <td>0</td>\n",
       "      <td>14.66</td>\n",
       "      <td>79.57</td>\n",
       "      <td>88.4</td>\n",
       "      <td>100</td>\n",
       "      <td>100</td>\n",
       "      <td>...</td>\n",
       "      <td>31.85</td>\n",
       "      <td>95</td>\n",
       "      <td>98.13</td>\n",
       "      <td>4</td>\n",
       "      <td>25.32</td>\n",
       "      <td>NaN</td>\n",
       "      <td>0</td>\n",
       "      <td>38.6</td>\n",
       "      <td>41.86</td>\n",
       "      <td>0</td>\n",
       "    </tr>\n",
       "    <tr>\n",
       "      <th>30</th>\n",
       "      <td>2013</td>\n",
       "      <td>Israel</td>\n",
       "      <td>None</td>\n",
       "      <td>None</td>\n",
       "      <td>None</td>\n",
       "      <td>None</td>\n",
       "      <td>None</td>\n",
       "      <td>None</td>\n",
       "      <td>None</td>\n",
       "      <td>None</td>\n",
       "      <td>...</td>\n",
       "      <td>None</td>\n",
       "      <td>None</td>\n",
       "      <td>None</td>\n",
       "      <td>None</td>\n",
       "      <td>None</td>\n",
       "      <td>NaN</td>\n",
       "      <td>None</td>\n",
       "      <td>None</td>\n",
       "      <td>None</td>\n",
       "      <td>None</td>\n",
       "    </tr>\n",
       "    <tr>\n",
       "      <th>31</th>\n",
       "      <td>2014</td>\n",
       "      <td>Israel</td>\n",
       "      <td>100</td>\n",
       "      <td>65.78</td>\n",
       "      <td>0</td>\n",
       "      <td>14.66</td>\n",
       "      <td>79.57</td>\n",
       "      <td>88.4</td>\n",
       "      <td>100</td>\n",
       "      <td>100</td>\n",
       "      <td>...</td>\n",
       "      <td>31.85</td>\n",
       "      <td>95</td>\n",
       "      <td>98.13</td>\n",
       "      <td>4</td>\n",
       "      <td>25.32</td>\n",
       "      <td>NaN</td>\n",
       "      <td>0</td>\n",
       "      <td>38.6</td>\n",
       "      <td>None</td>\n",
       "      <td>0</td>\n",
       "    </tr>\n",
       "    <tr>\n",
       "      <th>32</th>\n",
       "      <td>2015</td>\n",
       "      <td>Israel</td>\n",
       "      <td>None</td>\n",
       "      <td>None</td>\n",
       "      <td>None</td>\n",
       "      <td>None</td>\n",
       "      <td>None</td>\n",
       "      <td>None</td>\n",
       "      <td>None</td>\n",
       "      <td>None</td>\n",
       "      <td>...</td>\n",
       "      <td>None</td>\n",
       "      <td>None</td>\n",
       "      <td>None</td>\n",
       "      <td>None</td>\n",
       "      <td>None</td>\n",
       "      <td>NaN</td>\n",
       "      <td>None</td>\n",
       "      <td>None</td>\n",
       "      <td>None</td>\n",
       "      <td>None</td>\n",
       "    </tr>\n",
       "    <tr>\n",
       "      <th>33</th>\n",
       "      <td>2016</td>\n",
       "      <td>Israel</td>\n",
       "      <td>100</td>\n",
       "      <td>78.14</td>\n",
       "      <td>52.81</td>\n",
       "      <td>46.36</td>\n",
       "      <td>70.5</td>\n",
       "      <td>96.8</td>\n",
       "      <td>100</td>\n",
       "      <td>100</td>\n",
       "      <td>...</td>\n",
       "      <td>82.0064</td>\n",
       "      <td>95</td>\n",
       "      <td>None</td>\n",
       "      <td>None</td>\n",
       "      <td>None</td>\n",
       "      <td>NaN</td>\n",
       "      <td>None</td>\n",
       "      <td>None</td>\n",
       "      <td>None</td>\n",
       "      <td>None</td>\n",
       "    </tr>\n",
       "    <tr>\n",
       "      <th>34</th>\n",
       "      <td>2017</td>\n",
       "      <td>Israel</td>\n",
       "      <td>None</td>\n",
       "      <td>None</td>\n",
       "      <td>None</td>\n",
       "      <td>None</td>\n",
       "      <td>None</td>\n",
       "      <td>None</td>\n",
       "      <td>None</td>\n",
       "      <td>None</td>\n",
       "      <td>...</td>\n",
       "      <td>None</td>\n",
       "      <td>None</td>\n",
       "      <td>None</td>\n",
       "      <td>None</td>\n",
       "      <td>None</td>\n",
       "      <td>NaN</td>\n",
       "      <td>None</td>\n",
       "      <td>None</td>\n",
       "      <td>None</td>\n",
       "      <td>None</td>\n",
       "    </tr>\n",
       "    <tr>\n",
       "      <th>35</th>\n",
       "      <td>2018</td>\n",
       "      <td>Israel</td>\n",
       "      <td>94.54</td>\n",
       "      <td>75.01</td>\n",
       "      <td>70.67</td>\n",
       "      <td>26.03</td>\n",
       "      <td>95.67</td>\n",
       "      <td>99.49</td>\n",
       "      <td>92.03</td>\n",
       "      <td>89.53</td>\n",
       "      <td>...</td>\n",
       "      <td>None</td>\n",
       "      <td>None</td>\n",
       "      <td>None</td>\n",
       "      <td>None</td>\n",
       "      <td>None</td>\n",
       "      <td>NaN</td>\n",
       "      <td>None</td>\n",
       "      <td>None</td>\n",
       "      <td>None</td>\n",
       "      <td>None</td>\n",
       "    </tr>\n",
       "    <tr>\n",
       "      <th>36</th>\n",
       "      <td>2019</td>\n",
       "      <td>Israel</td>\n",
       "      <td>None</td>\n",
       "      <td>None</td>\n",
       "      <td>None</td>\n",
       "      <td>None</td>\n",
       "      <td>None</td>\n",
       "      <td>None</td>\n",
       "      <td>None</td>\n",
       "      <td>None</td>\n",
       "      <td>...</td>\n",
       "      <td>None</td>\n",
       "      <td>None</td>\n",
       "      <td>None</td>\n",
       "      <td>None</td>\n",
       "      <td>None</td>\n",
       "      <td>NaN</td>\n",
       "      <td>None</td>\n",
       "      <td>None</td>\n",
       "      <td>None</td>\n",
       "      <td>None</td>\n",
       "    </tr>\n",
       "    <tr>\n",
       "      <th>37</th>\n",
       "      <td>2020</td>\n",
       "      <td>Israel</td>\n",
       "      <td>93.6</td>\n",
       "      <td>65.8</td>\n",
       "      <td>None</td>\n",
       "      <td>34.9</td>\n",
       "      <td>76.5</td>\n",
       "      <td>81.7</td>\n",
       "      <td>92.8</td>\n",
       "      <td>91.5</td>\n",
       "      <td>...</td>\n",
       "      <td>None</td>\n",
       "      <td>None</td>\n",
       "      <td>None</td>\n",
       "      <td>None</td>\n",
       "      <td>None</td>\n",
       "      <td>NaN</td>\n",
       "      <td>None</td>\n",
       "      <td>None</td>\n",
       "      <td>None</td>\n",
       "      <td>None</td>\n",
       "    </tr>\n",
       "    <tr>\n",
       "      <th>38</th>\n",
       "      <td>2002</td>\n",
       "      <td>Sierra Leone</td>\n",
       "      <td>5.13</td>\n",
       "      <td>17.85</td>\n",
       "      <td>18.99</td>\n",
       "      <td>50</td>\n",
       "      <td>67.41</td>\n",
       "      <td>0</td>\n",
       "      <td>2.57</td>\n",
       "      <td>0</td>\n",
       "      <td>...</td>\n",
       "      <td>NaN</td>\n",
       "      <td>4.4</td>\n",
       "      <td>5.95</td>\n",
       "      <td>0</td>\n",
       "      <td>100</td>\n",
       "      <td>18.52</td>\n",
       "      <td>37.47</td>\n",
       "      <td>NaN</td>\n",
       "      <td>NaN</td>\n",
       "      <td>NaN</td>\n",
       "    </tr>\n",
       "    <tr>\n",
       "      <th>39</th>\n",
       "      <td>2003</td>\n",
       "      <td>Sierra Leone</td>\n",
       "      <td>5.58</td>\n",
       "      <td>17.88</td>\n",
       "      <td>18.37</td>\n",
       "      <td>56</td>\n",
       "      <td>66.35</td>\n",
       "      <td>0</td>\n",
       "      <td>2.79</td>\n",
       "      <td>0</td>\n",
       "      <td>...</td>\n",
       "      <td>NaN</td>\n",
       "      <td>4.1</td>\n",
       "      <td>6.62</td>\n",
       "      <td>12</td>\n",
       "      <td>100</td>\n",
       "      <td>18.52</td>\n",
       "      <td>33.38</td>\n",
       "      <td>NaN</td>\n",
       "      <td>NaN</td>\n",
       "      <td>NaN</td>\n",
       "    </tr>\n",
       "    <tr>\n",
       "      <th>40</th>\n",
       "      <td>2004</td>\n",
       "      <td>Sierra Leone</td>\n",
       "      <td>6.03</td>\n",
       "      <td>18.12</td>\n",
       "      <td>21.32</td>\n",
       "      <td>56</td>\n",
       "      <td>66.49</td>\n",
       "      <td>0</td>\n",
       "      <td>3.02</td>\n",
       "      <td>0</td>\n",
       "      <td>...</td>\n",
       "      <td>NaN</td>\n",
       "      <td>3.8</td>\n",
       "      <td>7.33</td>\n",
       "      <td>12</td>\n",
       "      <td>100</td>\n",
       "      <td>18.52</td>\n",
       "      <td>32.87</td>\n",
       "      <td>NaN</td>\n",
       "      <td>NaN</td>\n",
       "      <td>NaN</td>\n",
       "    </tr>\n",
       "    <tr>\n",
       "      <th>41</th>\n",
       "      <td>2005</td>\n",
       "      <td>Sierra Leone</td>\n",
       "      <td>6.5</td>\n",
       "      <td>18.23</td>\n",
       "      <td>17.87</td>\n",
       "      <td>56</td>\n",
       "      <td>67.47</td>\n",
       "      <td>0</td>\n",
       "      <td>3.25</td>\n",
       "      <td>0</td>\n",
       "      <td>...</td>\n",
       "      <td>NaN</td>\n",
       "      <td>3.5</td>\n",
       "      <td>8.07</td>\n",
       "      <td>12</td>\n",
       "      <td>100</td>\n",
       "      <td>18.52</td>\n",
       "      <td>32.56</td>\n",
       "      <td>NaN</td>\n",
       "      <td>NaN</td>\n",
       "      <td>NaN</td>\n",
       "    </tr>\n",
       "    <tr>\n",
       "      <th>42</th>\n",
       "      <td>2006</td>\n",
       "      <td>Sierra Leone</td>\n",
       "      <td>6.97</td>\n",
       "      <td>18.31</td>\n",
       "      <td>17.81</td>\n",
       "      <td>56</td>\n",
       "      <td>67.49</td>\n",
       "      <td>0</td>\n",
       "      <td>3.49</td>\n",
       "      <td>0</td>\n",
       "      <td>...</td>\n",
       "      <td>NaN</td>\n",
       "      <td>3.2</td>\n",
       "      <td>8.8</td>\n",
       "      <td>12</td>\n",
       "      <td>100</td>\n",
       "      <td>18.52</td>\n",
       "      <td>31.38</td>\n",
       "      <td>NaN</td>\n",
       "      <td>NaN</td>\n",
       "      <td>NaN</td>\n",
       "    </tr>\n",
       "    <tr>\n",
       "      <th>43</th>\n",
       "      <td>2007</td>\n",
       "      <td>Sierra Leone</td>\n",
       "      <td>7.46</td>\n",
       "      <td>18.39</td>\n",
       "      <td>17.07</td>\n",
       "      <td>56</td>\n",
       "      <td>67.39</td>\n",
       "      <td>0</td>\n",
       "      <td>3.73</td>\n",
       "      <td>0</td>\n",
       "      <td>...</td>\n",
       "      <td>NaN</td>\n",
       "      <td>2.9</td>\n",
       "      <td>9.47</td>\n",
       "      <td>12</td>\n",
       "      <td>100</td>\n",
       "      <td>18.52</td>\n",
       "      <td>31.38</td>\n",
       "      <td>NaN</td>\n",
       "      <td>NaN</td>\n",
       "      <td>NaN</td>\n",
       "    </tr>\n",
       "    <tr>\n",
       "      <th>44</th>\n",
       "      <td>2008</td>\n",
       "      <td>Sierra Leone</td>\n",
       "      <td>7.96</td>\n",
       "      <td>18.55</td>\n",
       "      <td>17.87</td>\n",
       "      <td>56</td>\n",
       "      <td>67.53</td>\n",
       "      <td>0</td>\n",
       "      <td>3.98</td>\n",
       "      <td>0</td>\n",
       "      <td>...</td>\n",
       "      <td>NaN</td>\n",
       "      <td>2.6</td>\n",
       "      <td>10.06</td>\n",
       "      <td>12</td>\n",
       "      <td>100</td>\n",
       "      <td>18.52</td>\n",
       "      <td>31.38</td>\n",
       "      <td>NaN</td>\n",
       "      <td>NaN</td>\n",
       "      <td>NaN</td>\n",
       "    </tr>\n",
       "    <tr>\n",
       "      <th>45</th>\n",
       "      <td>2009</td>\n",
       "      <td>Sierra Leone</td>\n",
       "      <td>8.47</td>\n",
       "      <td>18.75</td>\n",
       "      <td>20.79</td>\n",
       "      <td>56</td>\n",
       "      <td>67.43</td>\n",
       "      <td>0</td>\n",
       "      <td>4.24</td>\n",
       "      <td>0</td>\n",
       "      <td>...</td>\n",
       "      <td>NaN</td>\n",
       "      <td>2.3</td>\n",
       "      <td>10.56</td>\n",
       "      <td>12</td>\n",
       "      <td>100</td>\n",
       "      <td>18.52</td>\n",
       "      <td>31.38</td>\n",
       "      <td>NaN</td>\n",
       "      <td>NaN</td>\n",
       "      <td>NaN</td>\n",
       "    </tr>\n",
       "    <tr>\n",
       "      <th>46</th>\n",
       "      <td>2010</td>\n",
       "      <td>Sierra Leone</td>\n",
       "      <td>9</td>\n",
       "      <td>19.21</td>\n",
       "      <td>19.12</td>\n",
       "      <td>56</td>\n",
       "      <td>67.33</td>\n",
       "      <td>0</td>\n",
       "      <td>4.5</td>\n",
       "      <td>0</td>\n",
       "      <td>...</td>\n",
       "      <td>NaN</td>\n",
       "      <td>2</td>\n",
       "      <td>10.96</td>\n",
       "      <td>12</td>\n",
       "      <td>100</td>\n",
       "      <td>18.52</td>\n",
       "      <td>31.38</td>\n",
       "      <td>NaN</td>\n",
       "      <td>NaN</td>\n",
       "      <td>NaN</td>\n",
       "    </tr>\n",
       "    <tr>\n",
       "      <th>47</th>\n",
       "      <td>2011</td>\n",
       "      <td>Sierra Leone</td>\n",
       "      <td>9.54</td>\n",
       "      <td>19.42</td>\n",
       "      <td>22.5</td>\n",
       "      <td>56</td>\n",
       "      <td>67.33</td>\n",
       "      <td>0</td>\n",
       "      <td>4.77</td>\n",
       "      <td>0</td>\n",
       "      <td>...</td>\n",
       "      <td>NaN</td>\n",
       "      <td>2</td>\n",
       "      <td>11.28</td>\n",
       "      <td>12</td>\n",
       "      <td>100</td>\n",
       "      <td>18.52</td>\n",
       "      <td>31.38</td>\n",
       "      <td>NaN</td>\n",
       "      <td>NaN</td>\n",
       "      <td>NaN</td>\n",
       "    </tr>\n",
       "    <tr>\n",
       "      <th>48</th>\n",
       "      <td>2012</td>\n",
       "      <td>Sierra Leone</td>\n",
       "      <td>9.54</td>\n",
       "      <td>21.74</td>\n",
       "      <td>22.5</td>\n",
       "      <td>56</td>\n",
       "      <td>67.33</td>\n",
       "      <td>0</td>\n",
       "      <td>4.77</td>\n",
       "      <td>0</td>\n",
       "      <td>...</td>\n",
       "      <td>NaN</td>\n",
       "      <td>2</td>\n",
       "      <td>11.55</td>\n",
       "      <td>12</td>\n",
       "      <td>100</td>\n",
       "      <td>18.52</td>\n",
       "      <td>31.38</td>\n",
       "      <td>NaN</td>\n",
       "      <td>NaN</td>\n",
       "      <td>NaN</td>\n",
       "    </tr>\n",
       "    <tr>\n",
       "      <th>49</th>\n",
       "      <td>2013</td>\n",
       "      <td>Sierra Leone</td>\n",
       "      <td>None</td>\n",
       "      <td>None</td>\n",
       "      <td>None</td>\n",
       "      <td>None</td>\n",
       "      <td>None</td>\n",
       "      <td>None</td>\n",
       "      <td>None</td>\n",
       "      <td>None</td>\n",
       "      <td>...</td>\n",
       "      <td>NaN</td>\n",
       "      <td>None</td>\n",
       "      <td>None</td>\n",
       "      <td>None</td>\n",
       "      <td>None</td>\n",
       "      <td>None</td>\n",
       "      <td>None</td>\n",
       "      <td>NaN</td>\n",
       "      <td>NaN</td>\n",
       "      <td>NaN</td>\n",
       "    </tr>\n",
       "  </tbody>\n",
       "</table>\n",
       "<p>50 rows × 35 columns</p>\n",
       "</div>"
      ],
      "text/plain": [
       "    date  country_name Unsafe drinking water Environmental Performance Index  \\\n",
       "0   2002        Sweden                   100                           77.09   \n",
       "1   2003        Sweden                   100                           77.14   \n",
       "2   2004        Sweden                   100                           77.29   \n",
       "3   2005        Sweden                   100                           77.46   \n",
       "4   2006        Sweden                   100                           77.48   \n",
       "5   2007        Sweden                   100                           77.47   \n",
       "6   2008        Sweden                   100                           77.69   \n",
       "7   2009        Sweden                   100                           77.94   \n",
       "8   2010        Sweden                   100                           77.93   \n",
       "9   2011        Sweden                   100                           78.03   \n",
       "10  2012        Sweden                   100                           78.09   \n",
       "11  2013        Sweden                  None                            None   \n",
       "12  2014        Sweden                   100                           78.09   \n",
       "13  2015        Sweden                  None                            None   \n",
       "14  2016        Sweden                   100                           90.43   \n",
       "15  2017        Sweden                  None                            None   \n",
       "16  2018        Sweden                 98.14                           80.51   \n",
       "17  2019        Sweden                  None                            None   \n",
       "18  2020        Sweden                  97.7                            78.7   \n",
       "19  2002        Israel                   100                           65.32   \n",
       "20  2003        Israel                   100                            65.6   \n",
       "21  2004        Israel                   100                           65.47   \n",
       "22  2005        Israel                   100                           65.49   \n",
       "23  2006        Israel                   100                            65.6   \n",
       "24  2007        Israel                   100                           66.97   \n",
       "25  2008        Israel                   100                           65.75   \n",
       "26  2009        Israel                   100                           65.97   \n",
       "27  2010        Israel                   100                           66.07   \n",
       "28  2011        Israel                   100                           66.19   \n",
       "29  2012        Israel                   100                           65.78   \n",
       "30  2013        Israel                  None                            None   \n",
       "31  2014        Israel                   100                           65.78   \n",
       "32  2015        Israel                  None                            None   \n",
       "33  2016        Israel                   100                           78.14   \n",
       "34  2017        Israel                  None                            None   \n",
       "35  2018        Israel                 94.54                           75.01   \n",
       "36  2019        Israel                  None                            None   \n",
       "37  2020        Israel                  93.6                            65.8   \n",
       "38  2002  Sierra Leone                  5.13                           17.85   \n",
       "39  2003  Sierra Leone                  5.58                           17.88   \n",
       "40  2004  Sierra Leone                  6.03                           18.12   \n",
       "41  2005  Sierra Leone                   6.5                           18.23   \n",
       "42  2006  Sierra Leone                  6.97                           18.31   \n",
       "43  2007  Sierra Leone                  7.46                           18.39   \n",
       "44  2008  Sierra Leone                  7.96                           18.55   \n",
       "45  2009  Sierra Leone                  8.47                           18.75   \n",
       "46  2010  Sierra Leone                     9                           19.21   \n",
       "47  2011  Sierra Leone                  9.54                           19.42   \n",
       "48  2012  Sierra Leone                  9.54                           21.74   \n",
       "49  2013  Sierra Leone                  None                            None   \n",
       "\n",
       "   Fish Stock Status Agriculture Air Quality Wastewater Treatment  \\\n",
       "0              13.79       50.68       97.25                87.86   \n",
       "1               8.16       50.48       96.77                87.86   \n",
       "2               8.42       51.36       97.13                87.86   \n",
       "3              10.71       54.62       97.13                87.86   \n",
       "4              11.48       55.55       96.53                87.86   \n",
       "5               5.41       60.24       96.53                87.86   \n",
       "6               5.76       61.26       97.37                87.86   \n",
       "7              11.29       60.73       97.49                87.86   \n",
       "8               8.38       63.23       97.25                87.86   \n",
       "9              11.76       65.18       96.65                87.86   \n",
       "10             11.76       65.18       97.13                87.86   \n",
       "11              None        None        None                 None   \n",
       "12             11.76       65.18       97.13                87.86   \n",
       "13              None        None        None                 None   \n",
       "14             50.82         100       93.26                96.08   \n",
       "15              None        None        None                 None   \n",
       "16              49.6       55.12       92.84                98.49   \n",
       "17              None        None        None                 None   \n",
       "18               5.9        63.6        98.2                  100   \n",
       "19                 0       11.83       84.33                 88.4   \n",
       "20                 0       15.22       84.92                 88.4   \n",
       "21                 0       15.73       82.64                 88.4   \n",
       "22                 0       14.52        82.4                 88.4   \n",
       "23                 0       17.09       82.06                 88.4   \n",
       "24                 0          52       82.72                 88.4   \n",
       "25                 0       11.82       82.33                 88.4   \n",
       "26                 0       13.32       82.93                 88.4   \n",
       "27                 0       13.16       83.19                 88.4   \n",
       "28                 0       14.66       83.02                 88.4   \n",
       "29                 0       14.66       79.57                 88.4   \n",
       "30              None        None        None                 None   \n",
       "31                 0       14.66       79.57                 88.4   \n",
       "32              None        None        None                 None   \n",
       "33             52.81       46.36        70.5                 96.8   \n",
       "34              None        None        None                 None   \n",
       "35             70.67       26.03       95.67                99.49   \n",
       "36              None        None        None                 None   \n",
       "37              None        34.9        76.5                 81.7   \n",
       "38             18.99          50       67.41                    0   \n",
       "39             18.37          56       66.35                    0   \n",
       "40             21.32          56       66.49                    0   \n",
       "41             17.87          56       67.47                    0   \n",
       "42             17.81          56       67.49                    0   \n",
       "43             17.07          56       67.39                    0   \n",
       "44             17.87          56       67.53                    0   \n",
       "45             20.79          56       67.43                    0   \n",
       "46             19.12          56       67.33                    0   \n",
       "47              22.5          56       67.33                    0   \n",
       "48              22.5          56       67.33                    0   \n",
       "49              None        None        None                 None   \n",
       "\n",
       "   Sanitation & Drinking Water Unsafe sanitation  ...  \\\n",
       "0                          100               100  ...   \n",
       "1                          100               100  ...   \n",
       "2                          100               100  ...   \n",
       "3                          100               100  ...   \n",
       "4                          100               100  ...   \n",
       "5                          100               100  ...   \n",
       "6                          100               100  ...   \n",
       "7                          100               100  ...   \n",
       "8                          100               100  ...   \n",
       "9                          100               100  ...   \n",
       "10                         100               100  ...   \n",
       "11                        None              None  ...   \n",
       "12                         100               100  ...   \n",
       "13                        None              None  ...   \n",
       "14                       99.57             98.29  ...   \n",
       "15                        None              None  ...   \n",
       "16                       96.88             95.62  ...   \n",
       "17                        None              None  ...   \n",
       "18                        98.5              99.7  ...   \n",
       "19                         100               100  ...   \n",
       "20                         100               100  ...   \n",
       "21                         100               100  ...   \n",
       "22                         100               100  ...   \n",
       "23                         100               100  ...   \n",
       "24                         100               100  ...   \n",
       "25                         100               100  ...   \n",
       "26                         100               100  ...   \n",
       "27                         100               100  ...   \n",
       "28                         100               100  ...   \n",
       "29                         100               100  ...   \n",
       "30                        None              None  ...   \n",
       "31                         100               100  ...   \n",
       "32                        None              None  ...   \n",
       "33                         100               100  ...   \n",
       "34                        None              None  ...   \n",
       "35                       92.03             89.53  ...   \n",
       "36                        None              None  ...   \n",
       "37                        92.8              91.5  ...   \n",
       "38                        2.57                 0  ...   \n",
       "39                        2.79                 0  ...   \n",
       "40                        3.02                 0  ...   \n",
       "41                        3.25                 0  ...   \n",
       "42                        3.49                 0  ...   \n",
       "43                        3.73                 0  ...   \n",
       "44                        3.98                 0  ...   \n",
       "45                        4.24                 0  ...   \n",
       "46                         4.5                 0  ...   \n",
       "47                        4.77                 0  ...   \n",
       "48                        4.77                 0  ...   \n",
       "49                        None              None  ...   \n",
       "\n",
       "   Trend in Carbon Intensity Household Air Quality Child Mortality  \\\n",
       "0                      77.67                    95             100   \n",
       "1                      77.67                    95             100   \n",
       "2                      77.67                    95             100   \n",
       "3                      77.67                    95             100   \n",
       "4                      77.67                    95             100   \n",
       "5                      77.67                    95             100   \n",
       "6                      77.67                    95             100   \n",
       "7                      77.67                    95           99.93   \n",
       "8                      77.67                    95           99.91   \n",
       "9                      77.67                    95             100   \n",
       "10                     77.67                    95             100   \n",
       "11                      None                  None            None   \n",
       "12                     77.67                    95             100   \n",
       "13                      None                  None            None   \n",
       "14                   95.2464                    95            None   \n",
       "15                      None                  None            None   \n",
       "16                      None                  None            None   \n",
       "17                      None                  None            None   \n",
       "18                      None                  None            None   \n",
       "19                     31.85                    95           93.05   \n",
       "20                     31.85                    95            93.6   \n",
       "21                     31.85                    95           94.16   \n",
       "22                     31.85                    95            94.7   \n",
       "23                     31.85                    95           95.23   \n",
       "24                     31.85                    95           95.75   \n",
       "25                     31.85                    95           96.27   \n",
       "26                     31.85                    95           96.77   \n",
       "27                     31.85                    95           97.26   \n",
       "28                     31.85                    95           97.71   \n",
       "29                     31.85                    95           98.13   \n",
       "30                      None                  None            None   \n",
       "31                     31.85                    95           98.13   \n",
       "32                      None                  None            None   \n",
       "33                   82.0064                    95            None   \n",
       "34                      None                  None            None   \n",
       "35                      None                  None            None   \n",
       "36                      None                  None            None   \n",
       "37                      None                  None            None   \n",
       "38                       NaN                   4.4            5.95   \n",
       "39                       NaN                   4.1            6.62   \n",
       "40                       NaN                   3.8            7.33   \n",
       "41                       NaN                   3.5            8.07   \n",
       "42                       NaN                   3.2             8.8   \n",
       "43                       NaN                   2.9            9.47   \n",
       "44                       NaN                   2.6           10.06   \n",
       "45                       NaN                   2.3           10.56   \n",
       "46                       NaN                     2           10.96   \n",
       "47                       NaN                     2           11.28   \n",
       "48                       NaN                     2           11.55   \n",
       "49                       NaN                  None            None   \n",
       "\n",
       "   Pesticide Regulation Agricultural Subsidies Change in Forest Cover  \\\n",
       "0                    92                   9.37                  14.35   \n",
       "1                    92                   8.96                  14.35   \n",
       "2                    92                  10.73                  14.35   \n",
       "3                    92                  17.23                  14.35   \n",
       "4                    92                   19.1                  14.35   \n",
       "5                    92                  28.48                  14.35   \n",
       "6                    92                  30.52                  14.35   \n",
       "7                    92                  29.46                  14.35   \n",
       "8                    92                  34.46                  14.35   \n",
       "9                    92                  38.35                  14.35   \n",
       "10                   92                  38.35                  14.35   \n",
       "11                 None                   None                   None   \n",
       "12                   92                  38.35                  14.35   \n",
       "13                 None                   None                   None   \n",
       "14                 None                   None                   None   \n",
       "15                 None                   None                   None   \n",
       "16                 None                   None                   None   \n",
       "17                 None                   None                   None   \n",
       "18                 None                   None                   None   \n",
       "19                    4                  19.66                    NaN   \n",
       "20                    4                  26.43                    NaN   \n",
       "21                    4                  27.47                    NaN   \n",
       "22                    4                  25.04                    NaN   \n",
       "23                    4                  30.17                    NaN   \n",
       "24                    4                    100                    NaN   \n",
       "25                    4                  19.65                    NaN   \n",
       "26                    4                  22.64                    NaN   \n",
       "27                    4                  22.32                    NaN   \n",
       "28                    4                  25.32                    NaN   \n",
       "29                    4                  25.32                    NaN   \n",
       "30                 None                   None                    NaN   \n",
       "31                    4                  25.32                    NaN   \n",
       "32                 None                   None                    NaN   \n",
       "33                 None                   None                    NaN   \n",
       "34                 None                   None                    NaN   \n",
       "35                 None                   None                    NaN   \n",
       "36                 None                   None                    NaN   \n",
       "37                 None                   None                    NaN   \n",
       "38                    0                    100                  18.52   \n",
       "39                   12                    100                  18.52   \n",
       "40                   12                    100                  18.52   \n",
       "41                   12                    100                  18.52   \n",
       "42                   12                    100                  18.52   \n",
       "43                   12                    100                  18.52   \n",
       "44                   12                    100                  18.52   \n",
       "45                   12                    100                  18.52   \n",
       "46                   12                    100                  18.52   \n",
       "47                   12                    100                  18.52   \n",
       "48                   12                    100                  18.52   \n",
       "49                 None                   None                   None   \n",
       "\n",
       "   Coastal Shelf Fishing Pressure Change of Trend in Carbon Intensity Climate  \\\n",
       "0                            29.3                               29.51   77.34   \n",
       "1                           37.14                               29.51   77.34   \n",
       "2                           37.05                               29.51   77.34   \n",
       "3                            37.9                               29.51   77.34   \n",
       "4                           38.83                               29.51   77.34   \n",
       "5                           38.83                               29.51   77.34   \n",
       "6                           38.83                               29.51   77.34   \n",
       "7                           38.83                               29.51   77.34   \n",
       "8                           38.83                               29.51   77.34   \n",
       "9                           38.83                               29.51   77.34   \n",
       "10                          38.83                               29.51   77.34   \n",
       "11                           None                                None    None   \n",
       "12                          38.83                               29.51    None   \n",
       "13                           None                                None    None   \n",
       "14                           None                                None    None   \n",
       "15                           None                                None    None   \n",
       "16                           None                                None    None   \n",
       "17                           None                                None    None   \n",
       "18                           None                                None    None   \n",
       "19                              0                                38.6   41.86   \n",
       "20                              0                                38.6   41.86   \n",
       "21                              0                                38.6   41.86   \n",
       "22                              0                                38.6   41.86   \n",
       "23                              0                                38.6   41.86   \n",
       "24                              0                                38.6   41.86   \n",
       "25                              0                                38.6   41.86   \n",
       "26                              0                                38.6   41.86   \n",
       "27                              0                                38.6   41.86   \n",
       "28                              0                                38.6   41.86   \n",
       "29                              0                                38.6   41.86   \n",
       "30                           None                                None    None   \n",
       "31                              0                                38.6    None   \n",
       "32                           None                                None    None   \n",
       "33                           None                                None    None   \n",
       "34                           None                                None    None   \n",
       "35                           None                                None    None   \n",
       "36                           None                                None    None   \n",
       "37                           None                                None    None   \n",
       "38                          37.47                                 NaN     NaN   \n",
       "39                          33.38                                 NaN     NaN   \n",
       "40                          32.87                                 NaN     NaN   \n",
       "41                          32.56                                 NaN     NaN   \n",
       "42                          31.38                                 NaN     NaN   \n",
       "43                          31.38                                 NaN     NaN   \n",
       "44                          31.38                                 NaN     NaN   \n",
       "45                          31.38                                 NaN     NaN   \n",
       "46                          31.38                                 NaN     NaN   \n",
       "47                          31.38                                 NaN     NaN   \n",
       "48                          31.38                                 NaN     NaN   \n",
       "49                           None                                 NaN     NaN   \n",
       "\n",
       "   Critical Habitat Protection  \n",
       "0                          NaN  \n",
       "1                          NaN  \n",
       "2                          NaN  \n",
       "3                          NaN  \n",
       "4                          NaN  \n",
       "5                          NaN  \n",
       "6                          NaN  \n",
       "7                          NaN  \n",
       "8                          NaN  \n",
       "9                          NaN  \n",
       "10                         NaN  \n",
       "11                         NaN  \n",
       "12                         NaN  \n",
       "13                         NaN  \n",
       "14                         NaN  \n",
       "15                         NaN  \n",
       "16                         NaN  \n",
       "17                         NaN  \n",
       "18                         NaN  \n",
       "19                           0  \n",
       "20                           0  \n",
       "21                           0  \n",
       "22                           0  \n",
       "23                           0  \n",
       "24                           0  \n",
       "25                           0  \n",
       "26                           0  \n",
       "27                           0  \n",
       "28                           0  \n",
       "29                           0  \n",
       "30                        None  \n",
       "31                           0  \n",
       "32                        None  \n",
       "33                        None  \n",
       "34                        None  \n",
       "35                        None  \n",
       "36                        None  \n",
       "37                        None  \n",
       "38                         NaN  \n",
       "39                         NaN  \n",
       "40                         NaN  \n",
       "41                         NaN  \n",
       "42                         NaN  \n",
       "43                         NaN  \n",
       "44                         NaN  \n",
       "45                         NaN  \n",
       "46                         NaN  \n",
       "47                         NaN  \n",
       "48                         NaN  \n",
       "49                         NaN  \n",
       "\n",
       "[50 rows x 35 columns]"
      ]
     },
     "execution_count": 7,
     "metadata": {},
     "output_type": "execute_result"
    }
   ],
   "source": [
    "epi_new.head(50)"
   ]
  },
  {
   "cell_type": "code",
   "execution_count": 8,
   "metadata": {
    "ExecuteTime": {
     "end_time": "2021-05-13T16:35:11.237715Z",
     "start_time": "2021-05-13T16:35:11.224704Z"
    }
   },
   "outputs": [],
   "source": [
    "high_data = [key for key, value in epi_new['country_name'].value_counts().to_dict().items() if value >5]"
   ]
  },
  {
   "cell_type": "code",
   "execution_count": 9,
   "metadata": {
    "ExecuteTime": {
     "end_time": "2021-05-13T16:35:11.253729Z",
     "start_time": "2021-05-13T16:35:11.238716Z"
    }
   },
   "outputs": [
    {
     "data": {
      "text/plain": [
       "['Hungary',\n",
       " 'Zambia',\n",
       " 'Niger',\n",
       " 'Mali',\n",
       " 'Equatorial Guinea',\n",
       " 'Guyana',\n",
       " 'Senegal',\n",
       " 'Nepal',\n",
       " 'Cambodia',\n",
       " 'Dominica',\n",
       " 'Bolivia',\n",
       " 'Turkey',\n",
       " 'Lesotho',\n",
       " 'Costa Rica',\n",
       " 'Luxembourg',\n",
       " 'Vanuatu',\n",
       " 'Nigeria',\n",
       " 'Liberia',\n",
       " 'Gabon',\n",
       " 'Uganda',\n",
       " 'Trinidad and Tobago',\n",
       " 'Georgia',\n",
       " 'Madagascar',\n",
       " 'Russia',\n",
       " 'Iraq',\n",
       " 'Albania',\n",
       " 'Kenya',\n",
       " 'Malaysia',\n",
       " 'Jamaica',\n",
       " 'Malta',\n",
       " 'Estonia',\n",
       " 'Chad',\n",
       " 'Switzerland',\n",
       " 'Thailand',\n",
       " 'Greece',\n",
       " 'Tajikistan',\n",
       " 'Denmark',\n",
       " 'Ethiopia',\n",
       " 'Kiribati',\n",
       " 'Austria',\n",
       " 'Laos',\n",
       " 'Republic of Congo',\n",
       " 'Uruguay',\n",
       " 'Colombia',\n",
       " 'Algeria',\n",
       " 'Mauritius',\n",
       " 'Mongolia',\n",
       " 'Zimbabwe',\n",
       " 'Benin',\n",
       " 'Lebanon',\n",
       " 'Cabo Verde',\n",
       " 'Belgium',\n",
       " 'Haiti',\n",
       " 'Cuba',\n",
       " 'Solomon Islands',\n",
       " 'Dem. Rep. Congo',\n",
       " 'Barbados',\n",
       " 'Timor-Leste',\n",
       " 'Paraguay',\n",
       " 'South Korea',\n",
       " 'Azerbaijan',\n",
       " 'Belize',\n",
       " 'Bulgaria',\n",
       " 'Morocco',\n",
       " 'Rwanda',\n",
       " 'Chile',\n",
       " 'Eswatini',\n",
       " 'Cyprus',\n",
       " 'Indonesia',\n",
       " 'Sudan',\n",
       " 'Ireland',\n",
       " 'Sierra Leone',\n",
       " 'Israel',\n",
       " 'Peru',\n",
       " 'Ghana',\n",
       " 'Ukraine',\n",
       " 'Mauritania',\n",
       " 'Bahrain',\n",
       " 'Latvia',\n",
       " 'Portugal',\n",
       " 'Eritrea',\n",
       " 'Tonga',\n",
       " 'Serbia',\n",
       " 'Iran',\n",
       " 'Czech Republic',\n",
       " 'Oman',\n",
       " 'Tanzania',\n",
       " 'Bangladesh',\n",
       " 'Spain',\n",
       " 'Antigua and Barbuda',\n",
       " 'Saudi Arabia',\n",
       " 'Norway',\n",
       " 'France',\n",
       " 'Qatar',\n",
       " 'Viet Nam',\n",
       " 'Montenegro',\n",
       " 'Tunisia',\n",
       " 'Kuwait',\n",
       " 'Panama',\n",
       " 'Sweden',\n",
       " 'United Arab Emirates',\n",
       " 'Argentina',\n",
       " 'Angola',\n",
       " 'Botswana',\n",
       " 'Namibia',\n",
       " 'Ecuador',\n",
       " 'Myanmar',\n",
       " 'Slovakia',\n",
       " 'China',\n",
       " 'Turkmenistan',\n",
       " 'Finland',\n",
       " 'Nicaragua',\n",
       " 'Italy',\n",
       " 'Japan',\n",
       " 'Taiwan',\n",
       " 'Poland',\n",
       " 'Togo',\n",
       " 'Germany',\n",
       " 'Brunei Darussalam',\n",
       " 'North Macedonia',\n",
       " 'Bosnia and Herzegovina',\n",
       " 'Uzbekistan',\n",
       " 'Pakistan',\n",
       " 'Suriname',\n",
       " 'Lithuania',\n",
       " 'United Kingdom',\n",
       " 'Guinea-Bissau',\n",
       " 'Afghanistan',\n",
       " 'Philippines',\n",
       " 'India',\n",
       " 'Singapore',\n",
       " 'Egypt',\n",
       " 'New Zealand',\n",
       " 'Burkina Faso',\n",
       " 'Burundi',\n",
       " 'Armenia',\n",
       " 'Honduras',\n",
       " 'Cameroon',\n",
       " 'Grenada',\n",
       " 'Moldova',\n",
       " 'Guinea',\n",
       " 'Bhutan',\n",
       " 'Belarus',\n",
       " 'Sri Lanka',\n",
       " 'Kazakhstan',\n",
       " 'Kyrgyzstan',\n",
       " 'Central African Republic',\n",
       " 'Guatemala',\n",
       " 'Jordan',\n",
       " 'Bahamas',\n",
       " 'Malawi',\n",
       " 'El Salvador',\n",
       " 'Croatia',\n",
       " 'Venezuela',\n",
       " 'Papua New Guinea',\n",
       " 'Djibouti',\n",
       " 'Slovenia',\n",
       " 'Iceland',\n",
       " 'Mozambique',\n",
       " 'United States of America',\n",
       " 'Brazil',\n",
       " 'Dominican Republic',\n",
       " 'Australia',\n",
       " \"Cote d'Ivoire\",\n",
       " 'Canada',\n",
       " 'Gambia',\n",
       " 'Fiji',\n",
       " 'Netherlands',\n",
       " 'South Africa',\n",
       " 'Romania',\n",
       " 'Comoros',\n",
       " 'Mexico',\n",
       " 'Seychelles',\n",
       " 'Libya',\n",
       " 'Syria',\n",
       " 'Yemen',\n",
       " 'Somalia',\n",
       " 'Palau',\n",
       " 'Sao Tome and Principe',\n",
       " 'Maldives',\n",
       " 'Saint Vincent and the Grenadines',\n",
       " 'Micronesia',\n",
       " 'Samoa',\n",
       " 'Saint Lucia',\n",
       " 'Marshall Islands']"
      ]
     },
     "execution_count": 9,
     "metadata": {},
     "output_type": "execute_result"
    }
   ],
   "source": [
    "high_data"
   ]
  },
  {
   "cell_type": "code",
   "execution_count": 10,
   "metadata": {
    "ExecuteTime": {
     "end_time": "2021-05-13T16:35:11.269743Z",
     "start_time": "2021-05-13T16:35:11.255731Z"
    }
   },
   "outputs": [],
   "source": [
    "epi_new = epi_new[epi_new['country_name'].isin(high_data)]"
   ]
  },
  {
   "cell_type": "code",
   "execution_count": 11,
   "metadata": {
    "ExecuteTime": {
     "end_time": "2021-05-13T16:35:11.301771Z",
     "start_time": "2021-05-13T16:35:11.270744Z"
    }
   },
   "outputs": [
    {
     "data": {
      "text/html": [
       "<div>\n",
       "<style scoped>\n",
       "    .dataframe tbody tr th:only-of-type {\n",
       "        vertical-align: middle;\n",
       "    }\n",
       "\n",
       "    .dataframe tbody tr th {\n",
       "        vertical-align: top;\n",
       "    }\n",
       "\n",
       "    .dataframe thead th {\n",
       "        text-align: right;\n",
       "    }\n",
       "</style>\n",
       "<table border=\"1\" class=\"dataframe\">\n",
       "  <thead>\n",
       "    <tr style=\"text-align: right;\">\n",
       "      <th></th>\n",
       "      <th>date</th>\n",
       "      <th>country_name</th>\n",
       "      <th>Unsafe drinking water</th>\n",
       "      <th>Environmental Performance Index</th>\n",
       "      <th>Fish Stock Status</th>\n",
       "      <th>Agriculture</th>\n",
       "      <th>Air Quality</th>\n",
       "      <th>Wastewater Treatment</th>\n",
       "      <th>Sanitation &amp; Drinking Water</th>\n",
       "      <th>Unsafe sanitation</th>\n",
       "      <th>...</th>\n",
       "      <th>Trend in Carbon Intensity</th>\n",
       "      <th>Household Air Quality</th>\n",
       "      <th>Child Mortality</th>\n",
       "      <th>Pesticide Regulation</th>\n",
       "      <th>Agricultural Subsidies</th>\n",
       "      <th>Change in Forest Cover</th>\n",
       "      <th>Coastal Shelf Fishing Pressure</th>\n",
       "      <th>Change of Trend in Carbon Intensity</th>\n",
       "      <th>Climate</th>\n",
       "      <th>Critical Habitat Protection</th>\n",
       "    </tr>\n",
       "  </thead>\n",
       "  <tbody>\n",
       "    <tr>\n",
       "      <th>0</th>\n",
       "      <td>2002</td>\n",
       "      <td>Sweden</td>\n",
       "      <td>100</td>\n",
       "      <td>77.09</td>\n",
       "      <td>13.79</td>\n",
       "      <td>50.68</td>\n",
       "      <td>97.25</td>\n",
       "      <td>87.86</td>\n",
       "      <td>100</td>\n",
       "      <td>100</td>\n",
       "      <td>...</td>\n",
       "      <td>77.67</td>\n",
       "      <td>95</td>\n",
       "      <td>100</td>\n",
       "      <td>92</td>\n",
       "      <td>9.37</td>\n",
       "      <td>14.35</td>\n",
       "      <td>29.3</td>\n",
       "      <td>29.51</td>\n",
       "      <td>77.34</td>\n",
       "      <td>NaN</td>\n",
       "    </tr>\n",
       "    <tr>\n",
       "      <th>1</th>\n",
       "      <td>2003</td>\n",
       "      <td>Sweden</td>\n",
       "      <td>100</td>\n",
       "      <td>77.14</td>\n",
       "      <td>8.16</td>\n",
       "      <td>50.48</td>\n",
       "      <td>96.77</td>\n",
       "      <td>87.86</td>\n",
       "      <td>100</td>\n",
       "      <td>100</td>\n",
       "      <td>...</td>\n",
       "      <td>77.67</td>\n",
       "      <td>95</td>\n",
       "      <td>100</td>\n",
       "      <td>92</td>\n",
       "      <td>8.96</td>\n",
       "      <td>14.35</td>\n",
       "      <td>37.14</td>\n",
       "      <td>29.51</td>\n",
       "      <td>77.34</td>\n",
       "      <td>NaN</td>\n",
       "    </tr>\n",
       "    <tr>\n",
       "      <th>2</th>\n",
       "      <td>2004</td>\n",
       "      <td>Sweden</td>\n",
       "      <td>100</td>\n",
       "      <td>77.29</td>\n",
       "      <td>8.42</td>\n",
       "      <td>51.36</td>\n",
       "      <td>97.13</td>\n",
       "      <td>87.86</td>\n",
       "      <td>100</td>\n",
       "      <td>100</td>\n",
       "      <td>...</td>\n",
       "      <td>77.67</td>\n",
       "      <td>95</td>\n",
       "      <td>100</td>\n",
       "      <td>92</td>\n",
       "      <td>10.73</td>\n",
       "      <td>14.35</td>\n",
       "      <td>37.05</td>\n",
       "      <td>29.51</td>\n",
       "      <td>77.34</td>\n",
       "      <td>NaN</td>\n",
       "    </tr>\n",
       "    <tr>\n",
       "      <th>3</th>\n",
       "      <td>2005</td>\n",
       "      <td>Sweden</td>\n",
       "      <td>100</td>\n",
       "      <td>77.46</td>\n",
       "      <td>10.71</td>\n",
       "      <td>54.62</td>\n",
       "      <td>97.13</td>\n",
       "      <td>87.86</td>\n",
       "      <td>100</td>\n",
       "      <td>100</td>\n",
       "      <td>...</td>\n",
       "      <td>77.67</td>\n",
       "      <td>95</td>\n",
       "      <td>100</td>\n",
       "      <td>92</td>\n",
       "      <td>17.23</td>\n",
       "      <td>14.35</td>\n",
       "      <td>37.9</td>\n",
       "      <td>29.51</td>\n",
       "      <td>77.34</td>\n",
       "      <td>NaN</td>\n",
       "    </tr>\n",
       "    <tr>\n",
       "      <th>4</th>\n",
       "      <td>2006</td>\n",
       "      <td>Sweden</td>\n",
       "      <td>100</td>\n",
       "      <td>77.48</td>\n",
       "      <td>11.48</td>\n",
       "      <td>55.55</td>\n",
       "      <td>96.53</td>\n",
       "      <td>87.86</td>\n",
       "      <td>100</td>\n",
       "      <td>100</td>\n",
       "      <td>...</td>\n",
       "      <td>77.67</td>\n",
       "      <td>95</td>\n",
       "      <td>100</td>\n",
       "      <td>92</td>\n",
       "      <td>19.1</td>\n",
       "      <td>14.35</td>\n",
       "      <td>38.83</td>\n",
       "      <td>29.51</td>\n",
       "      <td>77.34</td>\n",
       "      <td>NaN</td>\n",
       "    </tr>\n",
       "    <tr>\n",
       "      <th>...</th>\n",
       "      <td>...</td>\n",
       "      <td>...</td>\n",
       "      <td>...</td>\n",
       "      <td>...</td>\n",
       "      <td>...</td>\n",
       "      <td>...</td>\n",
       "      <td>...</td>\n",
       "      <td>...</td>\n",
       "      <td>...</td>\n",
       "      <td>...</td>\n",
       "      <td>...</td>\n",
       "      <td>...</td>\n",
       "      <td>...</td>\n",
       "      <td>...</td>\n",
       "      <td>...</td>\n",
       "      <td>...</td>\n",
       "      <td>...</td>\n",
       "      <td>...</td>\n",
       "      <td>...</td>\n",
       "      <td>...</td>\n",
       "      <td>...</td>\n",
       "    </tr>\n",
       "    <tr>\n",
       "      <th>3461</th>\n",
       "      <td>2016</td>\n",
       "      <td>Tajikistan</td>\n",
       "      <td>47.42</td>\n",
       "      <td>73.05</td>\n",
       "      <td>NaN</td>\n",
       "      <td>89.97</td>\n",
       "      <td>74</td>\n",
       "      <td>49.33</td>\n",
       "      <td>70.28</td>\n",
       "      <td>90.25</td>\n",
       "      <td>...</td>\n",
       "      <td>96.6184</td>\n",
       "      <td>83.33</td>\n",
       "      <td>None</td>\n",
       "      <td>None</td>\n",
       "      <td>None</td>\n",
       "      <td>NaN</td>\n",
       "      <td>NaN</td>\n",
       "      <td>NaN</td>\n",
       "      <td>NaN</td>\n",
       "      <td>NaN</td>\n",
       "    </tr>\n",
       "    <tr>\n",
       "      <th>3462</th>\n",
       "      <td>2017</td>\n",
       "      <td>Tajikistan</td>\n",
       "      <td>None</td>\n",
       "      <td>None</td>\n",
       "      <td>NaN</td>\n",
       "      <td>None</td>\n",
       "      <td>None</td>\n",
       "      <td>None</td>\n",
       "      <td>None</td>\n",
       "      <td>None</td>\n",
       "      <td>...</td>\n",
       "      <td>None</td>\n",
       "      <td>None</td>\n",
       "      <td>None</td>\n",
       "      <td>None</td>\n",
       "      <td>None</td>\n",
       "      <td>NaN</td>\n",
       "      <td>NaN</td>\n",
       "      <td>NaN</td>\n",
       "      <td>NaN</td>\n",
       "      <td>NaN</td>\n",
       "    </tr>\n",
       "    <tr>\n",
       "      <th>3463</th>\n",
       "      <td>2018</td>\n",
       "      <td>Tajikistan</td>\n",
       "      <td>32.84</td>\n",
       "      <td>47.85</td>\n",
       "      <td>NaN</td>\n",
       "      <td>33.47</td>\n",
       "      <td>23.22</td>\n",
       "      <td>58.85</td>\n",
       "      <td>29.9</td>\n",
       "      <td>26.96</td>\n",
       "      <td>...</td>\n",
       "      <td>None</td>\n",
       "      <td>None</td>\n",
       "      <td>None</td>\n",
       "      <td>None</td>\n",
       "      <td>None</td>\n",
       "      <td>NaN</td>\n",
       "      <td>NaN</td>\n",
       "      <td>NaN</td>\n",
       "      <td>NaN</td>\n",
       "      <td>NaN</td>\n",
       "    </tr>\n",
       "    <tr>\n",
       "      <th>3464</th>\n",
       "      <td>2019</td>\n",
       "      <td>Tajikistan</td>\n",
       "      <td>None</td>\n",
       "      <td>None</td>\n",
       "      <td>NaN</td>\n",
       "      <td>None</td>\n",
       "      <td>None</td>\n",
       "      <td>None</td>\n",
       "      <td>None</td>\n",
       "      <td>None</td>\n",
       "      <td>...</td>\n",
       "      <td>None</td>\n",
       "      <td>None</td>\n",
       "      <td>None</td>\n",
       "      <td>None</td>\n",
       "      <td>None</td>\n",
       "      <td>NaN</td>\n",
       "      <td>NaN</td>\n",
       "      <td>NaN</td>\n",
       "      <td>NaN</td>\n",
       "      <td>NaN</td>\n",
       "    </tr>\n",
       "    <tr>\n",
       "      <th>3465</th>\n",
       "      <td>2020</td>\n",
       "      <td>Tajikistan</td>\n",
       "      <td>31.6</td>\n",
       "      <td>38.2</td>\n",
       "      <td>NaN</td>\n",
       "      <td>45.5</td>\n",
       "      <td>15.2</td>\n",
       "      <td>2.2</td>\n",
       "      <td>30.9</td>\n",
       "      <td>29.8</td>\n",
       "      <td>...</td>\n",
       "      <td>None</td>\n",
       "      <td>None</td>\n",
       "      <td>None</td>\n",
       "      <td>None</td>\n",
       "      <td>None</td>\n",
       "      <td>NaN</td>\n",
       "      <td>NaN</td>\n",
       "      <td>NaN</td>\n",
       "      <td>NaN</td>\n",
       "      <td>NaN</td>\n",
       "    </tr>\n",
       "  </tbody>\n",
       "</table>\n",
       "<p>3425 rows × 35 columns</p>\n",
       "</div>"
      ],
      "text/plain": [
       "      date country_name Unsafe drinking water Environmental Performance Index  \\\n",
       "0     2002       Sweden                   100                           77.09   \n",
       "1     2003       Sweden                   100                           77.14   \n",
       "2     2004       Sweden                   100                           77.29   \n",
       "3     2005       Sweden                   100                           77.46   \n",
       "4     2006       Sweden                   100                           77.48   \n",
       "...    ...          ...                   ...                             ...   \n",
       "3461  2016   Tajikistan                 47.42                           73.05   \n",
       "3462  2017   Tajikistan                  None                            None   \n",
       "3463  2018   Tajikistan                 32.84                           47.85   \n",
       "3464  2019   Tajikistan                  None                            None   \n",
       "3465  2020   Tajikistan                  31.6                            38.2   \n",
       "\n",
       "     Fish Stock Status Agriculture Air Quality Wastewater Treatment  \\\n",
       "0                13.79       50.68       97.25                87.86   \n",
       "1                 8.16       50.48       96.77                87.86   \n",
       "2                 8.42       51.36       97.13                87.86   \n",
       "3                10.71       54.62       97.13                87.86   \n",
       "4                11.48       55.55       96.53                87.86   \n",
       "...                ...         ...         ...                  ...   \n",
       "3461               NaN       89.97          74                49.33   \n",
       "3462               NaN        None        None                 None   \n",
       "3463               NaN       33.47       23.22                58.85   \n",
       "3464               NaN        None        None                 None   \n",
       "3465               NaN        45.5        15.2                  2.2   \n",
       "\n",
       "     Sanitation & Drinking Water Unsafe sanitation  ...  \\\n",
       "0                            100               100  ...   \n",
       "1                            100               100  ...   \n",
       "2                            100               100  ...   \n",
       "3                            100               100  ...   \n",
       "4                            100               100  ...   \n",
       "...                          ...               ...  ...   \n",
       "3461                       70.28             90.25  ...   \n",
       "3462                        None              None  ...   \n",
       "3463                        29.9             26.96  ...   \n",
       "3464                        None              None  ...   \n",
       "3465                        30.9              29.8  ...   \n",
       "\n",
       "     Trend in Carbon Intensity Household Air Quality Child Mortality  \\\n",
       "0                        77.67                    95             100   \n",
       "1                        77.67                    95             100   \n",
       "2                        77.67                    95             100   \n",
       "3                        77.67                    95             100   \n",
       "4                        77.67                    95             100   \n",
       "...                        ...                   ...             ...   \n",
       "3461                   96.6184                 83.33            None   \n",
       "3462                      None                  None            None   \n",
       "3463                      None                  None            None   \n",
       "3464                      None                  None            None   \n",
       "3465                      None                  None            None   \n",
       "\n",
       "     Pesticide Regulation Agricultural Subsidies Change in Forest Cover  \\\n",
       "0                      92                   9.37                  14.35   \n",
       "1                      92                   8.96                  14.35   \n",
       "2                      92                  10.73                  14.35   \n",
       "3                      92                  17.23                  14.35   \n",
       "4                      92                   19.1                  14.35   \n",
       "...                   ...                    ...                    ...   \n",
       "3461                 None                   None                    NaN   \n",
       "3462                 None                   None                    NaN   \n",
       "3463                 None                   None                    NaN   \n",
       "3464                 None                   None                    NaN   \n",
       "3465                 None                   None                    NaN   \n",
       "\n",
       "     Coastal Shelf Fishing Pressure Change of Trend in Carbon Intensity  \\\n",
       "0                              29.3                               29.51   \n",
       "1                             37.14                               29.51   \n",
       "2                             37.05                               29.51   \n",
       "3                              37.9                               29.51   \n",
       "4                             38.83                               29.51   \n",
       "...                             ...                                 ...   \n",
       "3461                            NaN                                 NaN   \n",
       "3462                            NaN                                 NaN   \n",
       "3463                            NaN                                 NaN   \n",
       "3464                            NaN                                 NaN   \n",
       "3465                            NaN                                 NaN   \n",
       "\n",
       "     Climate Critical Habitat Protection  \n",
       "0      77.34                         NaN  \n",
       "1      77.34                         NaN  \n",
       "2      77.34                         NaN  \n",
       "3      77.34                         NaN  \n",
       "4      77.34                         NaN  \n",
       "...      ...                         ...  \n",
       "3461     NaN                         NaN  \n",
       "3462     NaN                         NaN  \n",
       "3463     NaN                         NaN  \n",
       "3464     NaN                         NaN  \n",
       "3465     NaN                         NaN  \n",
       "\n",
       "[3425 rows x 35 columns]"
      ]
     },
     "execution_count": 11,
     "metadata": {},
     "output_type": "execute_result"
    }
   ],
   "source": [
    "epi_new"
   ]
  },
  {
   "cell_type": "code",
   "execution_count": 12,
   "metadata": {
    "ExecuteTime": {
     "end_time": "2021-05-13T16:35:11.317786Z",
     "start_time": "2021-05-13T16:35:11.302772Z"
    },
    "scrolled": false
   },
   "outputs": [
    {
     "data": {
      "text/plain": [
       "Hungary                  19\n",
       "Cambodia                 19\n",
       "Bolivia                  19\n",
       "Turkey                   19\n",
       "Lesotho                  19\n",
       "                         ..\n",
       "Sao Tome and Principe     9\n",
       "Maldives                  9\n",
       "Samoa                     9\n",
       "Marshall Islands          9\n",
       "Micronesia                9\n",
       "Name: country_name, Length: 185, dtype: int64"
      ]
     },
     "execution_count": 12,
     "metadata": {},
     "output_type": "execute_result"
    }
   ],
   "source": [
    "epi_new['country_name'].value_counts()"
   ]
  },
  {
   "cell_type": "code",
   "execution_count": 13,
   "metadata": {
    "ExecuteTime": {
     "end_time": "2021-05-13T16:35:11.333800Z",
     "start_time": "2021-05-13T16:35:11.318787Z"
    }
   },
   "outputs": [],
   "source": [
    "def impute_values(country_name):\n",
    "    country = epi_new[epi_new['country_name'] == country_name].copy()\n",
    "    for col in country.columns:\n",
    "        country[col] = country[col].map(lambda x: np.nan if x == 'None' else x)\n",
    "        country[col].interpolate(method='linear',order=1,inplace=True, axis=0)\n",
    "    return country\n",
    "        "
   ]
  },
  {
   "cell_type": "code",
   "execution_count": 14,
   "metadata": {
    "ExecuteTime": {
     "end_time": "2021-05-13T16:35:16.080996Z",
     "start_time": "2021-05-13T16:35:11.335802Z"
    }
   },
   "outputs": [],
   "source": [
    "epi_new_new = pd.DataFrame()\n",
    "\n",
    "for country_name in  set(epi_new['country_name'].values):\n",
    "    country_df = impute_values(country_name)\n",
    "    epi_new_new = pd.concat([epi_new_new, country_df], ignore_index = True)"
   ]
  },
  {
   "cell_type": "code",
   "execution_count": 15,
   "metadata": {
    "ExecuteTime": {
     "end_time": "2021-05-13T16:35:16.113023Z",
     "start_time": "2021-05-13T16:35:16.081996Z"
    },
    "scrolled": false
   },
   "outputs": [
    {
     "data": {
      "text/html": [
       "<div>\n",
       "<style scoped>\n",
       "    .dataframe tbody tr th:only-of-type {\n",
       "        vertical-align: middle;\n",
       "    }\n",
       "\n",
       "    .dataframe tbody tr th {\n",
       "        vertical-align: top;\n",
       "    }\n",
       "\n",
       "    .dataframe thead th {\n",
       "        text-align: right;\n",
       "    }\n",
       "</style>\n",
       "<table border=\"1\" class=\"dataframe\">\n",
       "  <thead>\n",
       "    <tr style=\"text-align: right;\">\n",
       "      <th></th>\n",
       "      <th>date</th>\n",
       "      <th>country_name</th>\n",
       "      <th>Unsafe drinking water</th>\n",
       "      <th>Environmental Performance Index</th>\n",
       "      <th>Fish Stock Status</th>\n",
       "      <th>Agriculture</th>\n",
       "      <th>Air Quality</th>\n",
       "      <th>Wastewater Treatment</th>\n",
       "      <th>Sanitation &amp; Drinking Water</th>\n",
       "      <th>Unsafe sanitation</th>\n",
       "      <th>...</th>\n",
       "      <th>Trend in Carbon Intensity</th>\n",
       "      <th>Household Air Quality</th>\n",
       "      <th>Child Mortality</th>\n",
       "      <th>Pesticide Regulation</th>\n",
       "      <th>Agricultural Subsidies</th>\n",
       "      <th>Change in Forest Cover</th>\n",
       "      <th>Coastal Shelf Fishing Pressure</th>\n",
       "      <th>Change of Trend in Carbon Intensity</th>\n",
       "      <th>Climate</th>\n",
       "      <th>Critical Habitat Protection</th>\n",
       "    </tr>\n",
       "  </thead>\n",
       "  <tbody>\n",
       "    <tr>\n",
       "      <th>0</th>\n",
       "      <td>2002</td>\n",
       "      <td>Sweden</td>\n",
       "      <td>100.0</td>\n",
       "      <td>77.09</td>\n",
       "      <td>13.79</td>\n",
       "      <td>50.68</td>\n",
       "      <td>97.25</td>\n",
       "      <td>87.86</td>\n",
       "      <td>100.0</td>\n",
       "      <td>100.0</td>\n",
       "      <td>...</td>\n",
       "      <td>77.67</td>\n",
       "      <td>95.0</td>\n",
       "      <td>100.0</td>\n",
       "      <td>92.0</td>\n",
       "      <td>9.37</td>\n",
       "      <td>14.35</td>\n",
       "      <td>29.30</td>\n",
       "      <td>29.51</td>\n",
       "      <td>77.34</td>\n",
       "      <td>NaN</td>\n",
       "    </tr>\n",
       "    <tr>\n",
       "      <th>1</th>\n",
       "      <td>2003</td>\n",
       "      <td>Sweden</td>\n",
       "      <td>100.0</td>\n",
       "      <td>77.14</td>\n",
       "      <td>8.16</td>\n",
       "      <td>50.48</td>\n",
       "      <td>96.77</td>\n",
       "      <td>87.86</td>\n",
       "      <td>100.0</td>\n",
       "      <td>100.0</td>\n",
       "      <td>...</td>\n",
       "      <td>77.67</td>\n",
       "      <td>95.0</td>\n",
       "      <td>100.0</td>\n",
       "      <td>92.0</td>\n",
       "      <td>8.96</td>\n",
       "      <td>14.35</td>\n",
       "      <td>37.14</td>\n",
       "      <td>29.51</td>\n",
       "      <td>77.34</td>\n",
       "      <td>NaN</td>\n",
       "    </tr>\n",
       "    <tr>\n",
       "      <th>2</th>\n",
       "      <td>2004</td>\n",
       "      <td>Sweden</td>\n",
       "      <td>100.0</td>\n",
       "      <td>77.29</td>\n",
       "      <td>8.42</td>\n",
       "      <td>51.36</td>\n",
       "      <td>97.13</td>\n",
       "      <td>87.86</td>\n",
       "      <td>100.0</td>\n",
       "      <td>100.0</td>\n",
       "      <td>...</td>\n",
       "      <td>77.67</td>\n",
       "      <td>95.0</td>\n",
       "      <td>100.0</td>\n",
       "      <td>92.0</td>\n",
       "      <td>10.73</td>\n",
       "      <td>14.35</td>\n",
       "      <td>37.05</td>\n",
       "      <td>29.51</td>\n",
       "      <td>77.34</td>\n",
       "      <td>NaN</td>\n",
       "    </tr>\n",
       "    <tr>\n",
       "      <th>3</th>\n",
       "      <td>2005</td>\n",
       "      <td>Sweden</td>\n",
       "      <td>100.0</td>\n",
       "      <td>77.46</td>\n",
       "      <td>10.71</td>\n",
       "      <td>54.62</td>\n",
       "      <td>97.13</td>\n",
       "      <td>87.86</td>\n",
       "      <td>100.0</td>\n",
       "      <td>100.0</td>\n",
       "      <td>...</td>\n",
       "      <td>77.67</td>\n",
       "      <td>95.0</td>\n",
       "      <td>100.0</td>\n",
       "      <td>92.0</td>\n",
       "      <td>17.23</td>\n",
       "      <td>14.35</td>\n",
       "      <td>37.90</td>\n",
       "      <td>29.51</td>\n",
       "      <td>77.34</td>\n",
       "      <td>NaN</td>\n",
       "    </tr>\n",
       "    <tr>\n",
       "      <th>4</th>\n",
       "      <td>2006</td>\n",
       "      <td>Sweden</td>\n",
       "      <td>100.0</td>\n",
       "      <td>77.48</td>\n",
       "      <td>11.48</td>\n",
       "      <td>55.55</td>\n",
       "      <td>96.53</td>\n",
       "      <td>87.86</td>\n",
       "      <td>100.0</td>\n",
       "      <td>100.0</td>\n",
       "      <td>...</td>\n",
       "      <td>77.67</td>\n",
       "      <td>95.0</td>\n",
       "      <td>100.0</td>\n",
       "      <td>92.0</td>\n",
       "      <td>19.10</td>\n",
       "      <td>14.35</td>\n",
       "      <td>38.83</td>\n",
       "      <td>29.51</td>\n",
       "      <td>77.34</td>\n",
       "      <td>NaN</td>\n",
       "    </tr>\n",
       "  </tbody>\n",
       "</table>\n",
       "<p>5 rows × 35 columns</p>\n",
       "</div>"
      ],
      "text/plain": [
       "   date country_name  Unsafe drinking water  Environmental Performance Index  \\\n",
       "0  2002       Sweden                  100.0                            77.09   \n",
       "1  2003       Sweden                  100.0                            77.14   \n",
       "2  2004       Sweden                  100.0                            77.29   \n",
       "3  2005       Sweden                  100.0                            77.46   \n",
       "4  2006       Sweden                  100.0                            77.48   \n",
       "\n",
       "   Fish Stock Status  Agriculture  Air Quality  Wastewater Treatment  \\\n",
       "0              13.79        50.68        97.25                 87.86   \n",
       "1               8.16        50.48        96.77                 87.86   \n",
       "2               8.42        51.36        97.13                 87.86   \n",
       "3              10.71        54.62        97.13                 87.86   \n",
       "4              11.48        55.55        96.53                 87.86   \n",
       "\n",
       "   Sanitation & Drinking Water  Unsafe sanitation  ...  \\\n",
       "0                        100.0              100.0  ...   \n",
       "1                        100.0              100.0  ...   \n",
       "2                        100.0              100.0  ...   \n",
       "3                        100.0              100.0  ...   \n",
       "4                        100.0              100.0  ...   \n",
       "\n",
       "   Trend in Carbon Intensity  Household Air Quality  Child Mortality  \\\n",
       "0                      77.67                   95.0            100.0   \n",
       "1                      77.67                   95.0            100.0   \n",
       "2                      77.67                   95.0            100.0   \n",
       "3                      77.67                   95.0            100.0   \n",
       "4                      77.67                   95.0            100.0   \n",
       "\n",
       "   Pesticide Regulation  Agricultural Subsidies  Change in Forest Cover  \\\n",
       "0                  92.0                    9.37                   14.35   \n",
       "1                  92.0                    8.96                   14.35   \n",
       "2                  92.0                   10.73                   14.35   \n",
       "3                  92.0                   17.23                   14.35   \n",
       "4                  92.0                   19.10                   14.35   \n",
       "\n",
       "   Coastal Shelf Fishing Pressure  Change of Trend in Carbon Intensity  \\\n",
       "0                           29.30                                29.51   \n",
       "1                           37.14                                29.51   \n",
       "2                           37.05                                29.51   \n",
       "3                           37.90                                29.51   \n",
       "4                           38.83                                29.51   \n",
       "\n",
       "   Climate  Critical Habitat Protection  \n",
       "0    77.34                          NaN  \n",
       "1    77.34                          NaN  \n",
       "2    77.34                          NaN  \n",
       "3    77.34                          NaN  \n",
       "4    77.34                          NaN  \n",
       "\n",
       "[5 rows x 35 columns]"
      ]
     },
     "execution_count": 15,
     "metadata": {},
     "output_type": "execute_result"
    }
   ],
   "source": [
    "epi_new_new.head()"
   ]
  },
  {
   "cell_type": "code",
   "execution_count": 16,
   "metadata": {
    "ExecuteTime": {
     "end_time": "2021-05-13T16:35:16.128275Z",
     "start_time": "2021-05-13T16:35:16.115026Z"
    }
   },
   "outputs": [
    {
     "data": {
      "text/plain": [
       "(3425, 35)"
      ]
     },
     "execution_count": 16,
     "metadata": {},
     "output_type": "execute_result"
    }
   ],
   "source": [
    "epi_new_new.shape"
   ]
  },
  {
   "cell_type": "code",
   "execution_count": 17,
   "metadata": {
    "ExecuteTime": {
     "end_time": "2021-05-13T16:35:16.192321Z",
     "start_time": "2021-05-13T16:35:16.130266Z"
    }
   },
   "outputs": [
    {
     "data": {
      "text/plain": [
       "Critical Habitat Protection                        1930\n",
       "Climate                                             959\n",
       "Change of Trend in Carbon Intensity                 959\n",
       "Trend in CO2 Emissions per KWH                      957\n",
       "Marine Protected Areas                              868\n",
       "Trend in Carbon Intensity                           853\n",
       "Coastal Shelf Fishing Pressure                      845\n",
       "Fish Stock Status                                   842\n",
       "Fisheries                                           842\n",
       "Change in Forest Cover                              826\n",
       "Climate & Energy                                    801\n",
       "Forests                                             668\n",
       "Agricultural Subsidies                              466\n",
       "Environmental Performance Index                      38\n",
       "Ecosystem Vitality                                   38\n",
       "Wastewater Treatment                                 26\n",
       "Water Resources                                      26\n",
       "Environmental Health                                 12\n",
       "Access to Electricity                                 9\n",
       "Health Impacts                                        9\n",
       "Child Mortality                                       9\n",
       "Biodiversity & Habitat                                8\n",
       "Terrestrial biome protection (national weights)       8\n",
       "Terrestrial biome protection (global weights)         8\n",
       "Agriculture                                           8\n",
       "PM2.5 Exposure                                        4\n",
       "PM2.5 Exceedance                                      4\n",
       "Air Quality                                           4\n",
       "dtype: int64"
      ]
     },
     "execution_count": 17,
     "metadata": {},
     "output_type": "execute_result"
    }
   ],
   "source": [
    "nulls = epi_new_new.isnull().sum().sort_values(ascending =False)\n",
    "nulls[nulls > 0]"
   ]
  },
  {
   "cell_type": "code",
   "execution_count": 18,
   "metadata": {
    "ExecuteTime": {
     "end_time": "2021-05-13T16:35:16.207334Z",
     "start_time": "2021-05-13T16:35:16.194323Z"
    }
   },
   "outputs": [],
   "source": [
    "drop_list = ['Climate','Forests', 'Critical Habitat Protection', 'Change in Forest Cover','Change of Trend in Carbon Intensity', 'Coastal Shelf Fishing Pressure',\n",
    "'Trend in CO2 Emissions per KWH','Trend in Carbon Intensity','Climate & Energy']"
   ]
  },
  {
   "cell_type": "code",
   "execution_count": 19,
   "metadata": {
    "ExecuteTime": {
     "end_time": "2021-05-13T16:35:16.222348Z",
     "start_time": "2021-05-13T16:35:16.208336Z"
    }
   },
   "outputs": [
    {
     "data": {
      "text/plain": [
       "9"
      ]
     },
     "execution_count": 19,
     "metadata": {},
     "output_type": "execute_result"
    }
   ],
   "source": [
    "len(drop_list)"
   ]
  },
  {
   "cell_type": "markdown",
   "metadata": {
    "ExecuteTime": {
     "end_time": "2021-05-13T00:13:04.306321Z",
     "start_time": "2021-05-13T00:13:03.966019Z"
    }
   },
   "source": [
    "more to look at: marine, Fisheries, fish stock, agricultural subsidies."
   ]
  },
  {
   "cell_type": "code",
   "execution_count": 20,
   "metadata": {
    "ExecuteTime": {
     "end_time": "2021-05-13T16:35:16.237361Z",
     "start_time": "2021-05-13T16:35:16.224349Z"
    }
   },
   "outputs": [],
   "source": [
    "epi_new_new.drop(columns=drop_list,inplace=True)"
   ]
  },
  {
   "cell_type": "code",
   "execution_count": 21,
   "metadata": {
    "ExecuteTime": {
     "end_time": "2021-05-13T16:35:16.253375Z",
     "start_time": "2021-05-13T16:35:16.239363Z"
    }
   },
   "outputs": [
    {
     "data": {
      "text/plain": [
       "Marine Protected Areas                             868\n",
       "Fisheries                                          842\n",
       "Fish Stock Status                                  842\n",
       "Agricultural Subsidies                             466\n",
       "Environmental Performance Index                     38\n",
       "Ecosystem Vitality                                  38\n",
       "Water Resources                                     26\n",
       "Wastewater Treatment                                26\n",
       "Environmental Health                                12\n",
       "Health Impacts                                       9\n",
       "Child Mortality                                      9\n",
       "Access to Electricity                                9\n",
       "Agriculture                                          8\n",
       "Terrestrial biome protection (global weights)        8\n",
       "Terrestrial biome protection (national weights)      8\n",
       "Biodiversity & Habitat                               8\n",
       "Air Quality                                          4\n",
       "PM2.5 Exposure                                       4\n",
       "PM2.5 Exceedance                                     4\n",
       "dtype: int64"
      ]
     },
     "execution_count": 21,
     "metadata": {},
     "output_type": "execute_result"
    }
   ],
   "source": [
    "nulls = epi_new_new.isnull().sum().sort_values(ascending =False)\n",
    "nulls[nulls > 0]"
   ]
  },
  {
   "cell_type": "code",
   "execution_count": 22,
   "metadata": {
    "ExecuteTime": {
     "end_time": "2021-05-13T16:35:16.268388Z",
     "start_time": "2021-05-13T16:35:16.258380Z"
    }
   },
   "outputs": [],
   "source": [
    "epi = epi_new_new"
   ]
  },
  {
   "cell_type": "code",
   "execution_count": 23,
   "metadata": {
    "ExecuteTime": {
     "end_time": "2021-05-13T16:35:16.284403Z",
     "start_time": "2021-05-13T16:35:16.272392Z"
    }
   },
   "outputs": [
    {
     "data": {
      "text/plain": [
       "Marine Protected Areas                             868\n",
       "Fisheries                                          842\n",
       "Fish Stock Status                                  842\n",
       "Agricultural Subsidies                             466\n",
       "Environmental Performance Index                     38\n",
       "Ecosystem Vitality                                  38\n",
       "Water Resources                                     26\n",
       "Wastewater Treatment                                26\n",
       "Environmental Health                                12\n",
       "Health Impacts                                       9\n",
       "Child Mortality                                      9\n",
       "Access to Electricity                                9\n",
       "Agriculture                                          8\n",
       "Terrestrial biome protection (global weights)        8\n",
       "Terrestrial biome protection (national weights)      8\n",
       "Biodiversity & Habitat                               8\n",
       "Air Quality                                          4\n",
       "PM2.5 Exposure                                       4\n",
       "PM2.5 Exceedance                                     4\n",
       "dtype: int64"
      ]
     },
     "execution_count": 23,
     "metadata": {},
     "output_type": "execute_result"
    }
   ],
   "source": [
    "nulls = epi.isnull().sum().sort_values(ascending =False)\n",
    "nulls[nulls > 0]"
   ]
  },
  {
   "cell_type": "markdown",
   "metadata": {},
   "source": [
    "checking the nulls for high null count indicators: Marine Protected Areas, Fisheries, Fish Stock Status and Agricultural Subsidies"
   ]
  },
  {
   "cell_type": "code",
   "execution_count": 24,
   "metadata": {
    "ExecuteTime": {
     "end_time": "2021-05-13T16:35:16.300417Z",
     "start_time": "2021-05-13T16:35:16.286404Z"
    }
   },
   "outputs": [],
   "source": [
    "#make new DF with just marine nulls\n",
    "marine_nulls = epi[epi['Marine Protected Areas'].isnull() == True]"
   ]
  },
  {
   "cell_type": "code",
   "execution_count": 25,
   "metadata": {
    "ExecuteTime": {
     "end_time": "2021-05-13T16:35:16.315430Z",
     "start_time": "2021-05-13T16:35:16.301418Z"
    }
   },
   "outputs": [],
   "source": [
    "marine_dic = marine_nulls['country_name'].value_counts().to_dict()"
   ]
  },
  {
   "cell_type": "code",
   "execution_count": 26,
   "metadata": {
    "ExecuteTime": {
     "end_time": "2021-05-13T16:35:16.331444Z",
     "start_time": "2021-05-13T16:35:16.317432Z"
    }
   },
   "outputs": [],
   "source": [
    "#get list of countries will nulls\n",
    "marine_countries = list(marine_dic.keys())"
   ]
  },
  {
   "cell_type": "code",
   "execution_count": 27,
   "metadata": {
    "ExecuteTime": {
     "end_time": "2021-05-13T16:35:16.346458Z",
     "start_time": "2021-05-13T16:35:16.333448Z"
    }
   },
   "outputs": [],
   "source": [
    "#make new DF with just fishery Nulls\n",
    "fish_nulls = epi[epi['Fisheries'].isnull() == True]"
   ]
  },
  {
   "cell_type": "code",
   "execution_count": 28,
   "metadata": {
    "ExecuteTime": {
     "end_time": "2021-05-13T16:35:16.361471Z",
     "start_time": "2021-05-13T16:35:16.348459Z"
    }
   },
   "outputs": [],
   "source": [
    "fish_dic = fish_nulls['country_name'].value_counts().to_dict()"
   ]
  },
  {
   "cell_type": "code",
   "execution_count": 29,
   "metadata": {
    "ExecuteTime": {
     "end_time": "2021-05-13T16:35:16.377485Z",
     "start_time": "2021-05-13T16:35:16.362473Z"
    }
   },
   "outputs": [],
   "source": [
    "#get list of countries with fisheries nulls\n",
    "fish_countries = list(fish_dic.keys())"
   ]
  },
  {
   "cell_type": "markdown",
   "metadata": {},
   "source": [
    "Compare list, decide what to do with non-landlocked countries."
   ]
  },
  {
   "cell_type": "code",
   "execution_count": 30,
   "metadata": {
    "ExecuteTime": {
     "end_time": "2021-05-13T16:35:16.392499Z",
     "start_time": "2021-05-13T16:35:16.379489Z"
    },
    "scrolled": true
   },
   "outputs": [
    {
     "data": {
      "text/plain": [
       "['Brunei Darussalam', 'Guinea-Bissau', 'Maldives']"
      ]
     },
     "execution_count": 30,
     "metadata": {},
     "output_type": "execute_result"
    }
   ],
   "source": [
    "[x for x in marine_countries if x not in fish_countries]"
   ]
  },
  {
   "cell_type": "code",
   "execution_count": 31,
   "metadata": {
    "ExecuteTime": {
     "end_time": "2021-05-13T16:35:16.408513Z",
     "start_time": "2021-05-13T16:35:16.394500Z"
    }
   },
   "outputs": [
    {
     "data": {
      "text/plain": [
       "['Saint Vincent and the Grenadines']"
      ]
     },
     "execution_count": 31,
     "metadata": {},
     "output_type": "execute_result"
    }
   ],
   "source": [
    "[x for x in fish_countries if x not in marine_countries]"
   ]
  },
  {
   "cell_type": "markdown",
   "metadata": {},
   "source": [
    "drop: maldives, saint vincent and the grenadines, saint lucia, Marshall Islands,micronesia, Sao Tome and Principe, samoa\n",
    "\n",
    "pad: guinea bissau, Brunei Darussalam"
   ]
  },
  {
   "cell_type": "code",
   "execution_count": 32,
   "metadata": {
    "ExecuteTime": {
     "end_time": "2021-05-13T16:35:16.424527Z",
     "start_time": "2021-05-13T16:35:16.409513Z"
    }
   },
   "outputs": [],
   "source": [
    "#update list\n",
    "fish_countries.remove('Saint Vincent and the Grenadines')\n",
    "marine_countries.remove('Maldives')\n",
    "marine_countries.remove('Guinea-Bissau')\n",
    "marine_countries.remove('Brunei Darussalam')"
   ]
  },
  {
   "cell_type": "code",
   "execution_count": 33,
   "metadata": {
    "ExecuteTime": {
     "end_time": "2021-05-13T16:35:16.439540Z",
     "start_time": "2021-05-13T16:35:16.426530Z"
    }
   },
   "outputs": [],
   "source": [
    "#new DF for fishing stock nulls\n",
    "fish_stock_nulls = epi[epi['Fish Stock Status'].isnull() == True]"
   ]
  },
  {
   "cell_type": "code",
   "execution_count": 34,
   "metadata": {
    "ExecuteTime": {
     "end_time": "2021-05-13T16:35:16.454553Z",
     "start_time": "2021-05-13T16:35:16.440541Z"
    }
   },
   "outputs": [],
   "source": [
    "fish_stock_dic = fish_stock_nulls['country_name'].value_counts().to_dict()"
   ]
  },
  {
   "cell_type": "code",
   "execution_count": 35,
   "metadata": {
    "ExecuteTime": {
     "end_time": "2021-05-13T16:35:16.470568Z",
     "start_time": "2021-05-13T16:35:16.456555Z"
    }
   },
   "outputs": [],
   "source": [
    "#get list of fishing stock null countries \n",
    "fish_stock_countries = list(fish_stock_dic.keys())"
   ]
  },
  {
   "cell_type": "code",
   "execution_count": 36,
   "metadata": {
    "ExecuteTime": {
     "end_time": "2021-05-13T16:35:16.486582Z",
     "start_time": "2021-05-13T16:35:16.471569Z"
    }
   },
   "outputs": [],
   "source": [
    "#we are not using Saint Vincent and the Grenadines\n",
    "fish_stock_countries.remove('Saint Vincent and the Grenadines')"
   ]
  },
  {
   "cell_type": "code",
   "execution_count": 37,
   "metadata": {
    "ExecuteTime": {
     "end_time": "2021-05-13T16:35:16.502596Z",
     "start_time": "2021-05-13T16:35:16.488585Z"
    }
   },
   "outputs": [
    {
     "data": {
      "text/plain": [
       "True"
      ]
     },
     "execution_count": 37,
     "metadata": {},
     "output_type": "execute_result"
    }
   ],
   "source": [
    "#look for differences in the list\n",
    "fish_stock_countries == fish_countries"
   ]
  },
  {
   "cell_type": "code",
   "execution_count": 38,
   "metadata": {
    "ExecuteTime": {
     "end_time": "2021-05-13T16:35:16.518611Z",
     "start_time": "2021-05-13T16:35:16.504599Z"
    }
   },
   "outputs": [
    {
     "data": {
      "text/plain": [
       "True"
      ]
     },
     "execution_count": 38,
     "metadata": {},
     "output_type": "execute_result"
    }
   ],
   "source": [
    "#make sure not to leave out any countries from the list\n",
    "sorted(marine_countries) == sorted(fish_countries)"
   ]
  },
  {
   "cell_type": "code",
   "execution_count": 39,
   "metadata": {
    "ExecuteTime": {
     "end_time": "2021-05-13T16:35:16.533624Z",
     "start_time": "2021-05-13T16:35:16.520614Z"
    }
   },
   "outputs": [],
   "source": [
    "land_locked = fish_countries"
   ]
  },
  {
   "cell_type": "code",
   "execution_count": 40,
   "metadata": {
    "ExecuteTime": {
     "end_time": "2021-05-13T16:35:16.548637Z",
     "start_time": "2021-05-13T16:35:16.534624Z"
    },
    "scrolled": false
   },
   "outputs": [
    {
     "data": {
      "text/plain": [
       "['Hungary', 'Dem. Rep. Congo', 'Serbia']"
      ]
     },
     "execution_count": 40,
     "metadata": {},
     "output_type": "execute_result"
    }
   ],
   "source": [
    "land_locked[:3] #fill in with zeros for \"marine protected status, fisheries, and fish stock\""
   ]
  },
  {
   "cell_type": "markdown",
   "metadata": {},
   "source": [
    "not ocean related high nulls"
   ]
  },
  {
   "cell_type": "code",
   "execution_count": 41,
   "metadata": {
    "ExecuteTime": {
     "end_time": "2021-05-13T16:35:16.564651Z",
     "start_time": "2021-05-13T16:35:16.549638Z"
    }
   },
   "outputs": [],
   "source": [
    "ag_nulls = epi[epi['Agricultural Subsidies'].isnull() == True]"
   ]
  },
  {
   "cell_type": "code",
   "execution_count": 42,
   "metadata": {
    "ExecuteTime": {
     "end_time": "2021-05-13T16:35:16.580666Z",
     "start_time": "2021-05-13T16:35:16.566653Z"
    }
   },
   "outputs": [],
   "source": [
    "ag_dic = ag_nulls['country_name'].value_counts().to_dict()"
   ]
  },
  {
   "cell_type": "code",
   "execution_count": 43,
   "metadata": {
    "ExecuteTime": {
     "end_time": "2021-05-13T16:35:16.596680Z",
     "start_time": "2021-05-13T16:35:16.581667Z"
    }
   },
   "outputs": [],
   "source": [
    "ag_countries = list(ag_dic.keys())"
   ]
  },
  {
   "cell_type": "code",
   "execution_count": 44,
   "metadata": {
    "ExecuteTime": {
     "end_time": "2021-05-13T16:35:16.612694Z",
     "start_time": "2021-05-13T16:35:16.598681Z"
    }
   },
   "outputs": [],
   "source": [
    "ag_countries.remove('Marshall Islands')\n",
    "ag_countries.remove('Saint Lucia')"
   ]
  },
  {
   "cell_type": "code",
   "execution_count": 45,
   "metadata": {
    "ExecuteTime": {
     "end_time": "2021-05-13T16:35:16.628708Z",
     "start_time": "2021-05-13T16:35:16.614696Z"
    }
   },
   "outputs": [
    {
     "data": {
      "text/plain": [
       "Marine Protected Areas                             868\n",
       "Fisheries                                          842\n",
       "Fish Stock Status                                  842\n",
       "Agricultural Subsidies                             466\n",
       "Environmental Performance Index                     38\n",
       "Ecosystem Vitality                                  38\n",
       "Water Resources                                     26\n",
       "Wastewater Treatment                                26\n",
       "Environmental Health                                12\n",
       "Health Impacts                                       9\n",
       "Child Mortality                                      9\n",
       "Access to Electricity                                9\n",
       "Agriculture                                          8\n",
       "Terrestrial biome protection (global weights)        8\n",
       "Terrestrial biome protection (national weights)      8\n",
       "Biodiversity & Habitat                               8\n",
       "Air Quality                                          4\n",
       "PM2.5 Exposure                                       4\n",
       "PM2.5 Exceedance                                     4\n",
       "dtype: int64"
      ]
     },
     "execution_count": 45,
     "metadata": {},
     "output_type": "execute_result"
    }
   ],
   "source": [
    "nulls = epi.isnull().sum().sort_values(ascending =False)\n",
    "nulls[nulls > 0]"
   ]
  },
  {
   "cell_type": "code",
   "execution_count": 46,
   "metadata": {
    "ExecuteTime": {
     "end_time": "2021-05-13T16:35:16.644722Z",
     "start_time": "2021-05-13T16:35:16.630711Z"
    }
   },
   "outputs": [],
   "source": [
    "eco_vitality = epi[epi['Ecosystem Vitality'].isnull() == True]"
   ]
  },
  {
   "cell_type": "code",
   "execution_count": 47,
   "metadata": {
    "ExecuteTime": {
     "end_time": "2021-05-13T16:35:16.660736Z",
     "start_time": "2021-05-13T16:35:16.646724Z"
    }
   },
   "outputs": [
    {
     "data": {
      "text/plain": [
       "Marshall Islands                    8\n",
       "Micronesia                          6\n",
       "Saint Lucia                         6\n",
       "Saint Vincent and the Grenadines    6\n",
       "Sao Tome and Principe               4\n",
       "Maldives                            4\n",
       "Samoa                               4\n",
       "Name: country_name, dtype: int64"
      ]
     },
     "execution_count": 47,
     "metadata": {},
     "output_type": "execute_result"
    }
   ],
   "source": [
    "eco_vitality = epi[epi['Ecosystem Vitality'].isnull() == True]\n",
    "eco_vitality['country_name'].value_counts()"
   ]
  },
  {
   "cell_type": "markdown",
   "metadata": {},
   "source": [
    "* pad: \n",
    "\n",
    "* drop: micronesia, Sao Tome and Principe, samoa, "
   ]
  },
  {
   "cell_type": "code",
   "execution_count": 48,
   "metadata": {
    "ExecuteTime": {
     "end_time": "2021-05-13T16:35:16.676750Z",
     "start_time": "2021-05-13T16:35:16.661737Z"
    }
   },
   "outputs": [],
   "source": [
    "drop_countries = ['Maldives', 'Saint Vincent and the Grenadines','Saint Lucia', 'Marshall Islands','Micronesia', 'Sao Tome and Principe', 'Samoa']     "
   ]
  },
  {
   "cell_type": "code",
   "execution_count": 49,
   "metadata": {
    "ExecuteTime": {
     "end_time": "2021-05-13T16:35:16.692764Z",
     "start_time": "2021-05-13T16:35:16.678753Z"
    }
   },
   "outputs": [],
   "source": [
    "epi_2 = epi[~epi['country_name'].isin(drop_countries)]"
   ]
  },
  {
   "cell_type": "code",
   "execution_count": 50,
   "metadata": {
    "ExecuteTime": {
     "end_time": "2021-05-13T16:35:16.708779Z",
     "start_time": "2021-05-13T16:35:16.694766Z"
    }
   },
   "outputs": [
    {
     "data": {
      "text/plain": [
       "Marine Protected Areas    864\n",
       "Fisheries                 836\n",
       "Fish Stock Status         836\n",
       "Agricultural Subsidies    448\n",
       "dtype: int64"
      ]
     },
     "execution_count": 50,
     "metadata": {},
     "output_type": "execute_result"
    }
   ],
   "source": [
    "nulls = epi_2.isnull().sum().sort_values(ascending =False)\n",
    "nulls[nulls > 0]"
   ]
  },
  {
   "cell_type": "code",
   "execution_count": 51,
   "metadata": {
    "ExecuteTime": {
     "end_time": "2021-05-13T16:35:16.723792Z",
     "start_time": "2021-05-13T16:35:16.710781Z"
    }
   },
   "outputs": [],
   "source": [
    "def error_country_list(indicator):\n",
    "    df = epi[epi[indicator].isnull() == True]\n",
    "    return df['country_name'].value_counts()\n",
    "    "
   ]
  },
  {
   "cell_type": "code",
   "execution_count": 52,
   "metadata": {
    "ExecuteTime": {
     "end_time": "2021-05-13T16:35:16.739806Z",
     "start_time": "2021-05-13T16:35:16.725795Z"
    }
   },
   "outputs": [
    {
     "data": {
      "text/plain": [
       "Marshall Islands                    8\n",
       "Micronesia                          6\n",
       "Saint Lucia                         6\n",
       "Saint Vincent and the Grenadines    6\n",
       "Sao Tome and Principe               4\n",
       "Maldives                            4\n",
       "Samoa                               4\n",
       "Name: country_name, dtype: int64"
      ]
     },
     "execution_count": 52,
     "metadata": {},
     "output_type": "execute_result"
    }
   ],
   "source": [
    "error_country_list('Environmental Performance Index')"
   ]
  },
  {
   "cell_type": "code",
   "execution_count": 53,
   "metadata": {
    "ExecuteTime": {
     "end_time": "2021-05-13T16:35:16.754820Z",
     "start_time": "2021-05-13T16:35:16.741808Z"
    }
   },
   "outputs": [
    {
     "data": {
      "text/plain": [
       "Saint Vincent and the Grenadines    6\n",
       "Micronesia                          6\n",
       "Saint Lucia                         6\n",
       "Samoa                               4\n",
       "Sao Tome and Principe               4\n",
       "Name: country_name, dtype: int64"
      ]
     },
     "execution_count": 53,
     "metadata": {},
     "output_type": "execute_result"
    }
   ],
   "source": [
    "error_country_list('Water Resources')"
   ]
  },
  {
   "cell_type": "code",
   "execution_count": 54,
   "metadata": {
    "ExecuteTime": {
     "end_time": "2021-05-13T16:35:16.770835Z",
     "start_time": "2021-05-13T16:35:16.756822Z"
    }
   },
   "outputs": [
    {
     "data": {
      "text/plain": [
       "Saint Vincent and the Grenadines    6\n",
       "Micronesia                          6\n",
       "Saint Lucia                         6\n",
       "Samoa                               4\n",
       "Sao Tome and Principe               4\n",
       "Name: country_name, dtype: int64"
      ]
     },
     "execution_count": 54,
     "metadata": {},
     "output_type": "execute_result"
    }
   ],
   "source": [
    "error_country_list('Wastewater Treatment')"
   ]
  },
  {
   "cell_type": "code",
   "execution_count": 55,
   "metadata": {
    "ExecuteTime": {
     "end_time": "2021-05-13T16:35:16.785848Z",
     "start_time": "2021-05-13T16:35:16.772837Z"
    }
   },
   "outputs": [
    {
     "data": {
      "text/plain": [
       "Marshall Islands    8\n",
       "Maldives            4\n",
       "Name: country_name, dtype: int64"
      ]
     },
     "execution_count": 55,
     "metadata": {},
     "output_type": "execute_result"
    }
   ],
   "source": [
    "error_country_list('Environmental Health')"
   ]
  },
  {
   "cell_type": "code",
   "execution_count": 56,
   "metadata": {
    "ExecuteTime": {
     "end_time": "2021-05-13T16:35:16.800860Z",
     "start_time": "2021-05-13T16:35:16.788851Z"
    }
   },
   "outputs": [
    {
     "data": {
      "text/plain": [
       "Marshall Islands    9\n",
       "Name: country_name, dtype: int64"
      ]
     },
     "execution_count": 56,
     "metadata": {},
     "output_type": "execute_result"
    }
   ],
   "source": [
    "error_country_list('Child Mortality')"
   ]
  },
  {
   "cell_type": "code",
   "execution_count": 57,
   "metadata": {
    "ExecuteTime": {
     "end_time": "2021-05-13T16:35:16.815874Z",
     "start_time": "2021-05-13T16:35:16.801862Z"
    }
   },
   "outputs": [
    {
     "data": {
      "text/plain": [
       "Marshall Islands    9\n",
       "Name: country_name, dtype: int64"
      ]
     },
     "execution_count": 57,
     "metadata": {},
     "output_type": "execute_result"
    }
   ],
   "source": [
    "error_country_list('Health Impacts')"
   ]
  },
  {
   "cell_type": "code",
   "execution_count": 58,
   "metadata": {
    "ExecuteTime": {
     "end_time": "2021-05-13T16:35:16.831888Z",
     "start_time": "2021-05-13T16:35:16.816875Z"
    }
   },
   "outputs": [
    {
     "data": {
      "text/plain": [
       "Micronesia    9\n",
       "Name: country_name, dtype: int64"
      ]
     },
     "execution_count": 58,
     "metadata": {},
     "output_type": "execute_result"
    }
   ],
   "source": [
    "error_country_list('Access to Electricity')"
   ]
  },
  {
   "cell_type": "code",
   "execution_count": 59,
   "metadata": {
    "ExecuteTime": {
     "end_time": "2021-05-13T16:35:16.846901Z",
     "start_time": "2021-05-13T16:35:16.832889Z"
    }
   },
   "outputs": [
    {
     "data": {
      "text/plain": [
       "Sao Tome and Principe    4\n",
       "Maldives                 4\n",
       "Name: country_name, dtype: int64"
      ]
     },
     "execution_count": 59,
     "metadata": {},
     "output_type": "execute_result"
    }
   ],
   "source": [
    "error_country_list('Terrestrial biome protection (global weights)')"
   ]
  },
  {
   "cell_type": "code",
   "execution_count": null,
   "metadata": {},
   "outputs": [],
   "source": []
  },
  {
   "cell_type": "code",
   "execution_count": 60,
   "metadata": {
    "ExecuteTime": {
     "end_time": "2021-05-13T16:35:16.877929Z",
     "start_time": "2021-05-13T16:35:16.848903Z"
    },
    "scrolled": true
   },
   "outputs": [
    {
     "data": {
      "text/html": [
       "<div>\n",
       "<style scoped>\n",
       "    .dataframe tbody tr th:only-of-type {\n",
       "        vertical-align: middle;\n",
       "    }\n",
       "\n",
       "    .dataframe tbody tr th {\n",
       "        vertical-align: top;\n",
       "    }\n",
       "\n",
       "    .dataframe thead th {\n",
       "        text-align: right;\n",
       "    }\n",
       "</style>\n",
       "<table border=\"1\" class=\"dataframe\">\n",
       "  <thead>\n",
       "    <tr style=\"text-align: right;\">\n",
       "      <th></th>\n",
       "      <th>date</th>\n",
       "      <th>country_name</th>\n",
       "      <th>Unsafe drinking water</th>\n",
       "      <th>Environmental Performance Index</th>\n",
       "      <th>Fish Stock Status</th>\n",
       "      <th>Agriculture</th>\n",
       "      <th>Air Quality</th>\n",
       "      <th>Wastewater Treatment</th>\n",
       "      <th>Sanitation &amp; Drinking Water</th>\n",
       "      <th>Unsafe sanitation</th>\n",
       "      <th>...</th>\n",
       "      <th>Ecosystem Vitality</th>\n",
       "      <th>Water Resources</th>\n",
       "      <th>PM2.5 Exposure</th>\n",
       "      <th>PM2.5 Exceedance</th>\n",
       "      <th>Access to Electricity</th>\n",
       "      <th>Health Impacts</th>\n",
       "      <th>Household Air Quality</th>\n",
       "      <th>Child Mortality</th>\n",
       "      <th>Pesticide Regulation</th>\n",
       "      <th>Agricultural Subsidies</th>\n",
       "    </tr>\n",
       "  </thead>\n",
       "  <tbody>\n",
       "    <tr>\n",
       "      <th>418</th>\n",
       "      <td>2012</td>\n",
       "      <td>Micronesia</td>\n",
       "      <td>40.690000</td>\n",
       "      <td>NaN</td>\n",
       "      <td>15.84</td>\n",
       "      <td>56.000</td>\n",
       "      <td>86.330000</td>\n",
       "      <td>NaN</td>\n",
       "      <td>27.520</td>\n",
       "      <td>14.340000</td>\n",
       "      <td>...</td>\n",
       "      <td>NaN</td>\n",
       "      <td>NaN</td>\n",
       "      <td>100.0</td>\n",
       "      <td>100.0</td>\n",
       "      <td>NaN</td>\n",
       "      <td>59.97</td>\n",
       "      <td>59.0</td>\n",
       "      <td>59.97</td>\n",
       "      <td>12.0</td>\n",
       "      <td>100.0</td>\n",
       "    </tr>\n",
       "    <tr>\n",
       "      <th>419</th>\n",
       "      <td>2013</td>\n",
       "      <td>Micronesia</td>\n",
       "      <td>41.346667</td>\n",
       "      <td>NaN</td>\n",
       "      <td>13.20</td>\n",
       "      <td>50.505</td>\n",
       "      <td>83.121667</td>\n",
       "      <td>NaN</td>\n",
       "      <td>30.665</td>\n",
       "      <td>19.973333</td>\n",
       "      <td>...</td>\n",
       "      <td>NaN</td>\n",
       "      <td>NaN</td>\n",
       "      <td>100.0</td>\n",
       "      <td>100.0</td>\n",
       "      <td>NaN</td>\n",
       "      <td>59.97</td>\n",
       "      <td>59.0</td>\n",
       "      <td>59.97</td>\n",
       "      <td>12.0</td>\n",
       "      <td>100.0</td>\n",
       "    </tr>\n",
       "    <tr>\n",
       "      <th>420</th>\n",
       "      <td>2014</td>\n",
       "      <td>Micronesia</td>\n",
       "      <td>42.003333</td>\n",
       "      <td>NaN</td>\n",
       "      <td>10.56</td>\n",
       "      <td>45.010</td>\n",
       "      <td>79.913333</td>\n",
       "      <td>NaN</td>\n",
       "      <td>33.810</td>\n",
       "      <td>25.606667</td>\n",
       "      <td>...</td>\n",
       "      <td>NaN</td>\n",
       "      <td>NaN</td>\n",
       "      <td>100.0</td>\n",
       "      <td>100.0</td>\n",
       "      <td>NaN</td>\n",
       "      <td>59.97</td>\n",
       "      <td>59.0</td>\n",
       "      <td>59.97</td>\n",
       "      <td>12.0</td>\n",
       "      <td>100.0</td>\n",
       "    </tr>\n",
       "    <tr>\n",
       "      <th>421</th>\n",
       "      <td>2015</td>\n",
       "      <td>Micronesia</td>\n",
       "      <td>42.660000</td>\n",
       "      <td>NaN</td>\n",
       "      <td>7.92</td>\n",
       "      <td>39.515</td>\n",
       "      <td>76.705000</td>\n",
       "      <td>NaN</td>\n",
       "      <td>36.955</td>\n",
       "      <td>31.240000</td>\n",
       "      <td>...</td>\n",
       "      <td>NaN</td>\n",
       "      <td>NaN</td>\n",
       "      <td>100.0</td>\n",
       "      <td>100.0</td>\n",
       "      <td>NaN</td>\n",
       "      <td>59.97</td>\n",
       "      <td>59.0</td>\n",
       "      <td>59.97</td>\n",
       "      <td>12.0</td>\n",
       "      <td>100.0</td>\n",
       "    </tr>\n",
       "    <tr>\n",
       "      <th>422</th>\n",
       "      <td>2016</td>\n",
       "      <td>Micronesia</td>\n",
       "      <td>43.316667</td>\n",
       "      <td>NaN</td>\n",
       "      <td>5.28</td>\n",
       "      <td>34.020</td>\n",
       "      <td>73.496667</td>\n",
       "      <td>NaN</td>\n",
       "      <td>40.100</td>\n",
       "      <td>36.873333</td>\n",
       "      <td>...</td>\n",
       "      <td>NaN</td>\n",
       "      <td>NaN</td>\n",
       "      <td>100.0</td>\n",
       "      <td>100.0</td>\n",
       "      <td>NaN</td>\n",
       "      <td>59.97</td>\n",
       "      <td>59.0</td>\n",
       "      <td>59.97</td>\n",
       "      <td>12.0</td>\n",
       "      <td>100.0</td>\n",
       "    </tr>\n",
       "    <tr>\n",
       "      <th>423</th>\n",
       "      <td>2017</td>\n",
       "      <td>Micronesia</td>\n",
       "      <td>43.973333</td>\n",
       "      <td>NaN</td>\n",
       "      <td>2.64</td>\n",
       "      <td>28.525</td>\n",
       "      <td>70.288333</td>\n",
       "      <td>NaN</td>\n",
       "      <td>43.245</td>\n",
       "      <td>42.506667</td>\n",
       "      <td>...</td>\n",
       "      <td>NaN</td>\n",
       "      <td>NaN</td>\n",
       "      <td>100.0</td>\n",
       "      <td>100.0</td>\n",
       "      <td>NaN</td>\n",
       "      <td>59.97</td>\n",
       "      <td>59.0</td>\n",
       "      <td>59.97</td>\n",
       "      <td>12.0</td>\n",
       "      <td>100.0</td>\n",
       "    </tr>\n",
       "    <tr>\n",
       "      <th>424</th>\n",
       "      <td>2018</td>\n",
       "      <td>Micronesia</td>\n",
       "      <td>44.630000</td>\n",
       "      <td>49.8</td>\n",
       "      <td>0.00</td>\n",
       "      <td>23.030</td>\n",
       "      <td>67.080000</td>\n",
       "      <td>39.76</td>\n",
       "      <td>46.390</td>\n",
       "      <td>48.140000</td>\n",
       "      <td>...</td>\n",
       "      <td>43.070</td>\n",
       "      <td>39.76</td>\n",
       "      <td>100.0</td>\n",
       "      <td>100.0</td>\n",
       "      <td>NaN</td>\n",
       "      <td>59.97</td>\n",
       "      <td>59.0</td>\n",
       "      <td>59.97</td>\n",
       "      <td>12.0</td>\n",
       "      <td>100.0</td>\n",
       "    </tr>\n",
       "    <tr>\n",
       "      <th>425</th>\n",
       "      <td>2019</td>\n",
       "      <td>Micronesia</td>\n",
       "      <td>38.765000</td>\n",
       "      <td>41.4</td>\n",
       "      <td>0.00</td>\n",
       "      <td>21.215</td>\n",
       "      <td>48.040000</td>\n",
       "      <td>19.93</td>\n",
       "      <td>40.945</td>\n",
       "      <td>43.770000</td>\n",
       "      <td>...</td>\n",
       "      <td>38.785</td>\n",
       "      <td>19.93</td>\n",
       "      <td>65.5</td>\n",
       "      <td>100.0</td>\n",
       "      <td>NaN</td>\n",
       "      <td>59.97</td>\n",
       "      <td>59.0</td>\n",
       "      <td>59.97</td>\n",
       "      <td>12.0</td>\n",
       "      <td>100.0</td>\n",
       "    </tr>\n",
       "    <tr>\n",
       "      <th>426</th>\n",
       "      <td>2020</td>\n",
       "      <td>Micronesia</td>\n",
       "      <td>32.900000</td>\n",
       "      <td>33.0</td>\n",
       "      <td>0.00</td>\n",
       "      <td>19.400</td>\n",
       "      <td>29.000000</td>\n",
       "      <td>0.10</td>\n",
       "      <td>35.500</td>\n",
       "      <td>39.400000</td>\n",
       "      <td>...</td>\n",
       "      <td>34.500</td>\n",
       "      <td>0.10</td>\n",
       "      <td>31.0</td>\n",
       "      <td>100.0</td>\n",
       "      <td>NaN</td>\n",
       "      <td>59.97</td>\n",
       "      <td>59.0</td>\n",
       "      <td>59.97</td>\n",
       "      <td>12.0</td>\n",
       "      <td>100.0</td>\n",
       "    </tr>\n",
       "  </tbody>\n",
       "</table>\n",
       "<p>9 rows × 26 columns</p>\n",
       "</div>"
      ],
      "text/plain": [
       "     date country_name  Unsafe drinking water  \\\n",
       "418  2012   Micronesia              40.690000   \n",
       "419  2013   Micronesia              41.346667   \n",
       "420  2014   Micronesia              42.003333   \n",
       "421  2015   Micronesia              42.660000   \n",
       "422  2016   Micronesia              43.316667   \n",
       "423  2017   Micronesia              43.973333   \n",
       "424  2018   Micronesia              44.630000   \n",
       "425  2019   Micronesia              38.765000   \n",
       "426  2020   Micronesia              32.900000   \n",
       "\n",
       "     Environmental Performance Index  Fish Stock Status  Agriculture  \\\n",
       "418                              NaN              15.84       56.000   \n",
       "419                              NaN              13.20       50.505   \n",
       "420                              NaN              10.56       45.010   \n",
       "421                              NaN               7.92       39.515   \n",
       "422                              NaN               5.28       34.020   \n",
       "423                              NaN               2.64       28.525   \n",
       "424                             49.8               0.00       23.030   \n",
       "425                             41.4               0.00       21.215   \n",
       "426                             33.0               0.00       19.400   \n",
       "\n",
       "     Air Quality  Wastewater Treatment  Sanitation & Drinking Water  \\\n",
       "418    86.330000                   NaN                       27.520   \n",
       "419    83.121667                   NaN                       30.665   \n",
       "420    79.913333                   NaN                       33.810   \n",
       "421    76.705000                   NaN                       36.955   \n",
       "422    73.496667                   NaN                       40.100   \n",
       "423    70.288333                   NaN                       43.245   \n",
       "424    67.080000                 39.76                       46.390   \n",
       "425    48.040000                 19.93                       40.945   \n",
       "426    29.000000                  0.10                       35.500   \n",
       "\n",
       "     Unsafe sanitation  ...  Ecosystem Vitality  Water Resources  \\\n",
       "418          14.340000  ...                 NaN              NaN   \n",
       "419          19.973333  ...                 NaN              NaN   \n",
       "420          25.606667  ...                 NaN              NaN   \n",
       "421          31.240000  ...                 NaN              NaN   \n",
       "422          36.873333  ...                 NaN              NaN   \n",
       "423          42.506667  ...                 NaN              NaN   \n",
       "424          48.140000  ...              43.070            39.76   \n",
       "425          43.770000  ...              38.785            19.93   \n",
       "426          39.400000  ...              34.500             0.10   \n",
       "\n",
       "     PM2.5 Exposure  PM2.5 Exceedance  Access to Electricity  Health Impacts  \\\n",
       "418           100.0             100.0                    NaN           59.97   \n",
       "419           100.0             100.0                    NaN           59.97   \n",
       "420           100.0             100.0                    NaN           59.97   \n",
       "421           100.0             100.0                    NaN           59.97   \n",
       "422           100.0             100.0                    NaN           59.97   \n",
       "423           100.0             100.0                    NaN           59.97   \n",
       "424           100.0             100.0                    NaN           59.97   \n",
       "425            65.5             100.0                    NaN           59.97   \n",
       "426            31.0             100.0                    NaN           59.97   \n",
       "\n",
       "     Household Air Quality  Child Mortality  Pesticide Regulation  \\\n",
       "418                   59.0            59.97                  12.0   \n",
       "419                   59.0            59.97                  12.0   \n",
       "420                   59.0            59.97                  12.0   \n",
       "421                   59.0            59.97                  12.0   \n",
       "422                   59.0            59.97                  12.0   \n",
       "423                   59.0            59.97                  12.0   \n",
       "424                   59.0            59.97                  12.0   \n",
       "425                   59.0            59.97                  12.0   \n",
       "426                   59.0            59.97                  12.0   \n",
       "\n",
       "     Agricultural Subsidies  \n",
       "418                   100.0  \n",
       "419                   100.0  \n",
       "420                   100.0  \n",
       "421                   100.0  \n",
       "422                   100.0  \n",
       "423                   100.0  \n",
       "424                   100.0  \n",
       "425                   100.0  \n",
       "426                   100.0  \n",
       "\n",
       "[9 rows x 26 columns]"
      ]
     },
     "execution_count": 60,
     "metadata": {},
     "output_type": "execute_result"
    }
   ],
   "source": [
    "epi[epi['country_name'] == 'Micronesia'].head(50)"
   ]
  },
  {
   "cell_type": "code",
   "execution_count": null,
   "metadata": {},
   "outputs": [],
   "source": []
  },
  {
   "cell_type": "code",
   "execution_count": null,
   "metadata": {},
   "outputs": [],
   "source": []
  },
  {
   "cell_type": "code",
   "execution_count": null,
   "metadata": {},
   "outputs": [],
   "source": []
  },
  {
   "cell_type": "code",
   "execution_count": null,
   "metadata": {},
   "outputs": [],
   "source": []
  },
  {
   "cell_type": "code",
   "execution_count": null,
   "metadata": {},
   "outputs": [],
   "source": []
  },
  {
   "cell_type": "code",
   "execution_count": 66,
   "metadata": {
    "ExecuteTime": {
     "end_time": "2021-05-13T16:40:51.316288Z",
     "start_time": "2021-05-13T16:40:51.302275Z"
    }
   },
   "outputs": [
    {
     "data": {
      "text/plain": [
       "['Equatorial Guinea',\n",
       " 'Saudi Arabia',\n",
       " 'Bahamas',\n",
       " 'Barbados',\n",
       " 'Mauritius',\n",
       " 'Djibouti',\n",
       " 'Singapore',\n",
       " 'Kuwait',\n",
       " 'Trinidad and Tobago',\n",
       " 'Qatar',\n",
       " 'Panama',\n",
       " 'Jordan',\n",
       " 'Botswana',\n",
       " 'Bahrain',\n",
       " 'Seychelles',\n",
       " 'Antigua and Barbuda',\n",
       " 'Gabon',\n",
       " 'Oman',\n",
       " 'Brunei Darussalam',\n",
       " 'United Arab Emirates',\n",
       " 'Republic of Congo',\n",
       " 'Cuba',\n",
       " 'Libya',\n",
       " 'Palau']"
      ]
     },
     "execution_count": 66,
     "metadata": {},
     "output_type": "execute_result"
    }
   ],
   "source": [
    "ag_countries"
   ]
  },
  {
   "cell_type": "code",
   "execution_count": null,
   "metadata": {},
   "outputs": [],
   "source": []
  },
  {
   "cell_type": "code",
   "execution_count": 62,
   "metadata": {
    "ExecuteTime": {
     "end_time": "2021-05-13T16:37:03.658116Z",
     "start_time": "2021-05-13T16:37:03.631093Z"
    }
   },
   "outputs": [],
   "source": [
    "regional = pd.read_csv(\"../data/EPI_data/epi2020resultsregions20200604.csv\")"
   ]
  },
  {
   "cell_type": "code",
   "execution_count": 89,
   "metadata": {
    "ExecuteTime": {
     "end_time": "2021-05-13T16:51:58.510263Z",
     "start_time": "2021-05-13T16:51:58.502257Z"
    }
   },
   "outputs": [],
   "source": [
    "regional_means = regional[[ 'country','AGR.rgn.mean']]"
   ]
  },
  {
   "cell_type": "code",
   "execution_count": 91,
   "metadata": {
    "ExecuteTime": {
     "end_time": "2021-05-13T16:52:02.406428Z",
     "start_time": "2021-05-13T16:52:02.395419Z"
    }
   },
   "outputs": [],
   "source": [
    "regional_means = regional_means[regional_means['country'].isin(ag_countries)]"
   ]
  },
  {
   "cell_type": "code",
   "execution_count": 92,
   "metadata": {
    "ExecuteTime": {
     "end_time": "2021-05-13T16:52:02.886019Z",
     "start_time": "2021-05-13T16:52:02.871006Z"
    }
   },
   "outputs": [
    {
     "data": {
      "text/html": [
       "<div>\n",
       "<style scoped>\n",
       "    .dataframe tbody tr th:only-of-type {\n",
       "        vertical-align: middle;\n",
       "    }\n",
       "\n",
       "    .dataframe tbody tr th {\n",
       "        vertical-align: top;\n",
       "    }\n",
       "\n",
       "    .dataframe thead th {\n",
       "        text-align: right;\n",
       "    }\n",
       "</style>\n",
       "<table border=\"1\" class=\"dataframe\">\n",
       "  <thead>\n",
       "    <tr style=\"text-align: right;\">\n",
       "      <th></th>\n",
       "      <th>country</th>\n",
       "      <th>AGR.rgn.mean</th>\n",
       "    </tr>\n",
       "  </thead>\n",
       "  <tbody>\n",
       "    <tr>\n",
       "      <th>3</th>\n",
       "      <td>United Arab Emirates</td>\n",
       "      <td>36.512500</td>\n",
       "    </tr>\n",
       "    <tr>\n",
       "      <th>6</th>\n",
       "      <td>Antigua and Barbuda</td>\n",
       "      <td>32.653125</td>\n",
       "    </tr>\n",
       "    <tr>\n",
       "      <th>16</th>\n",
       "      <td>Bahrain</td>\n",
       "      <td>36.512500</td>\n",
       "    </tr>\n",
       "    <tr>\n",
       "      <th>17</th>\n",
       "      <td>Bahamas</td>\n",
       "      <td>32.653125</td>\n",
       "    </tr>\n",
       "    <tr>\n",
       "      <th>23</th>\n",
       "      <td>Barbados</td>\n",
       "      <td>32.653125</td>\n",
       "    </tr>\n",
       "    <tr>\n",
       "      <th>24</th>\n",
       "      <td>Brunei Darussalam</td>\n",
       "      <td>35.940000</td>\n",
       "    </tr>\n",
       "    <tr>\n",
       "      <th>26</th>\n",
       "      <td>Botswana</td>\n",
       "      <td>32.882609</td>\n",
       "    </tr>\n",
       "    <tr>\n",
       "      <th>35</th>\n",
       "      <td>Republic of Congo</td>\n",
       "      <td>32.882609</td>\n",
       "    </tr>\n",
       "    <tr>\n",
       "      <th>40</th>\n",
       "      <td>Cuba</td>\n",
       "      <td>32.653125</td>\n",
       "    </tr>\n",
       "    <tr>\n",
       "      <th>44</th>\n",
       "      <td>Djibouti</td>\n",
       "      <td>32.882609</td>\n",
       "    </tr>\n",
       "    <tr>\n",
       "      <th>59</th>\n",
       "      <td>Gabon</td>\n",
       "      <td>32.882609</td>\n",
       "    </tr>\n",
       "    <tr>\n",
       "      <th>66</th>\n",
       "      <td>Equatorial Guinea</td>\n",
       "      <td>32.882609</td>\n",
       "    </tr>\n",
       "    <tr>\n",
       "      <th>84</th>\n",
       "      <td>Jordan</td>\n",
       "      <td>36.512500</td>\n",
       "    </tr>\n",
       "    <tr>\n",
       "      <th>92</th>\n",
       "      <td>Kuwait</td>\n",
       "      <td>36.512500</td>\n",
       "    </tr>\n",
       "    <tr>\n",
       "      <th>116</th>\n",
       "      <td>Mauritius</td>\n",
       "      <td>32.882609</td>\n",
       "    </tr>\n",
       "    <tr>\n",
       "      <th>127</th>\n",
       "      <td>Oman</td>\n",
       "      <td>36.512500</td>\n",
       "    </tr>\n",
       "    <tr>\n",
       "      <th>129</th>\n",
       "      <td>Panama</td>\n",
       "      <td>32.653125</td>\n",
       "    </tr>\n",
       "    <tr>\n",
       "      <th>136</th>\n",
       "      <td>Qatar</td>\n",
       "      <td>36.512500</td>\n",
       "    </tr>\n",
       "    <tr>\n",
       "      <th>140</th>\n",
       "      <td>Saudi Arabia</td>\n",
       "      <td>36.512500</td>\n",
       "    </tr>\n",
       "    <tr>\n",
       "      <th>143</th>\n",
       "      <td>Singapore</td>\n",
       "      <td>35.940000</td>\n",
       "    </tr>\n",
       "    <tr>\n",
       "      <th>154</th>\n",
       "      <td>Seychelles</td>\n",
       "      <td>32.882609</td>\n",
       "    </tr>\n",
       "    <tr>\n",
       "      <th>162</th>\n",
       "      <td>Trinidad and Tobago</td>\n",
       "      <td>32.653125</td>\n",
       "    </tr>\n",
       "  </tbody>\n",
       "</table>\n",
       "</div>"
      ],
      "text/plain": [
       "                  country  AGR.rgn.mean\n",
       "3    United Arab Emirates     36.512500\n",
       "6     Antigua and Barbuda     32.653125\n",
       "16                Bahrain     36.512500\n",
       "17                Bahamas     32.653125\n",
       "23               Barbados     32.653125\n",
       "24      Brunei Darussalam     35.940000\n",
       "26               Botswana     32.882609\n",
       "35      Republic of Congo     32.882609\n",
       "40                   Cuba     32.653125\n",
       "44               Djibouti     32.882609\n",
       "59                  Gabon     32.882609\n",
       "66      Equatorial Guinea     32.882609\n",
       "84                 Jordan     36.512500\n",
       "92                 Kuwait     36.512500\n",
       "116             Mauritius     32.882609\n",
       "127                  Oman     36.512500\n",
       "129                Panama     32.653125\n",
       "136                 Qatar     36.512500\n",
       "140          Saudi Arabia     36.512500\n",
       "143             Singapore     35.940000\n",
       "154            Seychelles     32.882609\n",
       "162   Trinidad and Tobago     32.653125"
      ]
     },
     "execution_count": 92,
     "metadata": {},
     "output_type": "execute_result"
    }
   ],
   "source": [
    "regional_means"
   ]
  },
  {
   "cell_type": "code",
   "execution_count": null,
   "metadata": {},
   "outputs": [],
   "source": []
  },
  {
   "cell_type": "code",
   "execution_count": null,
   "metadata": {},
   "outputs": [],
   "source": []
  },
  {
   "cell_type": "code",
   "execution_count": null,
   "metadata": {},
   "outputs": [],
   "source": [
    "pd.DataFrame(regional.loc[regional['country'].isin(ag_countries), 'AGR.rgn.mean'])"
   ]
  },
  {
   "cell_type": "code",
   "execution_count": null,
   "metadata": {},
   "outputs": [],
   "source": []
  },
  {
   "cell_type": "code",
   "execution_count": 70,
   "metadata": {
    "ExecuteTime": {
     "end_time": "2021-05-13T16:42:47.832623Z",
     "start_time": "2021-05-13T16:42:47.819612Z"
    }
   },
   "outputs": [
    {
     "data": {
      "text/plain": [
       "Index(['code', 'iso', 'country', 'region', 'EPI.new', 'HLT.new', 'AIR.new',\n",
       "       'PMD.new', 'HAD.new', 'OZD.new',\n",
       "       ...\n",
       "       'NXA.rgn.mean', 'NXA.rgn.rank', 'AGR.rgn.mean', 'AGR.rgn.rank',\n",
       "       'SNM.rgn.mean', 'SNM.rgn.rank', 'WRS.rgn.mean', 'WRS.rgn.rank',\n",
       "       'WWT.rgn.mean', 'WWT.rgn.rank'],\n",
       "      dtype='object', length=142)"
      ]
     },
     "execution_count": 70,
     "metadata": {},
     "output_type": "execute_result"
    }
   ],
   "source": [
    "regional.columns"
   ]
  },
  {
   "cell_type": "code",
   "execution_count": 67,
   "metadata": {
    "ExecuteTime": {
     "end_time": "2021-05-13T16:41:27.507354Z",
     "start_time": "2021-05-13T16:41:27.486309Z"
    }
   },
   "outputs": [
    {
     "data": {
      "text/html": [
       "<div>\n",
       "<style scoped>\n",
       "    .dataframe tbody tr th:only-of-type {\n",
       "        vertical-align: middle;\n",
       "    }\n",
       "\n",
       "    .dataframe tbody tr th {\n",
       "        vertical-align: top;\n",
       "    }\n",
       "\n",
       "    .dataframe thead th {\n",
       "        text-align: right;\n",
       "    }\n",
       "</style>\n",
       "<table border=\"1\" class=\"dataframe\">\n",
       "  <thead>\n",
       "    <tr style=\"text-align: right;\">\n",
       "      <th></th>\n",
       "      <th>code</th>\n",
       "      <th>iso</th>\n",
       "      <th>country</th>\n",
       "      <th>region</th>\n",
       "      <th>EPI.new</th>\n",
       "      <th>HLT.new</th>\n",
       "      <th>AIR.new</th>\n",
       "      <th>PMD.new</th>\n",
       "      <th>HAD.new</th>\n",
       "      <th>OZD.new</th>\n",
       "      <th>...</th>\n",
       "      <th>NXA.rgn.mean</th>\n",
       "      <th>NXA.rgn.rank</th>\n",
       "      <th>AGR.rgn.mean</th>\n",
       "      <th>AGR.rgn.rank</th>\n",
       "      <th>SNM.rgn.mean</th>\n",
       "      <th>SNM.rgn.rank</th>\n",
       "      <th>WRS.rgn.mean</th>\n",
       "      <th>WRS.rgn.rank</th>\n",
       "      <th>WWT.rgn.mean</th>\n",
       "      <th>WWT.rgn.rank</th>\n",
       "    </tr>\n",
       "  </thead>\n",
       "  <tbody>\n",
       "    <tr>\n",
       "      <th>140</th>\n",
       "      <td>682</td>\n",
       "      <td>SAU</td>\n",
       "      <td>Saudi Arabia</td>\n",
       "      <td>Greater Middle East</td>\n",
       "      <td>44.0</td>\n",
       "      <td>47.2</td>\n",
       "      <td>37.4</td>\n",
       "      <td>10.0</td>\n",
       "      <td>76.2</td>\n",
       "      <td>29.0</td>\n",
       "      <td>...</td>\n",
       "      <td>60.26875</td>\n",
       "      <td>12</td>\n",
       "      <td>36.5125</td>\n",
       "      <td>1</td>\n",
       "      <td>36.5125</td>\n",
       "      <td>1</td>\n",
       "      <td>36.7</td>\n",
       "      <td>13</td>\n",
       "      <td>36.7</td>\n",
       "      <td>13</td>\n",
       "    </tr>\n",
       "  </tbody>\n",
       "</table>\n",
       "<p>1 rows × 142 columns</p>\n",
       "</div>"
      ],
      "text/plain": [
       "     code  iso       country               region  EPI.new  HLT.new  AIR.new  \\\n",
       "140   682  SAU  Saudi Arabia  Greater Middle East     44.0     47.2     37.4   \n",
       "\n",
       "     PMD.new  HAD.new  OZD.new  ...  NXA.rgn.mean  NXA.rgn.rank  AGR.rgn.mean  \\\n",
       "140     10.0     76.2     29.0  ...      60.26875            12       36.5125   \n",
       "\n",
       "     AGR.rgn.rank  SNM.rgn.mean  SNM.rgn.rank  WRS.rgn.mean  WRS.rgn.rank  \\\n",
       "140             1       36.5125             1          36.7            13   \n",
       "\n",
       "     WWT.rgn.mean  WWT.rgn.rank  \n",
       "140          36.7            13  \n",
       "\n",
       "[1 rows x 142 columns]"
      ]
     },
     "execution_count": 67,
     "metadata": {},
     "output_type": "execute_result"
    }
   ],
   "source": [
    "regional[regional['country'] == \"Saudi Arabia\"]"
   ]
  },
  {
   "cell_type": "code",
   "execution_count": 68,
   "metadata": {
    "ExecuteTime": {
     "end_time": "2021-05-13T16:41:56.460704Z",
     "start_time": "2021-05-13T16:41:56.448694Z"
    }
   },
   "outputs": [
    {
     "data": {
      "text/plain": [
       "Sub-Saharan Africa           46\n",
       "Latin America & Caribbean    32\n",
       "Asia-Pacific                 25\n",
       "Global West                  22\n",
       "Eastern Europe               19\n",
       "Greater Middle East          16\n",
       "Former Soviet States         12\n",
       "Southern Asia                 8\n",
       "Name: region, dtype: int64"
      ]
     },
     "execution_count": 68,
     "metadata": {},
     "output_type": "execute_result"
    }
   ],
   "source": [
    "regional['region'].value_counts()"
   ]
  },
  {
   "cell_type": "code",
   "execution_count": null,
   "metadata": {},
   "outputs": [],
   "source": []
  },
  {
   "cell_type": "code",
   "execution_count": null,
   "metadata": {},
   "outputs": [],
   "source": []
  },
  {
   "cell_type": "code",
   "execution_count": null,
   "metadata": {},
   "outputs": [],
   "source": []
  },
  {
   "cell_type": "code",
   "execution_count": null,
   "metadata": {},
   "outputs": [],
   "source": []
  },
  {
   "cell_type": "code",
   "execution_count": null,
   "metadata": {},
   "outputs": [],
   "source": []
  },
  {
   "cell_type": "code",
   "execution_count": 61,
   "metadata": {
    "ExecuteTime": {
     "end_time": "2021-05-13T16:35:16.892942Z",
     "start_time": "2021-05-13T16:35:16.878930Z"
    }
   },
   "outputs": [
    {
     "ename": "SyntaxError",
     "evalue": "invalid syntax (<ipython-input-61-b6379532b430>, line 1)",
     "output_type": "error",
     "traceback": [
      "\u001b[1;36m  File \u001b[1;32m\"<ipython-input-61-b6379532b430>\"\u001b[1;36m, line \u001b[1;32m1\u001b[0m\n\u001b[1;33m    stop error\u001b[0m\n\u001b[1;37m         ^\u001b[0m\n\u001b[1;31mSyntaxError\u001b[0m\u001b[1;31m:\u001b[0m invalid syntax\n"
     ]
    }
   ],
   "source": [
    "stop error"
   ]
  },
  {
   "cell_type": "code",
   "execution_count": null,
   "metadata": {},
   "outputs": [],
   "source": []
  },
  {
   "cell_type": "code",
   "execution_count": null,
   "metadata": {},
   "outputs": [],
   "source": []
  },
  {
   "cell_type": "code",
   "execution_count": null,
   "metadata": {},
   "outputs": [],
   "source": []
  },
  {
   "cell_type": "code",
   "execution_count": null,
   "metadata": {},
   "outputs": [],
   "source": []
  },
  {
   "cell_type": "code",
   "execution_count": null,
   "metadata": {},
   "outputs": [],
   "source": []
  },
  {
   "cell_type": "code",
   "execution_count": null,
   "metadata": {},
   "outputs": [],
   "source": []
  },
  {
   "cell_type": "code",
   "execution_count": null,
   "metadata": {},
   "outputs": [],
   "source": []
  },
  {
   "cell_type": "code",
   "execution_count": null,
   "metadata": {},
   "outputs": [],
   "source": []
  },
  {
   "cell_type": "code",
   "execution_count": null,
   "metadata": {},
   "outputs": [],
   "source": []
  },
  {
   "cell_type": "code",
   "execution_count": null,
   "metadata": {},
   "outputs": [],
   "source": []
  },
  {
   "cell_type": "code",
   "execution_count": null,
   "metadata": {},
   "outputs": [],
   "source": []
  },
  {
   "cell_type": "code",
   "execution_count": null,
   "metadata": {},
   "outputs": [],
   "source": []
  },
  {
   "cell_type": "code",
   "execution_count": null,
   "metadata": {},
   "outputs": [],
   "source": []
  },
  {
   "cell_type": "code",
   "execution_count": null,
   "metadata": {},
   "outputs": [],
   "source": []
  },
  {
   "cell_type": "code",
   "execution_count": null,
   "metadata": {},
   "outputs": [],
   "source": []
  },
  {
   "cell_type": "code",
   "execution_count": null,
   "metadata": {},
   "outputs": [],
   "source": []
  },
  {
   "cell_type": "code",
   "execution_count": null,
   "metadata": {},
   "outputs": [],
   "source": []
  },
  {
   "cell_type": "code",
   "execution_count": null,
   "metadata": {},
   "outputs": [],
   "source": []
  },
  {
   "cell_type": "code",
   "execution_count": null,
   "metadata": {},
   "outputs": [],
   "source": []
  },
  {
   "cell_type": "code",
   "execution_count": null,
   "metadata": {},
   "outputs": [],
   "source": []
  },
  {
   "cell_type": "code",
   "execution_count": null,
   "metadata": {},
   "outputs": [],
   "source": []
  },
  {
   "cell_type": "code",
   "execution_count": null,
   "metadata": {},
   "outputs": [],
   "source": []
  },
  {
   "cell_type": "code",
   "execution_count": null,
   "metadata": {},
   "outputs": [],
   "source": []
  },
  {
   "cell_type": "code",
   "execution_count": null,
   "metadata": {},
   "outputs": [],
   "source": []
  },
  {
   "cell_type": "code",
   "execution_count": null,
   "metadata": {},
   "outputs": [],
   "source": []
  },
  {
   "cell_type": "code",
   "execution_count": null,
   "metadata": {},
   "outputs": [],
   "source": []
  },
  {
   "cell_type": "code",
   "execution_count": null,
   "metadata": {},
   "outputs": [],
   "source": []
  },
  {
   "cell_type": "code",
   "execution_count": null,
   "metadata": {},
   "outputs": [],
   "source": []
  },
  {
   "cell_type": "code",
   "execution_count": null,
   "metadata": {},
   "outputs": [],
   "source": []
  },
  {
   "cell_type": "code",
   "execution_count": null,
   "metadata": {},
   "outputs": [],
   "source": []
  },
  {
   "cell_type": "code",
   "execution_count": null,
   "metadata": {
    "ExecuteTime": {
     "end_time": "2021-05-13T16:35:16.895946Z",
     "start_time": "2021-05-13T16:34:55.313Z"
    }
   },
   "outputs": [],
   "source": [
    "attributes = pd.read_csv('../../project_5/epi2020variableattributes20200604.csv')"
   ]
  },
  {
   "cell_type": "code",
   "execution_count": null,
   "metadata": {},
   "outputs": [],
   "source": []
  },
  {
   "cell_type": "code",
   "execution_count": null,
   "metadata": {},
   "outputs": [],
   "source": []
  },
  {
   "cell_type": "code",
   "execution_count": null,
   "metadata": {},
   "outputs": [],
   "source": []
  },
  {
   "cell_type": "code",
   "execution_count": null,
   "metadata": {},
   "outputs": [],
   "source": []
  },
  {
   "cell_type": "code",
   "execution_count": null,
   "metadata": {},
   "outputs": [],
   "source": []
  },
  {
   "cell_type": "code",
   "execution_count": null,
   "metadata": {},
   "outputs": [],
   "source": []
  },
  {
   "cell_type": "code",
   "execution_count": null,
   "metadata": {},
   "outputs": [],
   "source": []
  },
  {
   "cell_type": "code",
   "execution_count": null,
   "metadata": {},
   "outputs": [],
   "source": []
  },
  {
   "cell_type": "code",
   "execution_count": null,
   "metadata": {},
   "outputs": [],
   "source": []
  },
  {
   "cell_type": "code",
   "execution_count": null,
   "metadata": {},
   "outputs": [],
   "source": []
  },
  {
   "cell_type": "code",
   "execution_count": null,
   "metadata": {},
   "outputs": [],
   "source": []
  },
  {
   "cell_type": "code",
   "execution_count": null,
   "metadata": {},
   "outputs": [],
   "source": []
  },
  {
   "cell_type": "code",
   "execution_count": null,
   "metadata": {},
   "outputs": [],
   "source": []
  },
  {
   "cell_type": "code",
   "execution_count": null,
   "metadata": {},
   "outputs": [],
   "source": []
  },
  {
   "cell_type": "code",
   "execution_count": null,
   "metadata": {},
   "outputs": [],
   "source": []
  },
  {
   "cell_type": "code",
   "execution_count": null,
   "metadata": {},
   "outputs": [],
   "source": []
  },
  {
   "cell_type": "code",
   "execution_count": null,
   "metadata": {},
   "outputs": [],
   "source": []
  },
  {
   "cell_type": "code",
   "execution_count": null,
   "metadata": {
    "ExecuteTime": {
     "end_time": "2021-05-13T16:35:16.917965Z",
     "start_time": "2021-05-13T16:34:55.377Z"
    }
   },
   "outputs": [],
   "source": [
    "nulls = epi_new.isnull().sum().sort_values(ascending =False)\n",
    "nulls[nulls > 0]"
   ]
  },
  {
   "cell_type": "code",
   "execution_count": null,
   "metadata": {
    "ExecuteTime": {
     "end_time": "2021-05-13T16:35:16.918966Z",
     "start_time": "2021-05-13T16:34:55.379Z"
    }
   },
   "outputs": [],
   "source": [
    "s = pd.Series([1,2,3,np.nan,np.nan,np.nan])\n",
    "s"
   ]
  },
  {
   "cell_type": "code",
   "execution_count": null,
   "metadata": {
    "ExecuteTime": {
     "end_time": "2021-05-13T16:35:16.918966Z",
     "start_time": "2021-05-13T16:34:55.381Z"
    }
   },
   "outputs": [],
   "source": [
    "s.interpolate(method='spline', order=1)"
   ]
  },
  {
   "cell_type": "code",
   "execution_count": null,
   "metadata": {},
   "outputs": [],
   "source": []
  }
 ],
 "metadata": {
  "kernelspec": {
   "display_name": "Python 3",
   "language": "python",
   "name": "python3"
  },
  "language_info": {
   "codemirror_mode": {
    "name": "ipython",
    "version": 3
   },
   "file_extension": ".py",
   "mimetype": "text/x-python",
   "name": "python",
   "nbconvert_exporter": "python",
   "pygments_lexer": "ipython3",
   "version": "3.8.5"
  }
 },
 "nbformat": 4,
 "nbformat_minor": 4
}
