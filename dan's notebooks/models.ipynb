{
 "cells": [
  {
   "cell_type": "code",
   "execution_count": 1,
   "metadata": {
    "ExecuteTime": {
     "end_time": "2021-05-17T22:48:23.955641Z",
     "start_time": "2021-05-17T22:48:23.519761Z"
    }
   },
   "outputs": [],
   "source": [
    "import pandas as pd"
   ]
  },
  {
   "cell_type": "code",
   "execution_count": 2,
   "metadata": {
    "ExecuteTime": {
     "end_time": "2021-05-17T22:48:23.970654Z",
     "start_time": "2021-05-17T22:48:23.957643Z"
    }
   },
   "outputs": [],
   "source": [
    "precomputed = ['Ecosystem Vitality', 'Environmental Health', 'Air Quality', 'Sanitation & Drinking Water']"
   ]
  },
  {
   "cell_type": "code",
   "execution_count": 3,
   "metadata": {
    "ExecuteTime": {
     "end_time": "2021-05-17T22:48:24.001677Z",
     "start_time": "2021-05-17T22:48:23.972656Z"
    }
   },
   "outputs": [],
   "source": [
    "df = pd.read_csv('../data/dataframes/epi_cleaned.csv')"
   ]
  },
  {
   "cell_type": "code",
   "execution_count": 4,
   "metadata": {
    "ExecuteTime": {
     "end_time": "2021-05-17T22:48:24.017691Z",
     "start_time": "2021-05-17T22:48:24.002678Z"
    }
   },
   "outputs": [],
   "source": [
    "df.drop(columns='Unnamed: 0', inplace=True)"
   ]
  },
  {
   "cell_type": "code",
   "execution_count": 5,
   "metadata": {
    "ExecuteTime": {
     "end_time": "2021-05-17T22:48:24.033375Z",
     "start_time": "2021-05-17T22:48:24.019693Z"
    }
   },
   "outputs": [],
   "source": [
    "epi_2020 = df[df['year'] == 2020]"
   ]
  },
  {
   "cell_type": "code",
   "execution_count": 6,
   "metadata": {
    "ExecuteTime": {
     "end_time": "2021-05-17T22:48:24.048388Z",
     "start_time": "2021-05-17T22:48:24.034387Z"
    }
   },
   "outputs": [],
   "source": [
    "epi_2020.reset_index(inplace=True)"
   ]
  },
  {
   "cell_type": "code",
   "execution_count": 7,
   "metadata": {
    "ExecuteTime": {
     "end_time": "2021-05-17T22:48:24.063401Z",
     "start_time": "2021-05-17T22:48:24.050390Z"
    }
   },
   "outputs": [],
   "source": [
    "index_list_high = epi_2020['Environmental Performance Index'].sort_values(ascending=False).head(10).index"
   ]
  },
  {
   "cell_type": "code",
   "execution_count": 8,
   "metadata": {
    "ExecuteTime": {
     "end_time": "2021-05-17T22:48:24.079416Z",
     "start_time": "2021-05-17T22:48:24.065403Z"
    }
   },
   "outputs": [
    {
     "data": {
      "text/plain": [
       "'Denmark'"
      ]
     },
     "execution_count": 8,
     "metadata": {},
     "output_type": "execute_result"
    }
   ],
   "source": [
    "epi_2020.loc[158, 'country_name']"
   ]
  },
  {
   "cell_type": "code",
   "execution_count": 9,
   "metadata": {
    "ExecuteTime": {
     "end_time": "2021-05-17T22:48:24.095430Z",
     "start_time": "2021-05-17T22:48:24.080417Z"
    }
   },
   "outputs": [],
   "source": [
    "top_country_list = []\n",
    "for index in index_list_high:\n",
    "    top_country_list.append(epi_2020.loc[index, 'country_name'])"
   ]
  },
  {
   "cell_type": "code",
   "execution_count": 10,
   "metadata": {
    "ExecuteTime": {
     "end_time": "2021-05-17T22:48:24.111455Z",
     "start_time": "2021-05-17T22:48:24.097432Z"
    }
   },
   "outputs": [
    {
     "data": {
      "text/plain": [
       "['Denmark',\n",
       " 'Luxembourg',\n",
       " 'Switzerland',\n",
       " 'United Kingdom',\n",
       " 'France',\n",
       " 'Austria',\n",
       " 'Finland',\n",
       " 'Sweden',\n",
       " 'Norway',\n",
       " 'Germany']"
      ]
     },
     "execution_count": 10,
     "metadata": {},
     "output_type": "execute_result"
    }
   ],
   "source": [
    "top_country_list"
   ]
  },
  {
   "cell_type": "code",
   "execution_count": 11,
   "metadata": {
    "ExecuteTime": {
     "end_time": "2021-05-17T22:48:24.127460Z",
     "start_time": "2021-05-17T22:48:24.113446Z"
    }
   },
   "outputs": [],
   "source": [
    "index_list_low = epi_2020['Environmental Performance Index'].sort_values(ascending=False).tail(10).index"
   ]
  },
  {
   "cell_type": "code",
   "execution_count": 12,
   "metadata": {
    "ExecuteTime": {
     "end_time": "2021-05-17T22:48:24.143473Z",
     "start_time": "2021-05-17T22:48:24.130461Z"
    }
   },
   "outputs": [
    {
     "data": {
      "text/plain": [
       "Int64Index([141, 44, 16, 19, 170, 118, 24, 96, 52, 103], dtype='int64')"
      ]
     },
     "execution_count": 12,
     "metadata": {},
     "output_type": "execute_result"
    }
   ],
   "source": [
    "index_list_low"
   ]
  },
  {
   "cell_type": "code",
   "execution_count": 13,
   "metadata": {
    "ExecuteTime": {
     "end_time": "2021-05-17T22:48:24.159489Z",
     "start_time": "2021-05-17T22:48:24.145475Z"
    }
   },
   "outputs": [],
   "source": [
    "bot_country_list = []\n",
    "for index in index_list_low:\n",
    "    bot_country_list.append(epi_2020.loc[index, 'country_name'])"
   ]
  },
  {
   "cell_type": "code",
   "execution_count": 14,
   "metadata": {
    "ExecuteTime": {
     "end_time": "2021-05-17T22:48:24.174499Z",
     "start_time": "2021-05-17T22:48:24.161489Z"
    }
   },
   "outputs": [
    {
     "data": {
      "text/plain": [
       "['Burundi',\n",
       " 'Chad',\n",
       " 'Solomon Islands',\n",
       " 'Madagascar',\n",
       " 'Guinea',\n",
       " \"Cote d'Ivoire\",\n",
       " 'Sierra Leone',\n",
       " 'Afghanistan',\n",
       " 'Myanmar',\n",
       " 'Liberia']"
      ]
     },
     "execution_count": 14,
     "metadata": {},
     "output_type": "execute_result"
    }
   ],
   "source": [
    "bot_country_list"
   ]
  },
  {
   "cell_type": "code",
   "execution_count": 17,
   "metadata": {
    "ExecuteTime": {
     "end_time": "2021-05-17T23:00:46.294342Z",
     "start_time": "2021-05-17T23:00:46.281330Z"
    }
   },
   "outputs": [
    {
     "ename": "ValueError",
     "evalue": "The truth value of a Series is ambiguous. Use a.empty, a.bool(), a.item(), a.any() or a.all().",
     "output_type": "error",
     "traceback": [
      "\u001b[1;31m---------------------------------------------------------------------------\u001b[0m",
      "\u001b[1;31mValueError\u001b[0m                                Traceback (most recent call last)",
      "\u001b[1;32m<ipython-input-17-f8a173ad0416>\u001b[0m in \u001b[0;36m<module>\u001b[1;34m\u001b[0m\n\u001b[1;32m----> 1\u001b[1;33m \u001b[0mepi_2020\u001b[0m\u001b[1;33m[\u001b[0m\u001b[0mepi_2020\u001b[0m\u001b[1;33m[\u001b[0m\u001b[1;34m'country_name'\u001b[0m\u001b[1;33m]\u001b[0m \u001b[1;32min\u001b[0m \u001b[0mtop_country_list\u001b[0m\u001b[1;33m]\u001b[0m\u001b[1;33m\u001b[0m\u001b[1;33m\u001b[0m\u001b[0m\n\u001b[0m",
      "\u001b[1;32m~\\anaconda3secondinstall\\lib\\site-packages\\pandas\\core\\generic.py\u001b[0m in \u001b[0;36m__nonzero__\u001b[1;34m(self)\u001b[0m\n\u001b[0;32m   1327\u001b[0m \u001b[1;33m\u001b[0m\u001b[0m\n\u001b[0;32m   1328\u001b[0m     \u001b[1;32mdef\u001b[0m \u001b[0m__nonzero__\u001b[0m\u001b[1;33m(\u001b[0m\u001b[0mself\u001b[0m\u001b[1;33m)\u001b[0m\u001b[1;33m:\u001b[0m\u001b[1;33m\u001b[0m\u001b[1;33m\u001b[0m\u001b[0m\n\u001b[1;32m-> 1329\u001b[1;33m         raise ValueError(\n\u001b[0m\u001b[0;32m   1330\u001b[0m             \u001b[1;34mf\"The truth value of a {type(self).__name__} is ambiguous. \"\u001b[0m\u001b[1;33m\u001b[0m\u001b[1;33m\u001b[0m\u001b[0m\n\u001b[0;32m   1331\u001b[0m             \u001b[1;34m\"Use a.empty, a.bool(), a.item(), a.any() or a.all().\"\u001b[0m\u001b[1;33m\u001b[0m\u001b[1;33m\u001b[0m\u001b[0m\n",
      "\u001b[1;31mValueError\u001b[0m: The truth value of a Series is ambiguous. Use a.empty, a.bool(), a.item(), a.any() or a.all()."
     ]
    }
   ],
   "source": [
    "epi_2020[epi_2020['country_name'] in top_country_list]\n"
   ]
  },
  {
   "cell_type": "code",
   "execution_count": null,
   "metadata": {},
   "outputs": [],
   "source": []
  }
 ],
 "metadata": {
  "kernelspec": {
   "display_name": "Python 3",
   "language": "python",
   "name": "python3"
  },
  "language_info": {
   "codemirror_mode": {
    "name": "ipython",
    "version": 3
   },
   "file_extension": ".py",
   "mimetype": "text/x-python",
   "name": "python",
   "nbconvert_exporter": "python",
   "pygments_lexer": "ipython3",
   "version": "3.8.5"
  }
 },
 "nbformat": 4,
 "nbformat_minor": 4
}
