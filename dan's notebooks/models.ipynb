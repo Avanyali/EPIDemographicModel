{
 "cells": [
  {
   "cell_type": "code",
   "execution_count": 1,
   "metadata": {
    "ExecuteTime": {
     "end_time": "2021-05-17T17:25:41.887840Z",
     "start_time": "2021-05-17T17:25:41.419754Z"
    }
   },
   "outputs": [],
   "source": [
    "import pandas as pd"
   ]
  },
  {
   "cell_type": "code",
   "execution_count": 2,
   "metadata": {
    "ExecuteTime": {
     "end_time": "2021-05-17T17:25:41.903512Z",
     "start_time": "2021-05-17T17:25:41.889833Z"
    }
   },
   "outputs": [],
   "source": [
    "precomputed = ['Ecosystem Vitality', 'Environmental Health', 'Air Quality', 'Sanitation & Drinking Water']"
   ]
  },
  {
   "cell_type": "code",
   "execution_count": 3,
   "metadata": {
    "ExecuteTime": {
     "end_time": "2021-05-17T17:25:41.933531Z",
     "start_time": "2021-05-17T17:25:41.906515Z"
    }
   },
   "outputs": [],
   "source": [
    "df = pd.read_csv('../data/dataframes/epi_cleaned.csv')"
   ]
  },
  {
   "cell_type": "code",
   "execution_count": 4,
   "metadata": {
    "ExecuteTime": {
     "end_time": "2021-05-17T17:25:41.948545Z",
     "start_time": "2021-05-17T17:25:41.934532Z"
    }
   },
   "outputs": [],
   "source": [
    "df.drop(columns='Unnamed: 0', inplace=True)"
   ]
  },
  {
   "cell_type": "code",
   "execution_count": 5,
   "metadata": {
    "ExecuteTime": {
     "end_time": "2021-05-17T17:25:41.978743Z",
     "start_time": "2021-05-17T17:25:41.949547Z"
    }
   },
   "outputs": [],
   "source": [
    "epi_2020 = df[df['year'] == 2020]"
   ]
  },
  {
   "cell_type": "code",
   "execution_count": 6,
   "metadata": {
    "ExecuteTime": {
     "end_time": "2021-05-17T17:25:41.994757Z",
     "start_time": "2021-05-17T17:25:41.980745Z"
    }
   },
   "outputs": [],
   "source": [
    "epi_2020.reset_index(inplace=True)"
   ]
  },
  {
   "cell_type": "code",
   "execution_count": 7,
   "metadata": {
    "ExecuteTime": {
     "end_time": "2021-05-17T17:25:42.010045Z",
     "start_time": "2021-05-17T17:25:41.996759Z"
    }
   },
   "outputs": [],
   "source": [
    "index_list_high = epi_2020['Environmental Performance Index'].sort_values(ascending=False).head(10).index"
   ]
  },
  {
   "cell_type": "code",
   "execution_count": 8,
   "metadata": {
    "ExecuteTime": {
     "end_time": "2021-05-17T17:25:42.026059Z",
     "start_time": "2021-05-17T17:25:42.012047Z"
    }
   },
   "outputs": [
    {
     "data": {
      "text/plain": [
       "'Denmark'"
      ]
     },
     "execution_count": 8,
     "metadata": {},
     "output_type": "execute_result"
    }
   ],
   "source": [
    "epi_2020.loc[158, 'country_name']"
   ]
  },
  {
   "cell_type": "code",
   "execution_count": 9,
   "metadata": {
    "ExecuteTime": {
     "end_time": "2021-05-17T17:25:42.042073Z",
     "start_time": "2021-05-17T17:25:42.028061Z"
    }
   },
   "outputs": [],
   "source": [
    "top_country_list = []\n",
    "for index in index_list_high:\n",
    "    top_country_list.append(epi_2020.loc[index, 'country_name'])"
   ]
  },
  {
   "cell_type": "code",
   "execution_count": 10,
   "metadata": {
    "ExecuteTime": {
     "end_time": "2021-05-17T17:25:42.056843Z",
     "start_time": "2021-05-17T17:25:42.044076Z"
    }
   },
   "outputs": [
    {
     "data": {
      "text/plain": [
       "['Denmark',\n",
       " 'Luxembourg',\n",
       " 'Switzerland',\n",
       " 'United Kingdom',\n",
       " 'France',\n",
       " 'Austria',\n",
       " 'Finland',\n",
       " 'Sweden',\n",
       " 'Norway',\n",
       " 'Germany']"
      ]
     },
     "execution_count": 10,
     "metadata": {},
     "output_type": "execute_result"
    }
   ],
   "source": [
    "top_country_list"
   ]
  },
  {
   "cell_type": "code",
   "execution_count": 11,
   "metadata": {
    "ExecuteTime": {
     "end_time": "2021-05-17T17:25:42.072040Z",
     "start_time": "2021-05-17T17:25:42.057834Z"
    }
   },
   "outputs": [],
   "source": [
    "index_list_low = epi_2020['Environmental Performance Index'].sort_values(ascending=False).tail(10).index"
   ]
  },
  {
   "cell_type": "code",
   "execution_count": 12,
   "metadata": {
    "ExecuteTime": {
     "end_time": "2021-05-17T17:25:42.088053Z",
     "start_time": "2021-05-17T17:25:42.073041Z"
    }
   },
   "outputs": [
    {
     "data": {
      "text/plain": [
       "Int64Index([141, 44, 16, 19, 170, 118, 24, 96, 52, 103], dtype='int64')"
      ]
     },
     "execution_count": 12,
     "metadata": {},
     "output_type": "execute_result"
    }
   ],
   "source": [
    "index_list_low"
   ]
  },
  {
   "cell_type": "code",
   "execution_count": 13,
   "metadata": {
    "ExecuteTime": {
     "end_time": "2021-05-17T17:25:42.103613Z",
     "start_time": "2021-05-17T17:25:42.090055Z"
    }
   },
   "outputs": [],
   "source": [
    "bot_country_list = []\n",
    "for index in index_list_low:\n",
    "    bot_country_list.append(epi_2020.loc[index, 'country_name'])"
   ]
  },
  {
   "cell_type": "code",
   "execution_count": 14,
   "metadata": {
    "ExecuteTime": {
     "end_time": "2021-05-17T17:25:42.118637Z",
     "start_time": "2021-05-17T17:25:42.104614Z"
    }
   },
   "outputs": [
    {
     "data": {
      "text/plain": [
       "['Burundi',\n",
       " 'Chad',\n",
       " 'Solomon Islands',\n",
       " 'Madagascar',\n",
       " 'Guinea',\n",
       " \"Cote d'Ivoire\",\n",
       " 'Sierra Leone',\n",
       " 'Afghanistan',\n",
       " 'Myanmar',\n",
       " 'Liberia']"
      ]
     },
     "execution_count": 14,
     "metadata": {},
     "output_type": "execute_result"
    }
   ],
   "source": [
    "bot_country_list"
   ]
  },
  {
   "cell_type": "code",
   "execution_count": null,
   "metadata": {},
   "outputs": [],
   "source": []
  }
 ],
 "metadata": {
  "kernelspec": {
   "display_name": "Python 3",
   "language": "python",
   "name": "python3"
  },
  "language_info": {
   "codemirror_mode": {
    "name": "ipython",
    "version": 3
   },
   "file_extension": ".py",
   "mimetype": "text/x-python",
   "name": "python",
   "nbconvert_exporter": "python",
   "pygments_lexer": "ipython3",
   "version": "3.8.5"
  }
 },
 "nbformat": 4,
 "nbformat_minor": 4
}
